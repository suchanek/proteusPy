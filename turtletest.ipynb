{
 "cells": [
  {
   "cell_type": "code",
   "execution_count": null,
   "metadata": {},
   "outputs": [],
   "source": [
    "# Testing the 3D Turtle\n",
    "# Author: Eric G. Suchanek, PhD\n"
   ]
  },
  {
   "cell_type": "code",
   "execution_count": 7,
   "metadata": {},
   "outputs": [
    {
     "name": "stdout",
     "output_type": "stream",
     "text": [
      "<Turtle: EGS\n",
      " Position: [ 0.53       -2.16506351 -0.75      ],\n",
      " Heading: [-0.5        -1.08253175 -0.375     ] \n",
      " Left: [0.4330127  1.5625     0.54126588] \n",
      " Up: [-0.        -0.8660254 -0.5      ]\n",
      " Pen: Down \n",
      " Recording: False>\n",
      "<Turtle: Test\n",
      " Position: [ 0.53       -2.16506351 -0.75      ],\n",
      " Heading: [-0.5        -1.08253175 -0.375     ] \n",
      " Left: [0.4330127  1.5625     0.54126588] \n",
      " Up: [-0.        -0.8660254 -0.5      ]\n",
      " Pen: Down \n",
      " Recording: False>\n"
     ]
    },
    {
     "data": {
      "text/plain": [
       "<Turtle: Test\n",
       " Position: [0. 0. 0.],\n",
       " Heading: [1. 0. 0.] \n",
       " Left: [0. 1. 0.] \n",
       " Up: [0. 0. 1.]\n",
       " Pen: Down \n",
       " Recording: False>"
      ]
     },
     "execution_count": 7,
     "metadata": {},
     "output_type": "execute_result"
    }
   ],
   "source": [
    "import numpy\n",
    "from Turtle3D import Turtle3D\n",
    "turt = Turtle3D('EGS')\n",
    "turt.move(1.53)\n",
    "turt.roll(120)\n",
    "turt.yaw(60)\n",
    "turt.move(2)\n",
    "print(turt)\n",
    "turt2 = Turtle3D('Test')\n",
    "turt2.copy_coords(turt)\n",
    "print(turt2)\n",
    "turt2.reset()\n",
    "turt2"
   ]
  },
  {
   "cell_type": "code",
   "execution_count": 8,
   "metadata": {},
   "outputs": [
    {
     "data": {
      "text/plain": [
       "<Turtle: EGS\n",
       " Position: [ -6.19334957 -19.35054399  -7.56925047],\n",
       " Heading: [-0.17233496 -0.63601629 -0.30692505] \n",
       " Left: [0.19408638 0.49610209 0.1968548 ] \n",
       " Up: [-0.30618622 -1.71722678 -0.73628616]\n",
       " Pen: Down \n",
       " Recording: False>"
      ]
     },
     "execution_count": 8,
     "metadata": {},
     "output_type": "execute_result"
    }
   ],
   "source": [
    "gc = numpy.array((10, 20, 30), \"d\")\n",
    "turt.move(10)\n",
    "turt.roll(45)\n",
    "turt.yaw(120)\n",
    "turt.move(10)\n",
    "turt"
   ]
  },
  {
   "cell_type": "code",
   "execution_count": 9,
   "metadata": {},
   "outputs": [
    {
     "data": {
      "text/plain": [
       "array([ -39.34921131,   30.06048321, -100.19370773])"
      ]
     },
     "execution_count": 9,
     "metadata": {},
     "output_type": "execute_result"
    }
   ],
   "source": [
    "myloc = turt.to_local(gc)\n",
    "myloc"
   ]
  },
  {
   "cell_type": "code",
   "execution_count": 10,
   "metadata": {},
   "outputs": [
    {
     "data": {
      "text/plain": [
       "<Turtle: EGS\n",
       " Position: [ -6.19334957 -19.35054399  -7.56925047],\n",
       " Heading: [-0.17233496 -0.63601629 -0.30692505] \n",
       " Left: [0.19408638 0.49610209 0.1968548 ] \n",
       " Up: [-0.30618622 -1.71722678 -0.73628616]\n",
       " Pen: Down \n",
       " Recording: False>"
      ]
     },
     "execution_count": 10,
     "metadata": {},
     "output_type": "execute_result"
    }
   ],
   "source": [
    "turt"
   ]
  },
  {
   "cell_type": "code",
   "execution_count": 11,
   "metadata": {},
   "outputs": [
    {
     "data": {
      "text/plain": [
       "<Turtle: EGS\n",
       " Position: [0. 0. 0.],\n",
       " Heading: [1. 0. 0.] \n",
       " Left: [0. 1. 0.] \n",
       " Up: [0. 0. 1.]\n",
       " Pen: Down \n",
       " Recording: False>"
      ]
     },
     "execution_count": 11,
     "metadata": {},
     "output_type": "execute_result"
    }
   ],
   "source": [
    "turt.reset()\n",
    "turt"
   ]
  },
  {
   "cell_type": "code",
   "execution_count": 12,
   "metadata": {},
   "outputs": [
    {
     "name": "stdout",
     "output_type": "stream",
     "text": [
      "howdy\n"
     ]
    },
    {
     "data": {
      "text/plain": [
       "<Turtle: EGS\n",
       " Position: [1. 1. 1.],\n",
       " Heading: [0.         0.35112344 0.93632918] \n",
       " Left: [ 0.75152971 -0.61769565  0.23163587] \n",
       " Up: [ 0.65969925  0.7036792  -0.2638797 ]\n",
       " Pen: Down \n",
       " Recording: False>"
      ]
     },
     "execution_count": 12,
     "metadata": {},
     "output_type": "execute_result"
    }
   ],
   "source": [
    "p1 = numpy.array((1.0, 1.0, 1.0), \"d\")\n",
    "p2 = numpy.array((1.0, 2.5, 5.0), \"d\")\n",
    "p3 = numpy.array((2.2, 1, 4), \"d\")\n",
    "\n",
    "turt.orient(p1, p2, p3)\n",
    "turt"
   ]
  },
  {
   "cell_type": "code",
   "execution_count": null,
   "metadata": {},
   "outputs": [],
   "source": [
    "temp = p1 - p2\n",
    "temp"
   ]
  },
  {
   "cell_type": "code",
   "execution_count": null,
   "metadata": {},
   "outputs": [],
   "source": []
  }
 ],
 "metadata": {
  "kernelspec": {
   "display_name": "Python 3.8.13 ('bio')",
   "language": "python",
   "name": "python3"
  },
  "language_info": {
   "codemirror_mode": {
    "name": "ipython",
    "version": 3
   },
   "file_extension": ".py",
   "mimetype": "text/x-python",
   "name": "python",
   "nbconvert_exporter": "python",
   "pygments_lexer": "ipython3",
   "version": "3.8.13"
  },
  "orig_nbformat": 4,
  "vscode": {
   "interpreter": {
    "hash": "2e049c0f63e6b330ae815ad1049a36d20686725ba1cc68cc0aadee0375e172d1"
   }
  }
 },
 "nbformat": 4,
 "nbformat_minor": 2
}
