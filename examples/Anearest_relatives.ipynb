version https://git-lfs.github.com/spec/v1
oid sha256:34dc03d1fb968e2bd2b5f931481dbe14efc774eb6615c4df4f9d611f6cafa1c8
size 21847
