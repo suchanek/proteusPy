version https://git-lfs.github.com/spec/v1
oid sha256:58e23ee7fd44505d38d6c3a33d7cdc853e46f585d62fc1ec315d2d9bd2cd40ee
size 170346
