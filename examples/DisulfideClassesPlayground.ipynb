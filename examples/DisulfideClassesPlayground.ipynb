version https://git-lfs.github.com/spec/v1
oid sha256:b319353630d32c3b3d07a820b4e2aac117941aabe1d7831f59c52a2a3972d494
size 8030
