{
 "cells": [
  {
   "cell_type": "code",
   "execution_count": 4,
   "metadata": {},
   "outputs": [
    {
     "data": {
      "text/plain": [
       "<Turtle: EGS\n",
       " Position: [0. 0. 0.],\n",
       " Heading: [1. 0. 0.] \n",
       " Left: [0. 1. 0.] \n",
       " Up: [0. 0. 1.]\n",
       " Orientation: -1\n",
       " Pen: 1 \n",
       " Recording: False>"
      ]
     },
     "execution_count": 4,
     "metadata": {},
     "output_type": "execute_result"
    }
   ],
   "source": [
    "# Testing the 3D Turtle\n",
    "# Author: Eric G. Suchanek, PhD\n",
    "import numpy\n",
    "numpy.set_printoptions(suppress=True)\n",
    "\n",
    "from proteusPy.turtle3D import Turtle3D\n",
    "\n",
    "turt = Turtle3D('EGS')\n",
    "turt\n"
   ]
  },
  {
   "cell_type": "code",
   "execution_count": 5,
   "metadata": {},
   "outputs": [
    {
     "data": {
      "text/plain": [
       "<Turtle: 3D_Turtle\n",
       " Position: [0. 0. 0.],\n",
       " Heading: [1. 0. 0.] \n",
       " Left: [0. 1. 0.] \n",
       " Up: [0. 0. 1.]\n",
       " Orientation: -1\n",
       " Pen: 1 \n",
       " Recording: False>"
      ]
     },
     "execution_count": 5,
     "metadata": {},
     "output_type": "execute_result"
    }
   ],
   "source": [
    "turt.reset()\n",
    "turt"
   ]
  },
  {
   "cell_type": "code",
   "execution_count": 6,
   "metadata": {},
   "outputs": [
    {
     "name": "stdout",
     "output_type": "stream",
     "text": [
      "<Turtle: 3D_Turtle\n",
      " Position: [0. 0. 0.],\n",
      " Heading: [1. 0. 0.] \n",
      " Left: [0. 1. 0.] \n",
      " Up: [0. 0. 1.]\n",
      " Orientation: -1\n",
      " Pen: 1 \n",
      " Recording: False>\n",
      "<Turtle: 3D_Turtle\n",
      " Position: [0. 0. 0.],\n",
      " Heading: [1. 0. 0.] \n",
      " Left: [0.         0.70710678 0.70710678] \n",
      " Up: [ 0.         -0.70710678  0.70710678]\n",
      " Orientation: -1\n",
      " Pen: 1 \n",
      " Recording: False>\n",
      "<Turtle: 3D_Turtle\n",
      " Position: [0. 0. 0.],\n",
      " Heading: [1. 0. 0.] \n",
      " Left: [0. 0. 1.] \n",
      " Up: [ 0. -1.  0.]\n",
      " Orientation: -1\n",
      " Pen: 1 \n",
      " Recording: False>\n",
      "<Turtle: 3D_Turtle\n",
      " Position: [0. 0. 0.],\n",
      " Heading: [1. 0. 0.] \n",
      " Left: [ 0.         -0.70710678  0.70710678] \n",
      " Up: [ 0.         -0.70710678 -0.70710678]\n",
      " Orientation: -1\n",
      " Pen: 1 \n",
      " Recording: False>\n",
      "<Turtle: 3D_Turtle\n",
      " Position: [0. 0. 0.],\n",
      " Heading: [1. 0. 0.] \n",
      " Left: [ 0. -1.  0.] \n",
      " Up: [ 0. -0. -1.]\n",
      " Orientation: -1\n",
      " Pen: 1 \n",
      " Recording: False>\n"
     ]
    }
   ],
   "source": [
    "\n",
    "turt.reset()\n",
    "print(f'{turt}')\n",
    "\n",
    "turt.roll(45)\n",
    "print(f'{turt}')\n",
    "\n",
    "turt.roll(45)\n",
    "print(f'{turt}')\n",
    "\n",
    "turt.roll(45)\n",
    "print(f'{turt}')\n",
    "\n",
    "turt.roll(45)\n",
    "print(f'{turt}')\n",
    "\n",
    "\n",
    "\n"
   ]
  },
  {
   "cell_type": "code",
   "execution_count": 7,
   "metadata": {},
   "outputs": [
    {
     "data": {
      "text/plain": [
       "<Turtle: 3D_Turtle\n",
       " Position: [1. 0. 0.],\n",
       " Heading: [1. 0. 0.] \n",
       " Left: [ 0.         -0.70710678 -0.70710678] \n",
       " Up: [ 0.          0.70710678 -0.70710678]\n",
       " Orientation: -1\n",
       " Pen: 1 \n",
       " Recording: False>"
      ]
     },
     "execution_count": 7,
     "metadata": {},
     "output_type": "execute_result"
    }
   ],
   "source": [
    "turt.move(1)\n",
    "turt.roll(45)\n",
    "turt"
   ]
  },
  {
   "cell_type": "code",
   "execution_count": null,
   "metadata": {},
   "outputs": [],
   "source": [
    "turt.reset()\n",
    "turt"
   ]
  },
  {
   "cell_type": "code",
   "execution_count": null,
   "metadata": {},
   "outputs": [],
   "source": [
    "p1 = numpy.array((1.0, 1.0, 1.0), \"d\")\n",
    "p2 = numpy.array((1.0, 2.5, 5.0), \"d\")\n",
    "p3 = numpy.array((2.2, 1, 4), \"d\")\n",
    "\n",
    "turt.orient(p1, p2, p3)\n",
    "turt"
   ]
  },
  {
   "cell_type": "code",
   "execution_count": null,
   "metadata": {},
   "outputs": [],
   "source": [
    "temp = p1 - p2\n",
    "temp"
   ]
  },
  {
   "cell_type": "code",
   "execution_count": null,
   "metadata": {},
   "outputs": [],
   "source": []
  }
 ],
 "metadata": {
  "kernelspec": {
   "display_name": "bio",
   "language": "python",
   "name": "python3"
  },
  "language_info": {
   "codemirror_mode": {
    "name": "ipython",
    "version": 3
   },
   "file_extension": ".py",
   "mimetype": "text/x-python",
   "name": "python",
   "nbconvert_exporter": "python",
   "pygments_lexer": "ipython3",
   "version": "3.8.13"
  },
  "orig_nbformat": 4,
  "vscode": {
   "interpreter": {
    "hash": "2e049c0f63e6b330ae815ad1049a36d20686725ba1cc68cc0aadee0375e172d1"
   }
  }
 },
 "nbformat": 4,
 "nbformat_minor": 2
}
