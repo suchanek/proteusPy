{
 "cells": [
  {
   "cell_type": "code",
   "execution_count": 2,
   "metadata": {},
   "outputs": [
    {
     "data": {
      "text/plain": [
       "<Turtle: EGS\n",
       " Position: [0. 0. 0.],\n",
       " Heading: [1. 0. 0.] \n",
       " Left: [0. 1. 0.] \n",
       " Up: [0. 0. 1.]\n",
       " Orientation: -1\n",
       " Pen: 1 \n",
       " Recording: False>"
      ]
     },
     "execution_count": 2,
     "metadata": {},
     "output_type": "execute_result"
    }
   ],
   "source": [
    "# Testing the 3D Turtle\n",
    "# Author: Eric G. Suchanek, PhD\n",
    "import numpy\n",
    "\n",
    "numpy.set_printoptions(suppress=True)\n",
    "\n",
    "from proteusPy.turtle3D import Turtle3D\n",
    "from Bio.PDB.vectors import Vector\n",
    "\n",
    "turt = Turtle3D(\"EGS\")\n",
    "turt"
   ]
  },
  {
   "cell_type": "code",
   "execution_count": 3,
   "metadata": {},
   "outputs": [
    {
     "data": {
      "text/plain": [
       "False"
      ]
     },
     "execution_count": 3,
     "metadata": {},
     "output_type": "execute_result"
    }
   ],
   "source": [
    "v1 = Vector(0.0, 0.0, 0.0)\n",
    "v2 = Vector(0.0, 0.0, 0.0)\n",
    "\n",
    "v1 == v2"
   ]
  },
  {
   "cell_type": "code",
   "execution_count": 2,
   "metadata": {},
   "outputs": [
    {
     "data": {
      "text/plain": [
       "<Turtle: 3D_Turtle\n",
       " Position: [0. 0. 0.],\n",
       " Heading: [1. 0. 0.] \n",
       " Left: [0. 1. 0.] \n",
       " Up: [0. 0. 1.]\n",
       " Orientation: -1\n",
       " Pen: 1 \n",
       " Recording: False>"
      ]
     },
     "execution_count": 2,
     "metadata": {},
     "output_type": "execute_result"
    }
   ],
   "source": [
    "turt.reset()\n",
    "turt"
   ]
  },
  {
   "cell_type": "code",
   "execution_count": 3,
   "metadata": {},
   "outputs": [
    {
     "name": "stdout",
     "output_type": "stream",
     "text": [
      "<Turtle: 3D_Turtle\n",
      " Position: [0. 0. 0.],\n",
      " Heading: [1. 0. 0.] \n",
      " Left: [0. 1. 0.] \n",
      " Up: [0. 0. 1.]\n",
      " Orientation: -1\n",
      " Pen: 1 \n",
      " Recording: False>\n",
      "<Turtle: 3D_Turtle\n",
      " Position: [0. 0. 0.],\n",
      " Heading: [1. 0. 0.] \n",
      " Left: [0.         0.70710678 0.70710678] \n",
      " Up: [ 0.         -0.70710678  0.70710678]\n",
      " Orientation: -1\n",
      " Pen: 1 \n",
      " Recording: False>\n",
      "<Turtle: 3D_Turtle\n",
      " Position: [0. 0. 0.],\n",
      " Heading: [1. 0. 0.] \n",
      " Left: [0. 0. 1.] \n",
      " Up: [ 0. -1.  0.]\n",
      " Orientation: -1\n",
      " Pen: 1 \n",
      " Recording: False>\n",
      "<Turtle: 3D_Turtle\n",
      " Position: [0. 0. 0.],\n",
      " Heading: [1. 0. 0.] \n",
      " Left: [ 0.         -0.70710678  0.70710678] \n",
      " Up: [ 0.         -0.70710678 -0.70710678]\n",
      " Orientation: -1\n",
      " Pen: 1 \n",
      " Recording: False>\n",
      "<Turtle: 3D_Turtle\n",
      " Position: [0. 0. 0.],\n",
      " Heading: [1. 0. 0.] \n",
      " Left: [ 0. -1.  0.] \n",
      " Up: [ 0. -0. -1.]\n",
      " Orientation: -1\n",
      " Pen: 1 \n",
      " Recording: False>\n"
     ]
    }
   ],
   "source": [
    "turt.reset()\n",
    "print(f\"{turt}\")\n",
    "\n",
    "turt.roll(45)\n",
    "print(f\"{turt}\")\n",
    "\n",
    "turt.roll(45)\n",
    "print(f\"{turt}\")\n",
    "\n",
    "turt.roll(45)\n",
    "print(f\"{turt}\")\n",
    "\n",
    "turt.roll(45)\n",
    "print(f\"{turt}\")"
   ]
  },
  {
   "cell_type": "code",
   "execution_count": 4,
   "metadata": {},
   "outputs": [
    {
     "data": {
      "text/plain": [
       "<Turtle: 3D_Turtle\n",
       " Position: [1. 0. 0.],\n",
       " Heading: [1. 0. 0.] \n",
       " Left: [ 0.         -0.70710678 -0.70710678] \n",
       " Up: [ 0.          0.70710678 -0.70710678]\n",
       " Orientation: -1\n",
       " Pen: 1 \n",
       " Recording: False>"
      ]
     },
     "execution_count": 4,
     "metadata": {},
     "output_type": "execute_result"
    }
   ],
   "source": [
    "turt.move(1)\n",
    "turt.roll(45)\n",
    "turt"
   ]
  },
  {
   "cell_type": "code",
   "execution_count": 5,
   "metadata": {},
   "outputs": [
    {
     "data": {
      "text/plain": [
       "<Turtle: 3D_Turtle\n",
       " Position: [0. 0. 0.],\n",
       " Heading: [1. 0. 0.] \n",
       " Left: [0. 1. 0.] \n",
       " Up: [0. 0. 1.]\n",
       " Orientation: -1\n",
       " Pen: 1 \n",
       " Recording: False>"
      ]
     },
     "execution_count": 5,
     "metadata": {},
     "output_type": "execute_result"
    }
   ],
   "source": [
    "turt.reset()\n",
    "turt"
   ]
  },
  {
   "cell_type": "code",
   "execution_count": 6,
   "metadata": {},
   "outputs": [
    {
     "data": {
      "text/plain": [
       "<Turtle: 3D_Turtle\n",
       " Position: [1. 1. 1.],\n",
       " Heading: [0.         0.35112344 0.93632918] \n",
       " Left: [ 0.75152971 -0.61769565  0.23163587] \n",
       " Up: [ 0.65969925  0.7036792  -0.2638797 ]\n",
       " Orientation: -1\n",
       " Pen: 1 \n",
       " Recording: False>"
      ]
     },
     "execution_count": 6,
     "metadata": {},
     "output_type": "execute_result"
    }
   ],
   "source": [
    "p1 = numpy.array((1.0, 1.0, 1.0), \"d\")\n",
    "p2 = numpy.array((1.0, 2.5, 5.0), \"d\")\n",
    "p3 = numpy.array((2.2, 1, 4), \"d\")\n",
    "\n",
    "turt.orient(p1, p2, p3)\n",
    "turt"
   ]
  },
  {
   "cell_type": "code",
   "execution_count": 7,
   "metadata": {},
   "outputs": [
    {
     "data": {
      "text/plain": [
       "array([ 0. , -1.5, -4. ])"
      ]
     },
     "execution_count": 7,
     "metadata": {},
     "output_type": "execute_result"
    }
   ],
   "source": [
    "temp = p1 - p2\n",
    "temp"
   ]
  },
  {
   "cell_type": "code",
   "execution_count": null,
   "metadata": {},
   "outputs": [],
   "source": [
    "v1 = Vector(0.0, 0.0, 0.0)"
   ]
  }
 ],
 "metadata": {
  "kernelspec": {
   "display_name": "proteusPy 0.92.16",
   "language": "python",
   "name": "proteuspy"
  },
  "language_info": {
   "codemirror_mode": {
    "name": "ipython",
    "version": 3
   },
   "file_extension": ".py",
   "mimetype": "text/x-python",
   "name": "python",
   "nbconvert_exporter": "python",
   "pygments_lexer": "ipython3",
   "version": "3.11.7"
  },
  "orig_nbformat": 4,
  "vscode": {
   "interpreter": {
    "hash": "2e049c0f63e6b330ae815ad1049a36d20686725ba1cc68cc0aadee0375e172d1"
   }
  }
 },
 "nbformat": 4,
 "nbformat_minor": 2
}
