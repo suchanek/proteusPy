{
 "cells": [
  {
   "cell_type": "code",
   "execution_count": 1,
   "metadata": {},
   "outputs": [
    {
     "data": {
      "text/plain": [
       "<Turtle: EGS\n",
       " Position: [0. 0. 0.],\n",
       " Heading: [1. 0. 0.] \n",
       " Left: [0. 1. 0.] \n",
       " Up: [0. 0. 1.]\n",
       " Orientation: -1\n",
       " Pen: 1 \n",
       " Recording: False>"
      ]
     },
     "execution_count": 1,
     "metadata": {},
     "output_type": "execute_result"
    }
   ],
   "source": [
    "# Testing the 3D Turtle\n",
    "# Author: Eric G. Suchanek, PhD\n",
    "import numpy\n",
    "\n",
    "numpy.set_printoptions(suppress=True)\n",
    "\n",
    "from proteusPy.turtle3D import Turtle3D\n",
    "from Bio.PDB.vectors import Vector\n",
    "\n",
    "turt = Turtle3D(\"EGS\")\n",
    "turt"
   ]
  },
  {
   "cell_type": "code",
   "execution_count": 3,
   "metadata": {},
   "outputs": [
    {
     "ename": "AttributeError",
     "evalue": "'Turtle3D' object has no attribute 'new2'",
     "output_type": "error",
     "traceback": [
      "\u001b[0;31m---------------------------------------------------------------------------\u001b[0m",
      "\u001b[0;31mAttributeError\u001b[0m                            Traceback (most recent call last)",
      "Cell \u001b[0;32mIn[3], line 1\u001b[0m\n\u001b[0;32m----> 1\u001b[0m \u001b[43mturt\u001b[49m\u001b[38;5;241;43m.\u001b[39;49m\u001b[43mnew2\u001b[49m(\u001b[38;5;124m\"\u001b[39m\u001b[38;5;124mskippy\u001b[39m\u001b[38;5;124m\"\u001b[39m, Vector(\u001b[38;5;241m0\u001b[39m,\u001b[38;5;241m0\u001b[39m,\u001b[38;5;241m0\u001b[39m))\n",
      "\u001b[0;31mAttributeError\u001b[0m: 'Turtle3D' object has no attribute 'new2'"
     ]
    }
   ],
   "source": [
    "turt.new2(\"skippy\", Vector(0,0,0))"
   ]
  },
  {
   "cell_type": "code",
   "execution_count": null,
   "metadata": {},
   "outputs": [],
   "source": [
    "v1 = Vector(0.0, 0.0, 0.0)\n",
    "v2 = Vector(0.0, 0.0, 0.0)\n",
    "\n",
    "v1 == v2"
   ]
  },
  {
   "cell_type": "code",
   "execution_count": null,
   "metadata": {},
   "outputs": [],
   "source": [
    "turt.new(\"test\", Vector((1.0,2.0,3.0)), Vector((4.0,5.0,6.0)))\n",
    "turt"
   ]
  },
  {
   "cell_type": "code",
   "execution_count": null,
   "metadata": {},
   "outputs": [],
   "source": [
    "turt.reset()\n",
    "print(f\"{turt}\")\n",
    "\n",
    "turt.roll(45)\n",
    "print(f\"{turt}\")\n",
    "\n",
    "turt.roll(45)\n",
    "print(f\"{turt}\")\n",
    "\n",
    "turt.roll(45)\n",
    "print(f\"{turt}\")\n",
    "\n",
    "turt.roll(45)\n",
    "print(f\"{turt}\")"
   ]
  },
  {
   "cell_type": "code",
   "execution_count": null,
   "metadata": {},
   "outputs": [],
   "source": [
    "turt.move(1)\n",
    "turt.roll(45)\n",
    "turt"
   ]
  },
  {
   "cell_type": "code",
   "execution_count": null,
   "metadata": {},
   "outputs": [],
   "source": [
    "turt.reset()\n",
    "turt"
   ]
  },
  {
   "cell_type": "code",
   "execution_count": null,
   "metadata": {},
   "outputs": [],
   "source": [
    "p1 = numpy.array((1.0, 1.0, 1.0), \"d\")\n",
    "p2 = numpy.array((1.0, 2.5, 5.0), \"d\")\n",
    "p3 = numpy.array((2.2, 1, 4), \"d\")\n",
    "\n",
    "turt.orient(p1, p2, p3)\n",
    "turt"
   ]
  },
  {
   "cell_type": "code",
   "execution_count": null,
   "metadata": {},
   "outputs": [],
   "source": [
    "temp = p1 - p2\n",
    "temp"
   ]
  },
  {
   "cell_type": "code",
   "execution_count": null,
   "metadata": {},
   "outputs": [],
   "source": [
    "v1 = Vector(0.0, 0.0, 0.0)"
   ]
  }
 ],
 "metadata": {
  "kernelspec": {
   "display_name": "proteusPy 0.92.17",
   "language": "python",
   "name": "proteuspy"
  },
  "language_info": {
   "codemirror_mode": {
    "name": "ipython",
    "version": 3
   },
   "file_extension": ".py",
   "mimetype": "text/x-python",
   "name": "python",
   "nbconvert_exporter": "python",
   "pygments_lexer": "ipython3",
   "version": "3.11.7"
  },
  "orig_nbformat": 4,
  "vscode": {
   "interpreter": {
    "hash": "2e049c0f63e6b330ae815ad1049a36d20686725ba1cc68cc0aadee0375e172d1"
   }
  }
 },
 "nbformat": 4,
 "nbformat_minor": 2
}
