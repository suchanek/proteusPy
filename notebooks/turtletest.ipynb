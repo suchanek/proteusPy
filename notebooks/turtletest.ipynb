{
 "cells": [
  {
   "cell_type": "code",
   "execution_count": 1,
   "metadata": {},
   "outputs": [
    {
     "data": {
      "text/plain": [
       "<Turtle: EGS\n",
       " Position: [0. 0. 0.],\n",
       " Heading: [1. 0. 0.] \n",
       " Left: [0. 1. 0.] \n",
       " Up: [0. 0. 1.]\n",
       " Orientation: -1\n",
       " Pen: 1 \n",
       " Recording: False>"
      ]
     },
     "execution_count": 1,
     "metadata": {},
     "output_type": "execute_result"
    }
   ],
   "source": [
    "# Testing the 3D Turtle\n",
    "# Author: Eric G. Suchanek, PhD\n",
    "import numpy\n",
    "\n",
    "numpy.set_printoptions(suppress=True)\n",
    "\n",
    "from proteusPy.turtle3D import Turtle3D\n",
    "from Bio.PDB.vectors import Vector\n",
    "\n",
    "turt = Turtle3D(\"EGS\")\n",
    "turt"
   ]
  },
  {
   "cell_type": "code",
   "execution_count": 2,
   "metadata": {},
   "outputs": [
    {
     "ename": "TypeError",
     "evalue": "object of type 'Vector' has no len()",
     "output_type": "error",
     "traceback": [
      "\u001b[0;31m---------------------------------------------------------------------------\u001b[0m",
      "\u001b[0;31mTypeError\u001b[0m                                 Traceback (most recent call last)",
      "Cell \u001b[0;32mIn[2], line 3\u001b[0m\n\u001b[1;32m      1\u001b[0m pos \u001b[38;5;241m=\u001b[39m Vector(\u001b[38;5;241m2.0\u001b[39m, \u001b[38;5;241m3.0\u001b[39m, \u001b[38;5;241m4.0\u001b[39m)\n\u001b[1;32m      2\u001b[0m head \u001b[38;5;241m=\u001b[39m Vector(\u001b[38;5;241m5.0\u001b[39m, \u001b[38;5;241m6.0\u001b[39m, \u001b[38;5;241m7.0\u001b[39m)\n\u001b[0;32m----> 3\u001b[0m \u001b[43mturt\u001b[49m\u001b[38;5;241;43m.\u001b[39;49m\u001b[43mnew\u001b[49m\u001b[43m(\u001b[49m\u001b[38;5;124;43m\"\u001b[39;49m\u001b[38;5;124;43mhi\u001b[39;49m\u001b[38;5;124;43m\"\u001b[39;49m\u001b[43m,\u001b[49m\u001b[43m \u001b[49m\u001b[43mpos\u001b[49m\u001b[43m,\u001b[49m\u001b[43m \u001b[49m\u001b[43mhead\u001b[49m\u001b[43m)\u001b[49m\n\u001b[1;32m      4\u001b[0m turt\n",
      "File \u001b[0;32m~/miniforge3/envs/proteusPy/lib/python3.11/site-packages/proteusPy/turtle3D.py:75\u001b[0m, in \u001b[0;36mTurtle3D.new\u001b[0;34m(self, name, pos, head, left, up, pen, recording)\u001b[0m\n\u001b[1;32m     63\u001b[0m \u001b[38;5;250m\u001b[39m\u001b[38;5;124;03m\"\"\"\u001b[39;00m\n\u001b[1;32m     64\u001b[0m \u001b[38;5;124;03mInitialize a Turtle with a name and initial position\u001b[39;00m\n\u001b[1;32m     65\u001b[0m \n\u001b[0;32m   (...)\u001b[0m\n\u001b[1;32m     72\u001b[0m \u001b[38;5;124;03m:param recording: _description_, defaults to False\u001b[39;00m\n\u001b[1;32m     73\u001b[0m \u001b[38;5;124;03m\"\"\"\u001b[39;00m\n\u001b[1;32m     74\u001b[0m \u001b[38;5;28mself\u001b[39m\u001b[38;5;241m.\u001b[39mName \u001b[38;5;241m=\u001b[39m name\n\u001b[0;32m---> 75\u001b[0m \u001b[38;5;28;43mself\u001b[39;49m\u001b[38;5;241;43m.\u001b[39;49m\u001b[43mPosition\u001b[49m \u001b[38;5;241m=\u001b[39m pos\n\u001b[1;32m     76\u001b[0m \u001b[38;5;28mself\u001b[39m\u001b[38;5;241m.\u001b[39mHeading \u001b[38;5;241m=\u001b[39m head\n\u001b[1;32m     77\u001b[0m \u001b[38;5;28mself\u001b[39m\u001b[38;5;241m.\u001b[39mLeft \u001b[38;5;241m=\u001b[39m left\n",
      "File \u001b[0;32m~/miniforge3/envs/proteusPy/lib/python3.11/site-packages/proteusPy/turtle3D.py:176\u001b[0m, in \u001b[0;36mTurtle3D.Position\u001b[0;34m(self, x, y, z)\u001b[0m\n\u001b[1;32m    162\u001b[0m \u001b[38;5;250m\u001b[39m\u001b[38;5;124;03m\"\"\"\u001b[39;00m\n\u001b[1;32m    163\u001b[0m \u001b[38;5;124;03mSet's the Turtle's Position\u001b[39;00m\n\u001b[1;32m    164\u001b[0m \n\u001b[0;32m   (...)\u001b[0m\n\u001b[1;32m    171\u001b[0m \u001b[38;5;124;03m:raises ValueError: Type error\u001b[39;00m\n\u001b[1;32m    172\u001b[0m \u001b[38;5;124;03m\"\"\"\u001b[39;00m\n\u001b[1;32m    174\u001b[0m \u001b[38;5;28;01mif\u001b[39;00m y \u001b[38;5;129;01mis\u001b[39;00m \u001b[38;5;28;01mNone\u001b[39;00m \u001b[38;5;129;01mand\u001b[39;00m z \u001b[38;5;129;01mis\u001b[39;00m \u001b[38;5;28;01mNone\u001b[39;00m:\n\u001b[1;32m    175\u001b[0m     \u001b[38;5;66;03m# Array, list, tuple...\u001b[39;00m\n\u001b[0;32m--> 176\u001b[0m     \u001b[38;5;28;01mif\u001b[39;00m \u001b[38;5;28;43mlen\u001b[39;49m\u001b[43m(\u001b[49m\u001b[43mx\u001b[49m\u001b[43m)\u001b[49m \u001b[38;5;241m!=\u001b[39m \u001b[38;5;241m3\u001b[39m:\n\u001b[1;32m    177\u001b[0m         \u001b[38;5;28;01mraise\u001b[39;00m \u001b[38;5;167;01mValueError\u001b[39;00m(\u001b[38;5;124m\"\u001b[39m\u001b[38;5;124mTurtle3D: x is not a list/tuple/array of 3 numbers\u001b[39m\u001b[38;5;124m\"\u001b[39m)\n\u001b[1;32m    178\u001b[0m     \u001b[38;5;28mself\u001b[39m\u001b[38;5;241m.\u001b[39m_position \u001b[38;5;241m=\u001b[39m numpy\u001b[38;5;241m.\u001b[39marray(x, \u001b[38;5;124m\"\u001b[39m\u001b[38;5;124md\u001b[39m\u001b[38;5;124m\"\u001b[39m)\n",
      "\u001b[0;31mTypeError\u001b[0m: object of type 'Vector' has no len()"
     ]
    }
   ],
   "source": [
    "pos = Vector(2.0, 3.0, 4.0)\n",
    "head = Vector(5.0, 6.0, 7.0)\n",
    "turt.new(\"hi\", pos, head)\n",
    "turt"
   ]
  },
  {
   "cell_type": "code",
   "execution_count": 8,
   "metadata": {},
   "outputs": [
    {
     "data": {
      "text/plain": [
       "<Turtle: 3D_Turtle\n",
       " Position: [0. 0. 0.],\n",
       " Heading: [0. 1. 0.] \n",
       " Left: [-1.  0.  0.] \n",
       " Up: [0. 0. 1.]\n",
       " Orientation: -1\n",
       " Pen: 1 \n",
       " Recording: False>"
      ]
     },
     "execution_count": 8,
     "metadata": {},
     "output_type": "execute_result"
    }
   ],
   "source": [
    "turt.yaw(90.0)\n",
    "turt"
   ]
  },
  {
   "cell_type": "code",
   "execution_count": null,
   "metadata": {},
   "outputs": [],
   "source": [
    "v1 = Vector(0.0, 0.0, 0.0)\n",
    "v2 = Vector(0.0, 0.0, 0.0)\n",
    "\n",
    "v1 == v2"
   ]
  },
  {
   "cell_type": "code",
   "execution_count": 3,
   "metadata": {},
   "outputs": [
    {
     "ename": "NameError",
     "evalue": "name 'turt' is not defined",
     "output_type": "error",
     "traceback": [
      "\u001b[0;31m---------------------------------------------------------------------------\u001b[0m",
      "\u001b[0;31mNameError\u001b[0m                                 Traceback (most recent call last)",
      "Cell \u001b[0;32mIn[3], line 1\u001b[0m\n\u001b[0;32m----> 1\u001b[0m \u001b[43mturt\u001b[49m\u001b[38;5;241m.\u001b[39mnew(\u001b[38;5;124m\"\u001b[39m\u001b[38;5;124mtest\u001b[39m\u001b[38;5;124m\"\u001b[39m, Vector((\u001b[38;5;241m1.0\u001b[39m,\u001b[38;5;241m2.0\u001b[39m,\u001b[38;5;241m3.0\u001b[39m)), Vector((\u001b[38;5;241m4.0\u001b[39m,\u001b[38;5;241m5.0\u001b[39m,\u001b[38;5;241m6.0\u001b[39m)))\n\u001b[1;32m      2\u001b[0m turt\n",
      "\u001b[0;31mNameError\u001b[0m: name 'turt' is not defined"
     ]
    }
   ],
   "source": [
    "turt.new(\"test\", Vector((1.0,2.0,3.0)), Vector((4.0,5.0,6.0)))\n",
    "turt"
   ]
  },
  {
   "cell_type": "code",
   "execution_count": null,
   "metadata": {},
   "outputs": [],
   "source": [
    "turt.reset()\n",
    "print(f\"{turt}\")\n",
    "\n",
    "turt.roll(45)\n",
    "print(f\"{turt}\")\n",
    "\n",
    "turt.roll(45)\n",
    "print(f\"{turt}\")\n",
    "\n",
    "turt.roll(45)\n",
    "print(f\"{turt}\")\n",
    "\n",
    "turt.roll(45)\n",
    "print(f\"{turt}\")"
   ]
  },
  {
   "cell_type": "code",
   "execution_count": null,
   "metadata": {},
   "outputs": [],
   "source": [
    "turt.move(1)\n",
    "turt.roll(45)\n",
    "turt"
   ]
  },
  {
   "cell_type": "code",
   "execution_count": null,
   "metadata": {},
   "outputs": [],
   "source": [
    "turt.reset()\n",
    "turt"
   ]
  },
  {
   "cell_type": "code",
   "execution_count": null,
   "metadata": {},
   "outputs": [],
   "source": [
    "p1 = numpy.array((1.0, 1.0, 1.0), \"d\")\n",
    "p2 = numpy.array((1.0, 2.5, 5.0), \"d\")\n",
    "p3 = numpy.array((2.2, 1, 4), \"d\")\n",
    "\n",
    "turt.orient(p1, p2, p3)\n",
    "turt"
   ]
  },
  {
   "cell_type": "code",
   "execution_count": null,
   "metadata": {},
   "outputs": [],
   "source": [
    "temp = p1 - p2\n",
    "temp"
   ]
  },
  {
   "cell_type": "code",
   "execution_count": null,
   "metadata": {},
   "outputs": [],
   "source": [
    "v1 = Vector(0.0, 0.0, 0.0)"
   ]
  }
 ],
 "metadata": {
  "kernelspec": {
   "display_name": "proteusPy 0.92.18",
   "language": "python",
   "name": "proteuspy"
  },
  "language_info": {
   "codemirror_mode": {
    "name": "ipython",
    "version": 3
   },
   "file_extension": ".py",
   "mimetype": "text/x-python",
   "name": "python",
   "nbconvert_exporter": "python",
   "pygments_lexer": "ipython3",
   "version": "3.11.7"
  },
  "orig_nbformat": 4,
  "vscode": {
   "interpreter": {
    "hash": "2e049c0f63e6b330ae815ad1049a36d20686725ba1cc68cc0aadee0375e172d1"
   }
  }
 },
 "nbformat": 4,
 "nbformat_minor": 2
}
