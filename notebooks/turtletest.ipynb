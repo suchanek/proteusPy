{
 "cells": [
  {
   "cell_type": "code",
   "execution_count": 1,
   "metadata": {},
   "outputs": [],
   "source": [
    "# Testing the 3D Turtle\n",
    "# Author: Eric G. Suchanek, PhD\n",
    "import numpy\n",
    "from proteusPy.turtle3D import Turtle3D\n",
    "\n",
    "turt = Turtle3D('EGS')\n"
   ]
  },
  {
   "cell_type": "code",
   "execution_count": 2,
   "metadata": {},
   "outputs": [
    {
     "name": "stdout",
     "output_type": "stream",
     "text": [
      "<Turtle: EGS\n",
      " Position: <Vector 1.53, 0.00, 0.00>,\n",
      " Heading: <Vector 1.00, 0.00, 0.00> \n",
      " Left: <Vector 0.00, 1.00, 0.00> \n",
      " Up: <Vector 0.00, 0.00, 1.00>\n",
      " Orientation: -1\n",
      " Pen: up \n",
      " Recording: False>\n",
      "<Turtle: EGS\n",
      " Position: <Vector 1.53, 0.00, 0.00>,\n",
      " Heading: <Vector -0.50, 0.71, 0.28> \n",
      " Left: <Vector 0.43, -1.03, -0.40> \n",
      " Up: <Vector 0.00, -0.34, 0.94>\n",
      " Orientation: -1\n",
      " Pen: up \n",
      " Recording: False>\n",
      "<Turtle: EGS\n",
      " Position: <Vector 0.53, 1.42, 0.56>,\n",
      " Heading: <Vector -0.50, 0.71, 0.28> \n",
      " Left: <Vector 0.43, -1.03, -0.40> \n",
      " Up: <Vector 0.00, -0.34, 0.94>\n",
      " Orientation: -1\n",
      " Pen: up \n",
      " Recording: False>\n",
      "<Turtle: Test\n",
      " Position: <Vector 0.53, 1.42, 0.56>,\n",
      " Heading: <Vector -0.50, 0.71, 0.28> \n",
      " Left: <Vector 0.43, -1.03, -0.40> \n",
      " Up: <Vector 0.00, -0.34, 0.94>\n",
      " Orientation: -1\n",
      " Pen: up \n",
      " Recording: False>\n"
     ]
    },
    {
     "data": {
      "text/plain": [
       "<Turtle: Test\n",
       " Position: <Vector 0.00, 0.00, 0.00>,\n",
       " Heading: <Vector 1.00, 0.00, 0.00> \n",
       " Left: <Vector 0.00, 1.00, 0.00> \n",
       " Up: <Vector 0.00, 0.00, 1.00>\n",
       " Orientation: -1\n",
       " Pen: up \n",
       " Recording: False>"
      ]
     },
     "execution_count": 2,
     "metadata": {},
     "output_type": "execute_result"
    }
   ],
   "source": [
    "\n",
    "\n",
    "turt.move(1.53)\n",
    "print(turt)\n",
    "turt.roll(20)\n",
    "turt.yaw(60)\n",
    "print(turt)\n",
    "turt.move(2)\n",
    "print(turt)\n",
    "turt2 = Turtle3D('Test')\n",
    "turt2.copy_coords(turt)\n",
    "print(turt2)\n",
    "turt2.reset()\n",
    "turt2"
   ]
  },
  {
   "cell_type": "code",
   "execution_count": null,
   "metadata": {},
   "outputs": [],
   "source": [
    "gc = numpy.array((10, 20, 30), \"d\")\n",
    "turt.move(10)\n",
    "turt.roll(45)\n",
    "turt.yaw(120)\n",
    "turt.move(10)\n",
    "turt"
   ]
  },
  {
   "cell_type": "code",
   "execution_count": null,
   "metadata": {},
   "outputs": [],
   "source": [
    "turt.reset()\n",
    "turt"
   ]
  },
  {
   "cell_type": "code",
   "execution_count": 3,
   "metadata": {},
   "outputs": [
    {
     "data": {
      "text/plain": [
       "<Turtle: EGS\n",
       " Position: <Vector 0.53, 1.42, 0.56>,\n",
       " Heading: <Vector 0.00, 0.35, 0.94> \n",
       " Left: <Vector 0.75, -0.62, 0.23> \n",
       " Up: <Vector 0.66, 0.70, -0.26>\n",
       " Orientation: -1\n",
       " Pen: up \n",
       " Recording: False>"
      ]
     },
     "execution_count": 3,
     "metadata": {},
     "output_type": "execute_result"
    }
   ],
   "source": [
    "p1 = numpy.array((1.0, 1.0, 1.0), \"d\")\n",
    "p2 = numpy.array((1.0, 2.5, 5.0), \"d\")\n",
    "p3 = numpy.array((2.2, 1, 4), \"d\")\n",
    "\n",
    "turt.orient(p1, p2, p3)\n",
    "turt"
   ]
  },
  {
   "cell_type": "code",
   "execution_count": 4,
   "metadata": {},
   "outputs": [
    {
     "data": {
      "text/plain": [
       "array([ 0. , -1.5, -4. ])"
      ]
     },
     "execution_count": 4,
     "metadata": {},
     "output_type": "execute_result"
    }
   ],
   "source": [
    "temp = p1 - p2\n",
    "temp"
   ]
  },
  {
   "cell_type": "code",
   "execution_count": null,
   "metadata": {},
   "outputs": [],
   "source": []
  }
 ],
 "metadata": {
  "kernelspec": {
   "display_name": "Python (bio)",
   "language": "python",
   "name": "bio"
  },
  "language_info": {
   "codemirror_mode": {
    "name": "ipython",
    "version": 3
   },
   "file_extension": ".py",
   "mimetype": "text/x-python",
   "name": "python",
   "nbconvert_exporter": "python",
   "pygments_lexer": "ipython3",
   "version": "3.8.13"
  },
  "orig_nbformat": 4,
  "vscode": {
   "interpreter": {
    "hash": "2e049c0f63e6b330ae815ad1049a36d20686725ba1cc68cc0aadee0375e172d1"
   }
  }
 },
 "nbformat": 4,
 "nbformat_minor": 2
}
