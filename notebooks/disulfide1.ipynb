{
 "cells": [
  {
   "cell_type": "code",
   "execution_count": 1,
   "metadata": {},
   "outputs": [
    {
     "name": "stdout",
     "output_type": "stream",
     "text": [
      "{1: ('26', '84', 'A', 'A'), 2: ('40', '95', 'A', 'A'), 3: ('58', '110', 'A', 'A'), 4: ('65', '72', 'A', 'A')}\n",
      "found: [('26', '84', 'A', 'A'), ('40', '95', 'A', 'A'), ('58', '110', 'A', 'A'), ('65', '72', 'A', 'A')]\n"
     ]
    }
   ],
   "source": [
    "# Playing with the Disulfide Class\n",
    "# Author: Eric G. Suchanek, PhD.\n",
    "# Biopython imports\n",
    "\n",
    "import pandas as pd\n",
    "\n",
    "from Bio.PDB import *\n",
    "from Bio.PDB import PDBParser\n",
    "\n",
    "# Eric's modules\n",
    "\n",
    "from proteusPy import *\n",
    "from proteusPy.disulfide import *\n",
    "from proteusPy.turtle3D import *\n",
    "\n",
    "# global directory for PDB files\n",
    "\n",
    "PDB_DIR = '/Users/egs/PDB/good/'\n",
    "\n",
    "PDBlist = PDBList(pdb=PDB_DIR, verbose=False)\n",
    "parser = PDBParser(PERMISSIVE=True, QUIET=True)\n",
    "\n",
    "\n",
    "PDB_ID = '5rsa'\n",
    "structure = parser.get_structure(PDB_ID, file=f'{PDB_DIR}/pdb{PDB_ID}.ent')\n",
    "\n",
    "model = structure[0]\n",
    "\n",
    "ssbond_dict = structure.header['ssbond'] # NB: this requires the modified code\n",
    "print(ssbond_dict)\n",
    "\n",
    "disulfide_list = parse_ssbond_header_rec(ssbond_dict)\n",
    "print(f'found: {disulfide_list}')\n",
    "\n"
   ]
  },
  {
   "cell_type": "code",
   "execution_count": null,
   "metadata": {},
   "outputs": [],
   "source": [
    "chain = model['A']\n",
    "#prox = chain[30]\n",
    "# dis = prox.is_disordered()\n",
    "# print(f'{dis}')\n",
    "# prox_atoms = prox.get_unpacked_list()\n",
    "\n",
    "residues = chain.get_residues()\n",
    "for res in residues:\n",
    "    print(f'Residue: {res.get_id()} {res.get_resname()}')\n",
    "reslist = res.get_list()"
   ]
  },
  {
   "cell_type": "code",
   "execution_count": null,
   "metadata": {},
   "outputs": [],
   "source": [
    "\n",
    "empty = []\n",
    "\n",
    "SSList = []\n",
    "SSList = load_disulfides_from_id(PDB_ID, model_numb=0, \n",
    "                                        verbose=True, pdb_dir=PDB_DIR)\n",
    "'''for ss in SSList:\n",
    "    ss_str = ss.print_compact()\n",
    "    print(f'{ss_str}')'''\n",
    "\n",
    "print(f'found: {len(SSList)} disulfides')\n",
    "\n",
    "\n"
   ]
  },
  {
   "cell_type": "code",
   "execution_count": null,
   "metadata": {},
   "outputs": [],
   "source": [
    "# create a list of Disulfides from a specific PDB file.\n",
    "SSList = load_disulfides_from_id(PDB_ID, model_numb=0, \n",
    "                pdb_dir=PDB_DIR, verbose=True)\n",
    "\n",
    "# since I've set up comparison operators for the class we can sort by energy easily\n",
    "sortedSS = sorted(SSList)\n",
    "\n",
    "for ss in sortedSS:\n",
    "    print(f'SS: {ss.name} {ss.proximal} - {ss.distal}. Energy: {ss.energy:.4f}')\n"
   ]
  },
  {
   "cell_type": "code",
   "execution_count": null,
   "metadata": {},
   "outputs": [],
   "source": [
    "# Build a list of PDB files in PDB_DIR that are readable. These files were downloaded\n",
    "# via the RCSB web query interface for structures containing >= 1 SS Bond.\n",
    "\n",
    "import glob\n",
    "import os\n",
    "from tqdm import tqdm\n",
    "import pandas as pd\n",
    "\n",
    "os.chdir(PDB_DIR)\n",
    "\n",
    "ss_filelist = glob.glob(f'*.ent')\n",
    "tot = len(ss_filelist)\n",
    "print(f'first level file scan: {tot} files')\n",
    "\n",
    "entrylist = []\n",
    "for entry in ss_filelist:\n",
    "    entrylist.append(name_to_id(entry))\n",
    "\n",
    "# loop over ss_filelist, create disulfides and initialize them\n",
    "pbar = tqdm(entrylist[12000:16000], ncols=80)\n",
    "\n",
    "df_cols = ['source', 'ss_id', 'proximal', 'distal', 'chi1', 'chi2', 'chi3', 'chi4',\n",
    "           'chi5', 'energy']\n",
    "\n",
    "SS_df = pd.DataFrame(columns=df_cols)\n",
    "problem_ids = []\n",
    "\n",
    "for entry in pbar:\n",
    "    pbar.set_postfix({'File': entry})\n",
    "    sslist = load_disulfides_from_id(entry, model_numb=0, verbose=False, pdb_dir=PDB_DIR)\n",
    "    if len(sslist) != 0:\n",
    "        for ss in sslist:\n",
    "            new_row = [entry, ss.name, ss.proximal, ss.distal, ss.chi1, ss.chi2, ss.chi3, \n",
    "            ss.chi4, ss.chi5, ss.energy]\n",
    "            SS_df.loc[len(SS_df.index)] = new_row\n",
    "    else:\n",
    "        problem_ids.append(entry)\n",
    "\n",
    "print(f'Found: {len(problem_ids)} problem structures.')"
   ]
  },
  {
   "cell_type": "code",
   "execution_count": null,
   "metadata": {},
   "outputs": [],
   "source": []
  },
  {
   "cell_type": "code",
   "execution_count": null,
   "metadata": {},
   "outputs": [],
   "source": [
    "SS_df.to_csv('disulfides.csv')\n",
    "SS_df.describe()\n"
   ]
  },
  {
   "cell_type": "code",
   "execution_count": null,
   "metadata": {},
   "outputs": [],
   "source": []
  },
  {
   "cell_type": "code",
   "execution_count": null,
   "metadata": {},
   "outputs": [],
   "source": [
    "%matplotlib inline\n",
    "import matplotlib.pyplot as plt"
   ]
  },
  {
   "cell_type": "code",
   "execution_count": null,
   "metadata": {},
   "outputs": [],
   "source": [
    "chi1_data = SS_df['chi1']\n",
    "chi1_data.plot(kind='hist')"
   ]
  },
  {
   "cell_type": "code",
   "execution_count": null,
   "metadata": {},
   "outputs": [],
   "source": [
    "chi2_data = SS_df['chi2']\n",
    "chi2_data.plot(kind='hist')"
   ]
  },
  {
   "cell_type": "code",
   "execution_count": null,
   "metadata": {},
   "outputs": [],
   "source": [
    "chi3_data = SS_df['chi3']\n",
    "chi3_data.plot(kind='hist')"
   ]
  },
  {
   "cell_type": "code",
   "execution_count": null,
   "metadata": {},
   "outputs": [],
   "source": [
    "chi4_data = SS_df['chi4']\n",
    "chi4_data.plot(kind='hist')"
   ]
  },
  {
   "cell_type": "code",
   "execution_count": null,
   "metadata": {},
   "outputs": [],
   "source": [
    "chi5_data = SS_df['chi5']\n",
    "chi5_data.plot(kind='hist')"
   ]
  },
  {
   "cell_type": "code",
   "execution_count": null,
   "metadata": {},
   "outputs": [],
   "source": []
  }
 ],
 "metadata": {
  "kernelspec": {
   "display_name": "Python 3.8.13 ('bio')",
   "language": "python",
   "name": "python3"
  },
  "language_info": {
   "codemirror_mode": {
    "name": "ipython",
    "version": 3
   },
   "file_extension": ".py",
   "mimetype": "text/x-python",
   "name": "python",
   "nbconvert_exporter": "python",
   "pygments_lexer": "ipython3",
   "version": "3.8.13"
  },
  "orig_nbformat": 4,
  "vscode": {
   "interpreter": {
    "hash": "2e049c0f63e6b330ae815ad1049a36d20686725ba1cc68cc0aadee0375e172d1"
   }
  }
 },
 "nbformat": 4,
 "nbformat_minor": 2
}
