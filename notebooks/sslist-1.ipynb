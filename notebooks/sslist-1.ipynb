{
 "cells": [
  {
   "cell_type": "code",
   "execution_count": 1,
   "metadata": {},
   "outputs": [
    {
     "name": "stdout",
     "output_type": "stream",
     "text": [
      "-> load_PDB_SS(): Reading /Users/egs/miniforge3/envs/proteusPy/lib/python3.11/site-packages/proteusPy/data/PDB_SS_SUBSET_LOADER.pkl... \n",
      "-> load_PDB_SS(): Done reading /Users/egs/miniforge3/envs/proteusPy/lib/python3.11/site-packages/proteusPy/data/PDB_SS_SUBSET_LOADER.pkl... \n",
      "    =========== RCSB Disulfide Database Summary ==============\n",
      "       =========== Built: 2024-07-05 23:10:19 ==============\n",
      "PDB IDs present:                    1000\n",
      "Disulfides loaded:                  4778\n",
      "Average structure resolution:       2.57 Å\n",
      "Lowest Energy Disulfide:            1xr9_203A_259A\n",
      "Highest Energy Disulfide:           1zjk_629A_660A\n",
      "Cα distance cutoff:                 8.00 Å\n",
      "Total RAM Used:                     1.21 GB.\n",
      "    ================= proteusPy: 0.95.6 =======================\n"
     ]
    }
   ],
   "source": [
    "from proteusPy import DisulfideList, Disulfide, Load_PDB_SS, load_disulfides_from_id\n",
    "\n",
    "from Bio.PDB import Vector\n",
    "\n",
    "# Load the PDB file\n",
    "pdb = Load_PDB_SS(verbose=True, subset=True)\n",
    "pdb.describe()"
   ]
  },
  {
   "cell_type": "code",
   "execution_count": 15,
   "metadata": {},
   "outputs": [],
   "source": [
    "def find_null_pdb_indices(pdb, limit=1000):\n",
    "    \"\"\"\n",
    "    Loops over pdb entries from 0 to limit (default 1000) and checks each entry for null.\n",
    "    Returns a list of indices with null entries.\n",
    "    \"\"\"\n",
    "    null_indices = []\n",
    "    ids = pdb.IDList\n",
    "    for i in ids:\n",
    "        if len(pdb[i]) == 0:\n",
    "            null_indices.append(i)\n",
    "    return null_indices"
   ]
  },
  {
   "cell_type": "code",
   "execution_count": 16,
   "metadata": {},
   "outputs": [
    {
     "data": {
      "text/plain": [
       "['4wmy']"
      ]
     },
     "execution_count": 16,
     "metadata": {},
     "output_type": "execute_result"
    }
   ],
   "source": [
    "find_null_pdb_indices(pdb)"
   ]
  },
  {
   "cell_type": "code",
   "execution_count": 6,
   "metadata": {},
   "outputs": [
    {
     "data": {
      "text/plain": [
       "DisulfideList([<Disulfide 4wym_14A_45F, Source: 4wym, Resolution: 2.6 Å>,\n",
       "               <Disulfide 4wym_45A_14B, Source: 4wym, Resolution: 2.6 Å>,\n",
       "               <Disulfide 4wym_45B_14C, Source: 4wym, Resolution: 2.6 Å>,\n",
       "               <Disulfide 4wym_45C_14D, Source: 4wym, Resolution: 2.6 Å>,\n",
       "               <Disulfide 4wym_45D_14E, Source: 4wym, Resolution: 2.6 Å>,\n",
       "               <Disulfide 4wym_45E_14F, Source: 4wym, Resolution: 2.6 Å>,\n",
       "               <Disulfide 4wym_198F_218F, Source: 4wym, Resolution: 2.6 Å>,\n",
       "               <Disulfide 4wym_14G_45L, Source: 4wym, Resolution: 2.6 Å>,\n",
       "               <Disulfide 4wym_45G_14H, Source: 4wym, Resolution: 2.6 Å>,\n",
       "               <Disulfide 4wym_198G_218G, Source: 4wym, Resolution: 2.6 Å>,\n",
       "               <Disulfide 4wym_45H_14I, Source: 4wym, Resolution: 2.6 Å>,\n",
       "               <Disulfide 4wym_198H_218H, Source: 4wym, Resolution: 2.6 Å>,\n",
       "               <Disulfide 4wym_45I_14J, Source: 4wym, Resolution: 2.6 Å>,\n",
       "               <Disulfide 4wym_45J_14K, Source: 4wym, Resolution: 2.6 Å>,\n",
       "               <Disulfide 4wym_45K_14L, Source: 4wym, Resolution: 2.6 Å>,\n",
       "               <Disulfide 4wym_198L_218L, Source: 4wym, Resolution: 2.6 Å>])"
      ]
     },
     "execution_count": 6,
     "metadata": {},
     "output_type": "execute_result"
    }
   ],
   "source": [
    "wym = load_disulfides_from_id(\"4wym\", verbose=False)\n",
    "wym"
   ]
  },
  {
   "cell_type": "code",
   "execution_count": 5,
   "metadata": {},
   "outputs": [
    {
     "name": "stdout",
     "output_type": "stream",
     "text": [
      "<Disulfide 4wym_14A_45F, Source: 4wym, Resolution: 2.6 Å \n",
      "Χ1-Χ5: -70.18°, -76.38°, -73.86°, -106.48° 173.52°, 136.67°, 3.19 kcal/mol \n",
      "Cα Distance: 6.07 Å \n",
      "Torsion length: 240.13 deg>\n"
     ]
    }
   ],
   "source": [
    "wym[0].pprint()"
   ]
  },
  {
   "cell_type": "code",
   "execution_count": 5,
   "metadata": {},
   "outputs": [],
   "source": [
    "def find_string_in_list(target_string, list_of_strings):\n",
    "    \"\"\"\n",
    "    Searches for a target string in a list of strings and returns the index if found.\n",
    "    Returns -1 if the target string is not found.\n",
    "    \"\"\"\n",
    "    try:\n",
    "        return list_of_strings.index(target_string)\n",
    "    except ValueError:\n",
    "        return -1"
   ]
  },
  {
   "cell_type": "code",
   "execution_count": 12,
   "metadata": {},
   "outputs": [
    {
     "data": {
      "text/plain": [
       "DisulfideList([])"
      ]
     },
     "execution_count": 12,
     "metadata": {},
     "output_type": "execute_result"
    }
   ],
   "source": [
    "find_string_in_list(\"4wmy\", pdb.IDList)\n",
    "pdb[\"4wmy\"]"
   ]
  },
  {
   "cell_type": "code",
   "execution_count": 9,
   "metadata": {},
   "outputs": [
    {
     "data": {
      "text/plain": [
       "DisulfideList([])"
      ]
     },
     "execution_count": 9,
     "metadata": {},
     "output_type": "execute_result"
    }
   ],
   "source": [
    "wmy = pdb[\"4wmy\"]\n",
    "wmy"
   ]
  },
  {
   "cell_type": "code",
   "execution_count": null,
   "metadata": {},
   "outputs": [],
   "source": [
    "ss1 = pdb[\"4yys_22A_65A\"]\n",
    "ss2 = pdb[\"4yys_22B_65B\"]\n",
    "ss1 == ss2"
   ]
  },
  {
   "cell_type": "code",
   "execution_count": null,
   "metadata": {},
   "outputs": [],
   "source": [
    "ss1.pprint_all()"
   ]
  },
  {
   "cell_type": "code",
   "execution_count": null,
   "metadata": {},
   "outputs": [],
   "source": [
    "ss2.pprint_all()"
   ]
  },
  {
   "cell_type": "code",
   "execution_count": null,
   "metadata": {},
   "outputs": [],
   "source": [
    "def remove_duplicate_ss(sslist: DisulfideList) -> DisulfideList:\n",
    "    pruned = []\n",
    "    for ss in sslist:\n",
    "        if ss not in pruned:\n",
    "            pruned.append(ss)\n",
    "    return pruned"
   ]
  },
  {
   "cell_type": "code",
   "execution_count": null,
   "metadata": {},
   "outputs": [],
   "source": [
    "yys = pdb[\"4wmy\"]\n",
    "yys"
   ]
  },
  {
   "cell_type": "code",
   "execution_count": null,
   "metadata": {},
   "outputs": [],
   "source": [
    "pruned = remove_duplicate_ss(yys)\n",
    "pruned"
   ]
  },
  {
   "cell_type": "code",
   "execution_count": null,
   "metadata": {},
   "outputs": [],
   "source": []
  },
  {
   "cell_type": "code",
   "execution_count": null,
   "metadata": {},
   "outputs": [],
   "source": []
  },
  {
   "cell_type": "code",
   "execution_count": null,
   "metadata": {},
   "outputs": [],
   "source": []
  },
  {
   "cell_type": "code",
   "execution_count": null,
   "metadata": {},
   "outputs": [],
   "source": [
    "ssmax = minss.max"
   ]
  },
  {
   "cell_type": "code",
   "execution_count": null,
   "metadata": {},
   "outputs": [],
   "source": [
    "ssmin == ssmax"
   ]
  },
  {
   "cell_type": "code",
   "execution_count": null,
   "metadata": {},
   "outputs": [],
   "source": [
    "def compare_dihedrals(self, other) -> float:\n",
    "    \"\"\"\n",
    "    Compare the Disulfide object's dihedrals to another Disulfide object's dihedrals.\n",
    "\n",
    "    :param other: Disulfide object to compare to\n",
    "    :return: The length of the difference of the two sets of dihedral angles\n",
    "    :raises TypeError: If the input is not a Disulfide object\n",
    "    \"\"\"\n",
    "    import numpy\n",
    "    from Bio.PDB.vectors import Vector\n",
    "\n",
    "    def cmp_vec(v1: Vector, v2: Vector) -> float:\n",
    "        \"Return the length of the difference between the two vectors.\"\n",
    "        _diff = v2 - v1\n",
    "        _len = _diff.norm()\n",
    "        return _len\n",
    "\n",
    "    if isinstance(other, Disulfide):\n",
    "        dihed1 = Vector(self.torsion_array)\n",
    "        dihed2 = Vector(other.torsion_array)\n",
    "        return cmp_vec(dihed1, dihed2)\n",
    "    else:\n",
    "        raise TypeError(\"Input must be a Disulfide object.\")"
   ]
  },
  {
   "cell_type": "code",
   "execution_count": null,
   "metadata": {},
   "outputs": [],
   "source": [
    "def Torsion_RMS(first, other) -> float:\n",
    "    \"\"\"\n",
    "    Calculate the RMS distance between the dihedral angles of self and another Disulfide.\n",
    "    :param other: Comparison Disulfide\n",
    "    :return: RMS distance (deg)\n",
    "    \"\"\"\n",
    "    import math\n",
    "\n",
    "    # Get internal coordinates of both objects\n",
    "    ic1 = first.torsion_array\n",
    "    ic2 = other.torsion_array\n",
    "\n",
    "    # Compute the sum of squared differences between corresponding internal coordinates\n",
    "    totsq = sum((p1 - p2) ** 2 for p1, p2 in zip(ic1, ic2))\n",
    "    # Compute the mean of the squared distances\n",
    "    totsq /= len(ic1)\n",
    "\n",
    "    # Take the square root of the mean to get the RMS distance\n",
    "    return math.sqrt(totsq)"
   ]
  },
  {
   "cell_type": "code",
   "execution_count": null,
   "metadata": {},
   "outputs": [],
   "source": [
    "ss1 = pdb[0]\n",
    "ss1"
   ]
  },
  {
   "cell_type": "code",
   "execution_count": null,
   "metadata": {},
   "outputs": [],
   "source": [
    "Torsion_RMS(ss1, ss1)"
   ]
  },
  {
   "cell_type": "code",
   "execution_count": null,
   "metadata": {},
   "outputs": [],
   "source": []
  }
 ],
 "metadata": {
  "kernelspec": {
   "display_name": "proteusPy",
   "language": "python",
   "name": "python3"
  },
  "language_info": {
   "codemirror_mode": {
    "name": "ipython",
    "version": 3
   },
   "file_extension": ".py",
   "mimetype": "text/x-python",
   "name": "python",
   "nbconvert_exporter": "python",
   "pygments_lexer": "ipython3",
   "version": "3.11.7"
  }
 },
 "nbformat": 4,
 "nbformat_minor": 2
}
