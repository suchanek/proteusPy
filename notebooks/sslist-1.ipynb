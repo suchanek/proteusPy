{
 "cells": [
  {
   "cell_type": "code",
   "execution_count": 2,
   "metadata": {},
   "outputs": [
    {
     "name": "stdout",
     "output_type": "stream",
     "text": [
      "-> load_PDB_SS(): Reading /Users/egs/repos/proteusPy/proteusPy/data/PDB_SS_ALL_LOADER.pkl... \n",
      "-> load_PDB_SS(): Done reading /Users/egs/repos/proteusPy/proteusPy/data/PDB_SS_ALL_LOADER.pkl... \n",
      "    =========== RCSB Disulfide Database Summary ==============\n",
      "       =========== Built: 2024-07-14 23:12:10 ==============\n",
      "PDB IDs present:                    35881\n",
      "Disulfides loaded:                  169257\n",
      "Average structure resolution:       2.55 Å\n",
      "Lowest Energy Disulfide:            2q7q_75D_140D\n",
      "Highest Energy Disulfide:           6vxk_801B_806B\n",
      "Cα distance cutoff:                 -1.00 Å\n",
      "Total RAM Used:                     42.77 GB.\n",
      "    ================= proteusPy: 0.96.3dev0 =======================\n"
     ]
    }
   ],
   "source": [
    "from proteusPy import (\n",
    "    DisulfideList,\n",
    "    Disulfide,\n",
    "    Load_PDB_SS,\n",
    "    load_disulfides_from_id,\n",
    "    prune_extra_ss,\n",
    ")\n",
    "\n",
    "\n",
    "# Load the PDB file\n",
    "pdb = Load_PDB_SS(verbose=True, subset=False)\n",
    "pdb.describe()"
   ]
  },
  {
   "cell_type": "code",
   "execution_count": 3,
   "metadata": {},
   "outputs": [],
   "source": [
    "def find_disulfides(pdb, id) -> DisulfideList:\n",
    "    \"\"\"\n",
    "    Find disulfide in pdb object.\n",
    "    \"\"\"\n",
    "\n",
    "    indices = pdb.SSDict[id]\n",
    "    print(f\"indices: {indices}\")\n",
    "    res = DisulfideList([], id)\n",
    "    sslist = pdb.SSList\n",
    "    for ind in indices:\n",
    "        print(f\"ind: {ind} sslist[ind]: {sslist[ind]}\")\n",
    "        res.append(sslist[ind])\n",
    "    return res"
   ]
  },
  {
   "cell_type": "code",
   "execution_count": 4,
   "metadata": {},
   "outputs": [
    {
     "name": "stdout",
     "output_type": "stream",
     "text": [
      "indices: [123392, 123393, 123394, 123395, 123396, 123397, 123398, 123399, 123400]\n",
      "ind: 123392 sslist[ind]: <Disulfide 4mwy_93A_419A, Source: 4mwy, Resolution: 1.8 Å>\n",
      "ind: 123393 sslist[ind]: <Disulfide 4mwy_125A_130A, Source: 4mwy, Resolution: 1.8 Å>\n",
      "ind: 123394 sslist[ind]: <Disulfide 4mwy_177A_195A, Source: 4mwy, Resolution: 1.8 Å>\n",
      "ind: 123395 sslist[ind]: <Disulfide 4mwy_185A_232A, Source: 4mwy, Resolution: 1.8 Å>\n",
      "ind: 123396 sslist[ind]: <Disulfide 4mwy_234A_239A, Source: 4mwy, Resolution: 1.8 Å>\n",
      "ind: 123397 sslist[ind]: <Disulfide 4mwy_280A_293A, Source: 4mwy, Resolution: 1.8 Å>\n",
      "ind: 123398 sslist[ind]: <Disulfide 4mwy_282A_291A, Source: 4mwy, Resolution: 1.8 Å>\n",
      "ind: 123399 sslist[ind]: <Disulfide 4mwy_320A_338A, Source: 4mwy, Resolution: 1.8 Å>\n",
      "ind: 123400 sslist[ind]: <Disulfide 4mwy_423A_449A, Source: 4mwy, Resolution: 1.8 Å>\n"
     ]
    },
    {
     "data": {
      "text/plain": [
       "DisulfideList([<Disulfide 4mwy_93A_419A, Source: 4mwy, Resolution: 1.8 Å>,\n",
       "               <Disulfide 4mwy_125A_130A, Source: 4mwy, Resolution: 1.8 Å>,\n",
       "               <Disulfide 4mwy_177A_195A, Source: 4mwy, Resolution: 1.8 Å>,\n",
       "               <Disulfide 4mwy_185A_232A, Source: 4mwy, Resolution: 1.8 Å>,\n",
       "               <Disulfide 4mwy_234A_239A, Source: 4mwy, Resolution: 1.8 Å>,\n",
       "               <Disulfide 4mwy_280A_293A, Source: 4mwy, Resolution: 1.8 Å>,\n",
       "               <Disulfide 4mwy_282A_291A, Source: 4mwy, Resolution: 1.8 Å>,\n",
       "               <Disulfide 4mwy_320A_338A, Source: 4mwy, Resolution: 1.8 Å>,\n",
       "               <Disulfide 4mwy_423A_449A, Source: 4mwy, Resolution: 1.8 Å>])"
      ]
     },
     "execution_count": 4,
     "metadata": {},
     "output_type": "execute_result"
    }
   ],
   "source": [
    "# PDB_SS['4yys'] return a list of SS\n",
    "\n",
    "sslist = find_disulfides(pdb, \"4mwy\")\n",
    "sslist"
   ]
  },
  {
   "cell_type": "code",
   "execution_count": 5,
   "metadata": {},
   "outputs": [],
   "source": [
    "def find_null_pdb_indices(pdb, limit=1000):\n",
    "    \"\"\"\n",
    "    Loops over pdb entries from 0 to limit (default 1000) and checks each entry for null.\n",
    "    Returns a list of indices with null entries.\n",
    "    \"\"\"\n",
    "    null_indices = []\n",
    "    ids = pdb.IDList\n",
    "    for i in ids:\n",
    "        if len(pdb[i]) == 0:\n",
    "            null_indices.append(i)\n",
    "    return null_indices\n",
    "\n",
    "\n",
    "def find_null_pdb_keys(pdb, limit=1000):\n",
    "    \"\"\"\n",
    "    Loops over pdb entries from 0 to limit (default 1000) and checks each entry for null.\n",
    "    Returns a list of indices with null entries.\n",
    "    \"\"\"\n",
    "    null_indices = []\n",
    "    ssdict = pdb.SSDict\n",
    "    for i in ssdict:\n",
    "        if len(ssdict[i]) == 0:\n",
    "            null_indices.append(i)\n",
    "    return null_indices"
   ]
  },
  {
   "cell_type": "code",
   "execution_count": 6,
   "metadata": {},
   "outputs": [
    {
     "data": {
      "text/plain": [
       "[]"
      ]
     },
     "execution_count": 6,
     "metadata": {},
     "output_type": "execute_result"
    }
   ],
   "source": [
    "missing = find_null_pdb_indices(pdb)\n",
    "len(missing)\n",
    "missing"
   ]
  },
  {
   "cell_type": "code",
   "execution_count": null,
   "metadata": {},
   "outputs": [],
   "source": [
    "bad = []\n",
    "\n",
    "for id in missing:\n",
    "    res = load_disulfides_from_id(id, verbose=True)\n",
    "    if len(res) == 0:\n",
    "        print(f\"ID {id} is missing disulfides\")\n",
    "        bad.append(id)\n",
    "bad"
   ]
  },
  {
   "cell_type": "code",
   "execution_count": 7,
   "metadata": {},
   "outputs": [
    {
     "data": {
      "text/plain": [
       "True"
      ]
     },
     "execution_count": 7,
     "metadata": {},
     "output_type": "execute_result"
    }
   ],
   "source": [
    "idlist = pdb.IDList\n",
    "\"4mwy\" in idlist"
   ]
  },
  {
   "cell_type": "code",
   "execution_count": 12,
   "metadata": {},
   "outputs": [],
   "source": [
    "def find_disulfides(pdb, id) -> DisulfideList:\n",
    "    \"\"\"\n",
    "    Find disulfide in pdb object.\n",
    "    \"\"\"\n",
    "\n",
    "    indices = pdb.SSDict[id]\n",
    "    # print(f\"indices: {indices}\")\n",
    "    res = DisulfideList([], id)\n",
    "    sslist = pdb.SSList\n",
    "    for ind in indices:\n",
    "        # print(f\"ind: {ind} sslist[ind]: {sslist[ind]}\")\n",
    "        res.append(sslist[ind])\n",
    "    return res"
   ]
  },
  {
   "cell_type": "code",
   "execution_count": 13,
   "metadata": {},
   "outputs": [
    {
     "data": {
      "text/plain": [
       "DisulfideList([<Disulfide 4wmy_31A_48A, Source: 4wmy, Resolution: 1.6 Å>,\n",
       "               <Disulfide 4wmy_41A_70A, Source: 4wmy, Resolution: 1.6 Å>,\n",
       "               <Disulfide 4wmy_94A_280A, Source: 4wmy, Resolution: 1.6 Å>,\n",
       "               <Disulfide 4wmy_199A_259A, Source: 4wmy, Resolution: 1.6 Å>,\n",
       "               <Disulfide 4wmy_251A_265A, Source: 4wmy, Resolution: 1.6 Å>,\n",
       "               <Disulfide 4wmy_31B_48B, Source: 4wmy, Resolution: 1.6 Å>])"
      ]
     },
     "execution_count": 13,
     "metadata": {},
     "output_type": "execute_result"
    }
   ],
   "source": [
    "# PDB_SS['4yys'] return a list of SS\n",
    "\n",
    "sslist = find_disulfides(pdb, \"4wmy\")\n",
    "sslist"
   ]
  },
  {
   "cell_type": "code",
   "execution_count": 15,
   "metadata": {},
   "outputs": [
    {
     "data": {
      "text/plain": [
       "DisulfideList([<Disulfide 4wmy_31A_48A, Source: 4wmy, Resolution: 1.6 Å>,\n",
       "               <Disulfide 4wmy_41A_70A, Source: 4wmy, Resolution: 1.6 Å>,\n",
       "               <Disulfide 4wmy_94A_280A, Source: 4wmy, Resolution: 1.6 Å>,\n",
       "               <Disulfide 4wmy_199A_259A, Source: 4wmy, Resolution: 1.6 Å>,\n",
       "               <Disulfide 4wmy_251A_265A, Source: 4wmy, Resolution: 1.6 Å>,\n",
       "               <Disulfide 4wmy_31B_48B, Source: 4wmy, Resolution: 1.6 Å>])"
      ]
     },
     "execution_count": 15,
     "metadata": {},
     "output_type": "execute_result"
    }
   ],
   "source": [
    "pdb[\"4wmy\"]"
   ]
  },
  {
   "cell_type": "code",
   "execution_count": null,
   "metadata": {},
   "outputs": [],
   "source": [
    "# PDB_SS['4yys'] return a list of SS\n",
    "item = \"4mwy\"\n",
    "indices = pdb.SSDict[item]\n",
    "res = DisulfideList([], item)\n",
    "sslist = self.SSList\n",
    "for ind in indices:\n",
    "    res.append(sslist[ind])"
   ]
  },
  {
   "cell_type": "code",
   "execution_count": null,
   "metadata": {},
   "outputs": [],
   "source": [
    "pdblist = pdb.SSList\n",
    "len(pdblist)\n",
    "pdblist[211508]"
   ]
  },
  {
   "cell_type": "code",
   "execution_count": null,
   "metadata": {},
   "outputs": [],
   "source": []
  },
  {
   "cell_type": "code",
   "execution_count": null,
   "metadata": {},
   "outputs": [],
   "source": []
  },
  {
   "cell_type": "code",
   "execution_count": null,
   "metadata": {},
   "outputs": [],
   "source": []
  },
  {
   "cell_type": "code",
   "execution_count": null,
   "metadata": {},
   "outputs": [],
   "source": [
    "pdb[\"4mwy\"]"
   ]
  },
  {
   "cell_type": "code",
   "execution_count": null,
   "metadata": {},
   "outputs": [],
   "source": [
    "find_null_pdb_indices(pdb)"
   ]
  },
  {
   "cell_type": "code",
   "execution_count": null,
   "metadata": {},
   "outputs": [],
   "source": [
    "wym = load_disulfides_from_id(\"4wym\", verbose=False)\n",
    "wym"
   ]
  },
  {
   "cell_type": "code",
   "execution_count": null,
   "metadata": {},
   "outputs": [],
   "source": [
    "sslist, xchain = prune_extra_ss(wym)\n",
    "sslist"
   ]
  },
  {
   "cell_type": "code",
   "execution_count": null,
   "metadata": {},
   "outputs": [],
   "source": [
    "from proteusPy import remove_duplicate_ss\n",
    "\n",
    "pruned = remove_duplicate_ss(wym)\n",
    "pruned"
   ]
  },
  {
   "cell_type": "code",
   "execution_count": null,
   "metadata": {},
   "outputs": [],
   "source": [
    "def find_string_in_list(target_string, list_of_strings):\n",
    "    \"\"\"\n",
    "    Searches for a target string in a list of strings and returns the index if found.\n",
    "    Returns -1 if the target string is not found.\n",
    "    \"\"\"\n",
    "    try:\n",
    "        return list_of_strings.index(target_string)\n",
    "    except ValueError:\n",
    "        return -1"
   ]
  },
  {
   "cell_type": "code",
   "execution_count": null,
   "metadata": {},
   "outputs": [],
   "source": [
    "find_string_in_list(\"4wmy\", pdb.IDList)\n",
    "pdb[\"4wmy\"]"
   ]
  },
  {
   "cell_type": "code",
   "execution_count": null,
   "metadata": {},
   "outputs": [],
   "source": [
    "wmy = pdb[\"4wmy\"]\n",
    "wmy"
   ]
  },
  {
   "cell_type": "code",
   "execution_count": null,
   "metadata": {},
   "outputs": [],
   "source": [
    "ss1 = pdb[\"4yys_22A_65A\"]\n",
    "ss2 = pdb[\"4yys_22B_65B\"]\n",
    "ss1 == ss2"
   ]
  },
  {
   "cell_type": "code",
   "execution_count": null,
   "metadata": {},
   "outputs": [],
   "source": [
    "ss1.pprint_all()"
   ]
  },
  {
   "cell_type": "code",
   "execution_count": null,
   "metadata": {},
   "outputs": [],
   "source": [
    "ss2.pprint_all()"
   ]
  },
  {
   "cell_type": "code",
   "execution_count": null,
   "metadata": {},
   "outputs": [],
   "source": [
    "def remove_duplicate_ss(sslist: DisulfideList) -> DisulfideList:\n",
    "    pruned = []\n",
    "    for ss in sslist:\n",
    "        if ss not in pruned:\n",
    "            pruned.append(ss)\n",
    "    return pruned"
   ]
  },
  {
   "cell_type": "code",
   "execution_count": null,
   "metadata": {},
   "outputs": [],
   "source": [
    "yys = pdb[\"4wmy\"]\n",
    "yys"
   ]
  },
  {
   "cell_type": "code",
   "execution_count": null,
   "metadata": {},
   "outputs": [],
   "source": [
    "pruned = remove_duplicate_ss(yys)\n",
    "pruned"
   ]
  },
  {
   "cell_type": "code",
   "execution_count": null,
   "metadata": {},
   "outputs": [],
   "source": []
  },
  {
   "cell_type": "code",
   "execution_count": null,
   "metadata": {},
   "outputs": [],
   "source": []
  },
  {
   "cell_type": "code",
   "execution_count": null,
   "metadata": {},
   "outputs": [],
   "source": []
  },
  {
   "cell_type": "code",
   "execution_count": null,
   "metadata": {},
   "outputs": [],
   "source": [
    "ssmax = minss.max"
   ]
  },
  {
   "cell_type": "code",
   "execution_count": null,
   "metadata": {},
   "outputs": [],
   "source": [
    "ssmin == ssmax"
   ]
  },
  {
   "cell_type": "code",
   "execution_count": null,
   "metadata": {},
   "outputs": [],
   "source": [
    "def compare_dihedrals(self, other) -> float:\n",
    "    \"\"\"\n",
    "    Compare the Disulfide object's dihedrals to another Disulfide object's dihedrals.\n",
    "\n",
    "    :param other: Disulfide object to compare to\n",
    "    :return: The length of the difference of the two sets of dihedral angles\n",
    "    :raises TypeError: If the input is not a Disulfide object\n",
    "    \"\"\"\n",
    "    import numpy\n",
    "    from Bio.PDB.vectors import Vector\n",
    "\n",
    "    def cmp_vec(v1: Vector, v2: Vector) -> float:\n",
    "        \"Return the length of the difference between the two vectors.\"\n",
    "        _diff = v2 - v1\n",
    "        _len = _diff.norm()\n",
    "        return _len\n",
    "\n",
    "    if isinstance(other, Disulfide):\n",
    "        dihed1 = Vector(self.torsion_array)\n",
    "        dihed2 = Vector(other.torsion_array)\n",
    "        return cmp_vec(dihed1, dihed2)\n",
    "    else:\n",
    "        raise TypeError(\"Input must be a Disulfide object.\")"
   ]
  },
  {
   "cell_type": "code",
   "execution_count": null,
   "metadata": {},
   "outputs": [],
   "source": [
    "def Torsion_RMS(first, other) -> float:\n",
    "    \"\"\"\n",
    "    Calculate the RMS distance between the dihedral angles of self and another Disulfide.\n",
    "    :param other: Comparison Disulfide\n",
    "    :return: RMS distance (deg)\n",
    "    \"\"\"\n",
    "    import math\n",
    "\n",
    "    # Get internal coordinates of both objects\n",
    "    ic1 = first.torsion_array\n",
    "    ic2 = other.torsion_array\n",
    "\n",
    "    # Compute the sum of squared differences between corresponding internal coordinates\n",
    "    totsq = sum((p1 - p2) ** 2 for p1, p2 in zip(ic1, ic2))\n",
    "    # Compute the mean of the squared distances\n",
    "    totsq /= len(ic1)\n",
    "\n",
    "    # Take the square root of the mean to get the RMS distance\n",
    "    return math.sqrt(totsq)"
   ]
  },
  {
   "cell_type": "code",
   "execution_count": null,
   "metadata": {},
   "outputs": [],
   "source": [
    "ss1 = pdb[0]\n",
    "ss1"
   ]
  },
  {
   "cell_type": "code",
   "execution_count": null,
   "metadata": {},
   "outputs": [],
   "source": [
    "Torsion_RMS(ss1, ss1)"
   ]
  },
  {
   "cell_type": "code",
   "execution_count": null,
   "metadata": {},
   "outputs": [],
   "source": []
  }
 ],
 "metadata": {
  "kernelspec": {
   "display_name": "ppydev (0.96.3)",
   "language": "python",
   "name": "ppydev"
  },
  "language_info": {
   "codemirror_mode": {
    "name": "ipython",
    "version": 3
   },
   "file_extension": ".py",
   "mimetype": "text/x-python",
   "name": "python",
   "nbconvert_exporter": "python",
   "pygments_lexer": "ipython3",
   "version": "3.11.7"
  }
 },
 "nbformat": 4,
 "nbformat_minor": 2
}
