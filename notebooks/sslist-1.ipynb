{
 "cells": [
  {
   "cell_type": "code",
   "execution_count": null,
   "metadata": {},
   "outputs": [],
   "source": [
    "from proteusPy import (\n",
    "    DisulfideList,\n",
    "    Disulfide,\n",
    "    Load_PDB_SS,\n",
    "    load_disulfides_from_id,\n",
    "    prune_extra_ss,\n",
    ")\n",
    "\n",
    "\n",
    "# Load the PDB file\n",
    "pdb = Load_PDB_SS(verbose=True, subset=True)\n",
    "pdb.describe()"
   ]
  },
  {
   "cell_type": "code",
   "execution_count": null,
   "metadata": {},
   "outputs": [],
   "source": [
    "ss1 = pdb['6dmb']\n",
    "ss2 = ss1.filter_by_distance(3.0)\n",
    "ss2"
   ]
  },
  {
   "cell_type": "code",
   "execution_count": null,
   "metadata": {},
   "outputs": [],
   "source": []
  },
  {
   "cell_type": "code",
   "execution_count": null,
   "metadata": {},
   "outputs": [],
   "source": [
    "ss = load_disulfides_from_id(\"2vkk\", verbose=True)\n",
    "ss"
   ]
  },
  {
   "cell_type": "code",
   "execution_count": null,
   "metadata": {},
   "outputs": [],
   "source": [
    "def find_disulfides(pdb, id) -> DisulfideList:\n",
    "    \"\"\"\n",
    "    Find disulfide in pdb object.\n",
    "    \"\"\"\n",
    "\n",
    "    indices = pdb.SSDict[id]\n",
    "    print(f\"indices: {indices}\")\n",
    "    res = DisulfideList([], id)\n",
    "    sslist = pdb.SSList\n",
    "    for ind in indices:\n",
    "        print(f\"ind: {ind} sslist[ind]: {sslist[ind]}\")\n",
    "        res.append(sslist[ind])\n",
    "    return res"
   ]
  },
  {
   "cell_type": "code",
   "execution_count": null,
   "metadata": {},
   "outputs": [],
   "source": [
    "# PDB_SS['4yys'] return a list of SS\n",
    "\n",
    "sslist = find_disulfides(pdb, \"6vkk\")\n",
    "sslist"
   ]
  },
  {
   "cell_type": "code",
   "execution_count": 3,
   "metadata": {},
   "outputs": [],
   "source": [
    "def find_null_pdb_indices(pdb, limit=1000):\n",
    "    \"\"\"\n",
    "    Loops over pdb entries from 0 to limit (default 1000) and checks each entry for null.\n",
    "    Returns a list of indices with null entries.\n",
    "    \"\"\"\n",
    "    null_indices = []\n",
    "    ids = pdb.IDList\n",
    "    for i in ids:\n",
    "        if len(pdb[i]) == 0:\n",
    "            null_indices.append(i)\n",
    "    return null_indices\n",
    "\n",
    "\n",
    "def find_null_pdb_keys(pdb, limit=1000):\n",
    "    \"\"\"\n",
    "    Loops over pdb entries from 0 to limit (default 1000) and checks each entry for null.\n",
    "    Returns a list of indices with null entries.\n",
    "    \"\"\"\n",
    "    null_indices = []\n",
    "    ssdict = pdb.SSDict\n",
    "    for i in ssdict:\n",
    "        if len(ssdict[i]) == 0:\n",
    "            null_indices.append(i)\n",
    "    return null_indices"
   ]
  },
  {
   "cell_type": "code",
   "execution_count": 4,
   "metadata": {},
   "outputs": [
    {
     "data": {
      "text/plain": [
       "[]"
      ]
     },
     "execution_count": 4,
     "metadata": {},
     "output_type": "execute_result"
    }
   ],
   "source": [
    "missing = find_null_pdb_indices(pdb)\n",
    "len(missing)\n",
    "missing"
   ]
  },
  {
   "cell_type": "code",
   "execution_count": 5,
   "metadata": {},
   "outputs": [
    {
     "data": {
      "text/plain": [
       "[]"
      ]
     },
     "execution_count": 5,
     "metadata": {},
     "output_type": "execute_result"
    }
   ],
   "source": [
    "bad = []\n",
    "\n",
    "for id in missing:\n",
    "    res = load_disulfides_from_id(id, verbose=True)\n",
    "    if len(res) == 0:\n",
    "        print(f\"ID {id} is missing disulfides\")\n",
    "    else:\n",
    "        for ss in res:\n",
    "            if ss.ca_distance > 8.0:\n",
    "                print(f\"ID {id} has a long disulfide: {ss}\")\n",
    "                bad.append(ss.name)\n",
    "\n",
    "            \n",
    "bad"
   ]
  },
  {
   "cell_type": "code",
   "execution_count": 6,
   "metadata": {},
   "outputs": [],
   "source": [
    "pdb['6vkk_845A_845C']"
   ]
  },
  {
   "cell_type": "code",
   "execution_count": 7,
   "metadata": {},
   "outputs": [
    {
     "data": {
      "text/plain": [
       "False"
      ]
     },
     "execution_count": 7,
     "metadata": {},
     "output_type": "execute_result"
    }
   ],
   "source": [
    "idlist = pdb.IDList\n",
    "\"6vkk\" in idlist"
   ]
  },
  {
   "cell_type": "code",
   "execution_count": null,
   "metadata": {},
   "outputs": [],
   "source": [
    "def find_disulfides(pdb, id) -> DisulfideList:\n",
    "    \"\"\"\n",
    "    Find disulfide in pdb object.\n",
    "    \"\"\"\n",
    "\n",
    "    indices = pdb.SSDict[id]\n",
    "    # print(f\"indices: {indices}\")\n",
    "    res = DisulfideList([], id)\n",
    "    sslist = pdb.SSList\n",
    "    for ind in indices:\n",
    "        # print(f\"ind: {ind} sslist[ind]: {sslist[ind]}\")\n",
    "        res.append(sslist[ind])\n",
    "    return res"
   ]
  },
  {
   "cell_type": "code",
   "execution_count": null,
   "metadata": {},
   "outputs": [],
   "source": [
    "# PDB_SS['4yys'] return a list of SS\n",
    "\n",
    "sslist = find_disulfides(pdb, \"4wmy\")\n",
    "sslist"
   ]
  },
  {
   "cell_type": "code",
   "execution_count": null,
   "metadata": {},
   "outputs": [],
   "source": [
    "pdb[\"4wmy\"]"
   ]
  },
  {
   "cell_type": "code",
   "execution_count": null,
   "metadata": {},
   "outputs": [],
   "source": []
  },
  {
   "cell_type": "code",
   "execution_count": null,
   "metadata": {},
   "outputs": [],
   "source": [
    "find_null_pdb_indices(pdb)"
   ]
  },
  {
   "cell_type": "code",
   "execution_count": null,
   "metadata": {},
   "outputs": [],
   "source": []
  },
  {
   "cell_type": "code",
   "execution_count": null,
   "metadata": {},
   "outputs": [],
   "source": [
    "sslist, xchain = prune_extra_ss(wym)\n",
    "sslist"
   ]
  },
  {
   "cell_type": "code",
   "execution_count": null,
   "metadata": {},
   "outputs": [],
   "source": [
    "from proteusPy import remove_duplicate_ss\n",
    "\n",
    "pruned = remove_duplicate_ss(wym)\n",
    "pruned"
   ]
  },
  {
   "cell_type": "code",
   "execution_count": null,
   "metadata": {},
   "outputs": [],
   "source": [
    "def find_string_in_list(target_string, list_of_strings):\n",
    "    \"\"\"\n",
    "    Searches for a target string in a list of strings and returns the index if found.\n",
    "    Returns -1 if the target string is not found.\n",
    "    \"\"\"\n",
    "    try:\n",
    "        return list_of_strings.index(target_string)\n",
    "    except ValueError:\n",
    "        return -1"
   ]
  },
  {
   "cell_type": "code",
   "execution_count": null,
   "metadata": {},
   "outputs": [],
   "source": [
    "find_string_in_list(\"4wmy\", pdb.IDList)\n",
    "pdb[\"4wmy\"]"
   ]
  },
  {
   "cell_type": "code",
   "execution_count": null,
   "metadata": {},
   "outputs": [],
   "source": [
    "wmy = pdb[\"4wmy\"]\n",
    "wmy"
   ]
  },
  {
   "cell_type": "code",
   "execution_count": null,
   "metadata": {},
   "outputs": [],
   "source": [
    "ss1 = pdb[\"4yys_22A_65A\"]\n",
    "ss2 = pdb[\"4yys_22B_65B\"]\n",
    "ss1 == ss2"
   ]
  },
  {
   "cell_type": "code",
   "execution_count": null,
   "metadata": {},
   "outputs": [],
   "source": [
    "ss1.pprint_all()"
   ]
  },
  {
   "cell_type": "code",
   "execution_count": null,
   "metadata": {},
   "outputs": [],
   "source": [
    "ss2.pprint_all()"
   ]
  },
  {
   "cell_type": "code",
   "execution_count": null,
   "metadata": {},
   "outputs": [],
   "source": [
    "def remove_duplicate_ss(sslist: DisulfideList) -> DisulfideList:\n",
    "    pruned = []\n",
    "    for ss in sslist:\n",
    "        if ss not in pruned:\n",
    "            pruned.append(ss)\n",
    "    return pruned"
   ]
  },
  {
   "cell_type": "code",
   "execution_count": null,
   "metadata": {},
   "outputs": [],
   "source": [
    "yys = pdb[\"4wmy\"]\n",
    "yys"
   ]
  },
  {
   "cell_type": "code",
   "execution_count": null,
   "metadata": {},
   "outputs": [],
   "source": [
    "pruned = remove_duplicate_ss(yys)\n",
    "pruned"
   ]
  },
  {
   "cell_type": "code",
   "execution_count": null,
   "metadata": {},
   "outputs": [],
   "source": []
  },
  {
   "cell_type": "code",
   "execution_count": null,
   "metadata": {},
   "outputs": [],
   "source": []
  },
  {
   "cell_type": "code",
   "execution_count": null,
   "metadata": {},
   "outputs": [],
   "source": []
  },
  {
   "cell_type": "code",
   "execution_count": null,
   "metadata": {},
   "outputs": [],
   "source": [
    "def compare_dihedrals(self, other) -> float:\n",
    "    \"\"\"\n",
    "    Compare the Disulfide object's dihedrals to another Disulfide object's dihedrals.\n",
    "\n",
    "    :param other: Disulfide object to compare to\n",
    "    :return: The length of the difference of the two sets of dihedral angles\n",
    "    :raises TypeError: If the input is not a Disulfide object\n",
    "    \"\"\"\n",
    "    import numpy\n",
    "    from Bio.PDB import Vector\n",
    "\n",
    "    def cmp_vec(v1: Vector, v2: Vector) -> float:\n",
    "        \"Return the length of the difference between the two vectors.\"\n",
    "        _diff = v2 - v1\n",
    "        _len = _diff.norm()\n",
    "        return _len\n",
    "\n",
    "    if isinstance(other, Disulfide):\n",
    "        dihed1 = Vector(self.torsion_array)\n",
    "        dihed2 = Vector(other.torsion_array)\n",
    "        return cmp_vec(dihed1, dihed2)\n",
    "    else:\n",
    "        raise TypeError(\"Input must be a Disulfide object.\")"
   ]
  },
  {
   "cell_type": "code",
   "execution_count": null,
   "metadata": {},
   "outputs": [],
   "source": [
    "def Torsion_RMS(first, other) -> float:\n",
    "    \"\"\"\n",
    "    Calculate the RMS distance between the dihedral angles of self and another Disulfide.\n",
    "    :param other: Comparison Disulfide\n",
    "    :return: RMS distance (deg)\n",
    "    \"\"\"\n",
    "    import math\n",
    "\n",
    "    # Get internal coordinates of both objects\n",
    "    ic1 = first.torsion_array\n",
    "    ic2 = other.torsion_array\n",
    "\n",
    "    # Compute the sum of squared differences between corresponding internal coordinates\n",
    "    totsq = sum((p1 - p2) ** 2 for p1, p2 in zip(ic1, ic2))\n",
    "    # Compute the mean of the squared distances\n",
    "    totsq /= len(ic1)\n",
    "\n",
    "    # Take the square root of the mean to get the RMS distance\n",
    "    return math.sqrt(totsq)"
   ]
  },
  {
   "cell_type": "code",
   "execution_count": null,
   "metadata": {},
   "outputs": [],
   "source": [
    "ss1 = pdb[0]\n",
    "ss1"
   ]
  },
  {
   "cell_type": "code",
   "execution_count": null,
   "metadata": {},
   "outputs": [],
   "source": [
    "Torsion_RMS(ss1, ss1)"
   ]
  },
  {
   "cell_type": "code",
   "execution_count": null,
   "metadata": {},
   "outputs": [],
   "source": []
  }
 ],
 "metadata": {
  "kernelspec": {
   "display_name": "proteusPy (0.96.4dev0)",
   "language": "python",
   "name": "proteuspy"
  },
  "language_info": {
   "codemirror_mode": {
    "name": "ipython",
    "version": 3
   },
   "file_extension": ".py",
   "mimetype": "text/x-python",
   "name": "python",
   "nbconvert_exporter": "python",
   "pygments_lexer": "ipython3",
   "version": "3.11.7"
  }
 },
 "nbformat": 4,
 "nbformat_minor": 2
}
