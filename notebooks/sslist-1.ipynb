{
 "cells": [
  {
   "cell_type": "code",
   "execution_count": 1,
   "metadata": {},
   "outputs": [
    {
     "name": "stdout",
     "output_type": "stream",
     "text": [
      "-> load_PDB_SS(): Reading /Users/egs/repos/proteusPy/proteusPy/data/PDB_SS_ALL_LOADER.pkl... \n",
      "-> load_PDB_SS(): Done reading /Users/egs/repos/proteusPy/proteusPy/data/PDB_SS_ALL_LOADER.pkl... \n"
     ]
    }
   ],
   "source": [
    "from proteusPy import DisulfideList, Disulfide, Load_PDB_SS\n",
    "from Bio.PDB import Vector\n",
    "\n",
    "# Load the PDB file\n",
    "pdb = Load_PDB_SS(verbose=True)"
   ]
  },
  {
   "cell_type": "code",
   "execution_count": null,
   "metadata": {},
   "outputs": [],
   "source": [
    "pdb.describe()"
   ]
  },
  {
   "cell_type": "code",
   "execution_count": null,
   "metadata": {},
   "outputs": [],
   "source": [
    "minss = pdb.SSList"
   ]
  },
  {
   "cell_type": "code",
   "execution_count": null,
   "metadata": {},
   "outputs": [],
   "source": [
    "ssmin = minss.min"
   ]
  },
  {
   "cell_type": "code",
   "execution_count": null,
   "metadata": {},
   "outputs": [],
   "source": [
    "ssmax = minss.max"
   ]
  },
  {
   "cell_type": "code",
   "execution_count": null,
   "metadata": {},
   "outputs": [],
   "source": [
    "ssmin == ssmax"
   ]
  },
  {
   "cell_type": "code",
   "execution_count": 10,
   "metadata": {},
   "outputs": [],
   "source": [
    "def compare_dihedrals(self, other) -> float:\n",
    "    \"\"\"\n",
    "    Compare the Disulfide object's dihedrals to another Disulfide object's dihedrals.\n",
    "\n",
    "    :param other: Disulfide object to compare to\n",
    "    :return: The length of the difference of the two sets of dihedral angles\n",
    "    :raises TypeError: If the input is not a Disulfide object\n",
    "    \"\"\"\n",
    "    import numpy\n",
    "    from Bio.PDB.vectors import Vector\n",
    "\n",
    "    def cmp_vec(v1: Vector, v2: Vector) -> float:\n",
    "        \"Return the length of the difference between the two vectors.\"\n",
    "        _diff = v2 - v1\n",
    "        _len = _diff.norm()\n",
    "        return _len\n",
    "\n",
    "    if isinstance(other, Disulfide):\n",
    "        dihed1 = Vector(self.torsion_array)\n",
    "        dihed2 = Vector(other.torsion_array)\n",
    "        return cmp_vec(dihed1, dihed2)\n",
    "    else:\n",
    "        raise TypeError(\"Input must be a Disulfide object.\")"
   ]
  },
  {
   "cell_type": "code",
   "execution_count": 8,
   "metadata": {},
   "outputs": [],
   "source": [
    "def Torsion_RMS(first, other) -> float:\n",
    "    \"\"\"\n",
    "    Calculate the RMS distance between the dihedral angles of self and another Disulfide.\n",
    "    :param other: Comparison Disulfide\n",
    "    :return: RMS distance (deg)\n",
    "    \"\"\"\n",
    "    import math\n",
    "\n",
    "    # Get internal coordinates of both objects\n",
    "    ic1 = first.torsion_array\n",
    "    ic2 = other.torsion_array\n",
    "\n",
    "    # Compute the sum of squared differences between corresponding internal coordinates\n",
    "    totsq = sum((p1 - p2) ** 2 for p1, p2 in zip(ic1, ic2))\n",
    "    # Compute the mean of the squared distances\n",
    "    totsq /= len(ic1)\n",
    "\n",
    "    # Take the square root of the mean to get the RMS distance\n",
    "    return math.sqrt(totsq)"
   ]
  },
  {
   "cell_type": "code",
   "execution_count": 6,
   "metadata": {},
   "outputs": [
    {
     "data": {
      "text/plain": [
       "<Disulfide 4yys_22A_65A, Source: 4yys, Resolution: 1.35 Å>"
      ]
     },
     "execution_count": 6,
     "metadata": {},
     "output_type": "execute_result"
    }
   ],
   "source": [
    "ss1 = pdb[0]\n",
    "ss1"
   ]
  },
  {
   "cell_type": "code",
   "execution_count": 9,
   "metadata": {},
   "outputs": [
    {
     "data": {
      "text/plain": [
       "0.0"
      ]
     },
     "execution_count": 9,
     "metadata": {},
     "output_type": "execute_result"
    }
   ],
   "source": [
    "Torsion_RMS(ss1, ss1)"
   ]
  },
  {
   "cell_type": "code",
   "execution_count": null,
   "metadata": {},
   "outputs": [],
   "source": []
  }
 ],
 "metadata": {
  "kernelspec": {
   "display_name": "proteusPy (0.95.2)",
   "language": "python",
   "name": "proteuspy"
  },
  "language_info": {
   "codemirror_mode": {
    "name": "ipython",
    "version": 3
   },
   "file_extension": ".py",
   "mimetype": "text/x-python",
   "name": "python",
   "nbconvert_exporter": "python",
   "pygments_lexer": "ipython3",
   "version": "3.11.7"
  }
 },
 "nbformat": 4,
 "nbformat_minor": 2
}
