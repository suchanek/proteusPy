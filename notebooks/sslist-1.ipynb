{
 "cells": [
  {
   "cell_type": "markdown",
   "metadata": {},
   "source": [
    "This notebook is a general scratchpad for me so a lot of it might not run correctly. -egs-"
   ]
  },
  {
   "cell_type": "code",
   "execution_count": null,
   "metadata": {},
   "outputs": [],
   "source": [
    "import proteusPy\n",
    "\n",
    "from proteusPy import (\n",
    "    DisulfideList,\n",
    "    Disulfide,\n",
    "    Load_PDB_SS,\n",
    "    load_disulfides_from_id,\n",
    "    prune_extra_ss,\n",
    "    check_header_from_file,\n",
    "    Vector3D,\n",
    ")\n",
    "\n",
    "from proteusPy.logger_config import get_logger\n",
    "from proteusPy.ssparser import (\n",
    "    extract_ssbonds_and_atoms,\n",
    "    print_disulfide_bond_info_dict,\n",
    "    get_phipsi_atoms_coordinates,\n",
    ")\n",
    "import numpy as np\n",
    "\n",
    "\n",
    "_logger = get_logger(\"testing\")"
   ]
  },
  {
   "cell_type": "code",
   "execution_count": null,
   "metadata": {},
   "outputs": [],
   "source": [
    "# Load the PDB file\n",
    "pdb = Load_PDB_SS(verbose=True, subset=False)\n",
    "pdb.describe()"
   ]
  },
  {
   "cell_type": "code",
   "execution_count": null,
   "metadata": {},
   "outputs": [],
   "source": [
    "def create_disulfide_dict(disulfide_list):\n",
    "    \"\"\"\n",
    "    Create a dictionary from a list of disulfide objects where the key is the pdb_id\n",
    "    and the value is a list of indices of the disulfide objects in the list.\n",
    "\n",
    "    Parameters:\n",
    "    disulfide_list (list): List of disulfide objects.\n",
    "\n",
    "    Returns:\n",
    "    dict: Dictionary with pdb_id as keys and lists of indices as values.\n",
    "    \"\"\"\n",
    "    disulfide_dict = {}\n",
    "    for index, disulfide in enumerate(disulfide_list):\n",
    "        if disulfide.pdb_id not in disulfide_dict:\n",
    "            disulfide_dict[disulfide.pdb_id] = []\n",
    "        disulfide_dict[disulfide.pdb_id].append(index)\n",
    "    return disulfide_dict"
   ]
  },
  {
   "cell_type": "code",
   "execution_count": null,
   "metadata": {},
   "outputs": [],
   "source": [
    "ssdict = create_disulfide_dict(pdb.SSList)\n",
    "ssdict"
   ]
  },
  {
   "cell_type": "code",
   "execution_count": null,
   "metadata": {},
   "outputs": [],
   "source": [
    "pdb.SSDict"
   ]
  },
  {
   "cell_type": "code",
   "execution_count": null,
   "metadata": {},
   "outputs": [],
   "source": []
  },
  {
   "cell_type": "code",
   "execution_count": null,
   "metadata": {},
   "outputs": [],
   "source": []
  },
  {
   "cell_type": "code",
   "execution_count": null,
   "metadata": {},
   "outputs": [],
   "source": [
    "pdb[0]\n",
    "sslist = pdb.SSList\n",
    "len(sslist)\n",
    "sslist.minmax_energy"
   ]
  },
  {
   "cell_type": "code",
   "execution_count": null,
   "metadata": {},
   "outputs": [],
   "source": [
    "tor_df = sslist.build_torsion_df()"
   ]
  },
  {
   "cell_type": "code",
   "execution_count": null,
   "metadata": {},
   "outputs": [],
   "source": [
    "tor_df.describe()"
   ]
  },
  {
   "cell_type": "code",
   "execution_count": null,
   "metadata": {},
   "outputs": [],
   "source": [
    "import logging\n",
    "\n",
    "logger = logging.getLogger(\"proteusPy.Disulfide\")\n",
    "logger.setLevel(logging.INFO)\n",
    "logger.info(\"test\")"
   ]
  },
  {
   "cell_type": "code",
   "execution_count": null,
   "metadata": {},
   "outputs": [],
   "source": [
    "import logging\n",
    "\n",
    "\n",
    "def set_logger_level_for_module(pkg_name, level=\"\"):\n",
    "    logger_dict = logging.Logger.manager.loggerDict\n",
    "    registered_loggers = [\n",
    "        name\n",
    "        for name in logger_dict\n",
    "        if isinstance(logger_dict[name], logging.Logger) and name.startswith(pkg_name)\n",
    "    ]\n",
    "    for logger_name in registered_loggers:\n",
    "        logger = logging.getLogger(logger_name)\n",
    "        if level:\n",
    "            logger.setLevel(level)\n",
    "\n",
    "    return registered_loggers\n",
    "\n",
    "\n",
    "# Example usage\n",
    "pkg_name = \"proteusPy\"\n",
    "registered_loggers = set_logger_level_for_module(pkg_name, level=logging.DEBUG)\n",
    "print(f\"Registered loggers for '{pkg_name}':\", registered_loggers)"
   ]
  },
  {
   "cell_type": "code",
   "execution_count": null,
   "metadata": {},
   "outputs": [],
   "source": [
    "import proteusPy.vector3D"
   ]
  },
  {
   "cell_type": "code",
   "execution_count": null,
   "metadata": {},
   "outputs": [],
   "source": [
    "pdb[0]"
   ]
  },
  {
   "cell_type": "code",
   "execution_count": null,
   "metadata": {},
   "outputs": [],
   "source": [
    "ss1 = Disulfide()\n",
    "ss1.Tor"
   ]
  },
  {
   "cell_type": "code",
   "execution_count": null,
   "metadata": {},
   "outputs": [],
   "source": [
    "# Example usage:\n",
    "ssbond_dict, num_ssbonds, errors = extract_ssbonds_and_atoms(\n",
    "    \"/Users/egs/PDB/good/pdb6f99.ent\"\n",
    ")\n",
    "\n",
    "chain_id = \"A\"\n",
    "key = \"proximal-1\"\n",
    "phipsi_atoms = get_phipsi_atoms(ssbond_dict, chain_id, key)\n",
    "print(phipsi_atoms)\n",
    "print_disulfide_bond_info_dict(ssbond_dict)"
   ]
  },
  {
   "cell_type": "code",
   "execution_count": null,
   "metadata": {},
   "outputs": [],
   "source": [
    "import os\n",
    "\n",
    "\n",
    "def print_disulfide_bond_info_dict(ssbond_atom_data):\n",
    "    \"\"\"\n",
    "    Prints the disulfide bond information in a pretty format.\n",
    "\n",
    "    Args:\n",
    "    - ssbond_atom_data (dict): A dictionary containing the SSBOND records and the corresponding ATOM records. The dictionary\n",
    "          has the following structure:\n",
    "            {\n",
    "                \"ssbonds\": list of SSBOND records (str),\n",
    "                \"atoms\": {\n",
    "                    (chain_id, res_seq_num, atom_name): {\n",
    "                        \"x\": x-coordinate (float),\n",
    "                        \"y\": y-coordinate (float),\n",
    "                        \"z\": z-coordinate (float)\n",
    "                    },\n",
    "                    ...\n",
    "                },\n",
    "                \"pairs\": [\n",
    "                    {\n",
    "                        \"proximal\": (chain_id1, res_seq_num1),\n",
    "                        \"distal\": (chain_id2, res_seq_num2),\n",
    "                        \"chains\": (chain_id1, chain_id2),\n",
    "                        \"phipsi\": {\n",
    "                            \"proximal-1\": {\"N\": [x, y, z], \"C\": [x, y, z]},\n",
    "                            \"proximal+1\": {\"N\": [x, y, z], \"C\": [x, y, z]},\n",
    "                            \"distal-1\": {\"N\": [x, y, z], \"C\": [x, y, z]},\n",
    "                            \"distal+1\": {\"N\": [x, y, z], \"C\": [x, y, z]}\n",
    "                        }\n",
    "                    },\n",
    "                    ...\n",
    "                ]\n",
    "            }\n",
    "    \"\"\"\n",
    "    if ssbond_atom_list is None:\n",
    "        print(\"No disulfide bonds found.\")\n",
    "        return\n",
    "\n",
    "    ssbonds = ssbond_atom_data.get(\"ssbonds\", [])\n",
    "    atoms = ssbond_atom_data.get(\"atoms\", {})\n",
    "    pairs = ssbond_atom_data.get(\"pairs\", [])\n",
    "\n",
    "    for pair in pairs:\n",
    "        proximal = pair[\"proximal\"]\n",
    "        distal = pair[\"distal\"]\n",
    "        chain_id1, res_seq_num1 = proximal\n",
    "        chain_id2, res_seq_num2 = distal\n",
    "\n",
    "        print(\n",
    "            f\"Disulfide Bond between Chain {chain_id1} Residue {res_seq_num1} and Chain {chain_id2} Residue {res_seq_num2}\"\n",
    "        )\n",
    "        print(f\"Proximal Residue (Chain {chain_id1}, Residue {res_seq_num1}):\")\n",
    "        for atom_name in [\"N\", \"CA\", \"C\", \"O\", \"CB\", \"SG\"]:\n",
    "            atom_record = atoms.get((chain_id1, res_seq_num1, atom_name))\n",
    "            if atom_record:\n",
    "                print(\n",
    "                    f\"  Atom {atom_name}: ({atom_record['x']:.3f}, {atom_record['y']:.3f}, {atom_record['z']:.3f})\"\n",
    "                )\n",
    "            else:\n",
    "                print(f\"  Atom {atom_name}: Not found\")\n",
    "\n",
    "        print(f\"Distal Residue (Chain {chain_id2}, Residue {res_seq_num2}):\")\n",
    "        for atom_name in [\"N\", \"CA\", \"C\", \"O\", \"CB\", \"SG\"]:\n",
    "            atom_record = atoms.get((chain_id2, res_seq_num2, atom_name))\n",
    "            if atom_record:\n",
    "                print(\n",
    "                    f\"  Atom {atom_name}: ({atom_record['x']:.3f}, {atom_record['y']:.3f}, {atom_record['z']:.3f})\"\n",
    "                )\n",
    "            else:\n",
    "                print(f\"  Atom {atom_name}: Not found\")\n",
    "\n",
    "        print(\"Phi/Psi Atoms:\")\n",
    "        for key, phipsi_atoms in pair[\"phipsi\"].items():\n",
    "            print(f\"  {key}:\")\n",
    "            for atom_name, coords in phipsi_atoms.items():\n",
    "                res_seq_num = (\n",
    "                    int(res_seq_num1) - 1\n",
    "                    if \"proximal-1\" in key\n",
    "                    else (\n",
    "                        int(res_seq_num1) + 1\n",
    "                        if \"proximal+1\" in key\n",
    "                        else (\n",
    "                            int(res_seq_num2) - 1\n",
    "                            if \"distal-1\" in key\n",
    "                            else int(res_seq_num2) + 1\n",
    "                        )\n",
    "                    )\n",
    "                )\n",
    "                print(\n",
    "                    f\"    Atom {atom_name} (Residue {res_seq_num}): ({coords[0]:.3f}, {coords[1]:.3f}, {coords[2]:.3f})\"\n",
    "                )\n",
    "\n",
    "        print(\"-\" * 50)\n",
    "\n",
    "\n",
    "# Example usage:\n",
    "ssbond_dict, num_ssbonds, errors = extract_ssbonds_and_atoms(\n",
    "    \"/Users/egs/PDB/good/pdb6f99.ent\"\n",
    ")\n",
    "\n",
    "print_disulfide_bond_info(ssbond_dict)"
   ]
  },
  {
   "cell_type": "code",
   "execution_count": null,
   "metadata": {},
   "outputs": [],
   "source": []
  },
  {
   "cell_type": "code",
   "execution_count": null,
   "metadata": {},
   "outputs": [],
   "source": [
    "ss = load_disulfides_from_id(\"7o6v\", pdb_dir=\"/Users/egs/PDB/good\", verbose=True)\n",
    "\n",
    "\n",
    "for ssbond in ss:\n",
    "    print(f\"Disulfide: {ssbond}, Ca: {ssbond.ca_distance}\")"
   ]
  },
  {
   "cell_type": "code",
   "execution_count": null,
   "metadata": {},
   "outputs": [],
   "source": [
    "def find_disulfides(pdb, id) -> DisulfideList:\n",
    "    \"\"\"\n",
    "    Find disulfide in pdb object.\n",
    "    \"\"\"\n",
    "\n",
    "    indices = pdb.SSDict[id]\n",
    "    print(f\"indices: {indices}\")\n",
    "    res = DisulfideList([], id)\n",
    "    sslist = pdb.SSList\n",
    "    for ind in indices:\n",
    "        print(f\"ind: {ind} sslist[ind]: {sslist[ind]}\")\n",
    "        res.append(sslist[ind])\n",
    "    return res"
   ]
  },
  {
   "cell_type": "code",
   "execution_count": null,
   "metadata": {},
   "outputs": [],
   "source": [
    "# PDB_SS['4yys'] return a list of SS\n",
    "\n",
    "sslist = find_disulfides(pdb, \"4yys\")\n",
    "sslist"
   ]
  },
  {
   "cell_type": "code",
   "execution_count": null,
   "metadata": {},
   "outputs": [],
   "source": [
    "def find_null_pdb_indices(pdb, limit=1000):\n",
    "    \"\"\"\n",
    "    Loops over pdb entries from 0 to limit (default 1000) and checks each entry for null.\n",
    "    Returns a list of indices with null entries.\n",
    "    \"\"\"\n",
    "    null_indices = []\n",
    "    ids = pdb.IDList\n",
    "    for i in ids:\n",
    "        if len(pdb[i]) == 0:\n",
    "            null_indices.append(i)\n",
    "    return null_indices\n",
    "\n",
    "\n",
    "def find_null_pdb_keys(pdb, limit=1000):\n",
    "    \"\"\"\n",
    "    Loops over pdb entries from 0 to limit (default 1000) and checks each entry for null.\n",
    "    Returns a list of indices with null entries.\n",
    "    \"\"\"\n",
    "    null_indices = []\n",
    "    ssdict = pdb.SSDict\n",
    "    for i in ssdict:\n",
    "        if len(ssdict[i]) == 0:\n",
    "            null_indices.append(i)\n",
    "    return null_indices"
   ]
  },
  {
   "cell_type": "code",
   "execution_count": null,
   "metadata": {},
   "outputs": [],
   "source": [
    "missing = find_null_pdb_indices(pdb)\n",
    "len(missing)\n",
    "missing"
   ]
  },
  {
   "cell_type": "code",
   "execution_count": null,
   "metadata": {},
   "outputs": [],
   "source": [
    "bad = []\n",
    "\n",
    "for id in missing:\n",
    "    res = load_disulfides_from_id(id, verbose=True)\n",
    "    if len(res) == 0:\n",
    "        print(f\"ID {id} is missing disulfides\")\n",
    "    else:\n",
    "        for ss in res:\n",
    "            if ss.ca_distance > 8.0:\n",
    "                print(f\"ID {id} has a long disulfide: {ss}\")\n",
    "                bad.append(ss.name)\n",
    "\n",
    "\n",
    "bad"
   ]
  },
  {
   "cell_type": "code",
   "execution_count": null,
   "metadata": {},
   "outputs": [],
   "source": [
    "pdb[\"6vkk_845A_845C\"]"
   ]
  },
  {
   "cell_type": "code",
   "execution_count": null,
   "metadata": {},
   "outputs": [],
   "source": [
    "idlist = pdb.IDList\n",
    "\"6vkk\" in idlist"
   ]
  },
  {
   "cell_type": "code",
   "execution_count": null,
   "metadata": {},
   "outputs": [],
   "source": [
    "def find_disulfides(pdb, id) -> DisulfideList:\n",
    "    \"\"\"\n",
    "    Find disulfide in pdb object.\n",
    "    \"\"\"\n",
    "\n",
    "    indices = pdb.SSDict[id]\n",
    "    # print(f\"indices: {indices}\")\n",
    "    res = DisulfideList([], id)\n",
    "    sslist = pdb.SSList\n",
    "    for ind in indices:\n",
    "        # print(f\"ind: {ind} sslist[ind]: {sslist[ind]}\")\n",
    "        res.append(sslist[ind])\n",
    "    return res"
   ]
  },
  {
   "cell_type": "code",
   "execution_count": null,
   "metadata": {},
   "outputs": [],
   "source": [
    "# PDB_SS['4yys'] return a list of SS\n",
    "\n",
    "sslist = find_disulfides(pdb, \"4wmy\")\n",
    "sslist"
   ]
  },
  {
   "cell_type": "code",
   "execution_count": null,
   "metadata": {},
   "outputs": [],
   "source": [
    "pdb[\"4wmy\"]"
   ]
  },
  {
   "cell_type": "code",
   "execution_count": null,
   "metadata": {},
   "outputs": [],
   "source": []
  },
  {
   "cell_type": "code",
   "execution_count": null,
   "metadata": {},
   "outputs": [],
   "source": [
    "find_null_pdb_indices(pdb)"
   ]
  },
  {
   "cell_type": "code",
   "execution_count": null,
   "metadata": {},
   "outputs": [],
   "source": []
  },
  {
   "cell_type": "code",
   "execution_count": null,
   "metadata": {},
   "outputs": [],
   "source": [
    "sslist, xchain = prune_extra_ss(wym)\n",
    "sslist"
   ]
  },
  {
   "cell_type": "code",
   "execution_count": null,
   "metadata": {},
   "outputs": [],
   "source": [
    "from proteusPy import remove_duplicate_ss\n",
    "\n",
    "pruned = remove_duplicate_ss(wym)\n",
    "pruned"
   ]
  },
  {
   "cell_type": "code",
   "execution_count": null,
   "metadata": {},
   "outputs": [],
   "source": [
    "def find_string_in_list(target_string, list_of_strings):\n",
    "    \"\"\"\n",
    "    Searches for a target string in a list of strings and returns the index if found.\n",
    "    Returns -1 if the target string is not found.\n",
    "    \"\"\"\n",
    "    try:\n",
    "        return list_of_strings.index(target_string)\n",
    "    except ValueError:\n",
    "        return -1"
   ]
  },
  {
   "cell_type": "code",
   "execution_count": null,
   "metadata": {},
   "outputs": [],
   "source": [
    "find_string_in_list(\"4wmy\", pdb.IDList)\n",
    "pdb[\"4wmy\"]"
   ]
  },
  {
   "cell_type": "code",
   "execution_count": null,
   "metadata": {},
   "outputs": [],
   "source": [
    "wmy = pdb[\"4wmy\"]\n",
    "wmy"
   ]
  },
  {
   "cell_type": "code",
   "execution_count": null,
   "metadata": {},
   "outputs": [],
   "source": [
    "ss1 = pdb[\"4yys_22A_65A\"]\n",
    "ss2 = pdb[\"4yys_22B_65B\"]\n",
    "ss1 == ss2"
   ]
  },
  {
   "cell_type": "code",
   "execution_count": null,
   "metadata": {},
   "outputs": [],
   "source": [
    "ss1.pprint_all()"
   ]
  },
  {
   "cell_type": "code",
   "execution_count": null,
   "metadata": {},
   "outputs": [],
   "source": [
    "ss2.pprint_all()"
   ]
  },
  {
   "cell_type": "code",
   "execution_count": null,
   "metadata": {},
   "outputs": [],
   "source": [
    "def remove_duplicate_ss(sslist: DisulfideList) -> DisulfideList:\n",
    "    pruned = []\n",
    "    for ss in sslist:\n",
    "        if ss not in pruned:\n",
    "            pruned.append(ss)\n",
    "    return pruned"
   ]
  },
  {
   "cell_type": "code",
   "execution_count": null,
   "metadata": {},
   "outputs": [],
   "source": [
    "yys = pdb[\"4wmy\"]\n",
    "yys"
   ]
  },
  {
   "cell_type": "code",
   "execution_count": null,
   "metadata": {},
   "outputs": [],
   "source": [
    "pruned = remove_duplicate_ss(yys)\n",
    "pruned"
   ]
  },
  {
   "cell_type": "code",
   "execution_count": null,
   "metadata": {},
   "outputs": [],
   "source": []
  },
  {
   "cell_type": "code",
   "execution_count": null,
   "metadata": {},
   "outputs": [],
   "source": []
  },
  {
   "cell_type": "code",
   "execution_count": null,
   "metadata": {},
   "outputs": [],
   "source": []
  },
  {
   "cell_type": "code",
   "execution_count": null,
   "metadata": {},
   "outputs": [],
   "source": [
    "def compare_dihedrals(self, other) -> float:\n",
    "    \"\"\"\n",
    "    Compare the Disulfide object's dihedrals to another Disulfide object's dihedrals.\n",
    "\n",
    "    :param other: Disulfide object to compare to\n",
    "    :return: The length of the difference of the two sets of dihedral angles\n",
    "    :raises TypeError: If the input is not a Disulfide object\n",
    "    \"\"\"\n",
    "    import numpy\n",
    "    from Bio.PDB import Vector\n",
    "\n",
    "    def cmp_vec(v1: Vector, v2: Vector) -> float:\n",
    "        \"Return the length of the difference between the two vectors.\"\n",
    "        _diff = v2 - v1\n",
    "        _len = _diff.norm()\n",
    "        return _len\n",
    "\n",
    "    if isinstance(other, Disulfide):\n",
    "        dihed1 = Vector(self.torsion_array)\n",
    "        dihed2 = Vector(other.torsion_array)\n",
    "        return cmp_vec(dihed1, dihed2)\n",
    "    else:\n",
    "        raise TypeError(\"Input must be a Disulfide object.\")"
   ]
  },
  {
   "cell_type": "code",
   "execution_count": null,
   "metadata": {},
   "outputs": [],
   "source": [
    "def Torsion_RMS(first, other) -> float:\n",
    "    \"\"\"\n",
    "    Calculate the RMS distance between the dihedral angles of self and another Disulfide.\n",
    "    :param other: Comparison Disulfide\n",
    "    :return: RMS distance (deg)\n",
    "    \"\"\"\n",
    "    import math\n",
    "\n",
    "    # Get internal coordinates of both objects\n",
    "    ic1 = first.torsion_array\n",
    "    ic2 = other.torsion_array\n",
    "\n",
    "    # Compute the sum of squared differences between corresponding internal coordinates\n",
    "    totsq = sum((p1 - p2) ** 2 for p1, p2 in zip(ic1, ic2))\n",
    "    # Compute the mean of the squared distances\n",
    "    totsq /= len(ic1)\n",
    "\n",
    "    # Take the square root of the mean to get the RMS distance\n",
    "    return math.sqrt(totsq)"
   ]
  },
  {
   "cell_type": "code",
   "execution_count": null,
   "metadata": {},
   "outputs": [],
   "source": [
    "ss1 = pdb[0]\n",
    "ss1"
   ]
  },
  {
   "cell_type": "code",
   "execution_count": null,
   "metadata": {},
   "outputs": [],
   "source": [
    "Torsion_RMS(ss1, ss1)"
   ]
  },
  {
   "cell_type": "code",
   "execution_count": null,
   "metadata": {},
   "outputs": [],
   "source": []
  }
 ],
 "metadata": {
  "kernelspec": {
   "display_name": "ppydev (0.97.4.20240828dev)",
   "language": "python",
   "name": "ppydev"
  },
  "language_info": {
   "codemirror_mode": {
    "name": "ipython",
    "version": 3
   },
   "file_extension": ".py",
   "mimetype": "text/x-python",
   "name": "python",
   "nbconvert_exporter": "python",
   "pygments_lexer": "ipython3",
   "version": "3.11.7"
  }
 },
 "nbformat": 4,
 "nbformat_minor": 2
}
