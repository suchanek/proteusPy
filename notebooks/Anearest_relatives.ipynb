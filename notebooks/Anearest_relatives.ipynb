{
 "cells": [
  {
   "cell_type": "markdown",
   "metadata": {},
   "source": [
    "# Finding Potential Structural Relatives by Sequence Similarity using proteusPy\n",
    "Eric G. Suchanek, PhD 4/17/24"
   ]
  },
  {
   "cell_type": "markdown",
   "metadata": {},
   "source": [
    "Working under the assumption that similar sequence -> similar structure I generated a query on the lowest energy Disulfide Bond in the RCSB database (2q7q) to return PDB IDs for structures with high sequence similarity. I then use some of the proteusPy functions to find structures with similar disulfide bonds."
   ]
  },
  {
   "cell_type": "code",
   "execution_count": 1,
   "metadata": {},
   "outputs": [
    {
     "name": "stdout",
     "output_type": "stream",
     "text": [
      "ProteusPy V0.97.0dev1\n"
     ]
    }
   ],
   "source": [
    "#\n",
    "import pandas as pd\n",
    "import pyvista as pv\n",
    "from pyvista import set_plot_theme\n",
    "\n",
    "from proteusPy import Disulfide, DisulfideList, Load_PDB_SS\n",
    "\n",
    "# pyvista setup for notebooks\n",
    "pv.set_jupyter_backend(\"trame\")\n",
    "\n",
    "#set_plot_theme(\"dark\")\n",
    "LIGHT = True"
   ]
  },
  {
   "cell_type": "markdown",
   "metadata": {},
   "source": [
    "### Load the RCSB Disulfide Database\n",
    "We load the database and get its properties as follows:"
   ]
  },
  {
   "cell_type": "code",
   "execution_count": 2,
   "metadata": {},
   "outputs": [
    {
     "name": "stdout",
     "output_type": "stream",
     "text": [
      "--> DisulfideLoader: Downloading Disulfide Database from Drive...\n"
     ]
    },
    {
     "name": "stderr",
     "output_type": "stream",
     "text": [
      "Downloading...\n",
      "From (original): https://drive.google.com/uc?id=1igF-sppLPaNsBaUS7nkb13vtOGZZmsFp\n",
      "From (redirected): https://drive.google.com/uc?id=1igF-sppLPaNsBaUS7nkb13vtOGZZmsFp&confirm=t&uuid=607f1574-2326-4d94-b243-c9dd69f1499f\n",
      "To: /Users/egs/miniforge3/envs/proteusPy/lib/python3.11/site-packages/proteusPy/data/PDB_SS_ALL_LOADER.pkl\n",
      "100%|██████████████████████████████████████████████████████████████████████████████████████████████████████████████████████████████████████████████████████████████████| 340M/340M [00:15<00:00, 22.6MB/s]\n"
     ]
    },
    {
     "name": "stdout",
     "output_type": "stream",
     "text": [
      "--> DisulfideLoader: Downloading Disulfide Subset Database from Drive...\n"
     ]
    },
    {
     "name": "stderr",
     "output_type": "stream",
     "text": [
      "Downloading...\n",
      "From: https://drive.google.com/uc?id=1puy9pxrClFks0KN9q5PPV_ONKvL-hg33\n",
      "To: /Users/egs/miniforge3/envs/proteusPy/lib/python3.11/site-packages/proteusPy/data/PDB_SS_SUBSET_LOADER.pkl\n",
      "100%|████████████████████████████████████████████████████████████████████████████████████████████████████████████████████████████████████████████████████████████████| 9.64M/9.64M [00:00<00:00, 16.1MB/s]\n"
     ]
    },
    {
     "name": "stdout",
     "output_type": "stream",
     "text": [
      "-> load_PDB_SS(): Reading /Users/egs/miniforge3/envs/proteusPy/lib/python3.11/site-packages/proteusPy/data/PDB_SS_ALL_LOADER.pkl... \n",
      "-> load_PDB_SS(): Done reading /Users/egs/miniforge3/envs/proteusPy/lib/python3.11/site-packages/proteusPy/data/PDB_SS_ALL_LOADER.pkl... \n",
      "    =========== RCSB Disulfide Database Summary ==============\n",
      "       =========== Built: 2024-03-16 17:12:24 ==============\n",
      "PDB IDs present:                    35818\n",
      "Disulfides loaded:                  120494\n",
      "Average structure resolution:       2.34 Å\n",
      "Lowest Energy Disulfide:            2q7q_75D_140D\n",
      "Highest Energy Disulfide:           1toz_456A_467A\n",
      "Cα distance cutoff:                 8.00 Å\n",
      "Total RAM Used:                     30.72 GB.\n",
      "    ================= proteusPy: 0.93.0 =======================\n"
     ]
    }
   ],
   "source": [
    "PDB_SS = Load_PDB_SS(verbose=True)\n",
    "PDB_SS.describe()"
   ]
  },
  {
   "cell_type": "code",
   "execution_count": 3,
   "metadata": {},
   "outputs": [
    {
     "name": "stdout",
     "output_type": "stream",
     "text": [
      "<Disulfide 2q7q_75D_140D, Source: 2q7q, Resolution: 1.6 Å \n",
      "Χ1-Χ5: -59.36°, -59.28°, -83.66°, -59.82° -59.91°, -25.17°, 0.49 kcal/mol \n",
      "Cα Distance: 5.50 Å \n",
      "Torsion length: 145.62 deg>\n"
     ]
    },
    {
     "data": {
      "application/vnd.jupyter.widget-view+json": {
       "model_id": "166a4c68cb6b42809782f9007bc54794",
       "version_major": 2,
       "version_minor": 0
      },
      "text/plain": [
       "Widget(value='<iframe id=\"pyvista-jupyter_trame__template_P_0x318987410_0\" src=\"http://localhost:8888/trame-ju…"
      ]
     },
     "metadata": {},
     "output_type": "display_data"
    }
   ],
   "source": [
    "best_ss = PDB_SS[\"2q7q_75D_140D\"]\n",
    "best_ss.pprint()\n",
    "best_ss.display(style=\"sb\", light=LIGHT)"
   ]
  },
  {
   "cell_type": "markdown",
   "metadata": {},
   "source": [
    "I generated a query on: https://www.ebi.ac.uk/pdbe/entry/pdb/2q7q to return PDB IDs for structures with high sequence similarity to 2q7q - the protein with the lowest energy disulfide bond in the RCSB database. This yielded a ```.csv``` file, which we will import below:"
   ]
  },
  {
   "cell_type": "code",
   "execution_count": 4,
   "metadata": {},
   "outputs": [
    {
     "data": {
      "text/html": [
       "<div>\n",
       "<style scoped>\n",
       "    .dataframe tbody tr th:only-of-type {\n",
       "        vertical-align: middle;\n",
       "    }\n",
       "\n",
       "    .dataframe tbody tr th {\n",
       "        vertical-align: top;\n",
       "    }\n",
       "\n",
       "    .dataframe thead th {\n",
       "        text-align: right;\n",
       "    }\n",
       "</style>\n",
       "<table border=\"1\" class=\"dataframe\">\n",
       "  <thead>\n",
       "    <tr style=\"text-align: right;\">\n",
       "      <th></th>\n",
       "      <th>pdb_id</th>\n",
       "      <th>organism_scientific_name</th>\n",
       "      <th>tax_id</th>\n",
       "      <th>organism_synonyms</th>\n",
       "      <th>rank</th>\n",
       "      <th>genus</th>\n",
       "      <th>superkingdom</th>\n",
       "      <th>journal</th>\n",
       "      <th>journal_volume</th>\n",
       "      <th>journal_first_page</th>\n",
       "      <th>...</th>\n",
       "      <th>molecule_name</th>\n",
       "      <th>all_molecule_name</th>\n",
       "      <th>modified_residue_flag</th>\n",
       "      <th>molecule_type</th>\n",
       "      <th>mutation_type</th>\n",
       "      <th>entry_uniprot_accession</th>\n",
       "      <th>uniprot_id</th>\n",
       "      <th>molecule_synonym</th>\n",
       "      <th>gene_name</th>\n",
       "      <th>entity_id</th>\n",
       "    </tr>\n",
       "  </thead>\n",
       "  <tbody>\n",
       "    <tr>\n",
       "      <th>0</th>\n",
       "      <td>2q7q</td>\n",
       "      <td>Paracoccus denitrificans</td>\n",
       "      <td>266</td>\n",
       "      <td>Parde,Paracoccus Denitrificans,Micrococcus Den...</td>\n",
       "      <td>species,genus,family,order,class,phylum,superk...</td>\n",
       "      <td>Paracoccus</td>\n",
       "      <td>Bacteria</td>\n",
       "      <td>J. Mol. Biol.</td>\n",
       "      <td>276.0</td>\n",
       "      <td>NaN</td>\n",
       "      <td>...</td>\n",
       "      <td>Methylamine dehydrogenase heavy chain</td>\n",
       "      <td>NaN</td>\n",
       "      <td>N</td>\n",
       "      <td>Protein</td>\n",
       "      <td>Conflict</td>\n",
       "      <td>P29894,P22619</td>\n",
       "      <td>DHMH_PARDE</td>\n",
       "      <td>Methylamine dehydrogenase (amicyanin),Methylam...</td>\n",
       "      <td>mauB</td>\n",
       "      <td>1</td>\n",
       "    </tr>\n",
       "    <tr>\n",
       "      <th>1</th>\n",
       "      <td>2bbk</td>\n",
       "      <td>Paracoccus denitrificans</td>\n",
       "      <td>266</td>\n",
       "      <td>Parde,Paracoccus Denitrificans,Micrococcus Den...</td>\n",
       "      <td>species,genus,family,order,class,phylum,superk...</td>\n",
       "      <td>Paracoccus</td>\n",
       "      <td>Bacteria</td>\n",
       "      <td>J. Mol. Biol.</td>\n",
       "      <td>276.0</td>\n",
       "      <td>NaN</td>\n",
       "      <td>...</td>\n",
       "      <td>Methylamine dehydrogenase light chain</td>\n",
       "      <td>NaN</td>\n",
       "      <td>Y</td>\n",
       "      <td>Protein</td>\n",
       "      <td>NaN</td>\n",
       "      <td>P29894,P22619</td>\n",
       "      <td>DHML_PARDE</td>\n",
       "      <td>Methylamine dehydrogenase (amicyanin),MADH,Met...</td>\n",
       "      <td>mauA</td>\n",
       "      <td>2</td>\n",
       "    </tr>\n",
       "    <tr>\n",
       "      <th>2</th>\n",
       "      <td>2agy</td>\n",
       "      <td>Alcaligenes faecalis</td>\n",
       "      <td>511</td>\n",
       "      <td>Achromobacter Sp. Atcc8750,Alcaligenes Sp. Bp1...</td>\n",
       "      <td>species,genus,family,order,class,phylum,superk...</td>\n",
       "      <td>Alcaligenes</td>\n",
       "      <td>Bacteria</td>\n",
       "      <td>Science</td>\n",
       "      <td>312.0</td>\n",
       "      <td>NaN</td>\n",
       "      <td>...</td>\n",
       "      <td>Aralkylamine dehydrogenase light chain</td>\n",
       "      <td>NaN</td>\n",
       "      <td>Y</td>\n",
       "      <td>Protein</td>\n",
       "      <td>NaN</td>\n",
       "      <td>P84887,P84888</td>\n",
       "      <td>AAUA_ALCFA</td>\n",
       "      <td>Aromatic amine dehydrogenase,AADH,Aralkylamine...</td>\n",
       "      <td>aauA</td>\n",
       "      <td>1</td>\n",
       "    </tr>\n",
       "    <tr>\n",
       "      <th>3</th>\n",
       "      <td>2agy</td>\n",
       "      <td>Alcaligenes faecalis</td>\n",
       "      <td>511</td>\n",
       "      <td>Achromobacter Sp. Atcc8750,Alcaligenes Sp. Bp1...</td>\n",
       "      <td>species,genus,family,order,class,phylum,superk...</td>\n",
       "      <td>Alcaligenes</td>\n",
       "      <td>Bacteria</td>\n",
       "      <td>Science</td>\n",
       "      <td>312.0</td>\n",
       "      <td>NaN</td>\n",
       "      <td>...</td>\n",
       "      <td>Aralkylamine dehydrogenase heavy chain</td>\n",
       "      <td>NaN</td>\n",
       "      <td>N</td>\n",
       "      <td>Protein</td>\n",
       "      <td>NaN</td>\n",
       "      <td>P84887,P84888</td>\n",
       "      <td>AAUB_ALCFA</td>\n",
       "      <td>Aromatic amine dehydrogenase,Aralkylamine dehy...</td>\n",
       "      <td>aauB</td>\n",
       "      <td>2</td>\n",
       "    </tr>\n",
       "    <tr>\n",
       "      <th>4</th>\n",
       "      <td>2ah1</td>\n",
       "      <td>Alcaligenes faecalis</td>\n",
       "      <td>511</td>\n",
       "      <td>Achromobacter Sp. Atcc8750,Alcaligenes Sp. Bp1...</td>\n",
       "      <td>species,genus,family,order,class,phylum,superk...</td>\n",
       "      <td>Alcaligenes</td>\n",
       "      <td>Bacteria</td>\n",
       "      <td>Science</td>\n",
       "      <td>312.0</td>\n",
       "      <td>NaN</td>\n",
       "      <td>...</td>\n",
       "      <td>Aralkylamine dehydrogenase light chain</td>\n",
       "      <td>NaN</td>\n",
       "      <td>Y</td>\n",
       "      <td>Protein</td>\n",
       "      <td>NaN</td>\n",
       "      <td>P84888,P84887</td>\n",
       "      <td>AAUA_ALCFA</td>\n",
       "      <td>Aromatic amine dehydrogenase,AADH,Aralkylamine...</td>\n",
       "      <td>aauA</td>\n",
       "      <td>1</td>\n",
       "    </tr>\n",
       "  </tbody>\n",
       "</table>\n",
       "<p>5 rows × 59 columns</p>\n",
       "</div>"
      ],
      "text/plain": [
       "  pdb_id  organism_scientific_name  tax_id  \\\n",
       "0   2q7q  Paracoccus denitrificans     266   \n",
       "1   2bbk  Paracoccus denitrificans     266   \n",
       "2   2agy      Alcaligenes faecalis     511   \n",
       "3   2agy      Alcaligenes faecalis     511   \n",
       "4   2ah1      Alcaligenes faecalis     511   \n",
       "\n",
       "                                   organism_synonyms  \\\n",
       "0  Parde,Paracoccus Denitrificans,Micrococcus Den...   \n",
       "1  Parde,Paracoccus Denitrificans,Micrococcus Den...   \n",
       "2  Achromobacter Sp. Atcc8750,Alcaligenes Sp. Bp1...   \n",
       "3  Achromobacter Sp. Atcc8750,Alcaligenes Sp. Bp1...   \n",
       "4  Achromobacter Sp. Atcc8750,Alcaligenes Sp. Bp1...   \n",
       "\n",
       "                                                rank        genus  \\\n",
       "0  species,genus,family,order,class,phylum,superk...   Paracoccus   \n",
       "1  species,genus,family,order,class,phylum,superk...   Paracoccus   \n",
       "2  species,genus,family,order,class,phylum,superk...  Alcaligenes   \n",
       "3  species,genus,family,order,class,phylum,superk...  Alcaligenes   \n",
       "4  species,genus,family,order,class,phylum,superk...  Alcaligenes   \n",
       "\n",
       "  superkingdom        journal  journal_volume  journal_first_page  ...  \\\n",
       "0     Bacteria  J. Mol. Biol.           276.0                 NaN  ...   \n",
       "1     Bacteria  J. Mol. Biol.           276.0                 NaN  ...   \n",
       "2     Bacteria        Science           312.0                 NaN  ...   \n",
       "3     Bacteria        Science           312.0                 NaN  ...   \n",
       "4     Bacteria        Science           312.0                 NaN  ...   \n",
       "\n",
       "                            molecule_name all_molecule_name  \\\n",
       "0   Methylamine dehydrogenase heavy chain               NaN   \n",
       "1   Methylamine dehydrogenase light chain               NaN   \n",
       "2  Aralkylamine dehydrogenase light chain               NaN   \n",
       "3  Aralkylamine dehydrogenase heavy chain               NaN   \n",
       "4  Aralkylamine dehydrogenase light chain               NaN   \n",
       "\n",
       "  modified_residue_flag molecule_type  mutation_type  entry_uniprot_accession  \\\n",
       "0                     N       Protein       Conflict            P29894,P22619   \n",
       "1                     Y       Protein            NaN            P29894,P22619   \n",
       "2                     Y       Protein            NaN            P84887,P84888   \n",
       "3                     N       Protein            NaN            P84887,P84888   \n",
       "4                     Y       Protein            NaN            P84888,P84887   \n",
       "\n",
       "   uniprot_id                                   molecule_synonym gene_name  \\\n",
       "0  DHMH_PARDE  Methylamine dehydrogenase (amicyanin),Methylam...      mauB   \n",
       "1  DHML_PARDE  Methylamine dehydrogenase (amicyanin),MADH,Met...      mauA   \n",
       "2  AAUA_ALCFA  Aromatic amine dehydrogenase,AADH,Aralkylamine...      aauA   \n",
       "3  AAUB_ALCFA  Aromatic amine dehydrogenase,Aralkylamine dehy...      aauB   \n",
       "4  AAUA_ALCFA  Aromatic amine dehydrogenase,AADH,Aralkylamine...      aauA   \n",
       "\n",
       "  entity_id  \n",
       "0         1  \n",
       "1         2  \n",
       "2         1  \n",
       "3         2  \n",
       "4         1  \n",
       "\n",
       "[5 rows x 59 columns]"
      ]
     },
     "execution_count": 4,
     "metadata": {},
     "output_type": "execute_result"
    }
   ],
   "source": [
    "ss_df = pd.read_csv(\"2q7q_seqsim.csv\")\n",
    "ss_df.head(5)"
   ]
  },
  {
   "cell_type": "markdown",
   "metadata": {},
   "source": [
    "All of the nearest sequence neighbors are sadly, bacterial. Let's extract the unique ids next."
   ]
  },
  {
   "cell_type": "code",
   "execution_count": 5,
   "metadata": {},
   "outputs": [
    {
     "data": {
      "text/plain": [
       "array(['2q7q', '2bbk', '2agy', '2ah1', '2ah0', '2agl', '2agx', '2hjb',\n",
       "       '1mae', '2oiz', '2ojy', '2i0s', '2iup', '2iur', '2agw', '2hxc',\n",
       "       '2i0r', '2iuv', '2i0t', '2mad', '2agz', '2hkr', '2hj4', '2ok4',\n",
       "       '2hkm', '1maf', '2ok6', '2iuq', '3orv', '2h47', '2h3x', '3l4m',\n",
       "       '3l4o', '2j57', '2j55', '2j56', '3pxt', '3sle', '3c75', '3rn0',\n",
       "       '3sjl', '3pxw', '3pxs', '3rlm', '3rmz', '4fa1', '4fa9', '3sxt',\n",
       "       '4l3h', '3rn1', '3sws', '4o1q', '4l3g', '4k3i', '4l1q', '4fan',\n",
       "       '4fa5', '4fav', '4fb1', '3svw', '4y5r', '4fa4', '2iaa', '1mg3',\n",
       "       '1mg2', '2gc4', '2gc7', '2mta'], dtype=object)"
      ]
     },
     "execution_count": 5,
     "metadata": {},
     "output_type": "execute_result"
    }
   ],
   "source": [
    "relative_list = ss_df[\"pdb_id\"].unique()\n",
    "relative_list"
   ]
  },
  {
   "cell_type": "markdown",
   "metadata": {},
   "source": [
    "We now need to convert the list of PDB IDs into real disulfides from the database. We do this with the ``DisulfideLoader.build_ss_from_idlist()`` function. Next we print out some relevant statistics.\n"
   ]
  },
  {
   "cell_type": "code",
   "execution_count": 6,
   "metadata": {},
   "outputs": [
    {
     "name": "stdout",
     "output_type": "stream",
     "text": [
      "There are: 68 related structures.\n",
      "Average Energy: 2.23 kcal/mol\n",
      "Average Ca distance: 3.99 Å\n",
      "Average resolution: 1.88 Å \n",
      "Average torsion distance: 155.99°\n"
     ]
    }
   ],
   "source": [
    "relatives = DisulfideList([], \"relatives\")\n",
    "relatives = PDB_SS.build_ss_from_idlist(relative_list)\n",
    "\n",
    "print(\n",
    "    f\"There are: {relatives.length} related structures.\\nAverage Energy: {relatives.average_energy:.2f} kcal/mol\\nAverage Ca distance: {relatives.Average_Distance:.2f} Å\"\n",
    ")\n",
    "print(\n",
    "    f\"Average resolution: {relatives.Average_Resolution:.2f} Å \\nAverage torsion distance: {relatives.Average_Torsion_Distance:.2f}°\"\n",
    ")"
   ]
  },
  {
   "cell_type": "markdown",
   "metadata": {},
   "source": [
    "Now let's look at the lowest and highest energy structures in this list of relatives."
   ]
  },
  {
   "cell_type": "code",
   "execution_count": 7,
   "metadata": {},
   "outputs": [],
   "source": [
    "ssmin, ssmax = relatives.minmax_energy\n",
    "duolist = DisulfideList([ssmin, ssmax], \"mM\")\n",
    "# duolist.display(style='sb', light=LIGHT)"
   ]
  },
  {
   "cell_type": "code",
   "execution_count": 8,
   "metadata": {},
   "outputs": [
    {
     "data": {
      "application/vnd.jupyter.widget-view+json": {
       "model_id": "f45317bcb2b74f93a05aef5e6f8ddc7a",
       "version_major": 2,
       "version_minor": 0
      },
      "text/plain": [
       "  0%|                                                                              | 0/2 [00:00<?, ?it/s]"
      ]
     },
     "metadata": {},
     "output_type": "display_data"
    },
    {
     "data": {
      "application/vnd.jupyter.widget-view+json": {
       "model_id": "5f112bbbbc594c3e9e93c4cf6a7243e5",
       "version_major": 2,
       "version_minor": 0
      },
      "text/plain": [
       "Widget(value='<iframe id=\"pyvista-jupyter_trame__template_P_0x329760e10_1\" src=\"http://localhost:8888/trame-ju…"
      ]
     },
     "metadata": {},
     "output_type": "display_data"
    }
   ],
   "source": [
    "duolist.display_overlay(light=LIGHT)"
   ]
  },
  {
   "cell_type": "markdown",
   "metadata": {},
   "source": [
    "The two Disulfides...\n",
    "\n",
    "We can find disulfides that are conformationally related by using the DisulfideList.nearest_neighbors() function with a dihedral angle cutoff. This cutoff is measure of angular similarity across all five sidechain dihedral angles."
   ]
  },
  {
   "cell_type": "code",
   "execution_count": 9,
   "metadata": {},
   "outputs": [
    {
     "data": {
      "text/plain": [
       "18"
      ]
     },
     "execution_count": 9,
     "metadata": {},
     "output_type": "execute_result"
    }
   ],
   "source": [
    "close_neighbors = relatives.nearest_neighbors(\n",
    "    ssmin.chi1, ssmin.chi2, ssmin.chi3, ssmin.chi4, ssmin.chi5, 10.0\n",
    ")\n",
    "close_neighbors.length"
   ]
  },
  {
   "cell_type": "code",
   "execution_count": 11,
   "metadata": {},
   "outputs": [
    {
     "data": {
      "application/vnd.jupyter.widget-view+json": {
       "model_id": "e79408e1d5a944a6ba563f67df412dc7",
       "version_major": 2,
       "version_minor": 0
      },
      "text/plain": [
       "  0%|                                                                             | 0/18 [00:00<?, ?it/s]"
      ]
     },
     "metadata": {},
     "output_type": "display_data"
    },
    {
     "data": {
      "application/vnd.jupyter.widget-view+json": {
       "model_id": "70a1b7a02a5c47e7bac3e88a698b6b07",
       "version_major": 2,
       "version_minor": 0
      },
      "text/plain": [
       "Widget(value='<iframe id=\"pyvista-jupyter_trame__template_P_0x329de8410_2\" src=\"http://localhost:8888/trame-ju…"
      ]
     },
     "metadata": {},
     "output_type": "display_data"
    }
   ],
   "source": [
    "close_neighbors.display_overlay(light=LIGHT)"
   ]
  },
  {
   "cell_type": "markdown",
   "metadata": {},
   "source": [
    "So now we have the 18 close neighbors of the lowest energy structure."
   ]
  },
  {
   "cell_type": "code",
   "execution_count": 12,
   "metadata": {},
   "outputs": [
    {
     "data": {
      "text/plain": [
       "25"
      ]
     },
     "execution_count": 12,
     "metadata": {},
     "output_type": "execute_result"
    }
   ],
   "source": [
    "ssTotList = PDB_SS.SSList\n",
    "global_neighbors = ssTotList.nearest_neighbors(\n",
    "    ssmin.chi1, ssmin.chi2, ssmin.chi3, ssmin.chi4, ssmin.chi5, 5.0\n",
    ")\n",
    "global_neighbors.length"
   ]
  },
  {
   "cell_type": "code",
   "execution_count": 13,
   "metadata": {},
   "outputs": [
    {
     "data": {
      "application/vnd.jupyter.widget-view+json": {
       "model_id": "0cd8decd88e645a8a4b026f9b2d9f82b",
       "version_major": 2,
       "version_minor": 0
      },
      "text/plain": [
       "  0%|                                                                             | 0/25 [00:00<?, ?it/s]"
      ]
     },
     "metadata": {},
     "output_type": "display_data"
    },
    {
     "data": {
      "application/vnd.jupyter.widget-view+json": {
       "model_id": "e96df7fecf16427ba42752349d3a3819",
       "version_major": 2,
       "version_minor": 0
      },
      "text/plain": [
       "Widget(value='<iframe id=\"pyvista-jupyter_trame__template_P_0x32e3b8e10_3\" src=\"http://localhost:8888/trame-ju…"
      ]
     },
     "metadata": {},
     "output_type": "display_data"
    }
   ],
   "source": [
    "global_neighbors.display_overlay(light=LIGHT)"
   ]
  },
  {
   "cell_type": "code",
   "execution_count": null,
   "metadata": {},
   "outputs": [],
   "source": []
  }
 ],
 "metadata": {
  "kernelspec": {
   "display_name": "proteusPy (0.97.0dev1)",
   "language": "python",
   "name": "proteuspy"
  },
  "language_info": {
   "codemirror_mode": {
    "name": "ipython",
    "version": 3
   },
   "file_extension": ".py",
   "mimetype": "text/x-python",
   "name": "python",
   "nbconvert_exporter": "python",
   "pygments_lexer": "ipython3",
   "version": "3.11.7"
  }
 },
 "nbformat": 4,
 "nbformat_minor": 4
}
