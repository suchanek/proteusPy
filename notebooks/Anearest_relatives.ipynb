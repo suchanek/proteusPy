{
 "cells": [
  {
   "cell_type": "code",
   "execution_count": null,
   "metadata": {},
   "outputs": [],
   "source": []
  },
  {
   "cell_type": "markdown",
   "metadata": {},
   "source": [
    "# Finding Potential Structural Relatives by Sequence Similarity using proteusPy\n",
    "Eric G. Suchanek, PhD 2/23/24"
   ]
  },
  {
   "cell_type": "markdown",
   "metadata": {},
   "source": [
    "Working under the assumption that similar sequence -> similar structure I generated a query on the lowest energy Disulfide Bond in the RCSB database (2q7q) to return PDB IDs for structures with high sequence similarity. I then use some of the proteusPy functions to find structures with similar disulfide bonds."
   ]
  },
  {
   "cell_type": "code",
   "execution_count": 2,
   "metadata": {},
   "outputs": [],
   "source": [
    "#\n",
    "import pandas as pd\n",
    "import pyvista as pv\n",
    "from pyvista import set_plot_theme\n",
    "\n",
    "from proteusPy.Disulfide import Disulfide\n",
    "from proteusPy.DisulfideList import DisulfideList\n",
    "from proteusPy.DisulfideLoader import Load_PDB_SS\n",
    "\n",
    "# pyvista setup for notebooks\n",
    "pv.set_jupyter_backend(\"trame\")\n",
    "\n",
    "set_plot_theme(\"dark\")\n",
    "LIGHT = True"
   ]
  },
  {
   "cell_type": "markdown",
   "metadata": {},
   "source": [
    "### Load the RCSB Disulfide Database\n",
    "We load the database and get its properties as follows:"
   ]
  },
  {
   "cell_type": "code",
   "execution_count": 3,
   "metadata": {},
   "outputs": [
    {
     "name": "stdout",
     "output_type": "stream",
     "text": [
      "-> load_PDB_SS(): Reading /Users/egs/miniforge3/envs/proteusPy/lib/python3.11/site-packages/proteusPy/data/PDB_SS_ALL_LOADER.pkl... \n",
      "-> load_PDB_SS(): Done reading /Users/egs/miniforge3/envs/proteusPy/lib/python3.11/site-packages/proteusPy/data/PDB_SS_ALL_LOADER.pkl... \n",
      "    =========== RCSB Disulfide Database Summary ==============\n",
      "       =========== Built: 2024-03-16 17:12:24 ==============\n",
      "PDB IDs present:                    35818\n",
      "Disulfides loaded:                  120494\n",
      "Average structure resolution:       2.34 Å\n",
      "Lowest Energy Disulfide:            2q7q_75D_140D\n",
      "Highest Energy Disulfide:           1toz_456A_467A\n",
      "Cα distance cutoff:                 8.00 Å\n",
      "Total RAM Used:                     30.72 GB.\n",
      "    ================= proteusPy: 0.93.0 =======================\n"
     ]
    }
   ],
   "source": [
    "PDB_SS = Load_PDB_SS(verbose=True)\n",
    "PDB_SS.describe()"
   ]
  },
  {
   "cell_type": "code",
   "execution_count": 7,
   "metadata": {},
   "outputs": [
    {
     "name": "stdout",
     "output_type": "stream",
     "text": [
      "5rsa_26A_84A\n"
     ]
    },
    {
     "data": {
      "text/plain": [
       "[-68.64177700691641,\n",
       " -87.08310517280916,\n",
       " -81.44489804423738,\n",
       " -50.83886936309293,\n",
       " -66.09666929641922]"
      ]
     },
     "execution_count": 7,
     "metadata": {},
     "output_type": "execute_result"
    }
   ],
   "source": [
    "ss = PDB_SS['5rsa_26A_84A']\n",
    "print(f'{ss.name}')\n",
    "ss.dihedrals"
   ]
  },
  {
   "cell_type": "code",
   "execution_count": null,
   "metadata": {},
   "outputs": [],
   "source": [
    "best_ss = PDB_SS[\"2q7q_75D_140D\"]\n",
    "best_ss.pprint()\n",
    "best_ss.display(style=\"sb\", light=LIGHT)"
   ]
  },
  {
   "cell_type": "markdown",
   "metadata": {},
   "source": [
    "I generated a query on: https://www.ebi.ac.uk/pdbe/entry/pdb/2q7q to return PDB IDs for structures with high sequence similarity to 2q7q - the protein with the lowest energy disulfide bond in the RCSB database. This yielded a ```.csv``` file, which we will import below:"
   ]
  },
  {
   "cell_type": "code",
   "execution_count": null,
   "metadata": {},
   "outputs": [],
   "source": [
    "ss_df = pd.read_csv(\"2q7q_seqsim.csv\")\n",
    "ss_df.head(5)"
   ]
  },
  {
   "cell_type": "markdown",
   "metadata": {},
   "source": [
    "All of the nearest sequence neighbors are sadly, bacterial. Let's extract the unique ids next."
   ]
  },
  {
   "cell_type": "code",
   "execution_count": null,
   "metadata": {},
   "outputs": [],
   "source": [
    "relative_list = ss_df[\"pdb_id\"].unique()\n",
    "relative_list"
   ]
  },
  {
   "cell_type": "markdown",
   "metadata": {},
   "source": [
    "We now need to convert the list of PDB IDs into real disulfides from the database. We do this with the ``DisulfideLoader.build_ss_from_idlist()`` function. Next we print out some relevant statistics.\n"
   ]
  },
  {
   "cell_type": "code",
   "execution_count": null,
   "metadata": {},
   "outputs": [],
   "source": [
    "relatives = DisulfideList([], \"relatives\")\n",
    "relatives = PDB_SS.build_ss_from_idlist(relative_list)\n",
    "\n",
    "print(\n",
    "    f\"There are: {relatives.length} related structures.\\nAverage Energy: {relatives.Average_Energy:.2f} kcal/mol\\nAverage Ca distance: {relatives.Average_Distance:.2f} Å\"\n",
    ")\n",
    "print(\n",
    "    f\"Average resolution: {relatives.Average_Resolution:.2f} Å \\nAverage torsion distance: {relatives.Average_Torsion_Distance:.2f}°\"\n",
    ")"
   ]
  },
  {
   "cell_type": "markdown",
   "metadata": {},
   "source": [
    "Now let's look at the lowest and highest energy structures in this list of relatives."
   ]
  },
  {
   "cell_type": "code",
   "execution_count": null,
   "metadata": {},
   "outputs": [],
   "source": [
    "ssmin, ssmax = relatives.minmax_energy\n",
    "duolist = DisulfideList([ssmin, ssmax], \"mM\")\n",
    "# duolist.display(style='sb', light=LIGHT)"
   ]
  },
  {
   "cell_type": "code",
   "execution_count": null,
   "metadata": {},
   "outputs": [],
   "source": [
    "duolist.display_overlay(light=LIGHT)"
   ]
  },
  {
   "cell_type": "markdown",
   "metadata": {},
   "source": [
    "The two Disulfides...\n",
    "\n",
    "We can find disulfides that are conformationally related by using the DisulfideList.nearest_neighbors() function with a dihedral angle cutoff. This cutoff is measure of angular similarity across all five sidechain dihedral angles."
   ]
  },
  {
   "cell_type": "code",
   "execution_count": null,
   "metadata": {},
   "outputs": [],
   "source": [
    "close_neighbors = relatives.nearest_neighbors(\n",
    "    ssmin.chi1, ssmin.chi2, ssmin.chi3, ssmin.chi4, ssmin.chi5, 10.0\n",
    ")\n",
    "close_neighbors.length"
   ]
  },
  {
   "cell_type": "code",
   "execution_count": null,
   "metadata": {},
   "outputs": [],
   "source": [
    "# close_neighbors.display_overlay(light=LIGHT)"
   ]
  },
  {
   "cell_type": "markdown",
   "metadata": {},
   "source": [
    "So now we have the 18 close neighbors of the lowest energy structure."
   ]
  },
  {
   "cell_type": "code",
   "execution_count": null,
   "metadata": {},
   "outputs": [],
   "source": [
    "ssTotList = PDB_SS.SSList\n",
    "global_neighbors = ssTotList.nearest_neighbors(\n",
    "    ssmin.chi1, ssmin.chi2, ssmin.chi3, ssmin.chi4, ssmin.chi5, 5.0\n",
    ")\n",
    "global_neighbors.length"
   ]
  },
  {
   "cell_type": "code",
   "execution_count": null,
   "metadata": {},
   "outputs": [],
   "source": [
    "global_neighbors.display_overlay(light=LIGHT)"
   ]
  },
  {
   "cell_type": "code",
   "execution_count": null,
   "metadata": {},
   "outputs": [],
   "source": [
    "from scipy.optimize import minimize\n",
    "import numpy as np\n",
    "\n",
    "\n",
    "def ss_energy_function(x):\n",
    "    chi1, chi2, chi3, chi4, chi5 = x\n",
    "    energy = 2.0 * (\n",
    "        np.cos(np.deg2rad(3.0 * chi1)) + np.cos(np.deg2rad(3.0 * chi5))\n",
    "    )\n",
    "    energy += np.cos(np.deg2rad(3.0 * chi2)) + np.cos(np.deg2rad(3.0 * chi4))\n",
    "    energy += (\n",
    "        3.5 * np.cos(np.deg2rad(2.0 * chi3))\n",
    "        + 0.6 * np.cos(np.deg2rad(3.0 * chi3))\n",
    "        + 10.1\n",
    "    )\n",
    "    return energy\n",
    "\n",
    "\n",
    "initial_guess = [\n",
    "    -60.0,\n",
    "    -60.0,\n",
    "    -90.0,\n",
    "    -60.0,\n",
    "    -60.0,\n",
    "]  # initial guess for chi1, chi2, chi3, chi4, chi5\n",
    "result = minimize(ss_energy_function, initial_guess, method=\"Nelder-Mead\")\n",
    "minimum_energy = result.fun\n",
    "inputs = result.x\n",
    "\n",
    "print(\n",
    "    f'Minimum Energy: {minimum_energy:.3f} for conformation: {[f\"{x:.3f}\" for x in inputs]}'\n",
    ")"
   ]
  },
  {
   "cell_type": "code",
   "execution_count": null,
   "metadata": {},
   "outputs": [],
   "source": []
  }
 ],
 "metadata": {
  "kernelspec": {
   "display_name": "proteusPy (0.93.6)",
   "language": "python",
   "name": "proteuspy"
  },
  "language_info": {
   "codemirror_mode": {
    "name": "ipython",
    "version": 3
   },
   "file_extension": ".py",
   "mimetype": "text/x-python",
   "name": "python",
   "nbconvert_exporter": "python",
   "pygments_lexer": "ipython3",
   "version": "3.11.7"
  }
 },
 "nbformat": 4,
 "nbformat_minor": 2
}
