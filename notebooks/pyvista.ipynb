version https://git-lfs.github.com/spec/v1
oid sha256:df1561e54e21a0b8754375e456afa6edc02fb82343fda2f7153c56ad772697c2
size 6103
