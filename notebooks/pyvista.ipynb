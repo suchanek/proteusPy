{
 "cells": [
  {
   "cell_type": "code",
   "execution_count": 1,
   "metadata": {},
   "outputs": [],
   "source": [
    "from pyvista import set_plot_theme\n",
    "set_plot_theme('document')"
   ]
  },
  {
   "cell_type": "code",
   "execution_count": 2,
   "metadata": {},
   "outputs": [],
   "source": [
    "import numpy as np\n",
    "\n",
    "import pyvista as pv\n",
    "pv.set_jupyter_backend('ipyvtklink')\n",
    "\n",
    "\n",
    "def _cell_bounds(points, bound_position=0.5):\n",
    "    \"\"\"\n",
    "    Calculate coordinate cell boundaries.\n",
    "\n",
    "    Parameters\n",
    "    ----------\n",
    "    points: numpy.ndarray\n",
    "        One-dimensional array of uniformly spaced values of shape (M,).\n",
    "\n",
    "    bound_position: bool, optional\n",
    "        The desired position of the bounds relative to the position\n",
    "        of the points.\n",
    "\n",
    "    Returns\n",
    "    -------\n",
    "    bounds: numpy.ndarray\n",
    "        Array of shape (M+1,)\n",
    "\n",
    "    Examples\n",
    "    --------\n",
    "    >>> a = np.arange(-1, 2.5, 0.5)\n",
    "    >>> a\n",
    "    array([-1. , -0.5,  0. ,  0.5,  1. ,  1.5,  2. ])\n",
    "    >>> cell_bounds(a)\n",
    "    array([-1.25, -0.75, -0.25,  0.25,  0.75,  1.25,  1.75,  2.25])\n",
    "    \"\"\"\n",
    "    if points.ndim != 1:\n",
    "        raise ValueError(\"Only 1D points are allowed.\")\n",
    "    diffs = np.diff(points)\n",
    "    delta = diffs[0] * bound_position\n",
    "    bounds = np.concatenate([[points[0] - delta], points + delta])\n",
    "    return bounds\n",
    "\n",
    "\n",
    "# First, create some dummy data\n",
    "\n",
    "# Approximate radius of the Earth\n",
    "RADIUS = 1000.0\n",
    "\n",
    "# Longitudes and latitudes\n",
    "x = np.arange(0, 360, 5)\n",
    "y = np.arange(-90, 91, 5)\n",
    "y_polar = 90.0 - y  # grid_from_sph_coords() expects polar angle\n",
    "\n",
    "xx, yy = np.meshgrid(x, y)\n",
    "\n",
    "\n",
    "# x- and y-components of the wind vector\n",
    "u_vec = np.cos(np.radians(xx))  # zonal\n",
    "v_vec = np.sin(np.radians(yy))  # meridional\n",
    "\n",
    "# Scalar data\n",
    "scalar = u_vec**2 + v_vec**2\n",
    "\n",
    "# Create arrays of grid cell boundaries, which have shape of (x.shape[0] + 1)\n",
    "xx_bounds = _cell_bounds(x)\n",
    "yy_bounds = _cell_bounds(y_polar)\n",
    "# Vertical levels\n",
    "# in this case a single level slightly above the surface of a sphere\n",
    "levels = [RADIUS * 1.01]"
   ]
  },
  {
   "cell_type": "code",
   "execution_count": 3,
   "metadata": {},
   "outputs": [
    {
     "data": {
      "application/vnd.jupyter.widget-view+json": {
       "model_id": "45a37039cb264f1e85b18f9e3c0da587",
       "version_major": 2,
       "version_minor": 0
      },
      "text/plain": [
       "ViewInteractiveWidget(height=768, layout=Layout(height='auto', width='100%'), width=1024)"
      ]
     },
     "metadata": {},
     "output_type": "display_data"
    }
   ],
   "source": [
    "grid_scalar = pv.grid_from_sph_coords(xx_bounds, yy_bounds, levels)\n",
    "\n",
    "# And fill its cell arrays with the scalar data\n",
    "grid_scalar.cell_data[\"example\"] = np.array(scalar).swapaxes(-2, -1).ravel(\"C\")\n",
    "\n",
    "# Make a plot\n",
    "p = pv.Plotter()\n",
    "p.add_mesh(pv.Sphere(radius=RADIUS))\n",
    "p.add_mesh(grid_scalar, clim=[0.1, 2.0], opacity=0.5, cmap=\"plasma\")\n",
    "p.show()"
   ]
  },
  {
   "cell_type": "code",
   "execution_count": 4,
   "metadata": {},
   "outputs": [
    {
     "data": {
      "application/vnd.jupyter.widget-view+json": {
       "model_id": "7d2c8c4f908a4f0a90fb36077890ae46",
       "version_major": 2,
       "version_minor": 0
      },
      "text/plain": [
       "AppLayout(children=(VBox(children=(HTML(value='<h3>Example Scalars</h3>'), Dropdown(description='Colormap:', o…"
      ]
     },
     "metadata": {},
     "output_type": "display_data"
    }
   ],
   "source": [
    "from pyvista import demos\n",
    "\n",
    "# basic glyphs demo\n",
    "mesh = demos.glyphs(2)\n",
    "\n",
    "text = demos.logo.text_3d(\"I'm interactive!\", depth=0.2)\n",
    "text.points *= 0.1\n",
    "text.translate([0, 1.4, 1.5], inplace=True)\n",
    "mesh += text\n",
    "mesh['Example Scalars'] = mesh.points[:, 0]\n",
    "\n",
    "mesh.plot(cpos='xy', jupyter_backend='ipygany', show_scalar_bar=True)\n"
   ]
  },
  {
   "cell_type": "code",
   "execution_count": 5,
   "metadata": {},
   "outputs": [
    {
     "data": {
      "application/vnd.jupyter.widget-view+json": {
       "model_id": "3481057afbb946a38ac0907c913688ed",
       "version_major": 2,
       "version_minor": 0
      },
      "text/plain": [
       "ViewInteractiveWidget(height=768, layout=Layout(height='auto', width='100%'), width=1024)"
      ]
     },
     "metadata": {},
     "output_type": "display_data"
    }
   ],
   "source": [
    "# Make a plot\n",
    "p = pv.Plotter()\n",
    "p.add_mesh(pv.Sphere(radius=RADIUS, ))\n",
    "p.add_mesh(grid_scalar, clim=[0.1, 2.0], opacity=0.5, cmap=\"plasma\")\n",
    "p.show()"
   ]
  },
  {
   "cell_type": "code",
   "execution_count": null,
   "metadata": {},
   "outputs": [],
   "source": []
  }
 ],
 "metadata": {
  "kernelspec": {
   "display_name": "Python 3 (ipykernel)",
   "language": "python",
   "name": "python3"
  },
  "language_info": {
   "codemirror_mode": {
    "name": "ipython",
    "version": 3
   },
   "file_extension": ".py",
   "mimetype": "text/x-python",
   "name": "python",
   "nbconvert_exporter": "python",
   "pygments_lexer": "ipython3",
   "version": "3.9.15"
  },
  "vscode": {
   "interpreter": {
    "hash": "2e049c0f63e6b330ae815ad1049a36d20686725ba1cc68cc0aadee0375e172d1"
   }
  }
 },
 "nbformat": 4,
 "nbformat_minor": 4
}
