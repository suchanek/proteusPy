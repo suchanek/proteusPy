version https://git-lfs.github.com/spec/v1
oid sha256:8f4501b4c288d8d29c6850ef5bf4f82077fdbc08f0b3931675886ed744ea9d81
size 12986
