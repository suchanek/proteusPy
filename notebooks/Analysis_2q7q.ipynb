{
 "cells": [
  {
   "cell_type": "code",
   "execution_count": 1,
   "metadata": {},
   "outputs": [],
   "source": [
    "# DisulfideBond Playground\n",
    "# Playing with the DisulfideBond class\n",
    "# Author: Eric G. Suchanek, PhD.\n",
    "# (c) 2023 Eric G. Suchanek, PhD., All Rights Reserved\n",
    "# License: MIT\n",
    "# Last Modification: 1/30/23\n",
    "# Cα Cβ Sγ\n",
    "\n",
    "import pandas as pd\n",
    "import numpy\n",
    "\n",
    "import pyvista as pv\n",
    "from pyvista import set_plot_theme\n",
    "\n",
    "from Bio.PDB import *\n",
    "\n",
    "# for using from the repo we \n",
    "import proteusPy\n",
    "from proteusPy import *\n",
    "from proteusPy.data import *\n",
    "from proteusPy.Disulfide import *\n",
    "from proteusPy.DisulfideList import DisulfideList, load_disulfides_from_id\n",
    "from proteusPy.DisulfideLoader import Load_PDB_SS\n",
    "\n",
    "# pyvista setup for notebooks\n",
    "pv.set_jupyter_backend('trame')\n",
    "#set_plot_theme('dark')\n"
   ]
  },
  {
   "cell_type": "code",
   "execution_count": 2,
   "metadata": {},
   "outputs": [
    {
     "name": "stdout",
     "output_type": "stream",
     "text": [
      "-> load_PDB_SS(): Reading /Users/egs/repos/proteusPy/proteusPy/data/PDB_SS_ALL_LOADER.pkl... done.\n"
     ]
    }
   ],
   "source": [
    "PDB_SS = Load_PDB_SS(verbose=True)"
   ]
  },
  {
   "cell_type": "code",
   "execution_count": 3,
   "metadata": {},
   "outputs": [
    {
     "name": "stdout",
     "output_type": "stream",
     "text": [
      "    =========== RCSB Disulfide Database Summary ==============\n",
      "PDB IDs present:                    35818\n",
      "Disulfides loaded:                  120697\n",
      "Average resolution:                 2.23 Å\n",
      "Lowest Energy Disulfide:            2q7q_75D_140D\n",
      "Highest Energy Disulfide:           1toz_456A_467A\n",
      "Total RAM Used:                     29.26 GB.\n",
      "    ================= proteusPy: 0.52dev =======================\n"
     ]
    }
   ],
   "source": [
    "PDB_SS.describe()"
   ]
  },
  {
   "cell_type": "code",
   "execution_count": 4,
   "metadata": {},
   "outputs": [
    {
     "data": {
      "text/html": [
       "<div>\n",
       "<style scoped>\n",
       "    .dataframe tbody tr th:only-of-type {\n",
       "        vertical-align: middle;\n",
       "    }\n",
       "\n",
       "    .dataframe tbody tr th {\n",
       "        vertical-align: top;\n",
       "    }\n",
       "\n",
       "    .dataframe thead th {\n",
       "        text-align: right;\n",
       "    }\n",
       "</style>\n",
       "<table border=\"1\" class=\"dataframe\">\n",
       "  <thead>\n",
       "    <tr style=\"text-align: right;\">\n",
       "      <th></th>\n",
       "      <th>pdb_id</th>\n",
       "      <th>organism_scientific_name</th>\n",
       "      <th>tax_id</th>\n",
       "      <th>organism_synonyms</th>\n",
       "      <th>rank</th>\n",
       "      <th>genus</th>\n",
       "      <th>superkingdom</th>\n",
       "      <th>journal</th>\n",
       "      <th>journal_volume</th>\n",
       "      <th>journal_first_page</th>\n",
       "      <th>...</th>\n",
       "      <th>molecule_name</th>\n",
       "      <th>all_molecule_name</th>\n",
       "      <th>modified_residue_flag</th>\n",
       "      <th>molecule_type</th>\n",
       "      <th>mutation_type</th>\n",
       "      <th>entry_uniprot_accession</th>\n",
       "      <th>uniprot_id</th>\n",
       "      <th>molecule_synonym</th>\n",
       "      <th>gene_name</th>\n",
       "      <th>entity_id</th>\n",
       "    </tr>\n",
       "  </thead>\n",
       "  <tbody>\n",
       "    <tr>\n",
       "      <th>0</th>\n",
       "      <td>2q7q</td>\n",
       "      <td>Paracoccus denitrificans</td>\n",
       "      <td>266</td>\n",
       "      <td>Parde,Paracoccus Denitrificans,Micrococcus Den...</td>\n",
       "      <td>species,genus,family,order,class,phylum,superk...</td>\n",
       "      <td>Paracoccus</td>\n",
       "      <td>Bacteria</td>\n",
       "      <td>J. Mol. Biol.</td>\n",
       "      <td>276.0</td>\n",
       "      <td>NaN</td>\n",
       "      <td>...</td>\n",
       "      <td>Methylamine dehydrogenase heavy chain</td>\n",
       "      <td>NaN</td>\n",
       "      <td>N</td>\n",
       "      <td>Protein</td>\n",
       "      <td>Conflict</td>\n",
       "      <td>P29894,P22619</td>\n",
       "      <td>DHMH_PARDE</td>\n",
       "      <td>Methylamine dehydrogenase (amicyanin),Methylam...</td>\n",
       "      <td>mauB</td>\n",
       "      <td>1</td>\n",
       "    </tr>\n",
       "    <tr>\n",
       "      <th>1</th>\n",
       "      <td>2bbk</td>\n",
       "      <td>Paracoccus denitrificans</td>\n",
       "      <td>266</td>\n",
       "      <td>Parde,Paracoccus Denitrificans,Micrococcus Den...</td>\n",
       "      <td>species,genus,family,order,class,phylum,superk...</td>\n",
       "      <td>Paracoccus</td>\n",
       "      <td>Bacteria</td>\n",
       "      <td>J. Mol. Biol.</td>\n",
       "      <td>276.0</td>\n",
       "      <td>NaN</td>\n",
       "      <td>...</td>\n",
       "      <td>Methylamine dehydrogenase light chain</td>\n",
       "      <td>NaN</td>\n",
       "      <td>Y</td>\n",
       "      <td>Protein</td>\n",
       "      <td>NaN</td>\n",
       "      <td>P29894,P22619</td>\n",
       "      <td>DHML_PARDE</td>\n",
       "      <td>Methylamine dehydrogenase (amicyanin),MADH,Met...</td>\n",
       "      <td>mauA</td>\n",
       "      <td>2</td>\n",
       "    </tr>\n",
       "    <tr>\n",
       "      <th>2</th>\n",
       "      <td>2agy</td>\n",
       "      <td>Alcaligenes faecalis</td>\n",
       "      <td>511</td>\n",
       "      <td>Achromobacter Sp. Atcc8750,Alcaligenes Sp. Bp1...</td>\n",
       "      <td>species,genus,family,order,class,phylum,superk...</td>\n",
       "      <td>Alcaligenes</td>\n",
       "      <td>Bacteria</td>\n",
       "      <td>Science</td>\n",
       "      <td>312.0</td>\n",
       "      <td>NaN</td>\n",
       "      <td>...</td>\n",
       "      <td>Aralkylamine dehydrogenase light chain</td>\n",
       "      <td>NaN</td>\n",
       "      <td>Y</td>\n",
       "      <td>Protein</td>\n",
       "      <td>NaN</td>\n",
       "      <td>P84887,P84888</td>\n",
       "      <td>AAUA_ALCFA</td>\n",
       "      <td>Aromatic amine dehydrogenase,AADH,Aralkylamine...</td>\n",
       "      <td>aauA</td>\n",
       "      <td>1</td>\n",
       "    </tr>\n",
       "    <tr>\n",
       "      <th>3</th>\n",
       "      <td>2agy</td>\n",
       "      <td>Alcaligenes faecalis</td>\n",
       "      <td>511</td>\n",
       "      <td>Achromobacter Sp. Atcc8750,Alcaligenes Sp. Bp1...</td>\n",
       "      <td>species,genus,family,order,class,phylum,superk...</td>\n",
       "      <td>Alcaligenes</td>\n",
       "      <td>Bacteria</td>\n",
       "      <td>Science</td>\n",
       "      <td>312.0</td>\n",
       "      <td>NaN</td>\n",
       "      <td>...</td>\n",
       "      <td>Aralkylamine dehydrogenase heavy chain</td>\n",
       "      <td>NaN</td>\n",
       "      <td>N</td>\n",
       "      <td>Protein</td>\n",
       "      <td>NaN</td>\n",
       "      <td>P84887,P84888</td>\n",
       "      <td>AAUB_ALCFA</td>\n",
       "      <td>Aromatic amine dehydrogenase,Aralkylamine dehy...</td>\n",
       "      <td>aauB</td>\n",
       "      <td>2</td>\n",
       "    </tr>\n",
       "    <tr>\n",
       "      <th>4</th>\n",
       "      <td>2ah1</td>\n",
       "      <td>Alcaligenes faecalis</td>\n",
       "      <td>511</td>\n",
       "      <td>Achromobacter Sp. Atcc8750,Alcaligenes Sp. Bp1...</td>\n",
       "      <td>species,genus,family,order,class,phylum,superk...</td>\n",
       "      <td>Alcaligenes</td>\n",
       "      <td>Bacteria</td>\n",
       "      <td>Science</td>\n",
       "      <td>312.0</td>\n",
       "      <td>NaN</td>\n",
       "      <td>...</td>\n",
       "      <td>Aralkylamine dehydrogenase light chain</td>\n",
       "      <td>NaN</td>\n",
       "      <td>Y</td>\n",
       "      <td>Protein</td>\n",
       "      <td>NaN</td>\n",
       "      <td>P84888,P84887</td>\n",
       "      <td>AAUA_ALCFA</td>\n",
       "      <td>Aromatic amine dehydrogenase,AADH,Aralkylamine...</td>\n",
       "      <td>aauA</td>\n",
       "      <td>1</td>\n",
       "    </tr>\n",
       "  </tbody>\n",
       "</table>\n",
       "<p>5 rows × 59 columns</p>\n",
       "</div>"
      ],
      "text/plain": [
       "  pdb_id  organism_scientific_name  tax_id  \\\n",
       "0   2q7q  Paracoccus denitrificans     266   \n",
       "1   2bbk  Paracoccus denitrificans     266   \n",
       "2   2agy      Alcaligenes faecalis     511   \n",
       "3   2agy      Alcaligenes faecalis     511   \n",
       "4   2ah1      Alcaligenes faecalis     511   \n",
       "\n",
       "                                   organism_synonyms  \\\n",
       "0  Parde,Paracoccus Denitrificans,Micrococcus Den...   \n",
       "1  Parde,Paracoccus Denitrificans,Micrococcus Den...   \n",
       "2  Achromobacter Sp. Atcc8750,Alcaligenes Sp. Bp1...   \n",
       "3  Achromobacter Sp. Atcc8750,Alcaligenes Sp. Bp1...   \n",
       "4  Achromobacter Sp. Atcc8750,Alcaligenes Sp. Bp1...   \n",
       "\n",
       "                                                rank        genus  \\\n",
       "0  species,genus,family,order,class,phylum,superk...   Paracoccus   \n",
       "1  species,genus,family,order,class,phylum,superk...   Paracoccus   \n",
       "2  species,genus,family,order,class,phylum,superk...  Alcaligenes   \n",
       "3  species,genus,family,order,class,phylum,superk...  Alcaligenes   \n",
       "4  species,genus,family,order,class,phylum,superk...  Alcaligenes   \n",
       "\n",
       "  superkingdom        journal  journal_volume  journal_first_page  ...  \\\n",
       "0     Bacteria  J. Mol. Biol.           276.0                 NaN  ...   \n",
       "1     Bacteria  J. Mol. Biol.           276.0                 NaN  ...   \n",
       "2     Bacteria        Science           312.0                 NaN  ...   \n",
       "3     Bacteria        Science           312.0                 NaN  ...   \n",
       "4     Bacteria        Science           312.0                 NaN  ...   \n",
       "\n",
       "                            molecule_name all_molecule_name  \\\n",
       "0   Methylamine dehydrogenase heavy chain               NaN   \n",
       "1   Methylamine dehydrogenase light chain               NaN   \n",
       "2  Aralkylamine dehydrogenase light chain               NaN   \n",
       "3  Aralkylamine dehydrogenase heavy chain               NaN   \n",
       "4  Aralkylamine dehydrogenase light chain               NaN   \n",
       "\n",
       "  modified_residue_flag molecule_type  mutation_type  entry_uniprot_accession  \\\n",
       "0                     N       Protein       Conflict            P29894,P22619   \n",
       "1                     Y       Protein            NaN            P29894,P22619   \n",
       "2                     Y       Protein            NaN            P84887,P84888   \n",
       "3                     N       Protein            NaN            P84887,P84888   \n",
       "4                     Y       Protein            NaN            P84888,P84887   \n",
       "\n",
       "   uniprot_id                                   molecule_synonym gene_name  \\\n",
       "0  DHMH_PARDE  Methylamine dehydrogenase (amicyanin),Methylam...      mauB   \n",
       "1  DHML_PARDE  Methylamine dehydrogenase (amicyanin),MADH,Met...      mauA   \n",
       "2  AAUA_ALCFA  Aromatic amine dehydrogenase,AADH,Aralkylamine...      aauA   \n",
       "3  AAUB_ALCFA  Aromatic amine dehydrogenase,Aralkylamine dehy...      aauB   \n",
       "4  AAUA_ALCFA  Aromatic amine dehydrogenase,AADH,Aralkylamine...      aauA   \n",
       "\n",
       "  entity_id  \n",
       "0         1  \n",
       "1         2  \n",
       "2         1  \n",
       "3         2  \n",
       "4         1  \n",
       "\n",
       "[5 rows x 59 columns]"
      ]
     },
     "execution_count": 4,
     "metadata": {},
     "output_type": "execute_result"
    }
   ],
   "source": [
    "ss_df = pd.read_csv('2q7q_seqsim.csv')\n",
    "ss_df.head()"
   ]
  },
  {
   "cell_type": "code",
   "execution_count": 5,
   "metadata": {},
   "outputs": [
    {
     "data": {
      "text/plain": [
       "array(['2q7q', '2bbk', '2agy', '2ah1', '2ah0', '2agl', '2agx', '2hjb',\n",
       "       '1mae', '2oiz', '2ojy', '2i0s', '2iup', '2iur', '2agw', '2hxc',\n",
       "       '2i0r', '2iuv', '2i0t', '2mad', '2agz', '2hkr', '2hj4', '2ok4',\n",
       "       '2hkm', '1maf', '2ok6', '2iuq', '3orv', '2h47', '2h3x', '3l4m',\n",
       "       '3l4o', '2j57', '2j55', '2j56', '3pxt', '3sle', '3c75', '3rn0',\n",
       "       '3sjl', '3pxw', '3pxs', '3rlm', '3rmz', '4fa1', '4fa9', '3sxt',\n",
       "       '4l3h', '3rn1', '3sws', '4o1q', '4l3g', '4k3i', '4l1q', '4fan',\n",
       "       '4fa5', '4fav', '4fb1', '3svw', '4y5r', '4fa4', '2iaa', '1mg3',\n",
       "       '1mg2', '2gc4', '2gc7', '2mta'], dtype=object)"
      ]
     },
     "execution_count": 5,
     "metadata": {},
     "output_type": "execute_result"
    }
   ],
   "source": [
    "relative_list = ss_df['pdb_id'].unique()\n",
    "relative_list"
   ]
  },
  {
   "cell_type": "code",
   "execution_count": 6,
   "metadata": {},
   "outputs": [],
   "source": [
    "def find_ss(sslist, id):\n",
    "    res = DisulfideList([], id)\n",
    "    for ss in sslist:\n",
    "        if ss.pdb_id == id:\n",
    "            res.append(ss)\n",
    "    return res\n",
    "\n"
   ]
  },
  {
   "cell_type": "code",
   "execution_count": 9,
   "metadata": {},
   "outputs": [],
   "source": [
    "relatives = DisulfideList([], 'relatives')\n",
    "\n",
    "for id in relative_list:\n",
    "    rel = find_ss(PDB_SS.SSList, id)\n",
    "    for ss in rel:\n",
    "        relatives.append(ss)\n"
   ]
  },
  {
   "cell_type": "code",
   "execution_count": 11,
   "metadata": {},
   "outputs": [
    {
     "data": {
      "text/plain": [
       "317"
      ]
     },
     "execution_count": 11,
     "metadata": {},
     "output_type": "execute_result"
    }
   ],
   "source": [
    "relatives.length"
   ]
  },
  {
   "cell_type": "code",
   "execution_count": 12,
   "metadata": {},
   "outputs": [
    {
     "data": {
      "text/plain": [
       "2.242235480740762"
      ]
     },
     "execution_count": 12,
     "metadata": {},
     "output_type": "execute_result"
    }
   ],
   "source": [
    "relatives.Average_Energy"
   ]
  },
  {
   "cell_type": "code",
   "execution_count": 13,
   "metadata": {},
   "outputs": [
    {
     "data": {
      "text/plain": [
       "3.1539267109112834"
      ]
     },
     "execution_count": 13,
     "metadata": {},
     "output_type": "execute_result"
    }
   ],
   "source": [
    "relatives.Average_Distance"
   ]
  },
  {
   "cell_type": "code",
   "execution_count": 14,
   "metadata": {},
   "outputs": [
    {
     "data": {
      "text/plain": [
       "1.830283018867925"
      ]
     },
     "execution_count": 14,
     "metadata": {},
     "output_type": "execute_result"
    }
   ],
   "source": [
    "relatives.Average_Resolution"
   ]
  },
  {
   "cell_type": "code",
   "execution_count": 15,
   "metadata": {},
   "outputs": [
    {
     "data": {
      "text/plain": [
       "192.41984936964994"
      ]
     },
     "execution_count": 15,
     "metadata": {},
     "output_type": "execute_result"
    }
   ],
   "source": [
    "relatives.Average_Torsion_Distance"
   ]
  },
  {
   "cell_type": "code",
   "execution_count": null,
   "metadata": {},
   "outputs": [],
   "source": []
  }
 ],
 "metadata": {
  "kernelspec": {
   "display_name": "proteus",
   "language": "python",
   "name": "python3"
  },
  "language_info": {
   "codemirror_mode": {
    "name": "ipython",
    "version": 3
   },
   "file_extension": ".py",
   "mimetype": "text/x-python",
   "name": "python",
   "nbconvert_exporter": "python",
   "pygments_lexer": "ipython3",
   "version": "3.9.15"
  },
  "orig_nbformat": 4,
  "vscode": {
   "interpreter": {
    "hash": "67eff1aa11768869f1d52cc83ff6f6101b62fd1ade35be784bd3767ddc8bd460"
   }
  }
 },
 "nbformat": 4,
 "nbformat_minor": 2
}
