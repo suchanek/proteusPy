{
 "cells": [
  {
   "cell_type": "code",
   "execution_count": 4,
   "metadata": {},
   "outputs": [],
   "source": [
    "# Structural Analysis of the disulfide bonds in 2q7q\n",
    "# Author: Eric G. Suchanek, PhD.\n",
    "# (c) 2023 Eric G. Suchanek, PhD., All Rights Reserved\n",
    "# Last Modification: 2/2/24\n",
    "# Cα N, Cα, Cβ, C', Sγ Å °\n",
    "\n",
    "import pandas as pd\n",
    "import pyvista as pv\n",
    "from pyvista import set_plot_theme\n",
    "\n",
    "from proteusPy.Disulfide import *\n",
    "from proteusPy.DisulfideList import DisulfideList\n",
    "from proteusPy.DisulfideLoader import Load_PDB_SS\n",
    "\n",
    "# pyvista setup for notebooks\n",
    "pv.set_jupyter_backend('trame')\n",
    "\n",
    "set_plot_theme('dark')\n",
    "LIGHT = True"
   ]
  },
  {
   "cell_type": "markdown",
   "metadata": {},
   "source": [
    "# The Most Beautiful Disulfide Bond in the World\n",
    "Eric G. Suchanek, PhD 2/14/23\n",
    "\n"
   ]
  },
  {
   "cell_type": "markdown",
   "metadata": {},
   "source": [
    "### Load the RCSB Disulfide Database\n",
    "We load the database and get its properties as follows:"
   ]
  },
  {
   "cell_type": "code",
   "execution_count": 2,
   "metadata": {},
   "outputs": [
    {
     "name": "stdout",
     "output_type": "stream",
     "text": [
      "-> load_PDB_SS(): Reading /Users/egs/miniforge3/envs/proteusPy/lib/python3.11/site-packages/proteusPy/data/PDB_SS_ALL_LOADER.pkl... \n",
      "-> load_PDB_SS(): Done reading /Users/egs/miniforge3/envs/proteusPy/lib/python3.11/site-packages/proteusPy/data/PDB_SS_ALL_LOADER.pkl... \n",
      "    =========== RCSB Disulfide Database Summary ==============\n",
      "       =========== Built: 2024-02-08 16:06:42 ==============\n",
      "PDB IDs present:                    35818\n",
      "Disulfides loaded:                  120494\n",
      "Average structure resolution:       2.34 Å\n",
      "Lowest Energy Disulfide:            2q7q_75D_140D\n",
      "Highest Energy Disulfide:           1toz_456A_467A\n",
      "Cα distance cutoff:                 8.00 Å\n",
      "Total RAM Used:                     30.72 GB.\n",
      "    ================= proteusPy: 0.89 =======================\n"
     ]
    }
   ],
   "source": [
    "PDB_SS = Load_PDB_SS(verbose=True)\n",
    "PDB_SS.describe()"
   ]
  },
  {
   "cell_type": "markdown",
   "metadata": {},
   "source": [
    "We see from the statistics above that disulfide 2q7q_75D_140D has the lowest energy, so let's extract it from the database and display it. \n",
    "\n",
    "A few notes about the display window. You might need to click into the window to refresh it. Click drag to rotate the structures, mousewheel to zoom. The window titles display several parameters about the disulfide bonds including their approximate torsional energy, their Ca-Ca distance, and the *torsion length*. \n",
    "\n",
    "The latter parameter is formally, the Euclidean length of the sidechain dihedral angle when treated as a five-dimensional vector. This sounds all mathy and complicated, but in essence it gives a measure of how 'long' that five dimensional vector is. This is used by the DisulfideBond routines to compare individual structures and gauge their structural similarity."
   ]
  },
  {
   "cell_type": "code",
   "execution_count": 5,
   "metadata": {},
   "outputs": [
    {
     "name": "stdout",
     "output_type": "stream",
     "text": [
      "<Disulfide 2q7q_75D_140D, Source: 2q7q, Resolution: 1.6 Å \n",
      "Χ1-Χ5: -59.36°, -59.28°, -83.66°, -59.82° -59.91°, -25.17°, 0.49 kcal/mol \n",
      "Cα Distance: 5.50 Å \n",
      "Torsion length: 145.62 deg>\n"
     ]
    },
    {
     "data": {
      "application/vnd.jupyter.widget-view+json": {
       "model_id": "a8d1baf26f5a4edc8e16ba10b29bc88e",
       "version_major": 2,
       "version_minor": 0
      },
      "text/plain": [
       "Widget(value='<iframe src=\"http://localhost:58240/index.html?ui=P_0x280070510_1&reconnect=auto\" class=\"pyvista…"
      ]
     },
     "metadata": {},
     "output_type": "display_data"
    }
   ],
   "source": [
    "best_ss = PDB_SS['2q7q_75D_140D']\n",
    "best_ss.pprint()\n",
    "best_ss.display(style='sb', light=LIGHT)"
   ]
  },
  {
   "cell_type": "markdown",
   "metadata": {},
   "source": [
    "And that, gentle reader, is it. *The most beautiful disulfide bond in the world*! Look at it. It's gorgeous. The sidechain dihdedral angles (Χ1-Χ5: -59.36°, -59.28°, -83.66°, -59.82° -59.91°), and estimated energy, (0.49 kcal/mol) is *at* than the analytical global minimum, (Χ1-Χ5: -60.00°, -60.00°, -90.00°, -60.00° -60.00°, 0.60 kcal/mol)! Let's have a look at the 'CPK' style rendering to see the structure's overall appearance:\n"
   ]
  },
  {
   "cell_type": "code",
   "execution_count": 4,
   "metadata": {},
   "outputs": [
    {
     "data": {
      "application/vnd.jupyter.widget-view+json": {
       "model_id": "0e3538a0b73740cdab94b95d44e697d7",
       "version_major": 2,
       "version_minor": 0
      },
      "text/plain": [
       "Widget(value='<iframe src=\"http://localhost:53233/index.html?ui=P_0x28a4be150_1&reconnect=auto\" class=\"pyvista…"
      ]
     },
     "metadata": {},
     "output_type": "display_data"
    }
   ],
   "source": [
    "best_ss.display(style='cpk', light=LIGHT)"
   ]
  },
  {
   "cell_type": "markdown",
   "metadata": {},
   "source": [
    "### Finding Potential Structural Relatives by Sequence Similarity\n",
    "Working under the assumption that similar sequence -> similar structure I generated a query on: https://www.ebi.ac.uk/pdbe/entry/pdb/2q7q to return PDB IDs for structures with high sequence similarity. This yielded a ```.csv``` file, which we will import below:"
   ]
  },
  {
   "cell_type": "code",
   "execution_count": 5,
   "metadata": {},
   "outputs": [
    {
     "data": {
      "text/html": [
       "<div>\n",
       "<style scoped>\n",
       "    .dataframe tbody tr th:only-of-type {\n",
       "        vertical-align: middle;\n",
       "    }\n",
       "\n",
       "    .dataframe tbody tr th {\n",
       "        vertical-align: top;\n",
       "    }\n",
       "\n",
       "    .dataframe thead th {\n",
       "        text-align: right;\n",
       "    }\n",
       "</style>\n",
       "<table border=\"1\" class=\"dataframe\">\n",
       "  <thead>\n",
       "    <tr style=\"text-align: right;\">\n",
       "      <th></th>\n",
       "      <th>pdb_id</th>\n",
       "      <th>organism_scientific_name</th>\n",
       "      <th>tax_id</th>\n",
       "      <th>organism_synonyms</th>\n",
       "      <th>rank</th>\n",
       "      <th>genus</th>\n",
       "      <th>superkingdom</th>\n",
       "      <th>journal</th>\n",
       "      <th>journal_volume</th>\n",
       "      <th>journal_first_page</th>\n",
       "      <th>...</th>\n",
       "      <th>molecule_name</th>\n",
       "      <th>all_molecule_name</th>\n",
       "      <th>modified_residue_flag</th>\n",
       "      <th>molecule_type</th>\n",
       "      <th>mutation_type</th>\n",
       "      <th>entry_uniprot_accession</th>\n",
       "      <th>uniprot_id</th>\n",
       "      <th>molecule_synonym</th>\n",
       "      <th>gene_name</th>\n",
       "      <th>entity_id</th>\n",
       "    </tr>\n",
       "  </thead>\n",
       "  <tbody>\n",
       "    <tr>\n",
       "      <th>0</th>\n",
       "      <td>2q7q</td>\n",
       "      <td>Paracoccus denitrificans</td>\n",
       "      <td>266</td>\n",
       "      <td>Parde,Paracoccus Denitrificans,Micrococcus Den...</td>\n",
       "      <td>species,genus,family,order,class,phylum,superk...</td>\n",
       "      <td>Paracoccus</td>\n",
       "      <td>Bacteria</td>\n",
       "      <td>J. Mol. Biol.</td>\n",
       "      <td>276.0</td>\n",
       "      <td>NaN</td>\n",
       "      <td>...</td>\n",
       "      <td>Methylamine dehydrogenase heavy chain</td>\n",
       "      <td>NaN</td>\n",
       "      <td>N</td>\n",
       "      <td>Protein</td>\n",
       "      <td>Conflict</td>\n",
       "      <td>P29894,P22619</td>\n",
       "      <td>DHMH_PARDE</td>\n",
       "      <td>Methylamine dehydrogenase (amicyanin),Methylam...</td>\n",
       "      <td>mauB</td>\n",
       "      <td>1</td>\n",
       "    </tr>\n",
       "    <tr>\n",
       "      <th>1</th>\n",
       "      <td>2bbk</td>\n",
       "      <td>Paracoccus denitrificans</td>\n",
       "      <td>266</td>\n",
       "      <td>Parde,Paracoccus Denitrificans,Micrococcus Den...</td>\n",
       "      <td>species,genus,family,order,class,phylum,superk...</td>\n",
       "      <td>Paracoccus</td>\n",
       "      <td>Bacteria</td>\n",
       "      <td>J. Mol. Biol.</td>\n",
       "      <td>276.0</td>\n",
       "      <td>NaN</td>\n",
       "      <td>...</td>\n",
       "      <td>Methylamine dehydrogenase light chain</td>\n",
       "      <td>NaN</td>\n",
       "      <td>Y</td>\n",
       "      <td>Protein</td>\n",
       "      <td>NaN</td>\n",
       "      <td>P29894,P22619</td>\n",
       "      <td>DHML_PARDE</td>\n",
       "      <td>Methylamine dehydrogenase (amicyanin),MADH,Met...</td>\n",
       "      <td>mauA</td>\n",
       "      <td>2</td>\n",
       "    </tr>\n",
       "    <tr>\n",
       "      <th>2</th>\n",
       "      <td>2agy</td>\n",
       "      <td>Alcaligenes faecalis</td>\n",
       "      <td>511</td>\n",
       "      <td>Achromobacter Sp. Atcc8750,Alcaligenes Sp. Bp1...</td>\n",
       "      <td>species,genus,family,order,class,phylum,superk...</td>\n",
       "      <td>Alcaligenes</td>\n",
       "      <td>Bacteria</td>\n",
       "      <td>Science</td>\n",
       "      <td>312.0</td>\n",
       "      <td>NaN</td>\n",
       "      <td>...</td>\n",
       "      <td>Aralkylamine dehydrogenase light chain</td>\n",
       "      <td>NaN</td>\n",
       "      <td>Y</td>\n",
       "      <td>Protein</td>\n",
       "      <td>NaN</td>\n",
       "      <td>P84887,P84888</td>\n",
       "      <td>AAUA_ALCFA</td>\n",
       "      <td>Aromatic amine dehydrogenase,AADH,Aralkylamine...</td>\n",
       "      <td>aauA</td>\n",
       "      <td>1</td>\n",
       "    </tr>\n",
       "    <tr>\n",
       "      <th>3</th>\n",
       "      <td>2agy</td>\n",
       "      <td>Alcaligenes faecalis</td>\n",
       "      <td>511</td>\n",
       "      <td>Achromobacter Sp. Atcc8750,Alcaligenes Sp. Bp1...</td>\n",
       "      <td>species,genus,family,order,class,phylum,superk...</td>\n",
       "      <td>Alcaligenes</td>\n",
       "      <td>Bacteria</td>\n",
       "      <td>Science</td>\n",
       "      <td>312.0</td>\n",
       "      <td>NaN</td>\n",
       "      <td>...</td>\n",
       "      <td>Aralkylamine dehydrogenase heavy chain</td>\n",
       "      <td>NaN</td>\n",
       "      <td>N</td>\n",
       "      <td>Protein</td>\n",
       "      <td>NaN</td>\n",
       "      <td>P84887,P84888</td>\n",
       "      <td>AAUB_ALCFA</td>\n",
       "      <td>Aromatic amine dehydrogenase,Aralkylamine dehy...</td>\n",
       "      <td>aauB</td>\n",
       "      <td>2</td>\n",
       "    </tr>\n",
       "    <tr>\n",
       "      <th>4</th>\n",
       "      <td>2ah1</td>\n",
       "      <td>Alcaligenes faecalis</td>\n",
       "      <td>511</td>\n",
       "      <td>Achromobacter Sp. Atcc8750,Alcaligenes Sp. Bp1...</td>\n",
       "      <td>species,genus,family,order,class,phylum,superk...</td>\n",
       "      <td>Alcaligenes</td>\n",
       "      <td>Bacteria</td>\n",
       "      <td>Science</td>\n",
       "      <td>312.0</td>\n",
       "      <td>NaN</td>\n",
       "      <td>...</td>\n",
       "      <td>Aralkylamine dehydrogenase light chain</td>\n",
       "      <td>NaN</td>\n",
       "      <td>Y</td>\n",
       "      <td>Protein</td>\n",
       "      <td>NaN</td>\n",
       "      <td>P84888,P84887</td>\n",
       "      <td>AAUA_ALCFA</td>\n",
       "      <td>Aromatic amine dehydrogenase,AADH,Aralkylamine...</td>\n",
       "      <td>aauA</td>\n",
       "      <td>1</td>\n",
       "    </tr>\n",
       "  </tbody>\n",
       "</table>\n",
       "<p>5 rows × 59 columns</p>\n",
       "</div>"
      ],
      "text/plain": [
       "  pdb_id  organism_scientific_name  tax_id  \\\n",
       "0   2q7q  Paracoccus denitrificans     266   \n",
       "1   2bbk  Paracoccus denitrificans     266   \n",
       "2   2agy      Alcaligenes faecalis     511   \n",
       "3   2agy      Alcaligenes faecalis     511   \n",
       "4   2ah1      Alcaligenes faecalis     511   \n",
       "\n",
       "                                   organism_synonyms  \\\n",
       "0  Parde,Paracoccus Denitrificans,Micrococcus Den...   \n",
       "1  Parde,Paracoccus Denitrificans,Micrococcus Den...   \n",
       "2  Achromobacter Sp. Atcc8750,Alcaligenes Sp. Bp1...   \n",
       "3  Achromobacter Sp. Atcc8750,Alcaligenes Sp. Bp1...   \n",
       "4  Achromobacter Sp. Atcc8750,Alcaligenes Sp. Bp1...   \n",
       "\n",
       "                                                rank        genus  \\\n",
       "0  species,genus,family,order,class,phylum,superk...   Paracoccus   \n",
       "1  species,genus,family,order,class,phylum,superk...   Paracoccus   \n",
       "2  species,genus,family,order,class,phylum,superk...  Alcaligenes   \n",
       "3  species,genus,family,order,class,phylum,superk...  Alcaligenes   \n",
       "4  species,genus,family,order,class,phylum,superk...  Alcaligenes   \n",
       "\n",
       "  superkingdom        journal  journal_volume  journal_first_page  ...  \\\n",
       "0     Bacteria  J. Mol. Biol.           276.0                 NaN  ...   \n",
       "1     Bacteria  J. Mol. Biol.           276.0                 NaN  ...   \n",
       "2     Bacteria        Science           312.0                 NaN  ...   \n",
       "3     Bacteria        Science           312.0                 NaN  ...   \n",
       "4     Bacteria        Science           312.0                 NaN  ...   \n",
       "\n",
       "                            molecule_name all_molecule_name  \\\n",
       "0   Methylamine dehydrogenase heavy chain               NaN   \n",
       "1   Methylamine dehydrogenase light chain               NaN   \n",
       "2  Aralkylamine dehydrogenase light chain               NaN   \n",
       "3  Aralkylamine dehydrogenase heavy chain               NaN   \n",
       "4  Aralkylamine dehydrogenase light chain               NaN   \n",
       "\n",
       "  modified_residue_flag molecule_type  mutation_type  entry_uniprot_accession  \\\n",
       "0                     N       Protein       Conflict            P29894,P22619   \n",
       "1                     Y       Protein            NaN            P29894,P22619   \n",
       "2                     Y       Protein            NaN            P84887,P84888   \n",
       "3                     N       Protein            NaN            P84887,P84888   \n",
       "4                     Y       Protein            NaN            P84888,P84887   \n",
       "\n",
       "   uniprot_id                                   molecule_synonym gene_name  \\\n",
       "0  DHMH_PARDE  Methylamine dehydrogenase (amicyanin),Methylam...      mauB   \n",
       "1  DHML_PARDE  Methylamine dehydrogenase (amicyanin),MADH,Met...      mauA   \n",
       "2  AAUA_ALCFA  Aromatic amine dehydrogenase,AADH,Aralkylamine...      aauA   \n",
       "3  AAUB_ALCFA  Aromatic amine dehydrogenase,Aralkylamine dehy...      aauB   \n",
       "4  AAUA_ALCFA  Aromatic amine dehydrogenase,AADH,Aralkylamine...      aauA   \n",
       "\n",
       "  entity_id  \n",
       "0         1  \n",
       "1         2  \n",
       "2         1  \n",
       "3         2  \n",
       "4         1  \n",
       "\n",
       "[5 rows x 59 columns]"
      ]
     },
     "execution_count": 5,
     "metadata": {},
     "output_type": "execute_result"
    }
   ],
   "source": [
    "ss_df = pd.read_csv('2q7q_seqsim.csv')\n",
    "ss_df.head(5)"
   ]
  },
  {
   "cell_type": "markdown",
   "metadata": {},
   "source": [
    "All of the nearest sequence neighbors are sadly, bacterial. Let's extract the unique ids next."
   ]
  },
  {
   "cell_type": "code",
   "execution_count": 6,
   "metadata": {},
   "outputs": [
    {
     "data": {
      "text/plain": [
       "array(['2q7q', '2bbk', '2agy', '2ah1', '2ah0', '2agl', '2agx', '2hjb',\n",
       "       '1mae', '2oiz', '2ojy', '2i0s', '2iup', '2iur', '2agw', '2hxc',\n",
       "       '2i0r', '2iuv', '2i0t', '2mad', '2agz', '2hkr', '2hj4', '2ok4',\n",
       "       '2hkm', '1maf', '2ok6', '2iuq', '3orv', '2h47', '2h3x', '3l4m',\n",
       "       '3l4o', '2j57', '2j55', '2j56', '3pxt', '3sle', '3c75', '3rn0',\n",
       "       '3sjl', '3pxw', '3pxs', '3rlm', '3rmz', '4fa1', '4fa9', '3sxt',\n",
       "       '4l3h', '3rn1', '3sws', '4o1q', '4l3g', '4k3i', '4l1q', '4fan',\n",
       "       '4fa5', '4fav', '4fb1', '3svw', '4y5r', '4fa4', '2iaa', '1mg3',\n",
       "       '1mg2', '2gc4', '2gc7', '2mta'], dtype=object)"
      ]
     },
     "execution_count": 6,
     "metadata": {},
     "output_type": "execute_result"
    }
   ],
   "source": [
    "relative_list = ss_df['pdb_id'].unique()\n",
    "relative_list"
   ]
  },
  {
   "cell_type": "markdown",
   "metadata": {},
   "source": [
    "We now need to convert the list of PDB IDs into real disulfides from the database. We do this with the ``DisulfideLoader.build_ss_from_idlist()`` function. Next we print out some relevant statistics.\n"
   ]
  },
  {
   "cell_type": "code",
   "execution_count": 7,
   "metadata": {},
   "outputs": [
    {
     "name": "stdout",
     "output_type": "stream",
     "text": [
      "There are: 68 related structures.\n",
      "Average Energy: 2.23 kcal/mol\n",
      "Average Ca distance: 3.17 Å\n",
      "Average resolution: 1.88 Å \n",
      "Average torsion distance: 123.83°\n"
     ]
    }
   ],
   "source": [
    "relatives = DisulfideList([], 'relatives')\n",
    "relatives = PDB_SS.build_ss_from_idlist(relative_list)\n",
    "\n",
    "print(f'There are: {relatives.length} related structures.\\nAverage Energy: {relatives.Average_Energy:.2f} kcal/mol\\nAverage Ca distance: {relatives.Average_Distance:.2f} Å')\n",
    "print(f'Average resolution: {relatives.Average_Resolution:.2f} Å \\nAverage torsion distance: {relatives.Average_Torsion_Distance:.2f}°')"
   ]
  },
  {
   "cell_type": "code",
   "execution_count": null,
   "metadata": {},
   "outputs": [],
   "source": [
    "ssmin, ssmax = relatives.minmax_energy()\n",
    "duolist = DisulfideList([ssmin, ssmax], 'mM')\n",
    "duolist.display(style='sb', light=LIGHT)"
   ]
  },
  {
   "cell_type": "code",
   "execution_count": null,
   "metadata": {},
   "outputs": [],
   "source": [
    "duolist.display_overlay(light=LIGHT)"
   ]
  },
  {
   "cell_type": "markdown",
   "metadata": {},
   "source": [
    "The two Disulfides...\n",
    "\n",
    "We can find disulfides that are conformationally related by using the DisulfideList.nearest_neighbors() function with a dihedral angle cutoff. This cutoff is measure of angular similarity across all five sidechain dihedral angles."
   ]
  },
  {
   "cell_type": "code",
   "execution_count": null,
   "metadata": {},
   "outputs": [],
   "source": [
    "close_neighbors = relatives.nearest_neighbors(ssmin.chi1, ssmin.chi2, ssmin.chi3, ssmin.chi4, ssmin.chi5, 10.0)\n",
    "close_neighbors.length"
   ]
  },
  {
   "cell_type": "code",
   "execution_count": null,
   "metadata": {},
   "outputs": [],
   "source": [
    "close_neighbors.display_overlay(light=LIGHT)"
   ]
  },
  {
   "cell_type": "code",
   "execution_count": null,
   "metadata": {},
   "outputs": [],
   "source": [
    "ssTotList = PDB_SS.SSList\n",
    "global_neighbors = ssTotList.nearest_neighbors(ssmin.chi1, ssmin.chi2, ssmin.chi3, ssmin.chi4, ssmin.chi5, 5.0)\n",
    "global_neighbors.length"
   ]
  },
  {
   "cell_type": "code",
   "execution_count": null,
   "metadata": {},
   "outputs": [],
   "source": [
    "global_neighbors.display_overlay(light=LIGHT)"
   ]
  },
  {
   "cell_type": "code",
   "execution_count": null,
   "metadata": {},
   "outputs": [],
   "source": [
    "from scipy.optimize import minimize\n",
    "import numpy as np\n",
    "\n",
    "\n",
    "def ss_energy_function(x):\n",
    "    chi1, chi2, chi3, chi4, chi5 = x\n",
    "    energy = 2.0 * (np.cos(np.deg2rad(3.0 * chi1)) + np.cos(np.deg2rad(3.0 * chi5)))\n",
    "    energy += np.cos(np.deg2rad(3.0 * chi2)) + np.cos(np.deg2rad(3.0 * chi4))\n",
    "    energy += 3.5 * np.cos(np.deg2rad(2.0 * chi3)) + 0.6 * np.cos(np.deg2rad(3.0 * chi3)) + 10.1\n",
    "    return energy\n",
    "    \n",
    "initial_guess = [-60.0, -60.0, -90.0, -60.0, -60.0] # initial guess for chi1, chi2, chi3, chi4, chi5\n",
    "result = minimize(ss_energy_function, initial_guess, method=\"Nelder-Mead\")\n",
    "minimum_energy = result.fun\n",
    "inputs = result.x\n",
    "\n",
    "print(f'Minimum Energy: {minimum_energy:.3f} for conformation: {[f\"{x:.3f}\" for x in inputs]}')\n"
   ]
  },
  {
   "cell_type": "markdown",
   "metadata": {},
   "source": [
    "## References\n",
    "* *Application of Artificial Intelligence in Protein Design* - Doctoral Dissertation, EG Suchanek, 1987, Johns Hopkins Medical School\n",
    "* https://doi.org/10.1021/bi00368a023\n",
    "* https://doi.org/10.1021/bi00368a024\n",
    "* https://doi.org/10.1016/0092-8674(92)90140-8\n",
    "* http://dx.doi.org/10.2174/092986708783330566\n",
    "* https://doi.org/10.1021/bi0603064\n",
    "* https://doi.org/10.1021/bi9826658\n",
    "* https://pubmed.ncbi.nlm.nih.gov/22782563/\n",
    "* "
   ]
  },
  {
   "cell_type": "code",
   "execution_count": null,
   "metadata": {},
   "outputs": [],
   "source": []
  }
 ],
 "metadata": {
  "kernelspec": {
   "display_name": "Python (proteusPy)",
   "language": "python",
   "name": "proteuspy"
  },
  "language_info": {
   "codemirror_mode": {
    "name": "ipython",
    "version": 3
   },
   "file_extension": ".py",
   "mimetype": "text/x-python",
   "name": "python",
   "nbconvert_exporter": "python",
   "pygments_lexer": "ipython3",
   "version": "3.11.7"
  }
 },
 "nbformat": 4,
 "nbformat_minor": 4
}
