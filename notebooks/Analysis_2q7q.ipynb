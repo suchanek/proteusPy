{
 "cells": [
  {
   "cell_type": "markdown",
   "metadata": {},
   "source": [
    "# The Most Beautiful Disulfide Bond in the World\n",
    "Eric G. Suchanek, PhD 2/24/24\n",
    "\n",
    "In this notebook illustrate some of the features of proteusPy by analyzing the lowest energy disulfide bond in the RCSB protein structure database. If you are not familiar with `proteusPy` you can find the API at: https://suchanek.githubio.com/proteusPy.html\n"
   ]
  },
  {
   "cell_type": "code",
   "execution_count": 1,
   "metadata": {
    "tags": []
   },
   "outputs": [],
   "source": [
    "import pyvista as pv\n",
    "from pyvista import set_plot_theme\n",
    "\n",
    "from proteusPy.Disulfide import Disulfide\n",
    "from proteusPy.DisulfideList import DisulfideList\n",
    "from proteusPy.DisulfideLoader import Load_PDB_SS\n",
    "\n",
    "# pyvista setup for notebooks\n",
    "pv.set_jupyter_backend(\"trame\")\n",
    "\n",
    "set_plot_theme(\"default\")\n",
    "LIGHT = True"
   ]
  },
  {
   "cell_type": "markdown",
   "metadata": {},
   "source": [
    "### Load the RCSB Disulfide Database\n",
    "We load the database and get its properties as follows:"
   ]
  },
  {
   "cell_type": "code",
   "execution_count": 2,
   "metadata": {
    "tags": []
   },
   "outputs": [
    {
     "name": "stdout",
     "output_type": "stream",
     "text": [
      "--> DisulfideLoader: Downloading Disulfide Database from Drive...\n"
     ]
    },
    {
     "name": "stderr",
     "output_type": "stream",
     "text": [
      "Downloading...\n",
      "From (original): https://drive.google.com/uc?id=1igF-sppLPaNsBaUS7nkb13vtOGZZmsFp\n",
      "From (redirected): https://drive.google.com/uc?id=1igF-sppLPaNsBaUS7nkb13vtOGZZmsFp&confirm=t&uuid=849c5738-7386-4a11-a235-48a82ec7fc94\n",
      "To: /Users/egs/miniforge3/envs/ppydev/lib/python3.11/site-packages/proteusPy/data/PDB_SS_ALL_LOADER.pkl\n",
      "100%|█████████████████████████████████████████████████████████████████████████████████████████████████████████████████████████████████████| 340M/340M [00:44<00:00, 7.62MB/s]\n"
     ]
    },
    {
     "name": "stdout",
     "output_type": "stream",
     "text": [
      "--> DisulfideLoader: Downloading Disulfide Subset Database from Drive...\n"
     ]
    },
    {
     "name": "stderr",
     "output_type": "stream",
     "text": [
      "Downloading...\n",
      "From: https://drive.google.com/uc?id=1puy9pxrClFks0KN9q5PPV_ONKvL-hg33\n",
      "To: /Users/egs/miniforge3/envs/ppydev/lib/python3.11/site-packages/proteusPy/data/PDB_SS_SUBSET_LOADER.pkl\n",
      "100%|███████████████████████████████████████████████████████████████████████████████████████████████████████████████████████████████████| 9.64M/9.64M [00:01<00:00, 8.68MB/s]\n"
     ]
    },
    {
     "name": "stdout",
     "output_type": "stream",
     "text": [
      "-> load_PDB_SS(): Reading /Users/egs/miniforge3/envs/ppydev/lib/python3.11/site-packages/proteusPy/data/PDB_SS_ALL_LOADER.pkl... \n"
     ]
    },
    {
     "ename": "ModuleNotFoundError",
     "evalue": "No module named 'pandas.core.indexes.numeric'",
     "output_type": "error",
     "traceback": [
      "\u001b[0;31m---------------------------------------------------------------------------\u001b[0m",
      "\u001b[0;31mModuleNotFoundError\u001b[0m                       Traceback (most recent call last)",
      "Cell \u001b[0;32mIn[2], line 1\u001b[0m\n\u001b[0;32m----> 1\u001b[0m PDB_SS \u001b[38;5;241m=\u001b[39m \u001b[43mLoad_PDB_SS\u001b[49m\u001b[43m(\u001b[49m\u001b[43mverbose\u001b[49m\u001b[38;5;241;43m=\u001b[39;49m\u001b[38;5;28;43;01mTrue\u001b[39;49;00m\u001b[43m)\u001b[49m\n\u001b[1;32m      2\u001b[0m PDB_SS\u001b[38;5;241m.\u001b[39mdescribe()\n",
      "File \u001b[0;32m~/miniforge3/envs/ppydev/lib/python3.11/site-packages/proteusPy/DisulfideLoader.py:711\u001b[0m, in \u001b[0;36mLoad_PDB_SS\u001b[0;34m(loadpath, verbose, subset)\u001b[0m\n\u001b[1;32m    708\u001b[0m     \u001b[38;5;28mprint\u001b[39m(\u001b[38;5;124mf\u001b[39m\u001b[38;5;124m\"\u001b[39m\u001b[38;5;124m-> load_PDB_SS(): Reading \u001b[39m\u001b[38;5;132;01m{\u001b[39;00m_fname\u001b[38;5;132;01m}\u001b[39;00m\u001b[38;5;124m... \u001b[39m\u001b[38;5;124m\"\u001b[39m)\n\u001b[1;32m    710\u001b[0m \u001b[38;5;28;01mwith\u001b[39;00m \u001b[38;5;28mopen\u001b[39m(_fname, \u001b[38;5;124m\"\u001b[39m\u001b[38;5;124mrb\u001b[39m\u001b[38;5;124m\"\u001b[39m) \u001b[38;5;28;01mas\u001b[39;00m f:\n\u001b[0;32m--> 711\u001b[0m     res \u001b[38;5;241m=\u001b[39m \u001b[43mpickle\u001b[49m\u001b[38;5;241;43m.\u001b[39;49m\u001b[43mload\u001b[49m\u001b[43m(\u001b[49m\u001b[43mf\u001b[49m\u001b[43m)\u001b[49m\n\u001b[1;32m    712\u001b[0m     \u001b[38;5;66;03m# res = pd.compat.pickle_compat.load(f)\u001b[39;00m\n\u001b[1;32m    714\u001b[0m \u001b[38;5;28;01mif\u001b[39;00m verbose:\n",
      "\u001b[0;31mModuleNotFoundError\u001b[0m: No module named 'pandas.core.indexes.numeric'"
     ]
    }
   ],
   "source": [
    "PDB_SS = Load_PDB_SS(verbose=True)\n",
    "PDB_SS.describe()"
   ]
  },
  {
   "cell_type": "markdown",
   "metadata": {},
   "source": [
    "We see from the statistics above that disulfide 2q7q_75D_140D has the lowest energy, so let's extract it from the database and display it. \n",
    "\n",
    "A few notes about the display window. You might need to click into the window to refresh it. Click drag to rotate the structures, mousewheel to zoom. The window titles display several parameters about the disulfide bonds including their approximate torsional energy, their Ca-Ca distance, and the *torsion length*. \n",
    "\n",
    "The latter parameter is formally, the Euclidean length of the sidechain dihedral angle when treated as a five-dimensional vector. This sounds all mathy and complicated, but in essence it gives a measure of how 'long' that five dimensional vector is. This is used by the package to compare individual structures and gauge their structural similarity."
   ]
  },
  {
   "cell_type": "code",
   "execution_count": null,
   "metadata": {},
   "outputs": [],
   "source": [
    "ssmin, ssmax = PDB_SS.SSList.minmax_energy\n",
    "ssmin_energy = ssmin.energy\n",
    "\n",
    "best_ss = PDB_SS[\"2q7q_75D_140D\"]\n",
    "best_dihedrals = best_ss.dihedrals\n",
    "best_ss.pprint()\n",
    "best_ss.display(style=\"sb\", light=LIGHT)"
   ]
  },
  {
   "cell_type": "markdown",
   "metadata": {},
   "source": [
    "And that, gentle reader, is it. *The most beautiful disulfide bond in the world*! Look at it. This is the lowest energy structure in the entire database. The sidechain dihdedral angles (Χ1-Χ5: -59.36°, -59.28°, -83.66°, -59.82° -59.91°), and the estimated energy, (0.49 kcal/mol). \n",
    "\n",
    "How does this compare to an analytical (modelled) minimum? We can use the ``minimize`` module from ``scipy`` to check. We know from chemistry that a reasonable guess for a low energy conformation would have the dihedral angles: (Χ1-Χ5: -60.00°, -60.00°, -90.00°, -60.00° -60.00°, 0.60 kcal/mol). Let's run this through scipy and compute a minimum energy conformation:\n"
   ]
  },
  {
   "cell_type": "code",
   "execution_count": null,
   "metadata": {},
   "outputs": [],
   "source": [
    "from scipy.optimize import minimize\n",
    "from proteusPy.Disulfide import Disulfide_Energy_Function\n",
    "\n",
    "initial_guess = [\n",
    "    -60.0,\n",
    "    -60.0,\n",
    "    -90.0,\n",
    "    -60.0,\n",
    "    -60.0,\n",
    "]  # initial guess for chi1, chi2, chi3, chi4, chi5\n",
    "result = minimize(Disulfide_Energy_Function, initial_guess, method=\"Nelder-Mead\")\n",
    "minimum_energy = result.fun\n",
    "min_conf = result.x\n",
    "print(\n",
    "    f'Modeled minimum energy: {minimum_energy:.3f} kcal/mol for conformation: {[f\"{x:.3f}\" for x in min_conf]}'\n",
    ")"
   ]
  },
  {
   "cell_type": "markdown",
   "metadata": {},
   "source": [
    "So the computed minimum energy structure is *0.489* kcal/mol, estimated. The difference from the actual conformation is:"
   ]
  },
  {
   "cell_type": "code",
   "execution_count": null,
   "metadata": {},
   "outputs": [],
   "source": [
    "diff = minimum_energy - ssmin_energy\n",
    "print(f\"Modeled - actual energy difference is: {diff} kcal/mol\")"
   ]
  },
  {
   "cell_type": "markdown",
   "metadata": {},
   "source": [
    "The real structure is actually at a *lower* energy than the predicted! What an amazing Disulfide bond! Let's build a model for its conformation. We do that by creating an empty disulfide and then using the `Disulfide.build_yourself` function."
   ]
  },
  {
   "cell_type": "code",
   "execution_count": null,
   "metadata": {},
   "outputs": [],
   "source": [
    "modelled_min = Disulfide(\"model\")\n",
    "modelled_min.dihedrals = min_conf\n",
    "modelled_min.build_yourself()"
   ]
  },
  {
   "cell_type": "markdown",
   "metadata": {},
   "source": [
    "Now make a ``DisulfideList`` list and put the real structure and modelled structure into it."
   ]
  },
  {
   "cell_type": "code",
   "execution_count": null,
   "metadata": {},
   "outputs": [],
   "source": [
    "minmax = DisulfideList([modelled_min, ssmin], \"minmax\")"
   ]
  },
  {
   "cell_type": "markdown",
   "metadata": {},
   "source": [
    "Finally, display them in a common reference frame:"
   ]
  },
  {
   "cell_type": "code",
   "execution_count": null,
   "metadata": {},
   "outputs": [],
   "source": [
    "minmax.display_overlay()"
   ]
  },
  {
   "cell_type": "markdown",
   "metadata": {},
   "source": [
    "The two structures overlap with an overall RMS error of 2.14 A. Not bad considering the modeled structure is made using idealized bond lengths and angles. This serves to remind us that nature is the ultimate modeling engine, and that we still have much to learn."
   ]
  },
  {
   "cell_type": "markdown",
   "metadata": {},
   "source": [
    "## References\n",
    "* *Application of Artificial Intelligence in Protein Design* - Doctoral Dissertation, EG Suchanek, 1987, Johns Hopkins Medical School\n",
    "* https://doi.org/10.1021/bi00368a023\n"
   ]
  },
  {
   "cell_type": "code",
   "execution_count": 3,
   "metadata": {},
   "outputs": [
    {
     "name": "stdout",
     "output_type": "stream",
     "text": [
      "<Disulfide 2q7q_75D_140D, Source: 2q7q, Resolution: 1.6 Å \n",
      "Χ1-Χ5: -59.36°, -59.28°, -83.66°, -59.82° -59.91°, -25.17°, 0.49 kcal/mol \n",
      "Cα Distance: 5.50 Å \n",
      "Torsion length: 145.62 deg>\n"
     ]
    }
   ],
   "source": [
    "ss1 = PDB_SS[\"2q7q_75D_140D\"]\n",
    "ss1.pprint()"
   ]
  },
  {
   "cell_type": "code",
   "execution_count": 4,
   "metadata": {},
   "outputs": [
    {
     "data": {
      "text/plain": [
       "<Disulfide 2q7q_75D_140D, Source: 2q7q, Resolution: 1.6 Å>"
      ]
     },
     "execution_count": 4,
     "metadata": {},
     "output_type": "execute_result"
    }
   ],
   "source": [
    "ss1"
   ]
  },
  {
   "cell_type": "code",
   "execution_count": 6,
   "metadata": {},
   "outputs": [
    {
     "name": "stdout",
     "output_type": "stream",
     "text": [
      "<Disulfide 2q7q_75D_140D, Source: 2q7q, Resolution: 1.6 Å \n",
      "Χ1-Χ5: -59.36°, -59.28°, -83.66°, -59.82° -59.91°, -25.17°, 0.49 kcal/mol \n",
      "Cα Distance: 5.50 Å \n",
      "Torsion length: 145.62 deg>\n"
     ]
    }
   ],
   "source": [
    "str1 = ss1.pprint()"
   ]
  },
  {
   "cell_type": "code",
   "execution_count": 7,
   "metadata": {},
   "outputs": [],
   "source": [
    "str1"
   ]
  },
  {
   "cell_type": "code",
   "execution_count": null,
   "metadata": {},
   "outputs": [],
   "source": []
  }
 ],
 "metadata": {
  "kernelspec": {
   "display_name": "ppydev (0.93.0)",
   "language": "python",
   "name": "ppydev"
  },
  "language_info": {
   "codemirror_mode": {
    "name": "ipython",
    "version": 3
   },
   "file_extension": ".py",
   "mimetype": "text/x-python",
   "name": "python",
   "nbconvert_exporter": "python",
   "pygments_lexer": "ipython3",
   "version": "3.11.7"
  }
 },
 "nbformat": 4,
 "nbformat_minor": 4
}
