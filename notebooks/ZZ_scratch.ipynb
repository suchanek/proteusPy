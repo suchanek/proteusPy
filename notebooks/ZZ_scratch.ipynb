version https://git-lfs.github.com/spec/v1
oid sha256:eba4e510a989e1fb851ef157c692b598e76e0122f6ead0fd77643ef743e23df2
size 162437
