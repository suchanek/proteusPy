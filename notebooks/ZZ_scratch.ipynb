version https://git-lfs.github.com/spec/v1
oid sha256:9e57512f4535671b153bc27a85b2d729c827dc5542efe971fe51c6fe949a70e7
size 96949
