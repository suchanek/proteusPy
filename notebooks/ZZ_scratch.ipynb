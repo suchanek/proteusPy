version https://git-lfs.github.com/spec/v1
oid sha256:21235ca7a244e466663aa0ff05112eb7e0748e4f3491925a956041f8e01f971f
size 4832894
