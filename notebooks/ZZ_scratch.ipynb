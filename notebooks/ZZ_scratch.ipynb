version https://git-lfs.github.com/spec/v1
oid sha256:d36fdbc7c11a34802cb114a3167d9698d552813ccf81bea7a3dc5dd0a5f3e76b
size 90245
