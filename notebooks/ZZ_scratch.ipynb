version https://git-lfs.github.com/spec/v1
oid sha256:707d341ee047ac6880a6fdbb450ce835f371db9a6287097e0ef0f8ef3ab7ac9b
size 82035
