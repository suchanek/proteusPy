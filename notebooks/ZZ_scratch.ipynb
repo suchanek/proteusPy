version https://git-lfs.github.com/spec/v1
oid sha256:328a411cdb4c1ba55bdb6c0fd2f57225d805d00bb1b8614bea1f0346140773e7
size 4832348
