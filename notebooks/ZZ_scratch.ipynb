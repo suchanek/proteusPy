version https://git-lfs.github.com/spec/v1
oid sha256:23525a35f924975c3a99654f77b7828692e29e0afa9cb8dde1111698c767a3a3
size 103286
