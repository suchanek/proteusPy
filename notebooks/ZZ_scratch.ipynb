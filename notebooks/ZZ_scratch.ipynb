{
 "cells": [
  {
   "cell_type": "code",
   "execution_count": 2,
   "metadata": {},
   "outputs": [],
   "source": [
    "from proteusPy import Load_PDB_SS, Disulfide, DisulfideList\n",
    "from proteusPy import calculate_bond_angle, rms_difference\n",
    "\n",
    "import numpy as np"
   ]
  },
  {
   "cell_type": "code",
   "execution_count": 3,
   "metadata": {},
   "outputs": [
    {
     "name": "stdout",
     "output_type": "stream",
     "text": [
      "-> load_PDB_SS(): Reading /Users/egs/miniforge3/envs/proteusPy/lib/python3.11/site-packages/proteusPy/data/PDB_SS_ALL_LOADER.pkl... \n",
      "-> load_PDB_SS(): Done reading /Users/egs/miniforge3/envs/proteusPy/lib/python3.11/site-packages/proteusPy/data/PDB_SS_ALL_LOADER.pkl... \n",
      "    =========== RCSB Disulfide Database Summary ==============\n",
      "       =========== Built: 2024-08-13 10:32:49 ==============\n",
      "PDB IDs present:                    37075\n",
      "Disulfides loaded:                  175649\n",
      "Average structure resolution:       2.07 Å\n",
      "Lowest Energy Disulfide:            2q7q_75D_140D\n",
      "Highest Energy Disulfide:           6vxk_801B_806B\n",
      "Cα distance cutoff:                 -1.00 Å\n",
      "Total RAM Used:                     44.35 GB.\n",
      "    ================= proteusPy: 0.97.0dev9 =======================\n"
     ]
    }
   ],
   "source": [
    "PDB_SS = Load_PDB_SS(subset=False, verbose=True)\n",
    "PDB_SS.describe()"
   ]
  },
  {
   "cell_type": "code",
   "execution_count": 4,
   "metadata": {},
   "outputs": [],
   "source": [
    "ss1 = PDB_SS[\"2q7q_75D_140D\"]\n",
    "coords = ss1.coords_array\n",
    "internal = ss1.internal_coords_array\n",
    "#internal\n"
   ]
  },
  {
   "cell_type": "code",
   "execution_count": 5,
   "metadata": {},
   "outputs": [
    {
     "data": {
      "text/plain": [
       "1.820004228336223"
      ]
     },
     "execution_count": 5,
     "metadata": {},
     "output_type": "execute_result"
    }
   ],
   "source": [
    "ss1.bond_angle_ideality"
   ]
  },
  {
   "cell_type": "code",
   "execution_count": 6,
   "metadata": {},
   "outputs": [
    {
     "data": {
      "text/plain": [
       "0.5072611523695255"
      ]
     },
     "execution_count": 6,
     "metadata": {},
     "output_type": "execute_result"
    }
   ],
   "source": [
    "dihed = ss1.dihedrals\n",
    "modelled_min = Disulfide(\"model\")\n",
    "modelled_min.dihedrals = dihed\n",
    "modelled_min.build_yourself()\n",
    "modelled_min.bond_angle_ideality\n"
   ]
  },
  {
   "cell_type": "code",
   "execution_count": 6,
   "metadata": {},
   "outputs": [
    {
     "name": "stderr",
     "output_type": "stream",
     "text": [
      "INFO:proteusPy.vector3D:Calculated bond angle for ('N1', 'CA1', 'CB1'): 108.45 vs 108.50 degrees\n",
      "INFO:proteusPy.vector3D:Calculated bond angle for ('CA1', 'CB1', 'SG1'): 112.80 vs 112.80 degrees\n",
      "INFO:proteusPy.vector3D:Calculated bond angle for ('CB1', 'SG1', 'SG2'): 103.80 vs 103.80 degrees\n",
      "INFO:proteusPy.vector3D:Calculated bond angle for ('SG1', 'SG2', 'CB2'): 103.80 vs 103.80 degrees\n",
      "INFO:proteusPy.vector3D:Calculated bond angle for ('SG2', 'CB2', 'CA2'): 112.80 vs 112.80 degrees\n",
      "INFO:proteusPy.vector3D:Calculated bond angle for ('CB2', 'CA2', 'N2'): 109.74 vs 108.50 degrees\n",
      "INFO:proteusPy.vector3D:Calculated RMS difference: 0.51 degrees\n"
     ]
    },
    {
     "data": {
      "text/plain": [
       "0.5072611523695255"
      ]
     },
     "execution_count": 6,
     "metadata": {},
     "output_type": "execute_result"
    }
   ],
   "source": [
    "coords = modelled_min.coords_array\n",
    "res = compare_bond_angles(coords, verbose=True)\n",
    "res"
   ]
  },
  {
   "cell_type": "code",
   "execution_count": null,
   "metadata": {},
   "outputs": [],
   "source": []
  },
  {
   "cell_type": "code",
   "execution_count": null,
   "metadata": {},
   "outputs": [],
   "source": [
    "def get_nth_quadrant(self, angle_deg, base):\n",
    "    \"\"\"\n",
    "    Return the quadrant in which an angle in degrees lies if the area is described by dividing a unit circle into 'base' equal segments.\n",
    "\n",
    "    :param angle_deg (float): The angle in degrees.\n",
    "    :param base (int): The number of segments to divide the circle into (must be even and up to 16).\n",
    "\n",
    "    Returns:\n",
    "    :return str: The quadrant (0-F) that the angle belongs to.\n",
    "    \"\"\"\n",
    "    if base < 2 or base > 16 or base % 2 != 0:\n",
    "        raise ValueError(\"Base must be an even number between 2 and 16.\")\n",
    "\n",
    "    # Normalize the angle to the range [0, 360)\n",
    "    angle_deg = angle_deg % 360\n",
    "\n",
    "    # Calculate the size of each segment\n",
    "    segment_size = 360 / base\n",
    "\n",
    "    # Determine the quadrant\n",
    "    for i in range(base):\n",
    "        if angle_deg >= i * segment_size and angle_deg < (i + 1) * segment_size:\n",
    "            return format(base - 1 - i, \"X\")\n",
    "\n",
    "    # If no quadrant is found, raise an error (this should not happen)\n",
    "    raise ValueError(\"Invalid angle value: angle must be in the range [0, 360).\")"
   ]
  },
  {
   "cell_type": "code",
   "execution_count": null,
   "metadata": {},
   "outputs": [],
   "source": []
  }
 ],
 "metadata": {
  "kernelspec": {
   "display_name": "proteusPy (0.97.3.preview)",
   "language": "python",
   "name": "proteuspy"
  },
  "language_info": {
   "codemirror_mode": {
    "name": "ipython",
    "version": 3
   },
   "file_extension": ".py",
   "mimetype": "text/x-python",
   "name": "python",
   "nbconvert_exporter": "python",
   "pygments_lexer": "ipython3",
   "version": "3.11.7"
  }
 },
 "nbformat": 4,
 "nbformat_minor": 2
}
