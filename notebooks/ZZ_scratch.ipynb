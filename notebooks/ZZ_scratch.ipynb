version https://git-lfs.github.com/spec/v1
oid sha256:9d9f589ed7c190472af3bfb7a21d79a02b6c3d66905e8024ea46cd2d831b47af
size 98724
