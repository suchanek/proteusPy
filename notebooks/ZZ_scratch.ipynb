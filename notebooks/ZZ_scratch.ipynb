version https://git-lfs.github.com/spec/v1
oid sha256:384d320c68731793ff963421ece3cb9e3297b35dbe346d9a820aad005055234c
size 82878
