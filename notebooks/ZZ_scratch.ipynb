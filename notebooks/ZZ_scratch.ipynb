version https://git-lfs.github.com/spec/v1
oid sha256:aa64711cdcd1b8be4cdf323ff69e781c0cd5d7cc05dae5d001350569bdcc24e4
size 82007
