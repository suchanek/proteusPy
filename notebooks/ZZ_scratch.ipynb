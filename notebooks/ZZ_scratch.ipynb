version https://git-lfs.github.com/spec/v1
oid sha256:1d3efe5a254a2b84ead54606219b84d9898a545db73d66a6ce60b06a5ab9c7fd
size 104932
