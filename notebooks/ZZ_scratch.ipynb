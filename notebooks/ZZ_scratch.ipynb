version https://git-lfs.github.com/spec/v1
oid sha256:944837467ab6002c31dc7d7ec12726497c98f43270810c17c12d2fedd59256e1
size 101576
