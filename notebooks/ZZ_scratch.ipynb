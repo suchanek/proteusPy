version https://git-lfs.github.com/spec/v1
oid sha256:7fca3c1bc3456c72928d2aa9001f786015302d280a1cc91ff1a39b334abcbd0d
size 129056
