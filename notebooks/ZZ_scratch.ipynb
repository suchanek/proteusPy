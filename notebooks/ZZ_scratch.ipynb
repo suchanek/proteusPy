{
 "cells": [
  {
   "cell_type": "code",
   "execution_count": 2,
   "metadata": {},
   "outputs": [],
   "source": [
    "from proteusPy import Load_PDB_SS, Disulfide, DisulfideList\n",
<<<<<<< HEAD
    "from proteusPy import calculate_bond_angle, rms_difference\n",
    "\n",
=======
>>>>>>> d902280 (bond_length_ideality, logging)
    "import numpy as np"
   ]
  },
  {
   "cell_type": "code",
   "execution_count": 3,
   "metadata": {},
   "outputs": [
    {
     "name": "stdout",
     "output_type": "stream",
     "text": [
      "-> load_PDB_SS(): Reading /Users/egs/miniforge3/envs/proteusPy/lib/python3.11/site-packages/proteusPy/data/PDB_SS_ALL_LOADER.pkl... \n",
      "-> load_PDB_SS(): Done reading /Users/egs/miniforge3/envs/proteusPy/lib/python3.11/site-packages/proteusPy/data/PDB_SS_ALL_LOADER.pkl... \n",
      "    =========== RCSB Disulfide Database Summary ==============\n",
      "       =========== Built: 2024-08-13 10:32:49 ==============\n",
      "PDB IDs present:                    37075\n",
      "Disulfides loaded:                  175649\n",
      "Average structure resolution:       2.07 Å\n",
      "Lowest Energy Disulfide:            2q7q_75D_140D\n",
      "Highest Energy Disulfide:           6vxk_801B_806B\n",
      "Cα distance cutoff:                 -1.00 Å\n",
      "Total RAM Used:                     44.35 GB.\n",
      "    ================= proteusPy: 0.97.0dev9 =======================\n"
     ]
    }
   ],
   "source": [
    "PDB_SS = Load_PDB_SS(subset=False, verbose=True)\n",
    "PDB_SS.describe()"
   ]
  },
  {
   "cell_type": "code",
   "execution_count": 4,
   "metadata": {},
   "outputs": [
    {
     "data": {
      "text/plain": [
       "False"
      ]
     },
     "execution_count": 4,
     "metadata": {},
     "output_type": "execute_result"
    }
   ],
   "source": [
    "ss1.QUIET\n",
    "ss1.QUIET = False\n",
    "ss1.QUIET\n"
   ]
  },
  {
   "cell_type": "code",
   "execution_count": 5,
   "metadata": {},
   "outputs": [
    {
     "name": "stderr",
     "output_type": "stream",
     "text": [
      "INFO:proteusPy.Disulfide:Calculated angle for atoms ('N1', 'CA1', 'CB1'): 111.98, Ideal angle: 108.50\n",
      "INFO:proteusPy.Disulfide:Calculated angle for atoms ('CA1', 'CB1', 'SG1'): 113.84, Ideal angle: 112.80\n",
      "INFO:proteusPy.Disulfide:Calculated angle for atoms ('CB1', 'SG1', 'SG2'): 104.13, Ideal angle: 103.80\n",
      "INFO:proteusPy.Disulfide:Calculated angle for atoms ('SG1', 'SG2', 'CB2'): 105.08, Ideal angle: 103.80\n",
      "INFO:proteusPy.Disulfide:Calculated angle for atoms ('SG2', 'CB2', 'CA2'): 114.29, Ideal angle: 112.80\n",
      "INFO:proteusPy.Disulfide:Calculated angle for atoms ('CB2', 'CA2', 'N2'): 110.16, Ideal angle: 108.50\n",
      "INFO:proteusPy.Disulfide:Calculated angle for atoms ('CB2', 'CA2', 'N2'): 110.16, Ideal angle: 108.50\n"
     ]
    },
    {
     "data": {
      "text/plain": [
       "1.820004228336223"
      ]
     },
     "execution_count": 5,
     "metadata": {},
     "output_type": "execute_result"
    }
   ],
   "source": [
    "ss1.quiet = False\n",
    "ss1.bond_angle_ideality"
   ]
  },
  {
   "cell_type": "code",
<<<<<<< HEAD
   "execution_count": 6,
   "metadata": {},
   "outputs": [
    {
     "data": {
      "text/plain": [
       "0.5072611523695255"
      ]
     },
     "execution_count": 6,
     "metadata": {},
     "output_type": "execute_result"
    }
   ],
   "source": [
    "dihed = ss1.dihedrals\n",
    "modelled_min = Disulfide(\"model\")\n",
    "modelled_min.dihedrals = dihed\n",
    "modelled_min.build_yourself()\n",
    "modelled_min.bond_angle_ideality\n"
   ]
  },
  {
   "cell_type": "code",
=======
>>>>>>> d902280 (bond_length_ideality, logging)
   "execution_count": 6,
   "metadata": {},
   "outputs": [
    {
     "name": "stderr",
     "output_type": "stream",
     "text": [
      "INFO:proteusPy.Disulfide:Calculated angle for atoms ('N1', 'CA1'): 1.46, Ideal angle: 1.46\n",
      "INFO:proteusPy.Disulfide:Calculated angle for atoms ('CA1', 'C1'): 1.52, Ideal angle: 1.52\n",
      "INFO:proteusPy.Disulfide:Calculated angle for atoms ('CA1', 'CB1'): 1.53, Ideal angle: 1.52\n",
      "INFO:proteusPy.Disulfide:Calculated angle for atoms ('CB1', 'SG1'): 1.80, Ideal angle: 1.86\n",
      "INFO:proteusPy.Disulfide:Calculated angle for atoms ('SG1', 'SG2'): 2.04, Ideal angle: 2.04\n",
      "INFO:proteusPy.Disulfide:Calculated angle for atoms ('SG2', 'CB2'): 1.81, Ideal angle: 1.86\n",
      "INFO:proteusPy.Disulfide:Calculated angle for atoms ('CB2', 'CA2'): 1.53, Ideal angle: 1.52\n",
      "INFO:proteusPy.Disulfide:Calculated angle for atoms ('CB2', 'C2'): 2.51, Ideal angle: 1.52\n",
      "INFO:proteusPy.Disulfide:Calculated angle for atoms ('N2', 'CA2'): 1.46, Ideal angle: 1.46\n",
      "INFO:proteusPy.Disulfide:Calculated angle for atoms ('N2', 'CA2'): 1.46, Ideal angle: 1.46\n"
     ]
    },
    {
     "data": {
      "text/plain": [
       "0.331420507234302"
      ]
     },
     "execution_count": 6,
     "metadata": {},
     "output_type": "execute_result"
    }
   ],
   "source": [
    "ss1.bond_length_ideality"
   ]
  },
  {
   "cell_type": "code",
   "execution_count": null,
   "metadata": {},
   "outputs": [],
   "source": [
    "dihed = ss1.dihedrals\n",
    "modelled_min = Disulfide(\"model\")\n",
    "modelled_min.dihedrals = dihed\n",
    "modelled_min.build_yourself()\n",
    "modelled_min.bond_angle_ideality"
   ]
  },
  {
   "cell_type": "code",
   "execution_count": null,
   "metadata": {},
   "outputs": [],
   "source": [
    "def get_nth_quadrant(self, angle_deg, base):\n",
    "    \"\"\"\n",
    "    Return the quadrant in which an angle in degrees lies if the area is described by dividing a unit circle into 'base' equal segments.\n",
    "\n",
    "    :param angle_deg (float): The angle in degrees.\n",
    "    :param base (int): The number of segments to divide the circle into (must be even and up to 16).\n",
    "\n",
    "    Returns:\n",
    "    :return str: The quadrant (0-F) that the angle belongs to.\n",
    "    \"\"\"\n",
    "    if base < 2 or base > 16 or base % 2 != 0:\n",
    "        raise ValueError(\"Base must be an even number between 2 and 16.\")\n",
    "\n",
    "    # Normalize the angle to the range [0, 360)\n",
    "    angle_deg = angle_deg % 360\n",
    "\n",
    "    # Calculate the size of each segment\n",
    "    segment_size = 360 / base\n",
    "\n",
    "    # Determine the quadrant\n",
    "    for i in range(base):\n",
    "        if angle_deg >= i * segment_size and angle_deg < (i + 1) * segment_size:\n",
    "            return format(base - 1 - i, \"X\")\n",
    "\n",
    "    # If no quadrant is found, raise an error (this should not happen)\n",
    "    raise ValueError(\"Invalid angle value: angle must be in the range [0, 360).\")"
   ]
  },
  {
   "cell_type": "code",
   "execution_count": null,
   "metadata": {},
   "outputs": [],
   "source": []
  }
 ],
 "metadata": {
  "kernelspec": {
<<<<<<< HEAD
   "display_name": "proteusPy (0.97.3.preview)",
=======
   "display_name": "ppydev (0.97.3.preview)",
>>>>>>> d902280 (bond_length_ideality, logging)
   "language": "python",
   "name": "proteuspy"
  },
  "language_info": {
   "codemirror_mode": {
    "name": "ipython",
    "version": 3
   },
   "file_extension": ".py",
   "mimetype": "text/x-python",
   "name": "python",
   "nbconvert_exporter": "python",
   "pygments_lexer": "ipython3",
   "version": "3.11.7"
  }
 },
 "nbformat": 4,
 "nbformat_minor": 2
}
