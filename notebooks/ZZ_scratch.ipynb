version https://git-lfs.github.com/spec/v1
oid sha256:e78909142b2c68af9a15064239acabba4241b9b5d248563c224e290682944751
size 93237
