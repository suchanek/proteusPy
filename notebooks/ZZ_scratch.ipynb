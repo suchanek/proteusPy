{
 "cells": [
  {
   "cell_type": "code",
   "execution_count": null,
   "metadata": {},
   "outputs": [],
   "source": [
    "# ZZ_scratch.ipynb - This is a general scratchpad used for code development and testing. Don't expect it to work as written\n",
    "# Eric G. Suchanek, PhD. 2024"
   ]
  },
  {
   "cell_type": "code",
   "execution_count": 1,
   "metadata": {},
   "outputs": [
    {
     "name": "stderr",
     "output_type": "stream",
     "text": [
      "INFO:proteusPy:ProteusPy 0.99.34.dev0 initialized.\n",
      "INFO:proteusPy:Plotly theme set to: plotly_white\n",
      "INFO:proteusPy:PyVista theme set to: light\n",
      "INFO:proteusPy:Logging level setting to default: 30\n"
     ]
    }
   ],
   "source": [
    "from pathlib import Path\n",
    "import matplotlib.pyplot as plt\n",
    "import pyvista as pv\n",
    "import logging\n",
    "import plotly.graph_objects as go\n",
    "import plotly.express as px\n",
    "\n",
    "import os\n",
    "import pandas as pd\n",
    "import numpy as np\n",
    "import proteusPy as pp\n",
    "from proteusPy import (\n",
    "    Disulfide,\n",
    "    DisulfideList,\n",
    "    DisulfideIO,\n",
    "    disulfide_schematic,\n",
    "    DisulfideVisualization,\n",
    ")\n",
    "\n",
    "\n",
    "from plotly.subplots import make_subplots\n",
    "import platform\n",
    "\n",
    "from proteusPy import (\n",
    "    CA_CUTOFF,\n",
    "    SG_CUTOFF,\n",
    "    SS_CONSENSUS_BIN_FILE,\n",
    "    SS_CONSENSUS_OCT_FILE,\n",
    "    ATOM_COLORS,\n",
    "    ATOM_RADII_COVALENT,\n",
    "    ATOM_RADII_CPK,\n",
    "    BOND_COLOR,\n",
    "    BOND_RADIUS,\n",
    "    BS_SCALE,\n",
    "    FONTSIZE,\n",
    "    SPEC_POWER,\n",
    "    SPECULARITY,\n",
    ")\n",
    "\n",
    "from proteusPy.ProteusGlobals import DATA_DIR\n",
    "\n",
    "HOME = Path.home()\n",
    "PDB = Path(os.getenv(\"PDB\", HOME / \"pdb\"))\n",
    "\n",
    "MODEL_DIR = PDB / \"good\"\n",
    "\n",
    "PDB_DATA_DIR = PDB / \"data\"\n",
    "SAVE_DIR = HOME / \"Documents\" / \"proteusPyDocs\" / \"classes\"\n",
    "REPO_DIR = HOME / \"repos\" / \"proteusPy\" / \"data\"\n",
    "\n",
    "OCTANT = SAVE_DIR / \"octant\"\n",
    "OCTANT.mkdir(parents=True, exist_ok=True)\n",
    "\n",
    "BINARY = SAVE_DIR / \"binary\"\n",
    "BINARY.mkdir(parents=True, exist_ok=True)\n",
    "\n",
    "SEXTANT = SAVE_DIR / \"sextant\"\n",
    "SEXTANT.mkdir(parents=True, exist_ok=True)\n",
    "\n",
    "PBAR_COLS = 78\n",
    "# _logger = pp.create_logger(__name__)\n",
    "# _logger.setLevel(logging.WARNING)\n",
    "\n",
    "pp.describe()\n",
    "\n",
    "# CA_CUTOFF = -1.0\n",
    "# SG_CUTOFF = -1.0\n",
    "# _ = pp.set_logger_level_for_module(\"proteusPy\", \"WARNING\")\n",
    "pp.configure_master_logger(\"proteusPy.log\", log_level=\"WARNING\")"
   ]
  },
  {
   "cell_type": "code",
   "execution_count": 2,
   "metadata": {},
   "outputs": [
    {
     "name": "stderr",
     "output_type": "stream",
     "text": [
      "proteusPy: INFO 2025-03-06 08:46:10,933 - proteusPy.DisulfideLoader.__post_init__ - Reading disulfides from: /Users/egs/miniforge3/envs/ppydev/lib/python3.12/site-packages/proteusPy/data/PDB_all_ss.pkl... \n",
      "proteusPy: INFO 2025-03-06 08:46:16,560 - proteusPy.DisulfideLoader.__post_init__ - Filtered with Cα cutoff -1.00: old: 175277, new: 175277\n",
      "proteusPy: INFO 2025-03-06 08:46:16,562 - proteusPy.DisulfideLoader.__post_init__ - Filtered with Sγ: cutoff -1.00: old: 175277, new: 175277\n",
      "proteusPy: INFO 2025-03-06 08:46:37,093 - proteusPy.DisulfideClassManager.__init__ - Loading binary consensus structure list from SS_consensus_class_32.pkl\n",
      "proteusPy: INFO 2025-03-06 08:46:37,095 - proteusPy.DisulfideClassManager.__init__ - Loading octant consensus structure list from SS_consensus_class_oct.pkl\n",
      "proteusPy: INFO 2025-03-06 08:46:37,111 - proteusPy.DisulfideClassManager.build_classes - Creating binary SS classes...\n",
      "proteusPy: INFO 2025-03-06 08:46:39,706 - proteusPy.DisulfideClassManager.build_classes - Creating eightfold SS classes...\n",
      "proteusPy: INFO 2025-03-06 08:46:41,824 - proteusPy.DisulfideClassManager.build_classes - Initialization complete.\n",
      "proteusPy: INFO 2025-03-06 08:46:41,830 - proteusPy.DisulfideLoader.__post_init__ - Loader initialization complete.\n"
     ]
    },
    {
     "name": "stdout",
     "output_type": "stream",
     "text": [
      "    =========== RCSB Disulfide Database Summary ============\n",
      "       =========== Built: 2025-03-06 08:46:10 ===========\n",
      "PDB IDs present:                 36968\n",
      "Disulfides loaded:               175277\n",
      "Average structure resolution:    2.19 Å\n",
      "Lowest Energy Disulfide:         2q7q_75D_140D\n",
      "Highest Energy Disulfide:        6vxk_801B_806B\n",
      "Cα distance cutoff:              -1.00 Å\n",
      "Sγ distance cutoff:              -1.00 Å\n",
      "               ===== proteusPy: 0.99.34.dev0 =====\n"
     ]
    }
   ],
   "source": [
    "# pdb = pp.Load_PDB_SS(verbose=True, subset=False)\n",
    "pdb = pp.DisulfideLoader(\n",
    "    verbose=True, subset=False, cutoff=-1, sg_cutoff=-1, percentile=-1.0\n",
    ")\n",
    "# pdb.save(verbose=True)\n",
    "# PDB_SS = pp.Load_PDB_SS(verbose=True, subset=False)"
   ]
  },
  {
   "cell_type": "code",
   "execution_count": 4,
   "metadata": {},
   "outputs": [
    {
     "data": {
      "application/vnd.plotly.v1+json": {
       "config": {
        "plotlyServerURL": "https://plot.ly"
       },
       "data": [
        {
         "hovertemplate": "Octant Class ID=%{x}<br>Count=%{y}<extra></extra>",
         "legendgroup": "",
         "line": {
          "color": "#636efa",
          "dash": "solid"
         },
         "marker": {
          "symbol": "circle"
         },
         "mode": "lines",
         "name": "",
         "orientation": "v",
         "showlegend": false,
         "type": "scatter",
         "x": [
          "11212",
          "11221",
          "11222",
          "11223",
          "11224",
          "11232",
          "11233",
          "11242",
          "11243",
          "11244",
          "11312",
          "11321",
          "11322",
          "11332",
          "11333",
          "11334",
          "11343",
          "11344",
          "11422",
          "12121",
          "12122",
          "12132",
          "12133",
          "12134",
          "12143",
          "12212",
          "12213",
          "12221",
          "12222",
          "12223",
          "12224",
          "12231",
          "12232",
          "12233",
          "12234",
          "12241",
          "12242",
          "12243",
          "12244",
          "12312",
          "12313",
          "12321",
          "12322",
          "12323",
          "12324",
          "12331",
          "12332",
          "12333",
          "12334",
          "12342",
          "12343",
          "12344",
          "12413",
          "12422",
          "12423",
          "12432",
          "12433",
          "12441",
          "12442",
          "13121",
          "13122",
          "13124",
          "13131",
          "13132",
          "13142",
          "13144",
          "13212",
          "13213",
          "13221",
          "13222",
          "13223",
          "13231",
          "13232",
          "13233",
          "13234",
          "13241",
          "13242",
          "13243",
          "13312",
          "13313",
          "13321",
          "13322",
          "13323",
          "13324",
          "13331",
          "13332",
          "13333",
          "13334",
          "13341",
          "13342",
          "13343",
          "13344",
          "13412",
          "13422",
          "13432",
          "13433",
          "13442",
          "14112",
          "14122",
          "14132",
          "14141",
          "14142",
          "14212",
          "14222",
          "14223",
          "14231",
          "14232",
          "14234",
          "14241",
          "14242",
          "14312",
          "14322",
          "14323",
          "14331",
          "14332",
          "14333",
          "14341",
          "14342",
          "14343",
          "14344",
          "14423",
          "14432",
          "14441",
          "14443",
          "21111",
          "21112",
          "21113",
          "21124",
          "21132",
          "21142",
          "21143",
          "21211",
          "21212",
          "21213",
          "21221",
          "21222",
          "21223",
          "21224",
          "21231",
          "21232",
          "21233",
          "21234",
          "21241",
          "21242",
          "21243",
          "21244",
          "21311",
          "21312",
          "21313",
          "21314",
          "21321",
          "21322",
          "21323",
          "21324",
          "21331",
          "21332",
          "21333",
          "21334",
          "21342",
          "21343",
          "21344",
          "21412",
          "21413",
          "21414",
          "21422",
          "21423",
          "21424",
          "21432",
          "21434",
          "21442",
          "22113",
          "22121",
          "22122",
          "22123",
          "22124",
          "22131",
          "22132",
          "22133",
          "22134",
          "22141",
          "22142",
          "22143",
          "22144",
          "22211",
          "22212",
          "22213",
          "22214",
          "22221",
          "22222",
          "22223",
          "22224",
          "22231",
          "22232",
          "22233",
          "22234",
          "22241",
          "22242",
          "22243",
          "22244",
          "22311",
          "22312",
          "22313",
          "22314",
          "22321",
          "22322",
          "22323",
          "22324",
          "22331",
          "22332",
          "22333",
          "22334",
          "22341",
          "22342",
          "22343",
          "22344",
          "22412",
          "22413",
          "22422",
          "22423",
          "22431",
          "22432",
          "22433",
          "22434",
          "22441",
          "22442",
          "22443",
          "22444",
          "23122",
          "23124",
          "23131",
          "23132",
          "23133",
          "23134",
          "23141",
          "23142",
          "23143",
          "23144",
          "23211",
          "23212",
          "23221",
          "23222",
          "23223",
          "23224",
          "23231",
          "23232",
          "23233",
          "23234",
          "23241",
          "23242",
          "23243",
          "23244",
          "23311",
          "23312",
          "23313",
          "23321",
          "23322",
          "23323",
          "23324",
          "23331",
          "23332",
          "23333",
          "23334",
          "23341",
          "23342",
          "23343",
          "23344",
          "23411",
          "23412",
          "23422",
          "23431",
          "23432",
          "23442",
          "23443",
          "23444",
          "24121",
          "24122",
          "24124",
          "24131",
          "24132",
          "24133",
          "24134",
          "24141",
          "24142",
          "24144",
          "24212",
          "24213",
          "24221",
          "24222",
          "24223",
          "24224",
          "24231",
          "24232",
          "24233",
          "24234",
          "24241",
          "24242",
          "24243",
          "24244",
          "24311",
          "24312",
          "24313",
          "24321",
          "24322",
          "24323",
          "24324",
          "24331",
          "24332",
          "24333",
          "24334",
          "24341",
          "24342",
          "24343",
          "24344",
          "24421",
          "24422",
          "24423",
          "24431",
          "24432",
          "24433",
          "24434",
          "24441",
          "24442",
          "24443",
          "24444",
          "31134",
          "31143",
          "31144",
          "31212",
          "31221",
          "31222",
          "31224",
          "31232",
          "31233",
          "31234",
          "31241",
          "31242",
          "31243",
          "31244",
          "31311",
          "31312",
          "31313",
          "31321",
          "31322",
          "31323",
          "31324",
          "31331",
          "31332",
          "31333",
          "31334",
          "31342",
          "31344",
          "31412",
          "31413",
          "31422",
          "31423",
          "31432",
          "31433",
          "31442",
          "32122",
          "32123",
          "32134",
          "32142",
          "32211",
          "32212",
          "32213",
          "32221",
          "32222",
          "32223",
          "32224",
          "32231",
          "32232",
          "32233",
          "32234",
          "32242",
          "32243",
          "32244",
          "32311",
          "32312",
          "32313",
          "32314",
          "32321",
          "32322",
          "32323",
          "32324",
          "32332",
          "32333",
          "32334",
          "32341",
          "32342",
          "32343",
          "32344",
          "32412",
          "32413",
          "32421",
          "32422",
          "32423",
          "32431",
          "32432",
          "32433",
          "32441",
          "32442",
          "32443",
          "33111",
          "33121",
          "33124",
          "33132",
          "33133",
          "33142",
          "33144",
          "33212",
          "33221",
          "33222",
          "33223",
          "33224",
          "33231",
          "33232",
          "33233",
          "33234",
          "33242",
          "33243",
          "33312",
          "33321",
          "33322",
          "33323",
          "33324",
          "33331",
          "33332",
          "33333",
          "33334",
          "33342",
          "33343",
          "33344",
          "33412",
          "33413",
          "33421",
          "33422",
          "33432",
          "33434",
          "33444",
          "34114",
          "34132",
          "34134",
          "34142",
          "34143",
          "34212",
          "34222",
          "34223",
          "34224",
          "34231",
          "34232",
          "34234",
          "34241",
          "34242",
          "34243",
          "34244",
          "34312",
          "34313",
          "34321",
          "34322",
          "34323",
          "34324",
          "34332",
          "34334",
          "34342",
          "34343",
          "34344",
          "34412",
          "34413",
          "34421",
          "34422",
          "34432",
          "34442",
          "34443",
          "34444",
          "41114",
          "41213",
          "41222",
          "41223",
          "41224",
          "41232",
          "41234",
          "41312",
          "41322",
          "41323",
          "41324",
          "41334",
          "41342",
          "41343",
          "41344",
          "41412",
          "41432",
          "42122",
          "42132",
          "42211",
          "42212",
          "42213",
          "42214",
          "42221",
          "42222",
          "42223",
          "42224",
          "42231",
          "42232",
          "42233",
          "42234",
          "42241",
          "42242",
          "42243",
          "42244",
          "42311",
          "42312",
          "42313",
          "42314",
          "42321",
          "42322",
          "42323",
          "42324",
          "42331",
          "42332",
          "42333",
          "42334",
          "42342",
          "42343",
          "42344",
          "42412",
          "42413",
          "42422",
          "42423",
          "42424",
          "42432",
          "42433",
          "42434",
          "42442",
          "43122",
          "43124",
          "43132",
          "43134",
          "43212",
          "43213",
          "43221",
          "43222",
          "43223",
          "43224",
          "43231",
          "43232",
          "43233",
          "43234",
          "43242",
          "43244",
          "43311",
          "43312",
          "43313",
          "43314",
          "43321",
          "43322",
          "43323",
          "43324",
          "43331",
          "43332",
          "43334",
          "43341",
          "43342",
          "43343",
          "43344",
          "43411",
          "43412",
          "43414",
          "43422",
          "43423",
          "43424",
          "43431",
          "43432",
          "43433",
          "43434",
          "43441",
          "43442",
          "43444",
          "44112",
          "44122",
          "44131",
          "44132",
          "44141",
          "44143",
          "44144",
          "44211",
          "44212",
          "44221",
          "44222",
          "44224",
          "44232",
          "44233",
          "44234",
          "44241",
          "44242",
          "44243",
          "44244",
          "44311",
          "44312",
          "44321",
          "44322",
          "44323",
          "44324",
          "44331",
          "44332",
          "44333",
          "44334",
          "44341",
          "44342",
          "44343",
          "44344",
          "44412",
          "44413",
          "44421",
          "44422",
          "44423",
          "44443",
          "44444"
         ],
         "xaxis": "x",
         "y": [
          5,
          1,
          19,
          1,
          1,
          2,
          1,
          1,
          1,
          1,
          6,
          1,
          13,
          8,
          1,
          2,
          1,
          1,
          1,
          1,
          7,
          4,
          1,
          3,
          1,
          28,
          2,
          46,
          439,
          15,
          6,
          29,
          98,
          2,
          22,
          3,
          20,
          1,
          6,
          7,
          4,
          4,
          120,
          7,
          2,
          1,
          13,
          2,
          5,
          16,
          3,
          4,
          1,
          2,
          2,
          1,
          1,
          1,
          4,
          1,
          1,
          1,
          3,
          3,
          2,
          4,
          9,
          3,
          5,
          79,
          3,
          28,
          43,
          2,
          8,
          3,
          15,
          9,
          7,
          1,
          4,
          35,
          1,
          1,
          2,
          14,
          2,
          3,
          1,
          10,
          1,
          2,
          1,
          1,
          1,
          1,
          1,
          1,
          1,
          1,
          1,
          1,
          2,
          6,
          1,
          5,
          6,
          1,
          2,
          1,
          1,
          5,
          1,
          1,
          3,
          1,
          7,
          38,
          2,
          3,
          1,
          1,
          2,
          1,
          1,
          2,
          1,
          1,
          1,
          1,
          1,
          3,
          155,
          2,
          33,
          1080,
          10,
          304,
          8,
          106,
          3,
          81,
          4,
          38,
          6,
          37,
          2,
          164,
          20,
          2,
          26,
          607,
          17,
          34,
          7,
          148,
          5,
          34,
          80,
          27,
          14,
          5,
          2,
          1,
          14,
          5,
          1,
          9,
          9,
          3,
          1,
          7,
          17,
          1,
          8,
          7,
          12,
          1,
          10,
          3,
          3,
          2,
          3,
          21,
          979,
          8,
          74,
          445,
          12323,
          93,
          2020,
          99,
          1369,
          20,
          911,
          34,
          573,
          15,
          244,
          8,
          487,
          50,
          51,
          91,
          3478,
          69,
          244,
          32,
          369,
          8,
          222,
          18,
          300,
          12,
          62,
          12,
          4,
          35,
          2,
          10,
          114,
          3,
          1,
          13,
          19,
          3,
          3,
          10,
          5,
          11,
          17,
          1,
          13,
          1,
          8,
          1,
          7,
          2,
          22,
          34,
          464,
          2,
          44,
          33,
          116,
          2,
          89,
          14,
          168,
          8,
          46,
          2,
          69,
          4,
          30,
          522,
          11,
          17,
          4,
          65,
          1,
          22,
          7,
          68,
          7,
          32,
          1,
          9,
          76,
          1,
          46,
          7,
          2,
          3,
          2,
          6,
          1,
          2,
          6,
          1,
          1,
          3,
          8,
          2,
          7,
          1,
          6,
          886,
          4,
          18,
          2,
          432,
          2,
          5,
          3,
          55,
          5,
          13,
          1,
          17,
          2,
          25,
          491,
          4,
          5,
          4,
          366,
          6,
          2,
          1,
          49,
          1,
          12,
          1,
          7,
          2,
          3,
          3,
          2,
          1,
          1,
          3,
          2,
          5,
          3,
          1,
          1,
          2,
          1,
          5,
          10,
          2,
          1,
          7,
          1,
          4,
          1,
          1,
          3,
          19,
          4,
          5,
          59,
          3,
          10,
          2,
          9,
          1,
          6,
          1,
          3,
          1,
          2,
          1,
          4,
          2,
          1,
          2,
          1,
          1,
          4,
          3,
          1,
          14,
          1,
          9,
          75,
          9,
          17,
          7,
          63,
          2,
          26,
          9,
          2,
          5,
          1,
          34,
          3,
          2,
          5,
          76,
          4,
          9,
          12,
          1,
          6,
          1,
          4,
          3,
          2,
          3,
          3,
          2,
          32,
          2,
          1,
          6,
          3,
          1,
          1,
          1,
          1,
          1,
          1,
          2,
          1,
          2,
          2,
          4,
          3,
          36,
          3,
          4,
          2,
          3,
          6,
          8,
          9,
          4,
          7,
          1,
          16,
          1,
          2,
          3,
          3,
          1,
          1,
          2,
          2,
          1,
          2,
          1,
          2,
          13,
          2,
          1,
          1,
          1,
          1,
          2,
          2,
          1,
          1,
          371,
          2,
          1,
          2,
          89,
          2,
          1,
          5,
          2,
          2,
          1,
          1,
          10,
          125,
          1,
          1,
          15,
          1,
          2,
          1,
          3,
          4,
          1,
          1,
          1,
          2,
          1,
          1,
          1,
          1,
          1,
          15,
          1,
          1,
          1,
          1,
          1,
          6,
          2,
          1,
          2,
          5,
          1,
          1,
          2,
          1,
          1,
          2,
          1,
          39,
          8,
          2,
          14,
          553,
          15,
          74,
          5,
          71,
          2,
          74,
          1,
          52,
          9,
          2,
          1,
          25,
          2,
          2,
          24,
          959,
          12,
          75,
          20,
          51,
          1,
          33,
          187,
          1,
          3,
          3,
          1,
          4,
          1,
          1,
          1,
          1,
          12,
          1,
          9,
          1,
          2,
          1,
          18,
          5,
          11,
          685,
          123,
          15,
          9,
          25,
          3,
          19,
          23,
          8,
          2,
          24,
          2,
          3,
          19,
          844,
          32,
          15,
          7,
          29,
          21,
          7,
          37,
          1,
          6,
          2,
          19,
          1,
          5,
          1,
          12,
          1,
          7,
          1,
          2,
          2,
          5,
          1,
          1,
          4,
          1,
          5,
          3,
          1,
          2,
          3,
          15,
          15,
          135,
          5,
          26,
          1,
          12,
          12,
          181,
          4,
          120,
          2,
          10,
          3,
          34,
          3,
          5,
          4,
          12,
          1,
          8,
          4,
          18,
          1,
          210,
          2,
          1,
          1,
          4,
          1,
          3,
          3
         ],
         "yaxis": "y"
        }
       ],
       "layout": {
        "autosize": true,
        "legend": {
         "tracegroupgap": 0
        },
        "showlegend": true,
        "template": {
         "data": {
          "bar": [
           {
            "error_x": {
             "color": "#2a3f5f"
            },
            "error_y": {
             "color": "#2a3f5f"
            },
            "marker": {
             "line": {
              "color": "white",
              "width": 0.5
             },
             "pattern": {
              "fillmode": "overlay",
              "size": 10,
              "solidity": 0.2
             }
            },
            "type": "bar"
           }
          ],
          "barpolar": [
           {
            "marker": {
             "line": {
              "color": "white",
              "width": 0.5
             },
             "pattern": {
              "fillmode": "overlay",
              "size": 10,
              "solidity": 0.2
             }
            },
            "type": "barpolar"
           }
          ],
          "carpet": [
           {
            "aaxis": {
             "endlinecolor": "#2a3f5f",
             "gridcolor": "#C8D4E3",
             "linecolor": "#C8D4E3",
             "minorgridcolor": "#C8D4E3",
             "startlinecolor": "#2a3f5f"
            },
            "baxis": {
             "endlinecolor": "#2a3f5f",
             "gridcolor": "#C8D4E3",
             "linecolor": "#C8D4E3",
             "minorgridcolor": "#C8D4E3",
             "startlinecolor": "#2a3f5f"
            },
            "type": "carpet"
           }
          ],
          "choropleth": [
           {
            "colorbar": {
             "outlinewidth": 0,
             "ticks": ""
            },
            "type": "choropleth"
           }
          ],
          "contour": [
           {
            "colorbar": {
             "outlinewidth": 0,
             "ticks": ""
            },
            "colorscale": [
             [
              0,
              "#0d0887"
             ],
             [
              0.1111111111111111,
              "#46039f"
             ],
             [
              0.2222222222222222,
              "#7201a8"
             ],
             [
              0.3333333333333333,
              "#9c179e"
             ],
             [
              0.4444444444444444,
              "#bd3786"
             ],
             [
              0.5555555555555556,
              "#d8576b"
             ],
             [
              0.6666666666666666,
              "#ed7953"
             ],
             [
              0.7777777777777778,
              "#fb9f3a"
             ],
             [
              0.8888888888888888,
              "#fdca26"
             ],
             [
              1,
              "#f0f921"
             ]
            ],
            "type": "contour"
           }
          ],
          "contourcarpet": [
           {
            "colorbar": {
             "outlinewidth": 0,
             "ticks": ""
            },
            "type": "contourcarpet"
           }
          ],
          "heatmap": [
           {
            "colorbar": {
             "outlinewidth": 0,
             "ticks": ""
            },
            "colorscale": [
             [
              0,
              "#0d0887"
             ],
             [
              0.1111111111111111,
              "#46039f"
             ],
             [
              0.2222222222222222,
              "#7201a8"
             ],
             [
              0.3333333333333333,
              "#9c179e"
             ],
             [
              0.4444444444444444,
              "#bd3786"
             ],
             [
              0.5555555555555556,
              "#d8576b"
             ],
             [
              0.6666666666666666,
              "#ed7953"
             ],
             [
              0.7777777777777778,
              "#fb9f3a"
             ],
             [
              0.8888888888888888,
              "#fdca26"
             ],
             [
              1,
              "#f0f921"
             ]
            ],
            "type": "heatmap"
           }
          ],
          "heatmapgl": [
           {
            "colorbar": {
             "outlinewidth": 0,
             "ticks": ""
            },
            "colorscale": [
             [
              0,
              "#0d0887"
             ],
             [
              0.1111111111111111,
              "#46039f"
             ],
             [
              0.2222222222222222,
              "#7201a8"
             ],
             [
              0.3333333333333333,
              "#9c179e"
             ],
             [
              0.4444444444444444,
              "#bd3786"
             ],
             [
              0.5555555555555556,
              "#d8576b"
             ],
             [
              0.6666666666666666,
              "#ed7953"
             ],
             [
              0.7777777777777778,
              "#fb9f3a"
             ],
             [
              0.8888888888888888,
              "#fdca26"
             ],
             [
              1,
              "#f0f921"
             ]
            ],
            "type": "heatmapgl"
           }
          ],
          "histogram": [
           {
            "marker": {
             "pattern": {
              "fillmode": "overlay",
              "size": 10,
              "solidity": 0.2
             }
            },
            "type": "histogram"
           }
          ],
          "histogram2d": [
           {
            "colorbar": {
             "outlinewidth": 0,
             "ticks": ""
            },
            "colorscale": [
             [
              0,
              "#0d0887"
             ],
             [
              0.1111111111111111,
              "#46039f"
             ],
             [
              0.2222222222222222,
              "#7201a8"
             ],
             [
              0.3333333333333333,
              "#9c179e"
             ],
             [
              0.4444444444444444,
              "#bd3786"
             ],
             [
              0.5555555555555556,
              "#d8576b"
             ],
             [
              0.6666666666666666,
              "#ed7953"
             ],
             [
              0.7777777777777778,
              "#fb9f3a"
             ],
             [
              0.8888888888888888,
              "#fdca26"
             ],
             [
              1,
              "#f0f921"
             ]
            ],
            "type": "histogram2d"
           }
          ],
          "histogram2dcontour": [
           {
            "colorbar": {
             "outlinewidth": 0,
             "ticks": ""
            },
            "colorscale": [
             [
              0,
              "#0d0887"
             ],
             [
              0.1111111111111111,
              "#46039f"
             ],
             [
              0.2222222222222222,
              "#7201a8"
             ],
             [
              0.3333333333333333,
              "#9c179e"
             ],
             [
              0.4444444444444444,
              "#bd3786"
             ],
             [
              0.5555555555555556,
              "#d8576b"
             ],
             [
              0.6666666666666666,
              "#ed7953"
             ],
             [
              0.7777777777777778,
              "#fb9f3a"
             ],
             [
              0.8888888888888888,
              "#fdca26"
             ],
             [
              1,
              "#f0f921"
             ]
            ],
            "type": "histogram2dcontour"
           }
          ],
          "mesh3d": [
           {
            "colorbar": {
             "outlinewidth": 0,
             "ticks": ""
            },
            "type": "mesh3d"
           }
          ],
          "parcoords": [
           {
            "line": {
             "colorbar": {
              "outlinewidth": 0,
              "ticks": ""
             }
            },
            "type": "parcoords"
           }
          ],
          "pie": [
           {
            "automargin": true,
            "type": "pie"
           }
          ],
          "scatter": [
           {
            "fillpattern": {
             "fillmode": "overlay",
             "size": 10,
             "solidity": 0.2
            },
            "type": "scatter"
           }
          ],
          "scatter3d": [
           {
            "line": {
             "colorbar": {
              "outlinewidth": 0,
              "ticks": ""
             }
            },
            "marker": {
             "colorbar": {
              "outlinewidth": 0,
              "ticks": ""
             }
            },
            "type": "scatter3d"
           }
          ],
          "scattercarpet": [
           {
            "marker": {
             "colorbar": {
              "outlinewidth": 0,
              "ticks": ""
             }
            },
            "type": "scattercarpet"
           }
          ],
          "scattergeo": [
           {
            "marker": {
             "colorbar": {
              "outlinewidth": 0,
              "ticks": ""
             }
            },
            "type": "scattergeo"
           }
          ],
          "scattergl": [
           {
            "marker": {
             "colorbar": {
              "outlinewidth": 0,
              "ticks": ""
             }
            },
            "type": "scattergl"
           }
          ],
          "scattermapbox": [
           {
            "marker": {
             "colorbar": {
              "outlinewidth": 0,
              "ticks": ""
             }
            },
            "type": "scattermapbox"
           }
          ],
          "scatterpolar": [
           {
            "marker": {
             "colorbar": {
              "outlinewidth": 0,
              "ticks": ""
             }
            },
            "type": "scatterpolar"
           }
          ],
          "scatterpolargl": [
           {
            "marker": {
             "colorbar": {
              "outlinewidth": 0,
              "ticks": ""
             }
            },
            "type": "scatterpolargl"
           }
          ],
          "scatterternary": [
           {
            "marker": {
             "colorbar": {
              "outlinewidth": 0,
              "ticks": ""
             }
            },
            "type": "scatterternary"
           }
          ],
          "surface": [
           {
            "colorbar": {
             "outlinewidth": 0,
             "ticks": ""
            },
            "colorscale": [
             [
              0,
              "#0d0887"
             ],
             [
              0.1111111111111111,
              "#46039f"
             ],
             [
              0.2222222222222222,
              "#7201a8"
             ],
             [
              0.3333333333333333,
              "#9c179e"
             ],
             [
              0.4444444444444444,
              "#bd3786"
             ],
             [
              0.5555555555555556,
              "#d8576b"
             ],
             [
              0.6666666666666666,
              "#ed7953"
             ],
             [
              0.7777777777777778,
              "#fb9f3a"
             ],
             [
              0.8888888888888888,
              "#fdca26"
             ],
             [
              1,
              "#f0f921"
             ]
            ],
            "type": "surface"
           }
          ],
          "table": [
           {
            "cells": {
             "fill": {
              "color": "#EBF0F8"
             },
             "line": {
              "color": "white"
             }
            },
            "header": {
             "fill": {
              "color": "#C8D4E3"
             },
             "line": {
              "color": "white"
             }
            },
            "type": "table"
           }
          ]
         },
         "layout": {
          "annotationdefaults": {
           "arrowcolor": "#2a3f5f",
           "arrowhead": 0,
           "arrowwidth": 1
          },
          "autotypenumbers": "strict",
          "coloraxis": {
           "colorbar": {
            "outlinewidth": 0,
            "ticks": ""
           }
          },
          "colorscale": {
           "diverging": [
            [
             0,
             "#8e0152"
            ],
            [
             0.1,
             "#c51b7d"
            ],
            [
             0.2,
             "#de77ae"
            ],
            [
             0.3,
             "#f1b6da"
            ],
            [
             0.4,
             "#fde0ef"
            ],
            [
             0.5,
             "#f7f7f7"
            ],
            [
             0.6,
             "#e6f5d0"
            ],
            [
             0.7,
             "#b8e186"
            ],
            [
             0.8,
             "#7fbc41"
            ],
            [
             0.9,
             "#4d9221"
            ],
            [
             1,
             "#276419"
            ]
           ],
           "sequential": [
            [
             0,
             "#0d0887"
            ],
            [
             0.1111111111111111,
             "#46039f"
            ],
            [
             0.2222222222222222,
             "#7201a8"
            ],
            [
             0.3333333333333333,
             "#9c179e"
            ],
            [
             0.4444444444444444,
             "#bd3786"
            ],
            [
             0.5555555555555556,
             "#d8576b"
            ],
            [
             0.6666666666666666,
             "#ed7953"
            ],
            [
             0.7777777777777778,
             "#fb9f3a"
            ],
            [
             0.8888888888888888,
             "#fdca26"
            ],
            [
             1,
             "#f0f921"
            ]
           ],
           "sequentialminus": [
            [
             0,
             "#0d0887"
            ],
            [
             0.1111111111111111,
             "#46039f"
            ],
            [
             0.2222222222222222,
             "#7201a8"
            ],
            [
             0.3333333333333333,
             "#9c179e"
            ],
            [
             0.4444444444444444,
             "#bd3786"
            ],
            [
             0.5555555555555556,
             "#d8576b"
            ],
            [
             0.6666666666666666,
             "#ed7953"
            ],
            [
             0.7777777777777778,
             "#fb9f3a"
            ],
            [
             0.8888888888888888,
             "#fdca26"
            ],
            [
             1,
             "#f0f921"
            ]
           ]
          },
          "colorway": [
           "#636efa",
           "#EF553B",
           "#00cc96",
           "#ab63fa",
           "#FFA15A",
           "#19d3f3",
           "#FF6692",
           "#B6E880",
           "#FF97FF",
           "#FECB52"
          ],
          "font": {
           "color": "#2a3f5f"
          },
          "geo": {
           "bgcolor": "white",
           "lakecolor": "white",
           "landcolor": "white",
           "showlakes": true,
           "showland": true,
           "subunitcolor": "#C8D4E3"
          },
          "hoverlabel": {
           "align": "left"
          },
          "hovermode": "closest",
          "mapbox": {
           "style": "light"
          },
          "paper_bgcolor": "white",
          "plot_bgcolor": "white",
          "polar": {
           "angularaxis": {
            "gridcolor": "#EBF0F8",
            "linecolor": "#EBF0F8",
            "ticks": ""
           },
           "bgcolor": "white",
           "radialaxis": {
            "gridcolor": "#EBF0F8",
            "linecolor": "#EBF0F8",
            "ticks": ""
           }
          },
          "scene": {
           "xaxis": {
            "backgroundcolor": "white",
            "gridcolor": "#DFE8F3",
            "gridwidth": 2,
            "linecolor": "#EBF0F8",
            "showbackground": true,
            "ticks": "",
            "zerolinecolor": "#EBF0F8"
           },
           "yaxis": {
            "backgroundcolor": "white",
            "gridcolor": "#DFE8F3",
            "gridwidth": 2,
            "linecolor": "#EBF0F8",
            "showbackground": true,
            "ticks": "",
            "zerolinecolor": "#EBF0F8"
           },
           "zaxis": {
            "backgroundcolor": "white",
            "gridcolor": "#DFE8F3",
            "gridwidth": 2,
            "linecolor": "#EBF0F8",
            "showbackground": true,
            "ticks": "",
            "zerolinecolor": "#EBF0F8"
           }
          },
          "shapedefaults": {
           "line": {
            "color": "#2a3f5f"
           }
          },
          "ternary": {
           "aaxis": {
            "gridcolor": "#DFE8F3",
            "linecolor": "#A2B1C6",
            "ticks": ""
           },
           "baxis": {
            "gridcolor": "#DFE8F3",
            "linecolor": "#A2B1C6",
            "ticks": ""
           },
           "bgcolor": "white",
           "caxis": {
            "gridcolor": "#DFE8F3",
            "linecolor": "#A2B1C6",
            "ticks": ""
           }
          },
          "title": {
           "x": 0.05
          },
          "xaxis": {
           "automargin": true,
           "gridcolor": "#EBF0F8",
           "linecolor": "#EBF0F8",
           "ticks": "",
           "title": {
            "standoff": 15
           },
           "zerolinecolor": "#EBF0F8",
           "zerolinewidth": 2
          },
          "yaxis": {
           "automargin": true,
           "gridcolor": "#EBF0F8",
           "linecolor": "#EBF0F8",
           "ticks": "",
           "title": {
            "standoff": 15
           },
           "zerolinecolor": "#EBF0F8",
           "zerolinewidth": 2
          }
         }
        },
        "title": {
         "font": {
          "size": 20
         },
         "text": "Binary Class: 00000",
         "x": 0.5
        },
        "xaxis": {
         "anchor": "y",
         "domain": [
          0,
          1
         ],
         "showgrid": false,
         "title": {
          "text": "Octant Class ID"
         }
        },
        "yaxis": {
         "anchor": "x",
         "domain": [
          0,
          1
         ],
         "showgrid": false,
         "title": {
          "text": "Count"
         },
         "type": "linear"
        }
       }
      }
     },
     "metadata": {},
     "output_type": "display_data"
    }
   ],
   "source": [
    "pp.DisulfideVisualization.plot_classes(\n",
    "    pdb.tclass, class_string=\"00000\", paginated=False,\n",
    ")"
   ]
  },
  {
   "cell_type": "code",
   "execution_count": null,
   "metadata": {},
   "outputs": [],
   "source": [
    "clslist = pdb.tclass.binary_to_class(\"00000\", 8)"
   ]
  },
  {
   "cell_type": "code",
   "execution_count": null,
   "metadata": {},
   "outputs": [],
   "source": [
    "clslist"
   ]
  },
  {
   "cell_type": "code",
   "execution_count": null,
   "metadata": {},
   "outputs": [],
   "source": [
    "best_ss = pdb[\"2q7q_75D_140D\"]\n",
    "worst_ss = pdb[\"6vxk_801B_806B\"]\n",
    "pair = DisulfideList([best_ss, worst_ss], \"bestworst\")"
   ]
  },
  {
   "cell_type": "code",
   "execution_count": null,
   "metadata": {},
   "outputs": [],
   "source": []
  },
  {
   "cell_type": "code",
   "execution_count": null,
   "metadata": {},
   "outputs": [],
   "source": [
    "pp.DisulfideVisualization.plot_percentile_cutoffs(pdb, verbose=True)"
   ]
  },
  {
   "cell_type": "code",
   "execution_count": null,
   "metadata": {},
   "outputs": [],
   "source": [
    "best = pdb.get_by_name(\"2q7q_75D_140D\")\n",
    "worst = pdb.get_by_name(\"6vxk_801B_806B\")\n",
    "bw = pp.DisulfideList([best, worst])\n",
    "bw.display(style=\"cpk\")"
   ]
  },
  {
   "cell_type": "code",
   "execution_count": null,
   "metadata": {},
   "outputs": [],
   "source": [
    "entry = \"5rsa\"\n",
    "sslist = pdb[\"5rsa\"]\n",
    "description = sslist.describe()"
   ]
  },
  {
   "cell_type": "code",
   "execution_count": null,
   "metadata": {},
   "outputs": [],
   "source": [
    "sslist = DisulfideIO.load_disulfides_from_id(\n",
    "    entry, verbose=True, cutoff=-1, sg_cutoff=2\n",
    ")\n",
    "description = sslist.describe()"
   ]
  },
  {
   "cell_type": "code",
   "execution_count": null,
   "metadata": {},
   "outputs": [],
   "source": [
    "stats = dev_df[\"Angle_Deviation\"].describe()\n",
    "stats"
   ]
  },
  {
   "cell_type": "code",
   "execution_count": null,
   "metadata": {},
   "outputs": [],
   "source": [
    "stats[\"std\"]"
   ]
  },
  {
   "cell_type": "code",
   "execution_count": null,
   "metadata": {},
   "outputs": [],
   "source": [
    "pdb5rsa = pdb[\"5rsa\"]\n",
    "pdb5rsa.average_conformation\n",
    "# pdb5rsa.describe()"
   ]
  },
  {
   "cell_type": "code",
   "execution_count": null,
   "metadata": {},
   "outputs": [],
   "source": [
    "sslist = pdb[\"6mbd\"]\n",
    "ss1 = pdb[0]"
   ]
  },
  {
   "cell_type": "code",
   "execution_count": null,
   "metadata": {},
   "outputs": [],
   "source": [
    "tors = ss1.torsion_array\n",
    "sslist.nearest_neighbors(5, tors)"
   ]
  },
  {
   "cell_type": "code",
   "execution_count": null,
   "metadata": {},
   "outputs": [],
   "source": [
    "nn = sslist.nearest_neighbors(10, list(tors))\n",
    "print(nn)"
   ]
  },
  {
   "cell_type": "code",
   "execution_count": null,
   "metadata": {},
   "outputs": [],
   "source": [
    "sslist.nearest_neighbors_ss(ss1, 1)"
   ]
  },
  {
   "cell_type": "code",
   "execution_count": null,
   "metadata": {},
   "outputs": [],
   "source": [
    "sslist.display(style=\"sb\")"
   ]
  },
  {
   "cell_type": "code",
   "execution_count": null,
   "metadata": {},
   "outputs": [],
   "source": [
    "PDB_SS[\"6dmb\"]"
   ]
  },
  {
   "cell_type": "code",
   "execution_count": null,
   "metadata": {},
   "outputs": [],
   "source": [
    "# pp.Bootstrap_PDB_SS(verbose=True, subset=True, fake=True, force=True)"
   ]
  },
  {
   "cell_type": "code",
   "execution_count": null,
   "metadata": {},
   "outputs": [],
   "source": [
    "sslist = pdb.SSList\n",
    "ssmin_enrg, ssmax_enrg = pdb.SSList.minmax_energy\n",
    "low_energy_neighbors = ssmin_enrg.torsion_neighbors(sslist, 4)\n",
    "len(low_energy_neighbors)"
   ]
  },
  {
   "cell_type": "code",
   "execution_count": null,
   "metadata": {},
   "outputs": [],
   "source": [
    "low_energy_neighbors.display_overlay(light=\"auto\")"
   ]
  },
  {
   "cell_type": "code",
   "execution_count": null,
   "metadata": {},
   "outputs": [],
   "source": [
    "ss = pdb[0]\n",
    "ss"
   ]
  },
  {
   "cell_type": "code",
   "execution_count": null,
   "metadata": {},
   "outputs": [],
   "source": [
    "pdb = pp.DisulfideLoader(verbose=True, subset=True, cutoff=-1, sg_cutoff=-1)\n",
    "pdb.save()"
   ]
  },
  {
   "cell_type": "code",
   "execution_count": null,
   "metadata": {},
   "outputs": [],
   "source": [
    "segment = pp.DisulfideClassManager.get_class_string([0, -20, -120, -10, 180], base=8)\n",
    "print(segment)"
   ]
  },
  {
   "cell_type": "code",
   "execution_count": null,
   "metadata": {},
   "outputs": [],
   "source": []
  },
  {
   "cell_type": "code",
   "execution_count": null,
   "metadata": {},
   "outputs": [],
   "source": [
    "import pandas as pd\n",
    "\n",
    "# Assuming tors_df is already defined\n",
    "tors_df = pdb.tclass.binaryclass_df\n",
    "\n",
    "# Drop the 'ss_id' column\n",
    "tors_df_dropped = tors_df.drop(columns=[\"ss_id\"])\n",
    "\n",
    "# Export DataFrame as Markdown table (install tabulate if needed)\n",
    "md_table = tors_df_dropped.to_markdown(index=False)\n",
    "\n",
    "# Write the Markdown table to a file\n",
    "with open(\n",
    "    \"/Users/egs/repos/proteusPy/data/binary_class.md\", \"w\", encoding=\"utf-8\"\n",
    ") as f:\n",
    "    f.write(md_table)"
   ]
  },
  {
   "cell_type": "code",
   "execution_count": null,
   "metadata": {},
   "outputs": [],
   "source": [
    "diheds = [-10, 60, -120, 180, 222]\n",
    "diheds2 = [10, 60, -120, 180, -10]"
   ]
  },
  {
   "cell_type": "code",
   "execution_count": null,
   "metadata": {},
   "outputs": [],
   "source": [
    "pdb.tclass.get_eighth_quadrant(diheds2) == pdb.tclass.get_class_string(diheds2, base=8)"
   ]
  },
  {
   "cell_type": "code",
   "execution_count": null,
   "metadata": {},
   "outputs": [],
   "source": []
  },
  {
   "cell_type": "code",
   "execution_count": null,
   "metadata": {},
   "outputs": [],
   "source": [
    "pdb.tclass.get_class_string([10, 60, -120, 180, -10], base=8)"
   ]
  },
  {
   "cell_type": "code",
   "execution_count": null,
   "metadata": {},
   "outputs": [],
   "source": [
    "pdb.tclass.get_eighth_quadrant([-10, 60, -120, 180, 222])"
   ]
  },
  {
   "cell_type": "code",
   "execution_count": null,
   "metadata": {},
   "outputs": [],
   "source": [
    "pdb.tclass.get_sixth_quadrant([-10, 60, -120, 180, 222])"
   ]
  },
  {
   "cell_type": "code",
   "execution_count": null,
   "metadata": {},
   "outputs": [],
   "source": [
    "pdb.tclass.get_class_string([-10, 60, -120, 180, 222], base=6)"
   ]
  },
  {
   "cell_type": "code",
   "execution_count": null,
   "metadata": {},
   "outputs": [],
   "source": [
    "pdb.tclass.get_eighth_quadrant(180)"
   ]
  },
  {
   "cell_type": "code",
   "execution_count": null,
   "metadata": {},
   "outputs": [],
   "source": [
    "pdb.tclass.class_string_from_dihedral([-190, 60, -60, -120, -10], base=3)"
   ]
  },
  {
   "cell_type": "code",
   "execution_count": null,
   "metadata": {},
   "outputs": [],
   "source": [
    "pdb.tclass.class_string_from_dihedral(180)"
   ]
  },
  {
   "cell_type": "code",
   "execution_count": null,
   "metadata": {},
   "outputs": [],
   "source": [
    "pdb.tclass.get_binary_quadrant([180, -60, 60, -60, 120, 9])"
   ]
  },
  {
   "cell_type": "code",
   "execution_count": null,
   "metadata": {},
   "outputs": [],
   "source": [
    "sslist = pdb[0]\n",
    "# pp.set_plotly_theme('auto')\n",
    "sslist.display(style=\"sb\", light=\"auto\")"
   ]
  },
  {
   "cell_type": "code",
   "execution_count": null,
   "metadata": {},
   "outputs": [],
   "source": []
  },
  {
   "cell_type": "code",
   "execution_count": null,
   "metadata": {},
   "outputs": [],
   "source": [
    "class_df = pdb.tclass.filter_class_by_percentage(0.04, 8)\n",
    "print(class_df.shape[0])\n",
    "class_df.head()"
   ]
  },
  {
   "cell_type": "code",
   "execution_count": null,
   "metadata": {},
   "outputs": [],
   "source": [
    "tors_df = pdb.TorsionDF\n",
    "classlist = tors_df[\"octant_class_string\"].unique()\n",
    "classlist.sort()\n",
    "classlist"
   ]
  },
  {
   "cell_type": "code",
   "execution_count": null,
   "metadata": {},
   "outputs": [],
   "source": [
    "sslist = pdb.SSList\n",
    "class_df = pdb.tclass.eightclass_df\n",
    "perc = class_df[\"percentage\"] > 1.0\n",
    "filt = class_df[perc]"
   ]
  },
  {
   "cell_type": "code",
   "execution_count": null,
   "metadata": {},
   "outputs": [],
   "source": [
    "class_df.head()"
   ]
  },
  {
   "cell_type": "code",
   "execution_count": null,
   "metadata": {},
   "outputs": [],
   "source": [
    "clslist = pdb.sslist_from_class(\"22224\")\n",
    "clslist.describe()"
   ]
  },
  {
   "cell_type": "code",
   "execution_count": null,
   "metadata": {},
   "outputs": [],
   "source": [
    "ind = tors_df[tors_df[\"octant_class_string\"] == \"22222\"].index\n",
    "sslist = DisulfideList([], \"new\")\n",
    "for i in ind:\n",
    "    sslist.append(pdb[i])\n",
    "\n",
    "sslist"
   ]
  },
  {
   "cell_type": "code",
   "execution_count": null,
   "metadata": {},
   "outputs": [],
   "source": [
    "ind = pdb.class_indices_from_tors_df(\"22632\", base=8)"
   ]
  },
  {
   "cell_type": "code",
   "execution_count": null,
   "metadata": {},
   "outputs": [],
   "source": [
    "ind"
   ]
  },
  {
   "cell_type": "code",
   "execution_count": null,
   "metadata": {},
   "outputs": [],
   "source": [
    "ss1 = pdb[0]\n",
    "tors = ss1.torsion_array\n",
    "type(tors)\n",
    "type(tors[0])"
   ]
  },
  {
   "cell_type": "code",
   "execution_count": null,
   "metadata": {},
   "outputs": [],
   "source": [
    "pp.DisulfideClassManager.class_string_from_dihedral(45, base=2)"
   ]
  },
  {
   "cell_type": "code",
   "execution_count": null,
   "metadata": {},
   "outputs": [],
   "source": [
    "pdb.tclass.class_string_from_dihedral(tors, base=2)"
   ]
  },
  {
   "cell_type": "code",
   "execution_count": null,
   "metadata": {},
   "outputs": [],
   "source": [
    "dc = pp.DisulfideClassManager(pdb)"
   ]
  },
  {
   "cell_type": "code",
   "execution_count": null,
   "metadata": {},
   "outputs": [],
   "source": [
    "ss1.octant_class_string"
   ]
  },
  {
   "cell_type": "code",
   "execution_count": null,
   "metadata": {},
   "outputs": [],
   "source": [
    "pdb.TorsionDF"
   ]
  },
  {
   "cell_type": "code",
   "execution_count": null,
   "metadata": {},
   "outputs": [],
   "source": [
    "best_ss = pdb[\"2q7q_75D_140D\"]\n",
    "worst_ss = pdb[\"6vxk_801B_806B\"]\n",
    "duo = pp.DisulfideList([best_ss, worst_ss], \"bestworst\")\n",
    "duo.display()"
   ]
  },
  {
   "cell_type": "code",
   "execution_count": null,
   "metadata": {},
   "outputs": [],
   "source": [
    "pid = \"1a2y\"\n",
    "resolution = 1.8\n",
    "tot_ss = 150000\n",
    "avg_enrg = 2.5\n",
    "avg_dist = 3.5\n",
    "title = f\"<{pid}> {resolution:.2f} Å: ({tot_ss} SS), Avg E: {avg_enrg:.2f} kcal/mol, Avg Dist: {avg_dist:.2f} Å\"\n",
    "width = pp.utility.calculate_fontsize(title, 512)\n",
    "\n",
    "# display_pyvista_window(title)"
   ]
  },
  {
   "cell_type": "code",
   "execution_count": null,
   "metadata": {},
   "outputs": [],
   "source": [
    "sslist = pdb[:25]\n",
    "sslist.display_overlay(winsize=(512, 512))"
   ]
  },
  {
   "cell_type": "code",
   "execution_count": null,
   "metadata": {},
   "outputs": [],
   "source": [
    "ss = pdb[:10]\n",
    "ss.display()"
   ]
  },
  {
   "cell_type": "code",
   "execution_count": null,
   "metadata": {},
   "outputs": [],
   "source": [
    "pdb.plot_disulfides_vs_pdbid(10)"
   ]
  },
  {
   "cell_type": "code",
   "execution_count": null,
   "metadata": {},
   "outputs": [],
   "source": [
    "pdb.plot_classes_vs_cutoff(0.25)"
   ]
  },
  {
   "cell_type": "code",
   "execution_count": null,
   "metadata": {},
   "outputs": [],
   "source": [
    "pdb.print_classes(base=2)"
   ]
  },
  {
   "cell_type": "code",
   "execution_count": null,
   "metadata": {},
   "outputs": [],
   "source": [
    "pdb.tclass.binaryclass_df.to_csv(\"binaryclass.csv\", index=False)"
   ]
  },
  {
   "cell_type": "code",
   "execution_count": null,
   "metadata": {},
   "outputs": [],
   "source": [
    "pdb.tclass.eightclass_df.head()"
   ]
  },
  {
   "cell_type": "code",
   "execution_count": null,
   "metadata": {},
   "outputs": [],
   "source": [
    "pdb[\"22202b\"]"
   ]
  },
  {
   "cell_type": "code",
   "execution_count": null,
   "metadata": {},
   "outputs": [],
   "source": [
    "pdb[\"22020b\"].display_torsion_statistics(save=False, theme=\"auto\")"
   ]
  },
  {
   "cell_type": "code",
   "execution_count": null,
   "metadata": {},
   "outputs": [],
   "source": [
    "pdb[\"22020b\"].plot_deviation_histograms(verbose=True, theme=\"auto\", log=False)"
   ]
  },
  {
   "cell_type": "code",
   "execution_count": null,
   "metadata": {},
   "outputs": [],
   "source": [
    "pdb.plot_distances(distance_type=\"ca\", theme=\"auto\")"
   ]
  },
  {
   "cell_type": "code",
   "execution_count": null,
   "metadata": {},
   "outputs": [],
   "source": [
    "pdb.plot_deviation_histograms(verbose=True, theme=\"auto\")"
   ]
  },
  {
   "cell_type": "code",
   "execution_count": null,
   "metadata": {},
   "outputs": [],
   "source": [
    "pdb[\"11212\"].display_torsion_statistics(save=False, theme=\"auto\")"
   ]
  },
  {
   "cell_type": "code",
   "execution_count": null,
   "metadata": {},
   "outputs": [],
   "source": [
    "pdb[\"6dmb\"].display_torsion_statistics(theme=\"auto\")"
   ]
  },
  {
   "cell_type": "code",
   "execution_count": null,
   "metadata": {},
   "outputs": [],
   "source": [
    "pdb[\"6dmb\"]"
   ]
  },
  {
   "cell_type": "code",
   "execution_count": null,
   "metadata": {},
   "outputs": [],
   "source": [
    "pdb[\"6dmb_203A_226A\"]"
   ]
  },
  {
   "cell_type": "code",
   "execution_count": null,
   "metadata": {},
   "outputs": [],
   "source": [
    "sslist = pdb.extract_class(\"11212o\")\n",
    "sslist"
   ]
  },
  {
   "cell_type": "code",
   "execution_count": null,
   "metadata": {},
   "outputs": [],
   "source": [
    "sslist = pdb.tclass[\"11212o\"]"
   ]
  },
  {
   "cell_type": "code",
   "execution_count": null,
   "metadata": {},
   "outputs": [],
   "source": []
  },
  {
   "cell_type": "code",
   "execution_count": null,
   "metadata": {},
   "outputs": [],
   "source": [
    "pdb[\"34567\"].display_torsion_statistics(theme=\"auto\")"
   ]
  },
  {
   "cell_type": "code",
   "execution_count": null,
   "metadata": {},
   "outputs": [],
   "source": [
    "pdb.tclass.list_classes()"
   ]
  },
  {
   "cell_type": "code",
   "execution_count": null,
   "metadata": {},
   "outputs": [],
   "source": [
    "pdb[\"22222b\"]"
   ]
  },
  {
   "cell_type": "code",
   "execution_count": null,
   "metadata": {},
   "outputs": [],
   "source": [
    "cdict = pdb.tclass.binaryclass_dict\n",
    "for key in cdict:\n",
    "    print(key, len(cdict[key]))"
   ]
  },
  {
   "cell_type": "code",
   "execution_count": null,
   "metadata": {},
   "outputs": [],
   "source": [
    "def search_ss_id(df, ss_id_list):\n",
    "    \"\"\"\n",
    "    Search the DataFrame for rows where the 'ss_id' column matches any entry in the list.\n",
    "\n",
    "    :param df: The DataFrame to search.\n",
    "    :param ss_id_list: The list of 'ss_id' entries to search for.\n",
    "    :return: A DataFrame containing the matching rows.\n",
    "    \"\"\"\n",
    "    matching_rows = []\n",
    "\n",
    "    for index, row in df.iterrows():\n",
    "        if any(ss_id in row[\"ss_id\"] for ss_id in ss_id_list):\n",
    "            matching_rows.append(row)\n",
    "\n",
    "    return pd.DataFrame(matching_rows)"
   ]
  },
  {
   "cell_type": "code",
   "execution_count": null,
   "metadata": {},
   "outputs": [],
   "source": [
    "classdf = tcon.eightclass_df\n",
    "res = search_ss_id(classdf, [\"7vx1_361B_391B\"])"
   ]
  },
  {
   "cell_type": "code",
   "execution_count": null,
   "metadata": {},
   "outputs": [],
   "source": [
    "res"
   ]
  },
  {
   "cell_type": "code",
   "execution_count": null,
   "metadata": {},
   "outputs": [],
   "source": [
    "PDB = pp.Load_PDB_SS(\n",
    "    verbose=True, subset=False, force=True, cutoff=CA_CUTOFF, sg_cutoff=SG_CUTOFF\n",
    ")\n",
    "PDB.describe()"
   ]
  },
  {
   "cell_type": "code",
   "execution_count": null,
   "metadata": {},
   "outputs": [],
   "source": [
    "_logger = pp.create_logger(\"testing\")\n",
    "pp.configure_master_logger(\"tst.log\")\n",
    "pp.set_logger_level(\"testing\", \"WARNING\")\n",
    "\n",
    "sub = pp.Load_PDB_SS(verbose=False, subset=True)\n",
    "sub[0]"
   ]
  },
  {
   "cell_type": "code",
   "execution_count": null,
   "metadata": {},
   "outputs": [],
   "source": [
    "sslist = pdb[:20]\n",
    "sslist.display_overlay(screenshot=True, verbose=True)"
   ]
  },
  {
   "cell_type": "code",
   "execution_count": null,
   "metadata": {},
   "outputs": [],
   "source": [
    "pp.display_ss_pymol(\n",
    "    \"7nyc\",\n",
    "    chain=\"C\",\n",
    "    proximal=6,\n",
    "    distal=41,\n",
    "    ray=False,\n",
    "    solvent=True,\n",
    "    fname=\"7nyc_6c_41c.png\",\n",
    ")"
   ]
  },
  {
   "cell_type": "code",
   "execution_count": null,
   "metadata": {},
   "outputs": [],
   "source": [
    "pp.display_ss_pymol(\n",
    "    \"2q7q\",\n",
    "    chain=\"D\",\n",
    "    proximal=75,\n",
    "    distal=140,\n",
    "    ray=False,\n",
    "    solvent=True,\n",
    "    sas=True,\n",
    "    fname=\"2q7q.png\",\n",
    ")"
   ]
  },
  {
   "cell_type": "code",
   "execution_count": null,
   "metadata": {},
   "outputs": [],
   "source": [
    "xx = PDB[\"2q7q_75D_140D\"]\n",
    "xx"
   ]
  },
  {
   "cell_type": "code",
   "execution_count": null,
   "metadata": {},
   "outputs": [],
   "source": [
    "pp.display_ss_pymol(\"2q7q\", \"75\", \"140\", \"D\")"
   ]
  },
  {
   "cell_type": "code",
   "execution_count": null,
   "metadata": {},
   "outputs": [],
   "source": [
    "ss1 = pdb[0]\n",
    "ss1.pprint()"
   ]
  },
  {
   "cell_type": "code",
   "execution_count": null,
   "metadata": {},
   "outputs": [],
   "source": [
    "ss1.pprint_all()"
   ]
  },
  {
   "cell_type": "code",
   "execution_count": null,
   "metadata": {},
   "outputs": [],
   "source": [
    "pdb2 = DisulfideLoader(verbose=True, subset=False, cutoff=7, sg_cutoff=3)"
   ]
  },
  {
   "cell_type": "code",
   "execution_count": null,
   "metadata": {},
   "outputs": [],
   "source": [
    "pdb2.describe()"
   ]
  },
  {
   "cell_type": "code",
   "execution_count": null,
   "metadata": {},
   "outputs": [],
   "source": [
    "sslist2 = pdb2.SSList.filter_by_distance(7.0)\n",
    "len(sslist2)"
   ]
  },
  {
   "cell_type": "code",
   "execution_count": null,
   "metadata": {},
   "outputs": [],
   "source": []
  },
  {
   "cell_type": "code",
   "execution_count": null,
   "metadata": {},
   "outputs": [],
   "source": [
    "pdb2[0].pprint_all()"
   ]
  },
  {
   "cell_type": "code",
   "execution_count": null,
   "metadata": {},
   "outputs": [],
   "source": []
  },
  {
   "cell_type": "code",
   "execution_count": null,
   "metadata": {},
   "outputs": [],
   "source": [
    "good = 0\n",
    "for ss in pdb.SSList:\n",
    "    if ss.sg_distance > 2.5:\n",
    "        bad += 1\n",
    "bad"
   ]
  },
  {
   "cell_type": "code",
   "execution_count": null,
   "metadata": {},
   "outputs": [],
   "source": [
    "sslist = pdb.SSList.filter_by_sg_distance(3.0)\n",
    "sslist.pdb_id"
   ]
  },
  {
   "cell_type": "code",
   "execution_count": null,
   "metadata": {},
   "outputs": [],
   "source": [
    "len(pdb.SSList) - len(sslist)"
   ]
  },
  {
   "cell_type": "code",
   "execution_count": null,
   "metadata": {},
   "outputs": [],
   "source": [
    "import matplotlib.pyplot as plt\n",
    "\n",
    "\n",
    "def extract_sg_distances(disulfide_list, cutoff=4):\n",
    "    \"\"\"\n",
    "    Extract and filter the sg_distance values from the disulfide list.\n",
    "\n",
    "    :param disulfide_list: List of disulfide objects.\n",
    "    :return: List of sg_distance values less than 10.\n",
    "    \"\"\"\n",
    "    sg_distances = [ds.sg_distance for ds in disulfide_list if ds.sg_distance < cutoff]\n",
    "    return sg_distances\n",
    "\n",
    "\n",
    "import pandas as pd\n",
    "import plotly.express as px\n",
    "\n",
    "\n",
    "def plot_sg_distances(sg_distances, cutoff=4):\n",
    "    \"\"\"\n",
    "    Plot the sg_distance values as a histogram using plotly express.\n",
    "\n",
    "    :param sg_distances: List of sg_distance values.\n",
    "    \"\"\"\n",
    "    # Convert to a Pandas DataFrame with a column named 'SG Distance'\n",
    "    df = pd.DataFrame(sg_distances, columns=[\"SG Distance\"])\n",
    "\n",
    "    fig = px.histogram(\n",
    "        df,\n",
    "        x=\"SG Distance\",  # Use the column name for the x-axis\n",
    "        nbins=100,\n",
    "        title=\"Histogram of SG Distances\",\n",
    "    )\n",
    "    fig.update_layout(\n",
    "        xaxis_title=f\"SG Distance < {cutoff}\",\n",
    "        yaxis_title=\"Frequency\",\n",
    "        bargap=0.2,\n",
    "        template=\"plotly_white\",\n",
    "    )\n",
    "    fig.show()"
   ]
  },
  {
   "cell_type": "code",
   "execution_count": null,
   "metadata": {},
   "outputs": [],
   "source": [
    "# Example usage\n",
    "disulfide_list = pdb.SSList  # Replace with your list of disulfide objects\n",
    "sg_distances = extract_sg_distances(disulfide_list, cutoff=5)\n",
    "plot_sg_distances(sg_distances)"
   ]
  },
  {
   "cell_type": "code",
   "execution_count": null,
   "metadata": {},
   "outputs": [],
   "source": [
    "pdb[0].pprint_all()\n",
    "ss1 = pdb[0]\n",
    "ss1.missing_atoms"
   ]
  },
  {
   "cell_type": "code",
   "execution_count": null,
   "metadata": {},
   "outputs": [],
   "source": [
    "pdb[\"3q7q\"]"
   ]
  },
  {
   "cell_type": "code",
   "execution_count": null,
   "metadata": {},
   "outputs": [],
   "source": [
    "pdb.SSDict.get(\"xxx\")"
   ]
  },
  {
   "cell_type": "code",
   "execution_count": null,
   "metadata": {},
   "outputs": [],
   "source": [
    "pdb[\"2q7q_75D_140D\"]"
   ]
  },
  {
   "cell_type": "code",
   "execution_count": null,
   "metadata": {},
   "outputs": [],
   "source": [
    "pdb.get_by_name(\"2q7q_75D_140D\")"
   ]
  },
  {
   "cell_type": "code",
   "execution_count": null,
   "metadata": {},
   "outputs": [],
   "source": [
    "ind = pdb.SSDict.get(\"2q7q_75D\")\n",
    "ind"
   ]
  },
  {
   "cell_type": "code",
   "execution_count": null,
   "metadata": {},
   "outputs": [],
   "source": []
  },
  {
   "cell_type": "code",
   "execution_count": null,
   "metadata": {},
   "outputs": [],
   "source": [
    "def get_pdbid_with_max_disulfides(PDB_SS):\n",
    "    \"\"\"\n",
    "    Enumerates PDB_SS.SSDict and returns the pdbid for the key with the largest number of disulfides.\n",
    "\n",
    "    Args:\n",
    "        PDB_SS (object): The object containing the SSDict attribute.\n",
    "\n",
    "    Returns:\n",
    "        str: The pdbid with the largest number of disulfides.\n",
    "    \"\"\"\n",
    "    max_disulfides = 0\n",
    "    pdbid_with_max_disulfides = None\n",
    "\n",
    "    for pdbid, disulfides in PDB_SS.SSDict.items():\n",
    "        num_disulfides = len(disulfides)\n",
    "        if num_disulfides > max_disulfides:\n",
    "            max_disulfides = num_disulfides\n",
    "            pdbid_with_max_disulfides = pdbid\n",
    "\n",
    "    return pdbid_with_max_disulfides, max_disulfides"
   ]
  },
  {
   "cell_type": "code",
   "execution_count": null,
   "metadata": {},
   "outputs": [],
   "source": [
    "get_pdbid_with_max_disulfides(pdb)"
   ]
  },
  {
   "cell_type": "code",
   "execution_count": null,
   "metadata": {},
   "outputs": [],
   "source": [
    "big = pdb[\"7nyc\"]"
   ]
  },
  {
   "cell_type": "code",
   "execution_count": null,
   "metadata": {},
   "outputs": [],
   "source": [
    "import matplotlib.pyplot as plt\n",
    "\n",
    "\n",
    "def plot_disulfides_vs_pdbid(PDB_SS, cutoff=1):\n",
    "    \"\"\"\n",
    "    Plots the number of disulfides versus pdbid.\n",
    "\n",
    "    Args:\n",
    "        PDB_SS (object): The object containing the SSDict attribute.\n",
    "    \"\"\"\n",
    "    pdbids = []\n",
    "    num_disulfides = []\n",
    "\n",
    "    for pdbid, disulfides in PDB_SS.SSDict.items():\n",
    "        if len(disulfides) > cutoff:\n",
    "            pdbids.append(pdbid)\n",
    "            num_disulfides.append(len(disulfides))\n",
    "\n",
    "    plt.figure(figsize=(12, 6))\n",
    "    plt.bar(pdbids, num_disulfides, color=\"skyblue\")\n",
    "    plt.xlabel(\"PDB ID\")\n",
    "    plt.ylabel(\"Number of Disulfides\")\n",
    "    plt.title(f\"Number of Disulfides vs PDB ID with cutoff: {cutoff}\")\n",
    "    plt.xticks(rotation=90)\n",
    "    plt.tight_layout()\n",
    "    plt.show()\n",
    "\n",
    "    return pdbids, num_disulfides"
   ]
  },
  {
   "cell_type": "code",
   "execution_count": null,
   "metadata": {},
   "outputs": [],
   "source": [
    "pdbids, num_disulfides = plot_disulfides_vs_pdbid(PDB, cutoff=50)"
   ]
  },
  {
   "cell_type": "code",
   "execution_count": null,
   "metadata": {},
   "outputs": [],
   "source": [
    "colors = [\n",
    "    [\"ff0000\", \"28e5da\", \"0000ff\"],\n",
    "    [\"ffff00\", \"c8bebe\", \"f79292\"],\n",
    "    [\"fffff0\", \"f18c1d\", \"23dcaa\"],\n",
    "    [\"d785ec\", \"9d5b13\", \"e4e0b1\"],\n",
    "    [\"894509\", \"af45f5\", \"fff000\"],\n",
    "]\n",
    "\n",
    "\n",
    "class SetVisibilityCallback:\n",
    "    \"\"\"Helper callback to keep a reference to the actor being modified.\"\"\"\n",
    "\n",
    "    def __init__(self, actor):\n",
    "        self.actor = actor\n",
    "\n",
    "    def __call__(self, state):\n",
    "        self.actor.SetVisibility(state)\n",
    "\n",
    "\n",
    "# Widget size\n",
    "import pyvista as pv\n",
    "\n",
    "size = 50\n",
    "\n",
    "p = pv.Plotter()\n",
    "\n",
    "Startpos = 12\n",
    "for i, lst in enumerate(colors):\n",
    "    for j, color in enumerate(lst):\n",
    "        actor = p.add_mesh(pv.Sphere(center=(i, j, 0)), color=color)\n",
    "        # Make a separate callback for each widget\n",
    "        callback = SetVisibilityCallback(actor)\n",
    "        p.add_checkbox_button_widget(\n",
    "            callback,\n",
    "            value=True,\n",
    "            position=(5.0, Startpos),\n",
    "            size=size,\n",
    "            border_size=1,\n",
    "            color_on=color,\n",
    "            color_off=\"grey\",\n",
    "            background_color=\"grey\",\n",
    "        )\n",
    "        Startpos = Startpos + size + (size // 10)\n",
    "\n",
    "p.show()"
   ]
  },
  {
   "cell_type": "code",
   "execution_count": null,
   "metadata": {},
   "outputs": [],
   "source": []
  },
  {
   "cell_type": "code",
   "execution_count": null,
   "metadata": {},
   "outputs": [],
   "source": [
    "ss1 = pdb[0]\n",
    "# ss1.pprint_all()\n",
    "cofmass = ss1.coord_cofmass"
   ]
  },
  {
   "cell_type": "code",
   "execution_count": null,
   "metadata": {},
   "outputs": [],
   "source": [
    "ss1.translate(Vector3D(-cofmass))\n",
    "ss1.pprint_all()"
   ]
  },
  {
   "cell_type": "code",
   "execution_count": null,
   "metadata": {},
   "outputs": [],
   "source": [
    "crn1 = pdb[\"1crn\"]\n",
    "crn1.pprint_all()\n",
    "cofmass = crn1.center_of_mass\n",
    "cofmass"
   ]
  },
  {
   "cell_type": "code",
   "execution_count": null,
   "metadata": {},
   "outputs": [],
   "source": [
    "crn1.translate(Vector3D(-cofmass))\n",
    "print(f\"Center of mass is {cofmass}\")\n",
    "crn1.pprint_all()"
   ]
  },
  {
   "cell_type": "code",
   "execution_count": null,
   "metadata": {},
   "outputs": [],
   "source": [
    "sslist.build_distance_df()"
   ]
  },
  {
   "cell_type": "code",
   "execution_count": null,
   "metadata": {},
   "outputs": [],
   "source": [
    "sslist.average_torsion_distance"
   ]
  },
  {
   "cell_type": "code",
   "execution_count": null,
   "metadata": {},
   "outputs": [],
   "source": [
    "sslist.display_overlay()"
   ]
  },
  {
   "cell_type": "code",
   "execution_count": null,
   "metadata": {},
   "outputs": [],
   "source": [
    "sslist = load_disulfides_from_id(\"1tgk\", pdb_dir=MODEL_DIR)\n",
    "sslist"
   ]
  },
  {
   "cell_type": "code",
   "execution_count": null,
   "metadata": {},
   "outputs": [],
   "source": [
    "sslist.average_energy"
   ]
  },
  {
   "cell_type": "code",
   "execution_count": null,
   "metadata": {},
   "outputs": [],
   "source": [
    "sslist.average_conformation"
   ]
  },
  {
   "cell_type": "code",
   "execution_count": null,
   "metadata": {},
   "outputs": [],
   "source": [
    "pdb[\"1tgk\"]"
   ]
  },
  {
   "cell_type": "code",
   "execution_count": null,
   "metadata": {},
   "outputs": [],
   "source": [
    "sslist = pdb[\"4yys\"]"
   ]
  },
  {
   "cell_type": "code",
   "execution_count": null,
   "metadata": {},
   "outputs": [],
   "source": [
    "sslist = pdb.build_ss_from_idlist([\"5rsa\", \"4yys\", \"2q7q\"])\n",
    "sslist"
   ]
  },
  {
   "cell_type": "code",
   "execution_count": null,
   "metadata": {},
   "outputs": [],
   "source": [
    "ss = pdb[\"2q7q_75D_140D\"]"
   ]
  },
  {
   "cell_type": "code",
   "execution_count": null,
   "metadata": {},
   "outputs": [],
   "source": [
    "neighbors = pdb.SSList.nearest_neighbors_ss(ss, 3)\n",
    "neighbors"
   ]
  },
  {
   "cell_type": "code",
   "execution_count": null,
   "metadata": {},
   "outputs": [],
   "source": [
    "neighbors2 = pdb.SSList.nearest_neighbors(5, [-60, -60, -83, -60, -60])\n",
    "neighbors2.describe()\n",
    "neighbors2.display_overlay()"
   ]
  },
  {
   "cell_type": "code",
   "execution_count": null,
   "metadata": {},
   "outputs": [],
   "source": [
    "neighbors3 = pdb.SSList.nearest_neighbors(3.5, list(ss.dihedrals))\n",
    "neighbors3"
   ]
  },
  {
   "cell_type": "code",
   "execution_count": null,
   "metadata": {},
   "outputs": [],
   "source": [
    "sslist2 = pdb.SSList[:1000]\n",
    "df = sslist2.create_deviation_dataframe()"
   ]
  },
  {
   "cell_type": "code",
   "execution_count": null,
   "metadata": {},
   "outputs": [],
   "source": [
    "df.describe()"
   ]
  },
  {
   "cell_type": "code",
   "execution_count": null,
   "metadata": {},
   "outputs": [],
   "source": []
  },
  {
   "cell_type": "code",
   "execution_count": null,
   "metadata": {},
   "outputs": [],
   "source": [
    "ss.display()"
   ]
  },
  {
   "cell_type": "code",
   "execution_count": null,
   "metadata": {},
   "outputs": [],
   "source": [
    "ss1 = pdb[0]\n",
    "ss1.display(light=\"Auto\", winsize=(800, 800))"
   ]
  },
  {
   "cell_type": "code",
   "execution_count": null,
   "metadata": {},
   "outputs": [],
   "source": [
    "pp.get_theme()"
   ]
  },
  {
   "cell_type": "code",
   "execution_count": null,
   "metadata": {},
   "outputs": [],
   "source": []
  },
  {
   "cell_type": "code",
   "execution_count": null,
   "metadata": {},
   "outputs": [],
   "source": [
    "ss1 = pdb[0]\n",
    "type(ss1)"
   ]
  },
  {
   "cell_type": "code",
   "execution_count": null,
   "metadata": {},
   "outputs": [],
   "source": [
    "ss1.display(style=\"sb\", light=False)"
   ]
  },
  {
   "cell_type": "code",
   "execution_count": null,
   "metadata": {},
   "outputs": [],
   "source": []
  },
  {
   "cell_type": "code",
   "execution_count": null,
   "metadata": {},
   "outputs": [],
   "source": [
    "import timeit\n",
    "import numpy as np\n",
    "import matplotlib.pyplot as plt\n",
    "from proteusPy import Disulfide\n",
    "\n",
    "\n",
    "def add_to_list(n, pdb_sslist):\n",
    "    disulfide_list = []\n",
    "    for i in range(n):\n",
    "        disulfide_list.append(pdb_sslist[i])\n",
    "\n",
    "    sslist = DisulfideList(disulfide_list, \"tmp\")\n",
    "    avg = sslist.average_conformation\n",
    "\n",
    "\n",
    "def add_to_ndarray(n, pdb_sslist):\n",
    "    disulfide_array = np.empty(n, dtype=object)\n",
    "    for i in range(n):\n",
    "        disulfide_array[i] = pdb_sslist[i]\n",
    "    sslist = DisulfideList(disulfide_array, \"tmp\")\n",
    "    avg = sslist.average_conformation\n",
    "\n",
    "\n",
    "def profile_sslist(sslist):\n",
    "    # Number of objects to add\n",
    "    num_objects = [1000, 5000, 10000, 20000, 30000, 40000, 50000, 60000, 70000, 80000]\n",
    "\n",
    "    # Measure time for adding to list\n",
    "    list_times = []\n",
    "    for n in num_objects:\n",
    "        time = timeit.timeit(lambda: add_to_list(n, sslist), number=10)\n",
    "        list_times.append(time)\n",
    "\n",
    "    # Measure time for adding to ndarray\n",
    "    ndarray_times = []\n",
    "    for n in num_objects:\n",
    "        time = timeit.timeit(lambda: add_to_ndarray(n, sslist), number=10)\n",
    "        ndarray_times.append(time)\n",
    "\n",
    "    # Plot the results\n",
    "    plt.plot(num_objects, list_times, label=\"DisulfideList (list)\")\n",
    "    plt.plot(num_objects, ndarray_times, label=\"ndarray\")\n",
    "    plt.xlabel(\"Number of Disulfide Objects\")\n",
    "    plt.ylabel(\"Time (seconds)\")\n",
    "    plt.title(\"Comparison of Adding Disulfide Objects to List vs. ndarray\")\n",
    "    plt.legend()\n",
    "    plt.grid(True)\n",
    "    plt.show()"
   ]
  },
  {
   "cell_type": "code",
   "execution_count": null,
   "metadata": {},
   "outputs": [],
   "source": [
    "profile_sslist(pdb.SSList)"
   ]
  },
  {
   "cell_type": "code",
   "execution_count": null,
   "metadata": {},
   "outputs": [],
   "source": []
  },
  {
   "cell_type": "code",
   "execution_count": null,
   "metadata": {},
   "outputs": [],
   "source": []
  },
  {
   "cell_type": "code",
   "execution_count": null,
   "metadata": {},
   "outputs": [],
   "source": [
    "tors_df2 = ss1.torsion_df\n",
    "tors_df2.describe()"
   ]
  },
  {
   "cell_type": "code",
   "execution_count": null,
   "metadata": {},
   "outputs": [],
   "source": [
    "pdb = DisulfideLoader(verbose=True, subset=True, cutoff=8.0)"
   ]
  },
  {
   "cell_type": "code",
   "execution_count": null,
   "metadata": {},
   "outputs": [],
   "source": [
    "pdb = Load_PDB_SS(verbose=True, subset=False, cutoff=8.0)"
   ]
  },
  {
   "cell_type": "code",
   "execution_count": null,
   "metadata": {},
   "outputs": [],
   "source": [
    "pdb[0]"
   ]
  },
  {
   "cell_type": "code",
   "execution_count": null,
   "metadata": {},
   "outputs": [],
   "source": [
    "PDB_SS = Load_PDB_SS(subset=False, verbose=True)\n",
    "PDB_SS.describe()"
   ]
  },
  {
   "cell_type": "code",
   "execution_count": null,
   "metadata": {},
   "outputs": [],
   "source": [
    "import os\n",
    "from pathlib import Path\n",
    "import importlib.resources as pkg_resources\n",
    "\n",
    "# Determine the base directory of the installed package\n",
    "this_dir = Path(pkg_resources.files(\"proteusPy\"))\n",
    "this_dir"
   ]
  },
  {
   "cell_type": "code",
   "execution_count": null,
   "metadata": {},
   "outputs": [],
   "source": []
  },
  {
   "cell_type": "code",
   "execution_count": null,
   "metadata": {},
   "outputs": [],
   "source": []
  },
  {
   "cell_type": "code",
   "execution_count": null,
   "metadata": {},
   "outputs": [],
   "source": [
    "ss1 = PDB_SS[0]\n",
    "ss1.rho"
   ]
  },
  {
   "cell_type": "code",
   "execution_count": null,
   "metadata": {},
   "outputs": [],
   "source": [
    "from proteusPy import (\n",
    "    torsion_to_sixclass,\n",
    "    torsion_to_eightclass,\n",
    "    torsion_to_class_string,\n",
    ")\n",
    "\n",
    "lhs = [-60, -60, -90, -60, -60]\n",
    "rhs = [60, 60, 90, 60, 60]\n",
    "six = torsion_to_sixclass(lhs)\n",
    "eight = torsion_to_eightclass(lhs)"
   ]
  },
  {
   "cell_type": "code",
   "execution_count": null,
   "metadata": {},
   "outputs": [],
   "source": [
    "cls = torsion_to_class_string(lhs, base=6)\n",
    "cls"
   ]
  },
  {
   "cell_type": "code",
   "execution_count": null,
   "metadata": {},
   "outputs": [],
   "source": [
    "six"
   ]
  },
  {
   "cell_type": "code",
   "execution_count": null,
   "metadata": {},
   "outputs": [],
   "source": [
    "eight"
   ]
  },
  {
   "cell_type": "code",
   "execution_count": null,
   "metadata": {},
   "outputs": [],
   "source": [
    "sixr = torsion_to_sixclass(rhs)\n",
    "eightr = torsion_to_eightclass(rhs)"
   ]
  },
  {
   "cell_type": "code",
   "execution_count": null,
   "metadata": {},
   "outputs": [],
   "source": [
    "sixr"
   ]
  },
  {
   "cell_type": "code",
   "execution_count": null,
   "metadata": {},
   "outputs": [],
   "source": [
    "eightr"
   ]
  },
  {
   "cell_type": "code",
   "execution_count": null,
   "metadata": {},
   "outputs": [],
   "source": [
    "torsion_to_class_string(lhs, 6)"
   ]
  },
  {
   "cell_type": "code",
   "execution_count": null,
   "metadata": {},
   "outputs": [],
   "source": [
    "torsion_to_class_string(lhs, 8)"
   ]
  },
  {
   "cell_type": "code",
   "execution_count": null,
   "metadata": {},
   "outputs": [],
   "source": [
    "def plot_disulfide_secondary_structures(pdb_ss):\n",
    "    \"\"\"\n",
    "    Plot a graph of disulfide secondary structures segmented by secondary structure.\n",
    "\n",
    "    :param pdb_ss: The PDB_SS object containing SSList with disulfide bonds.\n",
    "    :type pdb_ss: object\n",
    "    \"\"\"\n",
    "    # Initialize counters for each secondary structure type\n",
    "    helix_count = 0\n",
    "    sheet_count = 0\n",
    "    turn_count = 0\n",
    "    nosecondary_count = 0\n",
    "\n",
    "    # Iterate through the SSList and count the secondary structures\n",
    "    for ss in pdb_ss.SSList:\n",
    "        proximal_secondary = ss.proximal_secondary\n",
    "        distal_secondary = ss.distal_secondary\n",
    "\n",
    "        if proximal_secondary == \"helix\":\n",
    "            helix_count += 1\n",
    "        elif proximal_secondary == \"sheet\":\n",
    "            sheet_count += 1\n",
    "        elif proximal_secondary == \"turn\":\n",
    "            turn_count += 1\n",
    "        elif proximal_secondary == \"nosecondary\":\n",
    "            nosecondary_count += 1\n",
    "\n",
    "        if distal_secondary == \"helix\":\n",
    "            helix_count += 1\n",
    "        elif distal_secondary == \"sheet\":\n",
    "            sheet_count += 1\n",
    "        elif distal_secondary == \"turn\":\n",
    "            turn_count += 1\n",
    "        elif distal_secondary == \"nosecondary\":\n",
    "            nosecondary_count += 1\n",
    "\n",
    "    # Data for plotting\n",
    "    labels = [\"Helix\", \"Sheet\", \"Turn\", \"No Secondary\"]\n",
    "    counts = [helix_count, sheet_count, turn_count, nosecondary_count]\n",
    "\n",
    "    # Plotting the data\n",
    "    plt.figure(figsize=(10, 6))\n",
    "    plt.bar(labels, counts, color=[\"blue\", \"green\", \"red\", \"gray\"])\n",
    "    plt.xlabel(\"Secondary Structure\")\n",
    "    plt.ylabel(\"Count of Disulfide Bonds\")\n",
    "    plt.title(\"Disulfide Bonds Segmented by Secondary Structure\")\n",
    "    plt.show()\n",
    "\n",
    "\n",
    "import matplotlib.pyplot as plt\n",
    "\n",
    "\n",
    "def plot_disulfide_secondary_structure_cooccurrence(pdb_ss):\n",
    "    \"\"\"\n",
    "    Plot a graph of disulfide secondary structure co-occurrence by proximal-distal type.\n",
    "\n",
    "    :param pdb_ss: The PDB_SS object containing SSList with disulfide bonds.\n",
    "    :type pdb_ss: object\n",
    "    \"\"\"\n",
    "    # Initialize counters for each proximal-distal secondary structure combination\n",
    "    cooccurrence_counts = {}\n",
    "    skipped = 0\n",
    "    turns = 0\n",
    "    cnt = 0\n",
    "\n",
    "    # Iterate through the SSList and count the secondary structure combinations\n",
    "    for ss in pdb_ss.SSList:\n",
    "        proximal_secondary = ss.proximal_secondary\n",
    "        distal_secondary = ss.distal_secondary\n",
    "        # Skip disulfide bonds with no secondary structure or with a turn secondary structure\n",
    "\n",
    "        if proximal_secondary == \"nosecondary\" or distal_secondary == \"nosecondary\":\n",
    "            skipped += 1\n",
    "            continue\n",
    "\n",
    "        if proximal_secondary == \"turn\" or distal_secondary == \"turn\":\n",
    "            turns += 1\n",
    "            continue\n",
    "\n",
    "        key = (proximal_secondary, distal_secondary)\n",
    "\n",
    "        if key in cooccurrence_counts:\n",
    "            cooccurrence_counts[key] += 1\n",
    "        else:\n",
    "            cooccurrence_counts[key] = 1\n",
    "\n",
    "        cnt += 1\n",
    "\n",
    "    print(\n",
    "        f\"Skipped {skipped} disulfide bonds with no secondary structure and {turns} turn secondary structure.\\n\"\n",
    "        f\"Disulfides used: {cnt}\"\n",
    "    )\n",
    "\n",
    "    # Data for plotting\n",
    "    labels = [f\"{prox}-{dist}\" for prox, dist in cooccurrence_counts.keys()]\n",
    "    counts = list(cooccurrence_counts.values())\n",
    "\n",
    "    # Plotting the data\n",
    "    plt.figure(figsize=(12, 8))\n",
    "    plt.bar(labels, counts, color=\"skyblue\")\n",
    "    plt.xlabel(\"Proximal-Distal Secondary Structure\")\n",
    "    plt.ylabel(\"Count of Disulfide Bonds\")\n",
    "    plt.title(\"Co-occurrence of Secondary Structures by Proximal-Distal Type\")\n",
    "    plt.xticks(rotation=45, ha=\"right\")\n",
    "    plt.tight_layout()\n",
    "    plt.show()"
   ]
  },
  {
   "cell_type": "code",
   "execution_count": null,
   "metadata": {},
   "outputs": [],
   "source": [
    "import matplotlib.pyplot as plt\n",
    "import numpy as np\n",
    "\n",
    "\n",
    "def plot_disulfide_secondary_structure_and_rho(pdb_ss):\n",
    "    \"\"\"\n",
    "    Plot a graph of disulfide secondary structure co-occurrence by proximal-distal type\n",
    "    and the disulfide parameter rho with error bars.\n",
    "\n",
    "    :param pdb_ss: The PDB_SS object containing SSList with disulfide bonds.\n",
    "    :type pdb_ss: object\n",
    "    \"\"\"\n",
    "    # Initialize data structures for secondary structure combinations and rho values\n",
    "    cooccurrence_counts = {}\n",
    "    rho_values = {}\n",
    "\n",
    "    # Iterate through the SSList and collect data\n",
    "    for ss in pdb_ss.SSList:\n",
    "        proximal_secondary = ss.proximal_secondary.strip().lower()\n",
    "        distal_secondary = ss.distal_secondary.strip().lower()\n",
    "\n",
    "        # Skip disulfide bonds with no secondary structure or with a turn secondary structure\n",
    "        if proximal_secondary == \"no_secondary\" or distal_secondary == \"no_secondary\":\n",
    "            continue\n",
    "\n",
    "        if proximal_secondary == \"turn\" or distal_secondary == \"turn\":\n",
    "            continue\n",
    "\n",
    "        key = (proximal_secondary, distal_secondary)\n",
    "\n",
    "        if key in cooccurrence_counts:\n",
    "            cooccurrence_counts[key] += 1\n",
    "            rho_values[key].append(ss.ca_distance)\n",
    "        else:\n",
    "            cooccurrence_counts[key] = 1\n",
    "            rho_values[key] = [ss.rho]\n",
    "\n",
    "    # Data for plotting\n",
    "    labels = [f\"{prox}-{dist}\" for prox, dist in cooccurrence_counts.keys()]\n",
    "    counts = list(cooccurrence_counts.values())\n",
    "    rho_means = [np.mean(rho_values[key]) for key in rho_values.keys()]\n",
    "    rho_stds = [np.std(rho_values[key]) for key in rho_values.keys()]\n",
    "\n",
    "    # Plotting the secondary structure co-occurrence\n",
    "    plt.figure(figsize=(12, 8))\n",
    "    plt.bar(labels, counts, color=\"skyblue\")\n",
    "    plt.xlabel(\"Proximal-Distal Secondary Structure\")\n",
    "    plt.ylabel(\"Count of Disulfide Bonds\")\n",
    "    plt.title(\"Co-occurrence of Secondary Structures by Proximal-Distal Type\")\n",
    "    plt.xticks(rotation=45, ha=\"right\")\n",
    "    plt.tight_layout()\n",
    "    plt.show()\n",
    "\n",
    "    # Plotting the rho values with error bars\n",
    "    plt.figure(figsize=(12, 8))\n",
    "    plt.errorbar(\n",
    "        labels,\n",
    "        rho_means,\n",
    "        yerr=rho_stds,\n",
    "        fmt=\"o\",\n",
    "        color=\"red\",\n",
    "        ecolor=\"black\",\n",
    "        capsize=5,\n",
    "    )\n",
    "    plt.xlabel(\"Proximal-Distal Secondary Structure\")\n",
    "    plt.ylabel(\"Mean Rho Value\")\n",
    "    plt.title(\"Mean Rho Value by Proximal-Distal Secondary Structure with Error Bars\")\n",
    "    plt.xticks(rotation=45, ha=\"right\")\n",
    "    plt.tight_layout()\n",
    "    plt.show()"
   ]
  },
  {
   "cell_type": "code",
   "execution_count": null,
   "metadata": {},
   "outputs": [],
   "source": [
    "plot_disulfide_secondary_structure_and_rho(PDB_SS)"
   ]
  },
  {
   "cell_type": "code",
   "execution_count": null,
   "metadata": {},
   "outputs": [],
   "source": [
    "plot_disulfide_secondary_structures(PDB_SS)"
   ]
  },
  {
   "cell_type": "code",
   "execution_count": null,
   "metadata": {},
   "outputs": [],
   "source": [
    "plot_disulfide_secondary_structure_cooccurrence(PDB_SS)"
   ]
  },
  {
   "cell_type": "code",
   "execution_count": null,
   "metadata": {},
   "outputs": [],
   "source": [
    "from proteusPy import extract_ssbonds_and_atoms\n",
    "from pathlib import Path\n",
    "import os\n",
    "\n",
    "verbose = True\n",
    "structure_fname = str(MODEL_DIR / \"pdb5rsa.ent\")\n",
    "ssbond_atom_list, num_ssbonds, errors = extract_ssbonds_and_atoms(\n",
    "    structure_fname, verbose=verbose\n",
    ")"
   ]
  },
  {
   "cell_type": "code",
   "execution_count": null,
   "metadata": {},
   "outputs": [],
   "source": [
    "ssbond_atom_list[\"helices\"]"
   ]
  },
  {
   "cell_type": "code",
   "execution_count": null,
   "metadata": {},
   "outputs": [],
   "source": [
    "ssbond_atom_list[\"sheets\"]"
   ]
  },
  {
   "cell_type": "code",
   "execution_count": null,
   "metadata": {},
   "outputs": [],
   "source": [
    "ssbond_atom_list[\"turns\"]"
   ]
  },
  {
   "cell_type": "code",
   "execution_count": null,
   "metadata": {},
   "outputs": [],
   "source": [
    "ssbond_atom_list[\"ssbonds\"]"
   ]
  },
  {
   "cell_type": "code",
   "execution_count": null,
   "metadata": {},
   "outputs": [],
   "source": [
    "ssbond_atom_list[\"pairs\"]"
   ]
  },
  {
   "cell_type": "code",
   "execution_count": null,
   "metadata": {},
   "outputs": [],
   "source": [
    "ssbond_atom_list[\"pairs\"]"
   ]
  },
  {
   "cell_type": "code",
   "execution_count": null,
   "metadata": {},
   "outputs": [],
   "source": [
    "df = pd.DataFrame()\n",
    "fig = PDB_SS.plot_count_vs_class_df(\n",
    "    df,\n",
    "    title=\"Binary\",\n",
    "    save=True,\n",
    "    savedir=BINARY,\n",
    "    verbose=True,\n",
    "    base=2,\n",
    ")\n",
    "fig.show()"
   ]
  },
  {
   "cell_type": "code",
   "execution_count": null,
   "metadata": {},
   "outputs": [],
   "source": [
    "PDB_SS.plot_binary_to_eightclass_incidence(\n",
    "    theme=\"light\", save=True, verbose=True, savedir=OCTANT\n",
    ")"
   ]
  },
  {
   "cell_type": "code",
   "execution_count": null,
   "metadata": {},
   "outputs": [],
   "source": [
    "PDB_SS.plot_binary_to_sixclass_incidence(\n",
    "    theme=\"light\", save=True, verbose=True, savedir=SEXTANT\n",
    ")"
   ]
  },
  {
   "cell_type": "code",
   "execution_count": null,
   "metadata": {},
   "outputs": [],
   "source": [
    "clslist6 = PDB_SS.tclass.sslist_from_classid(\"55555\", base=6)\n",
    "clslist6"
   ]
  },
  {
   "cell_type": "code",
   "execution_count": null,
   "metadata": {},
   "outputs": [],
   "source": [
    "clslist8 = PDB_SS.tclass.sslist_from_classid(\"77778\", base=8)\n",
    "clslist8"
   ]
  },
  {
   "cell_type": "code",
   "execution_count": null,
   "metadata": {},
   "outputs": [],
   "source": []
  },
  {
   "cell_type": "code",
   "execution_count": null,
   "metadata": {},
   "outputs": [],
   "source": []
  },
  {
   "cell_type": "code",
   "execution_count": null,
   "metadata": {},
   "outputs": [],
   "source": [
    "df2 = PDB_SS.tclass.classdf\n",
    "df8 = PDB_SS.tclass.eightclass_df"
   ]
  },
  {
   "cell_type": "code",
   "execution_count": null,
   "metadata": {},
   "outputs": [],
   "source": [
    "df2.head(32)"
   ]
  },
  {
   "cell_type": "code",
   "execution_count": null,
   "metadata": {},
   "outputs": [],
   "source": [
    "df8"
   ]
  },
  {
   "cell_type": "code",
   "execution_count": null,
   "metadata": {},
   "outputs": [],
   "source": [
    "df6"
   ]
  },
  {
   "cell_type": "code",
   "execution_count": null,
   "metadata": {},
   "outputs": [],
   "source": [
    "def enumerate_class_fromlist(loader: DisulfideLoader, sslist):\n",
    "    import pandas as pd\n",
    "\n",
    "    x = []\n",
    "    y = []\n",
    "\n",
    "    for cls in sslist:\n",
    "        if cls is not None:\n",
    "            _y = loader.tclass.sslist_from_classid(cls)\n",
    "            # it's possible to have 0 SS in a class\n",
    "            if _y is not None:\n",
    "                # only append if we have both.\n",
    "                x.append(cls)\n",
    "                y.append(len(_y))\n",
    "\n",
    "    sslist_df = pd.DataFrame(columns=[\"class_id\", \"count\"])\n",
    "    sslist_df[\"class_id\"] = x\n",
    "    sslist_df[\"count\"] = y\n",
    "    return sslist_df"
   ]
  },
  {
   "cell_type": "code",
   "execution_count": null,
   "metadata": {},
   "outputs": [],
   "source": [
    "cls = \"00000\"\n",
    "sixcls = PDB_SS.tclass.binary_to_class(cls, 6)\n",
    "df = enumerate_class_fromlist(PDB_SS, sixcls)\n",
    "# Assuming 'count' is the column by which we want to sort\n",
    "sorted_df = df.sort_values(by=\"count\", ascending=False)\n",
    "\n",
    "# Display the sorted DataFrame\n",
    "print(sorted_df)"
   ]
  },
  {
   "cell_type": "code",
   "execution_count": null,
   "metadata": {},
   "outputs": [],
   "source": [
    "cls = \"00000\"\n",
    "eightcls = PDB_SS.tclass.binary_to_eight_class(cls)\n",
    "# eightcls\n",
    "\n",
    "df = enumerate_class_fromlist(PDB_SS, eightcls)\n",
    "# Assuming 'count' is the column by which we want to sort\n",
    "sorted_df = df.sort_values(by=\"count\", ascending=False)\n",
    "\n",
    "# Display the sorted DataFrame\n",
    "print(sorted_df)"
   ]
  },
  {
   "cell_type": "code",
   "execution_count": null,
   "metadata": {},
   "outputs": [],
   "source": [
    "PDB_SS.plot_binary_to_eightclass_incidence(theme=\"light\")"
   ]
  },
  {
   "cell_type": "code",
   "execution_count": null,
   "metadata": {},
   "outputs": [],
   "source": [
    "PDB_SS.plot_count_vs_class_df(df, cls, theme=\"light\")"
   ]
  },
  {
   "cell_type": "code",
   "execution_count": null,
   "metadata": {},
   "outputs": [],
   "source": []
  },
  {
   "cell_type": "code",
   "execution_count": null,
   "metadata": {},
   "outputs": [],
   "source": []
  },
  {
   "cell_type": "code",
   "execution_count": null,
   "metadata": {},
   "outputs": [],
   "source": [
    "PDB_SS.plot_binary_to_sixclass_incidence(light=False)"
   ]
  },
  {
   "cell_type": "code",
   "execution_count": null,
   "metadata": {},
   "outputs": [],
   "source": [
    "eight = PDB_SS.tclass.eightclass_df\n",
    "eight.head(-10)"
   ]
  },
  {
   "cell_type": "code",
   "execution_count": null,
   "metadata": {},
   "outputs": [],
   "source": [
    "sslist2 = PDB_SS.extract_class(\"87784\")\n",
    "sslist2"
   ]
  },
  {
   "cell_type": "code",
   "execution_count": null,
   "metadata": {},
   "outputs": [],
   "source": [
    "PDB_SS.plot_classes_vs_cutoff(0.1, 20)"
   ]
  },
  {
   "cell_type": "code",
   "execution_count": null,
   "metadata": {},
   "outputs": [],
   "source": []
  },
  {
   "cell_type": "code",
   "execution_count": null,
   "metadata": {},
   "outputs": [],
   "source": []
  },
  {
   "cell_type": "code",
   "execution_count": null,
   "metadata": {},
   "outputs": [],
   "source": [
    "ssdict = PDB_SS.SSDict\n",
    "ssdict"
   ]
  },
  {
   "cell_type": "code",
   "execution_count": null,
   "metadata": {},
   "outputs": [],
   "source": [
    "def build_ss_from_idlist(loader, idlist):\n",
    "    \"\"\"\n",
    "    Return a DisulfideList of Disulfides for a given list of PDBIDs\n",
    "\n",
    "    :param idlist: List of PDBIDs, e.g. ['4yys', '2q7q']\n",
    "    :return: DisulfideList\n",
    "    \"\"\"\n",
    "    res = DisulfideList([], \"RCSB_list\")\n",
    "    for k, v in loader.SSDict.items():\n",
    "        if k in idlist:\n",
    "            for ss_index in range(len(v)):\n",
    "                res.append(loader.SSList[v[ss_index]])\n",
    "    return res"
   ]
  },
  {
   "cell_type": "code",
   "execution_count": null,
   "metadata": {},
   "outputs": [],
   "source": [
    "sslist = build_ss_from_idlist(PDB_SS, [\"4yys\", \"2q7q\"])\n",
    "sslist"
   ]
  },
  {
   "cell_type": "code",
   "execution_count": null,
   "metadata": {},
   "outputs": [],
   "source": []
  },
  {
   "cell_type": "code",
   "execution_count": null,
   "metadata": {},
   "outputs": [],
   "source": []
  },
  {
   "cell_type": "code",
   "execution_count": null,
   "metadata": {},
   "outputs": [],
   "source": [
    "slice = PDB_SS[10:20]\n",
    "slice.pdb_id"
   ]
  },
  {
   "cell_type": "code",
   "execution_count": null,
   "metadata": {},
   "outputs": [],
   "source": [
    "sslist = PDB_SS.SSList\n",
    "slice2 = sslist[100:200]\n",
    "slice2.pdb_id"
   ]
  },
  {
   "cell_type": "code",
   "execution_count": null,
   "metadata": {},
   "outputs": [],
   "source": [
    "tors = [-60, -60, 90, -60, -60]\n",
    "ss1 = Disulfide(torsions=tors)\n",
    "ss1.pprint_all()"
   ]
  },
  {
   "cell_type": "code",
   "execution_count": null,
   "metadata": {},
   "outputs": [],
   "source": [
    "ss1 = PDB_SS[\"2q7q_75D_140D\"]\n",
    "ss1.quiet = False\n",
    "ss1.bond_length_ideality\n",
    "ss1.bond_angle_ideality"
   ]
  },
  {
   "cell_type": "code",
   "execution_count": null,
   "metadata": {},
   "outputs": [],
   "source": [
    "dihed = ss1.dihedrals\n",
    "modelled_min = Disulfide(\"model\", quiet=False)\n",
    "modelled_min.dihedrals = dihed\n",
    "modelled_min.build_yourself()\n",
    "modelled_min.bond_length_ideality"
   ]
  },
  {
   "cell_type": "code",
   "execution_count": null,
   "metadata": {},
   "outputs": [],
   "source": [
    "# investigate the distal N->Ca distance. 8/15/24 -egs-\n",
    "\n",
    "modelled_min.bond_angle_ideality"
   ]
  },
  {
   "cell_type": "code",
   "execution_count": null,
   "metadata": {},
   "outputs": [],
   "source": [
    "sslist = PDB_SS.SSList\n",
    "len(sslist)"
   ]
  },
  {
   "cell_type": "code",
   "execution_count": null,
   "metadata": {},
   "outputs": [],
   "source": [
    "import pandas as pd\n",
    "from tqdm import tqdm\n",
    "\n",
    "\n",
    "def create_disulfide_dataframe(disulfide_list):\n",
    "    \"\"\"\n",
    "    Create a DataFrame with columns PDB_ID, SS_Name, Angle_Deviation, Distance_Deviation\n",
    "    from a list of disulfides.\n",
    "\n",
    "    :param disulfide_list: List of disulfide objects.\n",
    "    :type proteusPy.DisulfideList: list\n",
    "    :return: DataFrame containing the disulfide information.\n",
    "    :rtype: pd.DataFrame\n",
    "    \"\"\"\n",
    "    data = {\n",
    "        \"PDB_ID\": [],\n",
    "        \"SS_Name\": [],\n",
    "        \"Angle_Deviation\": [],\n",
    "        \"Distance_Deviation\": [],\n",
    "        \"Ca_Distance\": [],\n",
    "    }\n",
    "\n",
    "    for ss in tqdm(disulfide_list, desc=\"Processing Disulfides\"):\n",
    "        pdb_id = ss.pdb_id\n",
    "        ca_distance = ss.ca_distance\n",
    "        angle_deviation = ss.bond_angle_ideality\n",
    "        distance_deviation = ss.bond_length_ideality\n",
    "\n",
    "        data[\"PDB_ID\"].append(pdb_id)\n",
    "        data[\"SS_Name\"].append(ss.name)\n",
    "        data[\"Angle_Deviation\"].append(angle_deviation)\n",
    "        data[\"Distance_Deviation\"].append(distance_deviation)\n",
    "        data[\"Ca_Distance\"].append(ca_distance)\n",
    "\n",
    "    df = pd.DataFrame(data)\n",
    "    return df\n",
    "\n",
    "\n",
    "# Example usage\n",
    "# Assuming you have a list of disulfide objects called disulfide_list\n",
    "# df = create_disulfide_dataframe(disulfide_list)\n",
    "# print(df)"
   ]
  },
  {
   "cell_type": "code",
   "execution_count": null,
   "metadata": {},
   "outputs": [],
   "source": [
    "dev_df = create_disulfide_dataframe(sslist)"
   ]
  },
  {
   "cell_type": "code",
   "execution_count": null,
   "metadata": {},
   "outputs": [],
   "source": [
    "dev_df.describe()"
   ]
  },
  {
   "cell_type": "code",
   "execution_count": null,
   "metadata": {},
   "outputs": [],
   "source": [
    "dev_df.head()"
   ]
  },
  {
   "cell_type": "code",
   "execution_count": null,
   "metadata": {},
   "outputs": [],
   "source": [
    "import matplotlib.pyplot as plt\n",
    "import seaborn as sns\n",
    "\n",
    "\n",
    "def plot_histograms(df):\n",
    "    \"\"\"\n",
    "    Plot histograms for Distance_Deviation, Angle_Deviation, and Ca_Distance.\n",
    "\n",
    "    :param df: DataFrame containing the disulfide information.\n",
    "    :type df: pd.DataFrame\n",
    "    \"\"\"\n",
    "    plt.figure(figsize=(21, 6))\n",
    "\n",
    "    # Distance Deviation Histogram\n",
    "    plt.subplot(1, 3, 1)\n",
    "    sns.histplot(df[\"Distance_Deviation\"], kde=True, bins=30)\n",
    "    plt.title(\"Distance Deviation Distribution\")\n",
    "    plt.xlabel(\"Distance Deviation\")\n",
    "    plt.ylabel(\"Frequency\")\n",
    "\n",
    "    # Angle Deviation Histogram\n",
    "    plt.subplot(1, 3, 2)\n",
    "    sns.histplot(df[\"Angle_Deviation\"], kde=True, bins=30)\n",
    "    plt.title(\"Angle Deviation Distribution\")\n",
    "    plt.xlabel(\"Angle Deviation\")\n",
    "    plt.ylabel(\"Frequency\")\n",
    "\n",
    "    # Ca_Distance Histogram\n",
    "    plt.subplot(1, 3, 3)\n",
    "    sns.histplot(df[\"Ca_Distance\"], kde=True, bins=30)\n",
    "    plt.title(\"Ca Distance Distribution\")\n",
    "    plt.xlabel(\"Ca Distance\")\n",
    "    plt.ylabel(\"Frequency\")\n",
    "\n",
    "    plt.tight_layout()\n",
    "    plt.show()"
   ]
  },
  {
   "cell_type": "code",
   "execution_count": null,
   "metadata": {},
   "outputs": [],
   "source": [
    "# plot_histograms(dev_df)"
   ]
  },
  {
   "cell_type": "code",
   "execution_count": null,
   "metadata": {},
   "outputs": [],
   "source": [
    "import matplotlib.pyplot as plt\n",
    "import seaborn as sns\n",
    "\n",
    "\n",
    "def highlight_worst_structures(df, top_n=10):\n",
    "    \"\"\"\n",
    "    Highlight the worst structures for distance and angle deviations and annotate their names.\n",
    "    Also, add a subplot showing the worst structures aggregated by PDB_ID.\n",
    "\n",
    "    :param df: DataFrame containing the disulfide information.\n",
    "    :type df: pd.DataFrame\n",
    "    :param top_n: Number of worst structures to highlight.\n",
    "    :type top_n: int\n",
    "    \"\"\"\n",
    "    # Identify the worst structures for distance deviation\n",
    "    worst_distance = df.nlargest(top_n, \"Distance_Deviation\")\n",
    "\n",
    "    # Identify the worst structures for angle deviation\n",
    "    worst_angle = df.nlargest(top_n, \"Angle_Deviation\")\n",
    "\n",
    "    # Combine the worst structures\n",
    "    worst_structures = pd.concat([worst_distance, worst_angle]).drop_duplicates()\n",
    "\n",
    "    # Aggregate worst structures by PDB_ID\n",
    "    worst_structures_agg = (\n",
    "        worst_structures.groupby(\"PDB_ID\").size().reset_index(name=\"Count\")\n",
    "    )\n",
    "\n",
    "    fig, axes = plt.subplots(1, 2, figsize=(20, 6))\n",
    "\n",
    "    # Scatter plot for all structures\n",
    "    sns.scatterplot(\n",
    "        x=\"Distance_Deviation\",\n",
    "        y=\"Angle_Deviation\",\n",
    "        data=df,\n",
    "        label=\"All Structures\",\n",
    "        ax=axes[0],\n",
    "    )\n",
    "\n",
    "    # Highlight the worst structures\n",
    "    sns.scatterplot(\n",
    "        x=\"Distance_Deviation\",\n",
    "        y=\"Angle_Deviation\",\n",
    "        data=worst_structures,\n",
    "        color=\"red\",\n",
    "        label=\"Worst Structures\",\n",
    "        marker=\"X\",\n",
    "        s=100,\n",
    "        ax=axes[0],\n",
    "    )\n",
    "\n",
    "    # Annotate the worst structures with their names\n",
    "    for i, row in worst_structures.iterrows():\n",
    "        axes[0].annotate(\n",
    "            row[\"SS_Name\"],\n",
    "            (row[\"Distance_Deviation\"], row[\"Angle_Deviation\"]),\n",
    "            textcoords=\"offset points\",\n",
    "            xytext=(5, 5),\n",
    "            ha=\"right\",\n",
    "        )\n",
    "\n",
    "    axes[0].set_title(\"Distance Deviation vs. Angle Deviation\")\n",
    "    axes[0].set_xlabel(\"Distance Deviation\")\n",
    "    axes[0].set_ylabel(\"Angle Deviation\")\n",
    "    axes[0].legend()\n",
    "\n",
    "    # Bar plot for worst structures aggregated by PDB_ID\n",
    "    sns.barplot(x=\"PDB_ID\", y=\"Count\", data=worst_structures_agg, ax=axes[1])\n",
    "    axes[1].set_title(\"Worst Structures Aggregated by PDB_ID\")\n",
    "    axes[1].set_xlabel(\"PDB_ID\")\n",
    "    axes[1].set_ylabel(\"Count\")\n",
    "    axes[1].tick_params(axis=\"x\", rotation=90)\n",
    "\n",
    "    plt.tight_layout()\n",
    "    plt.show()\n",
    "\n",
    "\n",
    "# Example usage\n",
    "# Assuming you have a DataFrame named dev_df\n",
    "# highlight_worst_structures(dev_df, top_n=10)"
   ]
  },
  {
   "cell_type": "code",
   "execution_count": null,
   "metadata": {},
   "outputs": [],
   "source": [
    "highlight_worst_structures(dev_df, top_n=10)"
   ]
  },
  {
   "cell_type": "code",
   "execution_count": null,
   "metadata": {},
   "outputs": [],
   "source": [
    "import matplotlib.pyplot as plt\n",
    "import seaborn as sns\n",
    "\n",
    "\n",
    "def highlight_worst_structures2(df, top_n=10):\n",
    "    \"\"\"\n",
    "    Highlight the worst structures for distance and angle deviations and annotate their names.\n",
    "    Also, add subplots showing the worst structures aggregated by PDB_ID for distance and angle deviations.\n",
    "\n",
    "    :param df: DataFrame containing the disulfide information.\n",
    "    :type df: pd.DataFrame\n",
    "    :param top_n: Number of worst structures to highlight.\n",
    "    :type top_n: int\n",
    "    \"\"\"\n",
    "    # Identify the worst structures for distance deviation\n",
    "    worst_distance = df.nlargest(top_n, \"Distance_Deviation\")\n",
    "\n",
    "    # Identify the worst structures for angle deviation\n",
    "    worst_angle = df.nlargest(top_n, \"Angle_Deviation\")\n",
    "\n",
    "    # Combine the worst structures\n",
    "    worst_structures = pd.concat([worst_distance, worst_angle]).drop_duplicates()\n",
    "\n",
    "    # Aggregate worst structures by PDB_ID for distance and angle deviations\n",
    "    worst_distance_agg = (\n",
    "        worst_distance.groupby(\"PDB_ID\").size().reset_index(name=\"Count\")\n",
    "    )\n",
    "    worst_angle_agg = worst_angle.groupby(\"PDB_ID\").size().reset_index(name=\"Count\")\n",
    "\n",
    "    fig, axes = plt.subplots(1, 3, figsize=(24, 6))\n",
    "\n",
    "    # Histogram for distance deviation\n",
    "    sns.histplot(df[\"Distance_Deviation\"], kde=True, bins=30, ax=axes[0])\n",
    "    axes[0].set_title(\"Distance Deviation Distribution\")\n",
    "    axes[0].set_xlabel(\"Distance Deviation\")\n",
    "    axes[0].set_ylabel(\"Frequency\")\n",
    "\n",
    "    # Histogram for angle deviation\n",
    "    sns.histplot(df[\"Angle_Deviation\"], kde=True, bins=30, ax=axes[1])\n",
    "    axes[1].set_title(\"Angle Deviation Distribution\")\n",
    "    axes[1].set_xlabel(\"Angle Deviation\")\n",
    "    axes[1].set_ylabel(\"Frequency\")\n",
    "\n",
    "    # Bar plots for worst structures aggregated by PDB_ID\n",
    "    sns.barplot(\n",
    "        x=\"PDB_ID\",\n",
    "        y=\"Count\",\n",
    "        data=worst_distance_agg,\n",
    "        ax=axes[2],\n",
    "        color=\"blue\",\n",
    "        label=\"Distance Deviation\",\n",
    "    )\n",
    "    sns.barplot(\n",
    "        x=\"PDB_ID\",\n",
    "        y=\"Count\",\n",
    "        data=worst_angle_agg,\n",
    "        ax=axes[2],\n",
    "        color=\"green\",\n",
    "        label=\"Angle Deviation\",\n",
    "        alpha=0.6,\n",
    "    )\n",
    "    axes[2].set_title(\"Worst Structures Aggregated by PDB_ID\")\n",
    "    axes[2].set_xlabel(\"PDB_ID\")\n",
    "    axes[2].set_ylabel(\"Count\")\n",
    "    axes[2].tick_params(axis=\"x\", rotation=90)\n",
    "    axes[2].legend()\n",
    "\n",
    "    plt.tight_layout()\n",
    "    plt.show()\n",
    "\n",
    "\n",
    "# Example usage\n",
    "# Assuming you have a DataFrame named dev_df\n",
    "# highlight_worst_structures(dev_df, top_n=10)"
   ]
  },
  {
   "cell_type": "code",
   "execution_count": null,
   "metadata": {},
   "outputs": [],
   "source": [
    "highlight_worst_structures2(dev_df, top_n=10)"
   ]
  },
  {
   "cell_type": "code",
   "execution_count": null,
   "metadata": {},
   "outputs": [],
   "source": [
    "import pandas as pd\n",
    "import numpy as np\n",
    "\n",
    "\n",
    "def calculate_std_cutoff(df, column, num_std=2):\n",
    "    \"\"\"\n",
    "    Calculate cutoff based on standard deviation.\n",
    "\n",
    "    :param df: DataFrame containing the deviations.\n",
    "    :type df: pd.DataFrame\n",
    "    :param column: Column name for which to calculate the cutoff.\n",
    "    :type column: str\n",
    "    :param num_std: Number of standard deviations to use for the cutoff.\n",
    "    :type num_std: int\n",
    "    :return: Cutoff value.\n",
    "    :rtype: float\n",
    "    \"\"\"\n",
    "    mean = df[column].mean()\n",
    "    std = df[column].std()\n",
    "    cutoff = mean + num_std * std\n",
    "    return cutoff\n",
    "\n",
    "\n",
    "def calculate_percentile_cutoff(df, column, percentile=95):\n",
    "    \"\"\"\n",
    "    Calculate cutoff based on percentile.\n",
    "\n",
    "    :param df: DataFrame containing the deviations.\n",
    "    :type df: pd.DataFrame\n",
    "    :param column: Column name for which to calculate the cutoff.\n",
    "    :type column: str\n",
    "    :param percentile: Percentile to use for the cutoff.\n",
    "    :type percentile: int\n",
    "    :return: Cutoff value.\n",
    "    :rtype: float\n",
    "    \"\"\"\n",
    "    cutoff = np.percentile(df[column].dropna(), percentile)\n",
    "    return cutoff\n",
    "\n",
    "\n",
    "# Example usage\n",
    "# distance_cutoff = calculate_percentile_cutoff(dev_df, 'Distance_Deviation', percentile=95)\n",
    "# angle_cutoff = calculate_percentile_cutoff(dev_df, 'Angle_Deviation', percentile=95)"
   ]
  },
  {
   "cell_type": "code",
   "execution_count": null,
   "metadata": {},
   "outputs": [],
   "source": [
    "import pandas as pd\n",
    "import numpy as np\n",
    "\n",
    "# Assuming you have a DataFrame named dev_df with columns 'Distance_Deviation' and 'Angle_Deviation'\n",
    "\n",
    "# Standard Deviation Method\n",
    "distance_cutoff_std = calculate_std_cutoff(dev_df, \"Distance_Deviation\", num_std=3)\n",
    "angle_cutoff_std = calculate_std_cutoff(dev_df, \"Angle_Deviation\", num_std=3)\n",
    "ca_cutoff_std = calculate_std_cutoff(dev_df, \"Ca_Distance\", num_std=3)\n",
    "\n",
    "# Percentile Method\n",
    "distance_cutoff_percentile = calculate_percentile_cutoff(\n",
    "    dev_df, \"Distance_Deviation\", percentile=98\n",
    ")\n",
    "angle_cutoff_percentile = calculate_percentile_cutoff(\n",
    "    dev_df, \"Angle_Deviation\", percentile=98\n",
    ")\n",
    "ca_cutoff_percentile = calculate_percentile_cutoff(dev_df, \"Ca_Distance\", percentile=98)\n",
    "\n",
    "print(f\"Distance Deviation Cutoff (3 Std Dev): {distance_cutoff_std}\")\n",
    "print(f\"Angle Deviation Cutoff (3 Std Dev): {angle_cutoff_std}\")\n",
    "print(f\"Ca Distance Cutoff (3 Std Dev): {ca_cutoff_std}\\n\")\n",
    "\n",
    "print(f\"Distance Deviation Cutoff (98th Percentile): {distance_cutoff_percentile}\")\n",
    "print(f\"Angle Deviation Cutoff (98th Percentile): {angle_cutoff_percentile}\")\n",
    "print(f\"Ca Distance Cutoff (98th Percentile): {ca_cutoff_percentile}\")"
   ]
  },
  {
   "cell_type": "code",
   "execution_count": null,
   "metadata": {},
   "outputs": [],
   "source": [
    "import pandas as pd\n",
    "\n",
    "\n",
    "def filter_by_cutoffs(df, distance_cutoff, angle_cutoff):\n",
    "    \"\"\"\n",
    "    Filter the DataFrame based on distance and angle cutoffs.\n",
    "\n",
    "    :param df: DataFrame containing the deviations.\n",
    "    :type df: pd.DataFrame\n",
    "    :param distance_cutoff: Cutoff value for distance deviation.\n",
    "    :type distance_cutoff: float\n",
    "    :param angle_cutoff: Cutoff value for angle deviation.\n",
    "    :type angle_cutoff: float\n",
    "    :return: Filtered DataFrame.\n",
    "    :rtype: pd.DataFrame\n",
    "    \"\"\"\n",
    "    filtered_df = df[\n",
    "        (df[\"Distance_Deviation\"] <= distance_cutoff)\n",
    "        & (df[\"Angle_Deviation\"] <= angle_cutoff)\n",
    "    ]\n",
    "    return filtered_df\n",
    "\n",
    "\n",
    "# Example usage\n",
    "# Assuming you have a DataFrame named dev_df\n",
    "# distance_cutoff = 5.0\n",
    "# angle_cutoff = 10.0\n",
    "# filtered_df = filter_by_cutoffs(dev_df, distance_cutoff, angle_cutoff)\n",
    "# print(filtered_df)"
   ]
  },
  {
   "cell_type": "code",
   "execution_count": null,
   "metadata": {},
   "outputs": [],
   "source": [
    "dev_df.shape[0]"
   ]
  },
  {
   "cell_type": "code",
   "execution_count": null,
   "metadata": {},
   "outputs": [],
   "source": [
    "filt = filter_by_cutoffs(dev_df, 1.0, 10.0)\n",
    "filt.shape[0]"
   ]
  },
  {
   "cell_type": "code",
   "execution_count": null,
   "metadata": {},
   "outputs": [],
   "source": []
  },
  {
   "cell_type": "code",
   "execution_count": null,
   "metadata": {},
   "outputs": [],
   "source": [
    "dev_df.shape[0]"
   ]
  },
  {
   "cell_type": "code",
   "execution_count": null,
   "metadata": {},
   "outputs": [],
   "source": [
    "print(dev_df[\"Angle_Deviation\"].isna().sum())"
   ]
  },
  {
   "cell_type": "code",
   "execution_count": null,
   "metadata": {},
   "outputs": [],
   "source": [
    "import pandas as pd\n",
    "import numpy as np\n",
    "\n",
    "\n",
    "def calculate_std_cutoff(df, column, num_std=2):\n",
    "    mean = df[column].mean()\n",
    "    std = df[column].std()\n",
    "    cutoff = mean + num_std * std\n",
    "    return cutoff\n",
    "\n",
    "\n",
    "def calculate_percentile_cutoff(df, column, percentile=95):\n",
    "    cutoff = np.percentile(df[column].dropna(), percentile)\n",
    "    return cutoff\n",
    "\n",
    "\n",
    "# Assuming you have a DataFrame named dev_df with columns 'Distance_Deviation' and 'Angle_Deviation'\n",
    "\n",
    "# Check for missing values\n",
    "print(f\"Missing values in 'Angle_Deviation': {dev_df['Angle_Deviation'].isna().sum()}\")\n",
    "\n",
    "# Drop missing values for the calculation\n",
    "dev_df = dev_df.dropna(subset=[\"Angle_Deviation\", \"Distance_Deviation\"])\n",
    "\n",
    "# Standard Deviation Method\n",
    "distance_cutoff_std = calculate_std_cutoff(dev_df, \"Distance_Deviation\", num_std=3)\n",
    "angle_cutoff_std = calculate_std_cutoff(dev_df, \"Angle_Deviation\", num_std=3)\n",
    "\n",
    "# Percentile Method\n",
    "distance_cutoff_percentile = calculate_percentile_cutoff(\n",
    "    dev_df, \"Distance_Deviation\", percentile=98\n",
    ")\n",
    "angle_cutoff_percentile = calculate_percentile_cutoff(\n",
    "    dev_df, \"Angle_Deviation\", percentile=98\n",
    ")\n",
    "\n",
    "print(f\"Distance Deviation Cutoff (3 Std Dev): {distance_cutoff_std}\")\n",
    "print(f\"Angle Deviation Cutoff (3 Std Dev): {angle_cutoff_std}\")\n",
    "print(f\"Distance Deviation Cutoff (98th Percentile): {distance_cutoff_percentile}\")\n",
    "print(f\"Angle Deviation Cutoff (98th Percentile): {angle_cutoff_percentile}\")"
   ]
  },
  {
   "cell_type": "code",
   "execution_count": null,
   "metadata": {},
   "outputs": [],
   "source": []
  }
 ],
 "metadata": {
  "kernelspec": {
   "display_name": "ppydev",
   "language": "python",
   "name": "python3"
  },
  "language_info": {
   "codemirror_mode": {
    "name": "ipython",
    "version": 3
   },
   "file_extension": ".py",
   "mimetype": "text/x-python",
   "name": "python",
   "nbconvert_exporter": "python",
   "pygments_lexer": "ipython3",
   "version": "3.12.9"
  }
 },
 "nbformat": 4,
 "nbformat_minor": 2
}
