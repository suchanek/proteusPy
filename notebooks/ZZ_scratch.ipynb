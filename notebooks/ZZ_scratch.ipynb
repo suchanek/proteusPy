version https://git-lfs.github.com/spec/v1
oid sha256:dcd8aa7bfbe35075af74e4d5dee9986a707b580a55d59c81bc22b05c50289f94
size 89672
