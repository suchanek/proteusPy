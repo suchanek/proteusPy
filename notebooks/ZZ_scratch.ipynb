version https://git-lfs.github.com/spec/v1
oid sha256:8cd323c2290e995f58e3e9ee5baf8cb7965592d27282cceeb7351c65d921b4cd
size 109639
