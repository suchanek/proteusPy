{
 "cells": [
  {
   "cell_type": "code",
   "execution_count": null,
   "metadata": {},
   "outputs": [],
   "source": [
    "# ZZ_scratch.ipynb - This is a general scratchpad used for code development and testing. Don't expect it to work as written\n",
    "# Eric G. Suchanek, PhD. 2024"
   ]
  },
  {
   "cell_type": "code",
   "execution_count": 1,
   "metadata": {},
   "outputs": [],
   "source": [
    "from pathlib import Path\n",
    "import matplotlib.pyplot as plt\n",
    "import pyvista as pv\n",
    "import logging\n",
    "import plotly.graph_objects as go\n",
    "\n",
    "import os\n",
    "import pandas as pd\n",
    "import numpy as np\n",
    "import proteusPy as pp\n",
    "from plotly.subplots import make_subplots\n",
    "\n",
    "from proteusPy import (\n",
    "    CA_CUTOFF,\n",
    "    SG_CUTOFF,\n",
    "    SS_CONSENSUS_BIN_FILE,\n",
    "    SS_CONSENSUS_OCT_FILE,\n",
    "    ATOM_COLORS,\n",
    "    ATOM_RADII_COVALENT,\n",
    "    ATOM_RADII_CPK,\n",
    "    BOND_COLOR,\n",
    "    BOND_RADIUS,\n",
    "    BS_SCALE,\n",
    "    FONTSIZE,\n",
    "    SPEC_POWER,\n",
    "    SPECULARITY,\n",
    ")\n",
    "\n",
    "from proteusPy.ProteusGlobals import DATA_DIR\n",
    "\n",
    "HOME = Path.home()\n",
    "PDB = Path(os.getenv(\"PDB\", HOME / \"pdb\"))\n",
    "\n",
    "MODEL_DIR = PDB / \"good\"\n",
    "\n",
    "PDB_DATA_DIR = PDB / \"data\"\n",
    "SAVE_DIR = HOME / \"Documents\" / \"proteusPyDocs\" / \"classes\"\n",
    "REPO_DIR = HOME / \"repos\" / \"proteusPy\" / \"data\"\n",
    "\n",
    "OCTANT = SAVE_DIR / \"octant\"\n",
    "OCTANT.mkdir(parents=True, exist_ok=True)\n",
    "\n",
    "BINARY = SAVE_DIR / \"binary\"\n",
    "BINARY.mkdir(parents=True, exist_ok=True)\n",
    "\n",
    "SEXTANT = SAVE_DIR / \"sextant\"\n",
    "SEXTANT.mkdir(parents=True, exist_ok=True)\n",
    "\n",
    "PBAR_COLS = 78\n",
    "_logger = pp.create_logger(__name__)\n",
    "_logger.setLevel(logging.WARNING)\n",
    "\n",
    "pp.configure_master_logger(\"testing.log\")\n",
    "pp.set_logger_level(\"testing\", \"WARNING\")"
   ]
  },
  {
   "cell_type": "code",
   "execution_count": 2,
   "metadata": {},
   "outputs": [
    {
     "name": "stdout",
     "output_type": "stream",
     "text": [
      "    =========== RCSB Disulfide Database Summary ==============\n",
      "       =========== Built: 2025-01-07 18:47:27 ==============\n",
      "PDB IDs present:                 36968\n",
      "Disulfides loaded:               175277\n",
      "Average structure resolution:    2.19 Å\n",
      "Lowest Energy Disulfide:         2q7q_75D_140D\n",
      "Highest Energy Disulfide:        6vxk_801B_806B\n",
      "Cα distance cutoff:              -1.00 Å\n",
      "Sγ distance cutoff:              -1.00 Å\n",
      "    ================= proteusPy: 0.98.3.dev1 =======================\n"
     ]
    }
   ],
   "source": [
    "# PDB = pp.Load_PDB_SS(verbose=True, subset=False, cutoff=CA_CUTOFF, sg_cutoff=SG_CUTOFF, force=False)\n",
    "PDB = pp.Load_PDB_SS(\n",
    "    verbose=False, force=False, subset=False, cutoff=CA_CUTOFF, sg_cutoff=SG_CUTOFF\n",
    ")\n",
    "PDB.describe()"
   ]
  },
  {
   "cell_type": "code",
   "execution_count": 3,
   "metadata": {},
   "outputs": [
    {
     "data": {
      "text/html": [
       "<div>\n",
       "<style scoped>\n",
       "    .dataframe tbody tr th:only-of-type {\n",
       "        vertical-align: middle;\n",
       "    }\n",
       "\n",
       "    .dataframe tbody tr th {\n",
       "        vertical-align: top;\n",
       "    }\n",
       "\n",
       "    .dataframe thead th {\n",
       "        text-align: right;\n",
       "    }\n",
       "</style>\n",
       "<table border=\"1\" class=\"dataframe\">\n",
       "  <thead>\n",
       "    <tr style=\"text-align: right;\">\n",
       "      <th></th>\n",
       "      <th>chi1</th>\n",
       "      <th>chi2</th>\n",
       "      <th>chi3</th>\n",
       "      <th>chi4</th>\n",
       "      <th>chi5</th>\n",
       "      <th>torsion_length</th>\n",
       "    </tr>\n",
       "  </thead>\n",
       "  <tbody>\n",
       "    <tr>\n",
       "      <th>mean</th>\n",
       "      <td>-46.35768</td>\n",
       "      <td>-10.361531</td>\n",
       "      <td>-11.331427</td>\n",
       "      <td>-26.096936</td>\n",
       "      <td>-29.015286</td>\n",
       "      <td>238.986586</td>\n",
       "    </tr>\n",
       "    <tr>\n",
       "      <th>std</th>\n",
       "      <td>108.20080</td>\n",
       "      <td>112.095198</td>\n",
       "      <td>94.012313</td>\n",
       "      <td>113.242342</td>\n",
       "      <td>102.618093</td>\n",
       "      <td>54.691288</td>\n",
       "    </tr>\n",
       "  </tbody>\n",
       "</table>\n",
       "</div>"
      ],
      "text/plain": [
       "           chi1        chi2       chi3        chi4        chi5  torsion_length\n",
       "mean  -46.35768  -10.361531 -11.331427  -26.096936  -29.015286      238.986586\n",
       "std   108.20080  112.095198  94.012313  113.242342  102.618093       54.691288"
      ]
     },
     "execution_count": 3,
     "metadata": {},
     "output_type": "execute_result"
    }
   ],
   "source": [
    "sslist = PDB[:200]\n",
    "tor_vals, dist_vals = pp.calculate_torsion_statistics(sslist)\n",
    "tor_vals.head()\n"
   ]
  },
  {
   "cell_type": "code",
   "execution_count": 4,
   "metadata": {},
   "outputs": [
    {
     "data": {
      "text/html": [
       "<div>\n",
       "<style scoped>\n",
       "    .dataframe tbody tr th:only-of-type {\n",
       "        vertical-align: middle;\n",
       "    }\n",
       "\n",
       "    .dataframe tbody tr th {\n",
       "        vertical-align: top;\n",
       "    }\n",
       "\n",
       "    .dataframe thead th {\n",
       "        text-align: right;\n",
       "    }\n",
       "</style>\n",
       "<table border=\"1\" class=\"dataframe\">\n",
       "  <thead>\n",
       "    <tr style=\"text-align: right;\">\n",
       "      <th></th>\n",
       "      <th>ca_distance</th>\n",
       "      <th>cb_distance</th>\n",
       "      <th>sg_distance</th>\n",
       "      <th>energy</th>\n",
       "      <th>rho</th>\n",
       "    </tr>\n",
       "  </thead>\n",
       "  <tbody>\n",
       "    <tr>\n",
       "      <th>mean</th>\n",
       "      <td>5.739852</td>\n",
       "      <td>3.897794</td>\n",
       "      <td>2.072709</td>\n",
       "      <td>3.680687</td>\n",
       "      <td>0.371994</td>\n",
       "    </tr>\n",
       "    <tr>\n",
       "      <th>std</th>\n",
       "      <td>0.751522</td>\n",
       "      <td>0.269341</td>\n",
       "      <td>0.173718</td>\n",
       "      <td>2.143950</td>\n",
       "      <td>8.302522</td>\n",
       "    </tr>\n",
       "  </tbody>\n",
       "</table>\n",
       "</div>"
      ],
      "text/plain": [
       "      ca_distance  cb_distance  sg_distance    energy       rho\n",
       "mean     5.739852     3.897794     2.072709  3.680687  0.371994\n",
       "std      0.751522     0.269341     0.173718  2.143950  8.302522"
      ]
     },
     "execution_count": 4,
     "metadata": {},
     "output_type": "execute_result"
    }
   ],
   "source": [
    "dist_vals.head()"
   ]
  },
  {
   "cell_type": "code",
   "execution_count": 5,
   "metadata": {},
   "outputs": [
    {
     "data": {
      "application/vnd.plotly.v1+json": {
       "config": {
        "plotlyServerURL": "https://plot.ly"
       },
       "data": [
        {
         "error_y": {
          "array": [
           108.20079992134964,
           112.09519818950001,
           94.01231270472184,
           113.24234246825334,
           102.61809304996075,
           54.69128801767439
          ],
          "color": "gray",
          "thickness": 2,
          "type": "data",
          "visible": true
         },
         "name": "Torsion Angle,(°) ",
         "textposition": "outside",
         "texttemplate": "%{y:.2f} ± %{error_y.array:.2f}",
         "type": "bar",
         "x": [
          "X1",
          "X2",
          "X3",
          "X4",
          "X5"
         ],
         "xaxis": "x",
         "y": [
          -46.3576802659822,
          -10.361530798568886,
          -11.331426865958603,
          -26.09693575285075,
          -29.015285996562117
         ],
         "yaxis": "y"
        },
        {
         "error_y": {
          "array": [
           8.302521845361916
          ],
          "color": "gray",
          "thickness": 2,
          "type": "data",
          "visible": true
         },
         "name": "ρ, (°)",
         "textposition": "outside",
         "texttemplate": "%{y:.2f} ± %{error_y.array:.2f}",
         "type": "bar",
         "x": [
          "rho"
         ],
         "xaxis": "x",
         "y": [
          0.37199394346832265
         ],
         "yaxis": "y"
        },
        {
         "error_y": {
          "array": [
           2.143950338873666
          ],
          "color": "gray",
          "thickness": 2,
          "type": "data",
          "visible": true,
          "width": 0.25
         },
         "name": "Energy (kcal/mol)",
         "textposition": "outside",
         "texttemplate": "%{y:.2f} ± %{error_y.array:.2f}",
         "type": "bar",
         "width": 0.25,
         "x": [
          "Strain Energy (kcal/mol)"
         ],
         "xaxis": "x2",
         "y": [
          3.6806867076567853
         ],
         "yaxis": "y2"
        },
        {
         "error_y": {
          "array": [
           0.7515217671268777,
           0.2693414243805636,
           0.17371794402433033
          ],
          "color": "gray",
          "thickness": 2,
          "type": "data",
          "visible": true,
          "width": 0.25
         },
         "name": "Distances (Å)",
         "textposition": "outside",
         "texttemplate": "%{y:.2f} ± %{error_y.array:.2f}",
         "type": "bar",
         "width": 0.25,
         "x": [
          "Cα Distance, (Å)",
          "Cβ Distance, (Å)",
          "Sg Distance, (Å)"
         ],
         "xaxis": "x3",
         "y": [
          5.739851730521167,
          3.8977935125051304,
          2.072708505927531
         ],
         "yaxis": "y3"
        },
        {
         "error_y": {
          "array": [
           54.69128801767439
          ],
          "color": "gray",
          "thickness": 2,
          "type": "data",
          "visible": true,
          "width": 0.25
         },
         "name": "Torsion Length, (Å)",
         "textposition": "outside",
         "texttemplate": "%{y:.2f} ± %{error_y.array:.2f}",
         "type": "bar",
         "width": 0.25,
         "x": [
          "Torsion Length, (Å)"
         ],
         "xaxis": "x4",
         "y": [
          238.98658641963019
         ],
         "yaxis": "y4"
        }
       ],
       "layout": {
        "height": 1024,
        "template": {
         "data": {
          "bar": [
           {
            "error_x": {
             "color": "#2a3f5f"
            },
            "error_y": {
             "color": "#2a3f5f"
            },
            "marker": {
             "line": {
              "color": "#E5ECF6",
              "width": 0.5
             },
             "pattern": {
              "fillmode": "overlay",
              "size": 10,
              "solidity": 0.2
             }
            },
            "type": "bar"
           }
          ],
          "barpolar": [
           {
            "marker": {
             "line": {
              "color": "#E5ECF6",
              "width": 0.5
             },
             "pattern": {
              "fillmode": "overlay",
              "size": 10,
              "solidity": 0.2
             }
            },
            "type": "barpolar"
           }
          ],
          "carpet": [
           {
            "aaxis": {
             "endlinecolor": "#2a3f5f",
             "gridcolor": "white",
             "linecolor": "white",
             "minorgridcolor": "white",
             "startlinecolor": "#2a3f5f"
            },
            "baxis": {
             "endlinecolor": "#2a3f5f",
             "gridcolor": "white",
             "linecolor": "white",
             "minorgridcolor": "white",
             "startlinecolor": "#2a3f5f"
            },
            "type": "carpet"
           }
          ],
          "choropleth": [
           {
            "colorbar": {
             "outlinewidth": 0,
             "ticks": ""
            },
            "type": "choropleth"
           }
          ],
          "contour": [
           {
            "colorbar": {
             "outlinewidth": 0,
             "ticks": ""
            },
            "colorscale": [
             [
              0,
              "#0d0887"
             ],
             [
              0.1111111111111111,
              "#46039f"
             ],
             [
              0.2222222222222222,
              "#7201a8"
             ],
             [
              0.3333333333333333,
              "#9c179e"
             ],
             [
              0.4444444444444444,
              "#bd3786"
             ],
             [
              0.5555555555555556,
              "#d8576b"
             ],
             [
              0.6666666666666666,
              "#ed7953"
             ],
             [
              0.7777777777777778,
              "#fb9f3a"
             ],
             [
              0.8888888888888888,
              "#fdca26"
             ],
             [
              1,
              "#f0f921"
             ]
            ],
            "type": "contour"
           }
          ],
          "contourcarpet": [
           {
            "colorbar": {
             "outlinewidth": 0,
             "ticks": ""
            },
            "type": "contourcarpet"
           }
          ],
          "heatmap": [
           {
            "colorbar": {
             "outlinewidth": 0,
             "ticks": ""
            },
            "colorscale": [
             [
              0,
              "#0d0887"
             ],
             [
              0.1111111111111111,
              "#46039f"
             ],
             [
              0.2222222222222222,
              "#7201a8"
             ],
             [
              0.3333333333333333,
              "#9c179e"
             ],
             [
              0.4444444444444444,
              "#bd3786"
             ],
             [
              0.5555555555555556,
              "#d8576b"
             ],
             [
              0.6666666666666666,
              "#ed7953"
             ],
             [
              0.7777777777777778,
              "#fb9f3a"
             ],
             [
              0.8888888888888888,
              "#fdca26"
             ],
             [
              1,
              "#f0f921"
             ]
            ],
            "type": "heatmap"
           }
          ],
          "heatmapgl": [
           {
            "colorbar": {
             "outlinewidth": 0,
             "ticks": ""
            },
            "colorscale": [
             [
              0,
              "#0d0887"
             ],
             [
              0.1111111111111111,
              "#46039f"
             ],
             [
              0.2222222222222222,
              "#7201a8"
             ],
             [
              0.3333333333333333,
              "#9c179e"
             ],
             [
              0.4444444444444444,
              "#bd3786"
             ],
             [
              0.5555555555555556,
              "#d8576b"
             ],
             [
              0.6666666666666666,
              "#ed7953"
             ],
             [
              0.7777777777777778,
              "#fb9f3a"
             ],
             [
              0.8888888888888888,
              "#fdca26"
             ],
             [
              1,
              "#f0f921"
             ]
            ],
            "type": "heatmapgl"
           }
          ],
          "histogram": [
           {
            "marker": {
             "pattern": {
              "fillmode": "overlay",
              "size": 10,
              "solidity": 0.2
             }
            },
            "type": "histogram"
           }
          ],
          "histogram2d": [
           {
            "colorbar": {
             "outlinewidth": 0,
             "ticks": ""
            },
            "colorscale": [
             [
              0,
              "#0d0887"
             ],
             [
              0.1111111111111111,
              "#46039f"
             ],
             [
              0.2222222222222222,
              "#7201a8"
             ],
             [
              0.3333333333333333,
              "#9c179e"
             ],
             [
              0.4444444444444444,
              "#bd3786"
             ],
             [
              0.5555555555555556,
              "#d8576b"
             ],
             [
              0.6666666666666666,
              "#ed7953"
             ],
             [
              0.7777777777777778,
              "#fb9f3a"
             ],
             [
              0.8888888888888888,
              "#fdca26"
             ],
             [
              1,
              "#f0f921"
             ]
            ],
            "type": "histogram2d"
           }
          ],
          "histogram2dcontour": [
           {
            "colorbar": {
             "outlinewidth": 0,
             "ticks": ""
            },
            "colorscale": [
             [
              0,
              "#0d0887"
             ],
             [
              0.1111111111111111,
              "#46039f"
             ],
             [
              0.2222222222222222,
              "#7201a8"
             ],
             [
              0.3333333333333333,
              "#9c179e"
             ],
             [
              0.4444444444444444,
              "#bd3786"
             ],
             [
              0.5555555555555556,
              "#d8576b"
             ],
             [
              0.6666666666666666,
              "#ed7953"
             ],
             [
              0.7777777777777778,
              "#fb9f3a"
             ],
             [
              0.8888888888888888,
              "#fdca26"
             ],
             [
              1,
              "#f0f921"
             ]
            ],
            "type": "histogram2dcontour"
           }
          ],
          "mesh3d": [
           {
            "colorbar": {
             "outlinewidth": 0,
             "ticks": ""
            },
            "type": "mesh3d"
           }
          ],
          "parcoords": [
           {
            "line": {
             "colorbar": {
              "outlinewidth": 0,
              "ticks": ""
             }
            },
            "type": "parcoords"
           }
          ],
          "pie": [
           {
            "automargin": true,
            "type": "pie"
           }
          ],
          "scatter": [
           {
            "fillpattern": {
             "fillmode": "overlay",
             "size": 10,
             "solidity": 0.2
            },
            "type": "scatter"
           }
          ],
          "scatter3d": [
           {
            "line": {
             "colorbar": {
              "outlinewidth": 0,
              "ticks": ""
             }
            },
            "marker": {
             "colorbar": {
              "outlinewidth": 0,
              "ticks": ""
             }
            },
            "type": "scatter3d"
           }
          ],
          "scattercarpet": [
           {
            "marker": {
             "colorbar": {
              "outlinewidth": 0,
              "ticks": ""
             }
            },
            "type": "scattercarpet"
           }
          ],
          "scattergeo": [
           {
            "marker": {
             "colorbar": {
              "outlinewidth": 0,
              "ticks": ""
             }
            },
            "type": "scattergeo"
           }
          ],
          "scattergl": [
           {
            "marker": {
             "colorbar": {
              "outlinewidth": 0,
              "ticks": ""
             }
            },
            "type": "scattergl"
           }
          ],
          "scattermapbox": [
           {
            "marker": {
             "colorbar": {
              "outlinewidth": 0,
              "ticks": ""
             }
            },
            "type": "scattermapbox"
           }
          ],
          "scatterpolar": [
           {
            "marker": {
             "colorbar": {
              "outlinewidth": 0,
              "ticks": ""
             }
            },
            "type": "scatterpolar"
           }
          ],
          "scatterpolargl": [
           {
            "marker": {
             "colorbar": {
              "outlinewidth": 0,
              "ticks": ""
             }
            },
            "type": "scatterpolargl"
           }
          ],
          "scatterternary": [
           {
            "marker": {
             "colorbar": {
              "outlinewidth": 0,
              "ticks": ""
             }
            },
            "type": "scatterternary"
           }
          ],
          "surface": [
           {
            "colorbar": {
             "outlinewidth": 0,
             "ticks": ""
            },
            "colorscale": [
             [
              0,
              "#0d0887"
             ],
             [
              0.1111111111111111,
              "#46039f"
             ],
             [
              0.2222222222222222,
              "#7201a8"
             ],
             [
              0.3333333333333333,
              "#9c179e"
             ],
             [
              0.4444444444444444,
              "#bd3786"
             ],
             [
              0.5555555555555556,
              "#d8576b"
             ],
             [
              0.6666666666666666,
              "#ed7953"
             ],
             [
              0.7777777777777778,
              "#fb9f3a"
             ],
             [
              0.8888888888888888,
              "#fdca26"
             ],
             [
              1,
              "#f0f921"
             ]
            ],
            "type": "surface"
           }
          ],
          "table": [
           {
            "cells": {
             "fill": {
              "color": "#EBF0F8"
             },
             "line": {
              "color": "white"
             }
            },
            "header": {
             "fill": {
              "color": "#C8D4E3"
             },
             "line": {
              "color": "white"
             }
            },
            "type": "table"
           }
          ]
         },
         "layout": {
          "annotationdefaults": {
           "arrowcolor": "#2a3f5f",
           "arrowhead": 0,
           "arrowwidth": 1
          },
          "autotypenumbers": "strict",
          "coloraxis": {
           "colorbar": {
            "outlinewidth": 0,
            "ticks": ""
           }
          },
          "colorscale": {
           "diverging": [
            [
             0,
             "#8e0152"
            ],
            [
             0.1,
             "#c51b7d"
            ],
            [
             0.2,
             "#de77ae"
            ],
            [
             0.3,
             "#f1b6da"
            ],
            [
             0.4,
             "#fde0ef"
            ],
            [
             0.5,
             "#f7f7f7"
            ],
            [
             0.6,
             "#e6f5d0"
            ],
            [
             0.7,
             "#b8e186"
            ],
            [
             0.8,
             "#7fbc41"
            ],
            [
             0.9,
             "#4d9221"
            ],
            [
             1,
             "#276419"
            ]
           ],
           "sequential": [
            [
             0,
             "#0d0887"
            ],
            [
             0.1111111111111111,
             "#46039f"
            ],
            [
             0.2222222222222222,
             "#7201a8"
            ],
            [
             0.3333333333333333,
             "#9c179e"
            ],
            [
             0.4444444444444444,
             "#bd3786"
            ],
            [
             0.5555555555555556,
             "#d8576b"
            ],
            [
             0.6666666666666666,
             "#ed7953"
            ],
            [
             0.7777777777777778,
             "#fb9f3a"
            ],
            [
             0.8888888888888888,
             "#fdca26"
            ],
            [
             1,
             "#f0f921"
            ]
           ],
           "sequentialminus": [
            [
             0,
             "#0d0887"
            ],
            [
             0.1111111111111111,
             "#46039f"
            ],
            [
             0.2222222222222222,
             "#7201a8"
            ],
            [
             0.3333333333333333,
             "#9c179e"
            ],
            [
             0.4444444444444444,
             "#bd3786"
            ],
            [
             0.5555555555555556,
             "#d8576b"
            ],
            [
             0.6666666666666666,
             "#ed7953"
            ],
            [
             0.7777777777777778,
             "#fb9f3a"
            ],
            [
             0.8888888888888888,
             "#fdca26"
            ],
            [
             1,
             "#f0f921"
            ]
           ]
          },
          "colorway": [
           "#636efa",
           "#EF553B",
           "#00cc96",
           "#ab63fa",
           "#FFA15A",
           "#19d3f3",
           "#FF6692",
           "#B6E880",
           "#FF97FF",
           "#FECB52"
          ],
          "font": {
           "color": "#2a3f5f"
          },
          "geo": {
           "bgcolor": "white",
           "lakecolor": "white",
           "landcolor": "#E5ECF6",
           "showlakes": true,
           "showland": true,
           "subunitcolor": "white"
          },
          "hoverlabel": {
           "align": "left"
          },
          "hovermode": "closest",
          "mapbox": {
           "style": "light"
          },
          "paper_bgcolor": "white",
          "plot_bgcolor": "#E5ECF6",
          "polar": {
           "angularaxis": {
            "gridcolor": "white",
            "linecolor": "white",
            "ticks": ""
           },
           "bgcolor": "#E5ECF6",
           "radialaxis": {
            "gridcolor": "white",
            "linecolor": "white",
            "ticks": ""
           }
          },
          "scene": {
           "xaxis": {
            "backgroundcolor": "#E5ECF6",
            "gridcolor": "white",
            "gridwidth": 2,
            "linecolor": "white",
            "showbackground": true,
            "ticks": "",
            "zerolinecolor": "white"
           },
           "yaxis": {
            "backgroundcolor": "#E5ECF6",
            "gridcolor": "white",
            "gridwidth": 2,
            "linecolor": "white",
            "showbackground": true,
            "ticks": "",
            "zerolinecolor": "white"
           },
           "zaxis": {
            "backgroundcolor": "#E5ECF6",
            "gridcolor": "white",
            "gridwidth": 2,
            "linecolor": "white",
            "showbackground": true,
            "ticks": "",
            "zerolinecolor": "white"
           }
          },
          "shapedefaults": {
           "line": {
            "color": "#2a3f5f"
           }
          },
          "ternary": {
           "aaxis": {
            "gridcolor": "white",
            "linecolor": "white",
            "ticks": ""
           },
           "baxis": {
            "gridcolor": "white",
            "linecolor": "white",
            "ticks": ""
           },
           "bgcolor": "#E5ECF6",
           "caxis": {
            "gridcolor": "white",
            "linecolor": "white",
            "ticks": ""
           }
          },
          "title": {
           "x": 0.05
          },
          "xaxis": {
           "automargin": true,
           "gridcolor": "white",
           "linecolor": "white",
           "ticks": "",
           "title": {
            "standoff": 15
           },
           "zerolinecolor": "white",
           "zerolinewidth": 2
          },
          "yaxis": {
           "automargin": true,
           "gridcolor": "white",
           "linecolor": "white",
           "ticks": "",
           "title": {
            "standoff": 15
           },
           "zerolinecolor": "white",
           "zerolinewidth": 2
          }
         }
        },
        "title": {
         "text": "pdb_slice[0:200]: 200 members",
         "x": 0.5,
         "xanchor": "center",
         "yanchor": "top"
        },
        "width": 1024,
        "xaxis": {
         "anchor": "y",
         "domain": [
          0,
          0.45
         ]
        },
        "xaxis2": {
         "anchor": "y2",
         "domain": [
          0.55,
          1
         ]
        },
        "xaxis3": {
         "anchor": "y3",
         "domain": [
          0,
          0.45
         ]
        },
        "xaxis4": {
         "anchor": "y4",
         "domain": [
          0.55,
          1
         ]
        },
        "yaxis": {
         "anchor": "x",
         "domain": [
          0.5625,
          1
         ],
         "range": [
          -300,
          300
         ],
         "title": {
          "text": "Torsion Angle (°)"
         }
        },
        "yaxis2": {
         "anchor": "x2",
         "domain": [
          0.5625,
          1
         ],
         "range": [
          0,
          20
         ],
         "title": {
          "text": "kcal/mol"
         }
        },
        "yaxis3": {
         "anchor": "x3",
         "domain": [
          0,
          0.4375
         ],
         "range": [
          0,
          10
         ],
         "title": {
          "text": "Distance (A)"
         }
        },
        "yaxis4": {
         "anchor": "x4",
         "domain": [
          0,
          0.4375
         ],
         "range": [
          0,
          350
         ],
         "title": {
          "text": "Torsion Length"
         }
        }
       }
      }
     },
     "metadata": {},
     "output_type": "display_data"
    }
   ],
   "source": [
    "sslist.display_torsion_statistics()"
   ]
  },
  {
   "cell_type": "code",
   "execution_count": null,
   "metadata": {},
   "outputs": [],
   "source": [
    "tcon = pp.DisulfideClass_Constructor(PDB)\n",
    "PDB.tclass = tcon"
   ]
  },
  {
   "cell_type": "code",
   "execution_count": null,
   "metadata": {},
   "outputs": [],
   "source": [
    "tcon.eightclass_df.head()"
   ]
  },
  {
   "cell_type": "code",
   "execution_count": 21,
   "metadata": {},
   "outputs": [],
   "source": [
    "def search_ss_id(df, ss_id_list):\n",
    "    \"\"\"\n",
    "    Search the DataFrame for rows where the 'ss_id' column matches any entry in the list.\n",
    "\n",
    "    :param df: The DataFrame to search.\n",
    "    :param ss_id_list: The list of 'ss_id' entries to search for.\n",
    "    :return: A DataFrame containing the matching rows.\n",
    "    \"\"\"\n",
    "    matching_rows = []\n",
    "\n",
    "    for index, row in df.iterrows():\n",
    "        if any(ss_id in row[\"ss_id\"] for ss_id in ss_id_list):\n",
    "            matching_rows.append(row)\n",
    "\n",
    "    return pd.DataFrame(matching_rows)"
   ]
  },
  {
   "cell_type": "code",
   "execution_count": null,
   "metadata": {},
   "outputs": [],
   "source": [
    "classdf = tcon.eightclass_df\n",
    "res = search_ss_id(classdf, [\"7vx1_361B_391B\"])"
   ]
  },
  {
   "cell_type": "code",
   "execution_count": null,
   "metadata": {},
   "outputs": [],
   "source": [
    "res"
   ]
  },
  {
   "cell_type": "code",
   "execution_count": null,
   "metadata": {},
   "outputs": [],
   "source": [
    "PDB = pp.Load_PDB_SS(\n",
    "    verbose=True, subset=False, force=True, cutoff=CA_CUTOFF, sg_cutoff=SG_CUTOFF\n",
    ")\n",
    "PDB.describe()"
   ]
  },
  {
   "cell_type": "code",
   "execution_count": null,
   "metadata": {},
   "outputs": [],
   "source": [
    "_logger = pp.create_logger(\"testing\")\n",
    "pp.configure_master_logger(\"tst.log\")\n",
    "pp.set_logger_level(\"testing\", \"WARNING\")\n",
    "\n",
    "sub = pp.Load_PDB_SS(verbose=False, subset=True)\n",
    "sub[0]"
   ]
  },
  {
   "cell_type": "code",
   "execution_count": null,
   "metadata": {},
   "outputs": [],
   "source": [
    "sslist = pdb[:20]\n",
    "sslist.display_overlay(screenshot=True, verbose=True)"
   ]
  },
  {
   "cell_type": "code",
   "execution_count": null,
   "metadata": {},
   "outputs": [],
   "source": [
    "pp.display_ss_pymol(\n",
    "    \"7nyc\",\n",
    "    chain=\"C\",\n",
    "    proximal=6,\n",
    "    distal=41,\n",
    "    ray=False,\n",
    "    solvent=True,\n",
    "    fname=\"7nyc_6c_41c.png\",\n",
    ")"
   ]
  },
  {
   "cell_type": "code",
   "execution_count": null,
   "metadata": {},
   "outputs": [],
   "source": [
    "pp.display_ss_pymol(\n",
    "    \"2q7q\",\n",
    "    chain=\"D\",\n",
    "    proximal=75,\n",
    "    distal=140,\n",
    "    ray=False,\n",
    "    solvent=True,\n",
    "    sas=True,\n",
    "    fname=\"2q7q.png\",\n",
    ")"
   ]
  },
  {
   "cell_type": "code",
   "execution_count": null,
   "metadata": {},
   "outputs": [],
   "source": [
    "xx = PDB[\"2q7q_75D_140D\"]\n",
    "xx"
   ]
  },
  {
   "cell_type": "code",
   "execution_count": null,
   "metadata": {},
   "outputs": [],
   "source": [
    "pp.display_ss_pymol(\"2q7q\", \"75\", \"140\", \"D\")"
   ]
  },
  {
   "cell_type": "code",
   "execution_count": null,
   "metadata": {},
   "outputs": [],
   "source": [
    "ss1 = pdb[0]\n",
    "ss1.pprint()"
   ]
  },
  {
   "cell_type": "code",
   "execution_count": null,
   "metadata": {},
   "outputs": [],
   "source": [
    "ss1.pprint_all()"
   ]
  },
  {
   "cell_type": "code",
   "execution_count": null,
   "metadata": {},
   "outputs": [],
   "source": [
    "pdb2 = DisulfideLoader(verbose=True, subset=False, cutoff=7, sg_cutoff=3)"
   ]
  },
  {
   "cell_type": "code",
   "execution_count": null,
   "metadata": {},
   "outputs": [],
   "source": [
    "pdb2.describe()"
   ]
  },
  {
   "cell_type": "code",
   "execution_count": null,
   "metadata": {},
   "outputs": [],
   "source": [
    "sslist2 = pdb2.SSList.filter_by_distance(7.0)\n",
    "len(sslist2)"
   ]
  },
  {
   "cell_type": "code",
   "execution_count": null,
   "metadata": {},
   "outputs": [],
   "source": []
  },
  {
   "cell_type": "code",
   "execution_count": null,
   "metadata": {},
   "outputs": [],
   "source": [
    "pdb2[0].pprint_all()"
   ]
  },
  {
   "cell_type": "code",
   "execution_count": null,
   "metadata": {},
   "outputs": [],
   "source": []
  },
  {
   "cell_type": "code",
   "execution_count": null,
   "metadata": {},
   "outputs": [],
   "source": [
    "good = 0\n",
    "for ss in pdb.SSList:\n",
    "    if ss.sg_distance > 2.5:\n",
    "        bad += 1\n",
    "bad"
   ]
  },
  {
   "cell_type": "code",
   "execution_count": null,
   "metadata": {},
   "outputs": [],
   "source": [
    "sslist = pdb.SSList.filter_by_sg_distance(3.0)\n",
    "sslist.pdb_id"
   ]
  },
  {
   "cell_type": "code",
   "execution_count": null,
   "metadata": {},
   "outputs": [],
   "source": [
    "len(pdb.SSList) - len(sslist)"
   ]
  },
  {
   "cell_type": "code",
   "execution_count": null,
   "metadata": {},
   "outputs": [],
   "source": [
    "import matplotlib.pyplot as plt\n",
    "\n",
    "\n",
    "def extract_sg_distances(disulfide_list, cutoff=4):\n",
    "    \"\"\"\n",
    "    Extract and filter the sg_distance values from the disulfide list.\n",
    "\n",
    "    :param disulfide_list: List of disulfide objects.\n",
    "    :return: List of sg_distance values less than 10.\n",
    "    \"\"\"\n",
    "    sg_distances = [ds.sg_distance for ds in disulfide_list if ds.sg_distance < cutoff]\n",
    "    return sg_distances\n",
    "\n",
    "\n",
    "import pandas as pd\n",
    "import plotly.express as px\n",
    "\n",
    "\n",
    "def plot_sg_distances(sg_distances, cutoff=4):\n",
    "    \"\"\"\n",
    "    Plot the sg_distance values as a histogram using plotly express.\n",
    "\n",
    "    :param sg_distances: List of sg_distance values.\n",
    "    \"\"\"\n",
    "    # Convert to a Pandas DataFrame with a column named 'SG Distance'\n",
    "    df = pd.DataFrame(sg_distances, columns=[\"SG Distance\"])\n",
    "\n",
    "    fig = px.histogram(\n",
    "        df,\n",
    "        x=\"SG Distance\",  # Use the column name for the x-axis\n",
    "        nbins=100,\n",
    "        title=\"Histogram of SG Distances\",\n",
    "    )\n",
    "    fig.update_layout(\n",
    "        xaxis_title=f\"SG Distance < {cutoff}\",\n",
    "        yaxis_title=\"Frequency\",\n",
    "        bargap=0.2,\n",
    "        template=\"plotly_white\",\n",
    "    )\n",
    "    fig.show()"
   ]
  },
  {
   "cell_type": "code",
   "execution_count": null,
   "metadata": {},
   "outputs": [],
   "source": [
    "# Example usage\n",
    "disulfide_list = pdb.SSList  # Replace with your list of disulfide objects\n",
    "sg_distances = extract_sg_distances(disulfide_list, cutoff=5)\n",
    "plot_sg_distances(sg_distances)"
   ]
  },
  {
   "cell_type": "code",
   "execution_count": null,
   "metadata": {},
   "outputs": [],
   "source": [
    "pdb[0].pprint_all()\n",
    "ss1 = pdb[0]\n",
    "ss1.missing_atoms"
   ]
  },
  {
   "cell_type": "code",
   "execution_count": null,
   "metadata": {},
   "outputs": [],
   "source": [
    "pdb[\"3q7q\"]"
   ]
  },
  {
   "cell_type": "code",
   "execution_count": null,
   "metadata": {},
   "outputs": [],
   "source": [
    "pdb.SSDict.get(\"xxx\")"
   ]
  },
  {
   "cell_type": "code",
   "execution_count": null,
   "metadata": {},
   "outputs": [],
   "source": [
    "pdb[\"2q7q_75D_140D\"]"
   ]
  },
  {
   "cell_type": "code",
   "execution_count": null,
   "metadata": {},
   "outputs": [],
   "source": [
    "pdb.get_by_name(\"2q7q_75D_140D\")"
   ]
  },
  {
   "cell_type": "code",
   "execution_count": null,
   "metadata": {},
   "outputs": [],
   "source": [
    "ind = pdb.SSDict.get(\"2q7q_75D\")\n",
    "ind"
   ]
  },
  {
   "cell_type": "code",
   "execution_count": null,
   "metadata": {},
   "outputs": [],
   "source": []
  },
  {
   "cell_type": "code",
   "execution_count": null,
   "metadata": {},
   "outputs": [],
   "source": [
    "def get_pdbid_with_max_disulfides(PDB_SS):\n",
    "    \"\"\"\n",
    "    Enumerates PDB_SS.SSDict and returns the pdbid for the key with the largest number of disulfides.\n",
    "\n",
    "    Args:\n",
    "        PDB_SS (object): The object containing the SSDict attribute.\n",
    "\n",
    "    Returns:\n",
    "        str: The pdbid with the largest number of disulfides.\n",
    "    \"\"\"\n",
    "    max_disulfides = 0\n",
    "    pdbid_with_max_disulfides = None\n",
    "\n",
    "    for pdbid, disulfides in PDB_SS.SSDict.items():\n",
    "        num_disulfides = len(disulfides)\n",
    "        if num_disulfides > max_disulfides:\n",
    "            max_disulfides = num_disulfides\n",
    "            pdbid_with_max_disulfides = pdbid\n",
    "\n",
    "    return pdbid_with_max_disulfides, max_disulfides"
   ]
  },
  {
   "cell_type": "code",
   "execution_count": null,
   "metadata": {},
   "outputs": [],
   "source": [
    "get_pdbid_with_max_disulfides(pdb)"
   ]
  },
  {
   "cell_type": "code",
   "execution_count": null,
   "metadata": {},
   "outputs": [],
   "source": [
    "big = pdb[\"7nyc\"]"
   ]
  },
  {
   "cell_type": "code",
   "execution_count": 11,
   "metadata": {},
   "outputs": [],
   "source": [
    "import matplotlib.pyplot as plt\n",
    "\n",
    "\n",
    "def plot_disulfides_vs_pdbid(PDB_SS, cutoff=1):\n",
    "    \"\"\"\n",
    "    Plots the number of disulfides versus pdbid.\n",
    "\n",
    "    Args:\n",
    "        PDB_SS (object): The object containing the SSDict attribute.\n",
    "    \"\"\"\n",
    "    pdbids = []\n",
    "    num_disulfides = []\n",
    "\n",
    "    for pdbid, disulfides in PDB_SS.SSDict.items():\n",
    "        if len(disulfides) > cutoff:\n",
    "            pdbids.append(pdbid)\n",
    "            num_disulfides.append(len(disulfides))\n",
    "\n",
    "    plt.figure(figsize=(12, 6))\n",
    "    plt.bar(pdbids, num_disulfides, color=\"skyblue\")\n",
    "    plt.xlabel(\"PDB ID\")\n",
    "    plt.ylabel(\"Number of Disulfides\")\n",
    "    plt.title(f\"Number of Disulfides vs PDB ID with cutoff: {cutoff}\")\n",
    "    plt.xticks(rotation=90)\n",
    "    plt.tight_layout()\n",
    "    plt.show()\n",
    "\n",
    "    return pdbids, num_disulfides"
   ]
  },
  {
   "cell_type": "code",
   "execution_count": null,
   "metadata": {},
   "outputs": [],
   "source": [
    "pdbids, num_disulfides = plot_disulfides_vs_pdbid(PDB, cutoff=50)"
   ]
  },
  {
   "cell_type": "code",
   "execution_count": null,
   "metadata": {},
   "outputs": [],
   "source": [
    "colors = [\n",
    "    [\"ff0000\", \"28e5da\", \"0000ff\"],\n",
    "    [\"ffff00\", \"c8bebe\", \"f79292\"],\n",
    "    [\"fffff0\", \"f18c1d\", \"23dcaa\"],\n",
    "    [\"d785ec\", \"9d5b13\", \"e4e0b1\"],\n",
    "    [\"894509\", \"af45f5\", \"fff000\"],\n",
    "]\n",
    "\n",
    "\n",
    "class SetVisibilityCallback:\n",
    "    \"\"\"Helper callback to keep a reference to the actor being modified.\"\"\"\n",
    "\n",
    "    def __init__(self, actor):\n",
    "        self.actor = actor\n",
    "\n",
    "    def __call__(self, state):\n",
    "        self.actor.SetVisibility(state)\n",
    "\n",
    "\n",
    "# Widget size\n",
    "import pyvista as pv\n",
    "\n",
    "size = 50\n",
    "\n",
    "p = pv.Plotter()\n",
    "\n",
    "Startpos = 12\n",
    "for i, lst in enumerate(colors):\n",
    "    for j, color in enumerate(lst):\n",
    "        actor = p.add_mesh(pv.Sphere(center=(i, j, 0)), color=color)\n",
    "        # Make a separate callback for each widget\n",
    "        callback = SetVisibilityCallback(actor)\n",
    "        p.add_checkbox_button_widget(\n",
    "            callback,\n",
    "            value=True,\n",
    "            position=(5.0, Startpos),\n",
    "            size=size,\n",
    "            border_size=1,\n",
    "            color_on=color,\n",
    "            color_off=\"grey\",\n",
    "            background_color=\"grey\",\n",
    "        )\n",
    "        Startpos = Startpos + size + (size // 10)\n",
    "\n",
    "p.show()"
   ]
  },
  {
   "cell_type": "code",
   "execution_count": null,
   "metadata": {},
   "outputs": [],
   "source": []
  },
  {
   "cell_type": "code",
   "execution_count": null,
   "metadata": {},
   "outputs": [],
   "source": [
    "ss1 = pdb[0]\n",
    "# ss1.pprint_all()\n",
    "cofmass = ss1.coord_cofmass"
   ]
  },
  {
   "cell_type": "code",
   "execution_count": null,
   "metadata": {},
   "outputs": [],
   "source": [
    "ss1.translate(Vector3D(-cofmass))\n",
    "ss1.pprint_all()"
   ]
  },
  {
   "cell_type": "code",
   "execution_count": null,
   "metadata": {},
   "outputs": [],
   "source": [
    "crn1 = pdb[\"1crn\"]\n",
    "crn1.pprint_all()\n",
    "cofmass = crn1.center_of_mass\n",
    "cofmass"
   ]
  },
  {
   "cell_type": "code",
   "execution_count": null,
   "metadata": {},
   "outputs": [],
   "source": [
    "crn1.translate(Vector3D(-cofmass))\n",
    "print(f\"Center of mass is {cofmass}\")\n",
    "crn1.pprint_all()"
   ]
  },
  {
   "cell_type": "code",
   "execution_count": null,
   "metadata": {},
   "outputs": [],
   "source": [
    "sslist.build_distance_df()"
   ]
  },
  {
   "cell_type": "code",
   "execution_count": null,
   "metadata": {},
   "outputs": [],
   "source": [
    "sslist.average_torsion_distance"
   ]
  },
  {
   "cell_type": "code",
   "execution_count": null,
   "metadata": {},
   "outputs": [],
   "source": [
    "sslist.display_overlay()"
   ]
  },
  {
   "cell_type": "code",
   "execution_count": null,
   "metadata": {},
   "outputs": [],
   "source": [
    "sslist = load_disulfides_from_id(\"1tgk\", pdb_dir=MODEL_DIR)\n",
    "sslist"
   ]
  },
  {
   "cell_type": "code",
   "execution_count": null,
   "metadata": {},
   "outputs": [],
   "source": [
    "sslist.average_energy"
   ]
  },
  {
   "cell_type": "code",
   "execution_count": null,
   "metadata": {},
   "outputs": [],
   "source": [
    "sslist.average_conformation"
   ]
  },
  {
   "cell_type": "code",
   "execution_count": null,
   "metadata": {},
   "outputs": [],
   "source": [
    "pdb[\"1tgk\"]"
   ]
  },
  {
   "cell_type": "code",
   "execution_count": null,
   "metadata": {},
   "outputs": [],
   "source": [
    "sslist = pdb[\"4yys\"]"
   ]
  },
  {
   "cell_type": "code",
   "execution_count": null,
   "metadata": {},
   "outputs": [],
   "source": [
    "sslist = pdb.build_ss_from_idlist([\"5rsa\", \"4yys\", \"2q7q\"])\n",
    "sslist"
   ]
  },
  {
   "cell_type": "code",
   "execution_count": null,
   "metadata": {},
   "outputs": [],
   "source": [
    "ss = pdb[\"2q7q_75D_140D\"]"
   ]
  },
  {
   "cell_type": "code",
   "execution_count": null,
   "metadata": {},
   "outputs": [],
   "source": [
    "neighbors = pdb.SSList.nearest_neighbors_ss(ss, 3)\n",
    "neighbors"
   ]
  },
  {
   "cell_type": "code",
   "execution_count": null,
   "metadata": {},
   "outputs": [],
   "source": [
    "neighbors2 = pdb.SSList.nearest_neighbors(5, [-60, -60, -83, -60, -60])\n",
    "neighbors2.describe()\n",
    "neighbors2.display_overlay()"
   ]
  },
  {
   "cell_type": "code",
   "execution_count": null,
   "metadata": {},
   "outputs": [],
   "source": [
    "neighbors3 = pdb.SSList.nearest_neighbors(3.5, list(ss.dihedrals))\n",
    "neighbors3"
   ]
  },
  {
   "cell_type": "code",
   "execution_count": null,
   "metadata": {},
   "outputs": [],
   "source": [
    "sslist2 = pdb.SSList[:1000]\n",
    "df = sslist2.create_deviation_dataframe()"
   ]
  },
  {
   "cell_type": "code",
   "execution_count": null,
   "metadata": {},
   "outputs": [],
   "source": [
    "df.describe()"
   ]
  },
  {
   "cell_type": "code",
   "execution_count": null,
   "metadata": {},
   "outputs": [],
   "source": []
  },
  {
   "cell_type": "code",
   "execution_count": null,
   "metadata": {},
   "outputs": [],
   "source": [
    "ss.display()"
   ]
  },
  {
   "cell_type": "code",
   "execution_count": null,
   "metadata": {},
   "outputs": [],
   "source": [
    "ss1 = pdb[0]\n",
    "ss1.display(light=\"Auto\", winsize=(800, 800))"
   ]
  },
  {
   "cell_type": "code",
   "execution_count": null,
   "metadata": {},
   "outputs": [],
   "source": [
    "pp.get_theme()"
   ]
  },
  {
   "cell_type": "code",
   "execution_count": null,
   "metadata": {},
   "outputs": [],
   "source": []
  },
  {
   "cell_type": "code",
   "execution_count": null,
   "metadata": {},
   "outputs": [],
   "source": [
    "ss1 = pdb[0]\n",
    "type(ss1)"
   ]
  },
  {
   "cell_type": "code",
   "execution_count": null,
   "metadata": {},
   "outputs": [],
   "source": [
    "ss1.display(style=\"sb\", light=False)"
   ]
  },
  {
   "cell_type": "code",
   "execution_count": null,
   "metadata": {},
   "outputs": [],
   "source": []
  },
  {
   "cell_type": "code",
   "execution_count": null,
   "metadata": {},
   "outputs": [],
   "source": [
    "import timeit\n",
    "import numpy as np\n",
    "import matplotlib.pyplot as plt\n",
    "from proteusPy import Disulfide\n",
    "\n",
    "\n",
    "def add_to_list(n, pdb_sslist):\n",
    "    disulfide_list = []\n",
    "    for i in range(n):\n",
    "        disulfide_list.append(pdb_sslist[i])\n",
    "\n",
    "    sslist = DisulfideList(disulfide_list, \"tmp\")\n",
    "    avg = sslist.average_conformation\n",
    "\n",
    "\n",
    "def add_to_ndarray(n, pdb_sslist):\n",
    "    disulfide_array = np.empty(n, dtype=object)\n",
    "    for i in range(n):\n",
    "        disulfide_array[i] = pdb_sslist[i]\n",
    "    sslist = DisulfideList(disulfide_array, \"tmp\")\n",
    "    avg = sslist.average_conformation\n",
    "\n",
    "\n",
    "def profile_sslist(sslist):\n",
    "    # Number of objects to add\n",
    "    num_objects = [1000, 5000, 10000, 20000, 30000, 40000, 50000, 60000, 70000, 80000]\n",
    "\n",
    "    # Measure time for adding to list\n",
    "    list_times = []\n",
    "    for n in num_objects:\n",
    "        time = timeit.timeit(lambda: add_to_list(n, sslist), number=10)\n",
    "        list_times.append(time)\n",
    "\n",
    "    # Measure time for adding to ndarray\n",
    "    ndarray_times = []\n",
    "    for n in num_objects:\n",
    "        time = timeit.timeit(lambda: add_to_ndarray(n, sslist), number=10)\n",
    "        ndarray_times.append(time)\n",
    "\n",
    "    # Plot the results\n",
    "    plt.plot(num_objects, list_times, label=\"DisulfideList (list)\")\n",
    "    plt.plot(num_objects, ndarray_times, label=\"ndarray\")\n",
    "    plt.xlabel(\"Number of Disulfide Objects\")\n",
    "    plt.ylabel(\"Time (seconds)\")\n",
    "    plt.title(\"Comparison of Adding Disulfide Objects to List vs. ndarray\")\n",
    "    plt.legend()\n",
    "    plt.grid(True)\n",
    "    plt.show()"
   ]
  },
  {
   "cell_type": "code",
   "execution_count": null,
   "metadata": {},
   "outputs": [],
   "source": [
    "profile_sslist(pdb.SSList)"
   ]
  },
  {
   "cell_type": "code",
   "execution_count": null,
   "metadata": {},
   "outputs": [],
   "source": []
  },
  {
   "cell_type": "code",
   "execution_count": null,
   "metadata": {},
   "outputs": [],
   "source": []
  },
  {
   "cell_type": "code",
   "execution_count": null,
   "metadata": {},
   "outputs": [],
   "source": [
    "tors_df2 = ss1.torsion_df\n",
    "tors_df2.describe()"
   ]
  },
  {
   "cell_type": "code",
   "execution_count": null,
   "metadata": {},
   "outputs": [],
   "source": [
    "pdb = DisulfideLoader(verbose=True, subset=True, cutoff=8.0)"
   ]
  },
  {
   "cell_type": "code",
   "execution_count": null,
   "metadata": {},
   "outputs": [],
   "source": [
    "pdb = Load_PDB_SS(verbose=True, subset=False, cutoff=8.0)"
   ]
  },
  {
   "cell_type": "code",
   "execution_count": null,
   "metadata": {},
   "outputs": [],
   "source": [
    "pdb[0]"
   ]
  },
  {
   "cell_type": "code",
   "execution_count": null,
   "metadata": {},
   "outputs": [],
   "source": [
    "PDB_SS = Load_PDB_SS(subset=False, verbose=True)\n",
    "PDB_SS.describe()"
   ]
  },
  {
   "cell_type": "code",
   "execution_count": null,
   "metadata": {},
   "outputs": [],
   "source": [
    "import os\n",
    "from pathlib import Path\n",
    "import importlib.resources as pkg_resources\n",
    "\n",
    "# Determine the base directory of the installed package\n",
    "this_dir = Path(pkg_resources.files(\"proteusPy\"))\n",
    "this_dir"
   ]
  },
  {
   "cell_type": "code",
   "execution_count": null,
   "metadata": {},
   "outputs": [],
   "source": []
  },
  {
   "cell_type": "code",
   "execution_count": null,
   "metadata": {},
   "outputs": [],
   "source": []
  },
  {
   "cell_type": "code",
   "execution_count": null,
   "metadata": {},
   "outputs": [],
   "source": [
    "ss1 = PDB_SS[0]\n",
    "ss1.rho"
   ]
  },
  {
   "cell_type": "code",
   "execution_count": null,
   "metadata": {},
   "outputs": [],
   "source": [
    "from proteusPy import (\n",
    "    torsion_to_sixclass,\n",
    "    torsion_to_eightclass,\n",
    "    torsion_to_class_string,\n",
    ")\n",
    "\n",
    "lhs = [-60, -60, -90, -60, -60]\n",
    "rhs = [60, 60, 90, 60, 60]\n",
    "six = torsion_to_sixclass(lhs)\n",
    "eight = torsion_to_eightclass(lhs)"
   ]
  },
  {
   "cell_type": "code",
   "execution_count": null,
   "metadata": {},
   "outputs": [],
   "source": [
    "cls = torsion_to_class_string(lhs, base=6)\n",
    "cls"
   ]
  },
  {
   "cell_type": "code",
   "execution_count": null,
   "metadata": {},
   "outputs": [],
   "source": [
    "six"
   ]
  },
  {
   "cell_type": "code",
   "execution_count": null,
   "metadata": {},
   "outputs": [],
   "source": [
    "eight"
   ]
  },
  {
   "cell_type": "code",
   "execution_count": null,
   "metadata": {},
   "outputs": [],
   "source": [
    "sixr = torsion_to_sixclass(rhs)\n",
    "eightr = torsion_to_eightclass(rhs)"
   ]
  },
  {
   "cell_type": "code",
   "execution_count": null,
   "metadata": {},
   "outputs": [],
   "source": [
    "sixr"
   ]
  },
  {
   "cell_type": "code",
   "execution_count": null,
   "metadata": {},
   "outputs": [],
   "source": [
    "eightr"
   ]
  },
  {
   "cell_type": "code",
   "execution_count": null,
   "metadata": {},
   "outputs": [],
   "source": [
    "torsion_to_class_string(lhs, 6)"
   ]
  },
  {
   "cell_type": "code",
   "execution_count": null,
   "metadata": {},
   "outputs": [],
   "source": [
    "torsion_to_class_string(lhs, 8)"
   ]
  },
  {
   "cell_type": "code",
   "execution_count": 5,
   "metadata": {},
   "outputs": [],
   "source": [
    "def plot_disulfide_secondary_structures(pdb_ss):\n",
    "    \"\"\"\n",
    "    Plot a graph of disulfide secondary structures segmented by secondary structure.\n",
    "\n",
    "    :param pdb_ss: The PDB_SS object containing SSList with disulfide bonds.\n",
    "    :type pdb_ss: object\n",
    "    \"\"\"\n",
    "    # Initialize counters for each secondary structure type\n",
    "    helix_count = 0\n",
    "    sheet_count = 0\n",
    "    turn_count = 0\n",
    "    nosecondary_count = 0\n",
    "\n",
    "    # Iterate through the SSList and count the secondary structures\n",
    "    for ss in pdb_ss.SSList:\n",
    "        proximal_secondary = ss.proximal_secondary\n",
    "        distal_secondary = ss.distal_secondary\n",
    "\n",
    "        if proximal_secondary == \"helix\":\n",
    "            helix_count += 1\n",
    "        elif proximal_secondary == \"sheet\":\n",
    "            sheet_count += 1\n",
    "        elif proximal_secondary == \"turn\":\n",
    "            turn_count += 1\n",
    "        elif proximal_secondary == \"nosecondary\":\n",
    "            nosecondary_count += 1\n",
    "\n",
    "        if distal_secondary == \"helix\":\n",
    "            helix_count += 1\n",
    "        elif distal_secondary == \"sheet\":\n",
    "            sheet_count += 1\n",
    "        elif distal_secondary == \"turn\":\n",
    "            turn_count += 1\n",
    "        elif distal_secondary == \"nosecondary\":\n",
    "            nosecondary_count += 1\n",
    "\n",
    "    # Data for plotting\n",
    "    labels = [\"Helix\", \"Sheet\", \"Turn\", \"No Secondary\"]\n",
    "    counts = [helix_count, sheet_count, turn_count, nosecondary_count]\n",
    "\n",
    "    # Plotting the data\n",
    "    plt.figure(figsize=(10, 6))\n",
    "    plt.bar(labels, counts, color=[\"blue\", \"green\", \"red\", \"gray\"])\n",
    "    plt.xlabel(\"Secondary Structure\")\n",
    "    plt.ylabel(\"Count of Disulfide Bonds\")\n",
    "    plt.title(\"Disulfide Bonds Segmented by Secondary Structure\")\n",
    "    plt.show()\n",
    "\n",
    "\n",
    "import matplotlib.pyplot as plt\n",
    "\n",
    "\n",
    "def plot_disulfide_secondary_structure_cooccurrence(pdb_ss):\n",
    "    \"\"\"\n",
    "    Plot a graph of disulfide secondary structure co-occurrence by proximal-distal type.\n",
    "\n",
    "    :param pdb_ss: The PDB_SS object containing SSList with disulfide bonds.\n",
    "    :type pdb_ss: object\n",
    "    \"\"\"\n",
    "    # Initialize counters for each proximal-distal secondary structure combination\n",
    "    cooccurrence_counts = {}\n",
    "    skipped = 0\n",
    "    turns = 0\n",
    "    cnt = 0\n",
    "\n",
    "    # Iterate through the SSList and count the secondary structure combinations\n",
    "    for ss in pdb_ss.SSList:\n",
    "        proximal_secondary = ss.proximal_secondary\n",
    "        distal_secondary = ss.distal_secondary\n",
    "        # Skip disulfide bonds with no secondary structure or with a turn secondary structure\n",
    "\n",
    "        if proximal_secondary == \"nosecondary\" or distal_secondary == \"nosecondary\":\n",
    "            skipped += 1\n",
    "            continue\n",
    "\n",
    "        if proximal_secondary == \"turn\" or distal_secondary == \"turn\":\n",
    "            turns += 1\n",
    "            continue\n",
    "\n",
    "        key = (proximal_secondary, distal_secondary)\n",
    "\n",
    "        if key in cooccurrence_counts:\n",
    "            cooccurrence_counts[key] += 1\n",
    "        else:\n",
    "            cooccurrence_counts[key] = 1\n",
    "\n",
    "        cnt += 1\n",
    "\n",
    "    print(\n",
    "        f\"Skipped {skipped} disulfide bonds with no secondary structure and {turns} turn secondary structure.\\n\"\n",
    "        f\"Disulfides used: {cnt}\"\n",
    "    )\n",
    "\n",
    "    # Data for plotting\n",
    "    labels = [f\"{prox}-{dist}\" for prox, dist in cooccurrence_counts.keys()]\n",
    "    counts = list(cooccurrence_counts.values())\n",
    "\n",
    "    # Plotting the data\n",
    "    plt.figure(figsize=(12, 8))\n",
    "    plt.bar(labels, counts, color=\"skyblue\")\n",
    "    plt.xlabel(\"Proximal-Distal Secondary Structure\")\n",
    "    plt.ylabel(\"Count of Disulfide Bonds\")\n",
    "    plt.title(\"Co-occurrence of Secondary Structures by Proximal-Distal Type\")\n",
    "    plt.xticks(rotation=45, ha=\"right\")\n",
    "    plt.tight_layout()\n",
    "    plt.show()"
   ]
  },
  {
   "cell_type": "code",
   "execution_count": 6,
   "metadata": {},
   "outputs": [],
   "source": [
    "import matplotlib.pyplot as plt\n",
    "import numpy as np\n",
    "\n",
    "\n",
    "def plot_disulfide_secondary_structure_and_rho(pdb_ss):\n",
    "    \"\"\"\n",
    "    Plot a graph of disulfide secondary structure co-occurrence by proximal-distal type\n",
    "    and the disulfide parameter rho with error bars.\n",
    "\n",
    "    :param pdb_ss: The PDB_SS object containing SSList with disulfide bonds.\n",
    "    :type pdb_ss: object\n",
    "    \"\"\"\n",
    "    # Initialize data structures for secondary structure combinations and rho values\n",
    "    cooccurrence_counts = {}\n",
    "    rho_values = {}\n",
    "\n",
    "    # Iterate through the SSList and collect data\n",
    "    for ss in pdb_ss.SSList:\n",
    "        proximal_secondary = ss.proximal_secondary.strip().lower()\n",
    "        distal_secondary = ss.distal_secondary.strip().lower()\n",
    "\n",
    "        # Skip disulfide bonds with no secondary structure or with a turn secondary structure\n",
    "        if proximal_secondary == \"no_secondary\" or distal_secondary == \"no_secondary\":\n",
    "            continue\n",
    "\n",
    "        if proximal_secondary == \"turn\" or distal_secondary == \"turn\":\n",
    "            continue\n",
    "\n",
    "        key = (proximal_secondary, distal_secondary)\n",
    "\n",
    "        if key in cooccurrence_counts:\n",
    "            cooccurrence_counts[key] += 1\n",
    "            rho_values[key].append(ss.ca_distance)\n",
    "        else:\n",
    "            cooccurrence_counts[key] = 1\n",
    "            rho_values[key] = [ss.rho]\n",
    "\n",
    "    # Data for plotting\n",
    "    labels = [f\"{prox}-{dist}\" for prox, dist in cooccurrence_counts.keys()]\n",
    "    counts = list(cooccurrence_counts.values())\n",
    "    rho_means = [np.mean(rho_values[key]) for key in rho_values.keys()]\n",
    "    rho_stds = [np.std(rho_values[key]) for key in rho_values.keys()]\n",
    "\n",
    "    # Plotting the secondary structure co-occurrence\n",
    "    plt.figure(figsize=(12, 8))\n",
    "    plt.bar(labels, counts, color=\"skyblue\")\n",
    "    plt.xlabel(\"Proximal-Distal Secondary Structure\")\n",
    "    plt.ylabel(\"Count of Disulfide Bonds\")\n",
    "    plt.title(\"Co-occurrence of Secondary Structures by Proximal-Distal Type\")\n",
    "    plt.xticks(rotation=45, ha=\"right\")\n",
    "    plt.tight_layout()\n",
    "    plt.show()\n",
    "\n",
    "    # Plotting the rho values with error bars\n",
    "    plt.figure(figsize=(12, 8))\n",
    "    plt.errorbar(\n",
    "        labels,\n",
    "        rho_means,\n",
    "        yerr=rho_stds,\n",
    "        fmt=\"o\",\n",
    "        color=\"red\",\n",
    "        ecolor=\"black\",\n",
    "        capsize=5,\n",
    "    )\n",
    "    plt.xlabel(\"Proximal-Distal Secondary Structure\")\n",
    "    plt.ylabel(\"Mean Rho Value\")\n",
    "    plt.title(\"Mean Rho Value by Proximal-Distal Secondary Structure with Error Bars\")\n",
    "    plt.xticks(rotation=45, ha=\"right\")\n",
    "    plt.tight_layout()\n",
    "    plt.show()"
   ]
  },
  {
   "cell_type": "code",
   "execution_count": null,
   "metadata": {},
   "outputs": [],
   "source": [
    "plot_disulfide_secondary_structure_and_rho(PDB_SS)"
   ]
  },
  {
   "cell_type": "code",
   "execution_count": null,
   "metadata": {},
   "outputs": [],
   "source": [
    "plot_disulfide_secondary_structures(PDB_SS)"
   ]
  },
  {
   "cell_type": "code",
   "execution_count": null,
   "metadata": {},
   "outputs": [],
   "source": [
    "plot_disulfide_secondary_structure_cooccurrence(PDB_SS)"
   ]
  },
  {
   "cell_type": "code",
   "execution_count": null,
   "metadata": {},
   "outputs": [],
   "source": [
    "from proteusPy import extract_ssbonds_and_atoms\n",
    "from pathlib import Path\n",
    "import os\n",
    "\n",
    "verbose = True\n",
    "structure_fname = str(MODEL_DIR / \"pdb5rsa.ent\")\n",
    "ssbond_atom_list, num_ssbonds, errors = extract_ssbonds_and_atoms(\n",
    "    structure_fname, verbose=verbose\n",
    ")"
   ]
  },
  {
   "cell_type": "code",
   "execution_count": null,
   "metadata": {},
   "outputs": [],
   "source": [
    "ssbond_atom_list[\"helices\"]"
   ]
  },
  {
   "cell_type": "code",
   "execution_count": null,
   "metadata": {},
   "outputs": [],
   "source": [
    "ssbond_atom_list[\"sheets\"]"
   ]
  },
  {
   "cell_type": "code",
   "execution_count": null,
   "metadata": {},
   "outputs": [],
   "source": [
    "ssbond_atom_list[\"turns\"]"
   ]
  },
  {
   "cell_type": "code",
   "execution_count": null,
   "metadata": {},
   "outputs": [],
   "source": [
    "ssbond_atom_list[\"ssbonds\"]"
   ]
  },
  {
   "cell_type": "code",
   "execution_count": null,
   "metadata": {},
   "outputs": [],
   "source": [
    "ssbond_atom_list[\"pairs\"]"
   ]
  },
  {
   "cell_type": "code",
   "execution_count": null,
   "metadata": {},
   "outputs": [],
   "source": [
    "ssbond_atom_list[\"pairs\"]"
   ]
  },
  {
   "cell_type": "code",
   "execution_count": null,
   "metadata": {},
   "outputs": [],
   "source": [
    "df = pd.DataFrame()\n",
    "fig = PDB_SS.plot_count_vs_class_df(\n",
    "    df,\n",
    "    title=\"Binary\",\n",
    "    save=True,\n",
    "    savedir=BINARY,\n",
    "    verbose=True,\n",
    "    base=2,\n",
    ")\n",
    "fig.show()"
   ]
  },
  {
   "cell_type": "code",
   "execution_count": null,
   "metadata": {},
   "outputs": [],
   "source": [
    "PDB_SS.plot_binary_to_eightclass_incidence(\n",
    "    theme=\"light\", save=True, verbose=True, savedir=OCTANT\n",
    ")"
   ]
  },
  {
   "cell_type": "code",
   "execution_count": null,
   "metadata": {},
   "outputs": [],
   "source": [
    "PDB_SS.plot_binary_to_sixclass_incidence(\n",
    "    theme=\"light\", save=True, verbose=True, savedir=SEXTANT\n",
    ")"
   ]
  },
  {
   "cell_type": "code",
   "execution_count": null,
   "metadata": {},
   "outputs": [],
   "source": [
    "clslist6 = PDB_SS.tclass.sslist_from_classid(\"55555\", base=6)\n",
    "clslist6"
   ]
  },
  {
   "cell_type": "code",
   "execution_count": null,
   "metadata": {},
   "outputs": [],
   "source": [
    "clslist8 = PDB_SS.tclass.sslist_from_classid(\"77778\", base=8)\n",
    "clslist8"
   ]
  },
  {
   "cell_type": "code",
   "execution_count": null,
   "metadata": {},
   "outputs": [],
   "source": []
  },
  {
   "cell_type": "code",
   "execution_count": null,
   "metadata": {},
   "outputs": [],
   "source": []
  },
  {
   "cell_type": "code",
   "execution_count": null,
   "metadata": {},
   "outputs": [],
   "source": [
    "df2 = PDB_SS.tclass.classdf\n",
    "df8 = PDB_SS.tclass.eightclass_df"
   ]
  },
  {
   "cell_type": "code",
   "execution_count": null,
   "metadata": {},
   "outputs": [],
   "source": [
    "df2.head(32)"
   ]
  },
  {
   "cell_type": "code",
   "execution_count": null,
   "metadata": {},
   "outputs": [],
   "source": [
    "df8"
   ]
  },
  {
   "cell_type": "code",
   "execution_count": null,
   "metadata": {},
   "outputs": [],
   "source": [
    "df6"
   ]
  },
  {
   "cell_type": "code",
   "execution_count": null,
   "metadata": {},
   "outputs": [],
   "source": [
    "def enumerate_class_fromlist(loader: DisulfideLoader, sslist):\n",
    "    import pandas as pd\n",
    "\n",
    "    x = []\n",
    "    y = []\n",
    "\n",
    "    for cls in sslist:\n",
    "        if cls is not None:\n",
    "            _y = loader.tclass.sslist_from_classid(cls)\n",
    "            # it's possible to have 0 SS in a class\n",
    "            if _y is not None:\n",
    "                # only append if we have both.\n",
    "                x.append(cls)\n",
    "                y.append(len(_y))\n",
    "\n",
    "    sslist_df = pd.DataFrame(columns=[\"class_id\", \"count\"])\n",
    "    sslist_df[\"class_id\"] = x\n",
    "    sslist_df[\"count\"] = y\n",
    "    return sslist_df"
   ]
  },
  {
   "cell_type": "code",
   "execution_count": null,
   "metadata": {},
   "outputs": [],
   "source": [
    "cls = \"00000\"\n",
    "sixcls = PDB_SS.tclass.binary_to_eight_class(cls)\n",
    "df = enumerate_class_fromlist(PDB_SS, sixcls)\n",
    "# Assuming 'count' is the column by which we want to sort\n",
    "sorted_df = df.sort_values(by=\"count\", ascending=False)\n",
    "\n",
    "# Display the sorted DataFrame\n",
    "print(sorted_df)"
   ]
  },
  {
   "cell_type": "code",
   "execution_count": null,
   "metadata": {},
   "outputs": [],
   "source": [
    "cls = \"00000\"\n",
    "eightcls = PDB_SS.tclass.binary_to_eight_class(cls)\n",
    "# eightcls\n",
    "\n",
    "df = enumerate_class_fromlist(PDB_SS, eightcls)\n",
    "# Assuming 'count' is the column by which we want to sort\n",
    "sorted_df = df.sort_values(by=\"count\", ascending=False)\n",
    "\n",
    "# Display the sorted DataFrame\n",
    "print(sorted_df)"
   ]
  },
  {
   "cell_type": "code",
   "execution_count": null,
   "metadata": {},
   "outputs": [],
   "source": [
    "PDB_SS.plot_binary_to_eightclass_incidence(theme=\"light\")"
   ]
  },
  {
   "cell_type": "code",
   "execution_count": null,
   "metadata": {},
   "outputs": [],
   "source": [
    "PDB_SS.plot_count_vs_class_df(df, cls, theme=\"light\")"
   ]
  },
  {
   "cell_type": "code",
   "execution_count": null,
   "metadata": {},
   "outputs": [],
   "source": []
  },
  {
   "cell_type": "code",
   "execution_count": null,
   "metadata": {},
   "outputs": [],
   "source": []
  },
  {
   "cell_type": "code",
   "execution_count": null,
   "metadata": {},
   "outputs": [],
   "source": [
    "PDB_SS.plot_binary_to_sixclass_incidence(light=False)"
   ]
  },
  {
   "cell_type": "code",
   "execution_count": null,
   "metadata": {},
   "outputs": [],
   "source": [
    "eight = PDB_SS.tclass.eightclass_df\n",
    "eight.head(-10)"
   ]
  },
  {
   "cell_type": "code",
   "execution_count": null,
   "metadata": {},
   "outputs": [],
   "source": [
    "sslist2 = PDB_SS.extract_class(\"87784\")\n",
    "sslist2"
   ]
  },
  {
   "cell_type": "code",
   "execution_count": null,
   "metadata": {},
   "outputs": [],
   "source": [
    "PDB_SS.plot_classes_vs_cutoff(0.1, 20)"
   ]
  },
  {
   "cell_type": "code",
   "execution_count": null,
   "metadata": {},
   "outputs": [],
   "source": []
  },
  {
   "cell_type": "code",
   "execution_count": null,
   "metadata": {},
   "outputs": [],
   "source": []
  },
  {
   "cell_type": "code",
   "execution_count": null,
   "metadata": {},
   "outputs": [],
   "source": [
    "ssdict = PDB_SS.SSDict\n",
    "ssdict"
   ]
  },
  {
   "cell_type": "code",
   "execution_count": null,
   "metadata": {},
   "outputs": [],
   "source": [
    "def build_ss_from_idlist(loader, idlist):\n",
    "    \"\"\"\n",
    "    Return a DisulfideList of Disulfides for a given list of PDBIDs\n",
    "\n",
    "    :param idlist: List of PDBIDs, e.g. ['4yys', '2q7q']\n",
    "    :return: DisulfideList\n",
    "    \"\"\"\n",
    "    res = DisulfideList([], \"RCSB_list\")\n",
    "    for k, v in loader.SSDict.items():\n",
    "        if k in idlist:\n",
    "            for ss_index in range(len(v)):\n",
    "                res.append(loader.SSList[v[ss_index]])\n",
    "    return res"
   ]
  },
  {
   "cell_type": "code",
   "execution_count": null,
   "metadata": {},
   "outputs": [],
   "source": [
    "sslist = build_ss_from_idlist(PDB_SS, [\"4yys\", \"2q7q\"])\n",
    "sslist"
   ]
  },
  {
   "cell_type": "code",
   "execution_count": null,
   "metadata": {},
   "outputs": [],
   "source": []
  },
  {
   "cell_type": "code",
   "execution_count": null,
   "metadata": {},
   "outputs": [],
   "source": []
  },
  {
   "cell_type": "code",
   "execution_count": null,
   "metadata": {},
   "outputs": [],
   "source": [
    "slice = PDB_SS[10:20]\n",
    "slice.pdb_id"
   ]
  },
  {
   "cell_type": "code",
   "execution_count": null,
   "metadata": {},
   "outputs": [],
   "source": [
    "sslist = PDB_SS.SSList\n",
    "slice2 = sslist[100:200]\n",
    "slice2.pdb_id"
   ]
  },
  {
   "cell_type": "code",
   "execution_count": null,
   "metadata": {},
   "outputs": [],
   "source": [
    "tors = [-60, -60, 90, -60, -60]\n",
    "ss1 = Disulfide(torsions=tors)\n",
    "ss1.pprint_all()"
   ]
  },
  {
   "cell_type": "code",
   "execution_count": null,
   "metadata": {},
   "outputs": [],
   "source": [
    "ss1 = PDB_SS[\"2q7q_75D_140D\"]\n",
    "ss1.quiet = False\n",
    "ss1.bond_length_ideality\n",
    "ss1.bond_angle_ideality"
   ]
  },
  {
   "cell_type": "code",
   "execution_count": null,
   "metadata": {},
   "outputs": [],
   "source": [
    "dihed = ss1.dihedrals\n",
    "modelled_min = Disulfide(\"model\", quiet=False)\n",
    "modelled_min.dihedrals = dihed\n",
    "modelled_min.build_yourself()\n",
    "modelled_min.bond_length_ideality"
   ]
  },
  {
   "cell_type": "code",
   "execution_count": null,
   "metadata": {},
   "outputs": [],
   "source": [
    "# investigate the distal N->Ca distance. 8/15/24 -egs-\n",
    "\n",
    "modelled_min.bond_angle_ideality"
   ]
  },
  {
   "cell_type": "code",
   "execution_count": null,
   "metadata": {},
   "outputs": [],
   "source": [
    "sslist = PDB_SS.SSList\n",
    "len(sslist)"
   ]
  },
  {
   "cell_type": "code",
   "execution_count": null,
   "metadata": {},
   "outputs": [],
   "source": [
    "import pandas as pd\n",
    "from tqdm import tqdm\n",
    "\n",
    "\n",
    "def create_disulfide_dataframe(disulfide_list):\n",
    "    \"\"\"\n",
    "    Create a DataFrame with columns PDB_ID, SS_Name, Angle_Deviation, Distance_Deviation\n",
    "    from a list of disulfides.\n",
    "\n",
    "    :param disulfide_list: List of disulfide objects.\n",
    "    :type proteusPy.DisulfideList: list\n",
    "    :return: DataFrame containing the disulfide information.\n",
    "    :rtype: pd.DataFrame\n",
    "    \"\"\"\n",
    "    data = {\n",
    "        \"PDB_ID\": [],\n",
    "        \"SS_Name\": [],\n",
    "        \"Angle_Deviation\": [],\n",
    "        \"Distance_Deviation\": [],\n",
    "        \"Ca_Distance\": [],\n",
    "    }\n",
    "\n",
    "    for ss in tqdm(disulfide_list, desc=\"Processing Disulfides\"):\n",
    "        pdb_id = ss.pdb_id\n",
    "        ca_distance = ss.ca_distance\n",
    "        angle_deviation = ss.bond_angle_ideality\n",
    "        distance_deviation = ss.bond_length_ideality\n",
    "\n",
    "        data[\"PDB_ID\"].append(pdb_id)\n",
    "        data[\"SS_Name\"].append(ss.name)\n",
    "        data[\"Angle_Deviation\"].append(angle_deviation)\n",
    "        data[\"Distance_Deviation\"].append(distance_deviation)\n",
    "        data[\"Ca_Distance\"].append(ca_distance)\n",
    "\n",
    "    df = pd.DataFrame(data)\n",
    "    return df\n",
    "\n",
    "\n",
    "# Example usage\n",
    "# Assuming you have a list of disulfide objects called disulfide_list\n",
    "# df = create_disulfide_dataframe(disulfide_list)\n",
    "# print(df)"
   ]
  },
  {
   "cell_type": "code",
   "execution_count": null,
   "metadata": {},
   "outputs": [],
   "source": [
    "dev_df = create_disulfide_dataframe(sslist)"
   ]
  },
  {
   "cell_type": "code",
   "execution_count": null,
   "metadata": {},
   "outputs": [],
   "source": [
    "dev_df.describe()"
   ]
  },
  {
   "cell_type": "code",
   "execution_count": null,
   "metadata": {},
   "outputs": [],
   "source": [
    "dev_df.head()"
   ]
  },
  {
   "cell_type": "code",
   "execution_count": null,
   "metadata": {},
   "outputs": [],
   "source": [
    "import matplotlib.pyplot as plt\n",
    "import seaborn as sns\n",
    "\n",
    "\n",
    "def plot_histograms(df):\n",
    "    \"\"\"\n",
    "    Plot histograms for Distance_Deviation, Angle_Deviation, and Ca_Distance.\n",
    "\n",
    "    :param df: DataFrame containing the disulfide information.\n",
    "    :type df: pd.DataFrame\n",
    "    \"\"\"\n",
    "    plt.figure(figsize=(21, 6))\n",
    "\n",
    "    # Distance Deviation Histogram\n",
    "    plt.subplot(1, 3, 1)\n",
    "    sns.histplot(df[\"Distance_Deviation\"], kde=True, bins=30)\n",
    "    plt.title(\"Distance Deviation Distribution\")\n",
    "    plt.xlabel(\"Distance Deviation\")\n",
    "    plt.ylabel(\"Frequency\")\n",
    "\n",
    "    # Angle Deviation Histogram\n",
    "    plt.subplot(1, 3, 2)\n",
    "    sns.histplot(df[\"Angle_Deviation\"], kde=True, bins=30)\n",
    "    plt.title(\"Angle Deviation Distribution\")\n",
    "    plt.xlabel(\"Angle Deviation\")\n",
    "    plt.ylabel(\"Frequency\")\n",
    "\n",
    "    # Ca_Distance Histogram\n",
    "    plt.subplot(1, 3, 3)\n",
    "    sns.histplot(df[\"Ca_Distance\"], kde=True, bins=30)\n",
    "    plt.title(\"Ca Distance Distribution\")\n",
    "    plt.xlabel(\"Ca Distance\")\n",
    "    plt.ylabel(\"Frequency\")\n",
    "\n",
    "    plt.tight_layout()\n",
    "    plt.show()"
   ]
  },
  {
   "cell_type": "code",
   "execution_count": null,
   "metadata": {},
   "outputs": [],
   "source": [
    "# plot_histograms(dev_df)"
   ]
  },
  {
   "cell_type": "code",
   "execution_count": null,
   "metadata": {},
   "outputs": [],
   "source": [
    "import matplotlib.pyplot as plt\n",
    "import seaborn as sns\n",
    "\n",
    "\n",
    "def highlight_worst_structures(df, top_n=10):\n",
    "    \"\"\"\n",
    "    Highlight the worst structures for distance and angle deviations and annotate their names.\n",
    "    Also, add a subplot showing the worst structures aggregated by PDB_ID.\n",
    "\n",
    "    :param df: DataFrame containing the disulfide information.\n",
    "    :type df: pd.DataFrame\n",
    "    :param top_n: Number of worst structures to highlight.\n",
    "    :type top_n: int\n",
    "    \"\"\"\n",
    "    # Identify the worst structures for distance deviation\n",
    "    worst_distance = df.nlargest(top_n, \"Distance_Deviation\")\n",
    "\n",
    "    # Identify the worst structures for angle deviation\n",
    "    worst_angle = df.nlargest(top_n, \"Angle_Deviation\")\n",
    "\n",
    "    # Combine the worst structures\n",
    "    worst_structures = pd.concat([worst_distance, worst_angle]).drop_duplicates()\n",
    "\n",
    "    # Aggregate worst structures by PDB_ID\n",
    "    worst_structures_agg = (\n",
    "        worst_structures.groupby(\"PDB_ID\").size().reset_index(name=\"Count\")\n",
    "    )\n",
    "\n",
    "    fig, axes = plt.subplots(1, 2, figsize=(20, 6))\n",
    "\n",
    "    # Scatter plot for all structures\n",
    "    sns.scatterplot(\n",
    "        x=\"Distance_Deviation\",\n",
    "        y=\"Angle_Deviation\",\n",
    "        data=df,\n",
    "        label=\"All Structures\",\n",
    "        ax=axes[0],\n",
    "    )\n",
    "\n",
    "    # Highlight the worst structures\n",
    "    sns.scatterplot(\n",
    "        x=\"Distance_Deviation\",\n",
    "        y=\"Angle_Deviation\",\n",
    "        data=worst_structures,\n",
    "        color=\"red\",\n",
    "        label=\"Worst Structures\",\n",
    "        marker=\"X\",\n",
    "        s=100,\n",
    "        ax=axes[0],\n",
    "    )\n",
    "\n",
    "    # Annotate the worst structures with their names\n",
    "    for i, row in worst_structures.iterrows():\n",
    "        axes[0].annotate(\n",
    "            row[\"SS_Name\"],\n",
    "            (row[\"Distance_Deviation\"], row[\"Angle_Deviation\"]),\n",
    "            textcoords=\"offset points\",\n",
    "            xytext=(5, 5),\n",
    "            ha=\"right\",\n",
    "        )\n",
    "\n",
    "    axes[0].set_title(\"Distance Deviation vs. Angle Deviation\")\n",
    "    axes[0].set_xlabel(\"Distance Deviation\")\n",
    "    axes[0].set_ylabel(\"Angle Deviation\")\n",
    "    axes[0].legend()\n",
    "\n",
    "    # Bar plot for worst structures aggregated by PDB_ID\n",
    "    sns.barplot(x=\"PDB_ID\", y=\"Count\", data=worst_structures_agg, ax=axes[1])\n",
    "    axes[1].set_title(\"Worst Structures Aggregated by PDB_ID\")\n",
    "    axes[1].set_xlabel(\"PDB_ID\")\n",
    "    axes[1].set_ylabel(\"Count\")\n",
    "    axes[1].tick_params(axis=\"x\", rotation=90)\n",
    "\n",
    "    plt.tight_layout()\n",
    "    plt.show()\n",
    "\n",
    "\n",
    "# Example usage\n",
    "# Assuming you have a DataFrame named dev_df\n",
    "# highlight_worst_structures(dev_df, top_n=10)"
   ]
  },
  {
   "cell_type": "code",
   "execution_count": null,
   "metadata": {},
   "outputs": [],
   "source": [
    "highlight_worst_structures(dev_df, top_n=10)"
   ]
  },
  {
   "cell_type": "code",
   "execution_count": null,
   "metadata": {},
   "outputs": [],
   "source": [
    "import matplotlib.pyplot as plt\n",
    "import seaborn as sns\n",
    "\n",
    "\n",
    "def highlight_worst_structures2(df, top_n=10):\n",
    "    \"\"\"\n",
    "    Highlight the worst structures for distance and angle deviations and annotate their names.\n",
    "    Also, add subplots showing the worst structures aggregated by PDB_ID for distance and angle deviations.\n",
    "\n",
    "    :param df: DataFrame containing the disulfide information.\n",
    "    :type df: pd.DataFrame\n",
    "    :param top_n: Number of worst structures to highlight.\n",
    "    :type top_n: int\n",
    "    \"\"\"\n",
    "    # Identify the worst structures for distance deviation\n",
    "    worst_distance = df.nlargest(top_n, \"Distance_Deviation\")\n",
    "\n",
    "    # Identify the worst structures for angle deviation\n",
    "    worst_angle = df.nlargest(top_n, \"Angle_Deviation\")\n",
    "\n",
    "    # Combine the worst structures\n",
    "    worst_structures = pd.concat([worst_distance, worst_angle]).drop_duplicates()\n",
    "\n",
    "    # Aggregate worst structures by PDB_ID for distance and angle deviations\n",
    "    worst_distance_agg = (\n",
    "        worst_distance.groupby(\"PDB_ID\").size().reset_index(name=\"Count\")\n",
    "    )\n",
    "    worst_angle_agg = worst_angle.groupby(\"PDB_ID\").size().reset_index(name=\"Count\")\n",
    "\n",
    "    fig, axes = plt.subplots(1, 3, figsize=(24, 6))\n",
    "\n",
    "    # Histogram for distance deviation\n",
    "    sns.histplot(df[\"Distance_Deviation\"], kde=True, bins=30, ax=axes[0])\n",
    "    axes[0].set_title(\"Distance Deviation Distribution\")\n",
    "    axes[0].set_xlabel(\"Distance Deviation\")\n",
    "    axes[0].set_ylabel(\"Frequency\")\n",
    "\n",
    "    # Histogram for angle deviation\n",
    "    sns.histplot(df[\"Angle_Deviation\"], kde=True, bins=30, ax=axes[1])\n",
    "    axes[1].set_title(\"Angle Deviation Distribution\")\n",
    "    axes[1].set_xlabel(\"Angle Deviation\")\n",
    "    axes[1].set_ylabel(\"Frequency\")\n",
    "\n",
    "    # Bar plots for worst structures aggregated by PDB_ID\n",
    "    sns.barplot(\n",
    "        x=\"PDB_ID\",\n",
    "        y=\"Count\",\n",
    "        data=worst_distance_agg,\n",
    "        ax=axes[2],\n",
    "        color=\"blue\",\n",
    "        label=\"Distance Deviation\",\n",
    "    )\n",
    "    sns.barplot(\n",
    "        x=\"PDB_ID\",\n",
    "        y=\"Count\",\n",
    "        data=worst_angle_agg,\n",
    "        ax=axes[2],\n",
    "        color=\"green\",\n",
    "        label=\"Angle Deviation\",\n",
    "        alpha=0.6,\n",
    "    )\n",
    "    axes[2].set_title(\"Worst Structures Aggregated by PDB_ID\")\n",
    "    axes[2].set_xlabel(\"PDB_ID\")\n",
    "    axes[2].set_ylabel(\"Count\")\n",
    "    axes[2].tick_params(axis=\"x\", rotation=90)\n",
    "    axes[2].legend()\n",
    "\n",
    "    plt.tight_layout()\n",
    "    plt.show()\n",
    "\n",
    "\n",
    "# Example usage\n",
    "# Assuming you have a DataFrame named dev_df\n",
    "# highlight_worst_structures(dev_df, top_n=10)"
   ]
  },
  {
   "cell_type": "code",
   "execution_count": null,
   "metadata": {},
   "outputs": [],
   "source": [
    "highlight_worst_structures2(dev_df, top_n=10)"
   ]
  },
  {
   "cell_type": "code",
   "execution_count": null,
   "metadata": {},
   "outputs": [],
   "source": [
    "import pandas as pd\n",
    "import numpy as np\n",
    "\n",
    "\n",
    "def calculate_std_cutoff(df, column, num_std=2):\n",
    "    \"\"\"\n",
    "    Calculate cutoff based on standard deviation.\n",
    "\n",
    "    :param df: DataFrame containing the deviations.\n",
    "    :type df: pd.DataFrame\n",
    "    :param column: Column name for which to calculate the cutoff.\n",
    "    :type column: str\n",
    "    :param num_std: Number of standard deviations to use for the cutoff.\n",
    "    :type num_std: int\n",
    "    :return: Cutoff value.\n",
    "    :rtype: float\n",
    "    \"\"\"\n",
    "    mean = df[column].mean()\n",
    "    std = df[column].std()\n",
    "    cutoff = mean + num_std * std\n",
    "    return cutoff\n",
    "\n",
    "\n",
    "def calculate_percentile_cutoff(df, column, percentile=95):\n",
    "    \"\"\"\n",
    "    Calculate cutoff based on percentile.\n",
    "\n",
    "    :param df: DataFrame containing the deviations.\n",
    "    :type df: pd.DataFrame\n",
    "    :param column: Column name for which to calculate the cutoff.\n",
    "    :type column: str\n",
    "    :param percentile: Percentile to use for the cutoff.\n",
    "    :type percentile: int\n",
    "    :return: Cutoff value.\n",
    "    :rtype: float\n",
    "    \"\"\"\n",
    "    cutoff = np.percentile(df[column].dropna(), percentile)\n",
    "    return cutoff\n",
    "\n",
    "\n",
    "# Example usage\n",
    "# distance_cutoff = calculate_percentile_cutoff(dev_df, 'Distance_Deviation', percentile=95)\n",
    "# angle_cutoff = calculate_percentile_cutoff(dev_df, 'Angle_Deviation', percentile=95)"
   ]
  },
  {
   "cell_type": "code",
   "execution_count": null,
   "metadata": {},
   "outputs": [],
   "source": [
    "import pandas as pd\n",
    "import numpy as np\n",
    "\n",
    "# Assuming you have a DataFrame named dev_df with columns 'Distance_Deviation' and 'Angle_Deviation'\n",
    "\n",
    "# Standard Deviation Method\n",
    "distance_cutoff_std = calculate_std_cutoff(dev_df, \"Distance_Deviation\", num_std=3)\n",
    "angle_cutoff_std = calculate_std_cutoff(dev_df, \"Angle_Deviation\", num_std=3)\n",
    "ca_cutoff_std = calculate_std_cutoff(dev_df, \"Ca_Distance\", num_std=3)\n",
    "\n",
    "# Percentile Method\n",
    "distance_cutoff_percentile = calculate_percentile_cutoff(\n",
    "    dev_df, \"Distance_Deviation\", percentile=98\n",
    ")\n",
    "angle_cutoff_percentile = calculate_percentile_cutoff(\n",
    "    dev_df, \"Angle_Deviation\", percentile=98\n",
    ")\n",
    "ca_cutoff_percentile = calculate_percentile_cutoff(dev_df, \"Ca_Distance\", percentile=98)\n",
    "\n",
    "print(f\"Distance Deviation Cutoff (3 Std Dev): {distance_cutoff_std}\")\n",
    "print(f\"Angle Deviation Cutoff (3 Std Dev): {angle_cutoff_std}\")\n",
    "print(f\"Ca Distance Cutoff (3 Std Dev): {ca_cutoff_std}\\n\")\n",
    "\n",
    "print(f\"Distance Deviation Cutoff (98th Percentile): {distance_cutoff_percentile}\")\n",
    "print(f\"Angle Deviation Cutoff (98th Percentile): {angle_cutoff_percentile}\")\n",
    "print(f\"Ca Distance Cutoff (98th Percentile): {ca_cutoff_percentile}\")"
   ]
  },
  {
   "cell_type": "code",
   "execution_count": null,
   "metadata": {},
   "outputs": [],
   "source": [
    "import pandas as pd\n",
    "\n",
    "\n",
    "def filter_by_cutoffs(df, distance_cutoff, angle_cutoff):\n",
    "    \"\"\"\n",
    "    Filter the DataFrame based on distance and angle cutoffs.\n",
    "\n",
    "    :param df: DataFrame containing the deviations.\n",
    "    :type df: pd.DataFrame\n",
    "    :param distance_cutoff: Cutoff value for distance deviation.\n",
    "    :type distance_cutoff: float\n",
    "    :param angle_cutoff: Cutoff value for angle deviation.\n",
    "    :type angle_cutoff: float\n",
    "    :return: Filtered DataFrame.\n",
    "    :rtype: pd.DataFrame\n",
    "    \"\"\"\n",
    "    filtered_df = df[\n",
    "        (df[\"Distance_Deviation\"] <= distance_cutoff)\n",
    "        & (df[\"Angle_Deviation\"] <= angle_cutoff)\n",
    "    ]\n",
    "    return filtered_df\n",
    "\n",
    "\n",
    "# Example usage\n",
    "# Assuming you have a DataFrame named dev_df\n",
    "# distance_cutoff = 5.0\n",
    "# angle_cutoff = 10.0\n",
    "# filtered_df = filter_by_cutoffs(dev_df, distance_cutoff, angle_cutoff)\n",
    "# print(filtered_df)"
   ]
  },
  {
   "cell_type": "code",
   "execution_count": null,
   "metadata": {},
   "outputs": [],
   "source": [
    "dev_df.shape[0]"
   ]
  },
  {
   "cell_type": "code",
   "execution_count": null,
   "metadata": {},
   "outputs": [],
   "source": [
    "filt = filter_by_cutoffs(dev_df, 1.0, 10.0)\n",
    "filt.shape[0]"
   ]
  },
  {
   "cell_type": "code",
   "execution_count": null,
   "metadata": {},
   "outputs": [],
   "source": []
  },
  {
   "cell_type": "code",
   "execution_count": null,
   "metadata": {},
   "outputs": [],
   "source": [
    "dev_df.shape[0]"
   ]
  },
  {
   "cell_type": "code",
   "execution_count": null,
   "metadata": {},
   "outputs": [],
   "source": [
    "print(dev_df[\"Angle_Deviation\"].isna().sum())"
   ]
  },
  {
   "cell_type": "code",
   "execution_count": null,
   "metadata": {},
   "outputs": [],
   "source": [
    "import pandas as pd\n",
    "import numpy as np\n",
    "\n",
    "\n",
    "def calculate_std_cutoff(df, column, num_std=2):\n",
    "    mean = df[column].mean()\n",
    "    std = df[column].std()\n",
    "    cutoff = mean + num_std * std\n",
    "    return cutoff\n",
    "\n",
    "\n",
    "def calculate_percentile_cutoff(df, column, percentile=95):\n",
    "    cutoff = np.percentile(df[column].dropna(), percentile)\n",
    "    return cutoff\n",
    "\n",
    "\n",
    "# Assuming you have a DataFrame named dev_df with columns 'Distance_Deviation' and 'Angle_Deviation'\n",
    "\n",
    "# Check for missing values\n",
    "print(f\"Missing values in 'Angle_Deviation': {dev_df['Angle_Deviation'].isna().sum()}\")\n",
    "\n",
    "# Drop missing values for the calculation\n",
    "dev_df = dev_df.dropna(subset=[\"Angle_Deviation\", \"Distance_Deviation\"])\n",
    "\n",
    "# Standard Deviation Method\n",
    "distance_cutoff_std = calculate_std_cutoff(dev_df, \"Distance_Deviation\", num_std=3)\n",
    "angle_cutoff_std = calculate_std_cutoff(dev_df, \"Angle_Deviation\", num_std=3)\n",
    "\n",
    "# Percentile Method\n",
    "distance_cutoff_percentile = calculate_percentile_cutoff(\n",
    "    dev_df, \"Distance_Deviation\", percentile=98\n",
    ")\n",
    "angle_cutoff_percentile = calculate_percentile_cutoff(\n",
    "    dev_df, \"Angle_Deviation\", percentile=98\n",
    ")\n",
    "\n",
    "print(f\"Distance Deviation Cutoff (3 Std Dev): {distance_cutoff_std}\")\n",
    "print(f\"Angle Deviation Cutoff (3 Std Dev): {angle_cutoff_std}\")\n",
    "print(f\"Distance Deviation Cutoff (98th Percentile): {distance_cutoff_percentile}\")\n",
    "print(f\"Angle Deviation Cutoff (98th Percentile): {angle_cutoff_percentile}\")"
   ]
  },
  {
   "cell_type": "code",
   "execution_count": null,
   "metadata": {},
   "outputs": [],
   "source": []
  }
 ],
 "metadata": {
  "kernelspec": {
   "display_name": "ppydev (0.98.3.dev0)",
   "language": "python",
   "name": "ppydev"
  },
  "language_info": {
   "codemirror_mode": {
    "name": "ipython",
    "version": 3
   },
   "file_extension": ".py",
   "mimetype": "text/x-python",
   "name": "python",
   "nbconvert_exporter": "python",
   "pygments_lexer": "ipython3",
   "version": "3.12.2"
  }
 },
 "nbformat": 4,
 "nbformat_minor": 2
}
