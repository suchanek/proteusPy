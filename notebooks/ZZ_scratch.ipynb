version https://git-lfs.github.com/spec/v1
oid sha256:9e2ef34da81450cb387eda2771f5088ea6c700da7b7f71322d40627ee64629a5
size 108302
