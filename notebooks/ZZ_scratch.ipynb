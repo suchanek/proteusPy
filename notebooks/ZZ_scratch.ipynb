version https://git-lfs.github.com/spec/v1
oid sha256:c791be15efe8926fd4e9ff607e58b6d1a28aa72497a36aee064b806028163613
size 109037
