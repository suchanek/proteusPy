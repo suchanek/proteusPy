version https://git-lfs.github.com/spec/v1
oid sha256:3bc89a741f9361e4e94b70dcb501260d4da71910754e9016928ef03c2e33efd5
size 4810573
