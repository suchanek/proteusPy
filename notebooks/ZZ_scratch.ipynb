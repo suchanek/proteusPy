version https://git-lfs.github.com/spec/v1
oid sha256:d38fa901c3a05961d940d639ce470e9e22f19c86df3fbd5c6827ea3bcee457d2
size 77032
