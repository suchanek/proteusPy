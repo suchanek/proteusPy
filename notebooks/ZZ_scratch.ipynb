version https://git-lfs.github.com/spec/v1
oid sha256:62e641a5ec7cf5c43be64292f3bf698bfdf29276a9c54befa19546fc7a4223e4
size 81306
