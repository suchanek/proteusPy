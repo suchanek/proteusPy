{
 "cells": [
  {
   "cell_type": "code",
   "execution_count": null,
   "metadata": {},
   "outputs": [],
   "source": []
  },
  {
   "cell_type": "code",
   "execution_count": 5,
   "metadata": {},
   "outputs": [
    {
     "name": "stdout",
     "output_type": "stream",
     "text": [
      "dark\n"
     ]
    }
   ],
   "source": [
    "import subprocess\n",
    "\n",
    "def get_macos_theme():\n",
    "    \"\"\"\n",
    "    Determine the display theme for a macOS computer using AppleScript.\n",
    "\n",
    "    Returns:\n",
    "    :return str: 'light', 'dark', or 'none' based on the current display theme.\n",
    "\n",
    "    Example:\n",
    "    >>> get_macos_theme()\n",
    "    'dark'\n",
    "    \"\"\"\n",
    "    try:\n",
    "        # AppleScript to get the appearance setting\n",
    "        script = '''\n",
    "        tell application \"System Events\"\n",
    "            tell appearance preferences\n",
    "                if (dark mode) then\n",
    "                    return \"dark\"\n",
    "                else\n",
    "                    return \"light\"\n",
    "                end if\n",
    "            end tell\n",
    "        end tell\n",
    "        '''\n",
    "        # Run the AppleScript\n",
    "        result = subprocess.run(\n",
    "            ['osascript', '-e', script],\n",
    "            stdout=subprocess.PIPE,\n",
    "            stderr=subprocess.PIPE,\n",
    "            text=True\n",
    "        )\n",
    "\n",
    "        # Check the output\n",
    "        if result.returncode == 0:\n",
    "            theme = result.stdout.strip().lower()\n",
    "            if theme in ['dark', 'light']:\n",
    "                return theme\n",
    "            else:\n",
    "                return 'none'\n",
    "        else:\n",
    "            return 'none'\n",
    "    except Exception as e:\n",
    "        # In case of any exception, return 'none'\n",
    "        return 'none'\n",
    "\n",
    "# Example usage\n",
    "print(get_macos_theme())"
   ]
  },
  {
   "cell_type": "code",
   "execution_count": 1,
   "metadata": {},
   "outputs": [],
   "source": [
    "def get_nth_quadrant(self, angle_deg, base):\n",
    "    \"\"\"\n",
    "    Return the quadrant in which an angle in degrees lies if the area is described by dividing a unit circle into 'base' equal segments.\n",
    "\n",
    "    :param angle_deg (float): The angle in degrees.\n",
    "    :param base (int): The number of segments to divide the circle into (must be even and up to 16).\n",
    "\n",
    "    Returns:\n",
    "    :return str: The quadrant (0-F) that the angle belongs to.\n",
    "    \"\"\"\n",
    "    if base < 2 or base > 16 or base % 2 != 0:\n",
    "        raise ValueError(\"Base must be an even number between 2 and 16.\")\n",
    "\n",
    "    # Normalize the angle to the range [0, 360)\n",
    "    angle_deg = angle_deg % 360\n",
    "\n",
    "    # Calculate the size of each segment\n",
    "    segment_size = 360 / base\n",
    "\n",
    "    # Determine the quadrant\n",
    "    for i in range(base):\n",
    "        if angle_deg >= i * segment_size and angle_deg < (i + 1) * segment_size:\n",
    "            return format(base - 1 - i, \"X\")\n",
    "\n",
    "    # If no quadrant is found, raise an error (this should not happen)\n",
    "    raise ValueError(\"Invalid angle value: angle must be in the range [0, 360).\")"
   ]
  },
  {
   "cell_type": "code",
   "execution_count": null,
   "metadata": {},
   "outputs": [],
   "source": []
  }
 ],
 "metadata": {
  "kernelspec": {
   "display_name": "ppydev (0.97.1dev0)",
   "language": "python",
   "name": "ppydev"
  },
  "language_info": {
   "codemirror_mode": {
    "name": "ipython",
    "version": 3
   },
   "file_extension": ".py",
   "mimetype": "text/x-python",
   "name": "python",
   "nbconvert_exporter": "python",
   "pygments_lexer": "ipython3",
   "version": "3.11.7"
  }
 },
 "nbformat": 4,
 "nbformat_minor": 2
}
