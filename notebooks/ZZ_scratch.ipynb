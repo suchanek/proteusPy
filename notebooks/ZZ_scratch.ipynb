version https://git-lfs.github.com/spec/v1
oid sha256:00816a0ade2efaaa5f67489ff86845ad2ba37d32b4faf0609be0198640dafdf0
size 102137
