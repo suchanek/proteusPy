version https://git-lfs.github.com/spec/v1
oid sha256:29448e61a813d9e110338df4844242a22a2d189d46aacf7a112dd744461957fa
size 83743
