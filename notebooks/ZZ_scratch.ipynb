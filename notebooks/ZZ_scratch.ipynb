version https://git-lfs.github.com/spec/v1
oid sha256:c06a619cbb3ca6b117a369492fc7496be3a2c42730693c0b2191607ea4bb40eb
size 314680
