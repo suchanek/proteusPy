{
 "cells": [
  {
   "attachments": {},
   "cell_type": "markdown",
   "metadata": {},
   "source": [
    "### Python Preamble"
   ]
  },
  {
   "cell_type": "code",
   "execution_count": null,
   "metadata": {},
   "outputs": [],
   "source": [
    "# Disulfide Bond Analysis\n",
    "# Author: Eric G. Suchanek, PhD.\n",
    "# Last revision: 12/16/22 -egs-\n",
    "# Cα Cβ Sγ\n",
    "\n",
    "%matplotlib inline\n",
    "import matplotlib\n",
    "import matplotlib.pyplot as plt\n",
    "import plotly_express as px\n",
    "\n",
    "import proteusPy\n",
    "from proteusPy import *\n",
    "from proteusPy.disulfide import *\n",
    "from proteusPy.proteusGlobals import *\n",
    "\n",
    "import pandas as pd\n",
    "\n",
    "import pyvista as pv\n",
    "from pyvista import set_plot_theme\n",
    "\n",
    "pv.set_jupyter_backend('ipyvtklink')\n",
    "set_plot_theme('document')\n",
    "\n",
    "\n",
    "# the locations below represent the actual location on the dev drive.\n",
    "# location for PDB repository\n",
    "PDB_BASE = '/Users/egs/PDB/'\n",
    "\n",
    "# location of cleaned PDB files\n",
    "PDB = '/Users/egs/PDB/good/'\n",
    "\n",
    "# location of the compressed Disulfide .pkl files\n",
    "MODELS = f'{PDB_BASE}models/'\n"
   ]
  },
  {
   "attachments": {},
   "cell_type": "markdown",
   "metadata": {},
   "source": [
    "# Analysis of Disulfide Bonds in Proteins Within the RCSB Protein Data Bank\n",
    "*Eric G. Suchanek, PhD. (suchanek@mac.com)* <br> <br>\n",
    "\n",
    "## Summary\n",
    "I describe the results of a structural analysis of Disulfide bonds contained in 36,362 proteins within the RCSB Protein databank, https://www.rcsb.org. These protein structures contained 294,478 Disulfide Bonds.  The analysis utilizes Python functions from my ``ProteusPy`` package https://github.com/suchanek/proteusPy/, which is built upon the excellent ``BioPython`` library (https://www.biopython.org). \n",
    "\n",
    "This work represents a reprise of my original Disulfide modeling analysis conducted in 1986 ([publications](#publications) item 1) as part of my dissertation. Given the original Disulfide database contained only 2xx Disulfide Bonds I felt it would be interesting to revisit the RCSB and mine the thousands of new structures. The initial results are described in the cells below.\n",
    "\n",
    "### Requirements\n",
    " - Biopython patched version, or my delta applied\n",
    " - proteusPy: https://github.com/suchanek/proteusPy/\n",
    "\n",
    "## Introduction\n",
    "Disulfide bonds are important covalent stabilizing elements in proteins. They are formed when two Sulphur-containing Cysteine (Cys) amino acid residues are close enough and in the correct geometry to form a S-S covalent bond with their terminal sidechain Sγ atoms. Disulfide bonds most commonly occur between alpha helices and greatly enhance a protein's stability to denaturation. \n"
   ]
  },
  {
   "attachments": {},
   "cell_type": "markdown",
   "metadata": {},
   "source": [
    "## Download PDB Files containing Disulfide Bonds"
   ]
  },
  {
   "attachments": {},
   "cell_type": "markdown",
   "metadata": {},
   "source": [
    "The RCSB query yielded "
   ]
  },
  {
   "cell_type": "code",
   "execution_count": null,
   "metadata": {},
   "outputs": [],
   "source": [
    "\n",
    "# DownloadDisulfides(pdb_home=PDB_BASE, model_home=MODELS, reset=False)\n"
   ]
  },
  {
   "attachments": {},
   "cell_type": "markdown",
   "metadata": {},
   "source": [
    "## Extract the Disulfides from the PDB files\n",
    "The function ``ExtractDisulfides()`` processes all the .ent files in ``PDB_DIR`` and creates two .pkl files representing the Disulfide bonds contained in the scanned directory. In addition, a .csv file containing problem IDs is written if any are found. The .pkl files are consumed by the ``DisulfideLoader`` class and are considered private. You'll see numerous warnings during the scan. Files that are unparsable are removed and their IDs are logged to the problem_id.csv file. The default file locations are stored in the file globals.py and are the used by ``DisulfideExtractor()`` in the absence of arguments passed. The Disulfide parser is very stringent and will reject disulfide bonds with missing atoms or disordered atoms.\n",
    "\n",
    "\n",
    "Outputs are saved in ``MODEL_DIR``:\n",
    "1) ``SS_PICKLE_FILE``: The ``DisulfideList`` of ``Disulfide`` objects initialized from the PDB file scan, needed by the ``DisulfideLoader()`` class.\n",
    "2) ``SS_DICT_PICKLE_FILE``: the ``Dict Disulfide`` objects also needed by the ``DisulfideLoader()`` class\n",
    "3) ``PROBLEM_ID_FILE``: a .csv containining the problem ids.\n",
    "\n",
    "In general, the process only needs to be run once for a full scan. Setting the ``numb`` argument to -1 scans the entire directory. Entering a positive number allows parsing a subset of the dataset, which is useful when debugging. Setting ``verbose`` enables verbose messages. Setting ``quiet`` to ``True`` disables all warnings.\n",
    "\n",
    "NB: A extraction of the initial disulfide bond-containing files (> 36000 files) takes about 1.25 hours on a 2020 MacbookPro with M1 Pro chip, 16GB RAM, 1TB SSD. The resulting .pkl files consume approximately 1GB of disk space, and equivalent RAM used when loaded."
   ]
  },
  {
   "cell_type": "code",
   "execution_count": 12,
   "metadata": {},
   "outputs": [
    {
     "name": "stderr",
     "output_type": "stream",
     "text": [
      "100%|█████████████████████████████████████████████| 500/500 [00:50<00:00,  9.82it/s, ID=1hl4, Bad=0]\n"
     ]
    },
    {
     "name": "stdout",
     "output_type": "stream",
     "text": [
      "Saving 4323 Disulfides to file: /Users/egs/PDB/models/PDB_all_ss.pkl\n",
      "Saving 500 Disulfide-containing PDB IDs to file: /Users/egs/PDB/models/PDB_all_ss_dict.pkl\n",
      "Saving torsions to file: /Users/egs/PDB/models/PDB_SS_torsions.csv\n",
      "Disulfide Extraction complete! Elapsed time: 0:00:51.616513 (h:m:s)\n"
     ]
    }
   ],
   "source": [
    "\n",
    "\n",
    "ExtractDisulfides(numb=500, pdbdir=PDB, modeldir=MODELS, verbose=False, quiet=True)\n"
   ]
  },
  {
   "attachments": {},
   "cell_type": "markdown",
   "metadata": {},
   "source": [
    "## Load the Disulfide Data\n",
    "Now that the Disulfides have been extracted and the Disulfide .pkl files have been created we can load them into memory using the DisulfideLoader() class. This class stores the Disulfides internally as a DisulfideList and a dict. Array indexing operations including slicing have been overloaded, enabling straightforward access to the Disulfide bonds, both in aggregate and by residue. After loading the .pkl files the Class creates a Pandas ``DataFrame`` object consisting of the disulfide ID, all sidechain dihedral angles, and the computed Disulfide bond torsional energy.\n",
    "\n",
    "NB: Loading the data takes 2.5 minutes on my MacbookPro. Be patient if it seems to take a long time to load."
   ]
  },
  {
   "cell_type": "code",
   "execution_count": 13,
   "metadata": {},
   "outputs": [
    {
     "name": "stdout",
     "output_type": "stream",
     "text": [
      "Reading disulfides from: /Users/egs/PDB/models/PDB_all_ss.pkl\n",
      "Disulfides Read: 4323\n",
      "Reading disulfide dict from: /Users/egs/PDB/models/PDB_all_ss_dict.pkl\n",
      "Reading Torsion DF /Users/egs/PDB/models/PDB_SS_torsions.csv.\n",
      "Read torsions DF.\n",
      "PDB IDs parsed: 500\n",
      "Total Space Used: 968329 bytes.\n"
     ]
    }
   ],
   "source": [
    "# when running from the repo the local copy of the Disulfides is in ../pdb/models\n",
    "# PDB_BASE = '../pdb/'\n",
    "\n",
    "# location of the compressed Disulfide .pkl files\n",
    "# MODELS = f'{PDB_BASE}models/'\n",
    "\n",
    "PDB_SS = None\n",
    "PDB_SS = DisulfideLoader(verbose=True, modeldir=MODELS)\n"
   ]
  },
  {
   "attachments": {},
   "cell_type": "markdown",
   "metadata": {},
   "source": [
    "## Examine the Disulfide Torsions\n",
    "The disulfide bond's overall conformation is defined by the sidechain dihedral angles $\\chi_{1}$-$\\chi_{5}$. Since the S-S bond has some electron delocalization, it exhibits some double-bond character. As a result, there are two predominant $\\chi_{3}$ conformations at $+90°$ and $-90°$.\n",
    "\n",
    "There are two primary Disulfide conformational families as a reu\n",
    "\n",
    "These values along with the approximate torsional energy are stored in the DisulfideLoader() class. We access them via the ``DisulfideList.getTorsions()`` function.\n",
    "\n",
    "We can get a quick look at their overall statistics using the ``Pandas.describe()`` function.\n"
   ]
  },
  {
   "cell_type": "code",
   "execution_count": 14,
   "metadata": {},
   "outputs": [
    {
     "data": {
      "text/html": [
       "<div>\n",
       "<style scoped>\n",
       "    .dataframe tbody tr th:only-of-type {\n",
       "        vertical-align: middle;\n",
       "    }\n",
       "\n",
       "    .dataframe tbody tr th {\n",
       "        vertical-align: top;\n",
       "    }\n",
       "\n",
       "    .dataframe thead th {\n",
       "        text-align: right;\n",
       "    }\n",
       "</style>\n",
       "<table border=\"1\" class=\"dataframe\">\n",
       "  <thead>\n",
       "    <tr style=\"text-align: right;\">\n",
       "      <th></th>\n",
       "      <th>chi1</th>\n",
       "      <th>chi2</th>\n",
       "      <th>chi3</th>\n",
       "      <th>chi4</th>\n",
       "      <th>chi5</th>\n",
       "      <th>energy</th>\n",
       "      <th>ca_distance</th>\n",
       "    </tr>\n",
       "  </thead>\n",
       "  <tbody>\n",
       "    <tr>\n",
       "      <th>count</th>\n",
       "      <td>4303.000000</td>\n",
       "      <td>4303.000000</td>\n",
       "      <td>4303.000000</td>\n",
       "      <td>4303.000000</td>\n",
       "      <td>4303.000000</td>\n",
       "      <td>4303.000000</td>\n",
       "      <td>4303.000000</td>\n",
       "    </tr>\n",
       "    <tr>\n",
       "      <th>mean</th>\n",
       "      <td>-45.768563</td>\n",
       "      <td>-2.167227</td>\n",
       "      <td>-5.475365</td>\n",
       "      <td>-26.814481</td>\n",
       "      <td>-27.897343</td>\n",
       "      <td>3.634738</td>\n",
       "      <td>5.605145</td>\n",
       "    </tr>\n",
       "    <tr>\n",
       "      <th>std</th>\n",
       "      <td>104.212065</td>\n",
       "      <td>109.130359</td>\n",
       "      <td>93.599283</td>\n",
       "      <td>111.452737</td>\n",
       "      <td>99.153895</td>\n",
       "      <td>2.256216</td>\n",
       "      <td>0.789499</td>\n",
       "    </tr>\n",
       "    <tr>\n",
       "      <th>min</th>\n",
       "      <td>-179.971691</td>\n",
       "      <td>-179.990782</td>\n",
       "      <td>-179.502078</td>\n",
       "      <td>-179.763470</td>\n",
       "      <td>-179.994072</td>\n",
       "      <td>0.494753</td>\n",
       "      <td>2.929105</td>\n",
       "    </tr>\n",
       "    <tr>\n",
       "      <th>25%</th>\n",
       "      <td>-89.502269</td>\n",
       "      <td>-84.568462</td>\n",
       "      <td>-88.727228</td>\n",
       "      <td>-98.743584</td>\n",
       "      <td>-74.434136</td>\n",
       "      <td>2.030440</td>\n",
       "      <td>5.147579</td>\n",
       "    </tr>\n",
       "    <tr>\n",
       "      <th>50%</th>\n",
       "      <td>-63.848807</td>\n",
       "      <td>-53.794270</td>\n",
       "      <td>-66.579844</td>\n",
       "      <td>-68.307785</td>\n",
       "      <td>-59.792761</td>\n",
       "      <td>3.233434</td>\n",
       "      <td>5.697061</td>\n",
       "    </tr>\n",
       "    <tr>\n",
       "      <th>75%</th>\n",
       "      <td>-40.899092</td>\n",
       "      <td>99.411180</td>\n",
       "      <td>93.298158</td>\n",
       "      <td>81.649887</td>\n",
       "      <td>57.986465</td>\n",
       "      <td>4.533398</td>\n",
       "      <td>6.241401</td>\n",
       "    </tr>\n",
       "    <tr>\n",
       "      <th>max</th>\n",
       "      <td>179.945970</td>\n",
       "      <td>179.987671</td>\n",
       "      <td>178.882368</td>\n",
       "      <td>179.973744</td>\n",
       "      <td>179.989896</td>\n",
       "      <td>17.289549</td>\n",
       "      <td>6.995271</td>\n",
       "    </tr>\n",
       "  </tbody>\n",
       "</table>\n",
       "</div>"
      ],
      "text/plain": [
       "              chi1         chi2         chi3         chi4         chi5  \\\n",
       "count  4303.000000  4303.000000  4303.000000  4303.000000  4303.000000   \n",
       "mean    -45.768563    -2.167227    -5.475365   -26.814481   -27.897343   \n",
       "std     104.212065   109.130359    93.599283   111.452737    99.153895   \n",
       "min    -179.971691  -179.990782  -179.502078  -179.763470  -179.994072   \n",
       "25%     -89.502269   -84.568462   -88.727228   -98.743584   -74.434136   \n",
       "50%     -63.848807   -53.794270   -66.579844   -68.307785   -59.792761   \n",
       "75%     -40.899092    99.411180    93.298158    81.649887    57.986465   \n",
       "max     179.945970   179.987671   178.882368   179.973744   179.989896   \n",
       "\n",
       "            energy  ca_distance  \n",
       "count  4303.000000  4303.000000  \n",
       "mean      3.634738     5.605145  \n",
       "std       2.256216     0.789499  \n",
       "min       0.494753     2.929105  \n",
       "25%       2.030440     5.147579  \n",
       "50%       3.233434     5.697061  \n",
       "75%       4.533398     6.241401  \n",
       "max      17.289549     6.995271  "
      ]
     },
     "execution_count": 14,
     "metadata": {},
     "output_type": "execute_result"
    }
   ],
   "source": [
    "#\n",
    "#\n",
    "# split out the left/right handed torsions from the dataframe\n",
    "#\n",
    "# retrieve the torsions dataframe\n",
    "\n",
    "_cols = ['chi1', 'chi2', 'chi3', 'chi4', 'chi5', 'energy', 'ca_distance']\n",
    "\n",
    "_SSdf = PDB_SS.getTorsions()\n",
    "\n",
    "# there are a few structures with bad SSBonds. Their\n",
    "# CA distances are > 7.0. We remove them from consideration\n",
    "# below\n",
    "\n",
    "_far = _SSdf['ca_distance'] >= 7.0\n",
    "_near = _SSdf['ca_distance'] < 7.0\n",
    "_zed = _SSdf['ca_distance'] == 0.0\n",
    "\n",
    "SS_df_zed = _SSdf[_zed].copy()\n",
    "SS_df_Far = _SSdf[_far].copy()\n",
    "SS_df = _SSdf[_near].copy()\n",
    "\n",
    "SS_df = SS_df[_cols].copy()\n",
    "\n",
    "#print(SS_df.head(5))\n",
    "SS_df.describe()\n"
   ]
  },
  {
   "cell_type": "code",
   "execution_count": null,
   "metadata": {},
   "outputs": [],
   "source": [
    "SS_df_Far.describe()"
   ]
  },
  {
   "cell_type": "code",
   "execution_count": null,
   "metadata": {},
   "outputs": [],
   "source": [
    "SS_df_zed"
   ]
  },
  {
   "cell_type": "code",
   "execution_count": null,
   "metadata": {},
   "outputs": [],
   "source": [
    "# make two dataframes containing left handed and right handed disulfides\n",
    "\n",
    "_left = SS_df['chi3'] <= 0.0\n",
    "_right = SS_df['chi3'] > 0.0\n",
    "\n",
    "# left handed and right handed torsion dataframes\n",
    "SS_df_Left = SS_df[_left]\n",
    "SS_df_Right = SS_df[_right]\n",
    "\n",
    "\n",
    "\n"
   ]
  },
  {
   "cell_type": "code",
   "execution_count": null,
   "metadata": {},
   "outputs": [],
   "source": [
    "# routine creates 2 lists  for left-handed and right-handed disulfides \n",
    "ss_list = PDB_SS.getlist()\n",
    "left_handed_SS = DisulfideList([], 'left_handed')\n",
    "right_handed_SS = DisulfideList([], 'right_handed')\n",
    "\n",
    "i = 0\n",
    "\n",
    "for i in range(0, len(ss_list)):\n",
    "    ss = ss_list[i]\n",
    "    if ss.chi3 < 0:\n",
    "        left_handed_SS.append(ss)\n",
    "    else:\n",
    "        right_handed_SS.append(ss)\n",
    "\n",
    "\n",
    "print(f'Left Handed: {len(left_handed_SS)}, Right Handed: {len(right_handed_SS)}')\n",
    "\n"
   ]
  },
  {
   "attachments": {},
   "cell_type": "markdown",
   "metadata": {},
   "source": [
    "## Examining the Torsion Angles\n",
    "\n"
   ]
  },
  {
   "cell_type": "code",
   "execution_count": null,
   "metadata": {},
   "outputs": [],
   "source": [
    "labels = {'value': 'Angle', 'variable': 'Torsion'}\n",
    "cols = ['chi1', 'chi5']\n",
    "data = SS_df[cols].copy()\n",
    "data.set_index('chi1')\n",
    "\n",
    "px.histogram(SS_df, x='chi1', y='chi5', labels=labels, histfunc='avg', nbins=90)\n",
    "#px.histogram(SS_df[cols], labels=labels)\n"
   ]
  },
  {
   "cell_type": "markdown",
   "metadata": {},
   "source": []
  },
  {
   "cell_type": "code",
   "execution_count": null,
   "metadata": {},
   "outputs": [],
   "source": [
    "px.histogram(SS_df, x='chi2', y='chi4', labels=labels, histfunc='avg', nbins=90)"
   ]
  },
  {
   "cell_type": "code",
   "execution_count": null,
   "metadata": {},
   "outputs": [],
   "source": [
    "labels2 = {'value': 'Angle', 'variable': 'Distance'}\n",
    "px.histogram(SS_df, x='ca_distance', labels=labels2, nbins=100)"
   ]
  },
  {
   "cell_type": "code",
   "execution_count": null,
   "metadata": {},
   "outputs": [],
   "source": [
    "\n",
    "SS_df_Far.describe()"
   ]
  },
  {
   "cell_type": "code",
   "execution_count": null,
   "metadata": {},
   "outputs": [],
   "source": [
    "SS_df.describe()"
   ]
  },
  {
   "attachments": {},
   "cell_type": "markdown",
   "metadata": {},
   "source": [
    "We can use a hexbin plot to generate the equivalent of a heatmap to explore the symmetry for the Chi1-Chi5 and Chi2-Chi4 dihedral angles. Since the disulfide bond is symmetric about Chi3 (the S-S bond), one would expect the distribution of Chi1 to be similar to Chi5, and the same with Chi2 and Chi4."
   ]
  },
  {
   "cell_type": "code",
   "execution_count": null,
   "metadata": {},
   "outputs": [],
   "source": [
    "\n",
    "# Set the figure sizes and axis limits.\n",
    "DPI = 220\n",
    "WIDTH = 6.0\n",
    "HEIGHT = 3.0\n",
    "TORMIN = -179.0\n",
    "TORMAX = 180.0\n",
    "GRIDSIZE = 20\n"
   ]
  },
  {
   "cell_type": "code",
   "execution_count": null,
   "metadata": {},
   "outputs": [],
   "source": [
    "x = SS_df['ca_distance']\n",
    "plt.rcParams.update({'font.size': 8})\n",
    "plt.rcParams['text.usetex'] = True\n",
    "\n",
    "fig = plt.figure(figsize=(WIDTH, HEIGHT), dpi=DPI)\n",
    "fig.suptitle(r'$\\chi_{1} - \\chi_{5}$ Symmetry', fontsize=8)\n",
    "\n",
    "ax1= fig.subplots()\n",
    "ax1.set_xlabel(r'Distance')\n",
    "ax1.set_ylabel(r'Frequency')\n",
    "\n",
    "ax1.hist(x)\n",
    "\n",
    "plt.show()\n"
   ]
  },
  {
   "cell_type": "code",
   "execution_count": null,
   "metadata": {},
   "outputs": [],
   "source": [
    "# !!!\n",
    "\n",
    "x = SS_df_Left['chi1']\n",
    "y = SS_df_Left['chi5']\n",
    "\n",
    "x2 = SS_df_Right['chi1']\n",
    "y2 = SS_df_Right['chi5']\n",
    "\n",
    "plt.rcParams.update({'font.size': 8})\n",
    "plt.rcParams['text.usetex'] = True\n",
    "\n",
    "fig = plt.figure(figsize=(WIDTH, HEIGHT), dpi=DPI)\n",
    "\n",
    "ax1, ax2 = fig.subplots(1, 2, sharey=True)\n",
    "\n",
    "fig.suptitle(r'$\\chi_{1} - \\chi_{5}$ Symmetry', fontsize=8)\n",
    "\n",
    "ax1.tick_params(axis='both', which='major', labelsize=6)\n",
    "ax2.tick_params(axis='both', which='major', labelsize=6)\n",
    "\n",
    "ax1.set_xlim(TORMIN-1, TORMAX+1)\n",
    "ax1.set_ylim(TORMIN-1, TORMAX+1)\n",
    "\n",
    "ax1.xaxis.set_ticks(numpy.arange(TORMIN-1, TORMAX+1, 60))\n",
    "\n",
    "ax1.set_xlabel(r'$\\chi_{1 (left-handed)}$')\n",
    "ax1.set_ylabel(r'$\\chi_{5}$')\n",
    "\n",
    "ax1.hexbin(x, y, gridsize=GRIDSIZE, cmap='nipy_spectral')\n",
    "\n",
    "ax2.set_xlim(TORMIN, TORMAX)\n",
    "ax2.set_ylim(TORMIN-1, TORMAX+1)\n",
    "\n",
    "ax2.xaxis.set_ticks(numpy.arange(TORMIN-1, TORMAX+1, 60))\n",
    "\n",
    "ax2.set_xlabel(r'$\\chi_{1 (right-handed)}$')\n",
    "\n",
    "ax2.hexbin(x2, y2, gridsize=GRIDSIZE, cmap='nipy_spectral')\n",
    "\n",
    "plt.show()\n",
    "\n"
   ]
  },
  {
   "attachments": {},
   "cell_type": "markdown",
   "metadata": {},
   "source": [
    "The distributions look extremely similar for both the left-handed and right-handed populations. Let's look at Chi2 and Chi4 to see if this holds true."
   ]
  },
  {
   "cell_type": "code",
   "execution_count": null,
   "metadata": {},
   "outputs": [],
   "source": [
    "x = SS_df_Left['chi2']\n",
    "y = SS_df_Left['chi4']\n",
    "\n",
    "x2 = SS_df_Right['chi2']\n",
    "y2 = SS_df_Right['chi4']\n",
    "\n",
    "plt.rcParams.update({'font.size': 8})\n",
    "plt.rcParams['text.usetex'] = True\n",
    "\n",
    "fig = plt.figure(figsize=(WIDTH, HEIGHT), dpi=DPI)\n",
    "\n",
    "fig.suptitle(r'$\\chi_{2} - \\chi_{4}$ Symmetry', fontsize=8)\n",
    "\n",
    "ax1, ax2 = fig.subplots(1, 2, sharey=False)\n",
    "\n",
    "ax1.tick_params(axis='both', which='major', labelsize=6)\n",
    "ax2.tick_params(axis='both', which='major', labelsize=6)\n",
    "\n",
    "ax1.set_xlim(TORMIN-1, TORMAX+1)\n",
    "ax1.set_ylim(TORMIN-1, TORMAX+1)\n",
    "ax1.xaxis.set_ticks(numpy.arange(TORMIN-1, TORMAX+1, 60))\n",
    "\n",
    "ax1.set_xlabel(r'$\\chi_{2 (left-handed)}$')\n",
    "ax1.set_ylabel(r'$\\chi_{4}$')\n",
    "\n",
    "ax1.hexbin(x, y, gridsize=GRIDSIZE, cmap='nipy_spectral')\n",
    "\n",
    "ax2.set_xlim(TORMIN, TORMAX)\n",
    "ax2.set_ylim(TORMIN-1, TORMAX+1)\n",
    "ax2.xaxis.set_ticks(numpy.arange(TORMIN-1, TORMAX+1, 60))\n",
    "\n",
    "ax2.set_xlabel(r'$\\chi_{2 (right-handed)}$')\n",
    "ax2.hexbin(x2, y2, gridsize=GRIDSIZE, cmap='nipy_spectral')\n",
    "\n",
    "plt.show()\n",
    "\n"
   ]
  },
  {
   "attachments": {},
   "cell_type": "markdown",
   "metadata": {},
   "source": [
    "The distributions for left/right show distinct differences. Both show the predicted minimum around -75 degrees, but the right-handed group shows a population of disfuldies in the +90 degree range."
   ]
  },
  {
   "cell_type": "markdown",
   "metadata": {},
   "source": []
  },
  {
   "cell_type": "code",
   "execution_count": null,
   "metadata": {},
   "outputs": [],
   "source": [
    "#\n",
    "\n",
    "fig = plt.figure(figsize=(WIDTH, HEIGHT), dpi=DPI)\n",
    "ax1 = plt.subplot(111)\n",
    "\n",
    "x = SS_df['chi3']\n",
    "y = SS_df['energy']\n",
    "\n",
    "ymax = 10.0\n",
    "plt.hexbin(x, y, gridsize=40, cmap='nipy_spectral')\n",
    "ax1.set_xlim(TORMIN-1, TORMAX+1)\n",
    "ax1.set_ylim(y.min(), ymax)\n",
    "ax1.set_xlabel(r'$\\chi_{3}$')\n",
    "ax1.set_ylabel(r'Energy kcal/mol')\n",
    "ax1.set_title(r'Energy vs $\\chi_{3}$')\n",
    "ax1.xaxis.set_ticks(numpy.arange(TORMIN-1, TORMAX+1, 30))\n",
    "\n",
    "plt.show()\n"
   ]
  },
  {
   "cell_type": "code",
   "execution_count": null,
   "metadata": {},
   "outputs": [],
   "source": [
    "#\n",
    "TORMAX = 180 # for left handed (Chi3 < 0)\n",
    "fig = plt.figure(figsize=(WIDTH, HEIGHT), dpi=DPI)\n",
    "ax1 = plt.subplot(111)\n",
    "\n",
    "x = SS_df['chi3']\n",
    "y = SS_df['ca_distance']\n",
    "\n",
    "ymax = 8.0\n",
    "plt.hexbin(x, y, gridsize=80, cmap='nipy_spectral')\n",
    "ax1.set_xlim(TORMIN-1, TORMAX+1)\n",
    "ax1.set_ylim(y.min(), y.max())\n",
    "ax1.set_xlabel(r'$\\chi_{3}$')\n",
    "ax1.set_ylabel(r'C${\\alpha}$ Distance ($\\AA$)')\n",
    "ax1.set_title(r'C${\\alpha}$ Distance vs $\\chi_{3}$')\n",
    "ax1.xaxis.set_ticks(numpy.arange(TORMIN-1, TORMAX+1, 30))\n",
    "\n",
    "plt.show()\n"
   ]
  },
  {
   "cell_type": "markdown",
   "metadata": {},
   "source": []
  },
  {
   "cell_type": "code",
   "execution_count": null,
   "metadata": {},
   "outputs": [],
   "source": [
    "from sklearn.mixture import GaussianMixture\n",
    "n_clusters = 8\n",
    "\n",
    "tor_df = SS_df[['chi1', 'chi2', 'chi3', 'chi4', 'chi5', 'ca_distance']].copy()\n",
    "tor_df.head(1)\n",
    "gmm_model = GaussianMixture(n_components=n_clusters)\n",
    "gmm_model.fit(tor_df)\n",
    "\n"
   ]
  },
  {
   "cell_type": "code",
   "execution_count": null,
   "metadata": {},
   "outputs": [],
   "source": [
    "cluster_labels = gmm_model.predict(tor_df)\n",
    "X = pd.DataFrame(tor_df)\n",
    "X['cluster'] = cluster_labels"
   ]
  },
  {
   "cell_type": "code",
   "execution_count": null,
   "metadata": {},
   "outputs": [],
   "source": [
    "for k in range(n_clusters):\n",
    "    data = X[X['cluster'] == k]\n",
    "    plt.scatter(data['chi3'], data['ca_distance'], s=2)\n",
    "    "
   ]
  },
  {
   "cell_type": "code",
   "execution_count": null,
   "metadata": {},
   "outputs": [],
   "source": [
    "# takes over an hour for full dataset\n",
    "from sklearn.cluster import SpectralClustering\n",
    "n_clusters = 4\n",
    "\n",
    "tor_df = SS_df.copy()\n",
    "X = tor_df.copy()\n",
    "\n",
    "scm_model = SpectralClustering(n_clusters=n_clusters, random_state=25,\n",
    "                                n_neighbors=8, affinity='nearest_neighbors')\n",
    "# takes 51 min with full dataset\n",
    "X['cluster'] = scm_model.fit_predict(X[['chi3', 'ca_distance']])\n",
    "SS_df.head(1)\n"
   ]
  },
  {
   "cell_type": "code",
   "execution_count": null,
   "metadata": {},
   "outputs": [],
   "source": [
    "import seaborn as sns\n",
    "\n",
    "fig, ax = plt.subplots()\n",
    "ax.set(title='Spectral Clustering')\n",
    "sns.scatterplot(x='chi3', y='ca_distance', data=X, hue='cluster', ax=ax, size=2)\n",
    "\n"
   ]
  },
  {
   "cell_type": "code",
   "execution_count": null,
   "metadata": {},
   "outputs": [],
   "source": []
  },
  {
   "cell_type": "code",
   "execution_count": null,
   "metadata": {},
   "outputs": [],
   "source": []
  },
  {
   "cell_type": "code",
   "execution_count": null,
   "metadata": {},
   "outputs": [],
   "source": []
  },
  {
   "cell_type": "code",
   "execution_count": null,
   "metadata": {},
   "outputs": [],
   "source": [
    "labels = {'value': 'Chi3', 'variable': 'Variable'}\n",
    "\n",
    "x = SS_df['chi3']\n",
    "y = SS_df['energy']\n",
    "df = SS_df[['chi3', 'energy']].copy()\n",
    "\n",
    "energy_hist = numpy.histogram2d(x, y=y, bins=360)\n",
    "energy_hist = energy_hist\n",
    "\n",
    "fig = px.histogram(df, labels=labels)\n",
    "\n",
    "fig.show()"
   ]
  },
  {
   "cell_type": "code",
   "execution_count": null,
   "metadata": {},
   "outputs": [],
   "source": [
    "cols = ['chi1', 'chi5']\n",
    "px.histogram(SS_df[cols], labels=labels)"
   ]
  },
  {
   "cell_type": "code",
   "execution_count": null,
   "metadata": {},
   "outputs": [],
   "source": [
    "cols = ['chi2', 'chi4']\n",
    "px.histogram(SS_df[cols], labels=labels)"
   ]
  },
  {
   "cell_type": "markdown",
   "metadata": {},
   "source": []
  },
  {
   "cell_type": "code",
   "execution_count": null,
   "metadata": {},
   "outputs": [],
   "source": [
    "px.histogram(SS_df['chi3'], labels=labels)"
   ]
  },
  {
   "attachments": {},
   "cell_type": "markdown",
   "metadata": {},
   "source": [
    "## Summary\n",
    "Conformational analysis of 294,222 disulfide bonds in 36,362 proteins contained in the RCSB confirms the predominant conformational classes first described in my initial analysis:\n",
    "- Left-Handed Spiral\n",
    "- Right-Handed Hook\n",
    "- Left-Handed Spiral\n",
    "  "
   ]
  },
  {
   "attachments": {},
   "cell_type": "markdown",
   "metadata": {},
   "source": [
    "## Publications\n",
    "* https://doi.org/10.1021/bi00368a023\n",
    "* https://doi.org/10.1021/bi00368a024\n",
    "* https://doi.org/10.1016/0092-8674(92)90140-8\n",
    "* http://dx.doi.org/10.2174/092986708783330566"
   ]
  },
  {
   "cell_type": "code",
   "execution_count": null,
   "metadata": {},
   "outputs": [],
   "source": []
  },
  {
   "cell_type": "code",
   "execution_count": 18,
   "metadata": {},
   "outputs": [
    {
     "data": {
      "application/vnd.jupyter.widget-view+json": {
       "model_id": "190f398d4ebc4a5383879fe2de2c4f26",
       "version_major": 2,
       "version_minor": 0
      },
      "text/plain": [
       "ViewInteractiveWidget(height=768, layout=Layout(height='auto', width='100%'), width=1024)"
      ]
     },
     "metadata": {},
     "output_type": "display_data"
    }
   ],
   "source": [
    "import pyvista as pv\n",
    "from pyvista import set_plot_theme\n",
    "\n",
    "pv.set_jupyter_backend('ipyvtklink')\n",
    "set_plot_theme('document')\n",
    "\n",
    "from proteusPy.proteusGlobals import ATOM_RADII_COVALENT, ATOM_RADII_CPK, ATOM_COLORS\n",
    "ss1 = PDB_SS[0]\n",
    "\n",
    "def plot_disulfide(ss: Disulfide, cpk=True):\n",
    "    coords = ss1.internal_coords()\n",
    "    atoms = ('N', 'C', 'C', 'O', 'C', 'SG', 'N', 'C', 'C', 'O', 'C', 'SG')\n",
    "    i = 0\n",
    "    p = pv.Plotter()\n",
    "    if cpk:\n",
    "        for atom in atoms:\n",
    "            rad = ATOM_RADII_CPK[atom]\n",
    "            p.add_mesh(pv.Sphere(center=coords[i], radius=rad), color=ATOM_COLORS[atom])\n",
    "            # print(f'Atom: {atom} Coords: {coords[i]} rad: {rad}')\n",
    "            i += 1\n",
    "    return p\n",
    "\n",
    "ssmesh = plot_disulfide(ss1)\n",
    "ssmesh.show()"
   ]
  },
  {
   "cell_type": "code",
   "execution_count": null,
   "metadata": {},
   "outputs": [],
   "source": []
  }
 ],
 "metadata": {
  "kernelspec": {
   "display_name": "Python 3 (ipykernel)",
   "language": "python",
   "name": "python3"
  },
  "language_info": {
   "codemirror_mode": {
    "name": "ipython",
    "version": 3
   },
   "file_extension": ".py",
   "mimetype": "text/x-python",
   "name": "python",
   "nbconvert_exporter": "python",
   "pygments_lexer": "ipython3",
   "version": "3.8.13"
  },
  "vscode": {
   "interpreter": {
    "hash": "2e049c0f63e6b330ae815ad1049a36d20686725ba1cc68cc0aadee0375e172d1"
   }
  }
 },
 "nbformat": 4,
 "nbformat_minor": 4
}
