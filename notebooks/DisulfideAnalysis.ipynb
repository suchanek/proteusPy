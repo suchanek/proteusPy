version https://git-lfs.github.com/spec/v1
oid sha256:6847af477931d206773282ceed3f2b6f53ad13b81a34e1a6b2d78a0b084af307
size 63434
