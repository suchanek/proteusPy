{
 "cells": [
  {
   "cell_type": "markdown",
   "metadata": {},
   "source": [
    "Load the needed libraries"
   ]
  },
  {
   "cell_type": "code",
   "execution_count": 5,
   "metadata": {},
   "outputs": [],
   "source": [
    "# Disulfide Bond Analysis\n",
    "# Author: Eric G. Suchanek, PhD.\n",
    "# Cα Cβ Sγ\n",
    "\n",
    "%matplotlib inline\n",
    "import matplotlib.pyplot as plt\n",
    "import pandas as pd\n",
    "\n",
    "from proteusPy import proteusGlobals\n",
    "from proteusPy.disulfide import Disulfide, DisulfideLoader, Disulfide # classes\n",
    "from proteusPy.disulfide import DownloadDisulfides, DisulfideExtractor\n",
    "\n",
    "PDB = '/Users/egs/PDB/'\n",
    "MODELS = f'{PDB}models/'\n",
    "\n"
   ]
  },
  {
   "attachments": {},
   "cell_type": "markdown",
   "metadata": {},
   "source": [
    "# Analysis of Disulfide Bonds in Proteins Within the RCSB Protein Data Bank\n",
    "*Eric G. Suchanek, PhD. (suchanek@mac.com)* <br> <br>\n",
    "I describe the results of a structural analysis of Disulfide bonds contained in 36,362 proteins containing 294,478 Disulfide Bonds within the RCSB Protein databank, https://www.rcsb.org. The analysis utilizes Python routines from my ``ProteusPy`` package https://github.com/myml/, which is built upon the excellent ``BioPython`` library (https://www.biopython.org). This work is a reprise of my original Disulfide modeling analysis conducted in 1984 (grab my citation). Given the original Disulfide database only 2xx Disulfide Bonds I felt it would be interesting to revisit the RCSB. The initial results are described in the cells below.\n",
    "\n",
    "NB: I extended  ``Biopython.PDB.PDBParser()`` class to parse the ``SSBOND`` records present in the RCSB structure files. As of this writing these changes have not been integrated into the official ``Biopython.PDB`` module. Contact me for more info.\n",
    "\n"
   ]
  },
  {
   "cell_type": "markdown",
   "metadata": {},
   "source": [
    "## Introduction\n",
    "Disulfide bonds are important protein structure stabilizing elements. They are formed when two Sulphur-containing Cysteine (Cys) residues are close enough and in the correct geometry to form a S-S covalent bond with their terminal sidechain Sγ atom. They most commonly occur between alpha helices and greatly enhance a protein's stability to denaturation."
   ]
  },
  {
   "cell_type": "code",
   "execution_count": null,
   "metadata": {},
   "outputs": [],
   "source": []
  },
  {
   "cell_type": "markdown",
   "metadata": {},
   "source": [
    "## Download PDB Files containing Disulfide bonds"
   ]
  },
  {
   "cell_type": "code",
   "execution_count": 10,
   "metadata": {},
   "outputs": [
    {
     "name": "stdout",
     "output_type": "stream",
     "text": [
      "/Users/egs/PDB/models/ss_ids.txt\n",
      "Found: 38215 entries\n"
     ]
    },
    {
     "name": "stderr",
     "output_type": "stream",
     "text": [
      "  1%|▍                                            | 406/38215 [00:01<00:17, 2105.63it/s, Entry=1BWW]"
     ]
    },
    {
     "name": "stdout",
     "output_type": "stream",
     "text": [
      "Desired structure doesn't exists\n"
     ]
    },
    {
     "name": "stderr",
     "output_type": "stream",
     "text": [
      "  3%|█▎                                          | 1185/38215 [00:51<1:04:55,  9.51it/s, Entry=1E9T]"
     ]
    }
   ],
   "source": [
    "\n",
    "DownloadDisulfides(pdb_home=PDB, model_home=MODELS, reset=False)\n"
   ]
  },
  {
   "attachments": {},
   "cell_type": "markdown",
   "metadata": {},
   "source": [
    "## Extract the Disulfides from the PDB files\n",
    "The function ``Disulfide.DisulfideExtractor()`` processes all the .ent files in ``PDB_DIR`` and creates two .pkl files representing the Disulfide bonds contained in the scanned directory. In addition, a .csv file containing problem IDs is written if any are found. The .pkl files are consumed by the ``DisulfideLoader`` class and are considered private. You'll see numerous warnings during the scan. Files that are unparsable are removed and their IDs are logged to the problem_id.csv file. The default file locations are stored in the file globals.py and are the used by ``DisulfideExtractor()`` in the absence of arguments passed. The Disulfide parser is very stringent and will reject disulfide bonds with missing atoms or disordered atoms.\n",
    "\n",
    "A full scan of the initial disulfide bond-containing files (> 36000 files) takes about 1.25 hours on a 2020 MacbookPro with M1 Pro chip. The resulting .pkl files consume approximately 1GB of disk space, and equivalent RAM used when loaded.\n",
    "\n",
    "Outputs are saved in ``MODEL_DIR``:\n",
    "1) ``SS_PICKLE_FILE``: The ``DisulfideList`` of ``Disulfide`` objects initialized from the PDB file scan, needed by the ``DisulfideLoader()`` class.\n",
    "2) ``SS_DICT_PICKLE_FILE``: the ``Dict Disulfide`` objects also needed by the ``DisulfideLoader()`` class\n",
    "3) ``PROBLEM_ID_FILE``: a .csv containining the problem ids.\n",
    "\n",
    "In general, the process only needs to be run once for a full scan. Setting the ``numb`` argument to -1 scans the entire directory. Entering a positive number allows parsing a subset of the dataset, which is useful when debugging. Setting ``verbose`` enables verbose messages. Setting ``quiet`` to ``True`` disables all warnings.\n"
   ]
  },
  {
   "cell_type": "code",
   "execution_count": 9,
   "metadata": {},
   "outputs": [
    {
     "name": "stderr",
     "output_type": "stream",
     "text": [
      " 86%|██████████████████████████████████████▍      | 171/200 [00:10<00:01, 16.45it/s, ID=1bln, Bad=0]\n"
     ]
    },
    {
     "ename": "DisulfideConstructionWarning",
     "evalue": "Invalid or missing coordinates for proximal residue 214",
     "output_type": "error",
     "traceback": [
      "\u001b[0;31m---------------------------------------------------------------------------\u001b[0m",
      "\u001b[0;31mDisulfideConstructionWarning\u001b[0m              Traceback (most recent call last)",
      "Cell \u001b[0;32mIn [9], line 1\u001b[0m\n\u001b[0;32m----> 1\u001b[0m DisulfideExtractor(numb\u001b[39m=\u001b[39;49m\u001b[39m200\u001b[39;49m, pdbdir\u001b[39m=\u001b[39;49mPDB, modeldir\u001b[39m=\u001b[39;49mMODELS, verbose\u001b[39m=\u001b[39;49m\u001b[39mFalse\u001b[39;49;00m, quiet\u001b[39m=\u001b[39;49m\u001b[39mTrue\u001b[39;49;00m)\n",
      "File \u001b[0;32m~/repos/proteusPy/proteusPy/disulfide.py:403\u001b[0m, in \u001b[0;36mDisulfideExtractor\u001b[0;34m(numb, verbose, quiet, pdbdir, modeldir, picklefile, torsionfile, problemfile, dictfile)\u001b[0m\n\u001b[1;32m    401\u001b[0m \u001b[39m# returns an empty list if none are found.\u001b[39;00m\n\u001b[1;32m    402\u001b[0m sslist \u001b[39m=\u001b[39m DisulfideList([], entry)\n\u001b[0;32m--> 403\u001b[0m sslist \u001b[39m=\u001b[39m load_disulfides_from_id(entry, model_numb\u001b[39m=\u001b[39;49m\u001b[39m0\u001b[39;49m, verbose\u001b[39m=\u001b[39;49mverbose, quiet\u001b[39m=\u001b[39;49mquiet, pdb_dir\u001b[39m=\u001b[39;49mpdbdir)\n\u001b[1;32m    404\u001b[0m \u001b[39mif\u001b[39;00m \u001b[39mlen\u001b[39m(sslist) \u001b[39m>\u001b[39m \u001b[39m0\u001b[39m:\n\u001b[1;32m    405\u001b[0m     \u001b[39mfor\u001b[39;00m ss \u001b[39min\u001b[39;00m sslist:\n",
      "File \u001b[0;32m~/repos/proteusPy/proteusPy/disulfide.py:573\u001b[0m, in \u001b[0;36mload_disulfides_from_id\u001b[0;34m(struct_name, pdb_dir, model_numb, verbose, quiet, dbg)\u001b[0m\n\u001b[1;32m    571\u001b[0m         ssbond_name \u001b[39m=\u001b[39m \u001b[39mf\u001b[39m\u001b[39m'\u001b[39m\u001b[39m{\u001b[39;00mstruct_name\u001b[39m}\u001b[39;00m\u001b[39m_\u001b[39m\u001b[39m{\u001b[39;00mproximal\u001b[39m}\u001b[39;00m\u001b[39m{\u001b[39;00mchain1_id\u001b[39m}\u001b[39;00m\u001b[39m_\u001b[39m\u001b[39m{\u001b[39;00mdistal\u001b[39m}\u001b[39;00m\u001b[39m{\u001b[39;00mchain2_id\u001b[39m}\u001b[39;00m\u001b[39m'\u001b[39m       \n\u001b[1;32m    572\u001b[0m         new_ss \u001b[39m=\u001b[39m Disulfide(ssbond_name)\n\u001b[0;32m--> 573\u001b[0m         new_ss\u001b[39m.\u001b[39;49minitialize_disulfide_from_chain(_chaina, _chainb, proximal, distal)\n\u001b[1;32m    574\u001b[0m         SSList\u001b[39m.\u001b[39mappend(new_ss)\n\u001b[1;32m    575\u001b[0m i \u001b[39m+\u001b[39m\u001b[39m=\u001b[39m \u001b[39m1\u001b[39m\n",
      "File \u001b[0;32m~/repos/proteusPy/proteusPy/disulfide.py:1024\u001b[0m, in \u001b[0;36mDisulfide.initialize_disulfide_from_chain\u001b[0;34m(self, chain1, chain2, proximal, distal)\u001b[0m\n\u001b[1;32m   1021\u001b[0m     sg1 \u001b[39m=\u001b[39m prox_residue[\u001b[39m'\u001b[39m\u001b[39mSG\u001b[39m\u001b[39m'\u001b[39m]\u001b[39m.\u001b[39mget_vector()\n\u001b[1;32m   1023\u001b[0m \u001b[39mexcept\u001b[39;00m \u001b[39mException\u001b[39;00m:\n\u001b[0;32m-> 1024\u001b[0m     \u001b[39mraise\u001b[39;00m DisulfideConstructionWarning(\u001b[39mf\u001b[39m\u001b[39m\"\u001b[39m\u001b[39mInvalid or missing coordinates for proximal residue \u001b[39m\u001b[39m{\u001b[39;00mproximal\u001b[39m}\u001b[39;00m\u001b[39m\"\u001b[39m) \u001b[39mfrom\u001b[39;00m \u001b[39mNone\u001b[39m\n\u001b[1;32m   1026\u001b[0m \u001b[39m# distal residue\u001b[39;00m\n\u001b[1;32m   1027\u001b[0m \u001b[39mtry\u001b[39;00m:\n",
      "\u001b[0;31mDisulfideConstructionWarning\u001b[0m: Invalid or missing coordinates for proximal residue 214"
     ]
    }
   ],
   "source": [
    "\n",
    "\n",
    "DisulfideExtractor(numb=-1, pdbdir=PDB, modeldir=MODELS, verbose=True, quiet=True)\n"
   ]
  },
  {
   "attachments": {},
   "cell_type": "markdown",
   "metadata": {},
   "source": [
    "## Load the Disulfide Data\n",
    "Now that the Disulfides have been extracted and the Disulfide .pkl files have been created we can load them into memory using the DisulfideLoader() class. This class stores the Disulfides internally as a DisulfideList and a dict. Array indexing operations including slicing have been overloaded, enabling straightforward access to the Disulfide bonds, both in aggregate and by residue. After loading the .pkl files the Class creates a Pandas ``DataFrame`` object consisting of the disulfide ID, all sidechain dihedral angles, and the computed Disulfide bond torsional energy."
   ]
  },
  {
   "cell_type": "code",
   "execution_count": 7,
   "metadata": {},
   "outputs": [
    {
     "name": "stdout",
     "output_type": "stream",
     "text": [
      "Reading disulfides from: /Users/egs/PDB/models/PDB_all_ss.pkl\n",
      "reading /Users/egs/PDB/models/PDB_all_ss.pkl\n",
      "Disulfides Read: 0\n",
      "Reading disulfide dict from: /Users/egs/PDB/models/PDB_all_ss_dict.pkl\n",
      "Reading Torsion DF /Users/egs/PDB/models/PDB_SS_torsions.csv.\n",
      "Read torsions DF.\n",
      "PDB IDs parsed: 100\n",
      "Total Space Used: 130835 bytes.\n"
     ]
    }
   ],
   "source": [
    "\n",
    "PDB_SS = DisulfideLoader(verbose=True, modeldir=MODELS)\n",
    "\n",
    "\n"
   ]
  },
  {
   "cell_type": "markdown",
   "metadata": {},
   "source": [
    "## Examine the Disulfide Torsions\n",
    "The Disulfide dihedral angles $\\chi_{1}$-$\\chi_{5}$ along with their approximate torsional energy are stored in the DataLoader() class."
   ]
  },
  {
   "cell_type": "code",
   "execution_count": 8,
   "metadata": {},
   "outputs": [
    {
     "data": {
      "text/html": [
       "<div>\n",
       "<style scoped>\n",
       "    .dataframe tbody tr th:only-of-type {\n",
       "        vertical-align: middle;\n",
       "    }\n",
       "\n",
       "    .dataframe tbody tr th {\n",
       "        vertical-align: top;\n",
       "    }\n",
       "\n",
       "    .dataframe thead th {\n",
       "        text-align: right;\n",
       "    }\n",
       "</style>\n",
       "<table border=\"1\" class=\"dataframe\">\n",
       "  <thead>\n",
       "    <tr style=\"text-align: right;\">\n",
       "      <th></th>\n",
       "      <th>chi1</th>\n",
       "      <th>chi2</th>\n",
       "      <th>chi3</th>\n",
       "      <th>chi4</th>\n",
       "      <th>chi5</th>\n",
       "      <th>energy</th>\n",
       "    </tr>\n",
       "  </thead>\n",
       "  <tbody>\n",
       "    <tr>\n",
       "      <th>count</th>\n",
       "      <td>621.000000</td>\n",
       "      <td>621.000000</td>\n",
       "      <td>621.000000</td>\n",
       "      <td>621.000000</td>\n",
       "      <td>621.000000</td>\n",
       "      <td>621.000000</td>\n",
       "    </tr>\n",
       "    <tr>\n",
       "      <th>mean</th>\n",
       "      <td>-52.897125</td>\n",
       "      <td>-21.056410</td>\n",
       "      <td>-10.721894</td>\n",
       "      <td>-27.031889</td>\n",
       "      <td>-38.524326</td>\n",
       "      <td>3.516913</td>\n",
       "    </tr>\n",
       "    <tr>\n",
       "      <th>std</th>\n",
       "      <td>91.763743</td>\n",
       "      <td>99.718289</td>\n",
       "      <td>95.064121</td>\n",
       "      <td>105.279222</td>\n",
       "      <td>92.979765</td>\n",
       "      <td>2.660766</td>\n",
       "    </tr>\n",
       "    <tr>\n",
       "      <th>min</th>\n",
       "      <td>-179.597117</td>\n",
       "      <td>-180.000000</td>\n",
       "      <td>-180.000000</td>\n",
       "      <td>-180.000000</td>\n",
       "      <td>-179.853002</td>\n",
       "      <td>0.521893</td>\n",
       "    </tr>\n",
       "    <tr>\n",
       "      <th>25%</th>\n",
       "      <td>-89.053975</td>\n",
       "      <td>-85.229643</td>\n",
       "      <td>-88.851476</td>\n",
       "      <td>-92.858501</td>\n",
       "      <td>-75.533538</td>\n",
       "      <td>1.733018</td>\n",
       "    </tr>\n",
       "    <tr>\n",
       "      <th>50%</th>\n",
       "      <td>-66.180124</td>\n",
       "      <td>-60.832580</td>\n",
       "      <td>-74.246374</td>\n",
       "      <td>-64.599143</td>\n",
       "      <td>-61.946382</td>\n",
       "      <td>2.978246</td>\n",
       "    </tr>\n",
       "    <tr>\n",
       "      <th>75%</th>\n",
       "      <td>-52.894069</td>\n",
       "      <td>74.502505</td>\n",
       "      <td>92.367481</td>\n",
       "      <td>67.555959</td>\n",
       "      <td>-36.970193</td>\n",
       "      <td>4.173955</td>\n",
       "    </tr>\n",
       "    <tr>\n",
       "      <th>max</th>\n",
       "      <td>179.518053</td>\n",
       "      <td>179.982341</td>\n",
       "      <td>176.448328</td>\n",
       "      <td>179.805857</td>\n",
       "      <td>179.820332</td>\n",
       "      <td>16.127263</td>\n",
       "    </tr>\n",
       "  </tbody>\n",
       "</table>\n",
       "</div>"
      ],
      "text/plain": [
       "             chi1        chi2        chi3        chi4        chi5      energy\n",
       "count  621.000000  621.000000  621.000000  621.000000  621.000000  621.000000\n",
       "mean   -52.897125  -21.056410  -10.721894  -27.031889  -38.524326    3.516913\n",
       "std     91.763743   99.718289   95.064121  105.279222   92.979765    2.660766\n",
       "min   -179.597117 -180.000000 -180.000000 -180.000000 -179.853002    0.521893\n",
       "25%    -89.053975  -85.229643  -88.851476  -92.858501  -75.533538    1.733018\n",
       "50%    -66.180124  -60.832580  -74.246374  -64.599143  -61.946382    2.978246\n",
       "75%    -52.894069   74.502505   92.367481   67.555959  -36.970193    4.173955\n",
       "max    179.518053  179.982341  176.448328  179.805857  179.820332   16.127263"
      ]
     },
     "execution_count": 8,
     "metadata": {},
     "output_type": "execute_result"
    }
   ],
   "source": [
    "SS_df = pd.DataFrame()\n",
    "\n",
    "SS_df = PDB_SS.getTorsions() # retrieve the torsions dataframe\n",
    "SS_df[['chi1', 'chi2', 'chi3', 'chi4', 'chi5', 'energy']].describe()"
   ]
  },
  {
   "cell_type": "code",
   "execution_count": null,
   "metadata": {},
   "outputs": [],
   "source": []
  },
  {
   "cell_type": "code",
   "execution_count": null,
   "metadata": {},
   "outputs": [],
   "source": [
    "import numpy\n",
    "from matplotlib import pyplot\n",
    "\n",
    "bins = numpy.linspace(-180, 180, 100)\n",
    "chi1_data = SS_df['chi1']\n",
    "chi2_data = SS_df['chi2']\n",
    "chi3_data = SS_df['chi3']\n",
    "chi4_data = SS_df['chi4']\n",
    "chi5_data = SS_df['chi5']\n",
    "\n",
    "pyplot.hist(chi1_data, bins, alpha=0.5, label='chi1')\n",
    "pyplot.hist(chi5_data, bins, alpha=0.5, label='chi5')\n",
    "\n",
    "pyplot.legend(loc='upper right')\n",
    "pyplot.show()\n"
   ]
  },
  {
   "cell_type": "code",
   "execution_count": null,
   "metadata": {},
   "outputs": [],
   "source": [
    "pyplot.hist(chi2_data, bins, alpha=0.5, label='chi2')\n",
    "pyplot.hist(chi4_data, bins, alpha=0.5, label='chi4')\n",
    "pyplot.legend(loc='upper right')\n",
    "pyplot.show()\n",
    "\n"
   ]
  },
  {
   "cell_type": "code",
   "execution_count": null,
   "metadata": {},
   "outputs": [],
   "source": [
    "pyplot.hist(chi3_data, bins, alpha=0.5, label='chi3')\n",
    "pyplot.legend(loc='upper right')\n",
    "pyplot.show()\n",
    "\n"
   ]
  },
  {
   "cell_type": "code",
   "execution_count": null,
   "metadata": {},
   "outputs": [],
   "source": []
  },
  {
   "cell_type": "code",
   "execution_count": null,
   "metadata": {},
   "outputs": [],
   "source": []
  },
  {
   "cell_type": "code",
   "execution_count": null,
   "metadata": {},
   "outputs": [],
   "source": []
  }
 ],
 "metadata": {
  "kernelspec": {
   "display_name": "Python 3 (ipykernel)",
   "language": "python",
   "name": "python3"
  },
  "language_info": {
   "codemirror_mode": {
    "name": "ipython",
    "version": 3
   },
   "file_extension": ".py",
   "mimetype": "text/x-python",
   "name": "python",
   "nbconvert_exporter": "python",
   "pygments_lexer": "ipython3",
   "version": "3.8.13"
  },
  "vscode": {
   "interpreter": {
    "hash": "2e049c0f63e6b330ae815ad1049a36d20686725ba1cc68cc0aadee0375e172d1"
   }
  }
 },
 "nbformat": 4,
 "nbformat_minor": 4
}
