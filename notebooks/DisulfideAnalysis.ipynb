{
 "cells": [
  {
   "cell_type": "markdown",
   "metadata": {},
   "source": [
    "### Python Preamble"
   ]
  },
  {
   "cell_type": "code",
   "execution_count": 1,
   "metadata": {},
   "outputs": [],
   "source": [
    "# Analysis of Disulfide Bonds in Proteins of Known Structure \n",
    "# Author: Eric G. Suchanek, PhD.\n",
    "# Last revision: 1/19/23 -egs-\n",
    "# Cα Cβ Sγ\n",
    "\n",
    "import math\n",
    "%matplotlib inline\n",
    "\n",
    "import matplotlib\n",
    "import matplotlib.pyplot as plt\n",
    "\n",
    "import plotly_express as px\n",
    "#import seaborn as sns\n",
    "\n",
    "import proteusPy\n",
    "from proteusPy import *\n",
    "from proteusPy.Disulfide import *\n",
    "\n",
    "from proteusPy.ProteusGlobals import *\n",
    "\n",
    "import pandas as pd\n",
    "import pyvista as pv\n",
    "from pyvista import set_plot_theme\n",
    "#print(pv.Report())\n",
    "\n",
    "plt.style.use('dark_background')\n",
    "\n",
    "# ipyvtklink\n",
    "pv.set_jupyter_backend('ipyvtklink')\n",
    "\n",
    "set_plot_theme('dark')\n",
    "\n",
    "# the locations below represent the actual location on the dev drive.\n",
    "# location for PDB repository\n",
    "PDB_BASE = '/Users/egs/PDB/'\n",
    "\n",
    "# location of cleaned PDB files\n",
    "PDB = '/Users/egs/PDB/good/'\n",
    "\n",
    "# location of the compressed Disulfide .pkl files\n",
    "MODELS = f'{PDB_BASE}data/'\n"
   ]
  },
  {
   "attachments": {},
   "cell_type": "markdown",
   "metadata": {},
   "source": [
    "# Analysis of Disulfide Bonds in Proteins Within the RCSB Protein Data Bank\n",
    "*Eric G. Suchanek, PhD. (suchanek@mac.com)* <br> <br>\n",
    "\n",
    "## Summary\n",
    "I describe the results of a structural analysis of Disulfide bonds contained in 36,362 proteins within the RCSB Protein databank, https://www.rcsb.org. These protein structures contained 291,274 Disulfide Bonds.  The analysis utilizes Python functions from my ``ProteusPy`` package https://github.com/suchanek/proteusPy/, which is built upon the excellent ``BioPython`` library (https://www.biopython.org). \n",
    "\n",
    "This work represents a reprise of my original Disulfide modeling analysis conducted in 1986 ([publications](#publications) item 1) as part of my dissertation. Given the original Disulfide database contained only 2xx Disulfide Bonds I felt it would be interesting to revisit the RCSB and mine the thousands of new structures. The initial results are described in the cells below.\n",
    "\n",
    "## Requirements\n",
    " - Biopython patched version, or my delta applied, available at: https://github.com/suchanek/bio/\n",
    " - proteusPy: https://github.com/suchanek/proteusPy/\n",
    "\n",
    "\n",
    "## Introduction\n",
    "Disulfide bonds are important covalent stabilizing elements in proteins. They are formed when two Sulphur-containing Cysteine (Cys) amino acid residues are close enough and in the correct geometry to form a S-S covalent bond with their terminal sidechain Sγ atoms. Disulfide bonds most commonly occur between alpha helices and greatly enhance a protein's stability to denaturation. \n",
    "\n"
   ]
  },
  {
   "attachments": {},
   "cell_type": "markdown",
   "metadata": {},
   "source": [
    "## Download PDB Files containing Disulfide Bonds\n"
   ]
  },
  {
   "cell_type": "markdown",
   "metadata": {},
   "source": [
    "The RCSB query yielded "
   ]
  },
  {
   "cell_type": "code",
   "execution_count": 2,
   "metadata": {},
   "outputs": [],
   "source": [
    "\n",
    "# Download_Disulfides(pdb_home=PDB_BASE, model_home=MODELS, reset=False)\n"
   ]
  },
  {
   "cell_type": "markdown",
   "metadata": {
    "tags": []
   },
   "source": [
    "## Extract the Disulfides from the PDB files\n",
    "The function ``Extract_Disulfides()`` processes all the .ent files in ``PDB_DIR`` and creates two .pkl files representing the Disulfide bonds contained in the scanned directory. In addition, a .csv file containing problem IDs is written if any are found. The .pkl files are consumed by the ``DisulfideLoader`` class and are considered private. You'll see numerous warnings during the scan. Files that are unparsable are removed and their IDs are logged to the problem_id.csv file. The default file locations are stored in the file globals.py and are the used by ``DisulfideExtractor()`` in the absence of arguments passed. The Disulfide parser is very stringent and will reject disulfide bonds with missing atoms or disordered atoms.\n",
    "\n",
    "\n",
    "Outputs are saved in ``MODEL_DIR``:\n",
    "1) ``SS_PICKLE_FILE``: The ``DisulfideList`` of ``Disulfide`` objects initialized from the PDB file scan, needed by the ``DisulfideLoader()`` class.\n",
    "2) ``SS_DICT_PICKLE_FILE``: the ``Dict Disulfide`` objects also needed by the ``DisulfideLoader()`` class\n",
    "3) ``PROBLEM_ID_FILE``: a .csv containining the problem ids.\n",
    "\n",
    "In general, the process only needs to be run once for a full scan. Setting the ``numb`` argument to -1 scans the entire directory. Entering a positive number allows parsing a subset of the dataset, which is useful when debugging. Setting ``verbose`` enables verbose messages. Setting ``quiet`` to ``True`` disables all warnings.\n",
    "\n",
    "NB: A extraction of the initial disulfide bond-containing files (> 36000 files) takes about 1.25 hours on a 2020 MacbookPro with M1 Pro chip, 16GB RAM, 1TB SSD. The resulting .pkl files consume approximately 1GB of disk space, and equivalent RAM used when loaded."
   ]
  },
  {
   "cell_type": "code",
   "execution_count": 3,
   "metadata": {},
   "outputs": [],
   "source": [
    "\n",
    "\n",
    "#Extract_Disulfides(numb=5000, pdbdir=PDB, datadir=MODELS, verbose=False, quiet=True)\n"
   ]
  },
  {
   "attachments": {},
   "cell_type": "markdown",
   "metadata": {
    "tags": []
   },
   "source": [
    "## Load the Disulfide Data\n",
    "Now that the Disulfides have been extracted and the Disulfide .pkl files have been created we can load them into memory using the DisulfideLoader() class. This class stores the Disulfides internally as a DisulfideList and a dict. Array indexing operations including slicing have been overloaded, enabling straightforward access to the Disulfide bonds, both in aggregate and by residue. After loading the .pkl files the Class creates a Pandas ``DataFrame`` object consisting of the Disulfide ID, all sidechain dihedral angles, the local coordinates for the Disulfide and the computed Disulfide bond torsional energy.\n",
    "\n",
    "NB: Loading the data takes 3.5 minutes on my MacbookPro. Be patient if it seems to take a long time to load.\n",
    "\n",
    "The ```Disulfide``` and ```DisulfideList``` classes include rendering capabiities using the excellent PyVista interface to the VTK package. (http://pyvista.org). The following cell displays the first Disulfide bond in the database in ball-and stick style. Atoms are colored by atom type:\n",
    "- Grey = Carbon\n",
    "- Blue = Nitrogen\n",
    "- Red = Oxygen\n",
    "- Yellow = Sulfur\n",
    "- White = Previous residue carbonyl carbon and next residue amino Nitrogen. (more on this below).\n",
    "\n",
    "The display is interactive; select-drag to rotate, mousewheel to zoom. The X-Y-Z widget in the window upper right allows orientation against the X, Y and Z axes."
   ]
  },
  {
   "cell_type": "code",
   "execution_count": 4,
   "metadata": {},
   "outputs": [
    {
     "name": "stdout",
     "output_type": "stream",
     "text": [
      "Reading disulfides from: /Users/egs/repos/proteusPy/proteusPy/data/PDB_all_ss.pkl\n",
      "Disulfides Read: 291274\n",
      "Reading disulfide dict from: /Users/egs/repos/proteusPy/proteusPy/data/PDB_all_ss_dict.pkl\n",
      "Reading Torsion DF /Users/egs/repos/proteusPy/proteusPy/data/PDB_all_SS_torsions.csv.\n",
      "Read torsions DF.\n",
      "PDB IDs parsed: 35818\n",
      "Total Space Used: 72189092 bytes.\n"
     ]
    }
   ],
   "source": [
    "# when running from the package the local copy of the Disulfides is in proteusPy/data\n",
    "# the location below represent the actual location on the dev drive.\n",
    "# location for PDB repository\n",
    "\n",
    "PDB_BASE = '/Users/egs/PDB/'\n",
    "DATA = f'{PDB_BASE}data/'\n",
    "\n",
    "# default parameters will read from the package itself.\n",
    "PDB_SS = DisulfideLoader(verbose=True, subset=False)\n"
   ]
  },
  {
   "cell_type": "code",
   "execution_count": null,
   "metadata": {
    "collapsed": true,
    "jupyter": {
     "outputs_hidden": true
    },
    "tags": []
   },
   "outputs": [],
   "source": [
    "ss = PDB_SS[0]\n",
    "ss.display(style='sb')"
   ]
  },
  {
   "cell_type": "markdown",
   "metadata": {},
   "source": [
    "## Examine the Disulfide $C_\\alpha-C_\\alpha$ Distances\n",
    "The Disulfide Bond $Cα-Cα$ distances are constrained due to the bond lengths and bond angles of the disulfide bond itself. We can get an overall sense of the protein structure data quality by looking at the distance distribution and removing any disulfides that have unreasonable/physically impossible distances."
   ]
  },
  {
   "cell_type": "code",
   "execution_count": 5,
   "metadata": {},
   "outputs": [
    {
     "data": {
      "text/html": [
       "<div>\n",
       "<style scoped>\n",
       "    .dataframe tbody tr th:only-of-type {\n",
       "        vertical-align: middle;\n",
       "    }\n",
       "\n",
       "    .dataframe tbody tr th {\n",
       "        vertical-align: top;\n",
       "    }\n",
       "\n",
       "    .dataframe thead th {\n",
       "        text-align: right;\n",
       "    }\n",
       "</style>\n",
       "<table border=\"1\" class=\"dataframe\">\n",
       "  <thead>\n",
       "    <tr style=\"text-align: right;\">\n",
       "      <th></th>\n",
       "      <th>proximal</th>\n",
       "      <th>distal</th>\n",
       "      <th>chi1</th>\n",
       "      <th>chi2</th>\n",
       "      <th>chi3</th>\n",
       "      <th>chi4</th>\n",
       "      <th>chi5</th>\n",
       "      <th>energy</th>\n",
       "      <th>ca_distance</th>\n",
       "      <th>phi_prox</th>\n",
       "      <th>psi_prox</th>\n",
       "      <th>phi_dist</th>\n",
       "      <th>psi_dist</th>\n",
       "      <th>torsion_length</th>\n",
       "    </tr>\n",
       "  </thead>\n",
       "  <tbody>\n",
       "    <tr>\n",
       "      <th>count</th>\n",
       "      <td>291036.000000</td>\n",
       "      <td>291036.000000</td>\n",
       "      <td>291036.000000</td>\n",
       "      <td>291036.000000</td>\n",
       "      <td>291036.000000</td>\n",
       "      <td>291036.000000</td>\n",
       "      <td>291036.000000</td>\n",
       "      <td>291036.000000</td>\n",
       "      <td>291036.000000</td>\n",
       "      <td>291036.000000</td>\n",
       "      <td>291036.000000</td>\n",
       "      <td>291036.000000</td>\n",
       "      <td>291036.000000</td>\n",
       "      <td>291036.000000</td>\n",
       "    </tr>\n",
       "    <tr>\n",
       "      <th>mean</th>\n",
       "      <td>234.767689</td>\n",
       "      <td>283.108262</td>\n",
       "      <td>-45.149939</td>\n",
       "      <td>-6.155388</td>\n",
       "      <td>-4.244921</td>\n",
       "      <td>-24.268964</td>\n",
       "      <td>-30.569884</td>\n",
       "      <td>3.679646</td>\n",
       "      <td>5.600978</td>\n",
       "      <td>-100.956781</td>\n",
       "      <td>68.715450</td>\n",
       "      <td>-98.322211</td>\n",
       "      <td>73.183884</td>\n",
       "      <td>231.766563</td>\n",
       "    </tr>\n",
       "    <tr>\n",
       "      <th>std</th>\n",
       "      <td>306.607505</td>\n",
       "      <td>306.589158</td>\n",
       "      <td>103.820522</td>\n",
       "      <td>107.666798</td>\n",
       "      <td>94.112959</td>\n",
       "      <td>110.672643</td>\n",
       "      <td>98.833815</td>\n",
       "      <td>2.380472</td>\n",
       "      <td>0.798962</td>\n",
       "      <td>43.304531</td>\n",
       "      <td>95.594540</td>\n",
       "      <td>42.030143</td>\n",
       "      <td>94.282333</td>\n",
       "      <td>56.095097</td>\n",
       "    </tr>\n",
       "    <tr>\n",
       "      <th>min</th>\n",
       "      <td>1.000000</td>\n",
       "      <td>1.000000</td>\n",
       "      <td>-179.999898</td>\n",
       "      <td>-179.999737</td>\n",
       "      <td>-179.981786</td>\n",
       "      <td>-179.999510</td>\n",
       "      <td>-179.999305</td>\n",
       "      <td>0.491737</td>\n",
       "      <td>2.706247</td>\n",
       "      <td>-180.000000</td>\n",
       "      <td>-180.000000</td>\n",
       "      <td>-180.000000</td>\n",
       "      <td>-180.000000</td>\n",
       "      <td>81.970358</td>\n",
       "    </tr>\n",
       "    <tr>\n",
       "      <th>25%</th>\n",
       "      <td>43.000000</td>\n",
       "      <td>96.000000</td>\n",
       "      <td>-89.231264</td>\n",
       "      <td>-86.699895</td>\n",
       "      <td>-88.160503</td>\n",
       "      <td>-97.634544</td>\n",
       "      <td>-74.407015</td>\n",
       "      <td>2.009650</td>\n",
       "      <td>5.128084</td>\n",
       "      <td>-130.963591</td>\n",
       "      <td>-19.041094</td>\n",
       "      <td>-123.809442</td>\n",
       "      <td>-13.930268</td>\n",
       "      <td>184.696710</td>\n",
       "    </tr>\n",
       "    <tr>\n",
       "      <th>50%</th>\n",
       "      <td>136.000000</td>\n",
       "      <td>194.000000</td>\n",
       "      <td>-64.159197</td>\n",
       "      <td>-54.782160</td>\n",
       "      <td>-65.477042</td>\n",
       "      <td>-67.609434</td>\n",
       "      <td>-59.775671</td>\n",
       "      <td>3.194418</td>\n",
       "      <td>5.691228</td>\n",
       "      <td>-103.732005</td>\n",
       "      <td>115.446198</td>\n",
       "      <td>-100.393796</td>\n",
       "      <td>122.490349</td>\n",
       "      <td>231.083658</td>\n",
       "    </tr>\n",
       "    <tr>\n",
       "      <th>75%</th>\n",
       "      <td>318.000000</td>\n",
       "      <td>361.000000</td>\n",
       "      <td>-41.179107</td>\n",
       "      <td>93.313962</td>\n",
       "      <td>93.476302</td>\n",
       "      <td>81.544748</td>\n",
       "      <td>55.542839</td>\n",
       "      <td>4.509464</td>\n",
       "      <td>6.231533</td>\n",
       "      <td>-71.647179</td>\n",
       "      <td>141.332343</td>\n",
       "      <td>-73.715603</td>\n",
       "      <td>144.719517</td>\n",
       "      <td>271.450085</td>\n",
       "    </tr>\n",
       "    <tr>\n",
       "      <th>max</th>\n",
       "      <td>8025.000000</td>\n",
       "      <td>8080.000000</td>\n",
       "      <td>179.999904</td>\n",
       "      <td>179.998842</td>\n",
       "      <td>179.995070</td>\n",
       "      <td>179.999263</td>\n",
       "      <td>179.999693</td>\n",
       "      <td>19.428531</td>\n",
       "      <td>8.498543</td>\n",
       "      <td>179.970128</td>\n",
       "      <td>179.999324</td>\n",
       "      <td>179.931085</td>\n",
       "      <td>179.999470</td>\n",
       "      <td>381.310941</td>\n",
       "    </tr>\n",
       "  </tbody>\n",
       "</table>\n",
       "</div>"
      ],
      "text/plain": [
       "            proximal         distal           chi1           chi2  \\\n",
       "count  291036.000000  291036.000000  291036.000000  291036.000000   \n",
       "mean      234.767689     283.108262     -45.149939      -6.155388   \n",
       "std       306.607505     306.589158     103.820522     107.666798   \n",
       "min         1.000000       1.000000    -179.999898    -179.999737   \n",
       "25%        43.000000      96.000000     -89.231264     -86.699895   \n",
       "50%       136.000000     194.000000     -64.159197     -54.782160   \n",
       "75%       318.000000     361.000000     -41.179107      93.313962   \n",
       "max      8025.000000    8080.000000     179.999904     179.998842   \n",
       "\n",
       "                chi3           chi4           chi5         energy  \\\n",
       "count  291036.000000  291036.000000  291036.000000  291036.000000   \n",
       "mean       -4.244921     -24.268964     -30.569884       3.679646   \n",
       "std        94.112959     110.672643      98.833815       2.380472   \n",
       "min      -179.981786    -179.999510    -179.999305       0.491737   \n",
       "25%       -88.160503     -97.634544     -74.407015       2.009650   \n",
       "50%       -65.477042     -67.609434     -59.775671       3.194418   \n",
       "75%        93.476302      81.544748      55.542839       4.509464   \n",
       "max       179.995070     179.999263     179.999693      19.428531   \n",
       "\n",
       "         ca_distance       phi_prox       psi_prox       phi_dist  \\\n",
       "count  291036.000000  291036.000000  291036.000000  291036.000000   \n",
       "mean        5.600978    -100.956781      68.715450     -98.322211   \n",
       "std         0.798962      43.304531      95.594540      42.030143   \n",
       "min         2.706247    -180.000000    -180.000000    -180.000000   \n",
       "25%         5.128084    -130.963591     -19.041094    -123.809442   \n",
       "50%         5.691228    -103.732005     115.446198    -100.393796   \n",
       "75%         6.231533     -71.647179     141.332343     -73.715603   \n",
       "max         8.498543     179.970128     179.999324     179.931085   \n",
       "\n",
       "            psi_dist  torsion_length  \n",
       "count  291036.000000   291036.000000  \n",
       "mean       73.183884      231.766563  \n",
       "std        94.282333       56.095097  \n",
       "min      -180.000000       81.970358  \n",
       "25%       -13.930268      184.696710  \n",
       "50%       122.490349      231.083658  \n",
       "75%       144.719517      271.450085  \n",
       "max       179.999470      381.310941  "
      ]
     },
     "execution_count": 5,
     "metadata": {},
     "output_type": "execute_result"
    }
   ],
   "source": [
    "\n",
    "# retrieve the torsions dataframe\n",
    "from proteusPy.Disulfide import Torsion_DF_Cols\n",
    "\n",
    "_SSdf = PDB_SS.getTorsions()\n",
    "# there are a few structures with bad SSBonds. Their\n",
    "# CA distances are > 7.0. We remove them from consideration\n",
    "# below\n",
    "\n",
    "#_far = _SSdf['ca_distance'] >= 9.0\n",
    "_near = _SSdf['ca_distance'] < 9.0\n",
    "\n",
    "#SS_df_Far = _SSdf[_far]\n",
    "\n",
    "# entire database\n",
    "SS_df = _SSdf[_near]\n",
    "\n",
    "SS_df = SS_df[Torsion_DF_Cols].copy()\n",
    "SS_df.describe()\n"
   ]
  },
  {
   "cell_type": "markdown",
   "metadata": {},
   "source": [
    "The average $C_\\alpha$- $C_\\alpha$ distance for the entire dataset is 5.62A , with a minimum distance of 2.71 $\\AA$ and a maximum of 158.8 $\\AA$. Since the latter is not physically possible we should examine the data further to check for additional outliers."
   ]
  },
  {
   "cell_type": "code",
   "execution_count": null,
   "metadata": {},
   "outputs": [],
   "source": [
    "SS_df_Far.describe()"
   ]
  },
  {
   "attachments": {},
   "cell_type": "markdown",
   "metadata": {},
   "source": [
    "Only 236 disulfides have distances >= 9 $\\AA$. Later we will ignore those and only use the disulfides with < 9 $\\AA$. For now let's have a look at the longest disulfide. The ``DisulfideLoader.getTorsions()`` function returns a Dataframe containing these distances. We can sort by distance using Pandas."
   ]
  },
  {
   "cell_type": "code",
   "execution_count": null,
   "metadata": {},
   "outputs": [],
   "source": [
    "# The distances are held in the overall Torsions array. We get this and sort\n",
    "distances = PDB_SS.getTorsions()\n",
    "distances.sort_values(by=['ca_distance'], ascending=False, inplace=True)\n",
    "\n",
    "distances.head(20)"
   ]
  },
  {
   "cell_type": "code",
   "execution_count": null,
   "metadata": {
    "scrolled": true,
    "tags": []
   },
   "outputs": [],
   "source": [
    "#long = PDB_SS.get_by_name('2v0o_147C_273C')\n",
    "#long.display(style='sb')"
   ]
  },
  {
   "cell_type": "code",
   "execution_count": null,
   "metadata": {},
   "outputs": [],
   "source": [
    "long2 = PDB_SS.get_by_name('4bog_142A_130M')\n",
    "#long2.display(style='sb')"
   ]
  },
  {
   "cell_type": "markdown",
   "metadata": {},
   "source": [
    "## Examining Disulfide Energies\n"
   ]
  },
  {
   "cell_type": "code",
   "execution_count": null,
   "metadata": {},
   "outputs": [],
   "source": [
    "labels = {'value': 'Energy', 'variable': 'Count'}\n",
    "cols = ['energy']\n",
    "px.histogram(SS_df['energy'], labels=labels, histnorm='probability', template='plotly_dark')\n"
   ]
  },
  {
   "cell_type": "markdown",
   "metadata": {},
   "source": [
    "### Find the lowest and highest energy disulfides and display them"
   ]
  },
  {
   "cell_type": "code",
   "execution_count": null,
   "metadata": {},
   "outputs": [],
   "source": [
    "# takes 5 min 26 sec\n",
    "\n",
    "All_SS_list = PDB_SS.SSList\n",
    "\n",
    "ssMin, ssMax = PDB_SS.SSList.minmax_energy()\n"
   ]
  },
  {
   "cell_type": "code",
   "execution_count": null,
   "metadata": {},
   "outputs": [],
   "source": [
    "ssMin"
   ]
  },
  {
   "cell_type": "code",
   "execution_count": null,
   "metadata": {},
   "outputs": [],
   "source": [
    "ssMax"
   ]
  },
  {
   "cell_type": "code",
   "execution_count": null,
   "metadata": {
    "collapsed": true,
    "jupyter": {
     "outputs_hidden": true
    },
    "tags": []
   },
   "outputs": [],
   "source": [
    "minmaxlist = DisulfideList([ssMin, ssMax], 'minmax')\n",
    "minmaxlist.display(style='sb')"
   ]
  },
  {
   "cell_type": "markdown",
   "metadata": {},
   "source": [
    "The structure above shows that the previous and next residues have missing atoms (the long vectors drawn)."
   ]
  },
  {
   "cell_type": "code",
   "execution_count": null,
   "metadata": {
    "tags": []
   },
   "outputs": [],
   "source": [
    "SS_df = _SSdf[_near]\n",
    "SS_df = SS_df[Torsion_DF_Cols]\n",
    "\n",
    "SS_df = SS_df.sort_values(by=['energy'])\n",
    "ssid_list = SS_df['ss_id'].values\n",
    "\n",
    "good_SS_list = DisulfideList([],'low_energy')\n",
    "bad_SS_list = DisulfideList([],'high_energy')\n",
    "\n",
    "ss = Disulfide('tmp')\n",
    "\n",
    "# first 12 are lowest energy\n",
    "for i in range(12):\n",
    "    ssid = ssid_list[i]\n",
    "    ss = PDB_SS.get_by_name(ssid)\n",
    "    good_SS_list.append(ss)\n",
    "    \n",
    "for i in range(13):\n",
    "    if i == 0:\n",
    "        continue\n",
    "    ssid = ssid_list[-i]\n",
    "    ss = PDB_SS.get_by_name(ssid)\n",
    "    bad_SS_list.append(ss)\n",
    "    \n"
   ]
  },
  {
   "cell_type": "code",
   "execution_count": null,
   "metadata": {
    "collapsed": true,
    "jupyter": {
     "outputs_hidden": true
    },
    "tags": []
   },
   "outputs": [],
   "source": [
    "bad_SS_list.display(style='sb')\n"
   ]
  },
  {
   "cell_type": "markdown",
   "metadata": {},
   "source": [
    "#bad_SS_list.display(style='sb')\n"
   ]
  },
  {
   "cell_type": "code",
   "execution_count": null,
   "metadata": {},
   "outputs": [],
   "source": [
    "labels = {'value': 'Ca Distance', 'variable': 'Count'}\n",
    "cols = ['ca_distance']\n",
    "data = SS_df[cols].copy()\n",
    "px.histogram(SS_df['ca_distance'], labels=labels, template='plotly_dark')\n",
    "#px.histogram(SS_df[cols], labels=labels)\n"
   ]
  },
  {
   "cell_type": "code",
   "execution_count": null,
   "metadata": {},
   "outputs": [],
   "source": [
    "labels = {'value': 'Distance', 'variable': 'Distance'}\n",
    "cols = ['ca_distance', 'energy']\n",
    "data = SS_df[cols].copy()\n",
    "data.set_index('ca_distance')\n",
    "\n",
    "px.histogram(SS_df, x='chi1', y='chi5', labels=labels, histfunc='avg', nbins=90)\n",
    "px.histogram(SS_df[cols], labels=labels)\n"
   ]
  },
  {
   "cell_type": "markdown",
   "metadata": {},
   "source": [
    "## Examine the Disulfide Torsions\n",
    "The disulfide bond's overall conformation is defined by the sidechain dihedral angles $\\chi_{1}$-$\\chi_{5}$. Since the S-S bond has electron delocalization, it exhibits some double-bond character with strong minima at $+90°$ and $-90°$. The *Left-handed* Disulfides have $\\chi_{3}$ < 0.0° and the *Right-handed* have a $\\chi_{3}$ > 0.0°.\n",
    "\n",
    "These torsion values along with the approximate torsional energy are stored in the DisulfideLoader() class and individually within each Disulfide object. We access them via the ``DisulfideList.getTorsions()`` function.\n",
    "\n",
    "We can get a quick look at their overall statistics using the ``Pandas.describe()`` function.\n",
    "\n"
   ]
  },
  {
   "cell_type": "code",
   "execution_count": null,
   "metadata": {},
   "outputs": [],
   "source": [
    "labels = {'value': 'Angle', 'variable': 'Torsion'}\n",
    "cols = ['chi1', 'chi5']\n",
    "data = SS_df[cols].copy()\n",
    "data.set_index('chi1')\n",
    "\n",
    "px.histogram(SS_df, x='chi1', y='chi5', labels=labels, histfunc='avg', nbins=90)\n",
    "px.histogram(SS_df[cols], labels=labels)\n"
   ]
  },
  {
   "attachments": {},
   "cell_type": "markdown",
   "metadata": {},
   "source": [
    "## Examining torsions by Disulfide Handedness\n",
    "We split the dataset into these two families easily with Pandas."
   ]
  },
  {
   "cell_type": "code",
   "execution_count": null,
   "metadata": {},
   "outputs": [],
   "source": [
    "# make two dataframes containing left handed and right handed disulfides\n",
    "\n",
    "_left = SS_df['chi3'] <= 0.0\n",
    "_right = SS_df['chi3'] > 0.0\n",
    "\n",
    "# left handed and right handed torsion dataframes\n",
    "SS_df_Left = SS_df[_left]\n",
    "SS_df_Right = SS_df[_right]\n"
   ]
  },
  {
   "cell_type": "code",
   "execution_count": null,
   "metadata": {},
   "outputs": [],
   "source": [
    "# routine creates 2 lists  for left-handed and right-handed disulfides \n",
    "\n",
    "ss_list = PDB_SS.SSList\n",
    "left_handed_SS = DisulfideList([], 'left_handed')\n",
    "right_handed_SS = DisulfideList([], 'right_handed')\n",
    "\n",
    "for ss in ss_list:\n",
    "    if ss.chi3 < 0:\n",
    "        left_handed_SS.append(ss)\n",
    "    else:\n",
    "        right_handed_SS.append(ss)\n",
    "\n",
    "print(f'Left Handed: {len(left_handed_SS)}, Right Handed: {len(right_handed_SS)}')\n"
   ]
  },
  {
   "cell_type": "code",
   "execution_count": null,
   "metadata": {},
   "outputs": [],
   "source": [
    "px.histogram(SS_df, x='chi2', y='chi4', labels=labels, histfunc='avg', nbins=90)"
   ]
  },
  {
   "cell_type": "code",
   "execution_count": null,
   "metadata": {},
   "outputs": [],
   "source": [
    "labels2 = {'value': 'Angle', 'variable': 'Distance'}\n",
    "px.histogram(SS_df, x='ca_distance', labels=labels2, nbins=100)"
   ]
  },
  {
   "cell_type": "markdown",
   "metadata": {},
   "source": [
    "We can use a hexbin plot to generate the equivalent of a heatmap to explore the symmetry for the Chi1-Chi5 and Chi2-Chi4 dihedral angles. Since the disulfide bond is symmetric about Chi3 (the S-S bond), one would expect the distribution of Chi1 to be similar to Chi5, and the same with Chi2 and Chi4."
   ]
  },
  {
   "cell_type": "code",
   "execution_count": null,
   "metadata": {},
   "outputs": [],
   "source": [
    "\n",
    "# Set the figure sizes and axis limits.\n",
    "DPI = 220\n",
    "WIDTH = 6.0\n",
    "HEIGHT = 3.0\n",
    "TORMIN = -179.0\n",
    "TORMAX = 180.0\n",
    "GRIDSIZE = 20\n"
   ]
  },
  {
   "cell_type": "code",
   "execution_count": null,
   "metadata": {},
   "outputs": [],
   "source": [
    "x = SS_df['ca_distance']\n",
    "plt.rcParams.update({'font.size': 8})\n",
    "plt.rcParams['text.usetex'] = True\n",
    "\n",
    "fig = plt.figure(figsize=(WIDTH, HEIGHT), dpi=DPI)\n",
    "fig.suptitle(r'$\\chi_{1} - \\chi_{5}$ Symmetry', fontsize=8)\n",
    "\n",
    "ax1= fig.subplots()\n",
    "ax1.set_xlabel(r'Distance')\n",
    "ax1.set_ylabel(r'Frequency')\n",
    "\n",
    "ax1.hist(x)\n",
    "\n",
    "plt.show()\n"
   ]
  },
  {
   "cell_type": "code",
   "execution_count": null,
   "metadata": {},
   "outputs": [],
   "source": [
    "# !!!\n",
    "\n",
    "x = SS_df_Left['chi1']\n",
    "y = SS_df_Left['chi5']\n",
    "\n",
    "x2 = SS_df_Right['chi1']\n",
    "y2 = SS_df_Right['chi5']\n",
    "\n",
    "plt.rcParams.update({'font.size': 8})\n",
    "plt.rcParams['text.usetex'] = True\n",
    "\n",
    "fig = plt.figure(figsize=(WIDTH, HEIGHT), dpi=DPI)\n",
    "\n",
    "ax1, ax2 = fig.subplots(1, 2, sharey=True)\n",
    "\n",
    "fig.suptitle(r'$\\chi_{1} - \\chi_{5}$ Symmetry', fontsize=8)\n",
    "\n",
    "ax1.tick_params(axis='both', which='major', labelsize=6)\n",
    "ax2.tick_params(axis='both', which='major', labelsize=6)\n",
    "\n",
    "ax1.set_xlim(TORMIN-1, TORMAX+1)\n",
    "ax1.set_ylim(TORMIN-1, TORMAX+1)\n",
    "\n",
    "ax1.xaxis.set_ticks(numpy.arange(TORMIN-1, TORMAX+1, 60))\n",
    "\n",
    "ax1.set_xlabel(r'$\\chi_{1 (left-handed)}$')\n",
    "ax1.set_ylabel(r'$\\chi_{5}$')\n",
    "\n",
    "ax1.hexbin(x, y, gridsize=GRIDSIZE, cmap='nipy_spectral')\n",
    "\n",
    "ax2.set_xlim(TORMIN, TORMAX)\n",
    "ax2.set_ylim(TORMIN-1, TORMAX+1)\n",
    "\n",
    "ax2.xaxis.set_ticks(numpy.arange(TORMIN-1, TORMAX+1, 60))\n",
    "\n",
    "ax2.set_xlabel(r'$\\chi_{1 (right-handed)}$')\n",
    "\n",
    "ax2.hexbin(x2, y2, gridsize=GRIDSIZE, cmap='nipy_spectral')\n",
    "\n",
    "plt.show()\n",
    "\n"
   ]
  },
  {
   "cell_type": "markdown",
   "metadata": {},
   "source": [
    "The distributions look extremely similar for both the left-handed and right-handed populations. Let's look at Chi2 and Chi4 to see if this holds true."
   ]
  },
  {
   "cell_type": "code",
   "execution_count": null,
   "metadata": {},
   "outputs": [],
   "source": [
    "x = SS_df_Left['chi2']\n",
    "y = SS_df_Left['chi4']\n",
    "\n",
    "x2 = SS_df_Right['chi2']\n",
    "y2 = SS_df_Right['chi4']\n",
    "\n",
    "plt.rcParams.update({'font.size': 8})\n",
    "plt.rcParams['text.usetex'] = True\n",
    "\n",
    "fig = plt.figure(figsize=(WIDTH, HEIGHT), dpi=DPI)\n",
    "\n",
    "fig.suptitle(r'$\\chi_{2} - \\chi_{4}$ Symmetry', fontsize=8)\n",
    "\n",
    "ax1, ax2 = fig.subplots(1, 2, sharey=False)\n",
    "\n",
    "ax1.tick_params(axis='both', which='major', labelsize=6)\n",
    "ax2.tick_params(axis='both', which='major', labelsize=6)\n",
    "\n",
    "ax1.set_xlim(TORMIN-1, TORMAX+1)\n",
    "ax1.set_ylim(TORMIN-1, TORMAX+1)\n",
    "ax1.xaxis.set_ticks(numpy.arange(TORMIN-1, TORMAX+1, 60))\n",
    "\n",
    "ax1.set_xlabel(r'$\\chi_{2 (left-handed)}$')\n",
    "ax1.set_ylabel(r'$\\chi_{4}$')\n",
    "\n",
    "ax1.hexbin(x, y, gridsize=GRIDSIZE, cmap='nipy_spectral')\n",
    "\n",
    "ax2.set_xlim(TORMIN, TORMAX)\n",
    "ax2.set_ylim(-180, 180)\n",
    "ax2.xaxis.set_ticks(numpy.arange(TORMIN-1, TORMAX+1, 60))\n",
    "\n",
    "ax2.set_xlabel(r'$\\chi_{2 (right-handed)}$')\n",
    "ax2.hexbin(x2, y2, gridsize=GRIDSIZE, cmap='nipy_spectral')\n",
    "\n",
    "plt.show()\n",
    "\n"
   ]
  },
  {
   "cell_type": "markdown",
   "metadata": {},
   "source": [
    "The distributions for left/right show distinct differences. Both show the predicted minimum around -75 degrees, but the right-handed group shows a population of disfuldies in the +90 degree range."
   ]
  },
  {
   "cell_type": "code",
   "execution_count": null,
   "metadata": {},
   "outputs": [],
   "source": [
    "#\n",
    "\n",
    "fig = plt.figure(figsize=(WIDTH, HEIGHT), dpi=DPI)\n",
    "ax1 = plt.subplot(111)\n",
    "\n",
    "x = SS_df['chi3']\n",
    "y = SS_df['energy']\n",
    "\n",
    "ymax = 10.0\n",
    "plt.hexbin(x, y, gridsize=40, cmap='nipy_spectral')\n",
    "ax1.set_xlim(TORMIN-1, TORMAX+1)\n",
    "ax1.set_ylim(y.min(), ymax)\n",
    "ax1.set_xlabel(r'$\\chi_{3}$')\n",
    "ax1.set_ylabel(r'Energy kcal/mol')\n",
    "ax1.set_title(r'Energy vs $\\chi_{3}$')\n",
    "ax1.xaxis.set_ticks(numpy.arange(TORMIN-1, TORMAX+1, 30))\n",
    "\n",
    "plt.show()\n"
   ]
  },
  {
   "cell_type": "code",
   "execution_count": null,
   "metadata": {},
   "outputs": [],
   "source": [
    "#\n",
    "TORMAX = 180 # for left handed (Chi3 < 0)\n",
    "fig = plt.figure(figsize=(WIDTH, HEIGHT), dpi=DPI)\n",
    "ax1 = plt.subplot(111)\n",
    "\n",
    "x = SS_df['chi3']\n",
    "y = SS_df['ca_distance']\n",
    "\n",
    "ymax = 8.0\n",
    "plt.hexbin(x, y, gridsize=80, cmap='nipy_spectral')\n",
    "ax1.set_xlim(TORMIN-1, TORMAX)\n",
    "ax1.set_ylim(y.min(), y.max())\n",
    "ax1.set_xlabel(r'$\\chi_{3}$')\n",
    "ax1.set_ylabel(r'C${\\alpha}$ Distance ($\\AA$)')\n",
    "ax1.set_title(r'C${\\alpha}$ Distance vs $\\chi_{3}$')\n",
    "ax1.xaxis.set_ticks(numpy.arange(TORMIN-1, TORMAX+1, 30))\n",
    "\n",
    "plt.show()\n"
   ]
  },
  {
   "cell_type": "markdown",
   "metadata": {},
   "source": []
  },
  {
   "cell_type": "code",
   "execution_count": null,
   "metadata": {},
   "outputs": [],
   "source": []
  },
  {
   "cell_type": "code",
   "execution_count": null,
   "metadata": {},
   "outputs": [],
   "source": [
    "from sklearn.mixture import GaussianMixture\n",
    "n_clusters = 4\n",
    "\n",
    "_cols = ['chi1', 'chi2', 'chi3', 'chi4', 'chi5', 'torsion_length', 'energy', 'ca_distance']\n",
    "\n",
    "tor_df = SS_df[_cols]\n",
    "tor_df.head(1)\n",
    "gmm_model = GaussianMixture(n_components=n_clusters)\n",
    "gmm_model.fit(tor_df)\n",
    "cluster_labels = gmm_model.predict(tor_df)\n",
    "X = pd.DataFrame(tor_df)\n",
    "X['cluster'] = cluster_labels\n",
    "for k in range(n_clusters):\n",
    "    data = X[X['cluster'] == k]\n",
    "    plt.scatter(data['torsion_length'], data['ca_distance'], s=2)\n",
    "\n",
    "plt.show()\n",
    "\n"
   ]
  },
  {
   "cell_type": "code",
   "execution_count": null,
   "metadata": {},
   "outputs": [],
   "source": [
    "SS_df.head()"
   ]
  },
  {
   "cell_type": "code",
   "execution_count": null,
   "metadata": {},
   "outputs": [],
   "source": [
    "# takes over an hour for full dataset\n",
    "from sklearn.cluster import SpectralClustering\n",
    "import seaborn as sns\n",
    "\n",
    "_cols = ['chi1', 'chi2', 'chi3', 'chi4', 'chi5', 'torsion_length']\n",
    "#cols = ['ca_distance', 'chi3', 'energy', 'torsion_length']\n",
    "\n",
    "# tor_df = SS_df[['chi1', 'chi2', 'chi3', 'chi4', 'chi5']].copy()\n",
    "\n",
    "tor_df = SS_df[_cols].copy()\n",
    "\n",
    "X = tor_df\n",
    "n_clusters = 4\n",
    "\n",
    "scm_model = SpectralClustering(n_clusters=n_clusters, random_state=25,\n",
    "                                n_neighbors=8, affinity='nearest_neighbors')\n",
    "# takes 51 min with full dataset\n",
    "X['cluster'] = scm_model.fit_predict(X[['torsion_length']])\n",
    "\n",
    "fig, ax = plt.subplots()\n",
    "ax.set(title='Spectral Clustering')\n",
    "sns.scatterplot(x='chi3', y='torsion_length', data=X, hue='cluster', ax=ax, size=2)\n"
   ]
  },
  {
   "cell_type": "code",
   "execution_count": null,
   "metadata": {},
   "outputs": [],
   "source": [
    "# takes over an hour for full dataset\n",
    "from sklearn.cluster import AffinityPropagation\n",
    "import seaborn as sns\n",
    "n_clusters = 8\n",
    "\n",
    "_cols = ['chi1', 'chi2', 'chi3', 'chi4', 'chi5', 'torsion_length']\n",
    "tor_df = SS_df[_cols].copy()\n",
    "\n",
    "X = tor_df.copy()\n",
    "\n",
    "aff_model = AffinityPropagation(max_iter=100, random_state=25)\n",
    "# takes 51 min with full dataset\n",
    "X['cluster'] = aff_model.fit_predict(X[['torsion_length']])\n",
    "\n",
    "fig, ax = plt.subplots()\n",
    "ax.set(title='Affinity Propagation')\n",
    "sns.scatterplot(x='chi1', y='chi5', data=X, hue='cluster', ax=ax, size=2)\n"
   ]
  },
  {
   "cell_type": "code",
   "execution_count": null,
   "metadata": {},
   "outputs": [],
   "source": [
    "# takes over an hour for full dataset\n",
    "from sklearn.cluster import AgglomerativeClustering\n",
    "n_clusters = 16\n",
    "custom_palette = sns.color_palette(\"Dark2\", n_clusters)\n",
    "\n",
    "n_clusters = 4\n",
    "\n",
    "tor_df = SS_df[['chi1', 'chi2', 'chi3', 'chi4', 'chi5', 'torsion_length']].copy()\n",
    "X = tor_df.copy()\n",
    "\n",
    "agg_model = AgglomerativeClustering(n_clusters=n_clusters)\n",
    "\n",
    "X['cluster'] = agg_model.fit_predict(X[['chi1', 'chi5']])\n",
    "\n",
    "fig, ax = plt.subplots()\n",
    "ax.set(title='Agglomerative Clustering')\n",
    "sns.scatterplot(x='chi1', y='chi5', data=X, hue='cluster', ax=ax, size=2, palette=custom_palette)\n"
   ]
  },
  {
   "cell_type": "code",
   "execution_count": null,
   "metadata": {},
   "outputs": [],
   "source": [
    "labels = {'value': 'Chi3', 'variable': 'Variable'}\n",
    "\n",
    "x = SS_df['chi3']\n",
    "y = SS_df['energy']\n",
    "df = SS_df[['chi3', 'energy']].copy()\n",
    "\n",
    "energy_hist = numpy.histogram2d(x, y=y, bins=360)\n",
    "energy_hist = energy_hist\n",
    "\n",
    "fig = px.histogram(df, labels=labels)\n",
    "\n",
    "fig.show()"
   ]
  },
  {
   "cell_type": "code",
   "execution_count": null,
   "metadata": {},
   "outputs": [],
   "source": [
    "cols = ['chi1', 'chi5']\n",
    "px.histogram(SS_df[cols], labels=labels)"
   ]
  },
  {
   "cell_type": "code",
   "execution_count": null,
   "metadata": {},
   "outputs": [],
   "source": [
    "cols = ['chi2', 'chi4']\n",
    "px.histogram(SS_df[cols], labels=labels)"
   ]
  },
  {
   "cell_type": "markdown",
   "metadata": {},
   "source": []
  },
  {
   "cell_type": "code",
   "execution_count": null,
   "metadata": {},
   "outputs": [],
   "source": [
    "px.histogram(SS_df['chi3'], labels=labels)"
   ]
  },
  {
   "attachments": {},
   "cell_type": "markdown",
   "metadata": {},
   "source": [
    "## Examining Disulfide Conformational Families\n",
    "Richardson et al characterized two principal conformational families for Disulfide bonds, a *Left Handed Spiral* with dihedral angles around, -60, -90, -90, -90, -60 and a *Right Handed Hook* with dihedrals, -60, 120, 90, -50, -60. My research found another class, the *Left Handed Hook* with dihedrals x, x, x, x, x. We can easily examine the representative neighbors of these families using one of the nearest neighbor functions available through the ```Disulfide``` class."
   ]
  },
  {
   "cell_type": "code",
   "execution_count": 6,
   "metadata": {},
   "outputs": [
    {
     "data": {
      "text/plain": [
       "193"
      ]
     },
     "execution_count": 6,
     "metadata": {},
     "output_type": "execute_result"
    }
   ],
   "source": [
    "\n",
    "# retrieve the torsions dataframe\n",
    "from proteusPy.Disulfide import Torsion_DF_Cols\n",
    "\n",
    "_SSdf = PDB_SS.getTorsions()\n",
    "\n",
    "# there are a few structures with bad SSBonds. Their\n",
    "# CA distances are > 7.0. We remove them from consideration\n",
    "# below\n",
    "\n",
    "_near = _SSdf['ca_distance'] < 9.0\n",
    "\n",
    "# entire database\n",
    "SS_df = _SSdf[_near]\n",
    "\n",
    "SS_df = SS_df[Torsion_DF_Cols].copy()\n",
    "SS_df.describe()\n",
    "\n",
    "sslist = PDB_SS.SSList\n",
    "LHS_neighbors = sslist.nearest_neighbors(-60, -90, -90, -90, -60, 15.0)\n",
    "LHS_neighbors.length"
   ]
  },
  {
   "cell_type": "code",
   "execution_count": 6,
   "metadata": {},
   "outputs": [
    {
     "name": "stderr",
     "output_type": "stream",
     "text": [
      "100%|██████████████████████████████████████████████████████████████████| 193/193 [00:24<00:00,  7.86it/s]\n"
     ]
    },
    {
     "data": {
      "application/vnd.jupyter.widget-view+json": {
       "model_id": "c0247a2613524b1b807b392dc607b8b9",
       "version_major": 2,
       "version_minor": 0
      },
      "text/plain": [
       "ViewInteractiveWidget(height=1024, layout=Layout(height='auto', width='100%'), width=1024)"
      ]
     },
     "metadata": {},
     "output_type": "display_data"
    }
   ],
   "source": [
    "LHS_neighbors.display_overlay(light=False)"
   ]
  },
  {
   "cell_type": "code",
   "execution_count": null,
   "metadata": {},
   "outputs": [],
   "source": [
    "sslist = PDB_SS.SSList\n",
    "RHH_neighbors = sslist.nearest_neighbors(-60, 120, 90, -50, -60, 30)\n",
    "RHH_neighbors.length"
   ]
  },
  {
   "cell_type": "code",
   "execution_count": null,
   "metadata": {},
   "outputs": [],
   "source": [
    "RHH_neighbors.display_overlay(light=False)"
   ]
  },
  {
   "cell_type": "markdown",
   "metadata": {},
   "source": [
    "## Summary\n",
    "Conformational analysis of 294,222 disulfide bonds in 36,362 proteins contained in the RCSB confirms the predominant conformational classes first described in my initial analysis:\n",
    "- Left-Handed Spiral\n",
    "- Right-Handed Hook\n",
    "- Left-Handed Spiral\n",
    "  "
   ]
  },
  {
   "cell_type": "markdown",
   "metadata": {},
   "source": [
    "## Publications\n",
    "* https://doi.org/10.1021/bi00368a023\n",
    "* https://doi.org/10.1021/bi00368a024\n",
    "* https://doi.org/10.1016/0092-8674(92)90140-8\n",
    "* http://dx.doi.org/10.2174/092986708783330566"
   ]
  },
  {
   "cell_type": "markdown",
   "metadata": {},
   "source": [
    "## Distribution of Backbone Dihedral Angles $\\phi - \\psi$"
   ]
  },
  {
   "cell_type": "markdown",
   "metadata": {},
   "source": [
    "A protein's backbone conformation is defined by the dihdedral angles $\\phi$ and $\\psi$. The ```proteusPy.Disulfide.ExtractDisulfides()``` function computes these at time of Disulfide extraction."
   ]
  },
  {
   "cell_type": "code",
   "execution_count": null,
   "metadata": {},
   "outputs": [],
   "source": []
  },
  {
   "cell_type": "code",
   "execution_count": null,
   "metadata": {},
   "outputs": [],
   "source": [
    "GRIDSIZE=40\n",
    "\n",
    "x = SS_df['phi_prox']\n",
    "y = SS_df['psi_prox']\n",
    "\n",
    "x2 = SS_df['phi_dist']\n",
    "y2 = SS_df['psi_dist']\n",
    "\n",
    "plt.rcParams.update({'font.size': 8})\n",
    "plt.rcParams['text.usetex'] = True\n",
    "\n",
    "fig = plt.figure(figsize=(WIDTH, HEIGHT), dpi=DPI)\n",
    "\n",
    "fig.suptitle(r'RCSB Disulfide Bond $\\phi - \\psi$ Dihedral Angles', fontsize=8)\n",
    "\n",
    "ax1, ax2 = fig.subplots(1, 2, sharey=False)\n",
    "\n",
    "ax1.tick_params(axis='both', which='major', labelsize=6)\n",
    "ax2.tick_params(axis='both', which='major', labelsize=6)\n",
    "\n",
    "ax1.set_xlim(TORMIN-1, TORMAX+1)\n",
    "ax1.set_ylim(TORMIN-1, TORMAX+1)\n",
    "ax1.xaxis.set_ticks(numpy.arange(TORMIN-1, TORMAX+1, 60))\n",
    "\n",
    "ax1.set_xlabel(r'$\\phi$ Proximal')\n",
    "ax1.set_ylabel(r'$\\psi$')\n",
    "\n",
    "ax1.hexbin(x, y, gridsize=GRIDSIZE, cmap='nipy_spectral')\n",
    "\n",
    "ax2.set_xlim(TORMIN, TORMAX)\n",
    "ax2.set_ylim(-180, 180)\n",
    "ax2.xaxis.set_ticks(numpy.arange(TORMIN-1, TORMAX+1, 60))\n",
    "\n",
    "ax2.set_xlabel(r'$\\phi$ Distal')\n",
    "ax2.hexbin(x2, y2, gridsize=GRIDSIZE, cmap='nipy_spectral')\n",
    "\n",
    "plt.show()\n",
    "\n"
   ]
  },
  {
   "cell_type": "code",
   "execution_count": null,
   "metadata": {},
   "outputs": [],
   "source": []
  }
 ],
 "metadata": {
  "kernelspec": {
   "display_name": "proteus",
   "language": "python",
   "name": "python3"
  },
  "language_info": {
   "codemirror_mode": {
    "name": "ipython",
    "version": 3
   },
   "file_extension": ".py",
   "mimetype": "text/x-python",
   "name": "python",
   "nbconvert_exporter": "python",
   "pygments_lexer": "ipython3",
   "version": "3.9.15"
  },
  "vscode": {
   "interpreter": {
    "hash": "67eff1aa11768869f1d52cc83ff6f6101b62fd1ade35be784bd3767ddc8bd460"
   }
  }
 },
 "nbformat": 4,
 "nbformat_minor": 4
}
