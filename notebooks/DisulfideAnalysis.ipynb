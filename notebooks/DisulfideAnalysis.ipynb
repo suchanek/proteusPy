{
 "cells": [
  {
   "cell_type": "markdown",
   "metadata": {},
   "source": [
    "Load the needed libraries"
   ]
  },
  {
   "cell_type": "code",
   "execution_count": 1,
   "metadata": {},
   "outputs": [],
   "source": [
    "# Disulfide Bond Analysis\n",
    "# Author: Eric G. Suchanek, PhD.\n",
    "# Cα Cβ Sγ\n",
    "\n",
    "%matplotlib inline\n",
    "import matplotlib.pyplot as plt\n",
    "\n",
    "import pandas as pd\n",
    "from Bio.PDB import *\n",
    "\n",
    "import proteusPy\n",
    "from proteusPy.disulfide import *\n",
    "\n",
    "\n",
    "from proteusPy import proteusGlobals, Disulfide, DisulfideLoader # classes\n",
    "# from proteusPy.disulfide import DisulfideExtractor\n",
    "\n",
    "PDB = '/Users/egs/PDB/'\n",
    "MODELS = f'{PDB}models/'\n",
    "\n"
   ]
  },
  {
   "attachments": {},
   "cell_type": "markdown",
   "metadata": {},
   "source": [
    "# Analysis of Disulfide Bonds in Proteins Within the RCSB Protein Data Bank\n",
    "*Eric G. Suchanek, PhD. (suchanek@mac.com)* <br> <br>\n",
    "I describe the results of a structural analysis of Disulfide bonds contained in 36,362 proteins containing 294,478 Disulfide Bonds within the RCSB Protein databank, https://www.rcsb.org. The analysis utilizes Python routines from my ``ProteusPy`` package https://github.com/myml/, which is built upon the excellent ``BioPython`` library (https://www.biopython.org). This work is a reprise of my original Disulfide modeling analysis conducted in 1984 (grab my citation). Given the original Disulfide database only 2xx Disulfide Bonds I felt it would be interesting to revisit the RCSB. The initial results are described in the cells below.\n",
    "\n",
    "NB: I extended  ``Biopython.PDB.PDBParser()`` class to parse the ``SSBOND`` records present in the RCSB structure files. As of this writing these changes have not been integrated into the official ``Biopython.PDB`` module. Contact me for more info.\n",
    "\n"
   ]
  },
  {
   "cell_type": "markdown",
   "metadata": {},
   "source": [
    "## Introduction\n",
    "Disulfide bonds are important protein structure stabilizing elements. They are formed when two Sulphur-containing Cysteine (Cys) residues are close enough and in the correct geometry to form a S-S covalent bond with their terminal sidechain Sγ atom. They most commonly occur between alpha helices and greatly enhance a protein's stability to denaturation."
   ]
  },
  {
   "cell_type": "code",
   "execution_count": 2,
   "metadata": {},
   "outputs": [],
   "source": [
    "from proteusPy.disulfide import *\n"
   ]
  },
  {
   "cell_type": "markdown",
   "metadata": {},
   "source": [
    "## Download PDB Files containing Disulfide bonds"
   ]
  },
  {
   "cell_type": "code",
   "execution_count": null,
   "metadata": {},
   "outputs": [],
   "source": [
    "\n",
    "DownloadDisulfides(pdb_home=PDB, model_home=MODELS, reset=False)\n"
   ]
  },
  {
   "attachments": {},
   "cell_type": "markdown",
   "metadata": {},
   "source": [
    "## Extract the Disulfides from the PDB files\n",
    "The function ``Disulfide.DisulfideExtractor()`` processes all the .ent files in ``PDB_DIR`` and creates two .pkl files representing the Disulfide bonds contained in the scanned directory. In addition, a .csv file containing problem IDs is written if any are found. The .pkl files are consumed by the ``DisulfideLoader`` class and are considered private. You'll see numerous warnings during the scan. Files that are unparsable are removed and their IDs are logged to the problem_id.csv file. The default file locations are stored in the file globals.py and are the used by ``DisulfideExtractor()`` in the absence of arguments passed. The Disulfide parser is very stringent and will reject disulfide bonds with missing atoms or disordered atoms.\n",
    "\n",
    "A full scan of the initial disulfide bond-containing files (> 36000 files) takes about 1.25 hours on a 2020 MacbookPro with M1 Pro chip. The resulting .pkl files consume approximately 1GB of disk space, and equivalent RAM used when loaded.\n",
    "\n",
    "Outputs are saved in ``MODEL_DIR``:\n",
    "1) ``SS_PICKLE_FILE``: The ``DisulfideList`` of ``Disulfide`` objects initialized from the PDB file scan, needed by the ``DisulfideLoader()`` class.\n",
    "2) ``SS_DICT_PICKLE_FILE``: the ``Dict Disulfide`` objects also needed by the ``DisulfideLoader()`` class\n",
    "3) ``PROBLEM_ID_FILE``: a .csv containining the problem ids.\n",
    "\n",
    "In general, the process only needs to be run once for a full scan. Setting the ``numb`` argument to -1 scans the entire directory. Entering a positive number allows parsing a subset of the dataset, which is useful when debugging. Setting ``verbose`` enables verbose messages. Setting ``quiet`` to ``True`` disables all warnings.\n"
   ]
  },
  {
   "cell_type": "code",
   "execution_count": 4,
   "metadata": {},
   "outputs": [
    {
     "name": "stderr",
     "output_type": "stream",
     "text": [
      "100%|█████████████████████████████████████████████| 110/110 [00:06<00:00, 16.80it/s, ID=1ayo, Bad=0]\n"
     ]
    },
    {
     "name": "stdout",
     "output_type": "stream",
     "text": [
      "Saving 625 Disulfides to file: /Users/egs/PDB/models/PDB_all_ss.pkl\n",
      "Saving 110 Disulfide-containing PDB IDs to file: /Users/egs/PDB/models/PDB_all_ss_dict.pkl\n",
      "Saving torsions to file: /Users/egs/PDB/models/PDB_SS_torsions.csv\n",
      "Disulfide Extraction complete! Elapsed time: 0:00:06.628076 (h:m:s)\n"
     ]
    }
   ],
   "source": [
    "\n",
    "\n",
    "DisulfideExtractor(numb=110, pdbdir=PDB, modeldir=MODELS, verbose=False, quiet=True)\n"
   ]
  },
  {
   "attachments": {},
   "cell_type": "markdown",
   "metadata": {},
   "source": [
    "## Load the Disulfide Data\n",
    "Now that the Disulfides have been extracted and the Disulfide .pkl files have been created we can load them into memory using the DisulfideLoader() class. This class stores the Disulfides internally as a DisulfideList and a dict. Array indexing operations including slicing have been overloaded, enabling straightforward access to the Disulfide bonds, both in aggregate and by residue. After loading the .pkl files the Class creates a Pandas ``DataFrame`` object consisting of the disulfide ID, all sidechain dihedral angles, and the computed Disulfide bond torsional energy."
   ]
  },
  {
   "cell_type": "code",
   "execution_count": 7,
   "metadata": {},
   "outputs": [
    {
     "name": "stdout",
     "output_type": "stream",
     "text": [
      "Reading disulfides from: /Users/egs/PDB/models/PDB_all_ss.pkl\n",
      "Disulfides Read: 625\n",
      "Reading disulfide dict from: /Users/egs/PDB/models/PDB_all_ss_dict.pkl\n",
      "Reading Torsion DF /Users/egs/PDB/models/PDB_SS_torsions.csv.\n",
      "Read torsions DF.\n",
      "PDB IDs parsed: 110\n",
      "Total Space Used: 137381 bytes.\n"
     ]
    }
   ],
   "source": [
    "\n",
    "PDB_SS = DisulfideLoader(verbose=True, modeldir=MODELS)\n",
    "\n",
    "\n"
   ]
  },
  {
   "cell_type": "markdown",
   "metadata": {},
   "source": [
    "## Examine the Disulfide Torsions\n",
    "The Disulfide dihedral angles $\\chi_{1}$-$\\chi_{5}$ along with their approximate torsional energy are stored in the DataLoader() class."
   ]
  },
  {
   "cell_type": "code",
   "execution_count": 8,
   "metadata": {},
   "outputs": [
    {
     "data": {
      "text/html": [
       "<div>\n",
       "<style scoped>\n",
       "    .dataframe tbody tr th:only-of-type {\n",
       "        vertical-align: middle;\n",
       "    }\n",
       "\n",
       "    .dataframe tbody tr th {\n",
       "        vertical-align: top;\n",
       "    }\n",
       "\n",
       "    .dataframe thead th {\n",
       "        text-align: right;\n",
       "    }\n",
       "</style>\n",
       "<table border=\"1\" class=\"dataframe\">\n",
       "  <thead>\n",
       "    <tr style=\"text-align: right;\">\n",
       "      <th></th>\n",
       "      <th>chi1</th>\n",
       "      <th>chi2</th>\n",
       "      <th>chi3</th>\n",
       "      <th>chi4</th>\n",
       "      <th>chi5</th>\n",
       "      <th>energy</th>\n",
       "    </tr>\n",
       "  </thead>\n",
       "  <tbody>\n",
       "    <tr>\n",
       "      <th>count</th>\n",
       "      <td>625.000000</td>\n",
       "      <td>625.000000</td>\n",
       "      <td>625.000000</td>\n",
       "      <td>625.000000</td>\n",
       "      <td>625.000000</td>\n",
       "      <td>625.000000</td>\n",
       "    </tr>\n",
       "    <tr>\n",
       "      <th>mean</th>\n",
       "      <td>-60.359229</td>\n",
       "      <td>-21.089653</td>\n",
       "      <td>-10.503387</td>\n",
       "      <td>-20.999120</td>\n",
       "      <td>-42.211066</td>\n",
       "      <td>3.589694</td>\n",
       "    </tr>\n",
       "    <tr>\n",
       "      <th>std</th>\n",
       "      <td>90.910404</td>\n",
       "      <td>100.884843</td>\n",
       "      <td>92.628471</td>\n",
       "      <td>110.450809</td>\n",
       "      <td>93.012098</td>\n",
       "      <td>2.485300</td>\n",
       "    </tr>\n",
       "    <tr>\n",
       "      <th>min</th>\n",
       "      <td>-179.573310</td>\n",
       "      <td>-179.692959</td>\n",
       "      <td>-168.074863</td>\n",
       "      <td>-179.064003</td>\n",
       "      <td>-179.782633</td>\n",
       "      <td>0.575261</td>\n",
       "    </tr>\n",
       "    <tr>\n",
       "      <th>25%</th>\n",
       "      <td>-108.779775</td>\n",
       "      <td>-87.697088</td>\n",
       "      <td>-88.406946</td>\n",
       "      <td>-93.470473</td>\n",
       "      <td>-77.365378</td>\n",
       "      <td>1.858745</td>\n",
       "    </tr>\n",
       "    <tr>\n",
       "      <th>50%</th>\n",
       "      <td>-64.708946</td>\n",
       "      <td>-61.780977</td>\n",
       "      <td>-73.828005</td>\n",
       "      <td>-65.621226</td>\n",
       "      <td>-61.150583</td>\n",
       "      <td>3.033137</td>\n",
       "    </tr>\n",
       "    <tr>\n",
       "      <th>75%</th>\n",
       "      <td>-52.500311</td>\n",
       "      <td>74.497538</td>\n",
       "      <td>90.194186</td>\n",
       "      <td>81.848751</td>\n",
       "      <td>-28.882373</td>\n",
       "      <td>4.392322</td>\n",
       "    </tr>\n",
       "    <tr>\n",
       "      <th>max</th>\n",
       "      <td>179.401882</td>\n",
       "      <td>179.315825</td>\n",
       "      <td>173.745213</td>\n",
       "      <td>179.462454</td>\n",
       "      <td>179.883387</td>\n",
       "      <td>15.280323</td>\n",
       "    </tr>\n",
       "  </tbody>\n",
       "</table>\n",
       "</div>"
      ],
      "text/plain": [
       "             chi1        chi2        chi3        chi4        chi5      energy\n",
       "count  625.000000  625.000000  625.000000  625.000000  625.000000  625.000000\n",
       "mean   -60.359229  -21.089653  -10.503387  -20.999120  -42.211066    3.589694\n",
       "std     90.910404  100.884843   92.628471  110.450809   93.012098    2.485300\n",
       "min   -179.573310 -179.692959 -168.074863 -179.064003 -179.782633    0.575261\n",
       "25%   -108.779775  -87.697088  -88.406946  -93.470473  -77.365378    1.858745\n",
       "50%    -64.708946  -61.780977  -73.828005  -65.621226  -61.150583    3.033137\n",
       "75%    -52.500311   74.497538   90.194186   81.848751  -28.882373    4.392322\n",
       "max    179.401882  179.315825  173.745213  179.462454  179.883387   15.280323"
      ]
     },
     "execution_count": 8,
     "metadata": {},
     "output_type": "execute_result"
    }
   ],
   "source": [
    "SS_df = pd.DataFrame()\n",
    "\n",
    "SS_df = PDB_SS.getTorsions() # retrieve the torsions dataframe\n",
    "SS_df[['chi1', 'chi2', 'chi3', 'chi4', 'chi5', 'energy']].describe()"
   ]
  },
  {
   "cell_type": "code",
   "execution_count": null,
   "metadata": {},
   "outputs": [],
   "source": []
  },
  {
   "cell_type": "code",
   "execution_count": 9,
   "metadata": {},
   "outputs": [
    {
     "data": {
      "image/png": "[encoded data removed]",
      "text/plain": [
       "<Figure size 640x480 with 1 Axes>"
      ]
     },
     "metadata": {},
     "output_type": "display_data"
    }
   ],
   "source": [
    "import numpy\n",
    "from matplotlib import pyplot\n",
    "\n",
    "bins = numpy.linspace(-180, 180, 100)\n",
    "chi1_data = SS_df['chi1']\n",
    "chi2_data = SS_df['chi2']\n",
    "chi3_data = SS_df['chi3']\n",
    "chi4_data = SS_df['chi4']\n",
    "chi5_data = SS_df['chi5']\n",
    "\n",
    "pyplot.hist(chi1_data, bins, alpha=0.5, label='chi1')\n",
    "pyplot.hist(chi5_data, bins, alpha=0.5, label='chi5')\n",
    "\n",
    "pyplot.legend(loc='upper right')\n",
    "pyplot.show()\n"
   ]
  },
  {
   "cell_type": "code",
   "execution_count": null,
   "metadata": {},
   "outputs": [],
   "source": [
    "pyplot.hist(chi2_data, bins, alpha=0.5, label='chi2')\n",
    "pyplot.hist(chi4_data, bins, alpha=0.5, label='chi4')\n",
    "pyplot.legend(loc='upper right')\n",
    "pyplot.show()\n",
    "\n"
   ]
  },
  {
   "cell_type": "code",
   "execution_count": null,
   "metadata": {},
   "outputs": [],
   "source": [
    "pyplot.hist(chi3_data, bins, alpha=0.5, label='chi3')\n",
    "pyplot.legend(loc='upper right')\n",
    "pyplot.show()\n",
    "\n"
   ]
  },
  {
   "cell_type": "code",
   "execution_count": null,
   "metadata": {},
   "outputs": [],
   "source": []
  },
  {
   "cell_type": "code",
   "execution_count": null,
   "metadata": {},
   "outputs": [],
   "source": []
  },
  {
   "cell_type": "code",
   "execution_count": null,
   "metadata": {},
   "outputs": [],
   "source": []
  }
 ],
 "metadata": {
  "kernelspec": {
   "display_name": "Python 3 (ipykernel)",
   "language": "python",
   "name": "python3"
  },
  "language_info": {
   "codemirror_mode": {
    "name": "ipython",
    "version": 3
   },
   "file_extension": ".py",
   "mimetype": "text/x-python",
   "name": "python",
   "nbconvert_exporter": "python",
   "pygments_lexer": "ipython3",
   "version": "3.8.13"
  },
  "vscode": {
   "interpreter": {
    "hash": "2e049c0f63e6b330ae815ad1049a36d20686725ba1cc68cc0aadee0375e172d1"
   }
  }
 },
 "nbformat": 4,
 "nbformat_minor": 4
}
