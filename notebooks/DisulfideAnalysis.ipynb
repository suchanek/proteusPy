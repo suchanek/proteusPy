version https://git-lfs.github.com/spec/v1
oid sha256:3b38b204d00ffb053ad656eef052285f93f5f99923883431cd3acfec4256594d
size 48405
