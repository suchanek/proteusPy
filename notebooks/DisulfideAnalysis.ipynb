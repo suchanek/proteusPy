version https://git-lfs.github.com/spec/v1
oid sha256:144dfbdd5f05b19cb08e6e76c6c503bddfb3dc260696e0022b3c812aaad8cf36
size 48552
