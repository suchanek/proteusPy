{
 "cells": [
  {
   "cell_type": "markdown",
   "metadata": {},
   "source": [
    "### Python Preamble"
   ]
  },
  {
   "cell_type": "code",
   "execution_count": null,
   "metadata": {},
   "outputs": [],
   "source": [
    "# Analysis of Disulfide Bonds in Proteins of Known Structure \n",
    "# Author: Eric G. Suchanek, PhD.\n",
    "# Last revision: 1/19/23 -egs-\n",
    "# Cα Cβ Sγ\n",
    "\n",
    "import math\n",
    "%matplotlib inline\n",
    "\n",
    "import matplotlib\n",
    "import matplotlib.pyplot as plt\n",
    "\n",
    "import plotly_express as px\n",
    "#import seaborn as sns\n",
    "\n",
    "import proteusPy\n",
    "from proteusPy import *\n",
    "from proteusPy.Disulfide import *\n",
    "from proteusPy.ProteusGlobals import *\n",
    "\n",
    "import pandas as pd\n",
    "import pyvista as pv\n",
    "from pyvista import set_plot_theme\n",
    "\n",
    "#print(pv.Report())\n",
    "\n",
    "plt.style.use('dark_background')\n",
    "\n",
    "# ipyvtklink\n",
    "pv.set_jupyter_backend('ipyvtklink')\n",
    "\n",
    "set_plot_theme('dark')\n",
    "\n",
    "# the locations below represent the actual location on the dev drive.\n",
    "# location for PDB repository\n",
    "PDB_BASE = '/Users/egs/PDB/'\n",
    "\n",
    "# location of cleaned PDB files\n",
    "PDB = '/Users/egs/PDB/good/'\n",
    "\n",
    "# location of the compressed Disulfide .pkl files\n",
    "MODELS = f'{PDB_BASE}data/'\n"
   ]
  },
  {
   "attachments": {},
   "cell_type": "markdown",
   "metadata": {},
   "source": [
    "# Analysis of Disulfide Bonds in Proteins Within the RCSB Protein Data Bank\n",
    "*Eric G. Suchanek, PhD. (suchanek@mac.com)* <br> <br>\n",
    "\n",
    "## Summary\n",
    "I describe the results of a structural analysis of Disulfide bonds contained in 35,819 proteins within the RCSB Protein databank, https://www.rcsb.org. These protein structures contained 120,697 Disulfide Bonds.  The analysis utilizes Python functions from my ``ProteusPy`` package https://github.com/suchanek/proteusPy/, which is built upon the excellent ``BioPython`` library (https://www.biopython.org). \n",
    "\n",
    "## Background\n",
    "This work represents a reprise of my original Disulfide modeling analysis conducted in 1986 ([publications](#publications) item 1) as part of my doctoral dissertation. Given the original Disulfide database contained only 2xx Disulfide Bonds I felt it would be interesting to revisit the RCSB and mine the thousands of new structures. The analysis would not have been possible withoug the creation and now ongoing development of ```proteusPy```, which represents a true, modern object-oriented rewrite of my original ```proteus``` code base. The ```C``` implemntation still exists and is available at https://github.com/suchanek/proteus/.\n",
    "\n",
    "The initial results are shown and described in the cells below.\n",
    "\n",
    "## Intended Audience\n",
    "This notebook is intended primarily for people interested in structural biophysics, with an emphasis on the analysis of protein structures. As a result, it is fairly advanced. I have made an effort to describe the analysis plainly, but I assume the reader has a basic understanding of the elements of protein structure.\n",
    "\n",
    "## Requirements\n",
    " - My Biopython fork or my delta applied, available at: https://github.com/suchanek/biopython/\n",
    " - proteusPy: https://github.com/suchanek/proteusPy/\n",
    "\n",
    "## Introduction\n",
    "Disulfide bonds are important covalent stabilizing elements in proteins, and function as intra-molecular cross-bridges. They are formed when two Sulphur-containing Cysteine (Cys) amino acid residues are close enough and in the correct geometry to form a S-S covalent bond with their terminal sidechain $S_\\gamma$ atoms. The resulting residue is known as *Cystine*, or more commonly a *Disulfide* bond. This cross-bridge stabilizes the connected protein backbone via the alpha carbon, ($C_\\alpha$) backbone atoms with this strong S-S covalent bond. This bond has high energy barriers to rotation, and as such has manifests partial double-bond character. Disulfide bonds most commonly occur between alpha helices and greatly enhance a protein's stability to denaturation. \n"
   ]
  },
  {
   "attachments": {},
   "cell_type": "markdown",
   "metadata": {},
   "source": [
    "## Download PDB Files containing disulfide bonds\n"
   ]
  },
  {
   "cell_type": "markdown",
   "metadata": {},
   "source": [
    "The RCSB query yielded "
   ]
  },
  {
   "cell_type": "code",
   "execution_count": null,
   "metadata": {},
   "outputs": [],
   "source": [
    "\n",
    "# Download_Disulfides(pdb_home=PDB_BASE, model_home=MODELS, reset=False)\n"
   ]
  },
  {
   "cell_type": "markdown",
   "metadata": {
    "tags": []
   },
   "source": [
    "## Extract the Disulfides from the PDB files\n",
    "The function ``Extract_Disulfides()`` processes all the .ent files in ``PDB_DIR`` and creates two .pkl files representing the Disulfide bonds contained in the scanned directory. In addition, a .csv file containing problem IDs is written if any are found. The .pkl files are consumed by the ``DisulfideLoader`` class and are considered private. You'll see numerous warnings during the scan. Files that are unparsable are removed and their IDs are logged to the problem_id.csv file. The default file locations are stored in the file globals.py and are the used by ``DisulfideExtractor()`` in the absence of arguments passed. The Disulfide parser is very stringent and will reject disulfide bonds with missing atoms or disordered atoms.\n",
    "\n",
    "\n",
    "Outputs are saved in ``MODEL_DIR``:\n",
    "1) ``SS_PICKLE_FILE``: The ``DisulfideList`` of ``Disulfide`` objects initialized from the PDB file scan, needed by the ``DisulfideLoader()`` class.\n",
    "2) ``SS_DICT_PICKLE_FILE``: the ``Dict Disulfide`` objects also needed by the ``DisulfideLoader()`` class\n",
    "3) ``PROBLEM_ID_FILE``: a .csv containining the problem ids.\n",
    "\n",
    "In general, the process only needs to be run once for a full scan. Setting the ``numb`` argument to -1 scans the entire directory. Entering a positive number allows parsing a subset of the dataset, which is useful when debugging. Setting ``verbose`` enables verbose messages. Setting ``quiet`` to ``True`` disables all warnings.\n",
    "\n",
    "NB: A extraction of the initial disulfide bond-containing files (> 36000 files) takes about 1.25 hours on a 2020 MacbookPro with M1 Pro chip, 16GB RAM, 1TB SSD. The resulting .pkl files consume approximately 1GB of disk space, and equivalent RAM used when loaded."
   ]
  },
  {
   "cell_type": "code",
   "execution_count": null,
   "metadata": {},
   "outputs": [],
   "source": [
    "\n",
    "\n",
    "#Extract_Disulfides(numb=5000, pdbdir=PDB, datadir=MODELS, verbose=False, quiet=True)\n"
   ]
  },
  {
   "attachments": {},
   "cell_type": "markdown",
   "metadata": {
    "tags": []
   },
   "source": [
    "## Load the Disulfide Data\n",
    "Now that the Disulfides have been extracted and the Disulfide .pkl files have been created we can load them into memory using the DisulfideLoader() class. This class stores the Disulfides internally as a DisulfideList and a dict. Array indexing operations including slicing have been overloaded, enabling straightforward access to the Disulfide bonds, both in aggregate and by residue. After loading the .pkl files the Class creates a Pandas ``DataFrame`` object consisting of the Disulfide ID, all sidechain dihedral angles, the local coordinates for the Disulfide and the computed Disulfide bond torsional energy.\n",
    "\n",
    "NB: Loading the data takes 3.5 minutes on my MacbookPro. Be patient if it seems to take a long time to load.\n",
    "\n",
    "The ```Disulfide``` and ```DisulfideList``` classes include rendering capabiities using the excellent PyVista interface to the VTK package. (http://pyvista.org). The following cell displays the first Disulfide bond in the database in ball-and stick style. Atoms are colored by atom type:\n",
    "- Grey = Carbon\n",
    "- Blue = Nitrogen\n",
    "- Red = Oxygen\n",
    "- Yellow = Sulfur\n",
    "- White = Previous residue carbonyl carbon and next residue amino Nitrogen. (more on this below).\n",
    "\n",
    "We can load the database and display the first disulfide as shown below. The molecular display is *interactive*; select-drag to rotate, mousewheel to zoom. The X-Y-Z widget in the window upper right allows orientation against the X, Y and Z axes. The window title provides information about the disulfide rendered:\n",
    "* Disulfide source ID\n",
    "* Disulfide name, which embodies the source id, the proximal residue number and the distal residue number.\n",
    "* Disulfide approximate torsional energy (kcal/mol)\n",
    "* Disulfide $C_\\alpha-C_\\alpha$ distance $\\AA$\n",
    "* Disulfide torsion length (5-dimensional vector length) (degrees)"
   ]
  },
  {
   "cell_type": "code",
   "execution_count": null,
   "metadata": {},
   "outputs": [],
   "source": [
    "# default parameters will read from the package itself.\n",
    "PDB_SS = DisulfideLoader(verbose=True, subset=False)\n"
   ]
  },
  {
   "cell_type": "code",
   "execution_count": null,
   "metadata": {
    "collapsed": true,
    "jupyter": {
     "outputs_hidden": true
    },
    "tags": []
   },
   "outputs": [],
   "source": [
    "ss = PDB_SS[0]\n",
    "ss.display(style='sb', light=False)"
   ]
  },
  {
   "attachments": {},
   "cell_type": "markdown",
   "metadata": {},
   "source": [
    "## Examine the Disulfide $C_\\alpha-C_\\alpha$ Distances\n",
    "\n",
    "The disulfide bond maximum $C_\\alpha-C_\\alpha$ distance is constrained by the bond lengths and bond angles of the cystine (Cys-Cys) sidechain atoms. If the bond angles were linear the maximum possible $C_\\alpha-C_\\alpha$ distance would be 8.82 $\\AA$. We can examine the database easily with Pandas to see this distance distribution."
   ]
  },
  {
   "cell_type": "code",
   "execution_count": null,
   "metadata": {},
   "outputs": [],
   "source": [
    "\n",
    "# retrieve the torsions dataframe\n",
    "from proteusPy.Disulfide import Torsion_DF_Cols\n",
    "\n",
    "_SSdf = PDB_SS.getTorsions()\n",
    "\n",
    "# there are a few structures with bad SSBonds. Their\n",
    "# CA distances are > 7.0. We remove them from consideration\n",
    "# below\n",
    "\n",
    "_far = _SSdf['ca_distance'] >= 9.0\n",
    "_near = _SSdf['ca_distance'] < 9.0\n",
    "\n",
    "SS_df_Far = _SSdf[_far]\n",
    "\n",
    "# entire database with near cutoff of 9.0\n",
    "SS_df = _SSdf[_near]\n",
    "SS_df = SS_df[Torsion_DF_Cols].copy()\n",
    "\n",
    "SS_df_Far.describe()\n"
   ]
  },
  {
   "attachments": {},
   "cell_type": "markdown",
   "metadata": {},
   "source": [
    "Initial analysis shown above reveals 145 physically impossible disulfides. These will be removed from consideration by rejecting disulfides whose $C_\\alpha-C_\\alpha$ distances are $> 9 \\AA$. This should improve our overall protein structure data quality.\n"
   ]
  },
  {
   "cell_type": "code",
   "execution_count": null,
   "metadata": {},
   "outputs": [],
   "source": [
    "SS_df.describe()"
   ]
  },
  {
   "attachments": {},
   "cell_type": "markdown",
   "metadata": {},
   "source": [
    "\n",
    "When we filter by distance, we see the average $C_\\alpha-C_\\alpha$ distance for the entire dataset is 5.52 $\\AA$ , with a minimum distance of 2.83 $\\AA$ and a maximum of 8.50 $\\AA$. As mentioned above, 145 disulfides had distances >= 9 $\\AA$. These will be removed from consideration since they are not physically possible."
   ]
  },
  {
   "cell_type": "code",
   "execution_count": null,
   "metadata": {},
   "outputs": [],
   "source": [
    "# The distances are in the SS_df dataframe and can be sorted easily\n",
    "SS_df.sort_values(by=['ca_distance'], ascending=False, inplace=True)\n",
    "\n",
    "SS_df.head(10)"
   ]
  },
  {
   "attachments": {},
   "cell_type": "markdown",
   "metadata": {},
   "source": [
    "We can extract and visualize the four longest structures and display them, as shown below. The individual windows display the disulfide bond in 'split-bond' style, where half of the bond is colored by the respective atom color. The window title indicates the approximate torsional energy (E kcal/mol), $C_\\alpha-C_\\alpha$ distance ($\\AA$), and the torsion length (degrees). As is apparent, the $C_\\beta-S_\\gamma$ bond angles are almost linear. This suggests that the disulfide might not actually exist covalently, and could reflect errors in the original model."
   ]
  },
  {
   "cell_type": "code",
   "execution_count": null,
   "metadata": {},
   "outputs": [],
   "source": [
    "# extract and display the 4 longest SS bonds\n",
    "\n",
    "i = 0\n",
    "quattro = DisulfideList([], 'L4')\n",
    "\n",
    "for i in range(4):\n",
    "    ssid = SS_df.iloc[i]['ss_id']\n",
    "    ss = PDB_SS.get_by_name(ssid)\n",
    "    quattro.append(ss)\n",
    "\n",
    "quattro.display(style='sb', light=True)\n",
    "\n",
    "    "
   ]
  },
  {
   "cell_type": "markdown",
   "metadata": {},
   "source": []
  },
  {
   "cell_type": "code",
   "execution_count": null,
   "metadata": {},
   "outputs": [],
   "source": [
    "#\n",
    "#\n",
    "labels = {'value': 'Ca Distance', 'variable': 'Count'}\n",
    "cols = ['ca_distance']\n",
    "data = SS_df[cols].copy()\n",
    "px.histogram(SS_df['ca_distance'], labels=labels, template='plotly_dark')\n"
   ]
  },
  {
   "cell_type": "markdown",
   "metadata": {},
   "source": [
    "## Examining Disulfide Energies\n"
   ]
  },
  {
   "cell_type": "code",
   "execution_count": null,
   "metadata": {},
   "outputs": [],
   "source": [
    "labels = {'value': 'Energy', 'variable': 'Count'}\n",
    "cols = ['energy']\n",
    "px.histogram(SS_df['energy'], labels=labels, histnorm='probability', template='plotly_dark')\n"
   ]
  },
  {
   "cell_type": "markdown",
   "metadata": {},
   "source": [
    "### Find the lowest and highest energy disulfides and display them"
   ]
  },
  {
   "cell_type": "code",
   "execution_count": null,
   "metadata": {},
   "outputs": [],
   "source": [
    "\n",
    "All_SS_list = PDB_SS.SSList\n",
    "ssMin, ssMax = PDB_SS.SSList.minmax_energy()\n",
    "minmaxlist = DisulfideList([ssMin, ssMax], 'mm')\n",
    "minmaxlist.display(style='bs', light=False)"
   ]
  },
  {
   "cell_type": "code",
   "execution_count": null,
   "metadata": {},
   "outputs": [],
   "source": [
    "minmaxlist.display_overlay(light=False)"
   ]
  },
  {
   "attachments": {},
   "cell_type": "markdown",
   "metadata": {},
   "source": [
    "Very interesting result! Even though both disulfides span almost the exact same distance 5.5 $\\AA$ vs 5.2 $\\AA$ they do so with entirely different geometries. The minimum energy structure's torsion length of $145.62 \\AA$ is significantly shorter than the maximum's $215.61 \\AA$, despite the latter's *cis* $S_\\gamma - S_\\gamma$ bond. This *cis* conformation sits squarely on the disulfide's energy maximum, a fact reflected in the high 18.12 kcal/mol computed torsional energy.\n",
    "\n",
    "On the flip side, *2q7q 75D-140D*, the lowest-energy disulfide is beautiful."
   ]
  },
  {
   "cell_type": "code",
   "execution_count": null,
   "metadata": {
    "collapsed": true,
    "jupyter": {
     "outputs_hidden": true
    },
    "tags": []
   },
   "outputs": [],
   "source": []
  },
  {
   "cell_type": "markdown",
   "metadata": {},
   "source": [
    "The structure above shows that the previous and next residues have missing atoms (the long vectors drawn)."
   ]
  },
  {
   "cell_type": "code",
   "execution_count": null,
   "metadata": {
    "tags": []
   },
   "outputs": [],
   "source": [
    "SS_df = _SSdf[_near]\n",
    "SS_df = SS_df[Torsion_DF_Cols]\n",
    "\n",
    "SS_df = SS_df.sort_values(by=['energy'])\n",
    "ssid_list = SS_df['ss_id'].values\n",
    "\n",
    "good_SS_list = DisulfideList([],'l')\n",
    "bad_SS_list = DisulfideList([],'h')\n",
    "\n",
    "ss = Disulfide('tmp')\n",
    "\n",
    "# first 12 are lowest energy\n",
    "for i in range(12):\n",
    "    ssid = ssid_list[i]\n",
    "    ss = PDB_SS.get_by_name(ssid)\n",
    "    good_SS_list.append(ss)\n",
    "    \n",
    "for i in range(13):\n",
    "    if i == 0:\n",
    "        continue\n",
    "    ssid = ssid_list[-i]\n",
    "    ss = PDB_SS.get_by_name(ssid)\n",
    "    bad_SS_list.append(ss)\n",
    "    \n"
   ]
  },
  {
   "cell_type": "code",
   "execution_count": null,
   "metadata": {
    "collapsed": true,
    "jupyter": {
     "outputs_hidden": true
    },
    "tags": []
   },
   "outputs": [],
   "source": [
    "bad_SS_list.display_overlay(light=False)\n"
   ]
  },
  {
   "cell_type": "markdown",
   "metadata": {},
   "source": [
    "#bad_SS_list.display(style='sb')\n"
   ]
  },
  {
   "cell_type": "code",
   "execution_count": null,
   "metadata": {},
   "outputs": [],
   "source": [
    "\n"
   ]
  },
  {
   "cell_type": "code",
   "execution_count": null,
   "metadata": {},
   "outputs": [],
   "source": [
    "labels = {'value': 'Distance', 'variable': 'Distance'}\n",
    "cols = ['ca_distance', 'energy']\n",
    "data = SS_df[cols].copy()\n",
    "data.set_index('ca_distance')\n",
    "\n",
    "px.histogram(SS_df, x='ca_distance', y='torsion_length', labels=labels, histfunc='avg', nbins=90, template='plotly_dark')\n"
   ]
  },
  {
   "cell_type": "markdown",
   "metadata": {},
   "source": [
    "## Examine the Disulfide Torsions\n",
    "The disulfide bond's overall conformation is defined by the sidechain dihedral angles $\\chi_{1}$-$\\chi_{5}$. Since the S-S bond has electron delocalization, it exhibits some double-bond character with strong minima at $+90°$ and $-90°$. The *Left-handed* Disulfides have $\\chi_{3}$ < 0.0° and the *Right-handed* have a $\\chi_{3}$ > 0.0°.\n",
    "\n",
    "These torsion values along with the approximate torsional energy are stored in the DisulfideLoader() class and individually within each Disulfide object. We access them via the ``DisulfideList.getTorsions()`` function.\n",
    "\n",
    "We can get a quick look at their overall statistics using the ``Pandas.describe()`` function.\n",
    "\n"
   ]
  },
  {
   "cell_type": "code",
   "execution_count": null,
   "metadata": {},
   "outputs": [],
   "source": [
    "labels = {'value': 'Angle', 'variable': 'Torsion'}\n",
    "\n",
    "px.histogram(SS_df, x='chi1', y='chi5', labels=labels, nbins=90, histfunc='avg',\n",
    "            template='plotly_dark')\n"
   ]
  },
  {
   "cell_type": "code",
   "execution_count": null,
   "metadata": {},
   "outputs": [],
   "source": [
    "labels = {'value': 'Angle', 'variable': 'Torsion'}\n",
    "\n",
    "px.histogram(SS_df, x='chi2', y='chi4', labels=labels, nbins=90, histfunc='avg',\n",
    "            template='plotly_dark')\n"
   ]
  },
  {
   "attachments": {},
   "cell_type": "markdown",
   "metadata": {},
   "source": [
    "## Examining torsions by Disulfide Handedness\n",
    "We split the dataset into these two families easily with Pandas."
   ]
  },
  {
   "cell_type": "code",
   "execution_count": null,
   "metadata": {},
   "outputs": [],
   "source": [
    "# make two dataframes containing left handed and right handed disulfides\n",
    "\n",
    "_left = SS_df['chi3'] <= 0.0\n",
    "_right = SS_df['chi3'] > 0.0\n",
    "\n",
    "# left handed and right handed torsion dataframes\n",
    "SS_df_Left = SS_df[_left]\n",
    "SS_df_Right = SS_df[_right]\n",
    "\n",
    "# routine creates 2 lists  for left-handed and right-handed disulfides \n",
    "\n",
    "ss_list = PDB_SS.SSList\n",
    "left_handed_SS = DisulfideList([], 'left_handed')\n",
    "right_handed_SS = DisulfideList([], 'right_handed')\n",
    "\n",
    "for ss in ss_list:\n",
    "    if ss.chi3 < 0:\n",
    "        left_handed_SS.append(ss)\n",
    "    else:\n",
    "        right_handed_SS.append(ss)\n",
    "\n",
    "print(f'Left Handed: {len(left_handed_SS)}, Right Handed: {len(right_handed_SS)}')\n"
   ]
  },
  {
   "cell_type": "code",
   "execution_count": null,
   "metadata": {},
   "outputs": [],
   "source": [
    "SS_df_Left.describe()"
   ]
  },
  {
   "cell_type": "code",
   "execution_count": null,
   "metadata": {},
   "outputs": [],
   "source": [
    "SS_df_Right.describe()"
   ]
  },
  {
   "attachments": {},
   "cell_type": "markdown",
   "metadata": {},
   "source": [
    "We can use a hexbin plot to generate the equivalent of a heatmap to explore the Correlation for the Chi1-Chi5 and Chi2-Chi4 dihedral angles. Since the disulfide bond is symmetric about Chi3 (the S-S bond), one would expect the distribution of Chi1 to be similar to Chi5, and the same with Chi2 and Chi4."
   ]
  },
  {
   "cell_type": "code",
   "execution_count": null,
   "metadata": {},
   "outputs": [],
   "source": [
    "\n",
    "# Set the figure sizes and axis limits.\n",
    "DPI = 220\n",
    "WIDTH = 6.0\n",
    "HEIGHT = 3.0\n",
    "TORMIN = -179.0\n",
    "TORMAX = 180.0\n",
    "GRIDSIZE = 20\n"
   ]
  },
  {
   "cell_type": "code",
   "execution_count": null,
   "metadata": {},
   "outputs": [],
   "source": [
    "# !!!\n",
    "\n",
    "x = SS_df_Left['chi1']\n",
    "y = SS_df_Left['chi5']\n",
    "\n",
    "x2 = SS_df_Right['chi1']\n",
    "y2 = SS_df_Right['chi5']\n",
    "\n",
    "plt.rcParams.update({'font.size': 8})\n",
    "plt.rcParams['text.usetex'] = True\n",
    "\n",
    "fig = plt.figure(figsize=(WIDTH, HEIGHT), dpi=DPI)\n",
    "\n",
    "ax1, ax2 = fig.subplots(1, 2, sharey=True)\n",
    "\n",
    "fig.suptitle(r'$\\chi_{1} - \\chi_{5}$ Correlation', fontsize=8)\n",
    "\n",
    "ax1.tick_params(axis='both', which='major', labelsize=6)\n",
    "ax2.tick_params(axis='both', which='major', labelsize=6)\n",
    "\n",
    "ax1.set_xlim(TORMIN-1, TORMAX+1)\n",
    "ax1.set_ylim(TORMIN-1, TORMAX+1)\n",
    "\n",
    "ax1.xaxis.set_ticks(numpy.arange(TORMIN-1, TORMAX+1, 60))\n",
    "\n",
    "ax1.set_xlabel(r'$\\chi_{1 (left-handed)}$')\n",
    "ax1.set_ylabel(r'$\\chi_{5}$')\n",
    "\n",
    "ax1.hexbin(x, y, gridsize=GRIDSIZE, cmap='nipy_spectral')\n",
    "\n",
    "ax2.set_xlim(TORMIN, TORMAX)\n",
    "ax2.set_ylim(TORMIN-1, TORMAX+1)\n",
    "\n",
    "ax2.xaxis.set_ticks(numpy.arange(TORMIN-1, TORMAX+1, 60))\n",
    "\n",
    "ax2.set_xlabel(r'$\\chi_{1 (right-handed)}$')\n",
    "\n",
    "ax2.hexbin(x2, y2, gridsize=GRIDSIZE, cmap='nipy_spectral')\n",
    "\n",
    "plt.show()\n",
    "\n"
   ]
  },
  {
   "cell_type": "markdown",
   "metadata": {},
   "source": [
    "The distributions look extremely similar for both the left-handed and right-handed populations. Let's look at Chi2 and Chi4 to see if this holds true."
   ]
  },
  {
   "cell_type": "code",
   "execution_count": null,
   "metadata": {},
   "outputs": [],
   "source": [
    "x = SS_df_Left['chi2']\n",
    "y = SS_df_Left['chi4']\n",
    "\n",
    "x2 = SS_df_Right['chi2']\n",
    "y2 = SS_df_Right['chi4']\n",
    "\n",
    "plt.rcParams.update({'font.size': 8})\n",
    "plt.rcParams['text.usetex'] = True\n",
    "\n",
    "fig = plt.figure(figsize=(WIDTH, HEIGHT), dpi=DPI)\n",
    "\n",
    "fig.suptitle(r'$\\chi_{2} - \\chi_{4}$ Correlation', fontsize=8)\n",
    "\n",
    "ax1, ax2 = fig.subplots(1, 2, sharey=False)\n",
    "\n",
    "ax1.tick_params(axis='both', which='major', labelsize=6)\n",
    "ax2.tick_params(axis='both', which='major', labelsize=6)\n",
    "\n",
    "ax1.set_xlim(TORMIN-1, TORMAX+1)\n",
    "ax1.set_ylim(TORMIN-1, TORMAX+1)\n",
    "ax1.xaxis.set_ticks(numpy.arange(TORMIN-1, TORMAX+1, 60))\n",
    "\n",
    "ax1.set_xlabel(r'$\\chi_{2 (left-handed)}$')\n",
    "ax1.set_ylabel(r'$\\chi_{4}$')\n",
    "\n",
    "ax1.hexbin(x, y, gridsize=GRIDSIZE, cmap='nipy_spectral')\n",
    "\n",
    "ax2.set_xlim(TORMIN, TORMAX)\n",
    "ax2.set_ylim(-180, 180)\n",
    "ax2.xaxis.set_ticks(numpy.arange(TORMIN-1, TORMAX+1, 60))\n",
    "\n",
    "ax2.set_xlabel(r'$\\chi_{2 (right-handed)}$')\n",
    "ax2.hexbin(x2, y2, gridsize=GRIDSIZE, cmap='nipy_spectral')\n",
    "\n",
    "plt.show()\n",
    "\n"
   ]
  },
  {
   "cell_type": "markdown",
   "metadata": {},
   "source": [
    "The distributions for left/right show distinct differences. Both show the predicted minimum around -75 degrees, but the right-handed group shows a population of disfuldies in the +90 degree range."
   ]
  },
  {
   "cell_type": "code",
   "execution_count": null,
   "metadata": {},
   "outputs": [],
   "source": [
    "x = SS_df_Left['chi1']\n",
    "y = SS_df_Left['chi3']\n",
    "\n",
    "x2 = SS_df_Right['chi1']\n",
    "y2 = SS_df_Right['chi3']\n",
    "\n",
    "plt.rcParams.update({'font.size': 8})\n",
    "plt.rcParams['text.usetex'] = True\n",
    "\n",
    "fig = plt.figure(figsize=(WIDTH, HEIGHT), dpi=DPI)\n",
    "\n",
    "fig.suptitle(r'$\\chi_{1} - \\chi_{3}$ Correlation', fontsize=8)\n",
    "\n",
    "ax1, ax2 = fig.subplots(1, 2, sharey=False)\n",
    "\n",
    "ax1.tick_params(axis='both', which='major', labelsize=6)\n",
    "ax2.tick_params(axis='both', which='major', labelsize=6)\n",
    "\n",
    "ax1.set_xlim(TORMIN-1, TORMAX+1)\n",
    "ax1.set_ylim(TORMIN-1, TORMAX+1)\n",
    "ax1.xaxis.set_ticks(numpy.arange(TORMIN-1, TORMAX+1, 60))\n",
    "\n",
    "ax1.set_xlabel(r'$\\chi_{1 (left-handed)}$')\n",
    "ax1.set_ylabel(r'$\\chi_{3}$')\n",
    "\n",
    "ax1.hexbin(x, y, gridsize=GRIDSIZE, cmap='nipy_spectral')\n",
    "\n",
    "ax2.set_xlim(TORMIN, TORMAX)\n",
    "ax2.set_ylim(-180, 180)\n",
    "ax2.xaxis.set_ticks(numpy.arange(TORMIN-1, TORMAX+1, 60))\n",
    "\n",
    "ax2.set_xlabel(r'$\\chi_{1 (right-handed)}$')\n",
    "ax2.hexbin(x2, y2, gridsize=GRIDSIZE, cmap='nipy_spectral')\n",
    "\n",
    "plt.show()\n",
    "\n"
   ]
  },
  {
   "cell_type": "code",
   "execution_count": null,
   "metadata": {},
   "outputs": [],
   "source": [
    "x = SS_df_Left['chi2']\n",
    "y = SS_df_Left['chi3']\n",
    "\n",
    "x2 = SS_df_Right['chi2']\n",
    "y2 = SS_df_Right['chi3']\n",
    "\n",
    "plt.rcParams.update({'font.size': 8})\n",
    "plt.rcParams['text.usetex'] = True\n",
    "\n",
    "fig = plt.figure(figsize=(WIDTH, HEIGHT), dpi=DPI)\n",
    "\n",
    "fig.suptitle(r'$\\chi_{2} - \\chi_{3}$ Correlation', fontsize=8)\n",
    "\n",
    "ax1, ax2 = fig.subplots(1, 2, sharey=False)\n",
    "\n",
    "ax1.tick_params(axis='both', which='major', labelsize=6)\n",
    "ax2.tick_params(axis='both', which='major', labelsize=6)\n",
    "\n",
    "ax1.set_xlim(TORMIN-1, TORMAX+1)\n",
    "ax1.set_ylim(TORMIN-1, TORMAX+1)\n",
    "ax1.xaxis.set_ticks(numpy.arange(TORMIN-1, TORMAX+1, 60))\n",
    "\n",
    "ax1.set_xlabel(r'$\\chi_{2 (left-handed)}$')\n",
    "ax1.set_ylabel(r'$\\chi_{3}$')\n",
    "\n",
    "ax1.hexbin(x, y, gridsize=GRIDSIZE, cmap='nipy_spectral')\n",
    "\n",
    "ax2.set_xlim(TORMIN, TORMAX)\n",
    "ax2.set_ylim(-180, 180)\n",
    "ax2.xaxis.set_ticks(numpy.arange(TORMIN-1, TORMAX+1, 60))\n",
    "\n",
    "ax2.set_xlabel(r'$\\chi_{2 (right-handed)}$')\n",
    "ax2.hexbin(x2, y2, gridsize=GRIDSIZE, cmap='nipy_spectral')\n",
    "\n",
    "plt.show()\n",
    "\n"
   ]
  },
  {
   "cell_type": "code",
   "execution_count": null,
   "metadata": {},
   "outputs": [],
   "source": [
    "x = SS_df_Left['chi2']\n",
    "y = SS_df_Left['chi3']\n",
    "\n",
    "x2 = SS_df_Right['chi2']\n",
    "y2 = SS_df_Right['chi3']\n",
    "\n",
    "plt.rcParams.update({'font.size': 8})\n",
    "plt.rcParams['text.usetex'] = True\n",
    "\n",
    "fig = plt.figure(figsize=(WIDTH, HEIGHT), dpi=DPI)\n",
    "\n",
    "fig.suptitle(r'$\\chi_{4} - \\chi_{3}$ Correlation', fontsize=8)\n",
    "\n",
    "ax1, ax2 = fig.subplots(1, 2, sharey=False)\n",
    "\n",
    "ax1.tick_params(axis='both', which='major', labelsize=6)\n",
    "ax2.tick_params(axis='both', which='major', labelsize=6)\n",
    "\n",
    "ax1.set_xlim(TORMIN-1, TORMAX+1)\n",
    "ax1.set_ylim(TORMIN-1, TORMAX+1)\n",
    "ax1.xaxis.set_ticks(numpy.arange(TORMIN-1, TORMAX+1, 60))\n",
    "\n",
    "ax1.set_xlabel(r'$\\chi_{4 (left-handed)}$')\n",
    "ax1.set_ylabel(r'$\\chi_{3}$')\n",
    "\n",
    "ax1.hexbin(x, y, gridsize=GRIDSIZE, cmap='nipy_spectral')\n",
    "\n",
    "ax2.set_xlim(TORMIN, TORMAX)\n",
    "ax2.set_ylim(-180, 180)\n",
    "ax2.xaxis.set_ticks(numpy.arange(TORMIN-1, TORMAX+1, 60))\n",
    "\n",
    "ax2.set_xlabel(r'$\\chi_{4 (right-handed)}$')\n",
    "ax2.hexbin(x2, y2, gridsize=GRIDSIZE, cmap='nipy_spectral')\n",
    "\n",
    "plt.show()\n",
    "\n"
   ]
  },
  {
   "cell_type": "code",
   "execution_count": null,
   "metadata": {},
   "outputs": [],
   "source": []
  },
  {
   "cell_type": "code",
   "execution_count": null,
   "metadata": {},
   "outputs": [],
   "source": [
    "#\n",
    "\n",
    "fig = plt.figure(figsize=(WIDTH, HEIGHT), dpi=DPI)\n",
    "ax1 = plt.subplot(111)\n",
    "\n",
    "x = SS_df['chi3']\n",
    "y = SS_df['energy']\n",
    "\n",
    "ymax = 10.0\n",
    "plt.hexbin(x, y, gridsize=40, cmap='nipy_spectral')\n",
    "ax1.set_xlim(TORMIN-1, TORMAX+1)\n",
    "ax1.set_ylim(y.min(), ymax)\n",
    "ax1.set_xlabel(r'$\\chi_{3}$')\n",
    "ax1.set_ylabel(r'Energy kcal/mol')\n",
    "ax1.set_title(r'Energy vs $\\chi_{3}$')\n",
    "ax1.xaxis.set_ticks(numpy.arange(TORMIN-1, TORMAX+1, 30))\n",
    "\n",
    "plt.show()\n"
   ]
  },
  {
   "cell_type": "code",
   "execution_count": null,
   "metadata": {},
   "outputs": [],
   "source": [
    "#\n",
    "TORMAX = 180 # for left handed (Chi3 < 0)\n",
    "fig = plt.figure(figsize=(WIDTH, HEIGHT), dpi=DPI)\n",
    "ax1 = plt.subplot(111)\n",
    "\n",
    "x = SS_df['chi3']\n",
    "y = SS_df['ca_distance']\n",
    "\n",
    "ymax = 8.0\n",
    "plt.hexbin(x, y, gridsize=80, cmap='nipy_spectral')\n",
    "ax1.set_xlim(TORMIN-1, TORMAX)\n",
    "ax1.set_ylim(y.min(), y.max())\n",
    "ax1.set_xlabel(r'$\\chi_{3}$')\n",
    "ax1.set_ylabel(r'C${\\alpha}$ Distance ($\\AA$)')\n",
    "ax1.set_title(r'C${\\alpha}$ Distance vs $\\chi_{3}$')\n",
    "ax1.xaxis.set_ticks(numpy.arange(TORMIN-1, TORMAX+1, 30))\n",
    "\n",
    "plt.show()\n"
   ]
  },
  {
   "cell_type": "markdown",
   "metadata": {},
   "source": []
  },
  {
   "cell_type": "code",
   "execution_count": null,
   "metadata": {},
   "outputs": [],
   "source": []
  },
  {
   "cell_type": "code",
   "execution_count": 26,
   "metadata": {},
   "outputs": [
    {
     "data": {
      "image/png": "[encoded data removed]",
      "text/plain": [
       "<Figure size 640x480 with 1 Axes>"
      ]
     },
     "metadata": {},
     "output_type": "display_data"
    }
   ],
   "source": [
    "from sklearn.mixture import GaussianMixture\n",
    "n_clusters = 8\n",
    "\n",
    "_cols = ['chi1', 'chi2', 'chi3', 'chi4', 'chi5', 'torsion_length', 'energy', 'ca_distance']\n",
    "\n",
    "tor_df = SS_df[_cols]\n",
    "tor_df.head(1)\n",
    "gmm_model = GaussianMixture(n_components=n_clusters)\n",
    "gmm_model.fit(tor_df)\n",
    "cluster_labels = gmm_model.predict(tor_df)\n",
    "X = pd.DataFrame(tor_df)\n",
    "X['cluster'] = cluster_labels\n",
    "for k in range(n_clusters):\n",
    "    data = X[X['cluster'] == k]\n",
    "    plt.scatter(data['torsion_length'], data['ca_distance'], s=2)\n",
    "\n",
    "plt.show()\n",
    "\n"
   ]
  },
  {
   "cell_type": "code",
   "execution_count": null,
   "metadata": {},
   "outputs": [],
   "source": [
    "tor_df.head()"
   ]
  },
  {
   "cell_type": "code",
   "execution_count": null,
   "metadata": {},
   "outputs": [],
   "source": [
    "# takes over an hour for full dataset\n",
    "from sklearn.cluster import SpectralClustering\n",
    "import seaborn as sns\n",
    "\n",
    "_cols = ['chi1', 'chi2', 'chi3', 'chi4', 'chi5', 'torsion_length']\n",
    "#cols = ['ca_distance', 'chi3', 'energy', 'torsion_length']\n",
    "\n",
    "# tor_df = SS_df[['chi1', 'chi2', 'chi3', 'chi4', 'chi5']].copy()\n",
    "\n",
    "tor_df = SS_df[_cols].copy()\n",
    "\n",
    "X = tor_df\n",
    "n_clusters = 4\n",
    "\n",
    "scm_model = SpectralClustering(n_clusters=n_clusters, random_state=25,\n",
    "                                n_neighbors=8, affinity='nearest_neighbors')\n",
    "# takes 51 min with full dataset\n",
    "X['cluster'] = scm_model.fit_predict(X[['torsion_length']])\n",
    "\n",
    "fig, ax = plt.subplots()\n",
    "ax.set(title='Spectral Clustering')\n",
    "sns.scatterplot(x='chi3', y='torsion_length', data=X, hue='cluster', ax=ax, size=2)\n"
   ]
  },
  {
   "cell_type": "code",
   "execution_count": 27,
   "metadata": {},
   "outputs": [
    {
     "ename": "",
     "evalue": "",
     "output_type": "error",
     "traceback": [
      "\u001b[1;31mThe Kernel crashed while executing code in the the current cell or a previous cell. Please review the code in the cell(s) to identify a possible cause of the failure. Click <a href='https://aka.ms/vscodeJupyterKernelCrash'>here</a> for more info. View Jupyter <a href='command:jupyter.viewOutput'>log</a> for further details."
     ]
    },
    {
     "ename": "",
     "evalue": "",
     "output_type": "error",
     "traceback": [
      "\u001b[1;31mCanceled future for execute_request message before replies were done"
     ]
    }
   ],
   "source": [
    "# takes over an hour for full dataset\n",
    "from sklearn.cluster import AffinityPropagation\n",
    "import seaborn as sns\n",
    "n_clusters = 6\n",
    "\n",
    "_cols = ['chi1', 'chi2', 'chi3', 'chi4', 'chi5', 'torsion_length']\n",
    "tor_df = SS_df[_cols].copy()\n",
    "\n",
    "X = tor_df.copy()\n",
    "\n",
    "aff_model = AffinityPropagation(max_iter=50, random_state=25)\n",
    "# takes 51 min with full dataset\n",
    "X['cluster'] = aff_model.fit_predict(X[['torsion_length']])\n",
    "\n"
   ]
  },
  {
   "cell_type": "code",
   "execution_count": null,
   "metadata": {},
   "outputs": [],
   "source": [
    "fig, ax = plt.subplots()\n",
    "ax.set(title='Affinity Propagation')\n",
    "sns.scatterplot(x='chi1', y='chi5', data=X, hue='cluster', ax=ax, size=2)\n"
   ]
  },
  {
   "cell_type": "code",
   "execution_count": null,
   "metadata": {},
   "outputs": [],
   "source": [
    "# takes over an hour for full dataset\n",
    "from sklearn.cluster import AgglomerativeClustering\n",
    "n_clusters = 16\n",
    "custom_palette = sns.color_palette(\"Dark2\", n_clusters)\n",
    "\n",
    "n_clusters = 4\n",
    "\n",
    "tor_df = SS_df[['chi1', 'chi2', 'chi3', 'chi4', 'chi5', 'torsion_length']].copy()\n",
    "X = tor_df.copy()\n",
    "\n",
    "agg_model = AgglomerativeClustering(n_clusters=n_clusters)\n",
    "\n",
    "X['cluster'] = agg_model.fit_predict(X[['chi1', 'chi5']])\n",
    "\n",
    "fig, ax = plt.subplots()\n",
    "ax.set(title='Agglomerative Clustering')\n",
    "sns.scatterplot(x='chi1', y='chi5', data=X, hue='cluster', ax=ax, size=2, palette=custom_palette)\n"
   ]
  },
  {
   "cell_type": "code",
   "execution_count": null,
   "metadata": {},
   "outputs": [],
   "source": [
    "labels = {'value': 'Chi3', 'variable': 'Variable'}\n",
    "\n",
    "x = SS_df['chi3']\n",
    "y = SS_df['energy']\n",
    "df = SS_df[['chi3', 'energy']].copy()\n",
    "\n",
    "energy_hist = numpy.histogram2d(x, y=y, bins=360)\n",
    "energy_hist = energy_hist\n",
    "\n",
    "fig = px.histogram(df, labels=labels)\n",
    "\n",
    "fig.show()"
   ]
  },
  {
   "cell_type": "code",
   "execution_count": null,
   "metadata": {},
   "outputs": [],
   "source": [
    "cols = ['chi1', 'chi5']\n",
    "px.histogram(SS_df[cols], labels=labels)"
   ]
  },
  {
   "cell_type": "code",
   "execution_count": null,
   "metadata": {},
   "outputs": [],
   "source": [
    "cols = ['chi2', 'chi4']\n",
    "px.histogram(SS_df[cols], labels=labels)"
   ]
  },
  {
   "cell_type": "markdown",
   "metadata": {},
   "source": []
  },
  {
   "cell_type": "code",
   "execution_count": null,
   "metadata": {},
   "outputs": [],
   "source": [
    "px.histogram(SS_df['chi3'], labels=labels)"
   ]
  },
  {
   "attachments": {},
   "cell_type": "markdown",
   "metadata": {},
   "source": [
    "## Examining Disulfide Conformational Families\n",
    "Richardson et al characterized two principal conformational families for Disulfide bonds, a *Left Handed Spiral* with dihedral angles around, -60, -90, -90, -90, -60 and a *Right Handed Hook* with dihedrals, -60, 120, 90, -50, -60. My research found another class, the *Left Handed Hook* with dihedrals x, x, x, x, x. We can easily examine the representative neighbors of these families using one of the nearest neighbor functions available through the ```Disulfide``` class."
   ]
  },
  {
   "cell_type": "code",
   "execution_count": null,
   "metadata": {},
   "outputs": [],
   "source": [
    "\n",
    "# retrieve the torsions dataframe\n",
    "from proteusPy.Disulfide import Torsion_DF_Cols\n",
    "\n",
    "_SSdf = PDB_SS.getTorsions()\n",
    "\n",
    "# there are a few structures with bad SSBonds. Their\n",
    "# CA distances are > 7.0. We remove them from consideration\n",
    "# below\n",
    "\n",
    "_near = _SSdf['ca_distance'] < 9.0\n",
    "\n",
    "# entire database\n",
    "SS_df = _SSdf[_near]\n",
    "\n",
    "SS_df = SS_df[Torsion_DF_Cols].copy()\n",
    "SS_df.describe()\n",
    "\n",
    "sslist = PDB_SS.SSList\n",
    "LHS_neighbors = sslist.nearest_neighbors(-60, -90, -90, -90, -60, 15.0)\n",
    "LHS_neighbors.length"
   ]
  },
  {
   "cell_type": "code",
   "execution_count": null,
   "metadata": {},
   "outputs": [],
   "source": [
    "LHS_neighbors.display_overlay(light=False)"
   ]
  },
  {
   "cell_type": "code",
   "execution_count": null,
   "metadata": {},
   "outputs": [],
   "source": [
    "sslist = PDB_SS.SSList\n",
    "RHH_neighbors = sslist.nearest_neighbors(-60, 120, 90, -50, -60, 30)\n",
    "RHH_neighbors.length"
   ]
  },
  {
   "cell_type": "code",
   "execution_count": null,
   "metadata": {},
   "outputs": [],
   "source": [
    "RHH_neighbors.display_overlay(light=False)"
   ]
  },
  {
   "cell_type": "code",
   "execution_count": null,
   "metadata": {},
   "outputs": [],
   "source": []
  },
  {
   "attachments": {},
   "cell_type": "markdown",
   "metadata": {},
   "source": [
    "## Distribution of Backbone Dihedral Angles $\\phi - \\psi$\n",
    "A protein's backbone conformation is defined by the dihdedral angles $\\phi$ and $\\psi$. The ```proteusPy.Disulfide.ExtractDisulfides()``` function computes these at time of Disulfide extraction."
   ]
  },
  {
   "cell_type": "code",
   "execution_count": null,
   "metadata": {},
   "outputs": [],
   "source": [
    "GRIDSIZE=40\n",
    "\n",
    "x = SS_df['phi_prox']\n",
    "y = SS_df['psi_prox']\n",
    "\n",
    "x2 = SS_df['phi_dist']\n",
    "y2 = SS_df['psi_dist']\n",
    "\n",
    "plt.rcParams.update({'font.size': 8})\n",
    "plt.rcParams['text.usetex'] = True\n",
    "\n",
    "fig = plt.figure(figsize=(WIDTH, HEIGHT), dpi=DPI)\n",
    "\n",
    "fig.suptitle(r'RCSB Disulfide Bond $\\phi - \\psi$ Dihedral Angles', fontsize=8)\n",
    "\n",
    "ax1, ax2 = fig.subplots(1, 2, sharey=False)\n",
    "\n",
    "ax1.tick_params(axis='both', which='major', labelsize=6)\n",
    "ax2.tick_params(axis='both', which='major', labelsize=6)\n",
    "\n",
    "ax1.set_xlim(TORMIN-1, TORMAX+1)\n",
    "ax1.set_ylim(TORMIN-1, TORMAX+1)\n",
    "ax1.xaxis.set_ticks(numpy.arange(TORMIN-1, TORMAX+1, 60))\n",
    "\n",
    "ax1.set_xlabel(r'$\\phi$ Proximal')\n",
    "ax1.set_ylabel(r'$\\psi$')\n",
    "\n",
    "ax1.hexbin(x, y, gridsize=GRIDSIZE, cmap='nipy_spectral')\n",
    "\n",
    "ax2.set_xlim(TORMIN, TORMAX)\n",
    "ax2.set_ylim(-180, 180)\n",
    "ax2.xaxis.set_ticks(numpy.arange(TORMIN-1, TORMAX+1, 60))\n",
    "\n",
    "ax2.set_xlabel(r'$\\phi$ Distal')\n",
    "ax2.hexbin(x2, y2, gridsize=GRIDSIZE, cmap='nipy_spectral')\n",
    "\n",
    "plt.show()\n"
   ]
  },
  {
   "cell_type": "markdown",
   "metadata": {},
   "source": [
    "## Summary\n",
    "Conformational analysis of 294,222 disulfide bonds in 36,362 proteins contained in the RCSB confirms the predominant conformational classes first described in my initial analysis:\n",
    "- Left-Handed Spiral\n",
    "- Right-Handed Hook\n",
    "- Left-Handed Spiral\n",
    "  "
   ]
  },
  {
   "attachments": {},
   "cell_type": "markdown",
   "metadata": {},
   "source": [
    "## Appendix\n",
    "### Data Cleaning\n",
    "* Parsing PDB files\n",
    "* Extracting disulfides\n",
    "* Removing redundant disulfides\n",
    "* "
   ]
  },
  {
   "cell_type": "code",
   "execution_count": null,
   "metadata": {},
   "outputs": [],
   "source": []
  },
  {
   "cell_type": "markdown",
   "metadata": {},
   "source": [
    "## Publications\n",
    "* https://doi.org/10.1021/bi00368a023\n",
    "* https://doi.org/10.1021/bi00368a024\n",
    "* https://doi.org/10.1016/0092-8674(92)90140-8\n",
    "* http://dx.doi.org/10.2174/092986708783330566"
   ]
  },
  {
   "attachments": {},
   "cell_type": "markdown",
   "metadata": {},
   "source": []
  },
  {
   "attachments": {},
   "cell_type": "markdown",
   "metadata": {},
   "source": []
  },
  {
   "cell_type": "code",
   "execution_count": null,
   "metadata": {},
   "outputs": [],
   "source": []
  },
  {
   "cell_type": "code",
   "execution_count": null,
   "metadata": {},
   "outputs": [],
   "source": []
  }
 ],
 "metadata": {
  "kernelspec": {
   "display_name": "Proteus",
   "language": "python",
   "name": "proteus"
  },
  "language_info": {
   "codemirror_mode": {
    "name": "ipython",
    "version": 3
   },
   "file_extension": ".py",
   "mimetype": "text/x-python",
   "name": "python",
   "nbconvert_exporter": "python",
   "pygments_lexer": "ipython3",
   "version": "3.9.15"
  },
  "vscode": {
   "interpreter": {
    "hash": "67eff1aa11768869f1d52cc83ff6f6101b62fd1ade35be784bd3767ddc8bd460"
   }
  }
 },
 "nbformat": 4,
 "nbformat_minor": 4
}
