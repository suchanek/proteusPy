{
 "cells": [
  {
   "cell_type": "markdown",
   "metadata": {},
   "source": [
    "### Python Preamble"
   ]
  },
  {
   "cell_type": "code",
   "execution_count": null,
   "metadata": {},
   "outputs": [],
   "source": [
    "# Disulfide Bond Analysis\n",
    "# Author: Eric G. Suchanek, PhD.\n",
    "# Last revision: 1/7/23 -egs-\n",
    "# Cα Cβ Sγ\n",
    "\n",
    "import math\n",
    "%matplotlib inline\n",
    "import matplotlib\n",
    "import matplotlib.pyplot as plt\n",
    "import plotly_express as px\n",
    "import seaborn as sns\n",
    "\n",
    "import proteusPy\n",
    "from proteusPy import *\n",
    "from proteusPy.Disulfide import *\n",
    "from proteusPy.proteusGlobals import *\n",
    "\n",
    "import pandas as pd\n",
    "import pyvista as pv\n",
    "from pyvista import set_plot_theme\n",
    "\n",
    "pv.set_jupyter_backend('ipyvtklink')\n",
    "set_plot_theme('dark')\n",
    "\n",
    "# the locations below represent the actual location on the dev drive.\n",
    "# location for PDB repository\n",
    "PDB_BASE = '/Users/egs/PDB/'\n",
    "\n",
    "# location of cleaned PDB files\n",
    "PDB = '/Users/egs/PDB/good/'\n",
    "\n",
    "# location of the compressed Disulfide .pkl files\n",
    "MODELS = f'{PDB_BASE}models/'\n"
   ]
  },
  {
   "attachments": {},
   "cell_type": "markdown",
   "metadata": {},
   "source": [
    "# Analysis of Disulfide Bonds in Proteins Within the RCSB Protein Data Bank\n",
    "*Eric G. Suchanek, PhD. (suchanek@mac.com)* <br> <br>\n",
    "\n",
    "## Summary\n",
    "I describe the results of a structural analysis of Disulfide bonds contained in 36,362 proteins within the RCSB Protein databank, https://www.rcsb.org. These protein structures contained 294,478 Disulfide Bonds.  The analysis utilizes Python functions from my ``ProteusPy`` package https://github.com/suchanek/proteusPy/, which is built upon the excellent ``BioPython`` library (https://www.biopython.org). \n",
    "\n",
    "This work represents a reprise of my original Disulfide modeling analysis conducted in 1986 ([publications](#publications) item 1) as part of my dissertation. Given the original Disulfide database contained only 2xx Disulfide Bonds I felt it would be interesting to revisit the RCSB and mine the thousands of new structures. The initial results are described in the cells below.\n",
    "\n",
    "### Requirements\n",
    " - Biopython patched version, or my delta applied\n",
    " - proteusPy: https://github.com/suchanek/proteusPy/\n",
    "\n",
    "## Introduction\n",
    "Disulfide bonds are important covalent stabilizing elements in proteins. They are formed when two Sulphur-containing Cysteine (Cys) amino acid residues are close enough and in the correct geometry to form a S-S covalent bond with their terminal sidechain Sγ atoms. Disulfide bonds most commonly occur between alpha helices and greatly enhance a protein's stability to denaturation. \n"
   ]
  },
  {
   "cell_type": "markdown",
   "metadata": {},
   "source": [
    "## Download PDB Files containing Disulfide Bonds"
   ]
  },
  {
   "cell_type": "markdown",
   "metadata": {},
   "source": [
    "The RCSB query yielded "
   ]
  },
  {
   "cell_type": "code",
   "execution_count": null,
   "metadata": {},
   "outputs": [],
   "source": [
    "\n",
    "# Download_Disulfides(pdb_home=PDB_BASE, model_home=MODELS, reset=False)\n"
   ]
  },
  {
   "cell_type": "markdown",
   "metadata": {},
   "source": [
    "## Extract the Disulfides from the PDB files\n",
    "The function ``Extract_Disulfides()`` processes all the .ent files in ``PDB_DIR`` and creates two .pkl files representing the Disulfide bonds contained in the scanned directory. In addition, a .csv file containing problem IDs is written if any are found. The .pkl files are consumed by the ``DisulfideLoader`` class and are considered private. You'll see numerous warnings during the scan. Files that are unparsable are removed and their IDs are logged to the problem_id.csv file. The default file locations are stored in the file globals.py and are the used by ``DisulfideExtractor()`` in the absence of arguments passed. The Disulfide parser is very stringent and will reject disulfide bonds with missing atoms or disordered atoms.\n",
    "\n",
    "\n",
    "Outputs are saved in ``MODEL_DIR``:\n",
    "1) ``SS_PICKLE_FILE``: The ``DisulfideList`` of ``Disulfide`` objects initialized from the PDB file scan, needed by the ``DisulfideLoader()`` class.\n",
    "2) ``SS_DICT_PICKLE_FILE``: the ``Dict Disulfide`` objects also needed by the ``DisulfideLoader()`` class\n",
    "3) ``PROBLEM_ID_FILE``: a .csv containining the problem ids.\n",
    "\n",
    "In general, the process only needs to be run once for a full scan. Setting the ``numb`` argument to -1 scans the entire directory. Entering a positive number allows parsing a subset of the dataset, which is useful when debugging. Setting ``verbose`` enables verbose messages. Setting ``quiet`` to ``True`` disables all warnings.\n",
    "\n",
    "NB: A extraction of the initial disulfide bond-containing files (> 36000 files) takes about 1.25 hours on a 2020 MacbookPro with M1 Pro chip, 16GB RAM, 1TB SSD. The resulting .pkl files consume approximately 1GB of disk space, and equivalent RAM used when loaded."
   ]
  },
  {
   "cell_type": "code",
   "execution_count": null,
   "metadata": {},
   "outputs": [],
   "source": [
    "\n",
    "\n",
    "# Extract_Disulfides(numb=1000, pdbdir=PDB, datadir=MODELS, verbose=False, quiet=True)\n"
   ]
  },
  {
   "cell_type": "markdown",
   "metadata": {},
   "source": [
    "## Load the Disulfide Data\n",
    "Now that the Disulfides have been extracted and the Disulfide .pkl files have been created we can load them into memory using the DisulfideLoader() class. This class stores the Disulfides internally as a DisulfideList and a dict. Array indexing operations including slicing have been overloaded, enabling straightforward access to the Disulfide bonds, both in aggregate and by residue. After loading the .pkl files the Class creates a Pandas ``DataFrame`` object consisting of the Disulfide ID, all sidechain dihedral angles, the local coordinates for the Disulfide and the computed Disulfide bond torsional energy.\n",
    "\n",
    "NB: Loading the data takes 2.5 minutes on my MacbookPro. Be patient if it seems to take a long time to load."
   ]
  },
  {
   "cell_type": "code",
   "execution_count": null,
   "metadata": {},
   "outputs": [],
   "source": [
    "# when running from the repo the local copy of the Disulfides is in ../pdb/models\n",
    "# PDB_BASE = '../pdb/'\n",
    "\n",
    "# location of the compressed Disulfide .pkl files\n",
    "# MODELS = f'{PDB_BASE}models/'\n",
    "\n",
    "PDB_SS = None\n",
    "PDB_SS = DisulfideLoader(verbose=True, datadir=MODELS)\n"
   ]
  },
  {
   "attachments": {},
   "cell_type": "markdown",
   "metadata": {},
   "source": [
    "The Disulfide and DisulfideList classes include rendering capabiities using the excellent PyVista interface to the VTK package. (http://pyvista.org). The following cell displays the first Disulfide bond in the database in ball-and stick style. Atoms are colored by atom type:\n",
    "- Grey = Carbon\n",
    "- Blue = Nitrogen\n",
    "- Red = Oxygen\n",
    "- Yellow = Sulfur\n",
    "- White = Previous residue carbonyl carbon and next residue amino Nitrogen. (more on this below).\n",
    "\n",
    "The display is actually interactive. Select drag to rotate, mousewheel to zoom. The X-Y-Z widget in the window upper right allows orientation against the X, Y and Z axes."
   ]
  },
  {
   "cell_type": "code",
   "execution_count": null,
   "metadata": {},
   "outputs": [],
   "source": [
    "ss = PDB_SS[0]\n",
    "ss.display(style='bs')"
   ]
  },
  {
   "attachments": {},
   "cell_type": "markdown",
   "metadata": {},
   "source": [
    "The Disulfide and DisufideLoader classes can render Disulfides and DisulfideLists in several molecular styles"
   ]
  },
  {
   "cell_type": "code",
   "execution_count": null,
   "metadata": {},
   "outputs": [],
   "source": [
    "ss.display(style='cpk')"
   ]
  },
  {
   "attachments": {},
   "cell_type": "markdown",
   "metadata": {},
   "source": [
    "## Examine the Disulfide Torsions\n",
    "The disulfide bond's overall conformation is defined by the sidechain dihedral angles $\\chi_{1}$-$\\chi_{5}$. Since the S-S bond has electron delocalization, it exhibits some double-bond character with strong minima at $+90°$ and $-90°$. The *Left-handed* Disulfides have $\\chi_{3}$ < 0.0° and the *Right-handed* have a $\\chi_{3}$ > 0.0°.\n",
    "\n",
    "These torsion values along with the approximate torsional energy are stored in the DisulfideLoader() class and individually within each Disulfide object. We access them via the ``DisulfideList.getTorsions()`` function.\n",
    "\n",
    "We can get a quick look at their overall statistics using the ``Pandas.describe()`` function.\n"
   ]
  },
  {
   "cell_type": "code",
   "execution_count": null,
   "metadata": {},
   "outputs": [],
   "source": [
    "#\n",
    "#\n",
    "# split out the left/right handed torsions from the dataframe\n",
    "#\n",
    "# retrieve the torsions dataframe\n",
    "\n",
    "_cols = ['source', 'ss_id', 'proximal', 'distal', 'chi1', 'chi2', 'chi3', 'chi4', 'chi5', 'energy', 'ca_distance', 'phi_prox', 'psi_prox', 'phi_dist', 'psi_dist']\n",
    "_SSdf = PDB_SS.getTorsions()\n",
    "\n",
    "# there are a few structures with bad SSBonds. Their\n",
    "# CA distances are > 7.0. We remove them from consideration\n",
    "# below\n",
    "\n",
    "_far = _SSdf['ca_distance'] >= 7.0\n",
    "_near = _SSdf['ca_distance'] < 7.0\n",
    "_zed = _SSdf['ca_distance'] == 0.0\n",
    "\n",
    "SS_df_zed = _SSdf[_zed].copy()\n",
    "SS_df_Far = _SSdf[_far].copy()\n",
    "\n",
    "SS_df = _SSdf.copy()\n",
    "SS_df = SS_df[_cols].copy()\n",
    "\n",
    "SS_df.describe()\n"
   ]
  },
  {
   "cell_type": "code",
   "execution_count": null,
   "metadata": {},
   "outputs": [],
   "source": [
    "SS_df_Far.describe()"
   ]
  },
  {
   "cell_type": "code",
   "execution_count": null,
   "metadata": {},
   "outputs": [],
   "source": []
  },
  {
   "attachments": {},
   "cell_type": "markdown",
   "metadata": {},
   "source": [
    "## Examining Disulfide Energies\n"
   ]
  },
  {
   "cell_type": "code",
   "execution_count": null,
   "metadata": {},
   "outputs": [],
   "source": [
    "labels = {'value': 'Energy', 'variable': 'Count'}\n",
    "cols = ['energy', 'ca_distance']\n",
    "px.histogram(SS_df['energy'], labels=labels, histnorm='probability')\n"
   ]
  },
  {
   "attachments": {},
   "cell_type": "markdown",
   "metadata": {},
   "source": [
    "### Find the highest energy disulfide and display it"
   ]
  },
  {
   "cell_type": "code",
   "execution_count": null,
   "metadata": {},
   "outputs": [],
   "source": [
    "idx_max = SS_df['energy'].idxmax()\n",
    "ssmax = PDB_SS[idx_max]\n",
    "ssmax.display(style='sb')\n"
   ]
  },
  {
   "cell_type": "code",
   "execution_count": null,
   "metadata": {},
   "outputs": [],
   "source": [
    "torsions = PDB_SS.getTorsions()\n",
    "torsions.sort_values(by=['energy'], ascending=False, inplace=True)\n",
    "\n",
    "torsions.head(10)"
   ]
  },
  {
   "attachments": {},
   "cell_type": "markdown",
   "metadata": {},
   "source": [
    "The structure above shows that the previous and next residues have missing atoms (the long vectors drawn)."
   ]
  },
  {
   "cell_type": "code",
   "execution_count": null,
   "metadata": {},
   "outputs": [],
   "source": [
    "SS_df = SS_df.sort_values(by=['energy'])\n",
    "#print(f'{SS_df.head(20)}')\n",
    "badlist = SS_df[['ss_id']\n",
    "print(f'{badlist[20:]}')\n",
    "\n",
    "bad_SS_list = DisulfideList([],'20 top high energy')\n",
    "ss = Disulfide()\n",
    "\n",
    "for i in range(20):\n",
    "    ssid = badlist[i]\n",
    "    ss = PDB_SS.get_by_name(ssid)\n",
    "    bad_SS_list.append(ss)\n",
    "    #print(f'Energy: {ss.energy}')\n",
    "\n",
    "#bad_SS_list\n"
   ]
  },
  {
   "cell_type": "markdown",
   "metadata": {},
   "source": []
  },
  {
   "cell_type": "code",
   "execution_count": null,
   "metadata": {},
   "outputs": [],
   "source": [
    "labels = {'value': 'Ca Distance', 'variable': 'Count'}\n",
    "cols = ['energy', 'ca_distance']\n",
    "data = SS_df[cols].copy()\n",
    "px.histogram(SS_df['energy'], labels=labels)\n",
    "#px.histogram(SS_df[cols], labels=labels)\n"
   ]
  },
  {
   "cell_type": "code",
   "execution_count": null,
   "metadata": {},
   "outputs": [],
   "source": []
  },
  {
   "attachments": {},
   "cell_type": "markdown",
   "metadata": {},
   "source": [
    "## Examining the Torsion Angles\n",
    "\n"
   ]
  },
  {
   "cell_type": "code",
   "execution_count": null,
   "metadata": {},
   "outputs": [],
   "source": [
    "labels = {'value': 'Angle', 'variable': 'Torsion'}\n",
    "cols = ['chi1', 'chi5']\n",
    "data = SS_df[cols].copy()\n",
    "data.set_index('chi1')\n",
    "\n",
    "px.histogram(SS_df, x='chi1', y='chi5', labels=labels, histfunc='avg', nbins=90)\n",
    "px.histogram(SS_df[cols], labels=labels)\n"
   ]
  },
  {
   "attachments": {},
   "cell_type": "markdown",
   "metadata": {},
   "source": [
    "### Examining torsions by Disulfide Handedness\n",
    "We split the dataset into these two families easily with Pandas."
   ]
  },
  {
   "cell_type": "code",
   "execution_count": null,
   "metadata": {},
   "outputs": [],
   "source": [
    "# make two dataframes containing left handed and right handed disulfides\n",
    "\n",
    "_left = SS_df['chi3'] <= 0.0\n",
    "_right = SS_df['chi3'] > 0.0\n",
    "\n",
    "# left handed and right handed torsion dataframes\n",
    "SS_df_Left = SS_df[_left]\n",
    "SS_df_Right = SS_df[_right]\n"
   ]
  },
  {
   "cell_type": "code",
   "execution_count": null,
   "metadata": {},
   "outputs": [],
   "source": [
    "# routine creates 2 lists  for left-handed and right-handed disulfides \n",
    "ss_list = PDB_SS.getlist()\n",
    "left_handed_SS = DisulfideList([], 'left_handed')\n",
    "right_handed_SS = DisulfideList([], 'right_handed')\n",
    "\n",
    "i = 0\n",
    "\n",
    "for i in range(0, len(ss_list)):\n",
    "    ss = ss_list[i]\n",
    "    if ss.chi3 < 0:\n",
    "        left_handed_SS.append(ss)\n",
    "    else:\n",
    "        right_handed_SS.append(ss)\n",
    "\n",
    "\n",
    "print(f'Left Handed: {len(left_handed_SS)}, Right Handed: {len(right_handed_SS)}')\n",
    "\n"
   ]
  },
  {
   "cell_type": "markdown",
   "metadata": {},
   "source": []
  },
  {
   "cell_type": "code",
   "execution_count": null,
   "metadata": {},
   "outputs": [],
   "source": [
    "px.histogram(SS_df, x='chi2', y='chi4', labels=labels, histfunc='avg', nbins=90)"
   ]
  },
  {
   "cell_type": "code",
   "execution_count": null,
   "metadata": {},
   "outputs": [],
   "source": [
    "labels2 = {'value': 'Angle', 'variable': 'Distance'}\n",
    "px.histogram(SS_df, x='ca_distance', labels=labels2, nbins=100)"
   ]
  },
  {
   "cell_type": "markdown",
   "metadata": {},
   "source": [
    "We can use a hexbin plot to generate the equivalent of a heatmap to explore the symmetry for the Chi1-Chi5 and Chi2-Chi4 dihedral angles. Since the disulfide bond is symmetric about Chi3 (the S-S bond), one would expect the distribution of Chi1 to be similar to Chi5, and the same with Chi2 and Chi4."
   ]
  },
  {
   "cell_type": "code",
   "execution_count": null,
   "metadata": {},
   "outputs": [],
   "source": [
    "\n",
    "# Set the figure sizes and axis limits.\n",
    "DPI = 220\n",
    "WIDTH = 6.0\n",
    "HEIGHT = 3.0\n",
    "TORMIN = -179.0\n",
    "TORMAX = 180.0\n",
    "GRIDSIZE = 20\n"
   ]
  },
  {
   "cell_type": "code",
   "execution_count": null,
   "metadata": {},
   "outputs": [],
   "source": [
    "x = SS_df['ca_distance']\n",
    "plt.rcParams.update({'font.size': 8})\n",
    "plt.rcParams['text.usetex'] = True\n",
    "\n",
    "fig = plt.figure(figsize=(WIDTH, HEIGHT), dpi=DPI)\n",
    "fig.suptitle(r'$\\chi_{1} - \\chi_{5}$ Symmetry', fontsize=8)\n",
    "\n",
    "ax1= fig.subplots()\n",
    "ax1.set_xlabel(r'Distance')\n",
    "ax1.set_ylabel(r'Frequency')\n",
    "\n",
    "ax1.hist(x)\n",
    "\n",
    "plt.show()\n"
   ]
  },
  {
   "cell_type": "code",
   "execution_count": null,
   "metadata": {},
   "outputs": [],
   "source": [
    "# !!!\n",
    "\n",
    "x = SS_df_Left['chi1']\n",
    "y = SS_df_Left['chi5']\n",
    "\n",
    "x2 = SS_df_Right['chi1']\n",
    "y2 = SS_df_Right['chi5']\n",
    "\n",
    "plt.rcParams.update({'font.size': 8})\n",
    "plt.rcParams['text.usetex'] = True\n",
    "\n",
    "fig = plt.figure(figsize=(WIDTH, HEIGHT), dpi=DPI)\n",
    "\n",
    "ax1, ax2 = fig.subplots(1, 2, sharey=True)\n",
    "\n",
    "fig.suptitle(r'$\\chi_{1} - \\chi_{5}$ Symmetry', fontsize=8)\n",
    "\n",
    "ax1.tick_params(axis='both', which='major', labelsize=6)\n",
    "ax2.tick_params(axis='both', which='major', labelsize=6)\n",
    "\n",
    "ax1.set_xlim(TORMIN-1, TORMAX+1)\n",
    "ax1.set_ylim(TORMIN-1, TORMAX+1)\n",
    "\n",
    "ax1.xaxis.set_ticks(numpy.arange(TORMIN-1, TORMAX+1, 60))\n",
    "\n",
    "ax1.set_xlabel(r'$\\chi_{1 (left-handed)}$')\n",
    "ax1.set_ylabel(r'$\\chi_{5}$')\n",
    "\n",
    "ax1.hexbin(x, y, gridsize=GRIDSIZE, cmap='nipy_spectral')\n",
    "\n",
    "ax2.set_xlim(TORMIN, TORMAX)\n",
    "ax2.set_ylim(TORMIN-1, TORMAX+1)\n",
    "\n",
    "ax2.xaxis.set_ticks(numpy.arange(TORMIN-1, TORMAX+1, 60))\n",
    "\n",
    "ax2.set_xlabel(r'$\\chi_{1 (right-handed)}$')\n",
    "\n",
    "ax2.hexbin(x2, y2, gridsize=GRIDSIZE, cmap='nipy_spectral')\n",
    "\n",
    "plt.show()\n",
    "\n"
   ]
  },
  {
   "cell_type": "markdown",
   "metadata": {},
   "source": [
    "The distributions look extremely similar for both the left-handed and right-handed populations. Let's look at Chi2 and Chi4 to see if this holds true."
   ]
  },
  {
   "cell_type": "code",
   "execution_count": null,
   "metadata": {},
   "outputs": [],
   "source": [
    "x = SS_df_Left['chi2']\n",
    "y = SS_df_Left['chi4']\n",
    "\n",
    "x2 = SS_df_Right['chi2']\n",
    "y2 = SS_df_Right['chi4']\n",
    "\n",
    "plt.rcParams.update({'font.size': 8})\n",
    "plt.rcParams['text.usetex'] = True\n",
    "\n",
    "fig = plt.figure(figsize=(WIDTH, HEIGHT), dpi=DPI)\n",
    "\n",
    "fig.suptitle(r'$\\chi_{2} - \\chi_{4}$ Symmetry', fontsize=8)\n",
    "\n",
    "ax1, ax2 = fig.subplots(1, 2, sharey=False)\n",
    "\n",
    "ax1.tick_params(axis='both', which='major', labelsize=6)\n",
    "ax2.tick_params(axis='both', which='major', labelsize=6)\n",
    "\n",
    "ax1.set_xlim(TORMIN-1, TORMAX+1)\n",
    "ax1.set_ylim(TORMIN-1, TORMAX+1)\n",
    "ax1.xaxis.set_ticks(numpy.arange(TORMIN-1, TORMAX+1, 60))\n",
    "\n",
    "ax1.set_xlabel(r'$\\chi_{2 (left-handed)}$')\n",
    "ax1.set_ylabel(r'$\\chi_{4}$')\n",
    "\n",
    "ax1.hexbin(x, y, gridsize=GRIDSIZE, cmap='nipy_spectral')\n",
    "\n",
    "ax2.set_xlim(TORMIN, TORMAX)\n",
    "ax2.set_ylim(-180, 180)\n",
    "ax2.xaxis.set_ticks(numpy.arange(TORMIN-1, TORMAX+1, 60))\n",
    "\n",
    "ax2.set_xlabel(r'$\\chi_{2 (right-handed)}$')\n",
    "ax2.hexbin(x2, y2, gridsize=GRIDSIZE, cmap='nipy_spectral')\n",
    "\n",
    "plt.show()\n",
    "\n"
   ]
  },
  {
   "cell_type": "markdown",
   "metadata": {},
   "source": [
    "The distributions for left/right show distinct differences. Both show the predicted minimum around -75 degrees, but the right-handed group shows a population of disfuldies in the +90 degree range."
   ]
  },
  {
   "cell_type": "markdown",
   "metadata": {},
   "source": []
  },
  {
   "cell_type": "code",
   "execution_count": null,
   "metadata": {},
   "outputs": [],
   "source": [
    "#\n",
    "\n",
    "fig = plt.figure(figsize=(WIDTH, HEIGHT), dpi=DPI)\n",
    "ax1 = plt.subplot(111)\n",
    "\n",
    "x = SS_df['chi3']\n",
    "y = SS_df['energy']\n",
    "\n",
    "ymax = 10.0\n",
    "plt.hexbin(x, y, gridsize=40, cmap='nipy_spectral')\n",
    "ax1.set_xlim(TORMIN-1, TORMAX+1)\n",
    "ax1.set_ylim(y.min(), ymax)\n",
    "ax1.set_xlabel(r'$\\chi_{3}$')\n",
    "ax1.set_ylabel(r'Energy kcal/mol')\n",
    "ax1.set_title(r'Energy vs $\\chi_{3}$')\n",
    "ax1.xaxis.set_ticks(numpy.arange(TORMIN-1, TORMAX+1, 30))\n",
    "\n",
    "plt.show()\n"
   ]
  },
  {
   "cell_type": "code",
   "execution_count": null,
   "metadata": {},
   "outputs": [],
   "source": [
    "#\n",
    "TORMAX = 180 # for left handed (Chi3 < 0)\n",
    "fig = plt.figure(figsize=(WIDTH, HEIGHT), dpi=DPI)\n",
    "ax1 = plt.subplot(111)\n",
    "\n",
    "x = SS_df['chi3']\n",
    "y = SS_df['ca_distance']\n",
    "\n",
    "ymax = 8.0\n",
    "plt.hexbin(x, y, gridsize=80, cmap='nipy_spectral')\n",
    "ax1.set_xlim(TORMIN-1, TORMAX)\n",
    "ax1.set_ylim(y.min(), y.max())\n",
    "ax1.set_xlabel(r'$\\chi_{3}$')\n",
    "ax1.set_ylabel(r'C${\\alpha}$ Distance ($\\AA$)')\n",
    "ax1.set_title(r'C${\\alpha}$ Distance vs $\\chi_{3}$')\n",
    "ax1.xaxis.set_ticks(numpy.arange(TORMIN-1, TORMAX+1, 30))\n",
    "\n",
    "plt.show()\n"
   ]
  },
  {
   "cell_type": "markdown",
   "metadata": {},
   "source": []
  },
  {
   "cell_type": "code",
   "execution_count": null,
   "metadata": {},
   "outputs": [],
   "source": [
    "from sklearn.mixture import GaussianMixture\n",
    "n_clusters = 8\n",
    "\n",
    "tor_df = SS_df[['chi1', 'chi2', 'chi3', 'chi4', 'chi5']].copy()\n",
    "tor_df.head(1)\n",
    "gmm_model = GaussianMixture(n_components=n_clusters)\n",
    "gmm_model.fit(tor_df)\n",
    "cluster_labels = gmm_model.predict(tor_df)\n",
    "X = pd.DataFrame(tor_df)\n",
    "X['cluster'] = cluster_labels\n",
    "for k in range(n_clusters):\n",
    "    data = X[X['cluster'] == k]\n",
    "    plt.scatter(data['chi1'], data['chi5'], s=2)\n",
    "\n",
    "plt.show()\n",
    "\n"
   ]
  },
  {
   "cell_type": "code",
   "execution_count": null,
   "metadata": {},
   "outputs": [],
   "source": [
    "# takes over an hour for full dataset\n",
    "from sklearn.cluster import SpectralClustering\n",
    "n_clusters = 8\n",
    "\n",
    "tor_df = SS_df[['chi1', 'chi2', 'chi3', 'chi4', 'chi5']].copy()\n",
    "X = tor_df.copy()\n",
    "\n",
    "scm_model = SpectralClustering(n_clusters=n_clusters, random_state=25,\n",
    "                                n_neighbors=8, affinity='nearest_neighbors')\n",
    "# takes 51 min with full dataset\n",
    "X['cluster'] = scm_model.fit_predict(X[['chi1', 'chi5']])\n",
    "\n",
    "fig, ax = plt.subplots()\n",
    "ax.set(title='Spectral Clustering')\n",
    "sns.scatterplot(x='chi1', y='chi4', data=X, hue='cluster', ax=ax, size=2)\n",
    "\n",
    "\n"
   ]
  },
  {
   "cell_type": "code",
   "execution_count": null,
   "metadata": {},
   "outputs": [],
   "source": [
    "# takes over an hour for full dataset\n",
    "from sklearn.cluster import AffinityPropagation\n",
    "n_clusters = 8\n",
    "\n",
    "tor_df = SS_df[['chi1', 'chi2', 'chi3', 'chi4', 'chi5']].copy()\n",
    "X = tor_df.copy()\n",
    "\n",
    "aff_model = AffinityPropagation(max_iter=600, random_state=25)\n",
    "# takes 51 min with full dataset\n",
    "X['cluster'] = aff_model.fit_predict(X[['chi1', 'chi5']])\n",
    "\n",
    "fig, ax = plt.subplots()\n",
    "ax.set(title='Affinity Propagation')\n",
    "sns.scatterplot(x='chi1', y='chi5', data=X, hue='cluster', ax=ax, size=2)\n"
   ]
  },
  {
   "cell_type": "code",
   "execution_count": null,
   "metadata": {},
   "outputs": [],
   "source": [
    "# takes over an hour for full dataset\n",
    "from sklearn.cluster import AgglomerativeClustering\n",
    "n_clusters = 4\n",
    "\n",
    "tor_df = SS_df[['chi1', 'chi2', 'chi3', 'chi4', 'chi5']].copy()\n",
    "X = tor_df.copy()\n",
    "\n",
    "agg_model = AgglomerativeClustering(n_clusters=n_clusters)\n",
    "\n",
    "X['cluster'] = agg_model.fit_predict(X[['chi1', 'chi5']])\n",
    "\n",
    "fig, ax = plt.subplots()\n",
    "ax.set(title='Agglomerative Clustering')\n",
    "sns.scatterplot(x='chi1', y='chi5', data=X, hue='cluster', ax=ax, size=2)\n"
   ]
  },
  {
   "cell_type": "code",
   "execution_count": null,
   "metadata": {},
   "outputs": [],
   "source": [
    "labels = {'value': 'Chi3', 'variable': 'Variable'}\n",
    "\n",
    "x = SS_df['chi3']\n",
    "y = SS_df['energy']\n",
    "df = SS_df[['chi3', 'energy']].copy()\n",
    "\n",
    "energy_hist = numpy.histogram2d(x, y=y, bins=360)\n",
    "energy_hist = energy_hist\n",
    "\n",
    "fig = px.histogram(df, labels=labels)\n",
    "\n",
    "fig.show()"
   ]
  },
  {
   "cell_type": "code",
   "execution_count": null,
   "metadata": {},
   "outputs": [],
   "source": [
    "cols = ['chi1', 'chi5']\n",
    "px.histogram(SS_df[cols], labels=labels)"
   ]
  },
  {
   "cell_type": "code",
   "execution_count": null,
   "metadata": {},
   "outputs": [],
   "source": [
    "cols = ['chi2', 'chi4']\n",
    "px.histogram(SS_df[cols], labels=labels)"
   ]
  },
  {
   "cell_type": "markdown",
   "metadata": {},
   "source": []
  },
  {
   "cell_type": "code",
   "execution_count": null,
   "metadata": {},
   "outputs": [],
   "source": [
    "px.histogram(SS_df['chi3'], labels=labels)"
   ]
  },
  {
   "cell_type": "markdown",
   "metadata": {},
   "source": [
    "## Summary\n",
    "Conformational analysis of 294,222 disulfide bonds in 36,362 proteins contained in the RCSB confirms the predominant conformational classes first described in my initial analysis:\n",
    "- Left-Handed Spiral\n",
    "- Right-Handed Hook\n",
    "- Left-Handed Spiral\n",
    "  "
   ]
  },
  {
   "cell_type": "markdown",
   "metadata": {},
   "source": [
    "## Publications\n",
    "* https://doi.org/10.1021/bi00368a023\n",
    "* https://doi.org/10.1021/bi00368a024\n",
    "* https://doi.org/10.1016/0092-8674(92)90140-8\n",
    "* http://dx.doi.org/10.2174/092986708783330566"
   ]
  },
  {
   "cell_type": "code",
   "execution_count": null,
   "metadata": {},
   "outputs": [],
   "source": []
  },
  {
   "cell_type": "code",
   "execution_count": null,
   "metadata": {},
   "outputs": [],
   "source": [
    "ss1 = PDB_SS[0]\n",
    "ss2 = PDB_SS[1]\n",
    "\n",
    "\n",
    "p = pv.Plotter()\n",
    "p = ss1.render(p)\n",
    "p = ss2.render(p)\n",
    "\n",
    "p.show()"
   ]
  },
  {
   "cell_type": "code",
   "execution_count": null,
   "metadata": {},
   "outputs": [],
   "source": [
    "\n",
    "from proteusPy.Disulfide import render_disulfide\n",
    "set_plot_theme('dark')\n",
    "\n",
    "ss1 = PDB_SS[0]\n",
    "ss2 = PDB_SS[1]\n",
    "\n",
    "print(f'{ss1.repr_compact()}')\n",
    "print(f'{ss2.repr_compact()}')\n"
   ]
  },
  {
   "cell_type": "code",
   "execution_count": null,
   "metadata": {},
   "outputs": [],
   "source": [
    "#pv.set_jupyter_backend('none')\n",
    "\n",
    "ss1 = PDB_SS[0]\n",
    "p = pv.Plotter()\n",
    "render_disulfide(ss1, p)\n",
    "p.show()\n",
    "\n"
   ]
  },
  {
   "cell_type": "code",
   "execution_count": null,
   "metadata": {},
   "outputs": [],
   "source": []
  }
 ],
 "metadata": {
  "kernelspec": {
   "display_name": "proteus",
   "language": "python",
   "name": "python3"
  },
  "language_info": {
   "codemirror_mode": {
    "name": "ipython",
    "version": 3
   },
   "file_extension": ".py",
   "mimetype": "text/x-python",
   "name": "python",
   "nbconvert_exporter": "python",
   "pygments_lexer": "ipython3",
   "version": "3.9.15 | packaged by conda-forge | (main, Nov 22 2022, 08:48:25) \n[Clang 14.0.6 ]"
  },
  "vscode": {
   "interpreter": {
    "hash": "67eff1aa11768869f1d52cc83ff6f6101b62fd1ade35be784bd3767ddc8bd460"
   }
  }
 },
 "nbformat": 4,
 "nbformat_minor": 4
}
