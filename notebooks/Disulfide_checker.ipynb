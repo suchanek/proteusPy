{
 "cells": [
  {
   "cell_type": "code",
   "execution_count": 10,
   "metadata": {},
   "outputs": [
    {
     "name": "stdout",
     "output_type": "stream",
     "text": [
      "Found: 9 PDB files\n",
      "Found: 38215 entries\n"
     ]
    }
   ],
   "source": [
    "#\n",
    "# Program reads a comma separated list of PDB IDs and download them\n",
    "# to the PDB_DIR global. \n",
    "# Used to download the list of proteins containing at least one SS bond\n",
    "# with the ID list generated from: http://www.rcsb.org/\n",
    "# \n",
    "#\n",
    "# Author: Eric G. Suchanek, PhD\n",
    "# Last modification 11/26/22\n",
    "#\n",
    "# \n",
    "\n",
    "import numpy\n",
    "import os\n",
    "import shutil\n",
    "from glob import glob\n",
    "\n",
    "from tqdm import tqdm\n",
    "from Bio.PDB import PDBList, PDBParser\n",
    "\n",
    "from Disulfide import check_header_from_file\n",
    "\n",
    "PDB_DIR = '/Users/egs/PDB'\n",
    "BAD_DIR = PDB_DIR + '/bad'\n",
    "\n",
    "pdblist = PDBList(pdb=PDB_DIR, verbose=False)\n",
    "parser = PDBParser(PERMISSIVE=True)\n",
    "\n",
    "os.chdir(PDB_DIR)\n",
    "all_pdb_files = glob(\"*.ent\")\n",
    "\n",
    "print(f'Found: {len(all_pdb_files)} PDB files')\n",
    "\n",
    "# list of IDs containing >1 SSBond record\n",
    "\n",
    "ssfile = open(f'{PDB_DIR}/ss_ids.txt')\n",
    "Line = ssfile.readlines()\n",
    "dlines = Line[0]\n",
    "\n",
    "for line in Line:\n",
    "    entries = line.split(',')\n",
    "\n",
    "print(f'Found: {len(entries)} entries')\n",
    "bad = []\n"
   ]
  },
  {
   "cell_type": "code",
   "execution_count": 11,
   "metadata": {},
   "outputs": [
    {
     "name": "stderr",
     "output_type": "stream",
     "text": [
      "100%|███████████████████████████████████████| 4/4 [00:00<00:00, 21.07it/s, Entry=pdb7frg.ent, Bad=3]"
     ]
    },
    {
     "name": "stdout",
     "output_type": "stream",
     "text": [
      "Overall count processed: 5\n",
      "Bad files found: 4\n"
     ]
    },
    {
     "name": "stderr",
     "output_type": "stream",
     "text": [
      "\n"
     ]
    }
   ],
   "source": [
    "# file to track already downloaded entries.\n",
    "bad_filename = f'{PDB_DIR}/ss_bad.txt'\n",
    "badfile_handle = open(bad_filename, 'w+')\n",
    "\n",
    "# this is the file containing the raw pdb IDs from the RCSB.org web query\n",
    "for dl in dlines[0]:\n",
    "    # create a list of pdb id already downloaded\n",
    "    SS_raw_ids = dl.split(',')\n",
    "\n",
    "count = len(SS_raw_ids)\n",
    "badcount = 0\n",
    "\n",
    "# Loop over all entries, \n",
    "pbar = tqdm(all_pdb_files[5:], ncols=100)\n",
    "for entry in pbar:\n",
    "    pbar.set_postfix({'Entry': entry, 'Bad': badcount})\n",
    "    # fname = f'pdb{entry}.ent'\n",
    "    if not check_header_from_file(entry):\n",
    "        #shutil.move(entry, BAD_DIR)\n",
    "        badcount += 1\n",
    "        shutil.move(entry, 'bad')\n",
    "    else:\n",
    "        shutil.move(entry, 'good')\n",
    "    count += 1\n",
    "\n",
    "\n",
    "print(f'Overall count processed: {count}')\n",
    "print(f'Bad files found: {badcount}')\n"
   ]
  },
  {
   "cell_type": "code",
   "execution_count": null,
   "metadata": {},
   "outputs": [],
   "source": [
    "#check_header_from_file(f'{PDB_DIR}/pdb5rsa.ent', verbose=True, dbg=True)"
   ]
  },
  {
   "cell_type": "code",
   "execution_count": null,
   "metadata": {},
   "outputs": [],
   "source": []
  }
 ],
 "metadata": {
  "kernelspec": {
   "display_name": "Python (bio)",
   "language": "python",
   "name": "bio"
  },
  "language_info": {
   "codemirror_mode": {
    "name": "ipython",
    "version": 3
   },
   "file_extension": ".py",
   "mimetype": "text/x-python",
   "name": "python",
   "nbconvert_exporter": "python",
   "pygments_lexer": "ipython3",
   "version": "3.8.13"
  },
  "orig_nbformat": 4,
  "vscode": {
   "interpreter": {
    "hash": "2e049c0f63e6b330ae815ad1049a36d20686725ba1cc68cc0aadee0375e172d1"
   }
  }
 },
 "nbformat": 4,
 "nbformat_minor": 2
}
