{
 "cells": [
  {
   "cell_type": "code",
   "execution_count": null,
   "metadata": {},
   "outputs": [],
   "source": [
    "# Disulfide Bond Analysis\n",
    "# Author: Eric G. Suchanek, PhD.\n",
    "# Last revision: 1/2/23 -egs-\n",
    "# Cα Cβ Sγ\n",
    "\n",
    "import pandas as pd\n",
    "from proteusPy.Disulfide import Disulfide\n",
    "from proteusPy.DisulfideLoader import DisulfideLoader, Load_PDB_SS\n",
    "from proteusPy.DisulfideList import DisulfideList\n",
    "import panel as pn\n",
    "from bokeh.resources import INLINE\n",
    "\n",
    "pn.extension('vtk', sizing_mode='stretch_width', template='fast')\n",
    "pn.state.template.param.update(title=\"RCSB Disulfide Browser\")\n",
    "\n",
    "pn.state.template.config.raw_css.append(\"\"\"\n",
    "#main {\n",
    "  padding: 0;\n",
    "}\"\"\")\n",
    "\n",
    "import pyvista as pv\n",
    "from pyvista import set_plot_theme\n",
    "\n",
    "# the locations below represent the actual location on the dev drive.\n",
    "# location for PDB repository\n",
    "PDB_BASE = '/Users/egs/PDB/'\n",
    "\n",
    "# location of cleaned PDB files\n",
    "PDB = '/Users/egs/PDB/good/'\n",
    "\n",
    "# location of the compressed Disulfide .pkl files\n",
    "MODELS = f'{PDB_BASE}models/'\n",
    "\n",
    "import pyvista as pv\n",
    "from proteusPy.Disulfide import *\n",
    "PDB_SS = Load_PDB_SS(subset=False, verbose=True)\n"
   ]
  },
  {
   "cell_type": "code",
   "execution_count": null,
   "metadata": {},
   "outputs": [],
   "source": [
    "def get_ss_idlist(rcs_id='2q7q'):\n",
    "    global PDB_SS\n",
    "    sslist = DisulfideList([],'tmp')\n",
    "    sslist = PDB_SS[rcs_id]\n",
    "    idlist = []\n",
    "    for ss in sslist:\n",
    "        idlist.append(ss.name)\n",
    "    return idlist\n",
    "\n",
    "def get_ss(ss_id='2q7q_130D_161D') -> Disulfide:\n",
    "    global PDB_SS\n",
    "    ss = Disulfide(PDB_SS[ss_id])\n",
    "    return ss"
   ]
  },
  {
   "cell_type": "code",
   "execution_count": null,
   "metadata": {},
   "outputs": [],
   "source": [
    "idlist = get_ss_idlist()\n",
    "idlist"
   ]
  },
  {
   "cell_type": "code",
   "execution_count": null,
   "metadata": {},
   "outputs": [],
   "source": [
    "PDB_SS = None\n",
    "PDB_SS = Load_PDB_SS(verbose=True, subset=False)\n",
    "\n",
    "plotter = pv.Plotter()\n",
    "\n",
    "# one disulfide from the database\n",
    "ss = Disulfide()\n",
    "ss = PDB_SS[0]\n",
    "\n",
    "#plotter.show()\n"
   ]
  },
  {
   "cell_type": "code",
   "execution_count": null,
   "metadata": {},
   "outputs": [],
   "source": [
    "PDB_SS['2q7q']"
   ]
  },
  {
   "cell_type": "code",
   "execution_count": null,
   "metadata": {},
   "outputs": [],
   "source": [
    "def create_plot(rcs_id=\"2q7q\", ss_id='2q7q_75D_140D', single=True):\n",
    "    global PDB_SS, _rcsid, _ssidlist\n",
    "\n",
    "    ss = Disulfide()\n",
    "    ss = Disulfide(PDB_SS[ss_id])\n",
    "    \n",
    "    _rcsid = rcs_id\n",
    "    _ssidlist = [ss.name for ss in PDB_SS[_rcsid]]\n",
    "\n",
    "    plotter = ss.plot(single=single)\n",
    "    \n",
    "    # save initial camera properties\n",
    "    renderer = list(plotter.ren_win.GetRenderers())[0]\n",
    "    initial_camera = renderer.GetActiveCamera()\n",
    "    initial_camera_pos = {\n",
    "        \"focalPoint\": initial_camera.GetFocalPoint(),\n",
    "        \"position\": initial_camera.GetPosition(),\n",
    "        \"viewUp\": initial_camera.GetViewUp()\n",
    "    }\n",
    "\n",
    "    # Panel creation using the VTK Scene created by the plotter pyvista\n",
    "    orientation_widget = True\n",
    "    enable_keybindings = True\n",
    "    return pn.pane.VTK(\n",
    "        plotter.ren_win, margin=0, sizing_mode='stretch_both', orientation_widget=orientation_widget,\n",
    "        enable_keybindings=enable_keybindings, min_height=600, \n",
    "    ), plotter\n",
    "    "
   ]
  },
  {
   "cell_type": "code",
   "execution_count": null,
   "metadata": {},
   "outputs": [],
   "source": [
    "vtkpane, plotter = create_plot()\n"
   ]
  },
  {
   "cell_type": "markdown",
   "metadata": {},
   "source": [
    "vtkpane.theme"
   ]
  },
  {
   "cell_type": "code",
   "execution_count": 8,
   "metadata": {},
   "outputs": [
    {
     "ename": "AttributeError",
     "evalue": "'VTKRenderWindowSynchronized' object has no attribute 'theme'",
     "output_type": "error",
     "traceback": [
      "\u001b[0;31m---------------------------------------------------------------------------\u001b[0m",
      "\u001b[0;31mAttributeError\u001b[0m                            Traceback (most recent call last)",
      "\u001b[1;32m/Users/egs/repos/proteusPy/notebooks/pantest.ipynb Cell 9\u001b[0m line \u001b[0;36m1\n\u001b[0;32m----> <a href='vscode-notebook-cell:/Users/egs/repos/proteusPy/notebooks/pantest.ipynb#X22sZmlsZQ%3D%3D?line=0'>1</a>\u001b[0m vtkpane\u001b[39m.\u001b[39;49mtheme\n",
      "\u001b[0;31mAttributeError\u001b[0m: 'VTKRenderWindowSynchronized' object has no attribute 'theme'"
     ]
    }
   ],
   "source": []
  },
  {
   "cell_type": "code",
   "execution_count": null,
   "metadata": {},
   "outputs": [],
   "source": [
    "vtkpane.save('ss1.html', resources=INLINE)"
   ]
  },
  {
   "cell_type": "code",
   "execution_count": null,
   "metadata": {},
   "outputs": [],
   "source": [
    "help(vtkpane)"
   ]
  },
  {
   "cell_type": "code",
   "execution_count": null,
   "metadata": {},
   "outputs": [],
   "source": [
    "vtkpane.actors"
   ]
  },
  {
   "cell_type": "code",
   "execution_count": null,
   "metadata": {},
   "outputs": [],
   "source": []
  },
  {
   "cell_type": "code",
   "execution_count": null,
   "metadata": {},
   "outputs": [],
   "source": [
    "\n",
    "rcsb_list = sorted(PDB_SS.IDList)\n",
    "sslist = [ss.name for ss in PDB_SS['4yys']] \n",
    "\n",
    "rcsb_selector_widget = pn.widgets.Select(name=\"RCSB_ID\", value=\"4yys\", options=list(rcsb_list)).servable(target='sidebar')\n",
    "rcsb_ss_widget = pn.widgets.Select(name=\"DISULFIDE\", value=\"4yys_22A-65A\", options=sslist).servable(target='sidebar')\n",
    "bound_plot = pn.Column(pn.bind(create_plot, rcs_id=rcsb_selector_widget, ss_id=rcsb_ss_widget))\n",
    "\n",
    "dashboard = pn.Row(bound_plot)\n",
    "dashboard\n"
   ]
  },
  {
   "cell_type": "code",
   "execution_count": null,
   "metadata": {},
   "outputs": [],
   "source": [
    "sslist = PDB_SS['2qyq']\n",
    "sslist"
   ]
  },
  {
   "cell_type": "code",
   "execution_count": null,
   "metadata": {},
   "outputs": [],
   "source": [
    "sslist2 = [ss.name for ss in PDB_SS['2q7q']]\n",
    "sslist2"
   ]
  },
  {
   "cell_type": "code",
   "execution_count": null,
   "metadata": {},
   "outputs": [],
   "source": [
    "ss2q = PDB_SS['2q7q']"
   ]
  }
 ],
 "metadata": {
  "kernelspec": {
   "display_name": "proteus",
   "language": "python",
   "name": "python3"
  },
  "language_info": {
   "codemirror_mode": {
    "name": "ipython",
    "version": 3
   },
   "file_extension": ".py",
   "mimetype": "text/x-python",
   "name": "python",
   "nbconvert_exporter": "python",
   "pygments_lexer": "ipython3",
   "version": "3.9.15"
  }
 },
 "nbformat": 4,
 "nbformat_minor": 2
}
