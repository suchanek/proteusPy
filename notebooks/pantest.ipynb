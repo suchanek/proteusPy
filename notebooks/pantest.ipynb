{
 "cells": [
  {
   "cell_type": "code",
   "execution_count": null,
   "metadata": {},
   "outputs": [],
   "source": [
    "# Disulfide Bond Analysis\n",
    "# Author: Eric G. Suchanek, PhD.\n",
    "# Last revision: 1/2/23 -egs-\n",
    "# Cα Cβ Sγ\n",
    "\n",
    "import pandas as pd\n",
    "from proteusPy.Disulfide import Disulfide\n",
    "from proteusPy.DisulfideLoader import DisulfideLoader, Load_PDB_SS\n",
    "from proteusPy.DisulfideList import DisulfideList\n",
    "import panel as pn\n",
    "\n",
    "pn.extension('vtk', sizing_mode='stretch_width', template='fast')\n",
    "pn.state.template.param.update(title=\"RCSB Disulfide Browser\")\n",
    "\n",
    "pn.state.template.config.raw_css.append(\"\"\"\n",
    "#main {\n",
    "  padding: 0;\n",
    "}\"\"\")\n",
    "\n",
    "import pyvista as pv\n",
    "from pyvista import set_plot_theme\n",
    "\n",
    "# the locations below represent the actual location on the dev drive.\n",
    "# location for PDB repository\n",
    "PDB_BASE = '/Users/egs/PDB/'\n",
    "\n",
    "# location of cleaned PDB files\n",
    "PDB = '/Users/egs/PDB/good/'\n",
    "\n",
    "# location of the compressed Disulfide .pkl files\n",
    "MODELS = f'{PDB_BASE}models/'\n",
    "\n",
    "import pyvista as pv\n",
    "from proteusPy.Disulfide import *\n",
    "\n",
    "\n",
    "\n"
   ]
  },
  {
   "cell_type": "code",
   "execution_count": null,
   "metadata": {},
   "outputs": [],
   "source": [
    "PDB_SS = None\n",
    "PDB_SS = Load_PDB_SS(verbose=True, subset=False)\n",
    "\n",
    "plotter = pv.Plotter()\n",
    "\n",
    "# one disulfide from the database\n",
    "ss = Disulfide()\n",
    "ss = PDB_SS[0]\n",
    "\n",
    "#plotter.show()\n"
   ]
  },
  {
   "cell_type": "code",
   "execution_count": null,
   "metadata": {},
   "outputs": [],
   "source": [
    "def create_plot(ssloader: DisulfideLoader, rcs_id=\"2q7q\", ss_id='2q7q_75D_140D', single=True):\n",
    "    ss = Disulfide()\n",
    "    sslist = ssloader[rcs_id]\n",
    "    ss_ids = [ss.name for ss in ssloader[rcs_id]]\n",
    "    ss = ssloader[ss_id]\n",
    "    plotter = ss.plot(single=single)\n",
    "    \n",
    "    # save initial camera properties\n",
    "    renderer = list(plotter.ren_win.GetRenderers())[0]\n",
    "    initial_camera = renderer.GetActiveCamera()\n",
    "    initial_camera_pos = {\n",
    "        \"focalPoint\": initial_camera.GetFocalPoint(),\n",
    "        \"position\": initial_camera.GetPosition(),\n",
    "        \"viewUp\": initial_camera.GetViewUp()\n",
    "    }\n",
    "\n",
    "    # Panel creation using the VTK Scene created by the plotter pyvista\n",
    "    orientation_widget = True\n",
    "    enable_keybindings = True\n",
    "    return pn.pane.VTK(\n",
    "        plotter.ren_win, margin=0, sizing_mode='stretch_both', orientation_widget=orientation_widget,\n",
    "        enable_keybindings=enable_keybindings, min_height=600\n",
    "    )"
   ]
  },
  {
   "cell_type": "code",
   "execution_count": null,
   "metadata": {},
   "outputs": [],
   "source": [
    "plotter = ss.plot(single=True)\n",
    "sslist = sorted(PDB_SS.IDList())\n",
    "\n",
    "# save initial camera properties\n",
    "renderer = list(plotter.ren_win.GetRenderers())[0]\n",
    "initial_camera = renderer.GetActiveCamera()\n",
    "initial_camera_pos = {\n",
    "    \"focalPoint\": initial_camera.GetFocalPoint(),\n",
    "    \"position\": initial_camera.GetPosition(),\n",
    "    \"viewUp\": initial_camera.GetViewUp()\n",
    "}\n",
    "\n",
    "# Panel creation using the VTK Scene created by the plotter pyvista\n",
    "orientation_widget = True\n",
    "enable_keybindings = True\n",
    "vtkpan = pn.pane.VTK(\n",
    "    plotter.ren_win, margin=0, sizing_mode='stretch_both', orientation_widget=orientation_widget,\n",
    "    enable_keybindings=enable_keybindings, min_height=600\n",
    ")\n",
    "\n",
    "rcsb_list = sorted(PDB_SS.IDList())\n",
    "sslist = [ss.name for ss in PDB_SS[variable]] \n",
    "\n",
    "rcsb_selector = pn.widgets.Select(name=\"RCSB_ID\", value=\"4yys\", options=list(rcsb_list))\n",
    "rcsb_ss = pn.widgets.Select(name=\"DISULFIDE\", value=\"4yys_\", options=sslist)\n",
    "dashboard = pn.Column(pn.Row(rcsb_selector), pn.Row(vtkpan))\n"
   ]
  },
  {
   "cell_type": "code",
   "execution_count": null,
   "metadata": {},
   "outputs": [],
   "source": [
    "sslist = PDB_SS['4yys']"
   ]
  },
  {
   "cell_type": "code",
   "execution_count": null,
   "metadata": {},
   "outputs": [],
   "source": [
    "sslist = [ss.name for ss in PDB_SS['4yys']]\n",
    "sslist"
   ]
  },
  {
   "cell_type": "code",
   "execution_count": null,
   "metadata": {},
   "outputs": [],
   "source": [
    "sslist = PDB_SS.SS"
   ]
  }
 ],
 "metadata": {
  "kernelspec": {
   "display_name": "proteus",
   "language": "python",
   "name": "python3"
  },
  "language_info": {
   "codemirror_mode": {
    "name": "ipython",
    "version": 3
   },
   "file_extension": ".py",
   "mimetype": "text/x-python",
   "name": "python",
   "nbconvert_exporter": "python",
   "pygments_lexer": "ipython3",
   "version": "3.9.15"
  }
 },
 "nbformat": 4,
 "nbformat_minor": 2
}
