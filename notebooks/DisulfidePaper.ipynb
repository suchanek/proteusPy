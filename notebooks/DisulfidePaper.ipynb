{
 "cells": [
  {
   "attachments": {},
   "cell_type": "markdown",
   "metadata": {},
   "source": [
    "# Development of a Python Class for Disulfide Bonds\n",
    "## Eric G. Suchanek, PhD.\n",
    "\n"
   ]
  },
  {
   "cell_type": "code",
   "execution_count": 1,
   "metadata": {},
   "outputs": [],
   "source": [
    "# Disulfide Bond Analysis\n",
    "# Author: Eric G. Suchanek, PhD.\n",
    "# Cα Cβ Sγ\n",
    "\n",
    "%matplotlib inline\n",
    "import matplotlib.pyplot as plt\n",
    "import pandas as pd\n",
    "\n",
    "import proteusPy\n",
    "from proteusPy import proteusGlobals\n",
    "from proteusPy.disulfide import Disulfide, DisulfideLoader, Disulfide # classes\n",
    "from proteusPy.disulfide import Download_Disulfides, Extract_Disulfides\n",
    "\n",
    "# location for PDB repository containing all .ent files\n",
    "PDB_ORIG = '/Users/egs/PDB/'\n",
    "\n",
    "# location of cleaned PDB files\n",
    "PDB = '/Users/egs/PDB/good/'\n",
    "\n",
    "# location of the compressed Disulfide .pkl files\n",
    "MODELS = f'{PDB_ORIG}models/'\n",
    "\n"
   ]
  },
  {
   "cell_type": "markdown",
   "metadata": {},
   "source": []
  },
  {
   "attachments": {},
   "cell_type": "markdown",
   "metadata": {},
   "source": [
    "## Download PDB Files containing Disulfide bonds"
   ]
  },
  {
   "cell_type": "code",
   "execution_count": null,
   "metadata": {},
   "outputs": [],
   "source": [
    "# Download_Disulfides(pdb_home=PDB_ORIG, model_home=MODELS, reset=False)\n"
   ]
  },
  {
   "attachments": {},
   "cell_type": "markdown",
   "metadata": {},
   "source": [
    "## Extract the Disulfides from the PDB files\n",
    "The function ``Disulfide.Extract_Disulfides()`` processes all the .ent files in ``PDB_DIR`` and creates two .pkl files representing the Disulfide bonds contained in the scanned directory. In addition, a .csv file containing problem IDs is written if any are found. The .pkl files are consumed by the ``DisulfideLoader`` class and are considered private. You'll see numerous warnings during the scan. Files that are unparsable are removed and their IDs are logged to the problem_id.csv file. The default file locations are stored in the file globals.py and are the used by ``Extract_Disulfides()`` in the absence of arguments passed. The Disulfide parser is very stringent and will reject disulfide bonds with missing atoms or disordered atoms.\n",
    "\n",
    "A full scan of the initial disulfide bond-containing files (> 36000 files) takes about 1.25 hours on a 2020 MacbookPro with M1 Pro chip. The resulting .pkl files consume approximately 1GB of disk space, and equivalent RAM used when loaded.\n",
    "\n",
    "Outputs are saved in ``MODEL_DIR``:\n",
    "1) ``SS_PICKLE_FILE``: The ``DisulfideList`` of ``Disulfide`` objects initialized from the PDB file scan, needed by the ``DisulfideLoader()`` class.\n",
    "2) ``SS_DICT_PICKLE_FILE``: the ``Dict Disulfide`` objects also needed by the ``DisulfideLoader()`` class\n",
    "3) ``PROBLEM_ID_FILE``: a .csv containining the problem ids.\n",
    "\n",
    "In general, the process only needs to be run once for a full scan. Setting the ``numb`` argument to -1 scans the entire directory. Entering a positive number allows parsing a subset of the dataset, which is useful when debugging. Setting ``verbose`` enables verbose messages. Setting ``quiet`` to ``True`` disables all warnings.\n"
   ]
  },
  {
   "cell_type": "markdown",
   "metadata": {},
   "source": []
  },
  {
   "cell_type": "markdown",
   "metadata": {},
   "source": []
  },
  {
   "attachments": {},
   "cell_type": "markdown",
   "metadata": {},
   "source": [
    "## Load the Disulfide Data\n",
    "Now that the Disulfides have been extracted and the Disulfide .pkl files have been created we can load them into memory using the DisulfideLoader() class. This class stores the Disulfides internally as a DisulfideList and a dict. Array indexing operations including slicing have been overloaded, enabling straightforward access to the Disulfide bonds, both in aggregate and by residue. After loading the .pkl files the Class creates a Pandas ``DataFrame`` object consisting of the disulfide ID, all sidechain dihedral angles, and the computed Disulfide bond torsional energy."
   ]
  },
  {
   "cell_type": "code",
   "execution_count": 2,
   "metadata": {},
   "outputs": [
    {
     "name": "stdout",
     "output_type": "stream",
     "text": [
      "Reading disulfides from: /Users/egs/PDB/models/PDB_all_ss.pkl\n",
      "reading /Users/egs/PDB/models/PDB_all_ss.pkl\n",
      "Disulfides Read: 294478\n",
      "Reading disulfide dict from: /Users/egs/PDB/models/PDB_all_ss_dict.pkl\n",
      "Reading Torsion DF /Users/egs/PDB/models/PDB_SS_torsions.csv.\n",
      "Read torsions DF.\n",
      "PDB IDs parsed: 36362\n",
      "Total Space Used: 63715674 bytes.\n"
     ]
    }
   ],
   "source": [
    "\n",
    "PDB_SS = None\n",
    "PDB_SS = DisulfideLoader(verbose=True, modeldir=MODELS)\n",
    "\n",
    "\n"
   ]
  },
  {
   "cell_type": "code",
   "execution_count": null,
   "metadata": {},
   "outputs": [],
   "source": []
  }
 ],
 "metadata": {
  "kernelspec": {
   "display_name": "bio",
   "language": "python",
   "name": "python3"
  },
  "language_info": {
   "codemirror_mode": {
    "name": "ipython",
    "version": 3
   },
   "file_extension": ".py",
   "mimetype": "text/x-python",
   "name": "python",
   "nbconvert_exporter": "python",
   "pygments_lexer": "ipython3",
   "version": "3.8.13 | packaged by conda-forge | (default, Mar 25 2022, 06:05:16) \n[Clang 12.0.1 ]"
  },
  "orig_nbformat": 4,
  "vscode": {
   "interpreter": {
    "hash": "2e049c0f63e6b330ae815ad1049a36d20686725ba1cc68cc0aadee0375e172d1"
   }
  }
 },
 "nbformat": 4,
 "nbformat_minor": 2
}
