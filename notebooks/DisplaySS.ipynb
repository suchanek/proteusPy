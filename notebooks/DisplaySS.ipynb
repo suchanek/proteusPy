{
 "cells": [
  {
   "cell_type": "code",
   "execution_count": 8,
   "metadata": {},
   "outputs": [
    {
     "name": "stdout",
     "output_type": "stream",
     "text": [
      "-> load_PDB_SS(): Reading /Users/egs/miniforge3/envs/proteusPy/lib/python3.11/site-packages/proteusPy/data/PDB_SS_ALL_LOADER.pkl... \n",
      "-> load_PDB_SS(): Done reading /Users/egs/miniforge3/envs/proteusPy/lib/python3.11/site-packages/proteusPy/data/PDB_SS_ALL_LOADER.pkl... \n"
     ]
    }
   ],
   "source": [
    "# Disulfide Bond Display Testing\n",
    "# Author: Eric G. Suchanek, PhD.\n",
    "# Last revision: 2/17/24 -egs-\n",
    "# Cα Cβ Sγ\n",
    "\n",
    "from proteusPy import *\n",
    "\n",
    "from proteusPy.Disulfide import Disulfide, DisulfideList\n",
    "from proteusPy.atoms import *\n",
    "\n",
    "import pyvista as pv\n",
    "from pyvista import set_plot_theme, set_jupyter_backend\n",
    "\n",
    "pv.global_theme.interactive = True\n",
    "set_plot_theme('dark')\n",
    "\n",
    "\n",
    "def showit(ss: Disulfide):\n",
    "    ss.display(single=True, style='bs')\n",
    "\n",
    "\n",
    "PDB_SS = None\n",
    "PDB_SS = Load_PDB_SS(verbose=True)\n"
   ]
  },
  {
   "cell_type": "code",
   "execution_count": 3,
   "metadata": {},
   "outputs": [
    {
     "data": {
      "application/vnd.jupyter.widget-view+json": {
       "model_id": "cec982efd914497c9f55f4ee15473e5f",
       "version_major": 2,
       "version_minor": 0
      },
      "text/plain": [
       "Widget(value='<iframe src=\"http://localhost:58875/index.html?ui=P_0x2c07e0c10_1&reconnect=auto\" class=\"pyvista…"
      ]
     },
     "metadata": {},
     "output_type": "display_data"
    }
   ],
   "source": [
    "# one disulfide from the database\n",
    "\n",
    "ss = PDB_SS[0]\n",
    "\n",
    "ss.display(style='cpk', single=False)\n"
   ]
  },
  {
   "cell_type": "code",
   "execution_count": 4,
   "metadata": {},
   "outputs": [
    {
     "data": {
      "application/vnd.jupyter.widget-view+json": {
       "model_id": "aa11d1678306404e82b8f3407a4e9b53",
       "version_major": 2,
       "version_minor": 0
      },
      "text/plain": [
       "Widget(value='<iframe src=\"http://localhost:58875/index.html?ui=P_0x2bb70a350_2&reconnect=auto\" class=\"pyvista…"
      ]
     },
     "metadata": {},
     "output_type": "display_data"
    }
   ],
   "source": [
    "ss.display(style='sb', single=True)\n"
   ]
  },
  {
   "cell_type": "code",
   "execution_count": 5,
   "metadata": {},
   "outputs": [
    {
     "data": {
      "application/vnd.jupyter.widget-view+json": {
       "model_id": "9f56ddffec1a4698a51e5050d0c3dd14",
       "version_major": 2,
       "version_minor": 0
      },
      "text/plain": [
       "Widget(value='<iframe src=\"http://localhost:58875/index.html?ui=P_0x2c04d28d0_4&reconnect=auto\" class=\"pyvista…"
      ]
     },
     "metadata": {},
     "output_type": "display_data"
    }
   ],
   "source": [
    "sslist = DisulfideList([], 'slice')\n",
    "sslist = PDB_SS[:8]\n",
    "sslist.display('pd')"
   ]
  },
  {
   "cell_type": "code",
   "execution_count": 6,
   "metadata": {},
   "outputs": [
    {
     "data": {
      "application/vnd.jupyter.widget-view+json": {
       "model_id": "fd5d3557969945f1899036b4f656268f",
       "version_major": 2,
       "version_minor": 0
      },
      "text/plain": [
       "Widget(value='<iframe src=\"http://localhost:58875/index.html?ui=P_0x2c2a01350_5&reconnect=auto\" class=\"pyvista…"
      ]
     },
     "metadata": {},
     "output_type": "display_data"
    }
   ],
   "source": [
    "ss.display(style='sb', single=True)\n"
   ]
  },
  {
   "cell_type": "code",
   "execution_count": 7,
   "metadata": {},
   "outputs": [
    {
     "data": {
      "application/vnd.jupyter.widget-view+json": {
       "model_id": "d4824bcc19ba45429b54bc120cccef5e",
       "version_major": 2,
       "version_minor": 0
      },
      "text/plain": [
       "  0%|                                                                              | 0/2 [00:00<?, ?it/s]"
      ]
     },
     "metadata": {},
     "output_type": "display_data"
    },
    {
     "data": {
      "application/vnd.jupyter.widget-view+json": {
       "model_id": "4b309611dd494f21945c434659616bab",
       "version_major": 2,
       "version_minor": 0
      },
      "text/plain": [
       "Widget(value='<iframe src=\"http://localhost:58875/index.html?ui=P_0x2cb5cf810_6&reconnect=auto\" class=\"pyvista…"
      ]
     },
     "metadata": {},
     "output_type": "display_data"
    }
   ],
   "source": [
    "ss1j5h = DisulfideList([], 'ss1j5h')\n",
    "ss1j5h = PDB_SS['1j5h']\n",
    "ss1j5h.display_overlay()\n"
   ]
  },
  {
   "cell_type": "code",
   "execution_count": 6,
   "metadata": {},
   "outputs": [],
   "source": [
    "sslist = DisulfideList(PDB_SS[0:10], 'test')\n"
   ]
  },
  {
   "cell_type": "code",
   "execution_count": 7,
   "metadata": {},
   "outputs": [
    {
     "data": {
      "text/plain": [
       "DisulfideList([<Disulfide 4yys_22A_65A, Source: 4yys, Resolution: 1.35 Å>,\n",
       "               <Disulfide 4yys_56A_98A, Source: 4yys, Resolution: 1.35 Å>,\n",
       "               <Disulfide 4yys_156A_207A, Source: 4yys, Resolution: 1.35 Å>,\n",
       "               <Disulfide 1j5h_37A_47A, Source: 1j5h, Resolution: -1.0 Å>,\n",
       "               <Disulfide 1j5h_88A_93A, Source: 1j5h, Resolution: -1.0 Å>,\n",
       "               <Disulfide 1mfe_137L_196L, Source: 1mfe, Resolution: 2.0 Å>,\n",
       "               <Disulfide 1chv_3S_21S, Source: 1chv, Resolution: -1.0 Å>,\n",
       "               <Disulfide 1chv_14S_38S, Source: 1chv, Resolution: -1.0 Å>,\n",
       "               <Disulfide 1chv_42S_53S, Source: 1chv, Resolution: -1.0 Å>,\n",
       "               <Disulfide 1chv_54S_59S, Source: 1chv, Resolution: -1.0 Å>])"
      ]
     },
     "execution_count": 7,
     "metadata": {},
     "output_type": "execute_result"
    }
   ],
   "source": [
    "sslist"
   ]
  },
  {
   "cell_type": "code",
   "execution_count": 8,
   "metadata": {},
   "outputs": [
    {
     "name": "stdout",
     "output_type": "stream",
     "text": [
      "<Disulfide 4yys_22A_65A, Source: 4yys, Resolution: 1.35 Å \n",
      "Χ1-Χ5: 174.63°, 82.52°, -83.32°, -62.52° -73.83°, 138.89°, 1.70 kcal/mol \n",
      "Cα Distance: 4.50 Å \n",
      "Torsion length: 231.53 deg>\n",
      "<Disulfide 4yys_56A_98A, Source: 4yys, Resolution: 1.35 Å \n",
      "Χ1-Χ5: -50.24°, -85.58°, 97.28°, 70.54° 179.05°, -68.58°, 2.11 kcal/mol \n",
      "Cα Distance: 4.97 Å \n",
      "Torsion length: 237.37 deg>\n",
      "<Disulfide 4yys_156A_207A, Source: 4yys, Resolution: 1.35 Å \n",
      "Χ1-Χ5: 62.60°, 172.94°, -95.35°, -23.07° -55.16°, 15.63°, 2.33 kcal/mol \n",
      "Cα Distance: 5.29 Å \n",
      "Torsion length: 215.62 deg>\n",
      "<Disulfide 1j5h_37A_47A, Source: 1j5h, Resolution: -1.0 Å \n",
      "Χ1-Χ5: -47.76°, -120.21°, 68.56°, -38.29° -101.20°, -172.53°, 7.08 kcal/mol \n",
      "Cα Distance: 3.61 Å \n",
      "Torsion length: 182.04 deg>\n",
      "<Disulfide 1j5h_88A_93A, Source: 1j5h, Resolution: -1.0 Å \n",
      "Χ1-Χ5: -130.03°, -138.60°, 27.09°, 101.73° -109.68°, 101.88°, 16.82 kcal/mol \n",
      "Cα Distance: 5.29 Å \n",
      "Torsion length: 243.37 deg>\n",
      "<Disulfide 1mfe_137L_196L, Source: 1mfe, Resolution: 2.0 Å \n",
      "Χ1-Χ5: -166.65°, 172.94°, -94.15°, -168.33° -176.23°, -64.64°, 1.52 kcal/mol \n",
      "Cα Distance: 6.50 Å \n",
      "Torsion length: 354.88 deg>\n",
      "<Disulfide 1chv_3S_21S, Source: 1chv, Resolution: -1.0 Å \n",
      "Χ1-Χ5: -75.31°, 168.08°, 87.03°, -166.26° -64.03°, -33.02°, 1.62 kcal/mol \n",
      "Cα Distance: 6.46 Å \n",
      "Torsion length: 270.62 deg>\n",
      "<Disulfide 1chv_14S_38S, Source: 1chv, Resolution: -1.0 Å \n",
      "Χ1-Χ5: -73.69°, -173.12°, 71.29°, 141.67° -47.70°, -45.32°, 3.20 kcal/mol \n",
      "Cα Distance: 6.35 Å \n",
      "Torsion length: 250.66 deg>\n",
      "<Disulfide 1chv_42S_53S, Source: 1chv, Resolution: -1.0 Å \n",
      "Χ1-Χ5: 159.37°, 47.09°, 122.49°, -162.34° -45.99°, -130.83°, 5.41 kcal/mol \n",
      "Cα Distance: 5.88 Å \n",
      "Torsion length: 266.63 deg>\n",
      "<Disulfide 1chv_54S_59S, Source: 1chv, Resolution: -1.0 Å \n",
      "Χ1-Χ5: 67.68°, -144.49°, -73.71°, -99.85° 80.62°, 119.71°, 4.69 kcal/mol \n",
      "Cα Distance: 6.34 Å \n",
      "Torsion length: 217.62 deg>\n"
     ]
    }
   ],
   "source": [
    "sslist.pprint()"
   ]
  },
  {
   "cell_type": "code",
   "execution_count": null,
   "metadata": {},
   "outputs": [],
   "source": []
  }
 ],
 "metadata": {
  "kernelspec": {
   "display_name": "Python (proteusPy 0.92.2 )",
   "language": "python",
   "name": "proteuspy"
  },
  "language_info": {
   "codemirror_mode": {
    "name": "ipython",
    "version": 3
   },
   "file_extension": ".py",
   "mimetype": "text/x-python",
   "name": "python",
   "nbconvert_exporter": "python",
   "pygments_lexer": "ipython3",
   "version": "3.11.7"
  },
  "vscode": {
   "interpreter": {
    "hash": "67eff1aa11768869f1d52cc83ff6f6101b62fd1ade35be784bd3767ddc8bd460"
   }
  }
 },
 "nbformat": 4,
 "nbformat_minor": 4
}
