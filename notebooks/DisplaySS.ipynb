{
 "cells": [
  {
   "cell_type": "code",
   "execution_count": 1,
   "metadata": {},
   "outputs": [
    {
     "name": "stdout",
     "output_type": "stream",
     "text": [
      "Reading disulfides from: /Users/egs/PDB/models/PDB_all_ss.pkl\n",
      "Disulfides Read: 8210\n",
      "Reading disulfide dict from: /Users/egs/PDB/models/PDB_all_ss_dict.pkl\n",
      "Reading Torsion DF /Users/egs/PDB/models/PDB_all_SS_torsions.csv.\n",
      "Read torsions DF.\n",
      "PDB IDs parsed: 1000\n",
      "Total Space Used: 1844317 bytes.\n"
     ]
    }
   ],
   "source": [
    "# Disulfide Bond Analysis\n",
    "# Author: Eric G. Suchanek, PhD.\n",
    "# Last revision: 12/28/22 -egs-\n",
    "# Cα Cβ Sγ\n",
    "\n",
    "import pandas as pd\n",
    "from proteusPy.disulfide import DisulfideLoader, Disulfide, DisulfideList\n",
    "import pyvista as pv\n",
    "from pyvista import set_plot_theme, set_jupyter_backend\n",
    "\n",
    "pv.global_theme.interactive = True\n",
    "set_jupyter_backend('pythreejs')\n",
    "set_plot_theme('dark')\n",
    "\n",
    "from proteusPy.disulfide import *\n",
    "\n",
    "# the locations below represent the actual location on the dev drive.\n",
    "# location for PDB repository\n",
    "PDB_BASE = '/Users/egs/PDB/'\n",
    "\n",
    "# location of cleaned PDB files\n",
    "PDB = '/Users/egs/PDB/good/'\n",
    "\n",
    "# location of the compressed Disulfide .pkl files\n",
    "MODELS = f'{PDB_BASE}models/'\n",
    "\n",
    "# when running from the repo the local copy of the Disulfides is in ../pdb/models\n",
    "# PDB_BASE = '../pdb/'\n",
    "\n",
    "# location of the compressed Disulfide .pkl files\n",
    "# MODELS = f'{PDB_BASE}models/'\n",
    "\n",
    "def showit(ss: Disulfide):\n",
    "    ss.display(single=True, style='bs')\n",
    "\n",
    "\n",
    "PDB_SS = None\n",
    "PDB_SS = DisulfideLoader(verbose=True, modeldir=MODELS)\n",
    "\n"
   ]
  },
  {
   "cell_type": "code",
   "execution_count": 4,
   "metadata": {},
   "outputs": [
    {
     "data": {
      "application/vnd.jupyter.widget-view+json": {
       "model_id": "e5d5993a1a7b43758e2ad21f852cbcf2",
       "version_major": 2,
       "version_minor": 0
      },
      "text/plain": [
       "ViewInteractiveWidget(height=1200, layout=Layout(height='auto', width='100%'), width=1200)"
      ]
     },
     "metadata": {},
     "output_type": "display_data"
    }
   ],
   "source": [
    "# one disulfide from the database\n",
    "\n",
    "ss = Disulfide()\n",
    "ss = PDB_SS[0]\n",
    "\n",
    "ss.display(style='sb', single=True)\n"
   ]
  },
  {
   "cell_type": "code",
   "execution_count": null,
   "metadata": {},
   "outputs": [],
   "source": []
  },
  {
   "cell_type": "code",
   "execution_count": 3,
   "metadata": {},
   "outputs": [
    {
     "data": {
      "application/vnd.jupyter.widget-view+json": {
       "model_id": "53178144e7af439a99fe0853b217ec57",
       "version_major": 2,
       "version_minor": 0
      },
      "text/plain": [
       "ViewInteractiveWidget(height=1200, layout=Layout(height='auto', width='100%'), width=1200)"
      ]
     },
     "metadata": {},
     "output_type": "display_data"
    }
   ],
   "source": [
    "ss.display(style='cpk', single=True)\n"
   ]
  },
  {
   "cell_type": "code",
   "execution_count": null,
   "metadata": {},
   "outputs": [],
   "source": []
  }
 ],
 "metadata": {
  "kernelspec": {
   "display_name": "Proteus",
   "language": "python",
   "name": "proteus"
  },
  "language_info": {
   "codemirror_mode": {
    "name": "ipython",
    "version": 3
   },
   "file_extension": ".py",
   "mimetype": "text/x-python",
   "name": "python",
   "nbconvert_exporter": "python",
   "pygments_lexer": "ipython3",
   "version": "3.9.15"
  },
  "vscode": {
   "interpreter": {
    "hash": "67eff1aa11768869f1d52cc83ff6f6101b62fd1ade35be784bd3767ddc8bd460"
   }
  }
 },
 "nbformat": 4,
 "nbformat_minor": 2
}
