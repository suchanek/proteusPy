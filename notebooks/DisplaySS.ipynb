{
 "cells": [
  {
   "cell_type": "code",
   "execution_count": null,
   "metadata": {},
   "outputs": [],
   "source": [
    "# Disulfide Bond Analysis\n",
    "# Author: Eric G. Suchanek, PhD.\n",
    "# Last revision: 12/28/22 -egs-\n",
    "# Cα Cβ Sγ\n",
    "\n",
    "import pandas as pd\n",
    "from proteusPy.Disulfide import DisulfideLoader, Disulfide, DisulfideList\n",
    "from proteusPy.atoms import *\n",
    "import pyvista as pv\n",
    "from pyvista import set_plot_theme, set_jupyter_backend\n",
    "\n",
    "pv.global_theme.interactive = True\n",
    "set_jupyter_backend('ipyvtklink')\n",
    "set_plot_theme('document')\n",
    "\n",
    "\n",
    "# the locations below represent the actual location on the dev drive.\n",
    "# location for PDB repository\n",
    "PDB_BASE = '/Users/egs/PDB/'\n",
    "\n",
    "# location of cleaned PDB files\n",
    "PDB = '/Users/egs/PDB/good/'\n",
    "\n",
    "# location of the compressed Disulfide .pkl files\n",
    "MODELS = f'{PDB_BASE}models/'\n",
    "\n",
    "# when running from the repo the local copy of the Disulfides is in ../pdb/models\n",
    "# PDB_BASE = '../pdb/'\n",
    "\n",
    "# location of the compressed Disulfide .pkl files\n",
    "# MODELS = f'{PDB_BASE}models/'\n",
    "\n",
    "def showit(ss: Disulfide):\n",
    "    ss.display(single=True, style='bs')\n",
    "\n",
    "\n",
    "PDB_SS = None\n",
    "PDB_SS = DisulfideLoader(verbose=True, modeldir=MODELS)\n",
    "\n"
   ]
  },
  {
   "cell_type": "code",
   "execution_count": null,
   "metadata": {},
   "outputs": [],
   "source": [
    "# one disulfide from the database\n",
    "\n",
    "ss = Disulfide()\n",
    "ss = PDB_SS[0]\n",
    "\n",
    "ss.display(style='cpk', single=True)\n"
   ]
  },
  {
   "cell_type": "code",
   "execution_count": null,
   "metadata": {},
   "outputs": [],
   "source": [
    "ss.display(style='sb', single=True)\n"
   ]
  },
  {
   "cell_type": "code",
   "execution_count": null,
   "metadata": {},
   "outputs": [],
   "source": [
    "sslist = DisulfideList([], 'slice')\n",
    "sslist = PDB_SS[:8]\n",
    "sslist.display('pd')"
   ]
  },
  {
   "cell_type": "code",
   "execution_count": null,
   "metadata": {},
   "outputs": [],
   "source": [
    "ss.display(style='sb', single=True)\n"
   ]
  },
  {
   "cell_type": "code",
   "execution_count": null,
   "metadata": {},
   "outputs": [],
   "source": [
    "ss1j5h = DisulfideList([], 'ss1j5h')\n",
    "ss1j5h = PDB_SS['1j5h']\n",
    "ss1j5h.display('pd')\n"
   ]
  },
  {
   "cell_type": "code",
   "execution_count": null,
   "metadata": {},
   "outputs": [],
   "source": [
    "pl = pv.Plotter()\n",
    "actor = pl.add_mesh(pv.Sphere())\n",
    "prop = actor.prop\n",
    "prop.diffuse = 0.6\n",
    "prop.diffuse_color = 'w'\n",
    "prop.ambient = 0.3\n",
    "prop.ambient_color = 'r'\n",
    "prop.specular = 0.5\n",
    "prop.specular_color = 'b'\n",
    "pl.show()"
   ]
  },
  {
   "cell_type": "code",
   "execution_count": null,
   "metadata": {},
   "outputs": [],
   "source": [
    "from proteusPy.Disulfide import cmap_vector\n",
    "import numpy\n",
    "\n",
    "startc = numpy.array([.1, .8, 1])\n",
    "endc = numpy.array([1, .1, .3])\n",
    "colors = cmap_vector(startc, endc, 30)\n",
    "\n",
    "p = pv.Plotter()\n",
    "#p.set_environment_texture(cubemap)\n",
    "\n",
    "for i in range(5):\n",
    "    for j in range(6):\n",
    "        sphere = pv.Sphere(radius=0.5, center=(0.0, 4 - i, j))\n",
    "        p.add_mesh(sphere, color=colors[i], pbr=True, metallic=i / 4, roughness=j / 5)\n",
    "\n",
    "p.view_vector((-1, 0, 0), (0, 1, 0))\n",
    "p.show()\n"
   ]
  },
  {
   "cell_type": "code",
   "execution_count": null,
   "metadata": {},
   "outputs": [],
   "source": [
    "colors = [(1, 0, 0), (0, 1, 0), (0, 0, 1)]  # R -> G -> B\n",
    "n_bins = [3, 6, 10, 100]  # Discretizes the interpolation into bins\n",
    "from matplotlib.colors import LinearSegmentedColormap\n",
    "\n",
    "def cmap_vector(steps):\n",
    "    colors = [(1, 0, 0), (0, 1, 0), (0, 0, 1)]  # R -> G -> B\n",
    "    cmap_name = 'cmap'\n",
    "    cmap = LinearSegmentedColormap.from_list(cmap_name, colors, N=steps)\n",
    "    return cmap\n",
    "\n",
    "cmap = cmap_vector(12)\n"
   ]
  },
  {
   "cell_type": "code",
   "execution_count": null,
   "metadata": {},
   "outputs": [],
   "source": [
    "cm2 = cmap.copy()\n",
    "cm2"
   ]
  },
  {
   "cell_type": "code",
   "execution_count": null,
   "metadata": {},
   "outputs": [],
   "source": []
  }
 ],
 "metadata": {
  "kernelspec": {
   "display_name": "proteus",
   "language": "python",
   "name": "python3"
  },
  "language_info": {
   "codemirror_mode": {
    "name": "ipython",
    "version": 3
   },
   "file_extension": ".py",
   "mimetype": "text/x-python",
   "name": "python",
   "nbconvert_exporter": "python",
   "pygments_lexer": "ipython3",
   "version": "3.9.15"
  },
  "vscode": {
   "interpreter": {
    "hash": "67eff1aa11768869f1d52cc83ff6f6101b62fd1ade35be784bd3767ddc8bd460"
   }
  }
 },
 "nbformat": 4,
 "nbformat_minor": 4
}
