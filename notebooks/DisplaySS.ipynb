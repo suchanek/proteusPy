{
 "cells": [
  {
   "cell_type": "code",
   "execution_count": 1,
   "metadata": {},
   "outputs": [
    {
     "name": "stdout",
     "output_type": "stream",
     "text": [
      "-> load_PDB_SS(): Reading /Users/egs/miniforge3/envs/proteusPy/lib/python3.11/site-packages/proteusPy/data/PDB_SS_ALL_LOADER.pkl... \n",
      "-> load_PDB_SS(): Done reading /Users/egs/miniforge3/envs/proteusPy/lib/python3.11/site-packages/proteusPy/data/PDB_SS_ALL_LOADER.pkl... \n"
     ]
    }
   ],
   "source": [
    "# Disulfide Bond Analysis\n",
    "# Author: Eric G. Suchanek, PhD.\n",
    "# Last revision: 12/28/22 -egs-\n",
    "# Cα Cβ Sγ\n",
    "\n",
    "from proteusPy import *\n",
    "\n",
    "from proteusPy.Disulfide import Disulfide, DisulfideList\n",
    "from proteusPy.DisulfideLoader import DisulfideLoader\n",
    "\n",
    "from proteusPy.atoms import *\n",
    "\n",
    "import pyvista as pv\n",
    "from pyvista import set_plot_theme, set_jupyter_backend\n",
    "\n",
    "pv.global_theme.interactive = True\n",
    "set_plot_theme('dark')\n",
    "\n",
    "\n",
    "# the locations below represent the actual location on the dev drive.\n",
    "# location for PDB repository\n",
    "PDB_BASE = '/Users/egs/PDB/'\n",
    "\n",
    "# location of cleaned PDB files\n",
    "PDB = '/Users/egs/PDB/good/'\n",
    "\n",
    "# location of the compressed Disulfide .pkl files\n",
    "MODELS = f'{PDB_BASE}models/'\n",
    "\n",
    "# when running from the repo the local copy of the Disulfides is in ../pdb/models\n",
    "# PDB_BASE = '../pdb/'\n",
    "\n",
    "# location of the compressed Disulfide .pkl files\n",
    "# MODELS = f'{PDB_BASE}models/'\n",
    "\n",
    "def showit(ss: Disulfide):\n",
    "    ss.display(single=True, style='bs')\n",
    "\n",
    "\n",
    "PDB_SS = None\n",
    "PDB_SS = Load_PDB_SS(verbose=True)\n",
    "\n"
   ]
  },
  {
   "cell_type": "code",
   "execution_count": 4,
   "metadata": {},
   "outputs": [
    {
     "data": {
      "application/vnd.jupyter.widget-view+json": {
       "model_id": "abb6643773e1486aadc26b7dc13cb222",
       "version_major": 2,
       "version_minor": 0
      },
      "text/plain": [
       "Widget(value=\"<iframe src='http://localhost:57263/index.html?ui=P_0x1683774f0_0&reconnect=auto' style='width: …"
      ]
     },
     "metadata": {},
     "output_type": "display_data"
    }
   ],
   "source": [
    "# one disulfide from the database\n",
    "\n",
    "ss = Disulfide()\n",
    "ss = PDB_SS[0]\n",
    "\n",
    "ss.display(style='cpk', single=False)\n"
   ]
  },
  {
   "cell_type": "code",
   "execution_count": 5,
   "metadata": {},
   "outputs": [
    {
     "data": {
      "application/vnd.jupyter.widget-view+json": {
       "model_id": "53fba0b5acfb46bc8095b1baed5d71a2",
       "version_major": 2,
       "version_minor": 0
      },
      "text/plain": [
       "Widget(value=\"<iframe src='http://localhost:57263/index.html?ui=P_0x16905d2b0_1&reconnect=auto' style='width: …"
      ]
     },
     "metadata": {},
     "output_type": "display_data"
    }
   ],
   "source": [
    "ss.display(style='sb', single=True)\n"
   ]
  },
  {
   "cell_type": "code",
   "execution_count": null,
   "metadata": {},
   "outputs": [],
   "source": [
    "sslist = DisulfideList([], 'slice')\n",
    "sslist = PDB_SS[:8]\n",
    "sslist.display('pd')"
   ]
  },
  {
   "cell_type": "code",
   "execution_count": null,
   "metadata": {},
   "outputs": [],
   "source": [
    "ss.display(style='sb', single=True)\n"
   ]
  },
  {
   "cell_type": "code",
   "execution_count": 6,
   "metadata": {},
   "outputs": [
    {
     "name": "stderr",
     "output_type": "stream",
     "text": [
      "100%|██████████████████████████████████████████████████████████████████████| 2/2 [00:00<00:00, 11.72it/s]\n"
     ]
    },
    {
     "data": {
      "application/vnd.jupyter.widget-view+json": {
       "model_id": "b989bd331c6a456fae39c9cfad18fb3d",
       "version_major": 2,
       "version_minor": 0
      },
      "text/plain": [
       "Widget(value=\"<iframe src='http://localhost:57263/index.html?ui=P_0x16a25bca0_2&reconnect=auto' style='width: …"
      ]
     },
     "metadata": {},
     "output_type": "display_data"
    }
   ],
   "source": [
    "ss1j5h = DisulfideList([], 'ss1j5h')\n",
    "ss1j5h = PDB_SS['1j5h']\n",
    "ss1j5h.display_overlay()\n"
   ]
  },
  {
   "cell_type": "code",
   "execution_count": 2,
   "metadata": {},
   "outputs": [],
   "source": [
    "sslist = DisulfideList([], 'test')"
   ]
  },
  {
   "cell_type": "code",
   "execution_count": 3,
   "metadata": {},
   "outputs": [],
   "source": [
    "sslist2 = PDB_SS[0:6]"
   ]
  },
  {
   "cell_type": "code",
   "execution_count": 4,
   "metadata": {},
   "outputs": [],
   "source": [
    "ss1 = Disulfide()"
   ]
  },
  {
   "cell_type": "code",
   "execution_count": 5,
   "metadata": {},
   "outputs": [],
   "source": [
    "sslist3 = DisulfideList[ss1],'egs2'"
   ]
  },
  {
   "cell_type": "code",
   "execution_count": 6,
   "metadata": {},
   "outputs": [],
   "source": [
    "sslist = DisulfideList(PDB_SS[0:10], 'test')\n"
   ]
  },
  {
   "cell_type": "code",
   "execution_count": 7,
   "metadata": {},
   "outputs": [
    {
     "data": {
      "text/plain": [
       "DisulfideList([<Disulfide 4yys_22A_65A, Source: 4yys, Resolution: 1.35 Å>,\n",
       "               <Disulfide 4yys_56A_98A, Source: 4yys, Resolution: 1.35 Å>,\n",
       "               <Disulfide 4yys_156A_207A, Source: 4yys, Resolution: 1.35 Å>,\n",
       "               <Disulfide 1j5h_37A_47A, Source: 1j5h, Resolution: -1.0 Å>,\n",
       "               <Disulfide 1j5h_88A_93A, Source: 1j5h, Resolution: -1.0 Å>,\n",
       "               <Disulfide 1mfe_137L_196L, Source: 1mfe, Resolution: 2.0 Å>,\n",
       "               <Disulfide 1chv_3S_21S, Source: 1chv, Resolution: -1.0 Å>,\n",
       "               <Disulfide 1chv_14S_38S, Source: 1chv, Resolution: -1.0 Å>,\n",
       "               <Disulfide 1chv_42S_53S, Source: 1chv, Resolution: -1.0 Å>,\n",
       "               <Disulfide 1chv_54S_59S, Source: 1chv, Resolution: -1.0 Å>])"
      ]
     },
     "execution_count": 7,
     "metadata": {},
     "output_type": "execute_result"
    }
   ],
   "source": [
    "sslist"
   ]
  },
  {
   "cell_type": "code",
   "execution_count": 8,
   "metadata": {},
   "outputs": [
    {
     "name": "stdout",
     "output_type": "stream",
     "text": [
      "<Disulfide 4yys_22A_65A, Source: 4yys, Resolution: 1.35 Å \n",
      "Χ1-Χ5: 174.63°, 82.52°, -83.32°, -62.52° -73.83°, 138.89°, 1.70 kcal/mol \n",
      "Cα Distance: 4.50 Å \n",
      "Torsion length: 231.53 deg>\n",
      "<Disulfide 4yys_56A_98A, Source: 4yys, Resolution: 1.35 Å \n",
      "Χ1-Χ5: -50.24°, -85.58°, 97.28°, 70.54° 179.05°, -68.58°, 2.11 kcal/mol \n",
      "Cα Distance: 4.97 Å \n",
      "Torsion length: 237.37 deg>\n",
      "<Disulfide 4yys_156A_207A, Source: 4yys, Resolution: 1.35 Å \n",
      "Χ1-Χ5: 62.60°, 172.94°, -95.35°, -23.07° -55.16°, 15.63°, 2.33 kcal/mol \n",
      "Cα Distance: 5.29 Å \n",
      "Torsion length: 215.62 deg>\n",
      "<Disulfide 1j5h_37A_47A, Source: 1j5h, Resolution: -1.0 Å \n",
      "Χ1-Χ5: -47.76°, -120.21°, 68.56°, -38.29° -101.20°, -172.53°, 7.08 kcal/mol \n",
      "Cα Distance: 3.61 Å \n",
      "Torsion length: 182.04 deg>\n",
      "<Disulfide 1j5h_88A_93A, Source: 1j5h, Resolution: -1.0 Å \n",
      "Χ1-Χ5: -130.03°, -138.60°, 27.09°, 101.73° -109.68°, 101.88°, 16.82 kcal/mol \n",
      "Cα Distance: 5.29 Å \n",
      "Torsion length: 243.37 deg>\n",
      "<Disulfide 1mfe_137L_196L, Source: 1mfe, Resolution: 2.0 Å \n",
      "Χ1-Χ5: -166.65°, 172.94°, -94.15°, -168.33° -176.23°, -64.64°, 1.52 kcal/mol \n",
      "Cα Distance: 6.50 Å \n",
      "Torsion length: 354.88 deg>\n",
      "<Disulfide 1chv_3S_21S, Source: 1chv, Resolution: -1.0 Å \n",
      "Χ1-Χ5: -75.31°, 168.08°, 87.03°, -166.26° -64.03°, -33.02°, 1.62 kcal/mol \n",
      "Cα Distance: 6.46 Å \n",
      "Torsion length: 270.62 deg>\n",
      "<Disulfide 1chv_14S_38S, Source: 1chv, Resolution: -1.0 Å \n",
      "Χ1-Χ5: -73.69°, -173.12°, 71.29°, 141.67° -47.70°, -45.32°, 3.20 kcal/mol \n",
      "Cα Distance: 6.35 Å \n",
      "Torsion length: 250.66 deg>\n",
      "<Disulfide 1chv_42S_53S, Source: 1chv, Resolution: -1.0 Å \n",
      "Χ1-Χ5: 159.37°, 47.09°, 122.49°, -162.34° -45.99°, -130.83°, 5.41 kcal/mol \n",
      "Cα Distance: 5.88 Å \n",
      "Torsion length: 266.63 deg>\n",
      "<Disulfide 1chv_54S_59S, Source: 1chv, Resolution: -1.0 Å \n",
      "Χ1-Χ5: 67.68°, -144.49°, -73.71°, -99.85° 80.62°, 119.71°, 4.69 kcal/mol \n",
      "Cα Distance: 6.34 Å \n",
      "Torsion length: 217.62 deg>\n"
     ]
    }
   ],
   "source": [
    "sslist.pprint()"
   ]
  },
  {
   "cell_type": "code",
   "execution_count": null,
   "metadata": {},
   "outputs": [],
   "source": []
  }
 ],
 "metadata": {
  "kernelspec": {
   "display_name": "Python (proteusPy 0.92.1 )",
   "language": "python",
   "name": "proteuspy"
  },
  "language_info": {
   "codemirror_mode": {
    "name": "ipython",
    "version": 3
   },
   "file_extension": ".py",
   "mimetype": "text/x-python",
   "name": "python",
   "nbconvert_exporter": "python",
   "pygments_lexer": "ipython3",
   "version": "3.11.7"
  },
  "vscode": {
   "interpreter": {
    "hash": "67eff1aa11768869f1d52cc83ff6f6101b62fd1ade35be784bd3767ddc8bd460"
   }
  }
 },
 "nbformat": 4,
 "nbformat_minor": 4
}
