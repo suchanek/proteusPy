{
 "cells": [
  {
   "cell_type": "code",
   "execution_count": 1,
   "metadata": {},
   "outputs": [
    {
     "name": "stdout",
     "output_type": "stream",
     "text": [
      "Reading disulfides from: /Users/egs/PDB/models/PDB_all_ss.pkl\n",
      "Disulfides Read: 8210\n",
      "Reading disulfide dict from: /Users/egs/PDB/models/PDB_all_ss_dict.pkl\n",
      "Reading Torsion DF /Users/egs/PDB/models/PDB_all_SS_torsions.csv.\n",
      "Read torsions DF.\n",
      "PDB IDs parsed: 1000\n",
      "Total Space Used: 1844317 bytes.\n"
     ]
    }
   ],
   "source": [
    "# Disulfide Bond Analysis\n",
    "# Author: Eric G. Suchanek, PhD.\n",
    "# Last revision: 12/28/22 -egs-\n",
    "# Cα Cβ Sγ\n",
    "\n",
    "import pandas as pd\n",
    "from proteusPy import *\n",
    "\n",
    "from proteusPy.Disulfide import Disulfide, DisulfideList\n",
    "from proteusPy.DisulfideLoader import DisulfideLoader\n",
    "\n",
    "from proteusPy.atoms import *\n",
    "\n",
    "import pyvista as pv\n",
    "from pyvista import set_plot_theme, set_jupyter_backend\n",
    "\n",
    "pv.global_theme.interactive = True\n",
    "set_jupyter_backend('ipyvtklink')\n",
    "set_plot_theme('dark')\n",
    "\n",
    "\n",
    "# the locations below represent the actual location on the dev drive.\n",
    "# location for PDB repository\n",
    "PDB_BASE = '/Users/egs/PDB/'\n",
    "\n",
    "# location of cleaned PDB files\n",
    "PDB = '/Users/egs/PDB/good/'\n",
    "\n",
    "# location of the compressed Disulfide .pkl files\n",
    "MODELS = f'{PDB_BASE}models/'\n",
    "\n",
    "# when running from the repo the local copy of the Disulfides is in ../pdb/models\n",
    "# PDB_BASE = '../pdb/'\n",
    "\n",
    "# location of the compressed Disulfide .pkl files\n",
    "# MODELS = f'{PDB_BASE}models/'\n",
    "\n",
    "def showit(ss: Disulfide):\n",
    "    ss.display(single=True, style='bs')\n",
    "\n",
    "\n",
    "PDB_SS = None\n",
    "PDB_SS = DisulfideLoader(verbose=True, modeldir=MODELS)\n",
    "\n"
   ]
  },
  {
   "cell_type": "code",
   "execution_count": 2,
   "metadata": {},
   "outputs": [
    {
     "data": {
      "application/vnd.jupyter.widget-view+json": {
       "model_id": "1d197b68c17347009cfe29f2b3e375e4",
       "version_major": 2,
       "version_minor": 0
      },
      "text/plain": [
       "ViewInteractiveWidget(height=1024, layout=Layout(height='auto', width='100%'), width=1024)"
      ]
     },
     "metadata": {},
     "output_type": "display_data"
    }
   ],
   "source": [
    "# one disulfide from the database\n",
    "\n",
    "ss = Disulfide()\n",
    "ss = PDB_SS[0]\n",
    "\n",
    "ss.display(style='cpk', single=True)\n"
   ]
  },
  {
   "cell_type": "code",
   "execution_count": 5,
   "metadata": {},
   "outputs": [
    {
     "data": {
      "application/vnd.jupyter.widget-view+json": {
       "model_id": "885b9b6e45784b6b90958a3637072a98",
       "version_major": 2,
       "version_minor": 0
      },
      "text/plain": [
       "ViewInteractiveWidget(height=1024, layout=Layout(height='auto', width='100%'), width=1024)"
      ]
     },
     "metadata": {},
     "output_type": "display_data"
    }
   ],
   "source": [
    "ss.display(style='sb', single=True)\n"
   ]
  },
  {
   "cell_type": "code",
   "execution_count": 6,
   "metadata": {},
   "outputs": [
    {
     "data": {
      "application/vnd.jupyter.widget-view+json": {
       "model_id": "bd0c37c763074cbca89a87e8a2811440",
       "version_major": 2,
       "version_minor": 0
      },
      "text/plain": [
       "ViewInteractiveWidget(height=1024, layout=Layout(height='auto', width='100%'), width=1024)"
      ]
     },
     "metadata": {},
     "output_type": "display_data"
    }
   ],
   "source": [
    "sslist = DisulfideList([], 'slice')\n",
    "sslist = PDB_SS[:8]\n",
    "sslist.display('pd')"
   ]
  },
  {
   "cell_type": "code",
   "execution_count": 7,
   "metadata": {},
   "outputs": [
    {
     "data": {
      "application/vnd.jupyter.widget-view+json": {
       "model_id": "c2ee7c7a6904414f8db44fd4b1ed9751",
       "version_major": 2,
       "version_minor": 0
      },
      "text/plain": [
       "ViewInteractiveWidget(height=1024, layout=Layout(height='auto', width='100%'), width=1024)"
      ]
     },
     "metadata": {},
     "output_type": "display_data"
    }
   ],
   "source": [
    "ss.display(style='sb', single=True)\n"
   ]
  },
  {
   "cell_type": "code",
   "execution_count": 8,
   "metadata": {},
   "outputs": [
    {
     "data": {
      "application/vnd.jupyter.widget-view+json": {
       "model_id": "a398073a310f489cb845b2b2697190c7",
       "version_major": 2,
       "version_minor": 0
      },
      "text/plain": [
       "ViewInteractiveWidget(height=1024, layout=Layout(height='auto', width='100%'), width=1024)"
      ]
     },
     "metadata": {},
     "output_type": "display_data"
    }
   ],
   "source": [
    "ss1j5h = DisulfideList([], 'ss1j5h')\n",
    "ss1j5h = PDB_SS['1j5h']\n",
    "ss1j5h.display('pd')\n"
   ]
  },
  {
   "cell_type": "code",
   "execution_count": null,
   "metadata": {},
   "outputs": [],
   "source": [
    "pl = pv.Plotter()\n",
    "actor = pl.add_mesh(pv.Sphere())\n",
    "prop = actor.prop\n",
    "prop.diffuse = 0.6\n",
    "prop.diffuse_color = 'w'\n",
    "prop.ambient = 0.3\n",
    "prop.ambient_color = 'r'\n",
    "prop.specular = 0.5\n",
    "prop.specular_color = 'b'\n",
    "pl.show()"
   ]
  },
  {
   "cell_type": "markdown",
   "metadata": {},
   "source": []
  },
  {
   "cell_type": "code",
   "execution_count": null,
   "metadata": {},
   "outputs": [],
   "source": [
    "colors = [(1, 0, 0), (0, 1, 0), (0, 0, 1)]  # R -> G -> B\n",
    "n_bins = [3, 6, 10, 100]  # Discretizes the interpolation into bins\n",
    "from matplotlib.colors import LinearSegmentedColormap\n",
    "\n",
    "def cmap_vector2(steps):\n",
    "    colors = [(1, 0, 0), (0, 1, 0), (0, 0, 1)]  # R -> G -> B\n",
    "    cmap_name = 'cmap'\n",
    "    cmap = LinearSegmentedColormap.from_list(cmap_name, colors, N=steps)\n",
    "    return cmap\n",
    "\n",
    "cmap = cmap_vector2(4)\n",
    "cmap.from_list()\n"
   ]
  },
  {
   "cell_type": "code",
   "execution_count": null,
   "metadata": {},
   "outputs": [],
   "source": [
    "cm2 = cmap.copy()\n",
    "cm2"
   ]
  },
  {
   "cell_type": "code",
   "execution_count": null,
   "metadata": {},
   "outputs": [],
   "source": []
  }
 ],
 "metadata": {
  "kernelspec": {
   "display_name": "Proteus",
   "language": "python",
   "name": "proteus"
  },
  "language_info": {
   "codemirror_mode": {
    "name": "ipython",
    "version": 3
   },
   "file_extension": ".py",
   "mimetype": "text/x-python",
   "name": "python",
   "nbconvert_exporter": "python",
   "pygments_lexer": "ipython3",
   "version": "3.9.15"
  },
  "vscode": {
   "interpreter": {
    "hash": "67eff1aa11768869f1d52cc83ff6f6101b62fd1ade35be784bd3767ddc8bd460"
   }
  }
 },
 "nbformat": 4,
 "nbformat_minor": 4
}
