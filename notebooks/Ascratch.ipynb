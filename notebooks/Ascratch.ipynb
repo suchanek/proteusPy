{
 "cells": [
  {
   "cell_type": "code",
   "execution_count": 3,
   "metadata": {},
   "outputs": [],
   "source": [
    "import pyvista as pv\n",
    "from Bio.PDB import PDBParser\n",
    "\n",
    "def display_protein(pdb_file):\n",
    "    # Parse the PDB file to get the protein structure\n",
    "    parser = PDBParser()\n",
    "    structure = parser.get_structure('protein', pdb_file)\n",
    "\n",
    "    # Create an empty PyVista plotter object\n",
    "    plotter = pv.Plotter()\n",
    "\n",
    "    # Add spheres to the plotter object to represent each atom in the structure\n",
    "    for model in structure:\n",
    "        for chain in model:\n",
    "            for residue in chain:\n",
    "                for atom in residue:\n",
    "                    pos = atom.get_coord()\n",
    "                    atom_type = atom.element\n",
    "                    plotter.add_mesh(pv.Sphere(center=pos, radius=0.25))\n",
    "\n",
    "    # Show the plotter object\n",
    "    plotter.show()\n"
   ]
  },
  {
   "cell_type": "code",
   "execution_count": 6,
   "metadata": {},
   "outputs": [],
   "source": [
    "anfile = '/Users/egs/PDB/good/pdb2q7q.ent'\n",
    "infile = '/Users/egs/repos/proteusPy/data/2q7qbest.pdb'"
   ]
  },
  {
   "cell_type": "code",
   "execution_count": 7,
   "metadata": {},
   "outputs": [
    {
     "data": {
      "application/vnd.jupyter.widget-view+json": {
       "model_id": "2cd4fbf489074f80933ca7d4923574eb",
       "version_major": 2,
       "version_minor": 0
      },
      "text/plain": [
       "Widget(value=\"<iframe src='http://localhost:50010/index.html?ui=P_0x10aa4fb50_0&reconnect=auto' style='width: …"
      ]
     },
     "metadata": {},
     "output_type": "display_data"
    }
   ],
   "source": [
    "display_protein(infile)"
   ]
  },
  {
   "cell_type": "code",
   "execution_count": null,
   "metadata": {},
   "outputs": [],
   "source": []
  }
 ],
 "metadata": {
  "kernelspec": {
   "display_name": "proteus",
   "language": "python",
   "name": "python3"
  },
  "language_info": {
   "codemirror_mode": {
    "name": "ipython",
    "version": 3
   },
   "file_extension": ".py",
   "mimetype": "text/x-python",
   "name": "python",
   "nbconvert_exporter": "python",
   "pygments_lexer": "ipython3",
   "version": "3.9.15"
  },
  "orig_nbformat": 4,
  "vscode": {
   "interpreter": {
    "hash": "67eff1aa11768869f1d52cc83ff6f6101b62fd1ade35be784bd3767ddc8bd460"
   }
  }
 },
 "nbformat": 4,
 "nbformat_minor": 2
}
