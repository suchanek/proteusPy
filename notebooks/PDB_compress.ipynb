{
 "cells": [
  {
   "cell_type": "code",
   "execution_count": 1,
   "metadata": {},
   "outputs": [],
   "source": [
    "# Disulfide Bond Analysis\n",
    "# Author: Eric G. Suchanek, PhD.\n",
    "# Biopython imports\n",
    "\n",
    "import pandas as pd\n",
    "from Bio.PDB import *\n",
    "\n",
    "# Eric's modules\n",
    "from turtle3D import *\n",
    "\n",
    "#from Disulfide import Disulfide\n",
    "#from Disulfide import load_disulfides_from_id\n",
    "\n",
    "from Disulfide import *\n",
    "\n",
    "# global directory for PDB files\n",
    "from Bio.PDB import PDBParser\n",
    "from Disulfide import parse_ssbond_header_rec\n",
    "\n",
    "PDB_DIR = '/Users/egs/PDB/good/'\n",
    "MODEL_DIR = '/Users/egs/PDB/models/'\n",
    "\n",
    "PDBlist = PDBList(pdb=PDB_DIR, verbose=False)\n",
    "parser = PDBParser(PERMISSIVE=True, QUIET=True)\n"
   ]
  },
  {
   "cell_type": "code",
   "execution_count": null,
   "metadata": {},
   "outputs": [],
   "source": []
  }
 ],
 "metadata": {
  "kernelspec": {
   "display_name": "Python 3 (ipykernel)",
   "language": "python",
   "name": "python3"
  },
  "language_info": {
   "codemirror_mode": {
    "name": "ipython",
    "version": 3
   },
   "file_extension": ".py",
   "mimetype": "text/x-python",
   "name": "python",
   "nbconvert_exporter": "python",
   "pygments_lexer": "ipython3",
   "version": "3.9.15"
  },
  "vscode": {
   "interpreter": {
    "hash": "2e049c0f63e6b330ae815ad1049a36d20686725ba1cc68cc0aadee0375e172d1"
   }
  }
 },
 "nbformat": 4,
 "nbformat_minor": 4
}
