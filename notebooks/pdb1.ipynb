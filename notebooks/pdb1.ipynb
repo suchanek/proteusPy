{
 "cells": [
  {
   "cell_type": "code",
   "execution_count": null,
   "metadata": {},
   "outputs": [],
   "source": [
    "# Author: Eric G. Suchanek, PhD\n",
    "# notebook to explore the BIO.PDB interface and prototyping\n",
    "#"
   ]
  },
  {
   "cell_type": "code",
   "execution_count": 1,
   "metadata": {},
   "outputs": [],
   "source": [
    "import numpy\n",
    "import Bio\n",
    "\n",
    "import Bio.PDB as PDB\n",
    "\n",
    "from Bio.PDB.Polypeptide import PPBuilder\n",
    "from Bio.PDB import Residue\n",
    "from Bio.PDB import vectors\n",
    "\n",
    "PDB_DIR = '/Users/egs/PDB/good/'\n"
   ]
  },
  {
   "cell_type": "code",
   "execution_count": 2,
   "metadata": {},
   "outputs": [],
   "source": [
    "#\n",
    "# grab the current list of entires and download a structure\n",
    "\n",
    "pdblist = PDB.PDBList(pdb=PDB_DIR)\n",
    "\n",
    "#all_entries = pdblist.get_all_entries()\n",
    "\n"
   ]
  },
  {
   "cell_type": "code",
   "execution_count": null,
   "metadata": {},
   "outputs": [],
   "source": [
    "all_entries"
   ]
  },
  {
   "cell_type": "code",
   "execution_count": null,
   "metadata": {},
   "outputs": [],
   "source": [
    "from tqdm import tqdm\n",
    "\n",
    "for entry in tqdm(all_entries):\n",
    "    print(f'{entry}')\n",
    "\n"
   ]
  },
  {
   "cell_type": "code",
   "execution_count": null,
   "metadata": {},
   "outputs": [],
   "source": [
    "#    def update_pdb(self, file_format=None, with_assemblies=False):\n",
    "# pdblist.download_entire_pdb_egs('pdb', file_format='pdb', listfile=f'{PDB_DIR}PDB_EGS.txt')"
   ]
  },
  {
   "cell_type": "code",
   "execution_count": 15,
   "metadata": {},
   "outputs": [
    {
     "name": "stdout",
     "output_type": "stream",
     "text": [
      "ssbond dict: {1: ('437', '437', 'A', 'D'), 2: ('437', '437', 'B', 'C')}\n",
      "multiple chains. [<Chain id=A>, <Chain id=B>, <Chain id=C>, <Chain id=D>]\n",
      "Chain: A, length: 500\n",
      "Chain: B, length: 500\n",
      "Chain: C, length: 498\n",
      "Chain: D, length: 498\n",
      "chain lengths are unequal: [500, 500, 498, 498]\n"
     ]
    }
   ],
   "source": [
    "# general flow to extract the hierarchical parts from a PDB file\n",
    "\n",
    "#protein = pdblist.retrieve_pdb_file('5rsa', file_format='pdb', pdir=PDB_DIR)\n",
    "\n"
   ]
  },
  {
   "cell_type": "code",
   "execution_count": 13,
   "metadata": {},
   "outputs": [
    {
     "name": "stdout",
     "output_type": "stream",
     "text": [
      "ID: 5rsa\n"
     ]
    }
   ],
   "source": [
    "\n",
    "chains = model.g\n",
    "\n",
    "chain = model['A']\n",
    "residues = chain.get_residues()\n",
    "id = chain.get_full_id()\n",
    "print(f'ID: {structure.get_id()}')\n"
   ]
  },
  {
   "cell_type": "code",
   "execution_count": 14,
   "metadata": {},
   "outputs": [
    {
     "name": "stdout",
     "output_type": "stream",
     "text": [
      "There are: 1 peptides in the structure\n"
     ]
    }
   ],
   "source": [
    "ppb=PPBuilder()\n",
    "ppepts = ppb.build_peptides(structure)\n",
    "\n",
    "print(f'There are: {len(ppepts)} peptides in the structure')\n",
    "\n",
    "polypeptide = ppepts[0]\n",
    "phipsi_list = polypeptide.get_phi_psi_list()\n",
    "sequence = polypeptide.get_sequence()\n",
    "tau_list = polypeptide.get_tau_list()\n",
    "ca_list = polypeptide.get_ca_list()\n",
    "\n",
    "#print(f'PhiPsi: {ca_list}')"
   ]
  },
  {
   "cell_type": "code",
   "execution_count": 16,
   "metadata": {},
   "outputs": [
    {
     "name": "stdout",
     "output_type": "stream",
     "text": [
      "('5rsa', 0, 'A', (' ', 26, ' ')) ('5rsa', 0, 'A', (' ', 84, ' '))\n"
     ]
    }
   ],
   "source": [
    "res26 = chain[26]\n",
    "res84 = chain[84]\n",
    "id = res26.get_full_id()\n",
    "id2 = res84.get_full_id()\n",
    "print(id, id2)\n"
   ]
  },
  {
   "cell_type": "code",
   "execution_count": null,
   "metadata": {},
   "outputs": [],
   "source": [
    "for residue in model.get_residues():\n",
    "    for atom in residue.get_atoms():\n",
    "        print(f'Atom: {atom.coord}')"
   ]
  },
  {
   "cell_type": "code",
   "execution_count": null,
   "metadata": {},
   "outputs": [],
   "source": [
    "from Turtle3D import Turtle3D\n",
    "from Residue import orient_at_residue\n"
   ]
  },
  {
   "cell_type": "code",
   "execution_count": null,
   "metadata": {},
   "outputs": [],
   "source": [
    "res26 = chain[26]\n",
    "res84 = chain[84]\n",
    "\n",
    "res84.get_resname()\n",
    "\n",
    "turt = Turtle3D('tst')\n",
    "print(turt)\n",
    "turt.set_orientation(1)\n",
    "\n",
    "turt"
   ]
  },
  {
   "cell_type": "code",
   "execution_count": null,
   "metadata": {},
   "outputs": [],
   "source": [
    "orient_at_residue(turt, chain, 26, 1)\n",
    "turt"
   ]
  },
  {
   "cell_type": "code",
   "execution_count": null,
   "metadata": {},
   "outputs": [],
   "source": [
    "ar = numpy.array((1,1,1,), \"d\")\n",
    "ar.dtype"
   ]
  },
  {
   "cell_type": "code",
   "execution_count": null,
   "metadata": {},
   "outputs": [],
   "source": [
    "from Bio.PDB import is_aa\n",
    "residues = structure.get_residues()\n",
    "for res in residues:\n",
    "    print(f'Residue: {res} Is AA: {is_aa(res)}')"
   ]
  },
  {
   "cell_type": "code",
   "execution_count": null,
   "metadata": {},
   "outputs": [],
   "source": [
    "for residue in residues:\n",
    "    name = residue.get_resname()       # returns the residue name, e.g. \"ASN\"\n",
    "    residue.is_disordered()     # returns 1 if the residue has disordered atoms\n",
    "    residue.get_segid()         # returns the SEGID, e.g. \"CHN1\"\n",
    "    residue.has_id(name)        # test if a residue has a certain atom"
   ]
  },
  {
   "cell_type": "code",
   "execution_count": null,
   "metadata": {},
   "outputs": [],
   "source": [
    "for model in structure:   # X-Ray generally only have 1 model, while more in NMR\n",
    "    for chain in model: \n",
    "        for residue in chain:\n",
    "            print(f'Residue: {residue}')\n"
   ]
  },
  {
   "cell_type": "code",
   "execution_count": null,
   "metadata": {},
   "outputs": [],
   "source": [
    "for residue in chain.get_list():\n",
    "    residue_id = residue.get_id()\n",
    "    hetfield = residue_id[0]\n",
    "    if hetfield[0]==\"H\":\n",
    "        print(residue_id)"
   ]
  },
  {
   "cell_type": "code",
   "execution_count": null,
   "metadata": {},
   "outputs": [],
   "source": [
    "for model in structure.get_list():\n",
    "    for chain in model.get_list():\n",
    "        for residue in chain.get_list():\n",
    "            if residue.is_disordered():\n",
    "                resseq = residue.get_id()[1]\n",
    "                resname = residue.get_resname()\n",
    "                model_id = model.get_id()\n",
    "                chain_id = chain.get_id()\n",
    "                print(model_id, chain_id, resname, resseq)\n"
   ]
  },
  {
   "cell_type": "code",
   "execution_count": null,
   "metadata": {},
   "outputs": [],
   "source": [
    "for model in structure.get_list():\n",
    "    for chain in model.get_list():\n",
    "        for residue in chain.get_list():\n",
    "            if residue.has_id(\"SG\"):\n",
    "                sg = residue[\"SG\"]\n",
    "                if sg.get_bfactor() > 0.0:\n",
    "                    print(f'Residue: {residue.get_id()[1]}: SG {sg.get_coord()}')"
   ]
  },
  {
   "cell_type": "code",
   "execution_count": null,
   "metadata": {},
   "outputs": [],
   "source": [
    "'''\n",
    "atom.get_name()          # atom name (spaces stripped, e.g. 'CA')\n",
    "atom.get_id()            # id (equals atom name)\n",
    "atom.get_coord()         # atomic coordinates\n",
    "atom.get_vector()        # atomic coordinates as Vector object\n",
    "atom.get_bfactor()       # isotropic B factor\n",
    "atom.get_occupancy()     # occupancy\n",
    "atom.get_altloc()        # alternative location specifier\n",
    "atom.get_sigatm()        # std. dev. of atomic parameters\n",
    "atom.get_siguij()        # std. dev. of anisotropic B factor\n",
    "atom.get_anisou()        # anisotropic B factor\n",
    "atom.get_fullname()      # atom name (with spaces, e.g. '.CA.')\n",
    "'''\n",
    "\n"
   ]
  },
  {
   "cell_type": "code",
   "execution_count": null,
   "metadata": {},
   "outputs": [],
   "source": [
    "full_id = residue.get_full_id()\n",
    "print(full_id)\n"
   ]
  },
  {
   "cell_type": "code",
   "execution_count": null,
   "metadata": {},
   "outputs": [],
   "source": [
    "#GUI\n",
    "import nglview as nv\n",
    "\n",
    "nv.show_biopython(structure, gui=True)\n"
   ]
  }
 ],
 "metadata": {
  "kernelspec": {
   "display_name": "Python 3.8.13 ('bio')",
   "language": "python",
   "name": "python3"
  },
  "language_info": {
   "codemirror_mode": {
    "name": "ipython",
    "version": 3
   },
   "file_extension": ".py",
   "mimetype": "text/x-python",
   "name": "python",
   "nbconvert_exporter": "python",
   "pygments_lexer": "ipython3",
   "version": "3.8.13 | packaged by conda-forge | (default, Mar 25 2022, 06:05:16) \n[Clang 12.0.1 ]"
  },
  "orig_nbformat": 4,
  "vscode": {
   "interpreter": {
    "hash": "2e049c0f63e6b330ae815ad1049a36d20686725ba1cc68cc0aadee0375e172d1"
   }
  }
 },
 "nbformat": 4,
 "nbformat_minor": 2
}
