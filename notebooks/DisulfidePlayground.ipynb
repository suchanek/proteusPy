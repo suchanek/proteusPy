{
 "cells": [
  {
   "cell_type": "code",
   "execution_count": 1,
   "metadata": {},
   "outputs": [],
   "source": [
    "# DisulfideBond Playground\n",
    "# Playing with the DisulfideBond class\n",
    "# Author: Eric G. Suchanek, PhD.\n",
    "# (c) 2023 Eric G. Suchanek, PhD., All Rights Reserved\n",
    "# License: MIT\n",
    "# Last Modification: 2/18/23\n",
    "# Cα Cβ Sγ\n",
    "\n",
    "import pandas as pd\n",
    "import numpy\n",
    "\n",
    "import pyvista as pv\n",
    "from pyvista import set_plot_theme\n",
    "import plotly.express as px\n",
    "\n",
    "from Bio.PDB import *\n",
    "\n",
    "# for using from the repo we \n",
    "import proteusPy\n",
    "from proteusPy import *\n",
    "from proteusPy.data import *\n",
    "from proteusPy.Disulfide import *\n",
    "from proteusPy.DisulfideList import DisulfideList, load_disulfides_from_id\n",
    "from proteusPy.DisulfideLoader import Load_PDB_SS, DisulfideLoader, DisulfideClass_Constructor\n",
    "\n",
    "# pyvista setup for notebooks\n",
    "pv.set_jupyter_backend('trame')\n",
    "set_plot_theme('dark')\n"
   ]
  },
  {
   "cell_type": "code",
   "execution_count": 2,
   "metadata": {},
   "outputs": [
    {
     "name": "stdout",
     "output_type": "stream",
     "text": [
      "-> load_PDB_SS(): Reading /Users/egs/repos/proteusPy/proteusPy/data/PDB_SS_ALL_LOADER.pkl... done.\n"
     ]
    }
   ],
   "source": [
    "PDB_SS = Load_PDB_SS(verbose=True, subset=False)\n"
   ]
  },
  {
   "cell_type": "code",
   "execution_count": 3,
   "metadata": {},
   "outputs": [
    {
     "name": "stderr",
     "output_type": "stream",
     "text": [
      "100%|██████████████████████████████████████████████████████████████████| 293/293 [00:08<00:00, 36.02it/s]\n",
      "100%|████████████████████████████████████████████████████████████████| 293/293 [00:00<00:00, 1006.00it/s]\n"
     ]
    },
    {
     "data": {
      "application/vnd.plotly.v1+json": {
       "config": {
        "plotlyServerURL": "https://plot.ly"
       },
       "data": [
        {
         "alignmentgroup": "True",
         "error_y": {
          "array": [
           51.51898979647024,
           38.311778377205485,
           47.07746041216011,
           49.03566447113716,
           35.839123417947576,
           36.71247852239203
          ],
          "color": "red",
          "thickness": 1.5
         },
         "hovertemplate": "Dihedral=%{x}<br>mean=%{y}<extra></extra>",
         "legendgroup": "",
         "marker": {
          "color": "#636efa",
          "pattern": {
           "shape": ""
          }
         },
         "name": "",
         "offsetgroup": "",
         "orientation": "v",
         "showlegend": false,
         "textposition": "outside",
         "texttemplate": "%{y:.2f}° ± %{error_y.array:.2f}°",
         "type": "bar",
         "x": [
          "X1",
          "X2",
          "X3",
          "X2'",
          "X1'",
          "torsion_length"
         ],
         "xaxis": "x",
         "y": [
          90.71178484782479,
          -133.7791433272061,
          111.3156719572295,
          -122.90826095404317,
          69.49587658151776,
          259.041656561514
         ],
         "yaxis": "y"
        },
        {
         "alignmentgroup": "True",
         "error_y": {
          "array": [
           0.7889927993206372,
           3.081968211573069
          ],
          "color": "gray",
          "thickness": 1.5
         },
         "hovertemplate": "Distance=%{x}<br>mean=%{y}<extra></extra>",
         "legendgroup": "",
         "marker": {
          "color": "#636efa",
          "pattern": {
           "shape": ""
          }
         },
         "name": "",
         "offsetgroup": "",
         "orientation": "v",
         "showlegend": false,
         "textposition": "outside",
         "texttemplate": "%{y:.2f} ± %{error_y.array:.2f}",
         "type": "bar",
         "x": [
          "ca_distance",
          "energy"
         ],
         "xaxis": "x2",
         "y": [
          5.839177580010557,
          7.371540136213723
         ],
         "yaxis": "y2"
        }
       ],
       "layout": {
        "annotations": [
         {
          "font": {
           "size": 16
          },
          "showarrow": false,
          "text": "Torsions",
          "x": 0.5,
          "xanchor": "center",
          "xref": "paper",
          "y": 1,
          "yanchor": "bottom",
          "yref": "paper"
         },
         {
          "font": {
           "size": 16
          },
          "showarrow": false,
          "text": "Distances + Energy",
          "x": 0.5,
          "xanchor": "center",
          "xref": "paper",
          "y": 0.375,
          "yanchor": "bottom",
          "yref": "paper"
         }
        ],
        "height": 768,
        "template": {
         "data": {
          "bar": [
           {
            "error_x": {
             "color": "#2a3f5f"
            },
            "error_y": {
             "color": "#2a3f5f"
            },
            "marker": {
             "line": {
              "color": "#E5ECF6",
              "width": 0.5
             },
             "pattern": {
              "fillmode": "overlay",
              "size": 10,
              "solidity": 0.2
             }
            },
            "type": "bar"
           }
          ],
          "barpolar": [
           {
            "marker": {
             "line": {
              "color": "#E5ECF6",
              "width": 0.5
             },
             "pattern": {
              "fillmode": "overlay",
              "size": 10,
              "solidity": 0.2
             }
            },
            "type": "barpolar"
           }
          ],
          "carpet": [
           {
            "aaxis": {
             "endlinecolor": "#2a3f5f",
             "gridcolor": "white",
             "linecolor": "white",
             "minorgridcolor": "white",
             "startlinecolor": "#2a3f5f"
            },
            "baxis": {
             "endlinecolor": "#2a3f5f",
             "gridcolor": "white",
             "linecolor": "white",
             "minorgridcolor": "white",
             "startlinecolor": "#2a3f5f"
            },
            "type": "carpet"
           }
          ],
          "choropleth": [
           {
            "colorbar": {
             "outlinewidth": 0,
             "ticks": ""
            },
            "type": "choropleth"
           }
          ],
          "contour": [
           {
            "colorbar": {
             "outlinewidth": 0,
             "ticks": ""
            },
            "colorscale": [
             [
              0,
              "#0d0887"
             ],
             [
              0.1111111111111111,
              "#46039f"
             ],
             [
              0.2222222222222222,
              "#7201a8"
             ],
             [
              0.3333333333333333,
              "#9c179e"
             ],
             [
              0.4444444444444444,
              "#bd3786"
             ],
             [
              0.5555555555555556,
              "#d8576b"
             ],
             [
              0.6666666666666666,
              "#ed7953"
             ],
             [
              0.7777777777777778,
              "#fb9f3a"
             ],
             [
              0.8888888888888888,
              "#fdca26"
             ],
             [
              1,
              "#f0f921"
             ]
            ],
            "type": "contour"
           }
          ],
          "contourcarpet": [
           {
            "colorbar": {
             "outlinewidth": 0,
             "ticks": ""
            },
            "type": "contourcarpet"
           }
          ],
          "heatmap": [
           {
            "colorbar": {
             "outlinewidth": 0,
             "ticks": ""
            },
            "colorscale": [
             [
              0,
              "#0d0887"
             ],
             [
              0.1111111111111111,
              "#46039f"
             ],
             [
              0.2222222222222222,
              "#7201a8"
             ],
             [
              0.3333333333333333,
              "#9c179e"
             ],
             [
              0.4444444444444444,
              "#bd3786"
             ],
             [
              0.5555555555555556,
              "#d8576b"
             ],
             [
              0.6666666666666666,
              "#ed7953"
             ],
             [
              0.7777777777777778,
              "#fb9f3a"
             ],
             [
              0.8888888888888888,
              "#fdca26"
             ],
             [
              1,
              "#f0f921"
             ]
            ],
            "type": "heatmap"
           }
          ],
          "heatmapgl": [
           {
            "colorbar": {
             "outlinewidth": 0,
             "ticks": ""
            },
            "colorscale": [
             [
              0,
              "#0d0887"
             ],
             [
              0.1111111111111111,
              "#46039f"
             ],
             [
              0.2222222222222222,
              "#7201a8"
             ],
             [
              0.3333333333333333,
              "#9c179e"
             ],
             [
              0.4444444444444444,
              "#bd3786"
             ],
             [
              0.5555555555555556,
              "#d8576b"
             ],
             [
              0.6666666666666666,
              "#ed7953"
             ],
             [
              0.7777777777777778,
              "#fb9f3a"
             ],
             [
              0.8888888888888888,
              "#fdca26"
             ],
             [
              1,
              "#f0f921"
             ]
            ],
            "type": "heatmapgl"
           }
          ],
          "histogram": [
           {
            "marker": {
             "pattern": {
              "fillmode": "overlay",
              "size": 10,
              "solidity": 0.2
             }
            },
            "type": "histogram"
           }
          ],
          "histogram2d": [
           {
            "colorbar": {
             "outlinewidth": 0,
             "ticks": ""
            },
            "colorscale": [
             [
              0,
              "#0d0887"
             ],
             [
              0.1111111111111111,
              "#46039f"
             ],
             [
              0.2222222222222222,
              "#7201a8"
             ],
             [
              0.3333333333333333,
              "#9c179e"
             ],
             [
              0.4444444444444444,
              "#bd3786"
             ],
             [
              0.5555555555555556,
              "#d8576b"
             ],
             [
              0.6666666666666666,
              "#ed7953"
             ],
             [
              0.7777777777777778,
              "#fb9f3a"
             ],
             [
              0.8888888888888888,
              "#fdca26"
             ],
             [
              1,
              "#f0f921"
             ]
            ],
            "type": "histogram2d"
           }
          ],
          "histogram2dcontour": [
           {
            "colorbar": {
             "outlinewidth": 0,
             "ticks": ""
            },
            "colorscale": [
             [
              0,
              "#0d0887"
             ],
             [
              0.1111111111111111,
              "#46039f"
             ],
             [
              0.2222222222222222,
              "#7201a8"
             ],
             [
              0.3333333333333333,
              "#9c179e"
             ],
             [
              0.4444444444444444,
              "#bd3786"
             ],
             [
              0.5555555555555556,
              "#d8576b"
             ],
             [
              0.6666666666666666,
              "#ed7953"
             ],
             [
              0.7777777777777778,
              "#fb9f3a"
             ],
             [
              0.8888888888888888,
              "#fdca26"
             ],
             [
              1,
              "#f0f921"
             ]
            ],
            "type": "histogram2dcontour"
           }
          ],
          "mesh3d": [
           {
            "colorbar": {
             "outlinewidth": 0,
             "ticks": ""
            },
            "type": "mesh3d"
           }
          ],
          "parcoords": [
           {
            "line": {
             "colorbar": {
              "outlinewidth": 0,
              "ticks": ""
             }
            },
            "type": "parcoords"
           }
          ],
          "pie": [
           {
            "automargin": true,
            "type": "pie"
           }
          ],
          "scatter": [
           {
            "fillpattern": {
             "fillmode": "overlay",
             "size": 10,
             "solidity": 0.2
            },
            "type": "scatter"
           }
          ],
          "scatter3d": [
           {
            "line": {
             "colorbar": {
              "outlinewidth": 0,
              "ticks": ""
             }
            },
            "marker": {
             "colorbar": {
              "outlinewidth": 0,
              "ticks": ""
             }
            },
            "type": "scatter3d"
           }
          ],
          "scattercarpet": [
           {
            "marker": {
             "colorbar": {
              "outlinewidth": 0,
              "ticks": ""
             }
            },
            "type": "scattercarpet"
           }
          ],
          "scattergeo": [
           {
            "marker": {
             "colorbar": {
              "outlinewidth": 0,
              "ticks": ""
             }
            },
            "type": "scattergeo"
           }
          ],
          "scattergl": [
           {
            "marker": {
             "colorbar": {
              "outlinewidth": 0,
              "ticks": ""
             }
            },
            "type": "scattergl"
           }
          ],
          "scattermapbox": [
           {
            "marker": {
             "colorbar": {
              "outlinewidth": 0,
              "ticks": ""
             }
            },
            "type": "scattermapbox"
           }
          ],
          "scatterpolar": [
           {
            "marker": {
             "colorbar": {
              "outlinewidth": 0,
              "ticks": ""
             }
            },
            "type": "scatterpolar"
           }
          ],
          "scatterpolargl": [
           {
            "marker": {
             "colorbar": {
              "outlinewidth": 0,
              "ticks": ""
             }
            },
            "type": "scatterpolargl"
           }
          ],
          "scatterternary": [
           {
            "marker": {
             "colorbar": {
              "outlinewidth": 0,
              "ticks": ""
             }
            },
            "type": "scatterternary"
           }
          ],
          "surface": [
           {
            "colorbar": {
             "outlinewidth": 0,
             "ticks": ""
            },
            "colorscale": [
             [
              0,
              "#0d0887"
             ],
             [
              0.1111111111111111,
              "#46039f"
             ],
             [
              0.2222222222222222,
              "#7201a8"
             ],
             [
              0.3333333333333333,
              "#9c179e"
             ],
             [
              0.4444444444444444,
              "#bd3786"
             ],
             [
              0.5555555555555556,
              "#d8576b"
             ],
             [
              0.6666666666666666,
              "#ed7953"
             ],
             [
              0.7777777777777778,
              "#fb9f3a"
             ],
             [
              0.8888888888888888,
              "#fdca26"
             ],
             [
              1,
              "#f0f921"
             ]
            ],
            "type": "surface"
           }
          ],
          "table": [
           {
            "cells": {
             "fill": {
              "color": "#EBF0F8"
             },
             "line": {
              "color": "white"
             }
            },
            "header": {
             "fill": {
              "color": "#C8D4E3"
             },
             "line": {
              "color": "white"
             }
            },
            "type": "table"
           }
          ]
         },
         "layout": {
          "annotationdefaults": {
           "arrowcolor": "#2a3f5f",
           "arrowhead": 0,
           "arrowwidth": 1
          },
          "autotypenumbers": "strict",
          "coloraxis": {
           "colorbar": {
            "outlinewidth": 0,
            "ticks": ""
           }
          },
          "colorscale": {
           "diverging": [
            [
             0,
             "#8e0152"
            ],
            [
             0.1,
             "#c51b7d"
            ],
            [
             0.2,
             "#de77ae"
            ],
            [
             0.3,
             "#f1b6da"
            ],
            [
             0.4,
             "#fde0ef"
            ],
            [
             0.5,
             "#f7f7f7"
            ],
            [
             0.6,
             "#e6f5d0"
            ],
            [
             0.7,
             "#b8e186"
            ],
            [
             0.8,
             "#7fbc41"
            ],
            [
             0.9,
             "#4d9221"
            ],
            [
             1,
             "#276419"
            ]
           ],
           "sequential": [
            [
             0,
             "#0d0887"
            ],
            [
             0.1111111111111111,
             "#46039f"
            ],
            [
             0.2222222222222222,
             "#7201a8"
            ],
            [
             0.3333333333333333,
             "#9c179e"
            ],
            [
             0.4444444444444444,
             "#bd3786"
            ],
            [
             0.5555555555555556,
             "#d8576b"
            ],
            [
             0.6666666666666666,
             "#ed7953"
            ],
            [
             0.7777777777777778,
             "#fb9f3a"
            ],
            [
             0.8888888888888888,
             "#fdca26"
            ],
            [
             1,
             "#f0f921"
            ]
           ],
           "sequentialminus": [
            [
             0,
             "#0d0887"
            ],
            [
             0.1111111111111111,
             "#46039f"
            ],
            [
             0.2222222222222222,
             "#7201a8"
            ],
            [
             0.3333333333333333,
             "#9c179e"
            ],
            [
             0.4444444444444444,
             "#bd3786"
            ],
            [
             0.5555555555555556,
             "#d8576b"
            ],
            [
             0.6666666666666666,
             "#ed7953"
            ],
            [
             0.7777777777777778,
             "#fb9f3a"
            ],
            [
             0.8888888888888888,
             "#fdca26"
            ],
            [
             1,
             "#f0f921"
            ]
           ]
          },
          "colorway": [
           "#636efa",
           "#EF553B",
           "#00cc96",
           "#ab63fa",
           "#FFA15A",
           "#19d3f3",
           "#FF6692",
           "#B6E880",
           "#FF97FF",
           "#FECB52"
          ],
          "font": {
           "color": "#2a3f5f"
          },
          "geo": {
           "bgcolor": "white",
           "lakecolor": "white",
           "landcolor": "#E5ECF6",
           "showlakes": true,
           "showland": true,
           "subunitcolor": "white"
          },
          "hoverlabel": {
           "align": "left"
          },
          "hovermode": "closest",
          "mapbox": {
           "style": "light"
          },
          "paper_bgcolor": "white",
          "plot_bgcolor": "#E5ECF6",
          "polar": {
           "angularaxis": {
            "gridcolor": "white",
            "linecolor": "white",
            "ticks": ""
           },
           "bgcolor": "#E5ECF6",
           "radialaxis": {
            "gridcolor": "white",
            "linecolor": "white",
            "ticks": ""
           }
          },
          "scene": {
           "xaxis": {
            "backgroundcolor": "#E5ECF6",
            "gridcolor": "white",
            "gridwidth": 2,
            "linecolor": "white",
            "showbackground": true,
            "ticks": "",
            "zerolinecolor": "white"
           },
           "yaxis": {
            "backgroundcolor": "#E5ECF6",
            "gridcolor": "white",
            "gridwidth": 2,
            "linecolor": "white",
            "showbackground": true,
            "ticks": "",
            "zerolinecolor": "white"
           },
           "zaxis": {
            "backgroundcolor": "#E5ECF6",
            "gridcolor": "white",
            "gridwidth": 2,
            "linecolor": "white",
            "showbackground": true,
            "ticks": "",
            "zerolinecolor": "white"
           }
          },
          "shapedefaults": {
           "line": {
            "color": "#2a3f5f"
           }
          },
          "ternary": {
           "aaxis": {
            "gridcolor": "white",
            "linecolor": "white",
            "ticks": ""
           },
           "baxis": {
            "gridcolor": "white",
            "linecolor": "white",
            "ticks": ""
           },
           "bgcolor": "#E5ECF6",
           "caxis": {
            "gridcolor": "white",
            "linecolor": "white",
            "ticks": ""
           }
          },
          "title": {
           "x": 0.05
          },
          "xaxis": {
           "automargin": true,
           "gridcolor": "white",
           "linecolor": "white",
           "ticks": "",
           "title": {
            "standoff": 15
           },
           "zerolinecolor": "white",
           "zerolinewidth": 2
          },
          "yaxis": {
           "automargin": true,
           "gridcolor": "white",
           "linecolor": "white",
           "ticks": "",
           "title": {
            "standoff": 15
           },
           "zerolinecolor": "white",
           "zerolinewidth": 2
          }
         }
        },
        "title": {
         "text": "+RHStaple: 293 members",
         "x": 0.5,
         "xanchor": "center",
         "y": 0.95,
         "yanchor": "top"
        },
        "width": 1024,
        "xaxis": {
         "anchor": "y",
         "domain": [
          0,
          1
         ],
         "ticktext": [
          "Ca Distance",
          "Strain Energy"
         ]
        },
        "xaxis2": {
         "anchor": "y2",
         "domain": [
          0,
          1
         ],
         "ticktext": [
          "Ca Distance",
          "Strain Energy"
         ]
        },
        "yaxis": {
         "anchor": "x",
         "domain": [
          0.625,
          1
         ],
         "title": {
          "standoff": 0,
          "text": "Dihedral Angle"
         }
        },
        "yaxis2": {
         "anchor": "x2",
         "domain": [
          0,
          0.375
         ],
         "title": {
          "standoff": 0,
          "text": "(Å) & kcal/mol"
         }
        }
       }
      }
     },
     "metadata": {},
     "output_type": "display_data"
    }
   ],
   "source": [
    "rhs = PDB_SS.from_class('+RHStaple')\n",
    "rhs.TorsionGraph()"
   ]
  },
  {
   "cell_type": "code",
   "execution_count": 116,
   "metadata": {},
   "outputs": [],
   "source": [
    "import plotly.graph_objects as go\n",
    "from plotly.subplots import make_subplots\n",
    "import pandas as pd\n",
    "\n",
    "def Nisplay_torsion_statistics(sslist, tor_stats, dist_stats, \n",
    "                               display=True, \n",
    "                               save=False, \n",
    "                               fname='ss_torsions.png',\n",
    "                               light=True): \n",
    "\n",
    "    length = len(sslist) # should be len(sslist), not sslist.length\n",
    "    title = f'{sslist.pdb_id}: {length} members'\n",
    "    theme = 'plotly_light' if light else 'plotly_dark'\n",
    "\n",
    "    df_tor = pd.DataFrame(tor_stats)\n",
    "    df_tor = df_tor.transpose().reset_index().rename(columns={\"index\": \"Dihedral\"})\n",
    "    \n",
    "    df_dist = pd.DataFrame(dist_stats)\n",
    "    df_dist = df_dist.transpose().reset_index().rename(columns={\"index\": \"Distance\"})\n",
    "\n",
    "    fig = make_subplots(rows=2, cols=1, vertical_spacing=.15,\n",
    "                        subplot_titles=('Torsions','Distances + Energy'),\n",
    "                        template='plotly' if light else 'plotly_dark')\n",
    "                        \n",
    "    fig.update_layout(\n",
    "        title={\n",
    "            'text': title,\n",
    "            'xanchor': 'center',\n",
    "            'y':.95,\n",
    "            'x':0.5,\n",
    "            'yanchor': 'top'\n",
    "            },\n",
    "        width=1024,\n",
    "        height=1024,\n",
    "        )\n",
    "    \n",
    "    fig.update_yaxes(title_standoff = 0)\n",
    "\n",
    "    # add the first bar chart to the first subplot\n",
    "    fig.add_trace(go.Bar(\n",
    "        name='Torsion Angles',\n",
    "        x=['X1', 'X2', 'X3', 'X2\\'', 'X1\\''],\n",
    "        y=df_tor['mean'].values,\n",
    "        error_y=dict(type='data', array=df_tor['std'].values)\n",
    "        ), row=1, col=1)\n",
    "            \n",
    "    fig.update_traces(error_y_thickness=1.5, error_y_color='red', \n",
    "                      texttemplate='%{y:.2f}° ± %{error_y.array:.2f}°', \n",
    "                      hovertemplate='%{y:.2f}° ± %{error_y.array:.2f}°', \n",
    "                      textposition='outside',\n",
    "                      row=1, col=1)\n",
    "    \n",
    "    # Set x-axis label for fig1\n",
    "    fig.update_yaxes(title_text='Dihedral Angle', row=1, col=1)\n",
    "    fig.update_yaxes(title_text='(Å) & kcal/mol', row=2, col=1)\n",
    " \n",
    "    # add the second bar chart to the second subplot\n",
    "    fig.add_trace(go.Bar(\n",
    "        name='Distances',\n",
    "        x=['Ca Distance', 'Energy'],\n",
    "        y=df_dist['mean'].values,\n",
    "        error_y=dict(type='data', array=df_dist['std'].values)\n",
    "        ), row=2, col=1)\n",
    "   \n",
    "    fig.update_traces(error_y_thickness=1.5, error_y_color='red', \n",
    "                      texttemplate='%{y:.2f} Å ± %{error_y.array:.2f} Å' if 'Distance' in df_dist.columns else '%{y:.2f} kcal/mol ± %{error_y.array:.2f} kcal/mol', \n",
    "                      hovertemplate='%{y:.2f}° ± %{error_y.array:.2f}°', \n",
    "                      textposition='outside',\n",
    "                      row=2, col=1)\n",
    "    if display:\n",
    "        fig.show()\n",
    "    if save:\n",
    "        fig.write_image(fname)\n",
    "    \n",
    "    return\n"
   ]
  },
  {
   "cell_type": "code",
   "execution_count": 117,
   "metadata": {},
   "outputs": [
    {
     "name": "stderr",
     "output_type": "stream",
     "text": [
      "100%|████████████████████████████████████████████████████████████████| 293/293 [00:00<00:00, 1244.95it/s]\n"
     ]
    }
   ],
   "source": [
    "t,d = rhs.calculate_torsion_statistics()"
   ]
  },
  {
   "cell_type": "code",
   "execution_count": 118,
   "metadata": {},
   "outputs": [
    {
     "data": {
      "text/html": [
       "<div>\n",
       "<style scoped>\n",
       "    .dataframe tbody tr th:only-of-type {\n",
       "        vertical-align: middle;\n",
       "    }\n",
       "\n",
       "    .dataframe tbody tr th {\n",
       "        vertical-align: top;\n",
       "    }\n",
       "\n",
       "    .dataframe thead th {\n",
       "        text-align: right;\n",
       "    }\n",
       "</style>\n",
       "<table border=\"1\" class=\"dataframe\">\n",
       "  <thead>\n",
       "    <tr style=\"text-align: right;\">\n",
       "      <th></th>\n",
       "      <th>chi1</th>\n",
       "      <th>chi2</th>\n",
       "      <th>chi3</th>\n",
       "      <th>chi4</th>\n",
       "      <th>chi5</th>\n",
       "      <th>torsion_length</th>\n",
       "    </tr>\n",
       "  </thead>\n",
       "  <tbody>\n",
       "    <tr>\n",
       "      <th>mean</th>\n",
       "      <td>90.711785</td>\n",
       "      <td>-133.779143</td>\n",
       "      <td>111.315672</td>\n",
       "      <td>-122.908261</td>\n",
       "      <td>69.495877</td>\n",
       "      <td>259.041657</td>\n",
       "    </tr>\n",
       "    <tr>\n",
       "      <th>std</th>\n",
       "      <td>51.518990</td>\n",
       "      <td>38.311778</td>\n",
       "      <td>47.077460</td>\n",
       "      <td>49.035664</td>\n",
       "      <td>35.839123</td>\n",
       "      <td>36.712479</td>\n",
       "    </tr>\n",
       "  </tbody>\n",
       "</table>\n",
       "</div>"
      ],
      "text/plain": [
       "           chi1        chi2        chi3        chi4       chi5  torsion_length\n",
       "mean  90.711785 -133.779143  111.315672 -122.908261  69.495877      259.041657\n",
       "std   51.518990   38.311778   47.077460   49.035664  35.839123       36.712479"
      ]
     },
     "execution_count": 118,
     "metadata": {},
     "output_type": "execute_result"
    }
   ],
   "source": [
    "t.head()"
   ]
  },
  {
   "cell_type": "code",
   "execution_count": 119,
   "metadata": {},
   "outputs": [
    {
     "data": {
      "application/vnd.plotly.v1+json": {
       "config": {
        "plotlyServerURL": "https://plot.ly"
       },
       "data": [
        {
         "error_y": {
          "array": [
           51.51898979647024,
           38.311778377205485,
           47.07746041216011,
           49.03566447113716,
           35.839123417947576,
           36.71247852239203
          ],
          "color": "red",
          "thickness": 1.5,
          "type": "data"
         },
         "hovertemplate": "%{y:.2f}° ± %{error_y.array:.2f}°",
         "name": "Torsion Angles",
         "textposition": "outside",
         "texttemplate": "%{y:.2f}° ± %{error_y.array:.2f}°",
         "type": "bar",
         "x": [
          "X1",
          "X2",
          "X3",
          "X2'",
          "X1'"
         ],
         "xaxis": "x",
         "y": [
          90.71178484782479,
          -133.7791433272061,
          111.3156719572295,
          -122.90826095404317,
          69.49587658151776,
          259.041656561514
         ],
         "yaxis": "y"
        },
        {
         "error_y": {
          "array": [
           0.7889927993206372,
           3.081968211573069
          ],
          "color": "red",
          "thickness": 1.5,
          "type": "data"
         },
         "hovertemplate": "%{y:.2f}° ± %{error_y.array:.2f}°",
         "name": "Distances",
         "textposition": "outside",
         "texttemplate": "%{y:.2f} Å ± %{error_y.array:.2f} Å",
         "type": "bar",
         "x": [
          "Ca Distance",
          "Energy"
         ],
         "xaxis": "x2",
         "y": [
          5.839177580010557,
          7.371540136213723
         ],
         "yaxis": "y2"
        }
       ],
       "layout": {
        "annotations": [
         {
          "font": {
           "size": 16
          },
          "showarrow": false,
          "text": "Torsions",
          "x": 0.5,
          "xanchor": "center",
          "xref": "paper",
          "y": 1,
          "yanchor": "bottom",
          "yref": "paper"
         },
         {
          "font": {
           "size": 16
          },
          "showarrow": false,
          "text": "Distances + Energy",
          "x": 0.5,
          "xanchor": "center",
          "xref": "paper",
          "y": 0.425,
          "yanchor": "bottom",
          "yref": "paper"
         }
        ],
        "height": 1024,
        "template": {
         "data": {
          "bar": [
           {
            "error_x": {
             "color": "#f2f5fa"
            },
            "error_y": {
             "color": "#f2f5fa"
            },
            "marker": {
             "line": {
              "color": "rgb(17,17,17)",
              "width": 0.5
             },
             "pattern": {
              "fillmode": "overlay",
              "size": 10,
              "solidity": 0.2
             }
            },
            "type": "bar"
           }
          ],
          "barpolar": [
           {
            "marker": {
             "line": {
              "color": "rgb(17,17,17)",
              "width": 0.5
             },
             "pattern": {
              "fillmode": "overlay",
              "size": 10,
              "solidity": 0.2
             }
            },
            "type": "barpolar"
           }
          ],
          "carpet": [
           {
            "aaxis": {
             "endlinecolor": "#A2B1C6",
             "gridcolor": "#506784",
             "linecolor": "#506784",
             "minorgridcolor": "#506784",
             "startlinecolor": "#A2B1C6"
            },
            "baxis": {
             "endlinecolor": "#A2B1C6",
             "gridcolor": "#506784",
             "linecolor": "#506784",
             "minorgridcolor": "#506784",
             "startlinecolor": "#A2B1C6"
            },
            "type": "carpet"
           }
          ],
          "choropleth": [
           {
            "colorbar": {
             "outlinewidth": 0,
             "ticks": ""
            },
            "type": "choropleth"
           }
          ],
          "contour": [
           {
            "colorbar": {
             "outlinewidth": 0,
             "ticks": ""
            },
            "colorscale": [
             [
              0,
              "#0d0887"
             ],
             [
              0.1111111111111111,
              "#46039f"
             ],
             [
              0.2222222222222222,
              "#7201a8"
             ],
             [
              0.3333333333333333,
              "#9c179e"
             ],
             [
              0.4444444444444444,
              "#bd3786"
             ],
             [
              0.5555555555555556,
              "#d8576b"
             ],
             [
              0.6666666666666666,
              "#ed7953"
             ],
             [
              0.7777777777777778,
              "#fb9f3a"
             ],
             [
              0.8888888888888888,
              "#fdca26"
             ],
             [
              1,
              "#f0f921"
             ]
            ],
            "type": "contour"
           }
          ],
          "contourcarpet": [
           {
            "colorbar": {
             "outlinewidth": 0,
             "ticks": ""
            },
            "type": "contourcarpet"
           }
          ],
          "heatmap": [
           {
            "colorbar": {
             "outlinewidth": 0,
             "ticks": ""
            },
            "colorscale": [
             [
              0,
              "#0d0887"
             ],
             [
              0.1111111111111111,
              "#46039f"
             ],
             [
              0.2222222222222222,
              "#7201a8"
             ],
             [
              0.3333333333333333,
              "#9c179e"
             ],
             [
              0.4444444444444444,
              "#bd3786"
             ],
             [
              0.5555555555555556,
              "#d8576b"
             ],
             [
              0.6666666666666666,
              "#ed7953"
             ],
             [
              0.7777777777777778,
              "#fb9f3a"
             ],
             [
              0.8888888888888888,
              "#fdca26"
             ],
             [
              1,
              "#f0f921"
             ]
            ],
            "type": "heatmap"
           }
          ],
          "heatmapgl": [
           {
            "colorbar": {
             "outlinewidth": 0,
             "ticks": ""
            },
            "colorscale": [
             [
              0,
              "#0d0887"
             ],
             [
              0.1111111111111111,
              "#46039f"
             ],
             [
              0.2222222222222222,
              "#7201a8"
             ],
             [
              0.3333333333333333,
              "#9c179e"
             ],
             [
              0.4444444444444444,
              "#bd3786"
             ],
             [
              0.5555555555555556,
              "#d8576b"
             ],
             [
              0.6666666666666666,
              "#ed7953"
             ],
             [
              0.7777777777777778,
              "#fb9f3a"
             ],
             [
              0.8888888888888888,
              "#fdca26"
             ],
             [
              1,
              "#f0f921"
             ]
            ],
            "type": "heatmapgl"
           }
          ],
          "histogram": [
           {
            "marker": {
             "pattern": {
              "fillmode": "overlay",
              "size": 10,
              "solidity": 0.2
             }
            },
            "type": "histogram"
           }
          ],
          "histogram2d": [
           {
            "colorbar": {
             "outlinewidth": 0,
             "ticks": ""
            },
            "colorscale": [
             [
              0,
              "#0d0887"
             ],
             [
              0.1111111111111111,
              "#46039f"
             ],
             [
              0.2222222222222222,
              "#7201a8"
             ],
             [
              0.3333333333333333,
              "#9c179e"
             ],
             [
              0.4444444444444444,
              "#bd3786"
             ],
             [
              0.5555555555555556,
              "#d8576b"
             ],
             [
              0.6666666666666666,
              "#ed7953"
             ],
             [
              0.7777777777777778,
              "#fb9f3a"
             ],
             [
              0.8888888888888888,
              "#fdca26"
             ],
             [
              1,
              "#f0f921"
             ]
            ],
            "type": "histogram2d"
           }
          ],
          "histogram2dcontour": [
           {
            "colorbar": {
             "outlinewidth": 0,
             "ticks": ""
            },
            "colorscale": [
             [
              0,
              "#0d0887"
             ],
             [
              0.1111111111111111,
              "#46039f"
             ],
             [
              0.2222222222222222,
              "#7201a8"
             ],
             [
              0.3333333333333333,
              "#9c179e"
             ],
             [
              0.4444444444444444,
              "#bd3786"
             ],
             [
              0.5555555555555556,
              "#d8576b"
             ],
             [
              0.6666666666666666,
              "#ed7953"
             ],
             [
              0.7777777777777778,
              "#fb9f3a"
             ],
             [
              0.8888888888888888,
              "#fdca26"
             ],
             [
              1,
              "#f0f921"
             ]
            ],
            "type": "histogram2dcontour"
           }
          ],
          "mesh3d": [
           {
            "colorbar": {
             "outlinewidth": 0,
             "ticks": ""
            },
            "type": "mesh3d"
           }
          ],
          "parcoords": [
           {
            "line": {
             "colorbar": {
              "outlinewidth": 0,
              "ticks": ""
             }
            },
            "type": "parcoords"
           }
          ],
          "pie": [
           {
            "automargin": true,
            "type": "pie"
           }
          ],
          "scatter": [
           {
            "marker": {
             "line": {
              "color": "#283442"
             }
            },
            "type": "scatter"
           }
          ],
          "scatter3d": [
           {
            "line": {
             "colorbar": {
              "outlinewidth": 0,
              "ticks": ""
             }
            },
            "marker": {
             "colorbar": {
              "outlinewidth": 0,
              "ticks": ""
             }
            },
            "type": "scatter3d"
           }
          ],
          "scattercarpet": [
           {
            "marker": {
             "colorbar": {
              "outlinewidth": 0,
              "ticks": ""
             }
            },
            "type": "scattercarpet"
           }
          ],
          "scattergeo": [
           {
            "marker": {
             "colorbar": {
              "outlinewidth": 0,
              "ticks": ""
             }
            },
            "type": "scattergeo"
           }
          ],
          "scattergl": [
           {
            "marker": {
             "line": {
              "color": "#283442"
             }
            },
            "type": "scattergl"
           }
          ],
          "scattermapbox": [
           {
            "marker": {
             "colorbar": {
              "outlinewidth": 0,
              "ticks": ""
             }
            },
            "type": "scattermapbox"
           }
          ],
          "scatterpolar": [
           {
            "marker": {
             "colorbar": {
              "outlinewidth": 0,
              "ticks": ""
             }
            },
            "type": "scatterpolar"
           }
          ],
          "scatterpolargl": [
           {
            "marker": {
             "colorbar": {
              "outlinewidth": 0,
              "ticks": ""
             }
            },
            "type": "scatterpolargl"
           }
          ],
          "scatterternary": [
           {
            "marker": {
             "colorbar": {
              "outlinewidth": 0,
              "ticks": ""
             }
            },
            "type": "scatterternary"
           }
          ],
          "surface": [
           {
            "colorbar": {
             "outlinewidth": 0,
             "ticks": ""
            },
            "colorscale": [
             [
              0,
              "#0d0887"
             ],
             [
              0.1111111111111111,
              "#46039f"
             ],
             [
              0.2222222222222222,
              "#7201a8"
             ],
             [
              0.3333333333333333,
              "#9c179e"
             ],
             [
              0.4444444444444444,
              "#bd3786"
             ],
             [
              0.5555555555555556,
              "#d8576b"
             ],
             [
              0.6666666666666666,
              "#ed7953"
             ],
             [
              0.7777777777777778,
              "#fb9f3a"
             ],
             [
              0.8888888888888888,
              "#fdca26"
             ],
             [
              1,
              "#f0f921"
             ]
            ],
            "type": "surface"
           }
          ],
          "table": [
           {
            "cells": {
             "fill": {
              "color": "#506784"
             },
             "line": {
              "color": "rgb(17,17,17)"
             }
            },
            "header": {
             "fill": {
              "color": "#2a3f5f"
             },
             "line": {
              "color": "rgb(17,17,17)"
             }
            },
            "type": "table"
           }
          ]
         },
         "layout": {
          "annotationdefaults": {
           "arrowcolor": "#f2f5fa",
           "arrowhead": 0,
           "arrowwidth": 1
          },
          "autotypenumbers": "strict",
          "coloraxis": {
           "colorbar": {
            "outlinewidth": 0,
            "ticks": ""
           }
          },
          "colorscale": {
           "diverging": [
            [
             0,
             "#8e0152"
            ],
            [
             0.1,
             "#c51b7d"
            ],
            [
             0.2,
             "#de77ae"
            ],
            [
             0.3,
             "#f1b6da"
            ],
            [
             0.4,
             "#fde0ef"
            ],
            [
             0.5,
             "#f7f7f7"
            ],
            [
             0.6,
             "#e6f5d0"
            ],
            [
             0.7,
             "#b8e186"
            ],
            [
             0.8,
             "#7fbc41"
            ],
            [
             0.9,
             "#4d9221"
            ],
            [
             1,
             "#276419"
            ]
           ],
           "sequential": [
            [
             0,
             "#0d0887"
            ],
            [
             0.1111111111111111,
             "#46039f"
            ],
            [
             0.2222222222222222,
             "#7201a8"
            ],
            [
             0.3333333333333333,
             "#9c179e"
            ],
            [
             0.4444444444444444,
             "#bd3786"
            ],
            [
             0.5555555555555556,
             "#d8576b"
            ],
            [
             0.6666666666666666,
             "#ed7953"
            ],
            [
             0.7777777777777778,
             "#fb9f3a"
            ],
            [
             0.8888888888888888,
             "#fdca26"
            ],
            [
             1,
             "#f0f921"
            ]
           ],
           "sequentialminus": [
            [
             0,
             "#0d0887"
            ],
            [
             0.1111111111111111,
             "#46039f"
            ],
            [
             0.2222222222222222,
             "#7201a8"
            ],
            [
             0.3333333333333333,
             "#9c179e"
            ],
            [
             0.4444444444444444,
             "#bd3786"
            ],
            [
             0.5555555555555556,
             "#d8576b"
            ],
            [
             0.6666666666666666,
             "#ed7953"
            ],
            [
             0.7777777777777778,
             "#fb9f3a"
            ],
            [
             0.8888888888888888,
             "#fdca26"
            ],
            [
             1,
             "#f0f921"
            ]
           ]
          },
          "colorway": [
           "#636efa",
           "#EF553B",
           "#00cc96",
           "#ab63fa",
           "#FFA15A",
           "#19d3f3",
           "#FF6692",
           "#B6E880",
           "#FF97FF",
           "#FECB52"
          ],
          "font": {
           "color": "#f2f5fa"
          },
          "geo": {
           "bgcolor": "rgb(17,17,17)",
           "lakecolor": "rgb(17,17,17)",
           "landcolor": "rgb(17,17,17)",
           "showlakes": true,
           "showland": true,
           "subunitcolor": "#506784"
          },
          "hoverlabel": {
           "align": "left"
          },
          "hovermode": "closest",
          "mapbox": {
           "style": "dark"
          },
          "paper_bgcolor": "rgb(17,17,17)",
          "plot_bgcolor": "rgb(17,17,17)",
          "polar": {
           "angularaxis": {
            "gridcolor": "#506784",
            "linecolor": "#506784",
            "ticks": ""
           },
           "bgcolor": "rgb(17,17,17)",
           "radialaxis": {
            "gridcolor": "#506784",
            "linecolor": "#506784",
            "ticks": ""
           }
          },
          "scene": {
           "xaxis": {
            "backgroundcolor": "rgb(17,17,17)",
            "gridcolor": "#506784",
            "gridwidth": 2,
            "linecolor": "#506784",
            "showbackground": true,
            "ticks": "",
            "zerolinecolor": "#C8D4E3"
           },
           "yaxis": {
            "backgroundcolor": "rgb(17,17,17)",
            "gridcolor": "#506784",
            "gridwidth": 2,
            "linecolor": "#506784",
            "showbackground": true,
            "ticks": "",
            "zerolinecolor": "#C8D4E3"
           },
           "zaxis": {
            "backgroundcolor": "rgb(17,17,17)",
            "gridcolor": "#506784",
            "gridwidth": 2,
            "linecolor": "#506784",
            "showbackground": true,
            "ticks": "",
            "zerolinecolor": "#C8D4E3"
           }
          },
          "shapedefaults": {
           "line": {
            "color": "#f2f5fa"
           }
          },
          "sliderdefaults": {
           "bgcolor": "#C8D4E3",
           "bordercolor": "rgb(17,17,17)",
           "borderwidth": 1,
           "tickwidth": 0
          },
          "ternary": {
           "aaxis": {
            "gridcolor": "#506784",
            "linecolor": "#506784",
            "ticks": ""
           },
           "baxis": {
            "gridcolor": "#506784",
            "linecolor": "#506784",
            "ticks": ""
           },
           "bgcolor": "rgb(17,17,17)",
           "caxis": {
            "gridcolor": "#506784",
            "linecolor": "#506784",
            "ticks": ""
           }
          },
          "title": {
           "x": 0.05
          },
          "updatemenudefaults": {
           "bgcolor": "#506784",
           "borderwidth": 0
          },
          "xaxis": {
           "automargin": true,
           "gridcolor": "#283442",
           "linecolor": "#506784",
           "ticks": "",
           "title": {
            "standoff": 15
           },
           "zerolinecolor": "#283442",
           "zerolinewidth": 2
          },
          "yaxis": {
           "automargin": true,
           "gridcolor": "#283442",
           "linecolor": "#506784",
           "ticks": "",
           "title": {
            "standoff": 15
           },
           "zerolinecolor": "#283442",
           "zerolinewidth": 2
          }
         }
        },
        "title": {
         "text": "+RHStaple: 293 members",
         "x": 0.5,
         "xanchor": "center",
         "y": 0.95,
         "yanchor": "top"
        },
        "width": 1024,
        "xaxis": {
         "anchor": "y",
         "domain": [
          0,
          1
         ]
        },
        "xaxis2": {
         "anchor": "y2",
         "domain": [
          0,
          1
         ]
        },
        "yaxis": {
         "anchor": "x",
         "domain": [
          0.575,
          1
         ],
         "title": {
          "standoff": 0,
          "text": "Dihedral Angle"
         }
        },
        "yaxis2": {
         "anchor": "x2",
         "domain": [
          0,
          0.425
         ],
         "title": {
          "standoff": 0,
          "text": "(Å) & kcal/mol"
         }
        }
       }
      }
     },
     "metadata": {},
     "output_type": "display_data"
    }
   ],
   "source": [
    "Nisplay_torsion_statistics(rhs, t,d)"
   ]
  },
  {
   "cell_type": "code",
   "execution_count": null,
   "metadata": {},
   "outputs": [],
   "source": [
    "tors_df = PDB_SS.getTorsions()\n",
    "tors_df.describe()"
   ]
  },
  {
   "cell_type": "code",
   "execution_count": null,
   "metadata": {},
   "outputs": [],
   "source": [
    "ss1 = Disulfide('bogus')\n",
    "ss1.build_model(-60,-60,-84,-60,-60)\n",
    "ss1.pprint()"
   ]
  },
  {
   "cell_type": "code",
   "execution_count": null,
   "metadata": {},
   "outputs": [],
   "source": [
    "PDB_SS['2q7q_75D_140D']"
   ]
  },
  {
   "cell_type": "code",
   "execution_count": null,
   "metadata": {},
   "outputs": [],
   "source": [
    "PDB_SS2 = Load_PDB_SS(subset=True, verbose=True)\n",
    "#PDB_SS.describe()\n"
   ]
  },
  {
   "cell_type": "code",
   "execution_count": null,
   "metadata": {},
   "outputs": [],
   "source": [
    "PDB_SS['5fha']"
   ]
  },
  {
   "cell_type": "code",
   "execution_count": null,
   "metadata": {},
   "outputs": [],
   "source": [
    "PDB_SS2['5fha']"
   ]
  },
  {
   "cell_type": "code",
   "execution_count": null,
   "metadata": {},
   "outputs": [],
   "source": [
    "len(PDB_SS.SSList)\n",
    "PDB_SS.SSList[306]"
   ]
  },
  {
   "cell_type": "code",
   "execution_count": null,
   "metadata": {},
   "outputs": [],
   "source": [
    "best = PDB_SS.get_by_name('2q7q_75D_140D')\n",
    "worst = PDB_SS.get_by_name('1zjk_629A_660A')\n",
    "worst\n",
    "duo = DisulfideList([best, worst], 'bw')\n",
    "duo.display(style='sb')"
   ]
  },
  {
   "cell_type": "code",
   "execution_count": null,
   "metadata": {},
   "outputs": [],
   "source": [
    "totSS_list = PDB_SS.SSList\n",
    "neighbors = best.Torsion_neighbors(totSS_list, 10)\n",
    "PDB_SS = Load_PDB_SS(verbose=False, subset=True)\n",
    "tot = neighbors.length\n",
    "tot\n"
   ]
  },
  {
   "cell_type": "code",
   "execution_count": null,
   "metadata": {},
   "outputs": [],
   "source": [
    "neighbors"
   ]
  },
  {
   "cell_type": "code",
   "execution_count": null,
   "metadata": {},
   "outputs": [],
   "source": []
  },
  {
   "cell_type": "code",
   "execution_count": null,
   "metadata": {},
   "outputs": [],
   "source": [
    "ssbest = PDB_SS['2q7q']\n",
    "ssbest.pprint()"
   ]
  },
  {
   "cell_type": "code",
   "execution_count": null,
   "metadata": {},
   "outputs": [],
   "source": [
    "sslist2 = PDB_SS['3k0v']\n",
    "sslist2"
   ]
  },
  {
   "cell_type": "code",
   "execution_count": null,
   "metadata": {},
   "outputs": [],
   "source": []
  },
  {
   "cell_type": "code",
   "execution_count": null,
   "metadata": {},
   "outputs": [],
   "source": []
  },
  {
   "cell_type": "code",
   "execution_count": null,
   "metadata": {},
   "outputs": [],
   "source": []
  },
  {
   "cell_type": "code",
   "execution_count": null,
   "metadata": {},
   "outputs": [],
   "source": []
  },
  {
   "cell_type": "code",
   "execution_count": null,
   "metadata": {},
   "outputs": [],
   "source": [
    "import py3Dmol\n",
    "import urllib.request\n",
    "\n",
    "import py3Dmol\n",
    "import urllib.request\n",
    "\n",
    "def Odisplay_pdb_structure():\n",
    "    # download PDB structure 3q7q\n",
    "    pdb_url = 'https://files.rcsb.org/download/2q7q.pdb'\n",
    "    pdb_data = urllib.request.urlopen(pdb_url).read().decode('utf-8')\n",
    "\n",
    "    # create viewer object\n",
    "    viewer = py3Dmol.view(width=1024, height=1024)\n",
    "\n",
    "    # add PDB data to viewer\n",
    "    viewer.addModel(pdb_data, 'pdb')\n",
    "\n",
    "    \n",
    "    # select residues 75 and 150 from chain 'D'\n",
    "    sel_str = ':D and (resi 75 or resi 140)'\n",
    "    #viewer.setStyle({'resi': [75, 140], 'chain': 'D'}, {'stick': {'color': 'green', 'radius': 0.6}, 'sphere': {'color': 'green', 'radius': 1}}, sel_str)\n",
    "    viewer.setStyle(sel_str, {'sphere': {'scale': 0.5}, 'color': 'element'})\n",
    "\n",
    "\n",
    "    # display all other residues as a ribbon colored by chain\n",
    "    viewer.setStyle({}, {'cartoon': {'color': 'spectrum'}})\n",
    "\n",
    "    # center and zoom to selection\n",
    "    viewer.zoomTo({'sel': sel_str})\n",
    "    \n",
    "    # show viewer\n",
    "    return viewer.show()\n",
    "\n",
    "import urllib.request\n",
    "import py3Dmol\n",
    "\n",
    "def oodisplay_pdb_structure():\n",
    "    # Download PDB structure 2q7q\n",
    "    pdb_url = \"https://files.rcsb.org/download/2q7q.pdb\"\n",
    "    pdb_file = urllib.request.urlopen(pdb_url).read().decode(\"utf-8\")\n",
    "\n",
    "    # Initialize viewer\n",
    "    view = py3Dmol.view(width=800, height=600)\n",
    "\n",
    "    # Select residues 75 and 140 from chain D\n",
    "    selection = \"(resid 81 or resid 113)\"\n",
    "\n",
    "    # Add selected atoms as spheres scaled by atom radius and colored by atom type\n",
    "    view.addModel(pdb_file, \"pdb\")\n",
    "    view.setStyle(selection, {\"sphere\": {\"scale\": 0.5}, \"color\": \"element\"})\n",
    "\n",
    "    # Display all other residues as a ribbon colored by secondary structure\n",
    "    view.setStyle(\"not \" + selection, {\"cartoon\": {\"color\": \"spectrum\"}})\n",
    "\n",
    "    # Set camera and render the viewer\n",
    "    view.zoomTo(selection)\n",
    "    view.render()\n",
    "\n",
    "import py3Dmol\n",
    "import requests\n",
    "\n",
    "def display_pdb_structure():\n",
    "    # Download PDB structure 2q7q\n",
    "    pdb_id = '2q7q'\n",
    "    pdb_url = f'https://files.rcsb.org/download/{pdb_id}.pdb'\n",
    "    pdb_file = requests.get(pdb_url).text\n",
    "    \n",
    "    # Initialize viewer\n",
    "    view = py3Dmol.view(width=800, height=600)\n",
    "    \n",
    "    # Select residues 75 and 140 from chain D\n",
    "    selection = {'chain': 'D', 'resi': '75, 140'}\n",
    "    \n",
    "    # Add selected atoms as spheres scaled by atom radius and colored by atom type\n",
    "    view.addModel(pdb_file, 'pdb')\n",
    "    view.setStyle(selection, {'sphere': {'scale': 0.5}, 'color': 'element'})\n",
    "    \n",
    "    # Display all other residues as a ribbon colored by secondary structure\n",
    "    view.setStyle({}, {'cartoon': {'color': 'spectrum'}})\n",
    "    \n",
    "    # Set camera and render the viewer\n",
    "    view.zoomTo(selection)\n",
    "    view.render()\n",
    "\n",
    "import requests\n",
    "import py3Dmol\n",
    "\n",
    "def odisplay_cys_residues():\n",
    "    # Download PDB structure 2q7q\n",
    "    pdb_id = '2q7q'\n",
    "    pdb_url = f'https://files.rcsb.org/download/{pdb_id}.pdb'\n",
    "    pdb_file = requests.get(pdb_url).text\n",
    "    \n",
    "    # Initialize viewer\n",
    "    view = py3Dmol.view(width=800, height=800)\n",
    "    \n",
    "    # Select all Cys residues\n",
    "    selection = {'resn': 'CYS'}\n",
    "    \n",
    "    # Add selected atoms as spheres scaled by atom radius and colored green\n",
    "    view.addModel(pdb_file, 'pdb')\n",
    "    view.setStyle(selection, {'sphere': {'scale': 0.5}, 'color': 'green'})\n",
    "    \n",
    "    # Set camera and render the viewer\n",
    "    view.zoomTo(selection)\n",
    "    view.render()\n",
    "\n",
    "\n",
    "import requests\n",
    "import py3Dmol\n",
    "\n",
    "def display_cys_residues():\n",
    "    # Download PDB structure 2q7q\n",
    "    pdb_id = '2q7q'\n",
    "    pdb_url = f'https://files.rcsb.org/download/{pdb_id}.pdb'\n",
    "    pdb_file = requests.get(pdb_url).text\n",
    "\n",
    "    # Initialize viewer\n",
    "    view = py3Dmol.view(width=800, height=600)\n",
    "\n",
    "    # Add protein backbone as ribbon\n",
    "    view.addModel(pdb_file, 'pdb')\n",
    "    view.setStyle({'cartoon': {'color': 'spectrum'}})\n",
    "\n",
    "    # Select all Cys residues and display as green spheres\n",
    "    selection = {'resn': 'CYS'}\n",
    "    view.addStyle(selection, {'sphere': {'color': 'green', 'radius': 0.3}})\n",
    "\n",
    "    # Set camera and render the viewer\n",
    "    view.zoomTo(selection)\n",
    "    view.render()\n",
    "\n",
    "import requests\n",
    "import py3Dmol\n",
    "\n",
    "def display_cys_and_ss_bonds():\n",
    "    # Download PDB structure 2q7q\n",
    "    pdb_id = '2q7q'\n",
    "    pdb_url = f'https://files.rcsb.org/download/{pdb_id}.pdb'\n",
    "    pdb_file = requests.get(pdb_url).text\n",
    "\n",
    "    # Initialize viewer\n",
    "    view = py3Dmol.view(width=800, height=800)\n",
    "\n",
    "    # Add protein as sticks\n",
    "    view.addModel(pdb_file, 'pdb')\n",
    "    #view.setStyle({'stick': {}})\n",
    "\n",
    "    # Select all Cys residues and SSBOND bonds and display as green sticks\n",
    "    cys_selection = {'resn': 'CYS'}\n",
    "    ssbond_selection = {'ss': 'disulf'}\n",
    "    view.addStyle(cys_selection, {'stick': {'colorscheme': 'greenCarbon', 'radius': 0.2}})\n",
    "    view.addStyle(ssbond_selection, {'stick': {'colorscheme': 'greenCarbon', 'radius': 1.0}})\n",
    "\n",
    "    # Set camera and render the viewer\n",
    "    #view.zoomTo(cys_selection)\n",
    "    view.render()\n",
    "\n",
    "import requests\n",
    "import py3Dmol\n",
    "\n",
    "def display_disulfide_bonds():\n",
    "    # Download PDB structure 2q7q\n",
    "    pdb_id = '2q7q'\n",
    "    pdb_url = f'https://files.rcsb.org/download/{pdb_id}.pdb'\n",
    "    pdb_file = requests.get(pdb_url).text\n",
    "\n",
    "    # Initialize viewer\n",
    "    view = py3Dmol.view(width=800, height=600)\n",
    "\n",
    "    # Add protein as sticks\n",
    "    view.addModel(pdb_file, 'pdb')\n",
    "    view.setStyle({'stick': {}})\n",
    "\n",
    "    # Select all disulfide bonds and display as green sticks\n",
    "    ssbond_selection = {'ss': 'disulf'}\n",
    "    view.addStyle(ssbond_selection, {'stick': {'colorscheme': 'greenCarbon', 'radius': 0.2}})\n",
    "\n",
    "    # Set camera and render the viewer\n",
    "    view.zoomTo(ssbond_selection)\n",
    "    view.render()\n",
    "\n",
    "display_disulfide_bonds()\n"
   ]
  },
  {
   "cell_type": "code",
   "execution_count": null,
   "metadata": {},
   "outputs": [],
   "source": [
    "import py3Dmol\n",
    "\n",
    "viewer = py3Dmol.view(query='pdb:2q7q')\n",
    "viewer.setStyle({'cartoon': {}})\n",
    "\n",
    "viewer.setStyle({'chain': 'D', 'resn': 'CYS'},{'stick': {'colorscheme': 'lightgreenCarbon'}})\n",
    "#viewer.addLabel('Chain D', {'fontColor':'orange', 'backgroundColor':'lightgray'}, {'chain': ['D']})\n",
    "ssbond_selection = {'ss': 'disulf'}\n",
    "viewer.addStyle(ssbond_selection, {'stick': {'colorscheme': 'greenCarbon', 'radius': 0.2}})\n",
    "\n",
    "#viewer.setStyle({'resn': 'CYS'},{'stick': {'colorscheme': 'orangeCarbon'}})\n",
    "\n",
    "viewer.show()"
   ]
  },
  {
   "cell_type": "code",
   "execution_count": null,
   "metadata": {},
   "outputs": [],
   "source": [
    "import py3Dmol\n",
    "viewer.show()"
   ]
  },
  {
   "cell_type": "code",
   "execution_count": null,
   "metadata": {},
   "outputs": [],
   "source": [
    "viewer.setStyle({'resn': 'SSBOND'},{'stick': {'colorscheme': 'greenCarbon'}})\n",
    "viewer.show()"
   ]
  },
  {
   "cell_type": "code",
   "execution_count": null,
   "metadata": {},
   "outputs": [],
   "source": []
  },
  {
   "cell_type": "code",
   "execution_count": null,
   "metadata": {},
   "outputs": [],
   "source": []
  },
  {
   "cell_type": "code",
   "execution_count": null,
   "metadata": {},
   "outputs": [],
   "source": [
    "from proteusPy.utility import download_file\n",
    "# Example usage:\n",
    "url = \"https://github.com/suchanek/proteusPy/raw/master/proteusPy/data/PDB_SS_ALL_LOADER.pkl\"\n",
    "directory = \"/tmp\"\n",
    "\n",
    "download_file(url, directory)\n"
   ]
  },
  {
   "cell_type": "code",
   "execution_count": null,
   "metadata": {},
   "outputs": [],
   "source": []
  },
  {
   "cell_type": "code",
   "execution_count": null,
   "metadata": {},
   "outputs": [],
   "source": []
  },
  {
   "cell_type": "code",
   "execution_count": null,
   "metadata": {},
   "outputs": [],
   "source": [
    "from proteusPy.DisulfideList import DisulfideList\n",
    "SSlist = DisulfideList([],'ss','22')\n",
    "newss = load_disulfides_from_id('6z9g', verbose=False)\n",
    "newss.display(light=False)\n",
    "\n"
   ]
  },
  {
   "cell_type": "code",
   "execution_count": null,
   "metadata": {},
   "outputs": [],
   "source": []
  },
  {
   "cell_type": "code",
   "execution_count": null,
   "metadata": {},
   "outputs": [],
   "source": [
    "import pandas as pd\n",
    "import numpy\n",
    "\n",
    "import pyvista as pv\n",
    "from pyvista import set_plot_theme\n",
    "\n",
    "from Bio.PDB import *\n",
    "\n",
    "# for using from the repo we \n",
    "import proteusPy\n",
    "from proteusPy import *\n",
    "from proteusPy.data import *\n",
    "from proteusPy.Disulfide import *\n",
    "from proteusPy.DisulfideList import DisulfideList, load_disulfides_from_id\n",
    "from proteusPy.DisulfideLoader import Load_PDB_SS\n",
    "\n",
    "\n",
    "PDB_SS = None\n",
    "\n",
    "#PDB_SS = DisulfideLoader(verbose=True, subset=False, datadir=DATA_DIR)\n",
    "PDB_SS = Load_PDB_SS(verbose=True, subset=False)\n"
   ]
  },
  {
   "cell_type": "code",
   "execution_count": null,
   "metadata": {},
   "outputs": [],
   "source": [
    "def Average_Resolution(ssloader: DisulfideLoader) -> float:\n",
    "    '''\n",
    "    Compute and return the average structure resolution for the given list.\n",
    "\n",
    "    :return: Average resolution (A)\n",
    "    '''\n",
    "    res_tot = 0.0\n",
    "    cnt = 1\n",
    "    \n",
    "    IDList = ssloader.IDList\n",
    "\n",
    "    for ssid in IDList:\n",
    "        _res = ssloader[ssid].resolution\n",
    "        if _res is not None and _res != -1.0:\n",
    "            res_tot += _res\n",
    "            cnt += 1\n",
    "    return res_tot / cnt\n",
    "\n",
    "      "
   ]
  },
  {
   "cell_type": "code",
   "execution_count": null,
   "metadata": {},
   "outputs": [],
   "source": [
    "PDB_SS['4yys']"
   ]
  },
  {
   "cell_type": "code",
   "execution_count": null,
   "metadata": {},
   "outputs": [],
   "source": [
    "ss1 = PDB_SS['4yys_22A_65A']"
   ]
  },
  {
   "cell_type": "code",
   "execution_count": null,
   "metadata": {},
   "outputs": [],
   "source": [
    "ss1.resolution"
   ]
  },
  {
   "cell_type": "code",
   "execution_count": null,
   "metadata": {},
   "outputs": [],
   "source": [
    "Average_Resolution(PDB_SS)"
   ]
  },
  {
   "cell_type": "code",
   "execution_count": null,
   "metadata": {},
   "outputs": [],
   "source": [
    "PDB_SS2 = Load_PDB_SS(verbose=True, subset=True)"
   ]
  },
  {
   "cell_type": "code",
   "execution_count": null,
   "metadata": {},
   "outputs": [],
   "source": [
    "pdb = DisulfideLoader(verbose=True, subset=False)"
   ]
  },
  {
   "cell_type": "code",
   "execution_count": null,
   "metadata": {},
   "outputs": [],
   "source": [
    "ss = pdb['2q7q_75D_140D']\n",
    "ss"
   ]
  },
  {
   "cell_type": "code",
   "execution_count": null,
   "metadata": {},
   "outputs": [],
   "source": [
    "PDB_SS['4yys']"
   ]
  },
  {
   "cell_type": "code",
   "execution_count": null,
   "metadata": {},
   "outputs": [],
   "source": []
  },
  {
   "cell_type": "code",
   "execution_count": null,
   "metadata": {},
   "outputs": [],
   "source": [
    "sslist = PDB_SS['4yys']\n",
    "sslist"
   ]
  },
  {
   "cell_type": "code",
   "execution_count": null,
   "metadata": {},
   "outputs": [],
   "source": [
    "\n",
    "\n",
    "sslist = PDB_SS.SSList\n",
    "LHS_neighbors = sslist.nearest_neighbors(-60, -60, -90, -60, -60, 20.0)\n",
    "LHS_neighbors.length\n",
    "# modelss = Disulfide('model', proximal=1, distal=2, pdb_id='EGS')\n",
    "# modelss.build_model(-60,-60, -90, -60, -60)\n"
   ]
  },
  {
   "cell_type": "code",
   "execution_count": null,
   "metadata": {},
   "outputs": [],
   "source": [
    "\n",
    "# We use the entire database contained in PDB_SS.SSList for our search here.\n",
    "# The entire database can be scanned in 13 seconds on the M1 Pro Macbook Pro.\n",
    "\n",
    "ssmin_enrg, ssmax_enrg = PDB_SS.SSList.minmax_energy()\n",
    "ssmin_enrg.pprint()\n",
    "ssmax_enrg.pprint()\n",
    "minmax = DisulfideList([ssmin_enrg, ssmax_enrg], 'minmax')\n",
    "#minmax.display()\n"
   ]
  },
  {
   "cell_type": "code",
   "execution_count": null,
   "metadata": {},
   "outputs": [],
   "source": [
    "ssmin_enrg.Torsion_Distance(ssmax_enrg)"
   ]
  },
  {
   "cell_type": "code",
   "execution_count": null,
   "metadata": {},
   "outputs": [],
   "source": [
    "ssmin_enrg.Torsion_Distance(ssmin_enrg)"
   ]
  },
  {
   "cell_type": "code",
   "execution_count": null,
   "metadata": {},
   "outputs": [],
   "source": [
    "import proteusPy\n",
    "from proteusPy.DisulfideLoader import DisulfideLoader\n",
    "from proteusPy.DisulfideList import DisulfideList\n",
    "from proteusPy.Disulfide import Disulfide\n",
    "\n",
    "PDB_SS = None\n",
    "PDB_SS = DisulfideLoader(verbose=False, subset=True)\n",
    "\n",
    "ss_list = DisulfideList([], 'tmp')\n",
    "sslist = PDB_SS.SSList\n",
    "ssmin_enrg, ssmax_enrg = PDB_SS.SSList.minmax_energy()\n",
    "\n",
    "low_energy_neighbors = DisulfideList([],'Neighbors')\n",
    "low_energy_neighbors = ssmin_enrg.Torsion_neighbors(sslist, 10)\n",
    "\n",
    "tot = low_energy_neighbors.length()\n",
    "print(f'Neighbors: {tot}')\n",
    "\n",
    "low_energy_neighbors.display_overlay()"
   ]
  },
  {
   "cell_type": "code",
   "execution_count": null,
   "metadata": {},
   "outputs": [],
   "source": [
    "\n"
   ]
  },
  {
   "cell_type": "code",
   "execution_count": null,
   "metadata": {},
   "outputs": [],
   "source": [
    "drms = low_energy_neighbors.Average_Distance()\n",
    "trms = low_energy_neighbors.Avg_Torsion_Distance()\n",
    "erms = low_energy_neighbors.Average_Energy()\n",
    "\n",
    "print(f'Low Energy Neighbors: {tot}, Distance: {drms:.2f} Torsions: {trms:.2f}, Energy: {erms:.2f}')\n",
    "\n"
   ]
  },
  {
   "cell_type": "code",
   "execution_count": null,
   "metadata": {},
   "outputs": [],
   "source": [
    "low_energy_neighbors.display_overlay()"
   ]
  },
  {
   "cell_type": "code",
   "execution_count": null,
   "metadata": {},
   "outputs": [],
   "source": [
    "high_energy_neighbors = DisulfideList([],'neighbors2')\n",
    "high_energy_neighbors = ssmax_enrg.Torsion_neighbors(sslist, 20)\n",
    "\n",
    "tot2 = high_energy_neighbors.length()\n",
    "print(f'Neighbors: {tot2}')"
   ]
  },
  {
   "cell_type": "code",
   "execution_count": null,
   "metadata": {},
   "outputs": [],
   "source": [
    "drms = high_energy_neighbors.Average_Distance()\n",
    "trms = high_energy_neighbors.Avg_Torsion_Distance()\n",
    "erms = high_energy_neighbors.Average_Energy()\n",
    "\n",
    "print(f'High Energy Neighbors: {tot}, Distance: {drms:.2f} Torsions: {trms:.2f}, Energy: {erms:.2f}')\n",
    "\n"
   ]
  },
  {
   "cell_type": "code",
   "execution_count": null,
   "metadata": {},
   "outputs": [],
   "source": [
    "high_energy_neighbors.display_overlay()\n"
   ]
  },
  {
   "cell_type": "code",
   "execution_count": null,
   "metadata": {},
   "outputs": [],
   "source": [
    "ssmin = Disulfide()\n",
    "ssmax = Disulfide()\n",
    "\n",
    "ssmin, ssmax = sslist.minmax_distance()\n",
    "ssmin.pprint()\n",
    "ssmax.pprint()\n",
    "\n",
    "minmax = DisulfideList([ssmin, ssmax], 'minmax')\n",
    "minmax.display()"
   ]
  },
  {
   "cell_type": "code",
   "execution_count": null,
   "metadata": {},
   "outputs": [],
   "source": [
    "\n",
    "# one disulfide from the database\n",
    "ss = Disulfide()\n",
    "ss = PDB_SS[0]\n",
    "#ss.pprint_all()\n",
    "\n",
    "# get all disulfides for one structure. Make a \n",
    "# DisulfideList object to hold it\n",
    "ss4yys = DisulfideList([], '4yys')\n",
    "ss4yys = PDB_SS['4yys']\n",
    "\n",
    "#ss4crn = DisulfideList([], '1crn')\n",
    "#ss4crn = PDB_SS['1crn']\n",
    "\n",
    "tot_ss = len(ss4yys) # number off ssbonds\n",
    "print(f'tot {tot_ss}')\n"
   ]
  },
  {
   "cell_type": "code",
   "execution_count": null,
   "metadata": {},
   "outputs": [],
   "source": [
    "print(f'{ss4yys.Torsion_Distance()}')"
   ]
  },
  {
   "cell_type": "code",
   "execution_count": null,
   "metadata": {},
   "outputs": [],
   "source": [
    "sslist = PDB_SS.SSList\n",
    "tors= sslist.torsion_df\n",
    "tors.head()"
   ]
  },
  {
   "cell_type": "code",
   "execution_count": null,
   "metadata": {},
   "outputs": [],
   "source": [
    "ca_df = sslist.distance_df\n",
    "ca_df.head(10)"
   ]
  },
  {
   "cell_type": "code",
   "execution_count": null,
   "metadata": {},
   "outputs": [],
   "source": [
    "ss6fuf = PDB_SS['6fuf']\n"
   ]
  },
  {
   "cell_type": "code",
   "execution_count": null,
   "metadata": {},
   "outputs": [],
   "source": [
    "ss1 = ss4yys.get_by_name('4yys_22A_65A')\n",
    "ss1"
   ]
  },
  {
   "cell_type": "code",
   "execution_count": null,
   "metadata": {},
   "outputs": [],
   "source": [
    "ss4yys_a = ss4yys.by_chain('A')\n",
    "ss4yys_a.Torsion_Distance()\n"
   ]
  },
  {
   "cell_type": "code",
   "execution_count": null,
   "metadata": {},
   "outputs": [],
   "source": [
    "ss4yys_b = ss4yys.by_chain('B')\n",
    "ss4yys_b.Torsion_Distance()"
   ]
  },
  {
   "cell_type": "code",
   "execution_count": null,
   "metadata": {},
   "outputs": [],
   "source": [
    "ss4yys_a1 = ss4yys_a[0]\n",
    "# print(ss4yys_a1.repr_ss_coords())\n"
   ]
  },
  {
   "cell_type": "code",
   "execution_count": null,
   "metadata": {},
   "outputs": [],
   "source": [
    "ss4yys_b1 = ss4yys_b[0]\n",
    "ss4yys_b1"
   ]
  },
  {
   "cell_type": "code",
   "execution_count": null,
   "metadata": {},
   "outputs": [],
   "source": [
    "ss4yys_a1.Distance_RMS(ss4yys_b1)"
   ]
  },
  {
   "cell_type": "code",
   "execution_count": null,
   "metadata": {},
   "outputs": [],
   "source": [
    "ss4yys_a1.Torsion_Distance(ss4yys_b1)"
   ]
  },
  {
   "cell_type": "code",
   "execution_count": null,
   "metadata": {},
   "outputs": [],
   "source": [
    "ss4yys_a1 == ss4yys_b1"
   ]
  },
  {
   "cell_type": "code",
   "execution_count": null,
   "metadata": {},
   "outputs": [],
   "source": [
    "chns = ss4yys.get_chains()\n",
    "ss4yys.has_chain('yyy')\n",
    "chns"
   ]
  },
  {
   "cell_type": "code",
   "execution_count": null,
   "metadata": {},
   "outputs": [],
   "source": [
    "# load SS bonds by PDB ID\n",
    "ss1 = PDB_SS['4yys']\n",
    "print(ss1)\n",
    "print(ss1[0].get_full_id())\n"
   ]
  },
  {
   "cell_type": "code",
   "execution_count": null,
   "metadata": {},
   "outputs": [],
   "source": [
    "# you can loop over the IDList list and extract by ID\n",
    "#\n",
    "for id in PDB_SS.IDList[:5]:    # just show last 5\n",
    "    # get the SS bonds for the given ID\n",
    "    ssb = PDB_SS[id]\n",
    "    numb_ss = len(ssb)\n",
    "    print(f'ID: {id} has {numb_ss} Disulfides:')\n",
    "    for bond in ssb:\n",
    "        print(bond)\n",
    "    print('\\n')\n",
    "    "
   ]
  },
  {
   "cell_type": "code",
   "execution_count": null,
   "metadata": {},
   "outputs": [],
   "source": [
    "ss_list = PDB_SS.getlist()\n",
    "ss0 = ss_list[0]\n",
    "\n",
    "print(ss0.proximal_residue_fullid)\n",
    "print(ss0.chi3)\n",
    "len(ss_list)\n"
   ]
  },
  {
   "cell_type": "code",
   "execution_count": null,
   "metadata": {},
   "outputs": [],
   "source": [
    "# routine creates 2 lists  for left-handed and right-handed disulfides \n",
    "ss_list = PDB_SS.getlist()\n",
    "left_handed = DisulfideList([], 'left_handed')\n",
    "right_handed = DisulfideList([], 'right_handed')\n",
    "\n",
    "i = 0\n",
    "\n",
    "for i in range(len(ss_list)):\n",
    "    ss = ss_list[i]\n",
    "    if ss.chi3 < 0:\n",
    "        left_handed.append(ss)\n",
    "    else:\n",
    "        right_handed.append(ss)\n",
    "\n",
    "\n",
    "print(f'Left Handed: {len(left_handed)}, Right Handed: {len(right_handed)}')\n",
    "\n"
   ]
  },
  {
   "cell_type": "code",
   "execution_count": null,
   "metadata": {},
   "outputs": [],
   "source": [
    "from proteusPy.Disulfide import Disulfide\n",
    "\n",
    "# make some empty disulfides\n",
    "ss1 = Disulfide('ss1')\n",
    "ss2 = Disulfide('ss2')\n",
    "\n",
    "# make a DisulfideList containing ss1, named 'tmp'\n",
    "sslist = DisulfideList([ss1], 'tmp')\n",
    "sslist.append(ss2)\n",
    "\n",
    "# load the PDB Disulfide database\n",
    "PDB_SS = None\n",
    "PDB_SS = DisulfideLoader(verbose=True, subset=True)\n",
    "\n",
    "# extract a disulfide with typical index\n",
    "ss1 = PDB_SS[0]\n",
    "#print(f'{ss1.pprint_all()}')\n",
    "\n",
    "# grab a subset via slicing\n",
    "subset = DisulfideList(PDB_SS[0:10],'subset')"
   ]
  },
  {
   "cell_type": "code",
   "execution_count": null,
   "metadata": {},
   "outputs": [],
   "source": [
    "rms = subset.Torsion_Distance()\n",
    "rms"
   ]
  },
  {
   "cell_type": "code",
   "execution_count": null,
   "metadata": {},
   "outputs": [],
   "source": [
    "torsions = PDB_SS.getTorsions()\n",
    "torsions.sort_values(by=['energy'], ascending=False, inplace=True)\n",
    "\n",
    "torsions.head(10)"
   ]
  },
  {
   "cell_type": "code",
   "execution_count": null,
   "metadata": {},
   "outputs": [],
   "source": [
    "idx_max = int(torsions['energy'].idxmax())\n",
    "print(f'IDMAX: {idx_max}')\n",
    "ssmax = PDB_SS[idx_max]\n",
    "ssmax"
   ]
  },
  {
   "cell_type": "code",
   "execution_count": null,
   "metadata": {},
   "outputs": [],
   "source": [
    "toget = 200\n",
    "\n",
    "badlist = torsions['ss_id']\n",
    "\n",
    "bad_SS_list = DisulfideList([],'20 top high energy')\n",
    "ss = Disulfide()\n",
    "\n",
    "for i in range(toget):\n",
    "    ssid = torsions.iloc[i]['ss_id']\n",
    "    ss = PDB_SS.get_by_name(ssid)\n",
    "    #print(f'ID: {ss.name}: {ss.energy:.2f} kcal/mol CA: {ss.ca_distance:.2f}')\n",
    "    bad_SS_list.append(ss)\n",
    "\n"
   ]
  },
  {
   "cell_type": "code",
   "execution_count": null,
   "metadata": {},
   "outputs": [],
   "source": [
    "\n",
    "tors_bad_rms = bad_SS_list.Torsion_Distance()\n",
    "tors_bad_rms"
   ]
  },
  {
   "cell_type": "code",
   "execution_count": null,
   "metadata": {},
   "outputs": [],
   "source": [
    "goodlist = torsions['ss_id']\n",
    "\n",
    "good_SS_list = DisulfideList([],'20 top low energy')\n",
    "ss = Disulfide()\n",
    "\n",
    "for i in range(toget):\n",
    "    if i == 0:\n",
    "        continue\n",
    "    \n",
    "    ssid = torsions.iloc[-i]['ss_id']\n",
    "    ss = PDB_SS.get_by_name(ssid)\n",
    "    #print(f'ID: {ss.name}: {ss.energy:.2f} kcal/mol CA: {ss.ca_distance:.2f}')\n",
    "    good_SS_list.append(ss)\n"
   ]
  },
  {
   "cell_type": "code",
   "execution_count": null,
   "metadata": {},
   "outputs": [],
   "source": [
    "\n",
    "tors_good_rms = good_SS_list.Torsion_Distance()\n",
    "tors_good_rms"
   ]
  },
  {
   "cell_type": "code",
   "execution_count": null,
   "metadata": {},
   "outputs": [],
   "source": [
    "from scipy.spatial import distance_matrix\n",
    "\n",
    "good_array = good_SS_list.get_torsion_array()\n",
    "bad_array = bad_SS_list.get_torsion_array()\n",
    "good_array.shape"
   ]
  },
  {
   "cell_type": "code",
   "execution_count": null,
   "metadata": {},
   "outputs": [],
   "source": [
    "\n",
    "dm1 = distance_matrix(good_array, good_array)\n",
    "dm2 = distance_matrix(bad_array, bad_array)\n",
    "\n"
   ]
  },
  {
   "cell_type": "code",
   "execution_count": null,
   "metadata": {},
   "outputs": [],
   "source": [
    "import numpy as np\n",
    "\n",
    "def EDM(A, B):\n",
    "    p1 = np.sum(A**2, axis=1)[:, np.newaxis]\n",
    "    p2 = np.sum(B**2, axis=1)\n",
    "    p3 = -2 * np.dot(A, B.T)\n",
    "    res = p1 + p2 + p3\n",
    "    #res = numpy.sqrt(res)\n",
    "    return res\n"
   ]
  },
  {
   "cell_type": "code",
   "execution_count": null,
   "metadata": {},
   "outputs": [],
   "source": [
    "dm3 = np.sqrt(dm2)"
   ]
  },
  {
   "cell_type": "code",
   "execution_count": null,
   "metadata": {},
   "outputs": [],
   "source": [
    "import plotly_express as px\n",
    "fig = px.imshow(dm1)\n",
    "fig.show()"
   ]
  },
  {
   "cell_type": "code",
   "execution_count": null,
   "metadata": {},
   "outputs": [],
   "source": [
    "import plotly_express as px\n",
    "fig = px.imshow(dm2)\n",
    "fig.show()"
   ]
  },
  {
   "cell_type": "code",
   "execution_count": null,
   "metadata": {},
   "outputs": [],
   "source": [
    "dm1.shape\n",
    "dm1"
   ]
  },
  {
   "cell_type": "code",
   "execution_count": null,
   "metadata": {},
   "outputs": [],
   "source": [
    "df = pd.DataFrame(dm1.copy())\n",
    "df.describe()"
   ]
  },
  {
   "cell_type": "code",
   "execution_count": null,
   "metadata": {},
   "outputs": [],
   "source": [
    "x = np.arange(0,20, 20)\n",
    "y = np.arange(0,20, 20)\n",
    "z = dm1\n",
    "x, y = np.meshgrid(x, y)\n"
   ]
  },
  {
   "cell_type": "code",
   "execution_count": null,
   "metadata": {},
   "outputs": [],
   "source": [
    "# Create and plot structured grid\n",
    "grid = pv.StructuredGrid(x, y, z)\n",
    "grid.plot()"
   ]
  },
  {
   "cell_type": "code",
   "execution_count": null,
   "metadata": {},
   "outputs": [],
   "source": [
    "def doit(tot_ss):\n",
    "    brad = BOND_RADIUS * (1 - ((tot_ss / 10)) / 50)\n",
    "    return brad\n",
    "\n"
   ]
  },
  {
   "cell_type": "code",
   "execution_count": null,
   "metadata": {},
   "outputs": [],
   "source": [
    "doit(51)"
   ]
  },
  {
   "attachments": {},
   "cell_type": "markdown",
   "metadata": {},
   "source": [
    "### Disulfide Families"
   ]
  },
  {
   "cell_type": "code",
   "execution_count": null,
   "metadata": {},
   "outputs": [],
   "source": [
    "import proteusPy\n",
    "from proteusPy import DisulfideLoader\n",
    "from proteusPy.Disulfide import Disulfide\n",
    "from proteusPy.DisulfideList import DisulfideList\n",
    "\n",
    "PDB_SS = DisulfideLoader(verbose=True, subset=True, datadir='/Users/egs/pdb/data/')\n",
    "\n"
   ]
  },
  {
   "cell_type": "code",
   "execution_count": null,
   "metadata": {},
   "outputs": [],
   "source": [
    "PDB_SS.SSDict"
   ]
  },
  {
   "cell_type": "code",
   "execution_count": null,
   "metadata": {},
   "outputs": [],
   "source": [
    "PDB_SS['4yys']"
   ]
  },
  {
   "cell_type": "code",
   "execution_count": null,
   "metadata": {},
   "outputs": [],
   "source": [
    "\n",
    "# retrieve the torsions dataframe\n",
    "from proteusPy.Disulfide import Torsion_DF_Cols\n",
    "\n",
    "_SSdf = PDB_SS.getTorsions()\n",
    "_near = _SSdf['ca_distance'] < 9.0\n",
    "# there are a few structures with bad SSBonds. Their\n",
    "# CA distances are > 7.0. We remove them from consideration\n",
    "# below\n",
    "\n",
    "SS_df = _SSdf[_near]\n",
    "SS_df = SS_df[Torsion_DF_Cols].copy()\n",
    "\n",
    "\n",
    "_cols = ['chi1', 'chi2', 'chi3', 'chi4', 'chi5']\n",
    "X = SS_df[_cols].copy()\n",
    "tot = X.shape[0]\n",
    "\n",
    "tors = X.to_numpy()\n"
   ]
  },
  {
   "cell_type": "code",
   "execution_count": null,
   "metadata": {},
   "outputs": [],
   "source": [
    "# chat gpt generated\n",
    "import numpy as np\n",
    "from sklearn.neighbors import KDTree\n",
    "\n",
    "def nearest_neighbors(samples):\n",
    "    # Sample the 5-dimensional vector space\n",
    "    \n",
    "    # Build a KDTree from the samples\n",
    "    tree = KDTree(samples, leafsize=40)\n",
    "    \n",
    "    # Find the nearest neighbors for each sample\n",
    "    distances, indices = tree.query(samples, k=5)\n",
    "    \n",
    "    # The first nearest neighbor of each sample is the sample itself, so we can ignore that\n",
    "    nearest_neighbors = indices[:, 1]\n",
    "    distances = distances[:, 1]\n",
    "    \n",
    "    return nearest_neighbors, distances\n",
    "\n",
    "def nearest_neighbors_radial(samples, radius):\n",
    "    '''\n",
    "    Find the neighbors for the given array of torsions using KDTree.\n",
    "\n",
    "    :param samples: Neighbor array\n",
    "    :param radius: Search radius (degrees)\n",
    "    :return: List of indices for neighbors within the cutoff\n",
    "    '''\n",
    "        \n",
    "    # Build a KDTree from the samples\n",
    "    tree = KDTree(samples, leaf_size=40)\n",
    "    \n",
    "    # Find the nearest neighbors for each sample\n",
    "    indices = tree.query_radius(samples, r=radius)  \n",
    "    \n",
    "    # The first nearest neighbor of each sample is the sample itself, so we can ignore that\n",
    "    # nearest_neighbors = indices[:, 1]\n",
    "    nearest_neighbors = indices\n",
    "    return nearest_neighbors\n",
    "\n",
    "def build_SSlist(loader: DisulfideLoader, indices) -> DisulfideList:\n",
    "    '''\n",
    "    For a given ```DisulfideLoader``` and list of Disulfide indices return the Disulfides in a DisulfideList\n",
    "\n",
    "    :param indices: List of SS by index\n",
    "    :return: DisulfideList of SS\n",
    "    '''\n",
    "    res = DisulfideList([],'tmp')\n",
    "    sslist = loader.SSList\n",
    "\n",
    "    tot = len(indices)\n",
    "    res = DisulfideList([sslist[indices[i]] for i in range(tot)], 'tmp')\n",
    "    return res\n",
    "\n"
   ]
  },
  {
   "cell_type": "code",
   "execution_count": null,
   "metadata": {},
   "outputs": [],
   "source": [
    "#\n",
    "\n",
    "_cols = ['chi1', 'chi2', 'chi3', 'chi4', 'chi5']\n",
    "tor_df = SS_df[_cols].copy()\n",
    "\n",
    "X = tor_df.copy()\n",
    "tot = X.shape[0]\n",
    "\n",
    "tors = X.to_numpy()\n",
    "\n",
    "nneighbors  = nearest_neighbors_radial(X, radius=20)\n",
    "print(f'{len(nneighbors)}')\n"
   ]
  },
  {
   "cell_type": "code",
   "execution_count": null,
   "metadata": {},
   "outputs": [],
   "source": [
    "from tqdm import tqdm\n",
    "\n",
    "# for each SS, build a list of neighbors\n",
    "neighbor_list = []\n",
    "\n",
    "pbar = tqdm(range(nneighbors.shape[0]))\n",
    "\n",
    "for i in pbar:\n",
    "    neigh = nneighbors[i]\n",
    "    res = build_SSlist(PDB_SS, neigh)\n",
    "    neighbor_list.append(res)\n"
   ]
  },
  {
   "cell_type": "code",
   "execution_count": null,
   "metadata": {},
   "outputs": [],
   "source": [
    "# for the neighbor list,"
   ]
  },
  {
   "cell_type": "code",
   "execution_count": null,
   "metadata": {},
   "outputs": [],
   "source": [
    "import numpy as np\n",
    "from sklearn.neighbors import KDTree\n",
    "\n",
    "tree = KDTree(X, leaf_size=2)              \n",
    "dist, ind = tree.query(X, k=5)                \n",
    "print(ind)  # indices of 3 closest neighbors\n",
    "\n",
    "print(dist)  # distances to 3 closest neighbors\n"
   ]
  },
  {
   "cell_type": "code",
   "execution_count": null,
   "metadata": {},
   "outputs": [],
   "source": [
    "from sklearn.neighbors import KDTree\n",
    "tree = KDTree(X, leaf_size=3)     \n",
    "print(tree.query_radius(X[:1], r=10, count_only=True))\n",
    "\n",
    "ind = tree.query_radius(X[:1], r=10)  \n",
    "print(ind)  # indices of neighbors within distance 0.3\n"
   ]
  },
  {
   "cell_type": "code",
   "execution_count": null,
   "metadata": {},
   "outputs": [],
   "source": [
    "import numpy as np\n",
    "rng = np.random.RandomState(42)\n",
    "tree = KDTree(X)                \n",
    "tree.kernel_density(X[:5], h=0.5, kernel='gaussian')\n"
   ]
  },
  {
   "cell_type": "code",
   "execution_count": null,
   "metadata": {},
   "outputs": [],
   "source": [
    "import pandas as pd\n",
    "\n",
    "df = pd.read_csv(\"classes.csv\")\n",
    "with open(\"classes.md\", 'w') as md:\n",
    "  df.to_markdown(buf=md, tablefmt=\"grid\")"
   ]
  },
  {
   "cell_type": "code",
   "execution_count": null,
   "metadata": {},
   "outputs": [],
   "source": [
    "proteusPy.__version__"
   ]
  }
 ],
 "metadata": {
  "kernelspec": {
   "display_name": "Proteus",
   "language": "python",
   "name": "proteus"
  },
  "language_info": {
   "codemirror_mode": {
    "name": "ipython",
    "version": 3
   },
   "file_extension": ".py",
   "mimetype": "text/x-python",
   "name": "python",
   "nbconvert_exporter": "python",
   "pygments_lexer": "ipython3",
   "version": "3.9.15"
  },
  "orig_nbformat": 4,
  "vscode": {
   "interpreter": {
    "hash": "2e049c0f63e6b330ae815ad1049a36d20686725ba1cc68cc0aadee0375e172d1"
   }
  }
 },
 "nbformat": 4,
 "nbformat_minor": 2
}
