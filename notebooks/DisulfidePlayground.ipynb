{
 "cells": [
  {
   "cell_type": "code",
   "execution_count": 1,
   "metadata": {},
   "outputs": [],
   "source": [
    "# DisulfideBond Playground\n",
    "# Playing with the DisulfideBond class\n",
    "# Author: Eric G. Suchanek, PhD.\n",
    "# (c) 2022 Eric G. Suchanek, PhD., All Rights Reserved\n",
    "# License: BSD\n",
    "# Last Modification: 12/12/22\n",
    "# Cα Cβ Sγ\n",
    "\n",
    "# important preamble\n",
    "\n",
    "%matplotlib inline\n",
    "\n",
    "import pandas as pd\n",
    "\n",
    "import matplotlib.pyplot as plt\n",
    "\n",
    "import pyvista as pv\n",
    "from pyvista import set_plot_theme\n",
    "\n",
    "from Bio.PDB import *\n",
    "\n",
    "# for using from the repo we \n",
    "from proteusPy import *\n",
    "from proteusPy.proteusGlobals import *\n",
    "from proteusPy.Disulfide import *\n",
    "\n",
    "# override any default PDB globals\n",
    "# location for PDB repository\n",
    "PDB_ROOT = '/Users/egs/PDB/'\n",
    "\n",
    "# location of cleaned PDB files - these are not stored in the repo\n",
    "PDB_GOOD = '/Users/egs/PDB/good/'\n",
    "\n",
    "# from within the repo \n",
    "PDB_REPO = '../pdb/'\n",
    "\n",
    "# location of the compressed Disulfide .pkl files\n",
    "MODELS = f'{PDB_ROOT}models/'\n",
    "\n",
    "# pyvista setup for notebooks\n",
    "pv.set_jupyter_backend('ipyvtklink')\n",
    "set_plot_theme('document')\n"
   ]
  },
  {
   "cell_type": "markdown",
   "metadata": {},
   "source": []
  },
  {
   "cell_type": "code",
   "execution_count": 2,
   "metadata": {},
   "outputs": [
    {
     "name": "stdout",
     "output_type": "stream",
     "text": [
      "Reading disulfides from: /Users/egs/PDB/models/PDB_all_ss.pkl\n",
      "Disulfides Read: 8210\n",
      "Reading disulfide dict from: /Users/egs/PDB/models/PDB_all_ss_dict.pkl\n",
      "Reading Torsion DF /Users/egs/PDB/models/PDB_all_SS_torsions.csv.\n",
      "Read torsions DF.\n",
      "PDB IDs parsed: 1000\n",
      "Total Space Used: 1844333 bytes.\n"
     ]
    }
   ],
   "source": [
    "# Comment these out since they take so long.\n",
    "# DownloadDisulfides(pdb_home=PDB_ORIG, model_home=MODELS, reset=False)\n",
    "\n",
    "#ExtractDisulfides(numb=1000, pdbdir=PDB_GOOD, modeldir=MODELS, verbose=False, quiet=True)\n",
    "\n",
    "PDB_SS = None\n",
    "PDB_SS = DisulfideLoader(verbose=True, modeldir=MODELS)\n",
    "\n",
    "ss_list = DisulfideList([], 'tmp')\n"
   ]
  },
  {
   "cell_type": "code",
   "execution_count": 3,
   "metadata": {},
   "outputs": [
    {
     "name": "stdout",
     "output_type": "stream",
     "text": [
      "SS: <Disulfide 4yys_22A_65A SourceID: 4yys Proximal: 22 A Distal: 65 A>\n",
      "tot 6\n"
     ]
    }
   ],
   "source": [
    "\n",
    "# one disulfide from the database\n",
    "ss = Disulfide()\n",
    "ss = PDB_SS[0]\n",
    "print(f'SS: {ss}')\n",
    "\n",
    "# get all disulfides for one structure. Make a \n",
    "# DisulfideList object to hold it\n",
    "ss4yys = DisulfideList([], '4yys')\n",
    "ss4yys = PDB_SS['4yys']\n",
    "\n",
    "#ss4crn = DisulfideList([], '1crn')\n",
    "#ss4crn = PDB_SS['1crn']\n",
    "\n",
    "tot_ss = len(ss4yys) # number off ssbonds\n",
    "print(f'tot {tot_ss}')\n"
   ]
  },
  {
   "cell_type": "code",
   "execution_count": 4,
   "metadata": {},
   "outputs": [
    {
     "name": "stdout",
     "output_type": "stream",
     "text": [
      "ssbond dict: {1: ('22', '65', 'A', 'A'), 2: ('56', '98', 'A', 'A'), 3: ('156', '207', 'A', 'A'), 4: ('22', '65', 'B', 'B'), 5: ('56', '98', 'B', 'B'), 6: ('156', '207', 'B', 'B')}\n",
      "multiple chains. [<Chain id=A>, <Chain id=B>]\n",
      "Chain: A, length: 504\n",
      "Chain: B, length: 454\n",
      "chain lengths are unequal: [504, 454]\n"
     ]
    },
    {
     "data": {
      "text/plain": [
       "False"
      ]
     },
     "execution_count": 4,
     "metadata": {},
     "output_type": "execute_result"
    }
   ],
   "source": [
    "check_chains('4yys', PDB_GOOD)"
   ]
  },
  {
   "cell_type": "code",
   "execution_count": null,
   "metadata": {},
   "outputs": [],
   "source": []
  },
  {
   "cell_type": "code",
   "execution_count": 5,
   "metadata": {},
   "outputs": [
    {
     "data": {
      "text/plain": [
       "DisulfideList([<Disulfide 4yys_22A_65A SourceID: 4yys Proximal: 22 A Distal: 65 A>,\n",
       "               <Disulfide 4yys_56A_98A SourceID: 4yys Proximal: 56 A Distal: 98 A>,\n",
       "               <Disulfide 4yys_156A_207A SourceID: 4yys Proximal: 156 A Distal: 207 A>])"
      ]
     },
     "execution_count": 5,
     "metadata": {},
     "output_type": "execute_result"
    }
   ],
   "source": [
    "ss4yys_a = ss4yys.by_chain('A')\n",
    "ss4yys_a\n"
   ]
  },
  {
   "cell_type": "code",
   "execution_count": 6,
   "metadata": {},
   "outputs": [
    {
     "data": {
      "text/plain": [
       "DisulfideList([<Disulfide 4yys_22B_65B SourceID: 4yys Proximal: 22 B Distal: 65 B>,\n",
       "               <Disulfide 4yys_56B_98B SourceID: 4yys Proximal: 56 B Distal: 98 B>,\n",
       "               <Disulfide 4yys_156B_207B SourceID: 4yys Proximal: 156 B Distal: 207 B>])"
      ]
     },
     "execution_count": 6,
     "metadata": {},
     "output_type": "execute_result"
    }
   ],
   "source": [
    "ss4yys_b = ss4yys.by_chain('B')\n",
    "ss4yys_b"
   ]
  },
  {
   "cell_type": "code",
   "execution_count": 9,
   "metadata": {},
   "outputs": [
    {
     "data": {
      "text/plain": [
       "True"
      ]
     },
     "execution_count": 9,
     "metadata": {},
     "output_type": "execute_result"
    }
   ],
   "source": [
    "chns = ss4yys.get_chains()\n",
    "ss4yys.has_chain('xxx')"
   ]
  },
  {
   "cell_type": "code",
   "execution_count": null,
   "metadata": {},
   "outputs": [],
   "source": [
    "# load SS bonds by PDB ID\n",
    "ss1 = PDB_SS['4yys']\n",
    "print(ss1)\n",
    "print(ss1[0].get_full_id())\n"
   ]
  },
  {
   "cell_type": "code",
   "execution_count": null,
   "metadata": {},
   "outputs": [],
   "source": [
    "# you can loop over the IDList list and extract by ID\n",
    "#\n",
    "for id in PDB_SS.IDList[:2]:    # just show last 5\n",
    "    # get the SS bonds for the given ID\n",
    "    ssb = PDB_SS[id]\n",
    "    numb_ss = len(ssb)\n",
    "    print(f'ID: {id} has {numb_ss} Disulfides:')\n",
    "    for bond in ssb:\n",
    "        print(bond)\n",
    "    print('\\n')\n",
    "    "
   ]
  },
  {
   "cell_type": "code",
   "execution_count": null,
   "metadata": {},
   "outputs": [],
   "source": [
    "ss_list = PDB_SS.getlist()\n",
    "ss0 = ss_list[0]\n",
    "\n",
    "print(ss0.proximal_residue_fullid)\n",
    "print(ss0.chi3)\n",
    "len(ss_list)\n"
   ]
  },
  {
   "cell_type": "code",
   "execution_count": null,
   "metadata": {},
   "outputs": [],
   "source": [
    "# routine creates 2 lists  for left-handed and right-handed disulfides \n",
    "ss_list = PDB_SS.getlist()\n",
    "left_handed = DisulfideList([], 'left_handed')\n",
    "right_handed = DisulfideList([], 'right_handed')\n",
    "\n",
    "i = 0\n",
    "\n",
    "for i in range(0, len(ss_list)):\n",
    "    ss = ss_list[i]\n",
    "    if ss.chi3 < 0:\n",
    "        left_handed.append(ss)\n",
    "    else:\n",
    "        right_handed.append(ss)\n",
    "\n",
    "\n",
    "print(f'Left Handed: {len(left_handed)}, Right Handed: {len(right_handed)}')\n",
    "\n"
   ]
  },
  {
   "cell_type": "code",
   "execution_count": null,
   "metadata": {},
   "outputs": [],
   "source": [
    "# Make a plot\n",
    "\n",
    "import pyvista as pv\n",
    "from pyvista import set_plot_theme\n",
    "\n",
    "pv.set_jupyter_backend('ipyvtklink')\n",
    "set_plot_theme('document')\n",
    "\n",
    "from proteusPy.proteusGlobals import ATOM_RADII_COVALENT, ATOM_RADII_CPK, ATOM_COLORS\n",
    "ss1 = PDB_SS[0]\n",
    "\n",
    "coords = ss1.internal_coords()\n",
    "atoms = ('N', 'C', 'C', 'O', 'C', 'SG', 'N', 'C', 'C', 'O', 'C', 'SG')\n",
    "\n",
    "i = 0\n",
    "p = pv.Plotter()\n",
    "\n",
    "for atom in atoms:\n",
    "    rad = ATOM_RADII_CPK[atom]\n",
    "    p.add_mesh(pv.Sphere(center=coords[i], radius=rad),)\n",
    "    print(f'Atom: {atom} Coords: {coords[i]} rad: {rad}')\n",
    "    i += 1\n",
    "\n",
    "p.show()\n"
   ]
  },
  {
   "cell_type": "code",
   "execution_count": null,
   "metadata": {},
   "outputs": [],
   "source": [
    "p = pv.Plotter()\n",
    "p.add_mesh(pv.Sphere(center=[0,0,0], radius=1.0))\n",
    "p.show()"
   ]
  },
  {
   "cell_type": "code",
   "execution_count": null,
   "metadata": {},
   "outputs": [],
   "source": [
    "ATOM_RADII_CPK"
   ]
  },
  {
   "cell_type": "code",
   "execution_count": null,
   "metadata": {},
   "outputs": [],
   "source": [
    "ATOM_RADII_COVALENT"
   ]
  },
  {
   "cell_type": "code",
   "execution_count": null,
   "metadata": {},
   "outputs": [],
   "source": [
    "from proteusPy.disulfide import DisulfideList, Disulfide, DisulfideLoader\n",
    "\n",
    "# make some empty disulfides\n",
    "ss1 = Disulfide('ss1')\n",
    "ss2 = Disulfide('ss2')\n",
    "\n",
    "# make a DisulfideList containing ss1, named 'tmp'\n",
    "sslist = DisulfideList([ss1], 'tmp')\n",
    "sslist.append(ss2)\n",
    "\n",
    "# load the PDB Disulfide database\n",
    "PDB_SS = None\n",
    "PDB_SS = DisulfideLoader(verbose=True, modeldir=MODELS)\n",
    "\n",
    "# extract a disulfide with typical index\n",
    "ss1 = PDB_SS[0]\n",
    "print(f'{ss1.pprint_all()}')\n",
    "\n",
    "# grab a subset via slicing\n",
    "subset = DisulfideList(PDB_SS[0:10],'subset')"
   ]
  }
 ],
 "metadata": {
  "kernelspec": {
   "display_name": "Python 3.8.13 ('bio')",
   "language": "python",
   "name": "python3"
  },
  "language_info": {
   "codemirror_mode": {
    "name": "ipython",
    "version": 3
   },
   "file_extension": ".py",
   "mimetype": "text/x-python",
   "name": "python",
   "nbconvert_exporter": "python",
   "pygments_lexer": "ipython3",
   "version": "3.8.13"
  },
  "orig_nbformat": 4,
  "vscode": {
   "interpreter": {
    "hash": "2e049c0f63e6b330ae815ad1049a36d20686725ba1cc68cc0aadee0375e172d1"
   }
  }
 },
 "nbformat": 4,
 "nbformat_minor": 2
}
