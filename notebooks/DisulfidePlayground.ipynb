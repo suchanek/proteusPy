{
 "cells": [
  {
   "cell_type": "code",
   "execution_count": 1,
   "metadata": {},
   "outputs": [],
   "source": [
    "# DisulfideBond Playground\n",
    "# Playing with the DisulfideBond class\n",
    "# Author: Eric G. Suchanek, PhD.\n",
    "# (c) 2022 Eric G. Suchanek, PhD., All Rights Reserved\n",
    "# License: BSD\n",
    "# Last Modification: 1/16/23\n",
    "# Cα Cβ Sγ\n",
    "\n",
    "# important preamble\n",
    "\n",
    "import pandas as pd\n",
    "\n",
    "import pyvista as pv\n",
    "from pyvista import set_plot_theme\n",
    "\n",
    "from Bio.PDB import *\n",
    "\n",
    "# for using from the repo we \n",
    "from proteusPy import *\n",
    "from proteusPy.data import *\n",
    "from proteusPy.Disulfide import *\n",
    "\n",
    "\n",
    "# override any default PDB globals\n",
    "# location for PDB repository\n",
    "PDB_ROOT = '/Users/egs/PDB/'\n",
    "\n",
    "# location of cleaned PDB files - these are not stored in the repo\n",
    "PDB_GOOD = '/Users/egs/PDB/good/'\n",
    "\n",
    "# from within the repo \n",
    "PDB_REPO = '../pdb/'\n",
    "\n",
    "# location of the compressed Disulfide .pkl files\n",
    "MODELS = f'{PDB_ROOT}models/'\n",
    "\n",
    "# pyvista setup for notebooks\n",
    "pv.set_jupyter_backend('ipyvtklink')\n",
    "set_plot_theme('document')\n"
   ]
  },
  {
   "cell_type": "code",
   "execution_count": 2,
   "metadata": {},
   "outputs": [
    {
     "name": "stdout",
     "output_type": "stream",
     "text": [
      "Reading disulfides from: /Users/egs/repos/proteusPy/proteusPy/data/PDB_all_ss.pkl\n",
      "Disulfides Read: 8210\n",
      "Reading disulfide dict from: /Users/egs/repos/proteusPy/proteusPy/data/PDB_all_ss_dict.pkl\n",
      "Reading Torsion DF /Users/egs/repos/proteusPy/proteusPy/data/PDB_all_SS_torsions.csv.\n",
      "Read torsions DF.\n",
      "PDB IDs parsed: 1000\n",
      "Total Space Used: 1969317 bytes.\n"
     ]
    },
    {
     "data": {
      "text/plain": [
       "8210"
      ]
     },
     "execution_count": 2,
     "metadata": {},
     "output_type": "execute_result"
    }
   ],
   "source": [
    "# Comment these out since they take so long.\n",
    "# Download_Disulfides(pdb_home=PDB_ORIG, model_home=MODELS, reset=False)\n",
    "\n",
    "#Extract_Disulfides(numb=1000, pdbdir=PDB_GOOD, datadir=MODELS, verbose=False, quiet=False)\n",
    "\n",
    "PDB_SS = None\n",
    "PDB_SS = DisulfideLoader(verbose=True)\n",
    "\n",
    "ss_list = DisulfideList([], 'tmp')\n",
    "PDB_SS.TotalDisulfides\n"
   ]
  },
  {
   "cell_type": "code",
   "execution_count": 3,
   "metadata": {},
   "outputs": [
    {
     "data": {
      "text/plain": [
       "<Disulfide 1xr9_203A_259A SourceID: 1xr9 Proximal: 203 A Distal: 259 A>"
      ]
     },
     "execution_count": 3,
     "metadata": {},
     "output_type": "execute_result"
    }
   ],
   "source": [
    "new = DisulfideList([], 'tmp')\n",
    "sslist = PDB_SS.getlist()\n",
    "sslist.min()\n"
   ]
  },
  {
   "cell_type": "code",
   "execution_count": 4,
   "metadata": {},
   "outputs": [
    {
     "data": {
      "text/plain": [
       "<Disulfide 1zjk_629A_660A SourceID: 1zjk Proximal: 629 A Distal: 660 A>"
      ]
     },
     "execution_count": 4,
     "metadata": {},
     "output_type": "execute_result"
    }
   ],
   "source": [
    "sslist.max()"
   ]
  },
  {
   "cell_type": "code",
   "execution_count": 5,
   "metadata": {},
   "outputs": [
    {
     "name": "stdout",
     "output_type": "stream",
     "text": [
      "<Disulfide 4yys_22A_65A SourceID: 4yys Proximal: 22 A Distal: 65 A\n",
      " Proximal Chain fullID: <('4yys', 0, 'A', (' ', 22, ' '))> Distal Chain fullID: <('4yys', 0, 'A', (' ', 65, ' '))> \n",
      "Proximal Coordinates:\n",
      "   N: <Vector -2.36, -20.48, 5.21>\n",
      "   Cα: <Vector -2.10, -19.89, 3.90>\n",
      "   C: <Vector -1.12, -18.78, 4.12>\n",
      "   O: <Vector -1.30, -17.96, 5.03>\n",
      "   Cβ: <Vector -3.38, -19.31, 3.32>\n",
      "   Sγ: <Vector -3.24, -18.40, 1.76>\n",
      "   Cprev <Vector -2.67, -21.75, 5.36>\n",
      "   Nnext: <Vector -0.02, -18.76, 3.36>\n",
      " Distal Coordinates:\n",
      "   N: <Vector -0.60, -18.71, -1.62>\n",
      "   Cα: <Vector -0.48, -19.10, -0.22>\n",
      "   C: <Vector 0.92, -19.52, 0.18>\n",
      "   O: <Vector 1.10, -20.09, 1.25>\n",
      "   Cβ: <Vector -1.48, -20.23, 0.08>\n",
      "   Sγ: <Vector -3.22, -19.69, 0.18>\n",
      "   Cprev <Vector -0.73, -17.44, -2.01>\n",
      "   Nnext: <Vector 1.92, -19.18, -0.63>\n",
      "\n",
      " Proximal Internal Coords:\n",
      "   N: <Vector -0.41, 1.40, -0.00>\n",
      "   Cα: <Vector 0.00, 0.00, 0.00>\n",
      "   C: <Vector 1.50, 0.00, 0.00>\n",
      "   O: <Vector 2.12, 0.71, -0.80>\n",
      "   Cβ: <Vector -0.50, -0.70, -1.25>\n",
      "   Sγ: <Vector 0.04, -2.41, -1.50>\n",
      "   Cprev <Vector -2.67, -21.75, 5.36>\n",
      "   Nnext: <Vector -0.02, -18.76, 3.36>\n",
      " Distal Internal Coords:\n",
      "   N: <Vector 1.04, -5.63, 1.17>\n",
      "   Cα: <Vector 1.04, -4.18, 1.31>\n",
      "   C: <Vector 1.72, -3.68, 2.57>\n",
      "   O: <Vector 1.57, -2.51, 2.92>\n",
      "   Cβ: <Vector -0.41, -3.66, 1.24>\n",
      "   Sγ: <Vector -1.14, -3.69, -0.43>\n",
      "   Cprev <Vector -0.73, -17.44, -2.01>\n",
      "   Nnext: <Vector 1.92, -19.18, -0.63>\n",
      "\n",
      " Conformation: (Χ1-Χ5):  174.629°, 82.518°, -83.322°, -62.524° -73.827°  Energy: 1.696 kcal/mol\n",
      " Ca Distance: 4.502 Å>\n",
      "tot 6\n"
     ]
    }
   ],
   "source": [
    "\n",
    "# one disulfide from the database\n",
    "ss = Disulfide()\n",
    "ss = PDB_SS[0]\n",
    "ss.pprint_all()\n",
    "\n",
    "# get all disulfides for one structure. Make a \n",
    "# DisulfideList object to hold it\n",
    "ss4yys = DisulfideList([], '4yys')\n",
    "ss4yys = PDB_SS['4yys']\n",
    "\n",
    "#ss4crn = DisulfideList([], '1crn')\n",
    "#ss4crn = PDB_SS['1crn']\n",
    "\n",
    "tot_ss = len(ss4yys) # number off ssbonds\n",
    "print(f'tot {tot_ss}')\n"
   ]
  },
  {
   "cell_type": "code",
   "execution_count": null,
   "metadata": {},
   "outputs": [],
   "source": [
    "sslist = PDB_SS.SSList\n",
    "tors_df = build_torsion_df(sslist)\n",
    "tors_df.head()"
   ]
  },
  {
   "cell_type": "code",
   "execution_count": null,
   "metadata": {},
   "outputs": [],
   "source": [
    "ss6fuf = PDB_SS['6fuf']\n"
   ]
  },
  {
   "cell_type": "code",
   "execution_count": null,
   "metadata": {},
   "outputs": [],
   "source": [
    "tors = pd.DataFrame()\n",
    "tors = PDB_SS.getTorsions('')\n",
    "tors"
   ]
  },
  {
   "cell_type": "code",
   "execution_count": null,
   "metadata": {},
   "outputs": [],
   "source": [
    "ss1 = ss4yys.get_by_name('4yys_22A_65A')\n",
    "ss1"
   ]
  },
  {
   "cell_type": "code",
   "execution_count": null,
   "metadata": {},
   "outputs": [],
   "source": [
    "Check_chains('4yys', PDB_GOOD)"
   ]
  },
  {
   "cell_type": "code",
   "execution_count": null,
   "metadata": {},
   "outputs": [],
   "source": []
  },
  {
   "cell_type": "code",
   "execution_count": null,
   "metadata": {},
   "outputs": [],
   "source": [
    "ss4yys_a = ss4yys.by_chain('A')\n",
    "ss4yys_a\n"
   ]
  },
  {
   "cell_type": "code",
   "execution_count": null,
   "metadata": {},
   "outputs": [],
   "source": [
    "ss4yys_b = ss4yys.by_chain('B')\n",
    "ss4yys_b"
   ]
  },
  {
   "cell_type": "code",
   "execution_count": null,
   "metadata": {},
   "outputs": [],
   "source": [
    "ss4yys_a1 = ss4yys_a[0]\n",
    "print(ss4yys_a1.repr_ss_coords())\n"
   ]
  },
  {
   "cell_type": "code",
   "execution_count": null,
   "metadata": {},
   "outputs": [],
   "source": [
    "ss4yys_b1 = ss4yys_b[0]\n",
    "ss4yys_b1"
   ]
  },
  {
   "cell_type": "code",
   "execution_count": null,
   "metadata": {},
   "outputs": [],
   "source": [
    "Distance_RMS(ss4yys_a1, ss4yys_b1)"
   ]
  },
  {
   "cell_type": "code",
   "execution_count": null,
   "metadata": {},
   "outputs": [],
   "source": [
    "Torsion_RMS(ss4yys_a1, ss4yys_b1)"
   ]
  },
  {
   "cell_type": "code",
   "execution_count": null,
   "metadata": {},
   "outputs": [],
   "source": [
    "ss4yys_a1 == ss4yys_b1"
   ]
  },
  {
   "cell_type": "code",
   "execution_count": null,
   "metadata": {},
   "outputs": [],
   "source": [
    "chns = ss4yys.get_chains()\n",
    "ss4yys.has_chain('yyy')\n",
    "chns"
   ]
  },
  {
   "cell_type": "code",
   "execution_count": null,
   "metadata": {},
   "outputs": [],
   "source": [
    "# load SS bonds by PDB ID\n",
    "ss1 = PDB_SS['4yys']\n",
    "print(ss1)\n",
    "print(ss1[0].get_full_id())\n"
   ]
  },
  {
   "cell_type": "code",
   "execution_count": null,
   "metadata": {},
   "outputs": [],
   "source": [
    "# you can loop over the IDList list and extract by ID\n",
    "#\n",
    "for id in PDB_SS.IDList[:5]:    # just show last 5\n",
    "    # get the SS bonds for the given ID\n",
    "    ssb = PDB_SS[id]\n",
    "    numb_ss = len(ssb)\n",
    "    print(f'ID: {id} has {numb_ss} Disulfides:')\n",
    "    for bond in ssb:\n",
    "        print(bond)\n",
    "    print('\\n')\n",
    "    "
   ]
  },
  {
   "cell_type": "code",
   "execution_count": null,
   "metadata": {},
   "outputs": [],
   "source": [
    "ss_list = PDB_SS.getlist()\n",
    "ss0 = ss_list[0]\n",
    "\n",
    "print(ss0.proximal_residue_fullid)\n",
    "print(ss0.chi3)\n",
    "len(ss_list)\n"
   ]
  },
  {
   "cell_type": "code",
   "execution_count": null,
   "metadata": {},
   "outputs": [],
   "source": [
    "# routine creates 2 lists  for left-handed and right-handed disulfides \n",
    "ss_list = PDB_SS.getlist()\n",
    "left_handed = DisulfideList([], 'left_handed')\n",
    "right_handed = DisulfideList([], 'right_handed')\n",
    "\n",
    "i = 0\n",
    "\n",
    "for i in range(len(ss_list)):\n",
    "    ss = ss_list[i]\n",
    "    if ss.chi3 < 0:\n",
    "        left_handed.append(ss)\n",
    "    else:\n",
    "        right_handed.append(ss)\n",
    "\n",
    "\n",
    "print(f'Left Handed: {len(left_handed)}, Right Handed: {len(right_handed)}')\n",
    "\n"
   ]
  },
  {
   "cell_type": "code",
   "execution_count": null,
   "metadata": {},
   "outputs": [],
   "source": [
    "from proteusPy.Disulfide import Disulfide\n",
    "\n",
    "# make some empty disulfides\n",
    "ss1 = Disulfide('ss1')\n",
    "ss2 = Disulfide('ss2')\n",
    "\n",
    "# make a DisulfideList containing ss1, named 'tmp'\n",
    "sslist = DisulfideList([ss1], 'tmp')\n",
    "sslist.append(ss2)\n",
    "\n",
    "# load the PDB Disulfide database\n",
    "PDB_SS = None\n",
    "PDB_SS = DisulfideLoader(verbose=True)\n",
    "\n",
    "# extract a disulfide with typical index\n",
    "ss1 = PDB_SS[0]\n",
    "print(f'{ss1.pprint_all()}')\n",
    "\n",
    "# grab a subset via slicing\n",
    "subset = DisulfideList(PDB_SS[0:10],'subset')"
   ]
  },
  {
   "cell_type": "code",
   "execution_count": null,
   "metadata": {},
   "outputs": [],
   "source": [
    "torsions = PDB_SS.getTorsions()\n",
    "torsions.sort_values(by=['energy'], ascending=False, inplace=True)\n",
    "\n",
    "torsions.head(10)"
   ]
  },
  {
   "cell_type": "code",
   "execution_count": null,
   "metadata": {},
   "outputs": [],
   "source": [
    "idx_max = int(torsions['energy'].idxmax())\n",
    "print(f'IDMAX: {idx_max}')\n",
    "ssmax = PDB_SS[idx_max]\n",
    "ssmax"
   ]
  },
  {
   "cell_type": "code",
   "execution_count": null,
   "metadata": {},
   "outputs": [],
   "source": []
  },
  {
   "cell_type": "code",
   "execution_count": null,
   "metadata": {},
   "outputs": [],
   "source": [
    "badlist = torsions['ss_id']\n",
    "\n",
    "bad_SS_list = DisulfideList([],'20 top high energy')\n",
    "ss = Disulfide()\n",
    "\n",
    "for i in range(30):\n",
    "    ssid = torsions.iloc[i]['ss_id']\n",
    "    ss = PDB_SS.get_by_name(ssid)\n",
    "    print(f'ID: {ss.name}:{ss.energy:.2f} CA: {ss.ca_distance:.2f}')\n",
    "    bad_SS_list.append(ss)\n"
   ]
  },
  {
   "cell_type": "code",
   "execution_count": null,
   "metadata": {},
   "outputs": [],
   "source": []
  }
 ],
 "metadata": {
  "kernelspec": {
   "display_name": "Python (bio)",
   "language": "python",
   "name": "bio"
  },
  "language_info": {
   "codemirror_mode": {
    "name": "ipython",
    "version": 3
   },
   "file_extension": ".py",
   "mimetype": "text/x-python",
   "name": "python",
   "nbconvert_exporter": "python",
   "pygments_lexer": "ipython3",
   "version": "3.8.13"
  },
  "orig_nbformat": 4,
  "vscode": {
   "interpreter": {
    "hash": "2e049c0f63e6b330ae815ad1049a36d20686725ba1cc68cc0aadee0375e172d1"
   }
  }
 },
 "nbformat": 4,
 "nbformat_minor": 2
}
