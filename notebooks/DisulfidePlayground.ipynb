{
 "cells": [
  {
   "cell_type": "code",
   "execution_count": 1,
   "metadata": {},
   "outputs": [],
   "source": [
    "# DisulfideBond Playground\n",
    "# Playing with the DisulfideBond class\n",
    "# Author: Eric G. Suchanek, PhD.\n",
    "# License: BSD\n",
    "# Last Modification: 2/18/24\n",
    "# Cα N, Cα, Cβ, C', Sγ Å °\n",
    "\n",
    "import pandas as pd\n",
    "import numpy as np\n",
    "\n",
    "pd.set_option(\"display.width\", 100)\n",
    "\n",
    "import pyvista as pv\n",
    "from pyvista import set_plot_theme\n",
    "\n",
    "from proteusPy.data import *\n",
    "\n",
    "from proteusPy import (\n",
    "    Disulfide,\n",
    "    DisulfideList,\n",
    "    DisulfideLoader,\n",
    "    DisulfideClass_Constructor,\n",
    "    Load_PDB_SS,\n",
    "    DisulfideClass_Constructor,\n",
    "    generate_vector_dataframe,\n",
    ")\n",
    "\n",
    "from proteusPy.data import DATA_DIR\n",
    "\n",
    "# pyvista setup for notebooks\n",
    "pv.set_jupyter_backend(\"trame\")\n",
    "set_plot_theme(\"dark\")\n",
    "\n",
    "from plotly.subplots import make_subplots"
   ]
  },
  {
   "cell_type": "code",
   "execution_count": null,
   "metadata": {},
   "outputs": [],
   "source": [
    "# Do this to reload the extracted disulfides and rebuild the loader, save it\n",
    "# SUBSET = False\n",
    "# PDB_SS = DisulfideLoader(verbose=True, subset=SUBSET, cutoff=8.0)\n",
    "# PDB_SS.save(cutoff=8.0, subset=SUBSET)"
   ]
  },
  {
   "cell_type": "code",
   "execution_count": 2,
   "metadata": {},
   "outputs": [
    {
     "name": "stdout",
     "output_type": "stream",
     "text": [
      "-> load_PDB_SS(): Reading /Users/egs/miniforge3/envs/ppydev/lib/python3.11/site-packages/proteusPy/data/PDB_SS_ALL_LOADER.pkl... \n",
      "-> load_PDB_SS(): Done reading /Users/egs/miniforge3/envs/ppydev/lib/python3.11/site-packages/proteusPy/data/PDB_SS_ALL_LOADER.pkl... \n",
      "    =========== RCSB Disulfide Database Summary ==============\n",
      "       =========== Built: 2024-08-02 21:10:07 ==============\n",
      "PDB IDs present:                    37183\n",
      "Disulfides loaded:                  175803\n",
      "Average structure resolution:       2.07 Å\n",
      "Lowest Energy Disulfide:            2q7q_75D_140D\n",
      "Highest Energy Disulfide:           6vxk_801B_806B\n",
      "Cα distance cutoff:                 -1.00 Å\n",
      "Total RAM Used:                     44.39 GB.\n",
      "    ================= proteusPy: 0.97.0dev5 =======================\n"
     ]
    }
   ],
   "source": [
    "PDB_SS = Load_PDB_SS(verbose=True, subset=False)\n",
    "\n",
    "if PDB_SS is not None:\n",
    "    PDB_SS.describe()"
   ]
  },
  {
   "cell_type": "markdown",
   "metadata": {},
   "source": []
  },
  {
   "cell_type": "code",
   "execution_count": 3,
   "metadata": {},
   "outputs": [
    {
     "name": "stdout",
     "output_type": "stream",
     "text": [
      "<Disulfide 4lb7_2D_30D, Source: 4lb7, Resolution: 1.0 Å \n",
      "Χ1-Χ5: -47.25°, -119.53°, 112.66°, -85.34° -51.07°, 175.57°, 5.60 kcal/mol \n",
      "Cα Distance: 4.47 Å \n",
      "Torsion length: 197.74 deg>\n",
      "<Disulfide 2qhe_61A_91A, Source: 2qhe, Resolution: 2.0 Å \n",
      "Χ1-Χ5: -47.78°, -66.88°, -85.05°, -66.32° -75.83°, -46.07°, 1.66 kcal/mol \n",
      "Cα Distance: 5.70 Å \n",
      "Torsion length: 155.36 deg>\n",
      "<Disulfide 3jad_214A_225A, Source: 3jad, Resolution: 3.0 Å \n",
      "Χ1-Χ5: 55.07°, 77.88°, -152.09°, 74.65° 59.39°, 102.75°, 6.76 kcal/mol \n",
      "Cα Distance: 5.09 Å \n",
      "Torsion length: 203.29 deg>\n"
     ]
    }
   ],
   "source": [
    "# 1mfe_137L_196L\n",
    "ss1 = PDB_SS[\"4lb7_2D_30D\"]  # -!*--\n",
    "ss1.pprint()\n",
    "ss2 = PDB_SS[\"2qhe_61A_91A\"]\n",
    "ss2.pprint()\n",
    "ss3 = PDB_SS[\"3jad_214A_225A\"]  # ++!++\n",
    "ss3.pprint()"
   ]
  },
  {
   "cell_type": "code",
   "execution_count": 4,
   "metadata": {},
   "outputs": [
    {
     "data": {
      "text/html": [
       "<div>\n",
       "<style scoped>\n",
       "    .dataframe tbody tr th:only-of-type {\n",
       "        vertical-align: middle;\n",
       "    }\n",
       "\n",
       "    .dataframe tbody tr th {\n",
       "        vertical-align: top;\n",
       "    }\n",
       "\n",
       "    .dataframe thead th {\n",
       "        text-align: right;\n",
       "    }\n",
       "</style>\n",
       "<table border=\"1\" class=\"dataframe\">\n",
       "  <thead>\n",
       "    <tr style=\"text-align: right;\">\n",
       "      <th></th>\n",
       "      <th>chi1</th>\n",
       "      <th>chi2</th>\n",
       "      <th>chi3</th>\n",
       "      <th>chi4</th>\n",
       "      <th>chi5</th>\n",
       "    </tr>\n",
       "  </thead>\n",
       "  <tbody>\n",
       "    <tr>\n",
       "      <th>0</th>\n",
       "      <td>-</td>\n",
       "      <td>-</td>\n",
       "      <td>-</td>\n",
       "      <td>-</td>\n",
       "      <td>-</td>\n",
       "    </tr>\n",
       "    <tr>\n",
       "      <th>1</th>\n",
       "      <td>-</td>\n",
       "      <td>-</td>\n",
       "      <td>-</td>\n",
       "      <td>-</td>\n",
       "      <td>+</td>\n",
       "    </tr>\n",
       "    <tr>\n",
       "      <th>2</th>\n",
       "      <td>-</td>\n",
       "      <td>-</td>\n",
       "      <td>-</td>\n",
       "      <td>-</td>\n",
       "      <td>*</td>\n",
       "    </tr>\n",
       "    <tr>\n",
       "      <th>3</th>\n",
       "      <td>-</td>\n",
       "      <td>-</td>\n",
       "      <td>-</td>\n",
       "      <td>+</td>\n",
       "      <td>-</td>\n",
       "    </tr>\n",
       "    <tr>\n",
       "      <th>4</th>\n",
       "      <td>-</td>\n",
       "      <td>-</td>\n",
       "      <td>-</td>\n",
       "      <td>+</td>\n",
       "      <td>+</td>\n",
       "    </tr>\n",
       "    <tr>\n",
       "      <th>...</th>\n",
       "      <td>...</td>\n",
       "      <td>...</td>\n",
       "      <td>...</td>\n",
       "      <td>...</td>\n",
       "      <td>...</td>\n",
       "    </tr>\n",
       "    <tr>\n",
       "      <th>59</th>\n",
       "      <td>-</td>\n",
       "      <td>*</td>\n",
       "      <td>-</td>\n",
       "      <td>+</td>\n",
       "      <td>*</td>\n",
       "    </tr>\n",
       "    <tr>\n",
       "      <th>60</th>\n",
       "      <td>-</td>\n",
       "      <td>*</td>\n",
       "      <td>-</td>\n",
       "      <td>*</td>\n",
       "      <td>-</td>\n",
       "    </tr>\n",
       "    <tr>\n",
       "      <th>61</th>\n",
       "      <td>-</td>\n",
       "      <td>*</td>\n",
       "      <td>-</td>\n",
       "      <td>*</td>\n",
       "      <td>+</td>\n",
       "    </tr>\n",
       "    <tr>\n",
       "      <th>62</th>\n",
       "      <td>-</td>\n",
       "      <td>*</td>\n",
       "      <td>-</td>\n",
       "      <td>*</td>\n",
       "      <td>*</td>\n",
       "    </tr>\n",
       "    <tr>\n",
       "      <th>63</th>\n",
       "      <td>-</td>\n",
       "      <td>*</td>\n",
       "      <td>+</td>\n",
       "      <td>-</td>\n",
       "      <td>-</td>\n",
       "    </tr>\n",
       "  </tbody>\n",
       "</table>\n",
       "<p>64 rows × 5 columns</p>\n",
       "</div>"
      ],
      "text/plain": [
       "   chi1 chi2 chi3 chi4 chi5\n",
       "0     -    -    -    -    -\n",
       "1     -    -    -    -    +\n",
       "2     -    -    -    -    *\n",
       "3     -    -    -    +    -\n",
       "4     -    -    -    +    +\n",
       "..  ...  ...  ...  ...  ...\n",
       "59    -    *    -    +    *\n",
       "60    -    *    -    *    -\n",
       "61    -    *    -    *    +\n",
       "62    -    *    -    *    *\n",
       "63    -    *    +    -    -\n",
       "\n",
       "[64 rows x 5 columns]"
      ]
     },
     "execution_count": 4,
     "metadata": {},
     "output_type": "execute_result"
    }
   ],
   "source": [
    "from proteusPy.utility import generate_vector_dataframe\n",
    "\n",
    "trinary = generate_vector_dataframe(base=3)\n",
    "trinary.head(64)"
   ]
  },
  {
   "cell_type": "code",
   "execution_count": 5,
   "metadata": {},
   "outputs": [
    {
     "data": {
      "text/html": [
       "<div>\n",
       "<style scoped>\n",
       "    .dataframe tbody tr th:only-of-type {\n",
       "        vertical-align: middle;\n",
       "    }\n",
       "\n",
       "    .dataframe tbody tr th {\n",
       "        vertical-align: top;\n",
       "    }\n",
       "\n",
       "    .dataframe thead th {\n",
       "        text-align: right;\n",
       "    }\n",
       "</style>\n",
       "<table border=\"1\" class=\"dataframe\">\n",
       "  <thead>\n",
       "    <tr style=\"text-align: right;\">\n",
       "      <th></th>\n",
       "      <th>chi1</th>\n",
       "      <th>chi2</th>\n",
       "      <th>chi3</th>\n",
       "      <th>chi4</th>\n",
       "      <th>chi5</th>\n",
       "    </tr>\n",
       "  </thead>\n",
       "  <tbody>\n",
       "    <tr>\n",
       "      <th>0</th>\n",
       "      <td>-</td>\n",
       "      <td>-</td>\n",
       "      <td>-</td>\n",
       "      <td>-</td>\n",
       "      <td>-</td>\n",
       "    </tr>\n",
       "    <tr>\n",
       "      <th>1</th>\n",
       "      <td>-</td>\n",
       "      <td>-</td>\n",
       "      <td>-</td>\n",
       "      <td>-</td>\n",
       "      <td>+</td>\n",
       "    </tr>\n",
       "    <tr>\n",
       "      <th>2</th>\n",
       "      <td>-</td>\n",
       "      <td>-</td>\n",
       "      <td>-</td>\n",
       "      <td>-</td>\n",
       "      <td>*</td>\n",
       "    </tr>\n",
       "    <tr>\n",
       "      <th>3</th>\n",
       "      <td>-</td>\n",
       "      <td>-</td>\n",
       "      <td>-</td>\n",
       "      <td>-</td>\n",
       "      <td>@</td>\n",
       "    </tr>\n",
       "    <tr>\n",
       "      <th>4</th>\n",
       "      <td>-</td>\n",
       "      <td>-</td>\n",
       "      <td>-</td>\n",
       "      <td>+</td>\n",
       "      <td>-</td>\n",
       "    </tr>\n",
       "    <tr>\n",
       "      <th>...</th>\n",
       "      <td>...</td>\n",
       "      <td>...</td>\n",
       "      <td>...</td>\n",
       "      <td>...</td>\n",
       "      <td>...</td>\n",
       "    </tr>\n",
       "    <tr>\n",
       "      <th>123</th>\n",
       "      <td>-</td>\n",
       "      <td>+</td>\n",
       "      <td>@</td>\n",
       "      <td>*</td>\n",
       "      <td>@</td>\n",
       "    </tr>\n",
       "    <tr>\n",
       "      <th>124</th>\n",
       "      <td>-</td>\n",
       "      <td>+</td>\n",
       "      <td>@</td>\n",
       "      <td>@</td>\n",
       "      <td>-</td>\n",
       "    </tr>\n",
       "    <tr>\n",
       "      <th>125</th>\n",
       "      <td>-</td>\n",
       "      <td>+</td>\n",
       "      <td>@</td>\n",
       "      <td>@</td>\n",
       "      <td>+</td>\n",
       "    </tr>\n",
       "    <tr>\n",
       "      <th>126</th>\n",
       "      <td>-</td>\n",
       "      <td>+</td>\n",
       "      <td>@</td>\n",
       "      <td>@</td>\n",
       "      <td>*</td>\n",
       "    </tr>\n",
       "    <tr>\n",
       "      <th>127</th>\n",
       "      <td>-</td>\n",
       "      <td>+</td>\n",
       "      <td>@</td>\n",
       "      <td>@</td>\n",
       "      <td>@</td>\n",
       "    </tr>\n",
       "  </tbody>\n",
       "</table>\n",
       "<p>128 rows × 5 columns</p>\n",
       "</div>"
      ],
      "text/plain": [
       "    chi1 chi2 chi3 chi4 chi5\n",
       "0      -    -    -    -    -\n",
       "1      -    -    -    -    +\n",
       "2      -    -    -    -    *\n",
       "3      -    -    -    -    @\n",
       "4      -    -    -    +    -\n",
       "..   ...  ...  ...  ...  ...\n",
       "123    -    +    @    *    @\n",
       "124    -    +    @    @    -\n",
       "125    -    +    @    @    +\n",
       "126    -    +    @    @    *\n",
       "127    -    +    @    @    @\n",
       "\n",
       "[128 rows x 5 columns]"
      ]
     },
     "execution_count": 5,
     "metadata": {},
     "output_type": "execute_result"
    }
   ],
   "source": [
    "quart = generate_vector_dataframe(base=4)\n",
    "quart.head(128)"
   ]
  },
  {
   "cell_type": "code",
   "execution_count": 6,
   "metadata": {},
   "outputs": [
    {
     "data": {
      "text/html": [
       "<div>\n",
       "<style scoped>\n",
       "    .dataframe tbody tr th:only-of-type {\n",
       "        vertical-align: middle;\n",
       "    }\n",
       "\n",
       "    .dataframe tbody tr th {\n",
       "        vertical-align: top;\n",
       "    }\n",
       "\n",
       "    .dataframe thead th {\n",
       "        text-align: right;\n",
       "    }\n",
       "</style>\n",
       "<table border=\"1\" class=\"dataframe\">\n",
       "  <thead>\n",
       "    <tr style=\"text-align: right;\">\n",
       "      <th></th>\n",
       "      <th>proximal</th>\n",
       "      <th>distal</th>\n",
       "      <th>chi1</th>\n",
       "      <th>chi2</th>\n",
       "      <th>chi3</th>\n",
       "      <th>chi4</th>\n",
       "      <th>chi5</th>\n",
       "      <th>energy</th>\n",
       "      <th>ca_distance</th>\n",
       "      <th>cb_distance</th>\n",
       "      <th>phi_prox</th>\n",
       "      <th>psi_prox</th>\n",
       "      <th>phi_dist</th>\n",
       "      <th>psi_dist</th>\n",
       "      <th>torsion_length</th>\n",
       "      <th>rho</th>\n",
       "    </tr>\n",
       "  </thead>\n",
       "  <tbody>\n",
       "    <tr>\n",
       "      <th>count</th>\n",
       "      <td>175803.000000</td>\n",
       "      <td>175803.000000</td>\n",
       "      <td>175803.000000</td>\n",
       "      <td>175803.000000</td>\n",
       "      <td>175803.000000</td>\n",
       "      <td>175803.000000</td>\n",
       "      <td>175803.000000</td>\n",
       "      <td>175803.000000</td>\n",
       "      <td>175803.000000</td>\n",
       "      <td>175803.000000</td>\n",
       "      <td>175803.0</td>\n",
       "      <td>175803.0</td>\n",
       "      <td>175803.0</td>\n",
       "      <td>175803.0</td>\n",
       "      <td>175803.000000</td>\n",
       "      <td>175803.000000</td>\n",
       "    </tr>\n",
       "    <tr>\n",
       "      <th>mean</th>\n",
       "      <td>228.403685</td>\n",
       "      <td>276.162483</td>\n",
       "      <td>-45.290470</td>\n",
       "      <td>-5.704312</td>\n",
       "      <td>-4.211264</td>\n",
       "      <td>-23.018728</td>\n",
       "      <td>-30.414271</td>\n",
       "      <td>3.740453</td>\n",
       "      <td>5.721303</td>\n",
       "      <td>3.969993</td>\n",
       "      <td>-180.0</td>\n",
       "      <td>-180.0</td>\n",
       "      <td>-180.0</td>\n",
       "      <td>-180.0</td>\n",
       "      <td>232.944114</td>\n",
       "      <td>-26.704043</td>\n",
       "    </tr>\n",
       "    <tr>\n",
       "      <th>std</th>\n",
       "      <td>324.073651</td>\n",
       "      <td>327.718616</td>\n",
       "      <td>104.232793</td>\n",
       "      <td>108.923741</td>\n",
       "      <td>94.103268</td>\n",
       "      <td>111.353289</td>\n",
       "      <td>99.640017</td>\n",
       "      <td>2.498559</td>\n",
       "      <td>2.467271</td>\n",
       "      <td>2.672237</td>\n",
       "      <td>0.0</td>\n",
       "      <td>0.0</td>\n",
       "      <td>0.0</td>\n",
       "      <td>0.0</td>\n",
       "      <td>56.613700</td>\n",
       "      <td>107.651149</td>\n",
       "    </tr>\n",
       "    <tr>\n",
       "      <th>min</th>\n",
       "      <td>-86.000000</td>\n",
       "      <td>-62.000000</td>\n",
       "      <td>-179.999869</td>\n",
       "      <td>-179.999596</td>\n",
       "      <td>-179.981757</td>\n",
       "      <td>-179.999698</td>\n",
       "      <td>-179.999497</td>\n",
       "      <td>0.491737</td>\n",
       "      <td>0.000000</td>\n",
       "      <td>0.000000</td>\n",
       "      <td>-180.0</td>\n",
       "      <td>-180.0</td>\n",
       "      <td>-180.0</td>\n",
       "      <td>-180.0</td>\n",
       "      <td>77.516159</td>\n",
       "      <td>-179.997699</td>\n",
       "    </tr>\n",
       "    <tr>\n",
       "      <th>25%</th>\n",
       "      <td>42.000000</td>\n",
       "      <td>94.000000</td>\n",
       "      <td>-92.787497</td>\n",
       "      <td>-87.484379</td>\n",
       "      <td>-88.009322</td>\n",
       "      <td>-97.098004</td>\n",
       "      <td>-75.027621</td>\n",
       "      <td>1.970668</td>\n",
       "      <td>5.159570</td>\n",
       "      <td>3.688566</td>\n",
       "      <td>-180.0</td>\n",
       "      <td>-180.0</td>\n",
       "      <td>-180.0</td>\n",
       "      <td>-180.0</td>\n",
       "      <td>185.218153</td>\n",
       "      <td>-94.251849</td>\n",
       "    </tr>\n",
       "    <tr>\n",
       "      <th>50%</th>\n",
       "      <td>134.000000</td>\n",
       "      <td>188.000000</td>\n",
       "      <td>-64.312647</td>\n",
       "      <td>-54.602890</td>\n",
       "      <td>-65.048754</td>\n",
       "      <td>-66.352451</td>\n",
       "      <td>-59.686045</td>\n",
       "      <td>3.191229</td>\n",
       "      <td>5.714850</td>\n",
       "      <td>3.846219</td>\n",
       "      <td>-180.0</td>\n",
       "      <td>-180.0</td>\n",
       "      <td>-180.0</td>\n",
       "      <td>-180.0</td>\n",
       "      <td>231.988160</td>\n",
       "      <td>-59.410453</td>\n",
       "    </tr>\n",
       "    <tr>\n",
       "      <th>75%</th>\n",
       "      <td>293.000000</td>\n",
       "      <td>346.000000</td>\n",
       "      <td>-38.686988</td>\n",
       "      <td>96.004191</td>\n",
       "      <td>92.805726</td>\n",
       "      <td>82.462424</td>\n",
       "      <td>56.376156</td>\n",
       "      <td>4.599670</td>\n",
       "      <td>6.269686</td>\n",
       "      <td>4.025796</td>\n",
       "      <td>-180.0</td>\n",
       "      <td>-180.0</td>\n",
       "      <td>-180.0</td>\n",
       "      <td>-180.0</td>\n",
       "      <td>272.324313</td>\n",
       "      <td>53.762581</td>\n",
       "    </tr>\n",
       "    <tr>\n",
       "      <th>max</th>\n",
       "      <td>8025.000000</td>\n",
       "      <td>9004.000000</td>\n",
       "      <td>179.999973</td>\n",
       "      <td>179.998744</td>\n",
       "      <td>179.994824</td>\n",
       "      <td>179.999995</td>\n",
       "      <td>179.999702</td>\n",
       "      <td>19.426512</td>\n",
       "      <td>205.843810</td>\n",
       "      <td>337.252323</td>\n",
       "      <td>-180.0</td>\n",
       "      <td>-180.0</td>\n",
       "      <td>-180.0</td>\n",
       "      <td>-180.0</td>\n",
       "      <td>383.768927</td>\n",
       "      <td>179.998397</td>\n",
       "    </tr>\n",
       "  </tbody>\n",
       "</table>\n",
       "</div>"
      ],
      "text/plain": [
       "            proximal         distal  ...  torsion_length            rho\n",
       "count  175803.000000  175803.000000  ...   175803.000000  175803.000000\n",
       "mean      228.403685     276.162483  ...      232.944114     -26.704043\n",
       "std       324.073651     327.718616  ...       56.613700     107.651149\n",
       "min       -86.000000     -62.000000  ...       77.516159    -179.997699\n",
       "25%        42.000000      94.000000  ...      185.218153     -94.251849\n",
       "50%       134.000000     188.000000  ...      231.988160     -59.410453\n",
       "75%       293.000000     346.000000  ...      272.324313      53.762581\n",
       "max      8025.000000    9004.000000  ...      383.768927     179.998397\n",
       "\n",
       "[8 rows x 16 columns]"
      ]
     },
     "execution_count": 6,
     "metadata": {},
     "output_type": "execute_result"
    }
   ],
   "source": [
    "all_tors_df = PDB_SS.TorsionDF\n",
    "all_tors_df.describe()"
   ]
  },
  {
   "cell_type": "code",
   "execution_count": 7,
   "metadata": {},
   "outputs": [
    {
     "name": "stdout",
     "output_type": "stream",
     "text": [
      "-> load_PDB_SS(): Reading /Users/egs/miniforge3/envs/ppydev/lib/python3.11/site-packages/proteusPy/data/PDB_SS_ALL_LOADER.pkl... \n",
      "-> load_PDB_SS(): Done reading /Users/egs/miniforge3/envs/ppydev/lib/python3.11/site-packages/proteusPy/data/PDB_SS_ALL_LOADER.pkl... \n"
     ]
    },
    {
     "ename": "AttributeError",
     "evalue": "'DisulfideLoader' object has no attribute 'classdict'",
     "output_type": "error",
     "traceback": [
      "\u001b[0;31m---------------------------------------------------------------------------\u001b[0m",
      "\u001b[0;31mAttributeError\u001b[0m                            Traceback (most recent call last)",
      "Cell \u001b[0;32mIn[7], line 68\u001b[0m\n\u001b[1;32m     64\u001b[0m     \u001b[38;5;28;01mreturn\u001b[39;00m res_list\n\u001b[1;32m     67\u001b[0m avg_ss_list \u001b[38;5;241m=\u001b[39m DisulfideList([], \u001b[38;5;124m\"\u001b[39m\u001b[38;5;124mSS_Class_Consensus\u001b[39m\u001b[38;5;124m\"\u001b[39m)\n\u001b[0;32m---> 68\u001b[0m avg_ss_list \u001b[38;5;241m=\u001b[39m \u001b[43manalyze_classes\u001b[49m\u001b[43m(\u001b[49m\u001b[43mPDB_SS\u001b[49m\u001b[43m)\u001b[49m\n\u001b[1;32m     71\u001b[0m end \u001b[38;5;241m=\u001b[39m time\u001b[38;5;241m.\u001b[39mtime()\n\u001b[1;32m     72\u001b[0m elapsed \u001b[38;5;241m=\u001b[39m end \u001b[38;5;241m-\u001b[39m start\n",
      "Cell \u001b[0;32mIn[7], line 15\u001b[0m, in \u001b[0;36manalyze_classes\u001b[0;34m(loader)\u001b[0m\n\u001b[1;32m     14\u001b[0m \u001b[38;5;28;01mdef\u001b[39;00m \u001b[38;5;21manalyze_classes\u001b[39m(loader: DisulfideLoader) \u001b[38;5;241m-\u001b[39m\u001b[38;5;241m>\u001b[39m DisulfideList:\n\u001b[0;32m---> 15\u001b[0m     classes \u001b[38;5;241m=\u001b[39m \u001b[43mloader\u001b[49m\u001b[38;5;241;43m.\u001b[39;49m\u001b[43mclassdict\u001b[49m\n\u001b[1;32m     16\u001b[0m     tot_classes \u001b[38;5;241m=\u001b[39m \u001b[38;5;28mlen\u001b[39m(classes)\n\u001b[1;32m     17\u001b[0m     res_list \u001b[38;5;241m=\u001b[39m DisulfideList([], \u001b[38;5;124m\"\u001b[39m\u001b[38;5;124mSS_Class_Avg_SS\u001b[39m\u001b[38;5;124m\"\u001b[39m)\n",
      "\u001b[0;31mAttributeError\u001b[0m: 'DisulfideLoader' object has no attribute 'classdict'"
     ]
    }
   ],
   "source": [
    "import time\n",
    "\n",
    "start = time.time()\n",
    "\n",
    "# pyvista setup for notebooks\n",
    "pv.set_jupyter_backend(\"trame\")\n",
    "set_plot_theme(\"dark\")\n",
    "\n",
    "PDB_SS = Load_PDB_SS(verbose=True, subset=False)\n",
    "\n",
    "_PBAR_COLS = 80\n",
    "\n",
    "\n",
    "def analyze_classes(loader: DisulfideLoader) -> DisulfideList:\n",
    "    classes = loader.classdict\n",
    "    tot_classes = len(classes)\n",
    "    res_list = DisulfideList([], \"SS_Class_Avg_SS\")\n",
    "\n",
    "    pbar = enumerate(classes)\n",
    "    for idx, cls in pbar:\n",
    "        print(f\"--> analyze_classes(): {cls} {idx+1}/{tot_classes}\")\n",
    "        class_ss_list = loader.from_class(cls)\n",
    "        fname = f\"./classes/ss_class_{idx}.png\"\n",
    "        class_ss_list.TorsionGraph(display=False, save=True, fname=fname)\n",
    "        fname2 = f\"./classes/ss_consensus_{idx}.png\"\n",
    "        avg_conformation = class_ss_list.Average_Conformation\n",
    "        ssname = f\"{cls}_avg\"\n",
    "        exemplar = Disulfide(ssname)\n",
    "        exemplar.build_model(\n",
    "            avg_conformation[0],\n",
    "            avg_conformation[1],\n",
    "            avg_conformation[2],\n",
    "            avg_conformation[3],\n",
    "            avg_conformation[4],\n",
    "        )\n",
    "        res_list.append(exemplar)\n",
    "    return res_list\n",
    "\n",
    "\n",
    "def build_consensus_list(loader: DisulfideLoader) -> DisulfideList:\n",
    "    classes = loader.classdict\n",
    "    tot_classes = len(classes)\n",
    "    res_list = DisulfideList([], \"SS_Classes\")\n",
    "\n",
    "    pbar = enumerate(classes)\n",
    "    for idx, cls in pbar:\n",
    "        print(f\"--> build_consensus_list(): {cls} {idx+1}/{tot_classes}\")\n",
    "        class_ss_list = loader.from_class(cls)\n",
    "        fname2 = f\"./classes/ss_consensus_{idx}.png\"\n",
    "\n",
    "        # compute and build a consensus 'average' conformation\n",
    "        avg_conformation = class_ss_list.Average_Conformation\n",
    "        ssname = f\"{cls}_avg\"\n",
    "        exemplar = Disulfide(ssname)\n",
    "        exemplar.build_model(\n",
    "            avg_conformation[0],\n",
    "            avg_conformation[1],\n",
    "            avg_conformation[2],\n",
    "            avg_conformation[3],\n",
    "            avg_conformation[4],\n",
    "        )\n",
    "        res_list.append(exemplar)\n",
    "\n",
    "    return res_list\n",
    "\n",
    "\n",
    "avg_ss_list = DisulfideList([], \"SS_Class_Consensus\")\n",
    "avg_ss_list = analyze_classes(PDB_SS)\n",
    "\n",
    "\n",
    "end = time.time()\n",
    "elapsed = end - start"
   ]
  },
  {
   "cell_type": "code",
   "execution_count": null,
   "metadata": {},
   "outputs": [],
   "source": [
    "avg_ss_list.display(style=\"sb\", light=True)"
   ]
  },
  {
   "cell_type": "code",
   "execution_count": null,
   "metadata": {},
   "outputs": [],
   "source": [
    "tors_df = PDB_SS.getTorsions()\n",
    "tors_df.describe()"
   ]
  },
  {
   "cell_type": "code",
   "execution_count": null,
   "metadata": {},
   "outputs": [],
   "source": [
    "ss1 = Disulfide(\"bogus\")\n",
    "ss1.build_model(-60, -60, -84, -60, -60)\n",
    "ss1.pprint()"
   ]
  },
  {
   "cell_type": "code",
   "execution_count": null,
   "metadata": {},
   "outputs": [],
   "source": [
    "PDB_SS[\"2q7q_75D_140D\"]"
   ]
  },
  {
   "cell_type": "code",
   "execution_count": null,
   "metadata": {},
   "outputs": [],
   "source": [
    "PDB_SS2 = Load_PDB_SS(subset=True, verbose=True)\n",
    "# PDB_SS.describe()"
   ]
  },
  {
   "cell_type": "code",
   "execution_count": 1,
   "metadata": {},
   "outputs": [
    {
     "ename": "ModuleNotFoundError",
     "evalue": "No module named 'py3Dmol'",
     "output_type": "error",
     "traceback": [
      "\u001b[0;31m---------------------------------------------------------------------------\u001b[0m",
      "\u001b[0;31mModuleNotFoundError\u001b[0m                       Traceback (most recent call last)",
      "Cell \u001b[0;32mIn[1], line 1\u001b[0m\n\u001b[0;32m----> 1\u001b[0m \u001b[38;5;28;01mimport\u001b[39;00m \u001b[38;5;21;01mpy3Dmol\u001b[39;00m\n\u001b[1;32m      2\u001b[0m \u001b[38;5;28;01mimport\u001b[39;00m \u001b[38;5;21;01murllib\u001b[39;00m\u001b[38;5;21;01m.\u001b[39;00m\u001b[38;5;21;01mrequest\u001b[39;00m\n\u001b[1;32m      4\u001b[0m \u001b[38;5;28;01mimport\u001b[39;00m \u001b[38;5;21;01mpy3Dmol\u001b[39;00m\n",
      "\u001b[0;31mModuleNotFoundError\u001b[0m: No module named 'py3Dmol'"
     ]
    }
   ],
   "source": [
    "import py3Dmol\n",
    "import urllib.request\n",
    "\n",
    "import py3Dmol\n",
    "import urllib.request\n",
    "\n",
    "\n",
    "def Odisplay_pdb_structure():\n",
    "    # download PDB structure 3q7q\n",
    "    pdb_url = \"https://files.rcsb.org/download/2q7q.pdb\"\n",
    "    pdb_data = urllib.request.urlopen(pdb_url).read().decode(\"utf-8\")\n",
    "\n",
    "    # create viewer object\n",
    "    viewer = py3Dmol.view(width=1024, height=1024)\n",
    "\n",
    "    # add PDB data to viewer\n",
    "    viewer.addModel(pdb_data, \"pdb\")\n",
    "\n",
    "    # select residues 75 and 150 from chain 'D'\n",
    "    sel_str = \":D and (resi 75 or resi 140)\"\n",
    "    # viewer.setStyle({'resi': [75, 140], 'chain': 'D'}, {'stick': {'color': 'green', 'radius': 0.6}, 'sphere': {'color': 'green', 'radius': 1}}, sel_str)\n",
    "    viewer.setStyle(sel_str, {\"sphere\": {\"scale\": 0.5}, \"color\": \"element\"})\n",
    "\n",
    "    # display all other residues as a ribbon colored by chain\n",
    "    viewer.setStyle({}, {\"cartoon\": {\"color\": \"spectrum\"}})\n",
    "\n",
    "    # center and zoom to selection\n",
    "    viewer.zoomTo({\"sel\": sel_str})\n",
    "\n",
    "    # show viewer\n",
    "    return viewer.show()\n",
    "\n",
    "\n",
    "import urllib.request\n",
    "import py3Dmol\n",
    "\n",
    "\n",
    "def oodisplay_pdb_structure():\n",
    "    # Download PDB structure 2q7q\n",
    "    pdb_url = \"https://files.rcsb.org/download/2q7q.pdb\"\n",
    "    pdb_file = urllib.request.urlopen(pdb_url).read().decode(\"utf-8\")\n",
    "\n",
    "    # Initialize viewer\n",
    "    view = py3Dmol.view(width=800, height=600)\n",
    "\n",
    "    # Select residues 75 and 140 from chain D\n",
    "    selection = \"(resid 81 or resid 113)\"\n",
    "\n",
    "    # Add selected atoms as spheres scaled by atom radius and colored by atom type\n",
    "    view.addModel(pdb_file, \"pdb\")\n",
    "    view.setStyle(selection, {\"sphere\": {\"scale\": 0.5}, \"color\": \"element\"})\n",
    "\n",
    "    # Display all other residues as a ribbon colored by secondary structure\n",
    "    view.setStyle(\"not \" + selection, {\"cartoon\": {\"color\": \"spectrum\"}})\n",
    "\n",
    "    # Set camera and render the viewer\n",
    "    view.zoomTo(selection)\n",
    "    view.render()\n",
    "\n",
    "\n",
    "import py3Dmol\n",
    "import requests\n",
    "\n",
    "\n",
    "def display_pdb_structure():\n",
    "    # Download PDB structure 2q7q\n",
    "    pdb_id = \"2q7q\"\n",
    "    pdb_url = f\"https://files.rcsb.org/download/{pdb_id}.pdb\"\n",
    "    pdb_file = requests.get(pdb_url).text\n",
    "\n",
    "    # Initialize viewer\n",
    "    view = py3Dmol.view(width=800, height=600)\n",
    "\n",
    "    # Select residues 75 and 140 from chain D\n",
    "    selection = {\"chain\": \"D\", \"resi\": \"75, 140\"}\n",
    "\n",
    "    # Add selected atoms as spheres scaled by atom radius and colored by atom type\n",
    "    view.addModel(pdb_file, \"pdb\")\n",
    "    view.setStyle(selection, {\"sphere\": {\"scale\": 0.5}, \"color\": \"element\"})\n",
    "\n",
    "    # Display all other residues as a ribbon colored by secondary structure\n",
    "    view.setStyle({}, {\"cartoon\": {\"color\": \"spectrum\"}})\n",
    "\n",
    "    # Set camera and render the viewer\n",
    "    view.zoomTo(selection)\n",
    "    view.render()\n",
    "\n",
    "\n",
    "import requests\n",
    "import py3Dmol\n",
    "\n",
    "\n",
    "def odisplay_cys_residues():\n",
    "    # Download PDB structure 2q7q\n",
    "    pdb_id = \"2q7q\"\n",
    "    pdb_url = f\"https://files.rcsb.org/download/{pdb_id}.pdb\"\n",
    "    pdb_file = requests.get(pdb_url).text\n",
    "\n",
    "    # Initialize viewer\n",
    "    view = py3Dmol.view(width=800, height=800)\n",
    "\n",
    "    # Select all Cys residues\n",
    "    selection = {\"resn\": \"CYS\"}\n",
    "\n",
    "    # Add selected atoms as spheres scaled by atom radius and colored green\n",
    "    view.addModel(pdb_file, \"pdb\")\n",
    "    view.setStyle(selection, {\"sphere\": {\"scale\": 0.5}, \"color\": \"green\"})\n",
    "\n",
    "    # Set camera and render the viewer\n",
    "    view.zoomTo(selection)\n",
    "    view.render()\n",
    "\n",
    "\n",
    "import requests\n",
    "import py3Dmol\n",
    "\n",
    "\n",
    "def display_cys_residues():\n",
    "    # Download PDB structure 2q7q\n",
    "    pdb_id = \"2q7q\"\n",
    "    pdb_url = f\"https://files.rcsb.org/download/{pdb_id}.pdb\"\n",
    "    pdb_file = requests.get(pdb_url).text\n",
    "\n",
    "    # Initialize viewer\n",
    "    view = py3Dmol.view(width=800, height=600)\n",
    "\n",
    "    # Add protein backbone as ribbon\n",
    "    view.addModel(pdb_file, \"pdb\")\n",
    "    view.setStyle({\"cartoon\": {\"color\": \"spectrum\"}})\n",
    "\n",
    "    # Select all Cys residues and display as green spheres\n",
    "    selection = {\"resn\": \"CYS\"}\n",
    "    view.addStyle(selection, {\"sphere\": {\"color\": \"green\", \"radius\": 0.3}})\n",
    "\n",
    "    # Set camera and render the viewer\n",
    "    view.zoomTo(selection)\n",
    "    view.render()\n",
    "\n",
    "\n",
    "import requests\n",
    "import py3Dmol\n",
    "\n",
    "\n",
    "def display_cys_and_ss_bonds():\n",
    "    # Download PDB structure 2q7q\n",
    "    pdb_id = \"2q7q\"\n",
    "    pdb_url = f\"https://files.rcsb.org/download/{pdb_id}.pdb\"\n",
    "    pdb_file = requests.get(pdb_url).text\n",
    "\n",
    "    # Initialize viewer\n",
    "    view = py3Dmol.view(width=800, height=800)\n",
    "\n",
    "    # Add protein as sticks\n",
    "    view.addModel(pdb_file, \"pdb\")\n",
    "    # view.setStyle({'stick': {}})\n",
    "\n",
    "    # Select all Cys residues and SSBOND bonds and display as green sticks\n",
    "    cys_selection = {\"resn\": \"CYS\"}\n",
    "    ssbond_selection = {\"ss\": \"disulf\"}\n",
    "    view.addStyle(\n",
    "        cys_selection, {\"stick\": {\"colorscheme\": \"greenCarbon\", \"radius\": 0.2}}\n",
    "    )\n",
    "    view.addStyle(\n",
    "        ssbond_selection,\n",
    "        {\"stick\": {\"colorscheme\": \"greenCarbon\", \"radius\": 1.0}},\n",
    "    )\n",
    "\n",
    "    # Set camera and render the viewer\n",
    "    # view.zoomTo(cys_selection)\n",
    "    view.render()\n",
    "\n",
    "\n",
    "import requests\n",
    "import py3Dmol\n",
    "\n",
    "\n",
    "def display_disulfide_bonds():\n",
    "    # Download PDB structure 2q7q\n",
    "    pdb_id = \"2q7q\"\n",
    "    pdb_url = f\"https://files.rcsb.org/download/{pdb_id}.pdb\"\n",
    "    pdb_file = requests.get(pdb_url).text\n",
    "\n",
    "    # Initialize viewer\n",
    "    view = py3Dmol.view(width=800, height=600)\n",
    "\n",
    "    # Add protein as sticks\n",
    "    view.addModel(pdb_file, \"pdb\")\n",
    "    view.setStyle({\"stick\": {}})\n",
    "\n",
    "    # Select all disulfide bonds and display as green sticks\n",
    "    ssbond_selection = {\"ss\": \"disulf\"}\n",
    "    view.addStyle(\n",
    "        ssbond_selection,\n",
    "        {\"stick\": {\"colorscheme\": \"greenCarbon\", \"radius\": 0.2}},\n",
    "    )\n",
    "\n",
    "    # Set camera and render the viewer\n",
    "    view.zoomTo(ssbond_selection)\n",
    "    view.render()\n",
    "\n",
    "\n",
    "display_disulfide_bonds()"
   ]
  },
  {
   "cell_type": "code",
   "execution_count": null,
   "metadata": {},
   "outputs": [],
   "source": [
    "import py3Dmol\n",
    "\n",
    "viewer = py3Dmol.view(query=\"pdb:2q7q\")\n",
    "viewer.setStyle({\"cartoon\": {}})\n",
    "\n",
    "viewer.setStyle(\n",
    "    {\"chain\": \"D\", \"resn\": \"CYS\"},\n",
    "    {\"stick\": {\"colorscheme\": \"lightgreenCarbon\"}},\n",
    ")\n",
    "# viewer.addLabel('Chain D', {'fontColor':'orange', 'backgroundColor':'lightgray'}, {'chain': ['D']})\n",
    "ssbond_selection = {\"ss\": \"disulf\"}\n",
    "viewer.addStyle(\n",
    "    ssbond_selection, {\"stick\": {\"colorscheme\": \"greenCarbon\", \"radius\": 0.2}}\n",
    ")\n",
    "\n",
    "# viewer.setStyle({'resn': 'CYS'},{'stick': {'colorscheme': 'orangeCarbon'}})\n",
    "\n",
    "viewer.show()"
   ]
  },
  {
   "cell_type": "code",
   "execution_count": null,
   "metadata": {},
   "outputs": [],
   "source": [
    "sslist = PDB_SS[\"4yys\"]\n",
    "sslist"
   ]
  },
  {
   "cell_type": "code",
   "execution_count": null,
   "metadata": {},
   "outputs": [],
   "source": [
    "sslist = PDB_SS.SSList\n",
    "LHS_neighbors = sslist.nearest_neighbors(-60, -60, -90, -60, -60, 20.0)\n",
    "LHS_neighbors.length\n",
    "# modelss = Disulfide('model', proximal=1, distal=2, pdb_id='EGS')\n",
    "# modelss.build_model(-60,-60, -90, -60, -60)"
   ]
  },
  {
   "cell_type": "code",
   "execution_count": null,
   "metadata": {},
   "outputs": [],
   "source": [
    "# We use the entire database contained in PDB_SS.SSList for our search here.\n",
    "# The entire database can be scanned in 13 seconds on the M1 Pro Macbook Pro.\n",
    "\n",
    "ssmin_enrg, ssmax_enrg = PDB_SS.SSList.minmax_energy\n",
    "ssmin_enrg.pprint()\n",
    "ssmax_enrg.pprint()\n",
    "minmax = DisulfideList([ssmin_enrg, ssmax_enrg], \"minmax\")\n",
    "# minmax.display()"
   ]
  },
  {
   "cell_type": "code",
   "execution_count": null,
   "metadata": {},
   "outputs": [],
   "source": [
    "ssmin_enrg.Torsion_Distance(ssmax_enrg)"
   ]
  },
  {
   "cell_type": "code",
   "execution_count": null,
   "metadata": {},
   "outputs": [],
   "source": [
    "ssmin_enrg.Torsion_Distance(ssmin_enrg)"
   ]
  },
  {
   "cell_type": "code",
   "execution_count": null,
   "metadata": {},
   "outputs": [],
   "source": [
    "import proteusPy\n",
    "from proteusPy.DisulfideLoader import Load_PDB_SS\n",
    "from proteusPy.DisulfideList import DisulfideList\n",
    "from proteusPy.Disulfide import Disulfide\n",
    "\n",
    "PDB_SS = None\n",
    "PDB_SS = Load_PDB_SS(verbose=True, subset=False)\n",
    "\n",
    "ss_list = DisulfideList([], \"tmp\")\n",
    "sslist = PDB_SS.SSList\n",
    "ssmin_enrg, ssmax_enrg = PDB_SS.SSList.minmax_energy\n",
    "\n",
    "low_energy_neighbors = DisulfideList([], \"Neighbors\")\n",
    "low_energy_neighbors = ssmin_enrg.Torsion_neighbors(sslist, 5)\n",
    "\n",
    "\n",
    "low_energy_neighbors.display_overlay()"
   ]
  },
  {
   "cell_type": "code",
   "execution_count": 5,
   "metadata": {},
   "outputs": [
    {
     "name": "stdout",
     "output_type": "stream",
     "text": [
      "Low Energy Neighbors: 25, Distance: 0.85 Torsions: 5.55, Energy: 0.53\n"
     ]
    }
   ],
   "source": [
    "tot = low_energy_neighbors.length\n",
    "drms = low_energy_neighbors.Average_Distance\n",
    "trms = low_energy_neighbors.Average_Torsion_Distance\n",
    "erms = low_energy_neighbors.Average_Energy\n",
    "\n",
    "print(\n",
    "    f\"Low Energy Neighbors: {tot}, Distance: {drms:.2f} Torsions: {trms:.2f}, Energy: {erms:.2f}\"\n",
    ")"
   ]
  },
  {
   "cell_type": "code",
   "execution_count": null,
   "metadata": {},
   "outputs": [],
   "source": [
    "low_energy_neighbors.display_overlay()"
   ]
  },
  {
   "cell_type": "code",
   "execution_count": null,
   "metadata": {},
   "outputs": [],
   "source": [
    "high_energy_neighbors = DisulfideList([], \"neighbors2\")\n",
    "high_energy_neighbors = ssmax_enrg.Torsion_neighbors(sslist, 20)\n",
    "\n",
    "tot2 = high_energy_neighbors.length()\n",
    "print(f\"Neighbors: {tot2}\")"
   ]
  },
  {
   "cell_type": "code",
   "execution_count": null,
   "metadata": {},
   "outputs": [],
   "source": [
    "drms = high_energy_neighbors.Average_Distance()\n",
    "trms = high_energy_neighbors.Avg_Torsion_Distance()\n",
    "erms = high_energy_neighbors.Average_Energy()\n",
    "\n",
    "print(\n",
    "    f\"High Energy Neighbors: {tot}, Distance: {drms:.2f} Torsions: {trms:.2f}, Energy: {erms:.2f}\"\n",
    ")"
   ]
  },
  {
   "cell_type": "code",
   "execution_count": null,
   "metadata": {},
   "outputs": [],
   "source": [
    "high_energy_neighbors.display_overlay()"
   ]
  },
  {
   "cell_type": "code",
   "execution_count": null,
   "metadata": {},
   "outputs": [],
   "source": [
    "ssmin = Disulfide()\n",
    "ssmax = Disulfide()\n",
    "\n",
    "ssmin, ssmax = sslist.minmax_distance()\n",
    "ssmin.pprint()\n",
    "ssmax.pprint()\n",
    "\n",
    "minmax = DisulfideList([ssmin, ssmax], \"minmax\")\n",
    "minmax.display()"
   ]
  },
  {
   "cell_type": "code",
   "execution_count": null,
   "metadata": {},
   "outputs": [],
   "source": [
    "# one disulfide from the database\n",
    "ss = Disulfide()\n",
    "ss = PDB_SS[0]\n",
    "# ss.pprint_all()\n",
    "\n",
    "# get all disulfides for one structure. Make a\n",
    "# DisulfideList object to hold it\n",
    "ss4yys = DisulfideList([], \"4yys\")\n",
    "ss4yys = PDB_SS[\"4yys\"]\n",
    "\n",
    "# ss4crn = DisulfideList([], '1crn')\n",
    "# ss4crn = PDB_SS['1crn']\n",
    "\n",
    "tot_ss = len(ss4yys)  # number off ssbonds\n",
    "print(f\"tot {tot_ss}\")"
   ]
  },
  {
   "cell_type": "code",
   "execution_count": null,
   "metadata": {},
   "outputs": [],
   "source": [
    "print(f\"{ss4yys.Torsion_Distance()}\")"
   ]
  },
  {
   "cell_type": "code",
   "execution_count": null,
   "metadata": {},
   "outputs": [],
   "source": [
    "ca_df = sslist.distance_df\n",
    "ca_df.head(10)"
   ]
  },
  {
   "cell_type": "code",
   "execution_count": null,
   "metadata": {},
   "outputs": [],
   "source": [
    "ss6fuf = PDB_SS[\"6fuf\"]"
   ]
  },
  {
   "cell_type": "code",
   "execution_count": null,
   "metadata": {},
   "outputs": [],
   "source": [
    "ss1 = ss4yys.get_by_name(\"4yys_22A_65A\")\n",
    "ss1"
   ]
  },
  {
   "cell_type": "code",
   "execution_count": null,
   "metadata": {},
   "outputs": [],
   "source": [
    "ss4yys_a = ss4yys.by_chain(\"A\")\n",
    "ss4yys_a.Torsion_Distance()"
   ]
  },
  {
   "cell_type": "code",
   "execution_count": null,
   "metadata": {},
   "outputs": [],
   "source": [
    "ss4yys_b = ss4yys.by_chain(\"B\")\n",
    "ss4yys_b.Torsion_Distance()"
   ]
  },
  {
   "cell_type": "code",
   "execution_count": null,
   "metadata": {},
   "outputs": [],
   "source": [
    "ss4yys_a1 = ss4yys_a[0]\n",
    "# print(ss4yys_a1.repr_ss_coords())"
   ]
  },
  {
   "cell_type": "code",
   "execution_count": null,
   "metadata": {},
   "outputs": [],
   "source": [
    "ss4yys_b1 = ss4yys_b[0]\n",
    "ss4yys_b1"
   ]
  },
  {
   "cell_type": "code",
   "execution_count": null,
   "metadata": {},
   "outputs": [],
   "source": [
    "ss4yys_a1.Distance_RMS(ss4yys_b1)"
   ]
  },
  {
   "cell_type": "code",
   "execution_count": null,
   "metadata": {},
   "outputs": [],
   "source": [
    "ss4yys_a1.Torsion_Distance(ss4yys_b1)"
   ]
  },
  {
   "cell_type": "code",
   "execution_count": null,
   "metadata": {},
   "outputs": [],
   "source": [
    "ss4yys_a1 == ss4yys_b1"
   ]
  },
  {
   "cell_type": "code",
   "execution_count": null,
   "metadata": {},
   "outputs": [],
   "source": [
    "chns = ss4yys.get_chains()\n",
    "ss4yys.has_chain(\"yyy\")\n",
    "chns"
   ]
  },
  {
   "cell_type": "code",
   "execution_count": null,
   "metadata": {},
   "outputs": [],
   "source": [
    "# load SS bonds by PDB ID\n",
    "ss1 = PDB_SS[\"4yys\"]\n",
    "print(ss1)\n",
    "print(ss1[0].get_full_id())"
   ]
  },
  {
   "cell_type": "code",
   "execution_count": null,
   "metadata": {},
   "outputs": [],
   "source": [
    "# you can loop over the IDList list and extract by ID\n",
    "#\n",
    "for id in PDB_SS.IDList[:5]:  # just show last 5\n",
    "    # get the SS bonds for the given ID\n",
    "    ssb = PDB_SS[id]\n",
    "    numb_ss = len(ssb)\n",
    "    print(f\"ID: {id} has {numb_ss} Disulfides:\")\n",
    "    for bond in ssb:\n",
    "        print(bond)\n",
    "    print(\"\\n\")"
   ]
  },
  {
   "cell_type": "code",
   "execution_count": null,
   "metadata": {},
   "outputs": [],
   "source": [
    "ss_list = PDB_SS.getlist()\n",
    "ss0 = ss_list[0]\n",
    "\n",
    "print(ss0.proximal_residue_fullid)\n",
    "print(ss0.chi3)\n",
    "len(ss_list)"
   ]
  },
  {
   "cell_type": "code",
   "execution_count": null,
   "metadata": {},
   "outputs": [],
   "source": [
    "# routine creates 2 lists  for left-handed and right-handed disulfides\n",
    "ss_list = PDB_SS.getlist()\n",
    "left_handed = DisulfideList([], \"left_handed\")\n",
    "right_handed = DisulfideList([], \"right_handed\")\n",
    "\n",
    "i = 0\n",
    "\n",
    "for i in range(len(ss_list)):\n",
    "    ss = ss_list[i]\n",
    "    if ss.chi3 < 0:\n",
    "        left_handed.append(ss)\n",
    "    else:\n",
    "        right_handed.append(ss)\n",
    "\n",
    "\n",
    "print(f\"Left Handed: {len(left_handed)}, Right Handed: {len(right_handed)}\")"
   ]
  },
  {
   "cell_type": "code",
   "execution_count": null,
   "metadata": {},
   "outputs": [],
   "source": [
    "from proteusPy.Disulfide import Disulfide\n",
    "\n",
    "# make some empty disulfides\n",
    "ss1 = Disulfide(\"ss1\")\n",
    "ss2 = Disulfide(\"ss2\")\n",
    "\n",
    "# make a DisulfideList containing ss1, named 'tmp'\n",
    "sslist = DisulfideList([ss1], \"tmp\")\n",
    "sslist.append(ss2)\n",
    "\n",
    "# load the PDB Disulfide database\n",
    "PDB_SS = None\n",
    "PDB_SS = DisulfideLoader(verbose=True, subset=True)\n",
    "\n",
    "# extract a disulfide with typical index\n",
    "ss1 = PDB_SS[0]\n",
    "# print(f'{ss1.pprint_all()}')\n",
    "\n",
    "# grab a subset via slicing\n",
    "subset = DisulfideList(PDB_SS[0:10], \"subset\")"
   ]
  },
  {
   "cell_type": "code",
   "execution_count": null,
   "metadata": {},
   "outputs": [],
   "source": [
    "rms = subset.Torsion_Distance()\n",
    "rms"
   ]
  },
  {
   "cell_type": "code",
   "execution_count": null,
   "metadata": {},
   "outputs": [],
   "source": [
    "torsions = PDB_SS.getTorsions()\n",
    "torsions.sort_values(by=[\"energy\"], ascending=False, inplace=True)\n",
    "\n",
    "torsions.head(10)"
   ]
  },
  {
   "cell_type": "code",
   "execution_count": null,
   "metadata": {},
   "outputs": [],
   "source": [
    "toget = 200\n",
    "\n",
    "badlist = torsions[\"ss_id\"]\n",
    "\n",
    "bad_SS_list = DisulfideList([], \"20 top high energy\")\n",
    "ss = Disulfide()\n",
    "\n",
    "for i in range(toget):\n",
    "    ssid = torsions.iloc[i][\"ss_id\"]\n",
    "    ss = PDB_SS.get_by_name(ssid)\n",
    "    # print(f'ID: {ss.name}: {ss.energy:.2f} kcal/mol CA: {ss.ca_distance:.2f}')\n",
    "    bad_SS_list.append(ss)"
   ]
  },
  {
   "cell_type": "code",
   "execution_count": null,
   "metadata": {},
   "outputs": [],
   "source": [
    "tors_bad_rms = bad_SS_list.Torsion_Distance()\n",
    "tors_bad_rms"
   ]
  },
  {
   "cell_type": "code",
   "execution_count": null,
   "metadata": {},
   "outputs": [],
   "source": [
    "goodlist = torsions[\"ss_id\"]\n",
    "\n",
    "good_SS_list = DisulfideList([], \"20 top low energy\")\n",
    "ss = Disulfide()\n",
    "\n",
    "for i in range(toget):\n",
    "    if i == 0:\n",
    "        continue\n",
    "\n",
    "    ssid = torsions.iloc[-i][\"ss_id\"]\n",
    "    ss = PDB_SS.get_by_name(ssid)\n",
    "    # print(f'ID: {ss.name}: {ss.energy:.2f} kcal/mol CA: {ss.ca_distance:.2f}')\n",
    "    good_SS_list.append(ss)"
   ]
  },
  {
   "cell_type": "code",
   "execution_count": null,
   "metadata": {},
   "outputs": [],
   "source": [
    "tors_good_rms = good_SS_list.Torsion_Distance()\n",
    "tors_good_rms"
   ]
  },
  {
   "cell_type": "code",
   "execution_count": null,
   "metadata": {},
   "outputs": [],
   "source": [
    "from scipy.spatial import distance_matrix\n",
    "\n",
    "good_array = good_SS_list.get_torsion_array()\n",
    "bad_array = bad_SS_list.get_torsion_array()\n",
    "good_array.shape"
   ]
  },
  {
   "cell_type": "code",
   "execution_count": null,
   "metadata": {},
   "outputs": [],
   "source": [
    "dm1 = distance_matrix(good_array, good_array)\n",
    "dm2 = distance_matrix(bad_array, bad_array)"
   ]
  },
  {
   "cell_type": "code",
   "execution_count": null,
   "metadata": {},
   "outputs": [],
   "source": [
    "import numpy as np\n",
    "\n",
    "\n",
    "def EDM(A, B):\n",
    "    p1 = np.sum(A**2, axis=1)[:, np.newaxis]\n",
    "    p2 = np.sum(B**2, axis=1)\n",
    "    p3 = -2 * np.dot(A, B.T)\n",
    "    res = p1 + p2 + p3\n",
    "    # res = numpy.sqrt(res)\n",
    "    return res"
   ]
  },
  {
   "cell_type": "code",
   "execution_count": null,
   "metadata": {},
   "outputs": [],
   "source": [
    "dm3 = np.sqrt(dm2)"
   ]
  },
  {
   "cell_type": "code",
   "execution_count": null,
   "metadata": {},
   "outputs": [],
   "source": [
    "import plotly_express as px\n",
    "\n",
    "fig = px.imshow(dm1)\n",
    "fig.show()"
   ]
  },
  {
   "cell_type": "code",
   "execution_count": null,
   "metadata": {},
   "outputs": [],
   "source": [
    "import plotly_express as px\n",
    "\n",
    "fig = px.imshow(dm2)\n",
    "fig.show()"
   ]
  },
  {
   "cell_type": "code",
   "execution_count": null,
   "metadata": {},
   "outputs": [],
   "source": [
    "dm1.shape\n",
    "dm1"
   ]
  },
  {
   "cell_type": "code",
   "execution_count": null,
   "metadata": {},
   "outputs": [],
   "source": [
    "df = pd.DataFrame(dm1.copy())\n",
    "df.describe()"
   ]
  },
  {
   "cell_type": "code",
   "execution_count": null,
   "metadata": {},
   "outputs": [],
   "source": [
    "x = np.arange(0, 20, 20)\n",
    "y = np.arange(0, 20, 20)\n",
    "z = dm1\n",
    "x, y = np.meshgrid(x, y)"
   ]
  },
  {
   "cell_type": "code",
   "execution_count": null,
   "metadata": {},
   "outputs": [],
   "source": [
    "# Create and plot structured grid\n",
    "grid = pv.StructuredGrid(x, y, z)\n",
    "grid.plot()"
   ]
  },
  {
   "cell_type": "code",
   "execution_count": null,
   "metadata": {},
   "outputs": [],
   "source": [
    "def doit(tot_ss):\n",
    "    brad = BOND_RADIUS * (1 - ((tot_ss / 10)) / 50)\n",
    "    return brad"
   ]
  },
  {
   "cell_type": "code",
   "execution_count": null,
   "metadata": {},
   "outputs": [],
   "source": [
    "doit(51)"
   ]
  },
  {
   "cell_type": "markdown",
   "metadata": {},
   "source": [
    "### Disulfide Families"
   ]
  },
  {
   "cell_type": "code",
   "execution_count": null,
   "metadata": {},
   "outputs": [],
   "source": [
    "import proteusPy\n",
    "from proteusPy import DisulfideLoader\n",
    "from proteusPy.Disulfide import Disulfide\n",
    "from proteusPy.DisulfideList import DisulfideList\n",
    "\n",
    "PDB_SS = DisulfideLoader(verbose=True, subset=True, datadir=\"/Users/egs/pdb/data/\")"
   ]
  },
  {
   "cell_type": "code",
   "execution_count": null,
   "metadata": {},
   "outputs": [],
   "source": [
    "PDB_SS.SSDict"
   ]
  },
  {
   "cell_type": "code",
   "execution_count": null,
   "metadata": {},
   "outputs": [],
   "source": [
    "PDB_SS[\"4yys\"]"
   ]
  },
  {
   "cell_type": "code",
   "execution_count": null,
   "metadata": {},
   "outputs": [],
   "source": [
    "# retrieve the torsions dataframe\n",
    "from proteusPy.Disulfide import Torsion_DF_Cols\n",
    "\n",
    "_SSdf = PDB_SS.getTorsions()\n",
    "_near = _SSdf[\"ca_distance\"] < 9.0\n",
    "# there are a few structures with bad SSBonds. Their\n",
    "# CA distances are > 7.0. We remove them from consideration\n",
    "# below\n",
    "\n",
    "SS_df = _SSdf[_near]\n",
    "SS_df = SS_df[Torsion_DF_Cols].copy()\n",
    "\n",
    "\n",
    "_cols = [\"chi1\", \"chi2\", \"chi3\", \"chi4\", \"chi5\"]\n",
    "X = SS_df[_cols].copy()\n",
    "tot = X.shape[0]\n",
    "\n",
    "tors = X.to_numpy()"
   ]
  },
  {
   "cell_type": "code",
   "execution_count": null,
   "metadata": {},
   "outputs": [],
   "source": [
    "# chat gpt generated\n",
    "import numpy as np\n",
    "from sklearn.neighbors import KDTree\n",
    "\n",
    "\n",
    "def nearest_neighbors(samples):\n",
    "    # Sample the 5-dimensional vector space\n",
    "\n",
    "    # Build a KDTree from the samples\n",
    "    tree = KDTree(samples, leafsize=40)\n",
    "\n",
    "    # Find the nearest neighbors for each sample\n",
    "    distances, indices = tree.query(samples, k=5)\n",
    "\n",
    "    # The first nearest neighbor of each sample is the sample itself, so we can ignore that\n",
    "    nearest_neighbors = indices[:, 1]\n",
    "    distances = distances[:, 1]\n",
    "\n",
    "    return nearest_neighbors, distances\n",
    "\n",
    "\n",
    "def nearest_neighbors_radial(samples, radius):\n",
    "    \"\"\"\n",
    "    Find the neighbors for the given array of torsions using KDTree.\n",
    "\n",
    "    :param samples: Neighbor array\n",
    "    :param radius: Search radius (degrees)\n",
    "    :return: List of indices for neighbors within the cutoff\n",
    "    \"\"\"\n",
    "\n",
    "    # Build a KDTree from the samples\n",
    "    tree = KDTree(samples, leaf_size=40)\n",
    "\n",
    "    # Find the nearest neighbors for each sample\n",
    "    indices = tree.query_radius(samples, r=radius)\n",
    "\n",
    "    # The first nearest neighbor of each sample is the sample itself, so we can ignore that\n",
    "    # nearest_neighbors = indices[:, 1]\n",
    "    nearest_neighbors = indices\n",
    "    return nearest_neighbors\n",
    "\n",
    "\n",
    "def build_SSlist(loader: DisulfideLoader, indices) -> DisulfideList:\n",
    "    \"\"\"\n",
    "    For a given ```DisulfideLoader``` and list of Disulfide indices return the Disulfides in a DisulfideList\n",
    "\n",
    "    :param indices: List of SS by index\n",
    "    :return: DisulfideList of SS\n",
    "    \"\"\"\n",
    "    res = DisulfideList([], \"tmp\")\n",
    "    sslist = loader.SSList\n",
    "\n",
    "    tot = len(indices)\n",
    "    res = DisulfideList([sslist[indices[i]] for i in range(tot)], \"tmp\")\n",
    "    return res"
   ]
  },
  {
   "cell_type": "code",
   "execution_count": null,
   "metadata": {},
   "outputs": [],
   "source": [
    "#\n",
    "\n",
    "_cols = [\"chi1\", \"chi2\", \"chi3\", \"chi4\", \"chi5\"]\n",
    "tor_df = SS_df[_cols].copy()\n",
    "\n",
    "X = tor_df.copy()\n",
    "tot = X.shape[0]\n",
    "\n",
    "tors = X.to_numpy()\n",
    "\n",
    "nneighbors = nearest_neighbors_radial(X, radius=20)\n",
    "print(f\"{len(nneighbors)}\")"
   ]
  },
  {
   "cell_type": "code",
   "execution_count": null,
   "metadata": {},
   "outputs": [],
   "source": [
    "from tqdm import tqdm\n",
    "\n",
    "# for each SS, build a list of neighbors\n",
    "neighbor_list = []\n",
    "\n",
    "pbar = tqdm(range(nneighbors.shape[0]))\n",
    "\n",
    "for i in pbar:\n",
    "    neigh = nneighbors[i]\n",
    "    res = build_SSlist(PDB_SS, neigh)\n",
    "    neighbor_list.append(res)"
   ]
  },
  {
   "cell_type": "code",
   "execution_count": null,
   "metadata": {},
   "outputs": [],
   "source": [
    "# for the neighbor list,"
   ]
  },
  {
   "cell_type": "code",
   "execution_count": null,
   "metadata": {},
   "outputs": [],
   "source": [
    "import numpy as np\n",
    "import sklearn\n",
    "from sklearn.neighbors import KDTree\n",
    "\n",
    "tree = KDTree(X, leaf_size=2)\n",
    "dist, ind = tree.query(X, k=5)\n",
    "print(ind)  # indices of 3 closest neighbors\n",
    "\n",
    "print(dist)  # distances to 3 closest neighbors"
   ]
  },
  {
   "cell_type": "code",
   "execution_count": null,
   "metadata": {},
   "outputs": [],
   "source": [
    "from sklearn.neighbors import KDTree\n",
    "\n",
    "tree = KDTree(X, leaf_size=3)\n",
    "print(tree.query_radius(X[:1], r=10, count_only=True))\n",
    "\n",
    "ind = tree.query_radius(X[:1], r=10)\n",
    "print(ind)  # indices of neighbors within distance 0.3"
   ]
  },
  {
   "cell_type": "code",
   "execution_count": null,
   "metadata": {},
   "outputs": [],
   "source": [
    "import numpy as np\n",
    "\n",
    "rng = np.random.RandomState(42)\n",
    "tree = KDTree(X)\n",
    "tree.kernel_density(X[:5], h=0.5, kernel=\"gaussian\")"
   ]
  },
  {
   "cell_type": "code",
   "execution_count": null,
   "metadata": {},
   "outputs": [],
   "source": [
    "import pandas as pd\n",
    "\n",
    "df = pd.read_csv(\"classes.csv\")\n",
    "with open(\"classes.md\", \"w\") as md:\n",
    "    df.to_markdown(buf=md, tablefmt=\"grid\")"
   ]
  },
  {
   "cell_type": "code",
   "execution_count": null,
   "metadata": {},
   "outputs": [],
   "source": [
    "help(fig.update_traces)"
   ]
  },
  {
   "cell_type": "code",
   "execution_count": null,
   "metadata": {},
   "outputs": [],
   "source": [
    "import proteusPy\n",
    "from proteusPy.utility import image_to_ascii_art\n",
    "\n",
    "image_to_ascii_art(\"logo_flat.png\", 120)"
   ]
  },
  {
   "cell_type": "code",
   "execution_count": null,
   "metadata": {},
   "outputs": [],
   "source": [
    "proteusPy.__version__"
   ]
  },
  {
   "cell_type": "code",
   "execution_count": null,
   "metadata": {},
   "outputs": [],
   "source": []
  }
 ],
 "metadata": {
  "kernelspec": {
   "display_name": "ppydev (0.97.0dev4)",
   "language": "python",
   "name": "ppydev"
  },
  "language_info": {
   "codemirror_mode": {
    "name": "ipython",
    "version": 3
   },
   "file_extension": ".py",
   "mimetype": "text/x-python",
   "name": "python",
   "nbconvert_exporter": "python",
   "pygments_lexer": "ipython3",
   "version": "3.11.7"
  }
 },
 "nbformat": 4,
 "nbformat_minor": 4
}
