{
 "cells": [
  {
   "cell_type": "code",
   "execution_count": 1,
   "metadata": {},
   "outputs": [
    {
     "ename": "ModuleNotFoundError",
     "evalue": "No module named 'proteusPy.disulfide'",
     "output_type": "error",
     "traceback": [
      "\u001b[0;31m---------------------------------------------------------------------------\u001b[0m",
      "\u001b[0;31mModuleNotFoundError\u001b[0m                       Traceback (most recent call last)",
      "Cell \u001b[0;32mIn [1], line 29\u001b[0m\n\u001b[1;32m     26\u001b[0m MODELS \u001b[39m=\u001b[39m \u001b[39mf\u001b[39m\u001b[39m'\u001b[39m\u001b[39m{\u001b[39;00mPDB_ROOT\u001b[39m}\u001b[39;00m\u001b[39mmodels/\u001b[39m\u001b[39m'\u001b[39m\n\u001b[1;32m     28\u001b[0m \u001b[39m# for using from the repo we \u001b[39;00m\n\u001b[0;32m---> 29\u001b[0m \u001b[39mfrom\u001b[39;00m \u001b[39mproteusPy\u001b[39;00m \u001b[39mimport\u001b[39;00m \u001b[39m*\u001b[39m\n\u001b[1;32m     30\u001b[0m \u001b[39mfrom\u001b[39;00m \u001b[39mproteusPy\u001b[39;00m\u001b[39m.\u001b[39;00m\u001b[39mdisulfide\u001b[39;00m \u001b[39mimport\u001b[39;00m \u001b[39m*\u001b[39m\n",
      "File \u001b[0;32m~/repos/proteusPy/proteusPy/__init__.py:43\u001b[0m\n\u001b[1;32m     40\u001b[0m \u001b[39mfrom\u001b[39;00m \u001b[39mproteusPy\u001b[39;00m\u001b[39m.\u001b[39;00m\u001b[39mturtle3D\u001b[39;00m \u001b[39mimport\u001b[39;00m Turtle3D\n\u001b[1;32m     41\u001b[0m \u001b[39mfrom\u001b[39;00m \u001b[39mproteusPy\u001b[39;00m\u001b[39m.\u001b[39;00m\u001b[39mturtle3D\u001b[39;00m \u001b[39mimport\u001b[39;00m ORIENT_BACKBONE, ORIENT_SIDECHAIN\n\u001b[0;32m---> 43\u001b[0m \u001b[39mfrom\u001b[39;00m \u001b[39mproteusPy\u001b[39;00m\u001b[39m.\u001b[39;00m\u001b[39mdisulfide\u001b[39;00m \u001b[39mimport\u001b[39;00m DisulfideList, DisulfideLoader, CysSelect\n\u001b[1;32m     44\u001b[0m \u001b[39mfrom\u001b[39;00m \u001b[39mproteusPy\u001b[39;00m\u001b[39m.\u001b[39;00m\u001b[39mdisulfide\u001b[39;00m \u001b[39mimport\u001b[39;00m name_to_id, todeg, torad, build_torsion_df, distance3d\n\u001b[1;32m     45\u001b[0m \u001b[39mfrom\u001b[39;00m \u001b[39mproteusPy\u001b[39;00m\u001b[39m.\u001b[39;00m\u001b[39mdisulfide\u001b[39;00m \u001b[39mimport\u001b[39;00m parse_ssbond_header_rec, DownloadDisulfides, ExtractDisulfides, check_chains\n",
      "\u001b[0;31mModuleNotFoundError\u001b[0m: No module named 'proteusPy.disulfide'"
     ]
    }
   ],
   "source": [
    "# DisulfideBond Playground\n",
    "# Playing with the DisulfideBond class\n",
    "# Author: Eric G. Suchanek, PhD.\n",
    "# (c) 2022 Eric G. Suchanek, PhD., All Rights Reserved\n",
    "# License: BSD\n",
    "# Last Modification: 12/12/22\n",
    "# Cα Cβ Sγ\n",
    "\n",
    "%matplotlib inline\n",
    "\n",
    "import matplotlib.pyplot as plt\n",
    "import pandas as pd\n",
    "\n",
    "from Bio.PDB import *\n",
    "\n",
    "# location for PDB repository\n",
    "PDB_ROOT = '/Users/egs/PDB/'\n",
    "\n",
    "# location of cleaned PDB files - these are not stored in the repo\n",
    "PDB_GOOD = '/Users/egs/PDB/good/'\n",
    "\n",
    "# from within the repo \n",
    "PDB_REPO = '../pdb/'\n",
    "\n",
    "# location of the compressed Disulfide .pkl files\n",
    "MODELS = f'{PDB_ROOT}models/'\n",
    "\n",
    "# for using from the repo we \n",
    "from proteusPy import *\n",
    "from proteusPy.disulfide import *\n"
   ]
  },
  {
   "cell_type": "markdown",
   "metadata": {},
   "source": []
  },
  {
   "cell_type": "code",
   "execution_count": 4,
   "metadata": {},
   "outputs": [
    {
     "name": "stdout",
     "output_type": "stream",
     "text": [
      "Reading disulfides from: /Users/egs/PDB/models/PDB_all_ss.pkl\n",
      "Disulfides Read: 8128\n",
      "Reading disulfide dict from: /Users/egs/PDB/models/PDB_all_ss_dict.pkl\n",
      "Reading Torsion DF /Users/egs/PDB/models/PDB_SS_torsions.csv.\n",
      "Read torsions DF.\n",
      "PDB IDs parsed: 1000\n",
      "Total Space Used: 1761893 bytes.\n"
     ]
    }
   ],
   "source": [
    "# Comment these out since they take so long.\n",
    "# DownloadDisulfides(pdb_home=PDB_ORIG, model_home=MODELS, reset=False)\n",
    "# ExtractDisulfides(numb=-1, pdbdir=PDB, modeldir=MODELS, verbose=False, quiet=True)\n",
    "\n",
    "PDB_SS = None\n",
    "PDB_SS = DisulfideLoader(verbose=True, modeldir=MODELS)\n",
    "\n",
    "ss_list = DisulfideList([], 'tmp')\n"
   ]
  },
  {
   "cell_type": "code",
   "execution_count": 5,
   "metadata": {},
   "outputs": [
    {
     "name": "stdout",
     "output_type": "stream",
     "text": [
      "<Disulfide 4yys_22A_65A SourceID: 4yys Proximal: 22 A Distal: 65 A>\n"
     ]
    }
   ],
   "source": [
    "ss1 = PDB_SS[0]\n",
    "print(ss1)\n",
    "ss2 = PDB_SS['4yys']\n",
    "#print(ss2)"
   ]
  },
  {
   "cell_type": "code",
   "execution_count": 6,
   "metadata": {},
   "outputs": [
    {
     "name": "stdout",
     "output_type": "stream",
     "text": [
      "[<Disulfide 4yys_22A_65A SourceID: 4yys Proximal: 22 A Distal: 65 A>, <Disulfide 4yys_56A_98A SourceID: 4yys Proximal: 56 A Distal: 98 A>, <Disulfide 4yys_156A_207A SourceID: 4yys Proximal: 156 A Distal: 207 A>, <Disulfide 4yys_22B_65B SourceID: 4yys Proximal: 22 B Distal: 65 B>, <Disulfide 4yys_56B_98B SourceID: 4yys Proximal: 56 B Distal: 98 B>, <Disulfide 4yys_156B_207B SourceID: 4yys Proximal: 156 B Distal: 207 B>]\n",
      "(('4yys', 0, 'A', (' ', 22, ' ')), ('4yys', 0, 'A', (' ', 65, ' ')))\n"
     ]
    }
   ],
   "source": [
    "# load SS bonds by PDB ID\n",
    "ss1 = PDB_SS['4yys']\n",
    "print(ss1)\n",
    "print(ss1[0].get_full_id())\n"
   ]
  },
  {
   "cell_type": "code",
   "execution_count": 7,
   "metadata": {},
   "outputs": [
    {
     "name": "stdout",
     "output_type": "stream",
     "text": [
      "ID: 4yys has 6 Disulfides:\n",
      "<Disulfide 4yys_22A_65A SourceID: 4yys Proximal: 22 A Distal: 65 A>\n",
      "<Disulfide 4yys_56A_98A SourceID: 4yys Proximal: 56 A Distal: 98 A>\n",
      "<Disulfide 4yys_156A_207A SourceID: 4yys Proximal: 156 A Distal: 207 A>\n",
      "<Disulfide 4yys_22B_65B SourceID: 4yys Proximal: 22 B Distal: 65 B>\n",
      "<Disulfide 4yys_56B_98B SourceID: 4yys Proximal: 56 B Distal: 98 B>\n",
      "<Disulfide 4yys_156B_207B SourceID: 4yys Proximal: 156 B Distal: 207 B>\n",
      "\n",
      "\n",
      "ID: 1j5h has 2 Disulfides:\n",
      "<Disulfide 1j5h_37A_47A SourceID: 1j5h Proximal: 37 A Distal: 47 A>\n",
      "<Disulfide 1j5h_88A_93A SourceID: 1j5h Proximal: 88 A Distal: 93 A>\n",
      "\n",
      "\n",
      "ID: 1mfe has 1 Disulfides:\n",
      "<Disulfide 1mfe_137L_196L SourceID: 1mfe Proximal: 137 L Distal: 196 L>\n",
      "\n",
      "\n",
      "ID: 1chv has 4 Disulfides:\n",
      "<Disulfide 1chv_3S_21S SourceID: 1chv Proximal: 3 S Distal: 21 S>\n",
      "<Disulfide 1chv_14S_38S SourceID: 1chv Proximal: 14 S Distal: 38 S>\n",
      "<Disulfide 1chv_42S_53S SourceID: 1chv Proximal: 42 S Distal: 53 S>\n",
      "<Disulfide 1chv_54S_59S SourceID: 1chv Proximal: 54 S Distal: 59 S>\n",
      "\n",
      "\n",
      "ID: 6fuf has 2 Disulfides:\n",
      "<Disulfide 6fuf_2A_282A SourceID: 6fuf Proximal: 2 A Distal: 282 A>\n",
      "<Disulfide 6fuf_110A_187A SourceID: 6fuf Proximal: 110 A Distal: 187 A>\n",
      "\n",
      "\n"
     ]
    }
   ],
   "source": [
    "# you can loop over the IDList list and extract by ID\n",
    "#\n",
    "for id in PDB_SS.IDList[:5]:    # just show last 5\n",
    "    # get the SS bonds for the given ID\n",
    "    ssb = PDB_SS[id]\n",
    "    numb_ss = len(ssb)\n",
    "    print(f'ID: {id} has {numb_ss} Disulfides:')\n",
    "    for bond in ssb:\n",
    "        print(bond)\n",
    "    print('\\n')\n",
    "    "
   ]
  },
  {
   "cell_type": "code",
   "execution_count": 8,
   "metadata": {},
   "outputs": [
    {
     "name": "stdout",
     "output_type": "stream",
     "text": [
      "('4yys', 0, 'A', (' ', 22, ' '))\n"
     ]
    }
   ],
   "source": [
    "ss_list = PDB_SS.getlist()\n",
    "ss0 = ss_list[0]\n",
    "\n",
    "print(ss0.proximal_residue_fullid)\n"
   ]
  },
  {
   "cell_type": "code",
   "execution_count": null,
   "metadata": {},
   "outputs": [],
   "source": []
  },
  {
   "cell_type": "code",
   "execution_count": null,
   "metadata": {},
   "outputs": [],
   "source": []
  }
 ],
 "metadata": {
  "kernelspec": {
   "display_name": "Python 3.8.13 ('bio')",
   "language": "python",
   "name": "python3"
  },
  "language_info": {
   "codemirror_mode": {
    "name": "ipython",
    "version": 3
   },
   "file_extension": ".py",
   "mimetype": "text/x-python",
   "name": "python",
   "nbconvert_exporter": "python",
   "pygments_lexer": "ipython3",
   "version": "3.8.13"
  },
  "orig_nbformat": 4,
  "vscode": {
   "interpreter": {
    "hash": "2e049c0f63e6b330ae815ad1049a36d20686725ba1cc68cc0aadee0375e172d1"
   }
  }
 },
 "nbformat": 4,
 "nbformat_minor": 2
}
