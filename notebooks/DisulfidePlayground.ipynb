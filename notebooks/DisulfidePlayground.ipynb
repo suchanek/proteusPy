{
 "cells": [
  {
   "cell_type": "code",
   "execution_count": 3,
   "metadata": {},
   "outputs": [],
   "source": [
    "# DisulfideBond Playground\n",
    "# Playing with the DisulfideBond class\n",
    "# Author: Eric G. Suchanek, PhD.\n",
    "# (c) 2023 Eric G. Suchanek, PhD., All Rights Reserved\n",
    "# License: MIT\n",
    "# Last Modification: 2/18/23\n",
    "# Cα N, Cα, Cβ, C', Sγ Å °\n",
    "\n",
    "import pandas as pd\n",
    "import numpy as np\n",
    "\n",
    "pd.set_option('display.width', 100)\n",
    "\n",
    "import pyvista as pv\n",
    "from pyvista import set_plot_theme\n",
    "import plotly.express as px\n",
    "\n",
    "from Bio.PDB import *\n",
    "\n",
    "# for using from the repo we \n",
    "\n",
    "from proteusPy.data import *\n",
    "\n",
    "from proteusPy.Disulfide import Disulfide\n",
    "from proteusPy.DisulfideList import DisulfideList, load_disulfides_from_id\n",
    "from proteusPy.DisulfideLoader import Load_PDB_SS, DisulfideLoader\n",
    "from proteusPy.DisulfideClass_Constructor import DisulfideClass_Constructor\n",
    "from proteusPy.utility import generate_vector_dataframe\n",
    "\n",
    "from proteusPy.data import DATA_DIR\n",
    "\n",
    "# pyvista setup for notebooks\n",
    "pv.set_jupyter_backend('trame')\n",
    "set_plot_theme('dark')\n",
    "\n",
    "from plotly.subplots import make_subplots\n"
   ]
  },
  {
   "cell_type": "code",
   "execution_count": 4,
   "metadata": {},
   "outputs": [
    {
     "name": "stdout",
     "output_type": "stream",
     "text": [
      "-> DisulfideLoader(): Reading disulfides from: /Users/egs/repos/proteusPy/proteusPy/data/PDB_all_ss.pkl... done.\n",
      "-> DisulfideLoader(): Reading disulfide dict2 from: /Users/egs/repos/proteusPy/proteusPy/data/PDB_all_ss_dict.pkl...done.\n",
      "-> DisulfideLoader(): Reading Torsion DF from: /Users/egs/repos/proteusPy/proteusPy/data/PDB_all_SS_torsions.csv... done.\n",
      "-> DisulfideClass_Constructor(): Building SS classes...\n",
      "-> DisulfideClass_Constructor(): creating binary SS classes...\n",
      "-> DisulfideClass_Constructor(): merging...\n",
      "-> DisulfideClass_Constructor(): creating sixfold SS classes...\n",
      "-> DisulfideClass_Constructor(): initialization complete.\n",
      "-> DisulfideLoader(): Loading complete.\n",
      "    =========== RCSB Disulfide Database Summary ==============\n",
      "       =========== Built: 2023-03-16 23:49:12 ==============\n",
      "PDB IDs present:                    35818\n",
      "Disulfides loaded:                  120494\n",
      "Average structure resolution:       2.34 Å\n",
      "Lowest Energy Disulfide:            2q7q_75D_140D\n",
      "Highest Energy Disulfide:           1toz_456A_467A\n",
      "Ca distance cutoff:                 8.00 Å\n",
      "Total RAM Used:                     31.05 GB.\n",
      "    ================= proteusPy: 0.65dev =======================\n",
      "-> DisulfideLoader.save(): Writing /Users/egs/repos/proteusPy/proteusPy/data/PDB_SS_ALL_LOADER.pkl... \n",
      "-> DisulfideLoader.save(): Done.\n"
     ]
    }
   ],
   "source": [
    "# Do this to reload the extracted disulfides and rebuild the loader, save it\n",
    "PDB_SS = DisulfideLoader(verbose=True, cutoff=8.0)\n",
    "PDB_SS.save(cutoff=8.0)"
   ]
  },
  {
   "cell_type": "code",
   "execution_count": 5,
   "metadata": {},
   "outputs": [
    {
     "name": "stdout",
     "output_type": "stream",
     "text": [
      "-> load_PDB_SS(): Reading /Users/egs/repos/proteusPy/proteusPy/data/PDB_SS_ALL_LOADER.pkl... done.\n",
      "    =========== RCSB Disulfide Database Summary ==============\n",
      "       =========== Built: 2023-03-11 10:56:26 ==============\n",
      "PDB IDs present:                    35818\n",
      "Disulfides loaded:                  120494\n",
      "Average structure resolution:       2.34 Å\n",
      "Lowest Energy Disulfide:            2q7q_75D_140D\n",
      "Highest Energy Disulfide:           1toz_456A_467A\n",
      "Ca distance cutoff:                 8.00 Å\n",
      "Total RAM Used:                     31.05 GB.\n",
      "    ================= proteusPy: 0.63dev =======================\n"
     ]
    }
   ],
   "source": [
    "PDB_SS = Load_PDB_SS(verbose=True, subset=False)\n",
    "PDB_SS.describe()\n"
   ]
  },
  {
   "cell_type": "code",
   "execution_count": 6,
   "metadata": {},
   "outputs": [
    {
     "data": {
      "text/html": [
       "<div>\n",
       "<style scoped>\n",
       "    .dataframe tbody tr th:only-of-type {\n",
       "        vertical-align: middle;\n",
       "    }\n",
       "\n",
       "    .dataframe tbody tr th {\n",
       "        vertical-align: top;\n",
       "    }\n",
       "\n",
       "    .dataframe thead th {\n",
       "        text-align: right;\n",
       "    }\n",
       "</style>\n",
       "<table border=\"1\" class=\"dataframe\">\n",
       "  <thead>\n",
       "    <tr style=\"text-align: right;\">\n",
       "      <th></th>\n",
       "      <th>class_id</th>\n",
       "      <th>ss_id</th>\n",
       "      <th>count</th>\n",
       "      <th>incidence</th>\n",
       "      <th>percentage</th>\n",
       "    </tr>\n",
       "  </thead>\n",
       "  <tbody>\n",
       "    <tr>\n",
       "      <th>2128</th>\n",
       "      <td>43543</td>\n",
       "      <td>[6snc_134A_194A, 6vsz_261A_321A, 6vqe_203A_259...</td>\n",
       "      <td>1830</td>\n",
       "      <td>0.015187</td>\n",
       "      <td>1.518748</td>\n",
       "    </tr>\n",
       "    <tr>\n",
       "      <th>2416</th>\n",
       "      <td>45556</td>\n",
       "      <td>[1dot_358A_371A, 3wu7_30A_115A, 2zyp_30A_115A,...</td>\n",
       "      <td>1253</td>\n",
       "      <td>0.010399</td>\n",
       "      <td>1.039886</td>\n",
       "    </tr>\n",
       "    <tr>\n",
       "      <th>3015</th>\n",
       "      <td>54555</td>\n",
       "      <td>[1z3t_50A_71A, 2any_42A_58A, 1aq7_42A_58A, 7br...</td>\n",
       "      <td>1894</td>\n",
       "      <td>0.015719</td>\n",
       "      <td>1.571862</td>\n",
       "    </tr>\n",
       "    <tr>\n",
       "      <th>3086</th>\n",
       "      <td>55255</td>\n",
       "      <td>[1z3t_225A_245A, 7nd8_379A_432A, 7nd8_391A_525...</td>\n",
       "      <td>1923</td>\n",
       "      <td>0.015959</td>\n",
       "      <td>1.595930</td>\n",
       "    </tr>\n",
       "    <tr>\n",
       "      <th>3087</th>\n",
       "      <td>55256</td>\n",
       "      <td>[6vpa_176A_190A, 1z3t_173A_204A, 2any_136A_201...</td>\n",
       "      <td>1913</td>\n",
       "      <td>0.015876</td>\n",
       "      <td>1.587631</td>\n",
       "    </tr>\n",
       "    <tr>\n",
       "      <th>3179</th>\n",
       "      <td>55554</td>\n",
       "      <td>[4eix_44A_105A, 4eix_84A_96A, 2zxt_407A_440A, ...</td>\n",
       "      <td>1507</td>\n",
       "      <td>0.012507</td>\n",
       "      <td>1.250685</td>\n",
       "    </tr>\n",
       "    <tr>\n",
       "      <th>3180</th>\n",
       "      <td>55555</td>\n",
       "      <td>[1z3t_135A_394A, 1jc9_206A_219A, 3k0v_481A_675...</td>\n",
       "      <td>3079</td>\n",
       "      <td>0.025553</td>\n",
       "      <td>2.555314</td>\n",
       "    </tr>\n",
       "    <tr>\n",
       "      <th>3181</th>\n",
       "      <td>55556</td>\n",
       "      <td>[2qhe_27A_126A, 2mz0_26A_49A, 5ao5_382A_393A, ...</td>\n",
       "      <td>1504</td>\n",
       "      <td>0.012482</td>\n",
       "      <td>1.248195</td>\n",
       "    </tr>\n",
       "    <tr>\n",
       "      <th>3185</th>\n",
       "      <td>55565</td>\n",
       "      <td>[1jc9_49A_80A, 3ul7_266A_301A, 2myj_10A_58A, 3...</td>\n",
       "      <td>1313</td>\n",
       "      <td>0.010897</td>\n",
       "      <td>1.089681</td>\n",
       "    </tr>\n",
       "    <tr>\n",
       "      <th>3338</th>\n",
       "      <td>56555</td>\n",
       "      <td>[3ejj_48A_139A, 4eix_27A_126A, 4eix_50A_133A, ...</td>\n",
       "      <td>1737</td>\n",
       "      <td>0.014416</td>\n",
       "      <td>1.441566</td>\n",
       "    </tr>\n",
       "    <tr>\n",
       "      <th>3339</th>\n",
       "      <td>56556</td>\n",
       "      <td>[4lb7_9D_29D, 3l4o_46C_77C, 1qub_32A_60A, 2h2t...</td>\n",
       "      <td>1257</td>\n",
       "      <td>0.010432</td>\n",
       "      <td>1.043205</td>\n",
       "    </tr>\n",
       "    <tr>\n",
       "      <th>3344</th>\n",
       "      <td>56565</td>\n",
       "      <td>[1sl4_284A_377A, 5ao5_266A_359A, 2v96_402A_521...</td>\n",
       "      <td>1429</td>\n",
       "      <td>0.011860</td>\n",
       "      <td>1.185951</td>\n",
       "    </tr>\n",
       "    <tr>\n",
       "      <th>3792</th>\n",
       "      <td>65255</td>\n",
       "      <td>[2hew_98F_183F, 1z3t_19A_25A, 2fk2_133A_187A, ...</td>\n",
       "      <td>2353</td>\n",
       "      <td>0.019528</td>\n",
       "      <td>1.952794</td>\n",
       "    </tr>\n",
       "    <tr>\n",
       "      <th>3793</th>\n",
       "      <td>65256</td>\n",
       "      <td>[4lb7_2D_30D, 7nd8_131A_166A, 1aq7_136A_201A, ...</td>\n",
       "      <td>3073</td>\n",
       "      <td>0.025503</td>\n",
       "      <td>2.550334</td>\n",
       "    </tr>\n",
       "    <tr>\n",
       "      <th>3866</th>\n",
       "      <td>65555</td>\n",
       "      <td>[2qhe_61A_91A, 3l4o_78C_109C, 4eix_61A_91A, 7n...</td>\n",
       "      <td>1569</td>\n",
       "      <td>0.013021</td>\n",
       "      <td>1.302140</td>\n",
       "    </tr>\n",
       "    <tr>\n",
       "      <th>3867</th>\n",
       "      <td>65556</td>\n",
       "      <td>[7yeg_1032A_1043A, 3ehu_68A_102A, 6zge_1032A_1...</td>\n",
       "      <td>1208</td>\n",
       "      <td>0.010025</td>\n",
       "      <td>1.002540</td>\n",
       "    </tr>\n",
       "  </tbody>\n",
       "</table>\n",
       "</div>"
      ],
      "text/plain": [
       "     class_id                                              ss_id  count  incidence  percentage\n",
       "2128    43543  [6snc_134A_194A, 6vsz_261A_321A, 6vqe_203A_259...   1830   0.015187    1.518748\n",
       "2416    45556  [1dot_358A_371A, 3wu7_30A_115A, 2zyp_30A_115A,...   1253   0.010399    1.039886\n",
       "3015    54555  [1z3t_50A_71A, 2any_42A_58A, 1aq7_42A_58A, 7br...   1894   0.015719    1.571862\n",
       "3086    55255  [1z3t_225A_245A, 7nd8_379A_432A, 7nd8_391A_525...   1923   0.015959    1.595930\n",
       "3087    55256  [6vpa_176A_190A, 1z3t_173A_204A, 2any_136A_201...   1913   0.015876    1.587631\n",
       "3179    55554  [4eix_44A_105A, 4eix_84A_96A, 2zxt_407A_440A, ...   1507   0.012507    1.250685\n",
       "3180    55555  [1z3t_135A_394A, 1jc9_206A_219A, 3k0v_481A_675...   3079   0.025553    2.555314\n",
       "3181    55556  [2qhe_27A_126A, 2mz0_26A_49A, 5ao5_382A_393A, ...   1504   0.012482    1.248195\n",
       "3185    55565  [1jc9_49A_80A, 3ul7_266A_301A, 2myj_10A_58A, 3...   1313   0.010897    1.089681\n",
       "3338    56555  [3ejj_48A_139A, 4eix_27A_126A, 4eix_50A_133A, ...   1737   0.014416    1.441566\n",
       "3339    56556  [4lb7_9D_29D, 3l4o_46C_77C, 1qub_32A_60A, 2h2t...   1257   0.010432    1.043205\n",
       "3344    56565  [1sl4_284A_377A, 5ao5_266A_359A, 2v96_402A_521...   1429   0.011860    1.185951\n",
       "3792    65255  [2hew_98F_183F, 1z3t_19A_25A, 2fk2_133A_187A, ...   2353   0.019528    1.952794\n",
       "3793    65256  [4lb7_2D_30D, 7nd8_131A_166A, 1aq7_136A_201A, ...   3073   0.025503    2.550334\n",
       "3866    65555  [2qhe_61A_91A, 3l4o_78C_109C, 4eix_61A_91A, 7n...   1569   0.013021    1.302140\n",
       "3867    65556  [7yeg_1032A_1043A, 3ehu_68A_102A, 6zge_1032A_1...   1208   0.010025    1.002540"
      ]
     },
     "execution_count": 6,
     "metadata": {},
     "output_type": "execute_result"
    }
   ],
   "source": [
    "perc = PDB_SS.tclass.filter_sixclass_by_percentage(1.0)\n",
    "perc"
   ]
  },
  {
   "cell_type": "code",
   "execution_count": 7,
   "metadata": {},
   "outputs": [],
   "source": [
    "sslist1 = PDB_SS.tclass.sslist_from_classid('43543')"
   ]
  },
  {
   "cell_type": "code",
   "execution_count": null,
   "metadata": {},
   "outputs": [],
   "source": []
  },
  {
   "cell_type": "code",
   "execution_count": null,
   "metadata": {},
   "outputs": [],
   "source": [
    "from proteusPy.DisulfideClass_Constructor import DisulfideClass_Constructor\n",
    "\n",
    "dclass = DisulfideClass_Constructor(PDB_SS)\n"
   ]
  },
  {
   "cell_type": "code",
   "execution_count": null,
   "metadata": {},
   "outputs": [],
   "source": [
    "dclass.sslist_from_classid('66666')"
   ]
  },
  {
   "cell_type": "code",
   "execution_count": null,
   "metadata": {},
   "outputs": [],
   "source": [
    "_six = dclass.sixclass_df\n",
    "_six.shape[0]\n",
    "print(_six.head())\n",
    "_six.plot(x='class_id', y='percentage')\n"
   ]
  },
  {
   "cell_type": "code",
   "execution_count": null,
   "metadata": {},
   "outputs": [],
   "source": [
    "from proteusPy.DisulfideClasses import filter_by_percent\n",
    "\n",
    "\n",
    "oneperc = filter_by_percent(dclass, .1)\n",
    "\n",
    "six = oneperc.sort_values(by='incidence', ascending=False)\n",
    "#six.to_csv(f'{DATA_DIR}six.csv')\n",
    "\n",
    "print(f'Classes: {oneperc.shape[0]}')\n",
    "oneperc.head(187)"
   ]
  },
  {
   "cell_type": "code",
   "execution_count": null,
   "metadata": {},
   "outputs": [],
   "source": [
    "dclass.plot_class_chart(6)"
   ]
  },
  {
   "cell_type": "code",
   "execution_count": null,
   "metadata": {},
   "outputs": [],
   "source": [
    "class_list = dclass.sslist_from_classid('22222','6')\n",
    "class_list"
   ]
  },
  {
   "cell_type": "markdown",
   "metadata": {},
   "source": []
  },
  {
   "cell_type": "code",
   "execution_count": null,
   "metadata": {},
   "outputs": [],
   "source": [
    "# 1mfe_137L_196L\n",
    "ss1 = PDB_SS['4lb7_2D_30D'] # -!*--\n",
    "ss1.pprint()\n",
    "ss2 = PDB_SS['2qhe_61A_91A']\n",
    "ss2.pprint()\n",
    "ss3 = PDB_SS['3jad_214A_225A'] # ++!++\n",
    "ss3.pprint()"
   ]
  },
  {
   "cell_type": "code",
   "execution_count": null,
   "metadata": {},
   "outputs": [],
   "source": [
    "import math\n",
    "math.radians(-60)"
   ]
  },
  {
   "cell_type": "markdown",
   "metadata": {},
   "source": [
    "#\n",
    "\n",
    "def build_models_for_ss(loader: DisulfideLoader, do_graph=False, do_consensus=False):\n",
    "    df = loader.getTorsions()\n",
    "    for index, row in df.iterrows():\n",
    "        ss_list = row['ss_id'].split(',') # Assuming ss_id is a comma-separated list\n",
    "        class_id = row['class_id']\n",
    "        for ss in ss_list:\n",
    "            ssb = loader[ss]\n"
   ]
  },
  {
   "cell_type": "code",
   "execution_count": null,
   "metadata": {},
   "outputs": [],
   "source": []
  },
  {
   "cell_type": "code",
   "execution_count": null,
   "metadata": {},
   "outputs": [],
   "source": []
  },
  {
   "cell_type": "code",
   "execution_count": null,
   "metadata": {},
   "outputs": [],
   "source": []
  },
  {
   "cell_type": "code",
   "execution_count": null,
   "metadata": {},
   "outputs": [],
   "source": [
    "# \n",
    "# trin.plot(x='class_id', y='percentage')"
   ]
  },
  {
   "cell_type": "code",
   "execution_count": null,
   "metadata": {},
   "outputs": [],
   "source": [
    "from proteusPy.utility import generate_vector_dataframe\n",
    "\n",
    "trinary = generate_vector_dataframe(base=3)\n",
    "trinary.head(64)"
   ]
  },
  {
   "cell_type": "code",
   "execution_count": null,
   "metadata": {},
   "outputs": [],
   "source": [
    "quart = generate_vector_dataframe(base=4)\n",
    "quart.head(128)\n"
   ]
  },
  {
   "cell_type": "code",
   "execution_count": null,
   "metadata": {},
   "outputs": [],
   "source": [
    "# define the function\n",
    "def filter_df(df, amt):\n",
    "    # filter the rows where percentage is greater than or equal to 1.0\n",
    "    filtered_df = df[df[\"percentage\"] >= amt]\n",
    "    # return the filtered dataframe\n",
    "    return filtered_df\n",
    "\n",
    "\n",
    "  "
   ]
  },
  {
   "cell_type": "code",
   "execution_count": null,
   "metadata": {},
   "outputs": [],
   "source": []
  },
  {
   "cell_type": "code",
   "execution_count": null,
   "metadata": {},
   "outputs": [],
   "source": [
    "all_tors_df = PDB_SS.TorsionDF\n",
    "all_tors_df.describe()"
   ]
  },
  {
   "cell_type": "code",
   "execution_count": null,
   "metadata": {},
   "outputs": [],
   "source": [
    "rhs = PDB_SS.from_class('+RHStaple')\n",
    "rhs.TorsionGraph(save=True, light=False, fname=f'/tmp/tst.png')\n"
   ]
  },
  {
   "cell_type": "code",
   "execution_count": null,
   "metadata": {},
   "outputs": [],
   "source": [
    "import matplotlib.pyplot as plt\n",
    "\n",
    "#tors.plot('rho')\n",
    "tors['rho'].hist(density=True, bins=100)\n",
    "\n",
    "# Add labels and title to the plot\n",
    "plt.xlabel('rho')\n",
    "plt.ylabel('Probability Density')\n",
    "plt.title('Probability Density Histogram')\n",
    "\n",
    "# Show the plot\n",
    "plt.show()"
   ]
  },
  {
   "cell_type": "code",
   "execution_count": null,
   "metadata": {},
   "outputs": [],
   "source": [
    "rho = tors['rho']"
   ]
  },
  {
   "cell_type": "code",
   "execution_count": null,
   "metadata": {},
   "outputs": [],
   "source": []
  },
  {
   "cell_type": "code",
   "execution_count": null,
   "metadata": {},
   "outputs": [],
   "source": [
    "rhs = PDB_SS.from_class('+RHStaple')\n",
    "rhs.TorsionGraph(save=True, light=False, fname=f'/tmp/tst.png')\n"
   ]
  },
  {
   "cell_type": "code",
   "execution_count": null,
   "metadata": {},
   "outputs": [],
   "source": [
    "PDB_SS.classdf.to_csv(f'{DATA_DIR}PDB_SS_CLASSES.csv')"
   ]
  },
  {
   "cell_type": "code",
   "execution_count": null,
   "metadata": {},
   "outputs": [],
   "source": [
    "start = time.time()\n",
    "\n",
    "# pyvista setup for notebooks\n",
    "pv.set_jupyter_backend('trame')\n",
    "set_plot_theme('dark')\n",
    "\n",
    "PDB_SS = Load_PDB_SS(verbose=True, subset=False)\n",
    "\n",
    "_PBAR_COLS = 80\n",
    "\n",
    "def analyze_classes(loader: DisulfideLoader) -> DisulfideList:\n",
    "    classes = loader.classdict\n",
    "    tot_classes = len(classes)\n",
    "    res_list = DisulfideList([], 'SS_Class_Avg_SS')\n",
    "\n",
    "    pbar = enumerate(classes)\n",
    "    for idx, cls in pbar:\n",
    "        print(f'--> analyze_classes(): {cls} {idx+1}/{tot_classes}')\n",
    "        class_ss_list = loader.from_class(cls)\n",
    "        fname = f'./classes/ss_class_{idx}.png'\n",
    "        class_ss_list.TorsionGraph(display=False, save=True, fname=fname)\n",
    "        fname2 = f'./classes/ss_consensus_{idx}.png'\n",
    "        avg_conformation = class_ss_list.Average_Conformation\n",
    "        ssname = f'{cls}_avg'\n",
    "        exemplar = Disulfide(ssname)\n",
    "        exemplar.build_model(avg_conformation[0], avg_conformation[1],\n",
    "                             avg_conformation[2],avg_conformation[3],\n",
    "                             avg_conformation[4])\n",
    "        res_list.append(exemplar)\n",
    "    return res_list\n",
    "\n",
    "def build_consensus_list(loader: DisulfideLoader) -> DisulfideList:\n",
    "    classes = loader.classdict\n",
    "    tot_classes = len(classes)\n",
    "    res_list = DisulfideList([], 'SS_Classes')\n",
    "\n",
    "    pbar = enumerate(classes)\n",
    "    for idx, cls in pbar:\n",
    "        print(f'--> build_consensus_list(): {cls} {idx+1}/{tot_classes}')\n",
    "        class_ss_list = loader.from_class(cls)\n",
    "        fname2 = f'./classes/ss_consensus_{idx}.png'\n",
    "\n",
    "        # compute and build a consensus 'average' conformation\n",
    "        avg_conformation = class_ss_list.Average_Conformation\n",
    "        ssname = f'{cls}_avg'\n",
    "        exemplar = Disulfide(ssname)\n",
    "        exemplar.build_model(avg_conformation[0], avg_conformation[1],\n",
    "                             avg_conformation[2],avg_conformation[3],\n",
    "                             avg_conformation[4])\n",
    "        res_list.append(exemplar)\n",
    "\n",
    "    return\n",
    "\n",
    "avg_ss_list = DisulfideList([], 'SS_Class_Consensus')\n",
    "avg_ss_list = analyze_classes(PDB_SS)\n",
    "\n",
    "\n",
    "end = time.time()\n",
    "elapsed = end - start\n"
   ]
  },
  {
   "cell_type": "code",
   "execution_count": null,
   "metadata": {},
   "outputs": [],
   "source": [
    "avg_ss_list.display(style='sb', light=True)"
   ]
  },
  {
   "cell_type": "code",
   "execution_count": null,
   "metadata": {},
   "outputs": [],
   "source": [
    "rhs = PDB_SS.from_class('+RHStaple')\n",
    "df = rhs.torsion_df\n",
    "df_subset = df.iloc[:, 4:]\n",
    "df_stats = df_subset.describe()\n",
    "\n",
    "#PDB_SS.list_binary_classes()\n"
   ]
  },
  {
   "cell_type": "code",
   "execution_count": null,
   "metadata": {},
   "outputs": [],
   "source": [
    "df_stats.head()"
   ]
  },
  {
   "cell_type": "code",
   "execution_count": null,
   "metadata": {},
   "outputs": [],
   "source": [
    "_fname = f'{DATA_DIR}classes/ss_class_rhs.png'\n",
    "rhs = PDB_SS.from_class('+RHStaple')\n",
    "rhs.TorsionGraph(light=False, save=True, fname=_fname)"
   ]
  },
  {
   "cell_type": "code",
   "execution_count": null,
   "metadata": {},
   "outputs": [],
   "source": []
  },
  {
   "cell_type": "code",
   "execution_count": null,
   "metadata": {},
   "outputs": [],
   "source": []
  },
  {
   "cell_type": "code",
   "execution_count": null,
   "metadata": {},
   "outputs": [],
   "source": [
    "df = rhs.torsion_df\n",
    "df_subset = df.iloc[:, 4:]\n",
    "df_stats = df_subset.describe()\n",
    "print(df_stats)\n",
    "df_stats.loc['mean']['ca_distance']\n",
    "mean_vals = df_stats.loc['mean'].values\n",
    "std_vals = df_stats.loc['std'].values\n",
    "\n",
    "std_vals[6]\n",
    "\n"
   ]
  },
  {
   "cell_type": "code",
   "execution_count": null,
   "metadata": {},
   "outputs": [],
   "source": [
    "chis = df[4]"
   ]
  },
  {
   "cell_type": "code",
   "execution_count": null,
   "metadata": {},
   "outputs": [],
   "source": [
    "rhs.TorsionGraph(light=True,fname='rhstaple.png', save=True)"
   ]
  },
  {
   "cell_type": "code",
   "execution_count": null,
   "metadata": {},
   "outputs": [],
   "source": [
    "tors_df = PDB_SS.getTorsions()\n",
    "tors_df.describe()"
   ]
  },
  {
   "cell_type": "code",
   "execution_count": null,
   "metadata": {},
   "outputs": [],
   "source": [
    "ss1 = Disulfide('bogus')\n",
    "ss1.build_model(-60,-60,-84,-60,-60)\n",
    "ss1.pprint()"
   ]
  },
  {
   "cell_type": "code",
   "execution_count": null,
   "metadata": {},
   "outputs": [],
   "source": [
    "PDB_SS['2q7q_75D_140D']"
   ]
  },
  {
   "cell_type": "code",
   "execution_count": null,
   "metadata": {},
   "outputs": [],
   "source": [
    "PDB_SS2 = Load_PDB_SS(subset=True, verbose=True)\n",
    "#PDB_SS.describe()\n"
   ]
  },
  {
   "cell_type": "code",
   "execution_count": null,
   "metadata": {},
   "outputs": [],
   "source": [
    "PDB_SS['5fha']"
   ]
  },
  {
   "cell_type": "code",
   "execution_count": null,
   "metadata": {},
   "outputs": [],
   "source": [
    "PDB_SS2['5fha']"
   ]
  },
  {
   "cell_type": "code",
   "execution_count": null,
   "metadata": {},
   "outputs": [],
   "source": [
    "len(PDB_SS.SSList)\n",
    "PDB_SS.SSList[306]"
   ]
  },
  {
   "cell_type": "code",
   "execution_count": null,
   "metadata": {},
   "outputs": [],
   "source": [
    "best = PDB_SS.get_by_name('2q7q_75D_140D')\n",
    "worst = PDB_SS.get_by_name('1zjk_629A_660A')\n",
    "worst\n",
    "duo = DisulfideList([best, worst], 'bw')\n",
    "duo.display(style='sb')"
   ]
  },
  {
   "cell_type": "code",
   "execution_count": null,
   "metadata": {},
   "outputs": [],
   "source": [
    "totSS_list = PDB_SS.SSList\n",
    "neighbors = best.Torsion_neighbors(totSS_list, 10)\n",
    "PDB_SS = Load_PDB_SS(verbose=False, subset=True)\n",
    "tot = neighbors.length\n",
    "tot\n"
   ]
  },
  {
   "cell_type": "code",
   "execution_count": null,
   "metadata": {},
   "outputs": [],
   "source": [
    "neighbors"
   ]
  },
  {
   "cell_type": "code",
   "execution_count": null,
   "metadata": {},
   "outputs": [],
   "source": []
  },
  {
   "cell_type": "code",
   "execution_count": null,
   "metadata": {},
   "outputs": [],
   "source": [
    "ssbest = PDB_SS['2q7q']\n",
    "ssbest.pprint()"
   ]
  },
  {
   "cell_type": "code",
   "execution_count": null,
   "metadata": {},
   "outputs": [],
   "source": [
    "sslist2 = PDB_SS['3k0v']\n",
    "sslist2"
   ]
  },
  {
   "cell_type": "code",
   "execution_count": null,
   "metadata": {},
   "outputs": [],
   "source": []
  },
  {
   "cell_type": "code",
   "execution_count": null,
   "metadata": {},
   "outputs": [],
   "source": []
  },
  {
   "cell_type": "code",
   "execution_count": null,
   "metadata": {},
   "outputs": [],
   "source": []
  },
  {
   "cell_type": "code",
   "execution_count": null,
   "metadata": {},
   "outputs": [],
   "source": []
  },
  {
   "cell_type": "code",
   "execution_count": null,
   "metadata": {},
   "outputs": [],
   "source": [
    "import py3Dmol\n",
    "import urllib.request\n",
    "\n",
    "import py3Dmol\n",
    "import urllib.request\n",
    "\n",
    "def Odisplay_pdb_structure():\n",
    "    # download PDB structure 3q7q\n",
    "    pdb_url = 'https://files.rcsb.org/download/2q7q.pdb'\n",
    "    pdb_data = urllib.request.urlopen(pdb_url).read().decode('utf-8')\n",
    "\n",
    "    # create viewer object\n",
    "    viewer = py3Dmol.view(width=1024, height=1024)\n",
    "\n",
    "    # add PDB data to viewer\n",
    "    viewer.addModel(pdb_data, 'pdb')\n",
    "\n",
    "    \n",
    "    # select residues 75 and 150 from chain 'D'\n",
    "    sel_str = ':D and (resi 75 or resi 140)'\n",
    "    #viewer.setStyle({'resi': [75, 140], 'chain': 'D'}, {'stick': {'color': 'green', 'radius': 0.6}, 'sphere': {'color': 'green', 'radius': 1}}, sel_str)\n",
    "    viewer.setStyle(sel_str, {'sphere': {'scale': 0.5}, 'color': 'element'})\n",
    "\n",
    "\n",
    "    # display all other residues as a ribbon colored by chain\n",
    "    viewer.setStyle({}, {'cartoon': {'color': 'spectrum'}})\n",
    "\n",
    "    # center and zoom to selection\n",
    "    viewer.zoomTo({'sel': sel_str})\n",
    "    \n",
    "    # show viewer\n",
    "    return viewer.show()\n",
    "\n",
    "import urllib.request\n",
    "import py3Dmol\n",
    "\n",
    "def oodisplay_pdb_structure():\n",
    "    # Download PDB structure 2q7q\n",
    "    pdb_url = \"https://files.rcsb.org/download/2q7q.pdb\"\n",
    "    pdb_file = urllib.request.urlopen(pdb_url).read().decode(\"utf-8\")\n",
    "\n",
    "    # Initialize viewer\n",
    "    view = py3Dmol.view(width=800, height=600)\n",
    "\n",
    "    # Select residues 75 and 140 from chain D\n",
    "    selection = \"(resid 81 or resid 113)\"\n",
    "\n",
    "    # Add selected atoms as spheres scaled by atom radius and colored by atom type\n",
    "    view.addModel(pdb_file, \"pdb\")\n",
    "    view.setStyle(selection, {\"sphere\": {\"scale\": 0.5}, \"color\": \"element\"})\n",
    "\n",
    "    # Display all other residues as a ribbon colored by secondary structure\n",
    "    view.setStyle(\"not \" + selection, {\"cartoon\": {\"color\": \"spectrum\"}})\n",
    "\n",
    "    # Set camera and render the viewer\n",
    "    view.zoomTo(selection)\n",
    "    view.render()\n",
    "\n",
    "import py3Dmol\n",
    "import requests\n",
    "\n",
    "def display_pdb_structure():\n",
    "    # Download PDB structure 2q7q\n",
    "    pdb_id = '2q7q'\n",
    "    pdb_url = f'https://files.rcsb.org/download/{pdb_id}.pdb'\n",
    "    pdb_file = requests.get(pdb_url).text\n",
    "    \n",
    "    # Initialize viewer\n",
    "    view = py3Dmol.view(width=800, height=600)\n",
    "    \n",
    "    # Select residues 75 and 140 from chain D\n",
    "    selection = {'chain': 'D', 'resi': '75, 140'}\n",
    "    \n",
    "    # Add selected atoms as spheres scaled by atom radius and colored by atom type\n",
    "    view.addModel(pdb_file, 'pdb')\n",
    "    view.setStyle(selection, {'sphere': {'scale': 0.5}, 'color': 'element'})\n",
    "    \n",
    "    # Display all other residues as a ribbon colored by secondary structure\n",
    "    view.setStyle({}, {'cartoon': {'color': 'spectrum'}})\n",
    "    \n",
    "    # Set camera and render the viewer\n",
    "    view.zoomTo(selection)\n",
    "    view.render()\n",
    "\n",
    "import requests\n",
    "import py3Dmol\n",
    "\n",
    "def odisplay_cys_residues():\n",
    "    # Download PDB structure 2q7q\n",
    "    pdb_id = '2q7q'\n",
    "    pdb_url = f'https://files.rcsb.org/download/{pdb_id}.pdb'\n",
    "    pdb_file = requests.get(pdb_url).text\n",
    "    \n",
    "    # Initialize viewer\n",
    "    view = py3Dmol.view(width=800, height=800)\n",
    "    \n",
    "    # Select all Cys residues\n",
    "    selection = {'resn': 'CYS'}\n",
    "    \n",
    "    # Add selected atoms as spheres scaled by atom radius and colored green\n",
    "    view.addModel(pdb_file, 'pdb')\n",
    "    view.setStyle(selection, {'sphere': {'scale': 0.5}, 'color': 'green'})\n",
    "    \n",
    "    # Set camera and render the viewer\n",
    "    view.zoomTo(selection)\n",
    "    view.render()\n",
    "\n",
    "\n",
    "import requests\n",
    "import py3Dmol\n",
    "\n",
    "def display_cys_residues():\n",
    "    # Download PDB structure 2q7q\n",
    "    pdb_id = '2q7q'\n",
    "    pdb_url = f'https://files.rcsb.org/download/{pdb_id}.pdb'\n",
    "    pdb_file = requests.get(pdb_url).text\n",
    "\n",
    "    # Initialize viewer\n",
    "    view = py3Dmol.view(width=800, height=600)\n",
    "\n",
    "    # Add protein backbone as ribbon\n",
    "    view.addModel(pdb_file, 'pdb')\n",
    "    view.setStyle({'cartoon': {'color': 'spectrum'}})\n",
    "\n",
    "    # Select all Cys residues and display as green spheres\n",
    "    selection = {'resn': 'CYS'}\n",
    "    view.addStyle(selection, {'sphere': {'color': 'green', 'radius': 0.3}})\n",
    "\n",
    "    # Set camera and render the viewer\n",
    "    view.zoomTo(selection)\n",
    "    view.render()\n",
    "\n",
    "import requests\n",
    "import py3Dmol\n",
    "\n",
    "def display_cys_and_ss_bonds():\n",
    "    # Download PDB structure 2q7q\n",
    "    pdb_id = '2q7q'\n",
    "    pdb_url = f'https://files.rcsb.org/download/{pdb_id}.pdb'\n",
    "    pdb_file = requests.get(pdb_url).text\n",
    "\n",
    "    # Initialize viewer\n",
    "    view = py3Dmol.view(width=800, height=800)\n",
    "\n",
    "    # Add protein as sticks\n",
    "    view.addModel(pdb_file, 'pdb')\n",
    "    #view.setStyle({'stick': {}})\n",
    "\n",
    "    # Select all Cys residues and SSBOND bonds and display as green sticks\n",
    "    cys_selection = {'resn': 'CYS'}\n",
    "    ssbond_selection = {'ss': 'disulf'}\n",
    "    view.addStyle(cys_selection, {'stick': {'colorscheme': 'greenCarbon', 'radius': 0.2}})\n",
    "    view.addStyle(ssbond_selection, {'stick': {'colorscheme': 'greenCarbon', 'radius': 1.0}})\n",
    "\n",
    "    # Set camera and render the viewer\n",
    "    #view.zoomTo(cys_selection)\n",
    "    view.render()\n",
    "\n",
    "import requests\n",
    "import py3Dmol\n",
    "\n",
    "def display_disulfide_bonds():\n",
    "    # Download PDB structure 2q7q\n",
    "    pdb_id = '2q7q'\n",
    "    pdb_url = f'https://files.rcsb.org/download/{pdb_id}.pdb'\n",
    "    pdb_file = requests.get(pdb_url).text\n",
    "\n",
    "    # Initialize viewer\n",
    "    view = py3Dmol.view(width=800, height=600)\n",
    "\n",
    "    # Add protein as sticks\n",
    "    view.addModel(pdb_file, 'pdb')\n",
    "    view.setStyle({'stick': {}})\n",
    "\n",
    "    # Select all disulfide bonds and display as green sticks\n",
    "    ssbond_selection = {'ss': 'disulf'}\n",
    "    view.addStyle(ssbond_selection, {'stick': {'colorscheme': 'greenCarbon', 'radius': 0.2}})\n",
    "\n",
    "    # Set camera and render the viewer\n",
    "    view.zoomTo(ssbond_selection)\n",
    "    view.render()\n",
    "\n",
    "display_disulfide_bonds()\n"
   ]
  },
  {
   "cell_type": "code",
   "execution_count": null,
   "metadata": {},
   "outputs": [],
   "source": [
    "import py3Dmol\n",
    "\n",
    "viewer = py3Dmol.view(query='pdb:2q7q')\n",
    "viewer.setStyle({'cartoon': {}})\n",
    "\n",
    "viewer.setStyle({'chain': 'D', 'resn': 'CYS'},{'stick': {'colorscheme': 'lightgreenCarbon'}})\n",
    "#viewer.addLabel('Chain D', {'fontColor':'orange', 'backgroundColor':'lightgray'}, {'chain': ['D']})\n",
    "ssbond_selection = {'ss': 'disulf'}\n",
    "viewer.addStyle(ssbond_selection, {'stick': {'colorscheme': 'greenCarbon', 'radius': 0.2}})\n",
    "\n",
    "#viewer.setStyle({'resn': 'CYS'},{'stick': {'colorscheme': 'orangeCarbon'}})\n",
    "\n",
    "viewer.show()"
   ]
  },
  {
   "cell_type": "code",
   "execution_count": null,
   "metadata": {},
   "outputs": [],
   "source": [
    "import py3Dmol\n",
    "viewer.show()"
   ]
  },
  {
   "cell_type": "code",
   "execution_count": null,
   "metadata": {},
   "outputs": [],
   "source": [
    "viewer.setStyle({'resn': 'SSBOND'},{'stick': {'colorscheme': 'greenCarbon'}})\n",
    "viewer.show()"
   ]
  },
  {
   "cell_type": "code",
   "execution_count": null,
   "metadata": {},
   "outputs": [],
   "source": []
  },
  {
   "cell_type": "code",
   "execution_count": null,
   "metadata": {},
   "outputs": [],
   "source": [
    "from proteusPy.utility import download_file\n",
    "# Example usage:\n",
    "url = \"https://github.com/suchanek/proteusPy/raw/master/proteusPy/data/PDB_SS_ALL_LOADER.pkl\"\n",
    "directory = \"/tmp\"\n",
    "\n",
    "download_file(url, directory)\n"
   ]
  },
  {
   "cell_type": "code",
   "execution_count": null,
   "metadata": {},
   "outputs": [],
   "source": []
  },
  {
   "cell_type": "code",
   "execution_count": null,
   "metadata": {},
   "outputs": [],
   "source": []
  },
  {
   "cell_type": "code",
   "execution_count": null,
   "metadata": {},
   "outputs": [],
   "source": [
    "from proteusPy.DisulfideList import DisulfideList\n",
    "SSlist = DisulfideList([],'ss','22')\n",
    "newss = load_disulfides_from_id('6z9g', verbose=False)\n",
    "newss.display(light=False)\n",
    "\n"
   ]
  },
  {
   "cell_type": "code",
   "execution_count": null,
   "metadata": {},
   "outputs": [],
   "source": []
  },
  {
   "cell_type": "code",
   "execution_count": null,
   "metadata": {},
   "outputs": [],
   "source": [
    "import pandas as pd\n",
    "import numpy\n",
    "\n",
    "import pyvista as pv\n",
    "from pyvista import set_plot_theme\n",
    "\n",
    "from Bio.PDB import *\n",
    "\n",
    "# for using from the repo we \n",
    "import proteusPy\n",
    "from proteusPy import *\n",
    "from proteusPy.data import *\n",
    "from proteusPy.Disulfide import *\n",
    "from proteusPy.DisulfideList import DisulfideList, load_disulfides_from_id\n",
    "from proteusPy.DisulfideLoader import Load_PDB_SS\n",
    "\n",
    "\n",
    "PDB_SS = None\n",
    "\n",
    "#PDB_SS = DisulfideLoader(verbose=True, subset=False, datadir=DATA_DIR)\n",
    "PDB_SS = Load_PDB_SS(verbose=True, subset=False)\n"
   ]
  },
  {
   "cell_type": "code",
   "execution_count": null,
   "metadata": {},
   "outputs": [],
   "source": [
    "def Average_Resolution(ssloader: DisulfideLoader) -> float:\n",
    "    '''\n",
    "    Compute and return the average structure resolution for the given list.\n",
    "\n",
    "    :return: Average resolution (A)\n",
    "    '''\n",
    "    res_tot = 0.0\n",
    "    cnt = 1\n",
    "    \n",
    "    IDList = ssloader.IDList\n",
    "\n",
    "    for ssid in IDList:\n",
    "        _res = ssloader[ssid].resolution\n",
    "        if _res is not None and _res != -1.0:\n",
    "            res_tot += _res\n",
    "            cnt += 1\n",
    "    return res_tot / cnt\n",
    "\n",
    "      "
   ]
  },
  {
   "cell_type": "code",
   "execution_count": null,
   "metadata": {},
   "outputs": [],
   "source": [
    "PDB_SS['4yys']"
   ]
  },
  {
   "cell_type": "code",
   "execution_count": null,
   "metadata": {},
   "outputs": [],
   "source": [
    "ss1 = PDB_SS['4yys_22A_65A']"
   ]
  },
  {
   "cell_type": "code",
   "execution_count": null,
   "metadata": {},
   "outputs": [],
   "source": [
    "ss1.resolution"
   ]
  },
  {
   "cell_type": "code",
   "execution_count": null,
   "metadata": {},
   "outputs": [],
   "source": [
    "Average_Resolution(PDB_SS)"
   ]
  },
  {
   "cell_type": "code",
   "execution_count": null,
   "metadata": {},
   "outputs": [],
   "source": [
    "PDB_SS2 = Load_PDB_SS(verbose=True, subset=True)"
   ]
  },
  {
   "cell_type": "code",
   "execution_count": null,
   "metadata": {},
   "outputs": [],
   "source": [
    "pdb = DisulfideLoader(verbose=True, subset=False)"
   ]
  },
  {
   "cell_type": "code",
   "execution_count": null,
   "metadata": {},
   "outputs": [],
   "source": [
    "ss = pdb['2q7q_75D_140D']\n",
    "ss"
   ]
  },
  {
   "cell_type": "code",
   "execution_count": null,
   "metadata": {},
   "outputs": [],
   "source": [
    "PDB_SS['4yys']"
   ]
  },
  {
   "cell_type": "code",
   "execution_count": null,
   "metadata": {},
   "outputs": [],
   "source": []
  },
  {
   "cell_type": "code",
   "execution_count": null,
   "metadata": {},
   "outputs": [],
   "source": [
    "sslist = PDB_SS['4yys']\n",
    "sslist"
   ]
  },
  {
   "cell_type": "code",
   "execution_count": null,
   "metadata": {},
   "outputs": [],
   "source": [
    "\n",
    "\n",
    "sslist = PDB_SS.SSList\n",
    "LHS_neighbors = sslist.nearest_neighbors(-60, -60, -90, -60, -60, 20.0)\n",
    "LHS_neighbors.length\n",
    "# modelss = Disulfide('model', proximal=1, distal=2, pdb_id='EGS')\n",
    "# modelss.build_model(-60,-60, -90, -60, -60)\n"
   ]
  },
  {
   "cell_type": "code",
   "execution_count": null,
   "metadata": {},
   "outputs": [],
   "source": [
    "\n",
    "# We use the entire database contained in PDB_SS.SSList for our search here.\n",
    "# The entire database can be scanned in 13 seconds on the M1 Pro Macbook Pro.\n",
    "\n",
    "ssmin_enrg, ssmax_enrg = PDB_SS.SSList.minmax_energy()\n",
    "ssmin_enrg.pprint()\n",
    "ssmax_enrg.pprint()\n",
    "minmax = DisulfideList([ssmin_enrg, ssmax_enrg], 'minmax')\n",
    "#minmax.display()\n"
   ]
  },
  {
   "cell_type": "code",
   "execution_count": null,
   "metadata": {},
   "outputs": [],
   "source": [
    "ssmin_enrg.Torsion_Distance(ssmax_enrg)"
   ]
  },
  {
   "cell_type": "code",
   "execution_count": null,
   "metadata": {},
   "outputs": [],
   "source": [
    "ssmin_enrg.Torsion_Distance(ssmin_enrg)"
   ]
  },
  {
   "cell_type": "code",
   "execution_count": null,
   "metadata": {},
   "outputs": [],
   "source": [
    "import proteusPy\n",
    "from proteusPy.DisulfideLoader import DisulfideLoader\n",
    "from proteusPy.DisulfideList import DisulfideList\n",
    "from proteusPy.Disulfide import Disulfide\n",
    "\n",
    "PDB_SS = None\n",
    "PDB_SS = DisulfideLoader(verbose=False, subset=True)\n",
    "\n",
    "ss_list = DisulfideList([], 'tmp')\n",
    "sslist = PDB_SS.SSList\n",
    "ssmin_enrg, ssmax_enrg = PDB_SS.SSList.minmax_energy()\n",
    "\n",
    "low_energy_neighbors = DisulfideList([],'Neighbors')\n",
    "low_energy_neighbors = ssmin_enrg.Torsion_neighbors(sslist, 10)\n",
    "\n",
    "tot = low_energy_neighbors.length()\n",
    "print(f'Neighbors: {tot}')\n",
    "\n",
    "low_energy_neighbors.display_overlay()"
   ]
  },
  {
   "cell_type": "code",
   "execution_count": null,
   "metadata": {},
   "outputs": [],
   "source": [
    "\n"
   ]
  },
  {
   "cell_type": "code",
   "execution_count": null,
   "metadata": {},
   "outputs": [],
   "source": [
    "drms = low_energy_neighbors.Average_Distance()\n",
    "trms = low_energy_neighbors.Avg_Torsion_Distance()\n",
    "erms = low_energy_neighbors.Average_Energy()\n",
    "\n",
    "print(f'Low Energy Neighbors: {tot}, Distance: {drms:.2f} Torsions: {trms:.2f}, Energy: {erms:.2f}')\n",
    "\n"
   ]
  },
  {
   "cell_type": "code",
   "execution_count": null,
   "metadata": {},
   "outputs": [],
   "source": [
    "low_energy_neighbors.display_overlay()"
   ]
  },
  {
   "cell_type": "code",
   "execution_count": null,
   "metadata": {},
   "outputs": [],
   "source": [
    "high_energy_neighbors = DisulfideList([],'neighbors2')\n",
    "high_energy_neighbors = ssmax_enrg.Torsion_neighbors(sslist, 20)\n",
    "\n",
    "tot2 = high_energy_neighbors.length()\n",
    "print(f'Neighbors: {tot2}')"
   ]
  },
  {
   "cell_type": "code",
   "execution_count": null,
   "metadata": {},
   "outputs": [],
   "source": [
    "drms = high_energy_neighbors.Average_Distance()\n",
    "trms = high_energy_neighbors.Avg_Torsion_Distance()\n",
    "erms = high_energy_neighbors.Average_Energy()\n",
    "\n",
    "print(f'High Energy Neighbors: {tot}, Distance: {drms:.2f} Torsions: {trms:.2f}, Energy: {erms:.2f}')\n",
    "\n"
   ]
  },
  {
   "cell_type": "code",
   "execution_count": null,
   "metadata": {},
   "outputs": [],
   "source": [
    "high_energy_neighbors.display_overlay()\n"
   ]
  },
  {
   "cell_type": "code",
   "execution_count": null,
   "metadata": {},
   "outputs": [],
   "source": [
    "ssmin = Disulfide()\n",
    "ssmax = Disulfide()\n",
    "\n",
    "ssmin, ssmax = sslist.minmax_distance()\n",
    "ssmin.pprint()\n",
    "ssmax.pprint()\n",
    "\n",
    "minmax = DisulfideList([ssmin, ssmax], 'minmax')\n",
    "minmax.display()"
   ]
  },
  {
   "cell_type": "code",
   "execution_count": null,
   "metadata": {},
   "outputs": [],
   "source": [
    "\n",
    "# one disulfide from the database\n",
    "ss = Disulfide()\n",
    "ss = PDB_SS[0]\n",
    "#ss.pprint_all()\n",
    "\n",
    "# get all disulfides for one structure. Make a \n",
    "# DisulfideList object to hold it\n",
    "ss4yys = DisulfideList([], '4yys')\n",
    "ss4yys = PDB_SS['4yys']\n",
    "\n",
    "#ss4crn = DisulfideList([], '1crn')\n",
    "#ss4crn = PDB_SS['1crn']\n",
    "\n",
    "tot_ss = len(ss4yys) # number off ssbonds\n",
    "print(f'tot {tot_ss}')\n"
   ]
  },
  {
   "cell_type": "code",
   "execution_count": null,
   "metadata": {},
   "outputs": [],
   "source": [
    "print(f'{ss4yys.Torsion_Distance()}')"
   ]
  },
  {
   "cell_type": "code",
   "execution_count": null,
   "metadata": {},
   "outputs": [],
   "source": [
    "sslist = PDB_SS.SSList\n",
    "tors= sslist.torsion_df\n",
    "tors.head()"
   ]
  },
  {
   "cell_type": "code",
   "execution_count": null,
   "metadata": {},
   "outputs": [],
   "source": [
    "ca_df = sslist.distance_df\n",
    "ca_df.head(10)"
   ]
  },
  {
   "cell_type": "code",
   "execution_count": null,
   "metadata": {},
   "outputs": [],
   "source": [
    "ss6fuf = PDB_SS['6fuf']\n"
   ]
  },
  {
   "cell_type": "code",
   "execution_count": null,
   "metadata": {},
   "outputs": [],
   "source": [
    "ss1 = ss4yys.get_by_name('4yys_22A_65A')\n",
    "ss1"
   ]
  },
  {
   "cell_type": "code",
   "execution_count": null,
   "metadata": {},
   "outputs": [],
   "source": [
    "ss4yys_a = ss4yys.by_chain('A')\n",
    "ss4yys_a.Torsion_Distance()\n"
   ]
  },
  {
   "cell_type": "code",
   "execution_count": null,
   "metadata": {},
   "outputs": [],
   "source": [
    "ss4yys_b = ss4yys.by_chain('B')\n",
    "ss4yys_b.Torsion_Distance()"
   ]
  },
  {
   "cell_type": "code",
   "execution_count": null,
   "metadata": {},
   "outputs": [],
   "source": [
    "ss4yys_a1 = ss4yys_a[0]\n",
    "# print(ss4yys_a1.repr_ss_coords())\n"
   ]
  },
  {
   "cell_type": "code",
   "execution_count": null,
   "metadata": {},
   "outputs": [],
   "source": [
    "ss4yys_b1 = ss4yys_b[0]\n",
    "ss4yys_b1"
   ]
  },
  {
   "cell_type": "code",
   "execution_count": null,
   "metadata": {},
   "outputs": [],
   "source": [
    "ss4yys_a1.Distance_RMS(ss4yys_b1)"
   ]
  },
  {
   "cell_type": "code",
   "execution_count": null,
   "metadata": {},
   "outputs": [],
   "source": [
    "ss4yys_a1.Torsion_Distance(ss4yys_b1)"
   ]
  },
  {
   "cell_type": "code",
   "execution_count": null,
   "metadata": {},
   "outputs": [],
   "source": [
    "ss4yys_a1 == ss4yys_b1"
   ]
  },
  {
   "cell_type": "code",
   "execution_count": null,
   "metadata": {},
   "outputs": [],
   "source": [
    "chns = ss4yys.get_chains()\n",
    "ss4yys.has_chain('yyy')\n",
    "chns"
   ]
  },
  {
   "cell_type": "code",
   "execution_count": null,
   "metadata": {},
   "outputs": [],
   "source": [
    "# load SS bonds by PDB ID\n",
    "ss1 = PDB_SS['4yys']\n",
    "print(ss1)\n",
    "print(ss1[0].get_full_id())\n"
   ]
  },
  {
   "cell_type": "code",
   "execution_count": null,
   "metadata": {},
   "outputs": [],
   "source": [
    "# you can loop over the IDList list and extract by ID\n",
    "#\n",
    "for id in PDB_SS.IDList[:5]:    # just show last 5\n",
    "    # get the SS bonds for the given ID\n",
    "    ssb = PDB_SS[id]\n",
    "    numb_ss = len(ssb)\n",
    "    print(f'ID: {id} has {numb_ss} Disulfides:')\n",
    "    for bond in ssb:\n",
    "        print(bond)\n",
    "    print('\\n')\n",
    "    "
   ]
  },
  {
   "cell_type": "code",
   "execution_count": null,
   "metadata": {},
   "outputs": [],
   "source": [
    "ss_list = PDB_SS.getlist()\n",
    "ss0 = ss_list[0]\n",
    "\n",
    "print(ss0.proximal_residue_fullid)\n",
    "print(ss0.chi3)\n",
    "len(ss_list)\n"
   ]
  },
  {
   "cell_type": "code",
   "execution_count": null,
   "metadata": {},
   "outputs": [],
   "source": [
    "# routine creates 2 lists  for left-handed and right-handed disulfides \n",
    "ss_list = PDB_SS.getlist()\n",
    "left_handed = DisulfideList([], 'left_handed')\n",
    "right_handed = DisulfideList([], 'right_handed')\n",
    "\n",
    "i = 0\n",
    "\n",
    "for i in range(len(ss_list)):\n",
    "    ss = ss_list[i]\n",
    "    if ss.chi3 < 0:\n",
    "        left_handed.append(ss)\n",
    "    else:\n",
    "        right_handed.append(ss)\n",
    "\n",
    "\n",
    "print(f'Left Handed: {len(left_handed)}, Right Handed: {len(right_handed)}')\n",
    "\n"
   ]
  },
  {
   "cell_type": "code",
   "execution_count": null,
   "metadata": {},
   "outputs": [],
   "source": [
    "from proteusPy.Disulfide import Disulfide\n",
    "\n",
    "# make some empty disulfides\n",
    "ss1 = Disulfide('ss1')\n",
    "ss2 = Disulfide('ss2')\n",
    "\n",
    "# make a DisulfideList containing ss1, named 'tmp'\n",
    "sslist = DisulfideList([ss1], 'tmp')\n",
    "sslist.append(ss2)\n",
    "\n",
    "# load the PDB Disulfide database\n",
    "PDB_SS = None\n",
    "PDB_SS = DisulfideLoader(verbose=True, subset=True)\n",
    "\n",
    "# extract a disulfide with typical index\n",
    "ss1 = PDB_SS[0]\n",
    "#print(f'{ss1.pprint_all()}')\n",
    "\n",
    "# grab a subset via slicing\n",
    "subset = DisulfideList(PDB_SS[0:10],'subset')"
   ]
  },
  {
   "cell_type": "code",
   "execution_count": null,
   "metadata": {},
   "outputs": [],
   "source": [
    "rms = subset.Torsion_Distance()\n",
    "rms"
   ]
  },
  {
   "cell_type": "code",
   "execution_count": null,
   "metadata": {},
   "outputs": [],
   "source": [
    "torsions = PDB_SS.getTorsions()\n",
    "torsions.sort_values(by=['energy'], ascending=False, inplace=True)\n",
    "\n",
    "torsions.head(10)"
   ]
  },
  {
   "cell_type": "code",
   "execution_count": null,
   "metadata": {},
   "outputs": [],
   "source": [
    "idx_max = int(torsions['energy'].idxmax())\n",
    "print(f'IDMAX: {idx_max}')\n",
    "ssmax = PDB_SS[idx_max]\n",
    "ssmax"
   ]
  },
  {
   "cell_type": "code",
   "execution_count": null,
   "metadata": {},
   "outputs": [],
   "source": [
    "toget = 200\n",
    "\n",
    "badlist = torsions['ss_id']\n",
    "\n",
    "bad_SS_list = DisulfideList([],'20 top high energy')\n",
    "ss = Disulfide()\n",
    "\n",
    "for i in range(toget):\n",
    "    ssid = torsions.iloc[i]['ss_id']\n",
    "    ss = PDB_SS.get_by_name(ssid)\n",
    "    #print(f'ID: {ss.name}: {ss.energy:.2f} kcal/mol CA: {ss.ca_distance:.2f}')\n",
    "    bad_SS_list.append(ss)\n",
    "\n"
   ]
  },
  {
   "cell_type": "code",
   "execution_count": null,
   "metadata": {},
   "outputs": [],
   "source": [
    "\n",
    "tors_bad_rms = bad_SS_list.Torsion_Distance()\n",
    "tors_bad_rms"
   ]
  },
  {
   "cell_type": "code",
   "execution_count": null,
   "metadata": {},
   "outputs": [],
   "source": [
    "goodlist = torsions['ss_id']\n",
    "\n",
    "good_SS_list = DisulfideList([],'20 top low energy')\n",
    "ss = Disulfide()\n",
    "\n",
    "for i in range(toget):\n",
    "    if i == 0:\n",
    "        continue\n",
    "    \n",
    "    ssid = torsions.iloc[-i]['ss_id']\n",
    "    ss = PDB_SS.get_by_name(ssid)\n",
    "    #print(f'ID: {ss.name}: {ss.energy:.2f} kcal/mol CA: {ss.ca_distance:.2f}')\n",
    "    good_SS_list.append(ss)\n"
   ]
  },
  {
   "cell_type": "code",
   "execution_count": null,
   "metadata": {},
   "outputs": [],
   "source": [
    "\n",
    "tors_good_rms = good_SS_list.Torsion_Distance()\n",
    "tors_good_rms"
   ]
  },
  {
   "cell_type": "code",
   "execution_count": null,
   "metadata": {},
   "outputs": [],
   "source": [
    "from scipy.spatial import distance_matrix\n",
    "\n",
    "good_array = good_SS_list.get_torsion_array()\n",
    "bad_array = bad_SS_list.get_torsion_array()\n",
    "good_array.shape"
   ]
  },
  {
   "cell_type": "code",
   "execution_count": null,
   "metadata": {},
   "outputs": [],
   "source": [
    "\n",
    "dm1 = distance_matrix(good_array, good_array)\n",
    "dm2 = distance_matrix(bad_array, bad_array)\n",
    "\n"
   ]
  },
  {
   "cell_type": "code",
   "execution_count": null,
   "metadata": {},
   "outputs": [],
   "source": [
    "import numpy as np\n",
    "\n",
    "def EDM(A, B):\n",
    "    p1 = np.sum(A**2, axis=1)[:, np.newaxis]\n",
    "    p2 = np.sum(B**2, axis=1)\n",
    "    p3 = -2 * np.dot(A, B.T)\n",
    "    res = p1 + p2 + p3\n",
    "    #res = numpy.sqrt(res)\n",
    "    return res\n"
   ]
  },
  {
   "cell_type": "code",
   "execution_count": null,
   "metadata": {},
   "outputs": [],
   "source": [
    "dm3 = np.sqrt(dm2)"
   ]
  },
  {
   "cell_type": "code",
   "execution_count": null,
   "metadata": {},
   "outputs": [],
   "source": [
    "import plotly_express as px\n",
    "fig = px.imshow(dm1)\n",
    "fig.show()"
   ]
  },
  {
   "cell_type": "code",
   "execution_count": null,
   "metadata": {},
   "outputs": [],
   "source": [
    "import plotly_express as px\n",
    "fig = px.imshow(dm2)\n",
    "fig.show()"
   ]
  },
  {
   "cell_type": "code",
   "execution_count": null,
   "metadata": {},
   "outputs": [],
   "source": [
    "dm1.shape\n",
    "dm1"
   ]
  },
  {
   "cell_type": "code",
   "execution_count": null,
   "metadata": {},
   "outputs": [],
   "source": [
    "df = pd.DataFrame(dm1.copy())\n",
    "df.describe()"
   ]
  },
  {
   "cell_type": "code",
   "execution_count": null,
   "metadata": {},
   "outputs": [],
   "source": [
    "x = np.arange(0,20, 20)\n",
    "y = np.arange(0,20, 20)\n",
    "z = dm1\n",
    "x, y = np.meshgrid(x, y)\n"
   ]
  },
  {
   "cell_type": "code",
   "execution_count": null,
   "metadata": {},
   "outputs": [],
   "source": [
    "# Create and plot structured grid\n",
    "grid = pv.StructuredGrid(x, y, z)\n",
    "grid.plot()"
   ]
  },
  {
   "cell_type": "code",
   "execution_count": null,
   "metadata": {},
   "outputs": [],
   "source": [
    "def doit(tot_ss):\n",
    "    brad = BOND_RADIUS * (1 - ((tot_ss / 10)) / 50)\n",
    "    return brad\n",
    "\n"
   ]
  },
  {
   "cell_type": "code",
   "execution_count": null,
   "metadata": {},
   "outputs": [],
   "source": [
    "doit(51)"
   ]
  },
  {
   "attachments": {},
   "cell_type": "markdown",
   "metadata": {},
   "source": [
    "### Disulfide Families"
   ]
  },
  {
   "cell_type": "code",
   "execution_count": null,
   "metadata": {},
   "outputs": [],
   "source": [
    "import proteusPy\n",
    "from proteusPy import DisulfideLoader\n",
    "from proteusPy.Disulfide import Disulfide\n",
    "from proteusPy.DisulfideList import DisulfideList\n",
    "\n",
    "PDB_SS = DisulfideLoader(verbose=True, subset=True, datadir='/Users/egs/pdb/data/')\n",
    "\n"
   ]
  },
  {
   "cell_type": "code",
   "execution_count": null,
   "metadata": {},
   "outputs": [],
   "source": [
    "PDB_SS.SSDict"
   ]
  },
  {
   "cell_type": "code",
   "execution_count": null,
   "metadata": {},
   "outputs": [],
   "source": [
    "PDB_SS['4yys']"
   ]
  },
  {
   "cell_type": "code",
   "execution_count": null,
   "metadata": {},
   "outputs": [],
   "source": [
    "\n",
    "# retrieve the torsions dataframe\n",
    "from proteusPy.Disulfide import Torsion_DF_Cols\n",
    "\n",
    "_SSdf = PDB_SS.getTorsions()\n",
    "_near = _SSdf['ca_distance'] < 9.0\n",
    "# there are a few structures with bad SSBonds. Their\n",
    "# CA distances are > 7.0. We remove them from consideration\n",
    "# below\n",
    "\n",
    "SS_df = _SSdf[_near]\n",
    "SS_df = SS_df[Torsion_DF_Cols].copy()\n",
    "\n",
    "\n",
    "_cols = ['chi1', 'chi2', 'chi3', 'chi4', 'chi5']\n",
    "X = SS_df[_cols].copy()\n",
    "tot = X.shape[0]\n",
    "\n",
    "tors = X.to_numpy()\n"
   ]
  },
  {
   "cell_type": "code",
   "execution_count": null,
   "metadata": {},
   "outputs": [],
   "source": [
    "# chat gpt generated\n",
    "import numpy as np\n",
    "from sklearn.neighbors import KDTree\n",
    "\n",
    "def nearest_neighbors(samples):\n",
    "    # Sample the 5-dimensional vector space\n",
    "    \n",
    "    # Build a KDTree from the samples\n",
    "    tree = KDTree(samples, leafsize=40)\n",
    "    \n",
    "    # Find the nearest neighbors for each sample\n",
    "    distances, indices = tree.query(samples, k=5)\n",
    "    \n",
    "    # The first nearest neighbor of each sample is the sample itself, so we can ignore that\n",
    "    nearest_neighbors = indices[:, 1]\n",
    "    distances = distances[:, 1]\n",
    "    \n",
    "    return nearest_neighbors, distances\n",
    "\n",
    "def nearest_neighbors_radial(samples, radius):\n",
    "    '''\n",
    "    Find the neighbors for the given array of torsions using KDTree.\n",
    "\n",
    "    :param samples: Neighbor array\n",
    "    :param radius: Search radius (degrees)\n",
    "    :return: List of indices for neighbors within the cutoff\n",
    "    '''\n",
    "        \n",
    "    # Build a KDTree from the samples\n",
    "    tree = KDTree(samples, leaf_size=40)\n",
    "    \n",
    "    # Find the nearest neighbors for each sample\n",
    "    indices = tree.query_radius(samples, r=radius)  \n",
    "    \n",
    "    # The first nearest neighbor of each sample is the sample itself, so we can ignore that\n",
    "    # nearest_neighbors = indices[:, 1]\n",
    "    nearest_neighbors = indices\n",
    "    return nearest_neighbors\n",
    "\n",
    "def build_SSlist(loader: DisulfideLoader, indices) -> DisulfideList:\n",
    "    '''\n",
    "    For a given ```DisulfideLoader``` and list of Disulfide indices return the Disulfides in a DisulfideList\n",
    "\n",
    "    :param indices: List of SS by index\n",
    "    :return: DisulfideList of SS\n",
    "    '''\n",
    "    res = DisulfideList([],'tmp')\n",
    "    sslist = loader.SSList\n",
    "\n",
    "    tot = len(indices)\n",
    "    res = DisulfideList([sslist[indices[i]] for i in range(tot)], 'tmp')\n",
    "    return res\n",
    "\n"
   ]
  },
  {
   "cell_type": "code",
   "execution_count": null,
   "metadata": {},
   "outputs": [],
   "source": [
    "#\n",
    "\n",
    "_cols = ['chi1', 'chi2', 'chi3', 'chi4', 'chi5']\n",
    "tor_df = SS_df[_cols].copy()\n",
    "\n",
    "X = tor_df.copy()\n",
    "tot = X.shape[0]\n",
    "\n",
    "tors = X.to_numpy()\n",
    "\n",
    "nneighbors  = nearest_neighbors_radial(X, radius=20)\n",
    "print(f'{len(nneighbors)}')\n"
   ]
  },
  {
   "cell_type": "code",
   "execution_count": null,
   "metadata": {},
   "outputs": [],
   "source": [
    "from tqdm import tqdm\n",
    "\n",
    "# for each SS, build a list of neighbors\n",
    "neighbor_list = []\n",
    "\n",
    "pbar = tqdm(range(nneighbors.shape[0]))\n",
    "\n",
    "for i in pbar:\n",
    "    neigh = nneighbors[i]\n",
    "    res = build_SSlist(PDB_SS, neigh)\n",
    "    neighbor_list.append(res)\n"
   ]
  },
  {
   "cell_type": "code",
   "execution_count": null,
   "metadata": {},
   "outputs": [],
   "source": [
    "# for the neighbor list,"
   ]
  },
  {
   "cell_type": "code",
   "execution_count": null,
   "metadata": {},
   "outputs": [],
   "source": [
    "import numpy as np\n",
    "from sklearn.neighbors import KDTree\n",
    "\n",
    "tree = KDTree(X, leaf_size=2)              \n",
    "dist, ind = tree.query(X, k=5)                \n",
    "print(ind)  # indices of 3 closest neighbors\n",
    "\n",
    "print(dist)  # distances to 3 closest neighbors\n"
   ]
  },
  {
   "cell_type": "code",
   "execution_count": null,
   "metadata": {},
   "outputs": [],
   "source": [
    "from sklearn.neighbors import KDTree\n",
    "tree = KDTree(X, leaf_size=3)     \n",
    "print(tree.query_radius(X[:1], r=10, count_only=True))\n",
    "\n",
    "ind = tree.query_radius(X[:1], r=10)  \n",
    "print(ind)  # indices of neighbors within distance 0.3\n"
   ]
  },
  {
   "cell_type": "code",
   "execution_count": null,
   "metadata": {},
   "outputs": [],
   "source": [
    "import numpy as np\n",
    "rng = np.random.RandomState(42)\n",
    "tree = KDTree(X)                \n",
    "tree.kernel_density(X[:5], h=0.5, kernel='gaussian')\n"
   ]
  },
  {
   "cell_type": "code",
   "execution_count": null,
   "metadata": {},
   "outputs": [],
   "source": [
    "import pandas as pd\n",
    "\n",
    "df = pd.read_csv(\"classes.csv\")\n",
    "with open(\"classes.md\", 'w') as md:\n",
    "  df.to_markdown(buf=md, tablefmt=\"grid\")"
   ]
  },
  {
   "cell_type": "code",
   "execution_count": null,
   "metadata": {},
   "outputs": [],
   "source": [
    "help(fig.update_traces)"
   ]
  },
  {
   "cell_type": "code",
   "execution_count": null,
   "metadata": {},
   "outputs": [],
   "source": [
    "import proteusPy\n",
    "from proteusPy import *\n",
    "from proteusPy.utility import image_to_ascii_art\n",
    "\n",
    "image_to_ascii_art(\"logo_flat.png\", 120)"
   ]
  },
  {
   "cell_type": "code",
   "execution_count": null,
   "metadata": {},
   "outputs": [],
   "source": [
    "proteusPy.__version__"
   ]
  }
 ],
 "metadata": {
  "kernelspec": {
   "display_name": "Proteus",
   "language": "python",
   "name": "proteus"
  },
  "language_info": {
   "codemirror_mode": {
    "name": "ipython",
    "version": 3
   },
   "file_extension": ".py",
   "mimetype": "text/x-python",
   "name": "python",
   "nbconvert_exporter": "python",
   "pygments_lexer": "ipython3",
   "version": "3.9.15"
  },
  "orig_nbformat": 4,
  "vscode": {
   "interpreter": {
    "hash": "2e049c0f63e6b330ae815ad1049a36d20686725ba1cc68cc0aadee0375e172d1"
   }
  }
 },
 "nbformat": 4,
 "nbformat_minor": 2
}
