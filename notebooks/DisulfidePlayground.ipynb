{
 "cells": [
  {
   "cell_type": "code",
   "execution_count": 1,
   "metadata": {},
   "outputs": [],
   "source": [
    "# DisulfideBond Playground\n",
    "# Playing with the DisulfideBond class\n",
    "# Author: Eric G. Suchanek, PhD.\n",
    "# (c) 2022 Eric G. Suchanek, PhD., All Rights Reserved\n",
    "# License: BSD\n",
    "# Last Modification: 12/12/22\n",
    "# Cα Cβ Sγ\n",
    "\n",
    "# important preamble\n",
    "\n",
    "import pandas as pd\n",
    "\n",
    "import pyvista as pv\n",
    "from pyvista import set_plot_theme\n",
    "\n",
    "from Bio.PDB import *\n",
    "\n",
    "# for using from the repo we \n",
    "from proteusPy import *\n",
    "from proteusPy.data import *\n",
    "from proteusPy.Disulfide import *\n",
    "\n",
    "\n",
    "# override any default PDB globals\n",
    "# location for PDB repository\n",
    "PDB_ROOT = '/Users/egs/PDB/'\n",
    "\n",
    "# location of cleaned PDB files - these are not stored in the repo\n",
    "PDB_GOOD = '/Users/egs/PDB/good/'\n",
    "\n",
    "# from within the repo \n",
    "PDB_REPO = '../pdb/'\n",
    "\n",
    "# location of the compressed Disulfide .pkl files\n",
    "MODELS = f'{PDB_ROOT}models/'\n",
    "\n",
    "# pyvista setup for notebooks\n",
    "pv.set_jupyter_backend('ipyvtklink')\n",
    "set_plot_theme('document')\n"
   ]
  },
  {
   "cell_type": "code",
   "execution_count": 3,
   "metadata": {},
   "outputs": [
    {
     "name": "stdout",
     "output_type": "stream",
     "text": [
      "Reading disulfides from: /Users/egs/repos/proteusPy/proteusPy/data/PDB_all_ss.pkl\n",
      "Disulfides Read: 8210\n",
      "Reading disulfide dict from: /Users/egs/repos/proteusPy/proteusPy/data/PDB_all_ss_dict.pkl\n",
      "Reading Torsion DF /Users/egs/repos/proteusPy/proteusPy/data/PDB_all_SS_torsions.csv.\n",
      "Read torsions DF.\n",
      "PDB IDs parsed: 1000\n",
      "Total Space Used: 2035005 bytes.\n"
     ]
    },
    {
     "data": {
      "text/plain": [
       "8210"
      ]
     },
     "execution_count": 3,
     "metadata": {},
     "output_type": "execute_result"
    }
   ],
   "source": [
    "# Comment these out since they take so long.\n",
    "# Download_Disulfides(pdb_home=PDB_ORIG, model_home=MODELS, reset=False)\n",
    "\n",
    "#Extract_Disulfides(numb=1000, pdbdir=PDB_GOOD, datadir=MODELS, verbose=False, quiet=False)\n",
    "\n",
    "PDB_SS = None\n",
    "PDB_SS = DisulfideLoader(verbose=True)\n",
    "\n",
    "ss_list = DisulfideList([], 'tmp')\n",
    "PDB_SS.TotalDisulfides\n"
   ]
  },
  {
   "cell_type": "code",
   "execution_count": 4,
   "metadata": {},
   "outputs": [
    {
     "name": "stdout",
     "output_type": "stream",
     "text": [
      "<Disulfide 4yys_22A_65A SourceID: 4yys Proximal: 22 A Distal: 65 A\n",
      " Proximal Chain fullID: <('4yys', 0, 'A', (' ', 22, ' '))> Distal Chain fullID: <('4yys', 0, 'A', (' ', 65, ' '))> \n",
      "Proximal Coordinates:\n",
      "   N: <Vector -2.36, -20.48, 5.21>\n",
      "   Cα: <Vector -2.10, -19.89, 3.90>\n",
      "   C: <Vector -1.12, -18.78, 4.12>\n",
      "   O: <Vector -1.30, -17.96, 5.03>\n",
      "   Cβ: <Vector -3.38, -19.31, 3.32>\n",
      "   Sγ: <Vector -3.24, -18.40, 1.76>\n",
      "   Cprev <Vector -2.67, -21.75, 5.36>\n",
      "   Nnext: <Vector -0.02, -18.76, 3.36>\n",
      " Distal Coordinates:\n",
      "   N: <Vector -0.60, -18.71, -1.62>\n",
      "   Cα: <Vector -0.48, -19.10, -0.22>\n",
      "   C: <Vector 0.92, -19.52, 0.18>\n",
      "   O: <Vector 1.10, -20.09, 1.25>\n",
      "   Cβ: <Vector -1.48, -20.23, 0.08>\n",
      "   Sγ: <Vector -3.22, -19.69, 0.18>\n",
      "   Cprev <Vector -0.73, -17.44, -2.01>\n",
      "   Nnext: <Vector 1.92, -19.18, -0.63>\n",
      "\n",
      " Proximal Internal Coordinates:\n",
      "   N: <Vector -0.41, 1.40, -0.00>\n",
      "   Cα: <Vector 0.00, 0.00, 0.00>\n",
      "   C: <Vector 1.50, 0.00, 0.00>\n",
      "   O: <Vector 2.12, 0.71, -0.80>\n",
      "   Cβ: <Vector -0.50, -0.70, -1.25>\n",
      "   Sγ: <Vector 0.04, -2.41, -1.50>\n",
      "   Cprev <Vector -2.67, -21.75, 5.36>\n",
      "   Nnext: <Vector -0.02, -18.76, 3.36>\n",
      " Distal Internal Coordinates:\n",
      "   N: <Vector 1.04, -5.63, 1.17>\n",
      "   Cα: <Vector 1.04, -4.18, 1.31>\n",
      "   C: <Vector 1.72, -3.68, 2.57>\n",
      "   O: <Vector 1.57, -2.51, 2.92>\n",
      "   Cβ: <Vector -0.41, -3.66, 1.24>\n",
      "   Sγ: <Vector -1.14, -3.69, -0.43>\n",
      "   Cprev <Vector -0.73, -17.44, -2.01>\n",
      "   Nnext: <Vector 1.92, -19.18, -0.63>\n",
      "\n",
      " Conformation: (Χ1-Χ5):  174.629°, 82.518°, -83.322°, -62.524° -73.827°  Energy: 1.696 kcal/mol >\n",
      "SS: None\n",
      "tot 6\n"
     ]
    }
   ],
   "source": [
    "\n",
    "# one disulfide from the database\n",
    "ss = Disulfide()\n",
    "ss = PDB_SS[0]\n",
    "print(f'SS: {ss.pprint_all()}')\n",
    "\n",
    "\n",
    "# get all disulfides for one structure. Make a \n",
    "# DisulfideList object to hold it\n",
    "ss4yys = DisulfideList([], '4yys')\n",
    "ss4yys = PDB_SS['4yys']\n",
    "\n",
    "#ss4crn = DisulfideList([], '1crn')\n",
    "#ss4crn = PDB_SS['1crn']\n",
    "\n",
    "tot_ss = len(ss4yys) # number off ssbonds\n",
    "print(f'tot {tot_ss}')\n"
   ]
  },
  {
   "cell_type": "code",
   "execution_count": 6,
   "metadata": {},
   "outputs": [
    {
     "name": "stderr",
     "output_type": "stream",
     "text": [
      "100%|█████████████████████████████████████████████████████████| 8210/8210 [00:06<00:00, 1283.67it/s]\n"
     ]
    },
    {
     "data": {
      "text/html": [
       "<div>\n",
       "<style scoped>\n",
       "    .dataframe tbody tr th:only-of-type {\n",
       "        vertical-align: middle;\n",
       "    }\n",
       "\n",
       "    .dataframe tbody tr th {\n",
       "        vertical-align: top;\n",
       "    }\n",
       "\n",
       "    .dataframe thead th {\n",
       "        text-align: right;\n",
       "    }\n",
       "</style>\n",
       "<table border=\"1\" class=\"dataframe\">\n",
       "  <thead>\n",
       "    <tr style=\"text-align: right;\">\n",
       "      <th></th>\n",
       "      <th>source</th>\n",
       "      <th>ss_id</th>\n",
       "      <th>proximal</th>\n",
       "      <th>distal</th>\n",
       "      <th>chi1</th>\n",
       "      <th>chi2</th>\n",
       "      <th>chi3</th>\n",
       "      <th>chi4</th>\n",
       "      <th>chi5</th>\n",
       "      <th>energy</th>\n",
       "      <th>ca_distance</th>\n",
       "      <th>phi_prox</th>\n",
       "      <th>psi_prox</th>\n",
       "      <th>phi_dist</th>\n",
       "      <th>psi_dist</th>\n",
       "    </tr>\n",
       "  </thead>\n",
       "  <tbody>\n",
       "    <tr>\n",
       "      <th>0</th>\n",
       "      <td>4yys</td>\n",
       "      <td>4yys_22A_65A</td>\n",
       "      <td>22</td>\n",
       "      <td>65</td>\n",
       "      <td>174.629233</td>\n",
       "      <td>82.517710</td>\n",
       "      <td>-83.322249</td>\n",
       "      <td>-62.523644</td>\n",
       "      <td>-73.827286</td>\n",
       "      <td>1.696237</td>\n",
       "      <td>4.502086</td>\n",
       "      <td>128.686790</td>\n",
       "      <td>128.686790</td>\n",
       "      <td>-105.731172</td>\n",
       "      <td>16.431694</td>\n",
       "    </tr>\n",
       "    <tr>\n",
       "      <th>1</th>\n",
       "      <td>4yys</td>\n",
       "      <td>4yys_56A_98A</td>\n",
       "      <td>56</td>\n",
       "      <td>98</td>\n",
       "      <td>-50.239063</td>\n",
       "      <td>-85.583916</td>\n",
       "      <td>97.275447</td>\n",
       "      <td>70.535692</td>\n",
       "      <td>179.046592</td>\n",
       "      <td>2.112566</td>\n",
       "      <td>4.967417</td>\n",
       "      <td>-30.489936</td>\n",
       "      <td>-30.489936</td>\n",
       "      <td>-59.378573</td>\n",
       "      <td>125.462589</td>\n",
       "    </tr>\n",
       "    <tr>\n",
       "      <th>2</th>\n",
       "      <td>4yys</td>\n",
       "      <td>4yys_156A_207A</td>\n",
       "      <td>156</td>\n",
       "      <td>207</td>\n",
       "      <td>62.598713</td>\n",
       "      <td>172.940042</td>\n",
       "      <td>-95.352637</td>\n",
       "      <td>-23.070934</td>\n",
       "      <td>-55.158480</td>\n",
       "      <td>2.331733</td>\n",
       "      <td>5.292317</td>\n",
       "      <td>150.741801</td>\n",
       "      <td>150.741801</td>\n",
       "      <td>60.457994</td>\n",
       "      <td>22.170381</td>\n",
       "    </tr>\n",
       "    <tr>\n",
       "      <th>3</th>\n",
       "      <td>4yys</td>\n",
       "      <td>4yys_22B_65B</td>\n",
       "      <td>22</td>\n",
       "      <td>65</td>\n",
       "      <td>173.666078</td>\n",
       "      <td>88.297996</td>\n",
       "      <td>-82.387276</td>\n",
       "      <td>-65.997032</td>\n",
       "      <td>-72.289506</td>\n",
       "      <td>1.958823</td>\n",
       "      <td>4.532387</td>\n",
       "      <td>130.848015</td>\n",
       "      <td>130.848015</td>\n",
       "      <td>-103.903213</td>\n",
       "      <td>16.298008</td>\n",
       "    </tr>\n",
       "    <tr>\n",
       "      <th>4</th>\n",
       "      <td>4yys</td>\n",
       "      <td>4yys_56B_98B</td>\n",
       "      <td>56</td>\n",
       "      <td>98</td>\n",
       "      <td>-56.410909</td>\n",
       "      <td>-81.401941</td>\n",
       "      <td>94.310784</td>\n",
       "      <td>67.035993</td>\n",
       "      <td>178.852441</td>\n",
       "      <td>1.444608</td>\n",
       "      <td>4.768629</td>\n",
       "      <td>-30.319989</td>\n",
       "      <td>-30.319989</td>\n",
       "      <td>-53.571262</td>\n",
       "      <td>120.853837</td>\n",
       "    </tr>\n",
       "  </tbody>\n",
       "</table>\n",
       "</div>"
      ],
      "text/plain": [
       "  source           ss_id  proximal  distal        chi1        chi2       chi3  \\\n",
       "0   4yys    4yys_22A_65A        22      65  174.629233   82.517710 -83.322249   \n",
       "1   4yys    4yys_56A_98A        56      98  -50.239063  -85.583916  97.275447   \n",
       "2   4yys  4yys_156A_207A       156     207   62.598713  172.940042 -95.352637   \n",
       "3   4yys    4yys_22B_65B        22      65  173.666078   88.297996 -82.387276   \n",
       "4   4yys    4yys_56B_98B        56      98  -56.410909  -81.401941  94.310784   \n",
       "\n",
       "        chi4        chi5    energy  ca_distance    phi_prox    psi_prox  \\\n",
       "0 -62.523644  -73.827286  1.696237     4.502086  128.686790  128.686790   \n",
       "1  70.535692  179.046592  2.112566     4.967417  -30.489936  -30.489936   \n",
       "2 -23.070934  -55.158480  2.331733     5.292317  150.741801  150.741801   \n",
       "3 -65.997032  -72.289506  1.958823     4.532387  130.848015  130.848015   \n",
       "4  67.035993  178.852441  1.444608     4.768629  -30.319989  -30.319989   \n",
       "\n",
       "     phi_dist    psi_dist  \n",
       "0 -105.731172   16.431694  \n",
       "1  -59.378573  125.462589  \n",
       "2   60.457994   22.170381  \n",
       "3 -103.903213   16.298008  \n",
       "4  -53.571262  120.853837  "
      ]
     },
     "execution_count": 6,
     "metadata": {},
     "output_type": "execute_result"
    }
   ],
   "source": [
    "sslist = PDB_SS.SSList\n",
    "tors_df = build_torsion_df(sslist)\n",
    "tors_df.head()"
   ]
  },
  {
   "cell_type": "code",
   "execution_count": 4,
   "metadata": {},
   "outputs": [],
   "source": [
    "ss6fuf = PDB_SS['6fuf']\n"
   ]
  },
  {
   "cell_type": "code",
   "execution_count": 5,
   "metadata": {},
   "outputs": [
    {
     "data": {
      "text/html": [
       "<div>\n",
       "<style scoped>\n",
       "    .dataframe tbody tr th:only-of-type {\n",
       "        vertical-align: middle;\n",
       "    }\n",
       "\n",
       "    .dataframe tbody tr th {\n",
       "        vertical-align: top;\n",
       "    }\n",
       "\n",
       "    .dataframe thead th {\n",
       "        text-align: right;\n",
       "    }\n",
       "</style>\n",
       "<table border=\"1\" class=\"dataframe\">\n",
       "  <thead>\n",
       "    <tr style=\"text-align: right;\">\n",
       "      <th></th>\n",
       "      <th>source</th>\n",
       "      <th>ss_id</th>\n",
       "      <th>proximal</th>\n",
       "      <th>distal</th>\n",
       "      <th>chi1</th>\n",
       "      <th>chi2</th>\n",
       "      <th>chi3</th>\n",
       "      <th>chi4</th>\n",
       "      <th>chi5</th>\n",
       "      <th>energy</th>\n",
       "      <th>ca_distance</th>\n",
       "      <th>phi_prox</th>\n",
       "      <th>psi_prox</th>\n",
       "      <th>phi_dist</th>\n",
       "      <th>psi_dist</th>\n",
       "    </tr>\n",
       "  </thead>\n",
       "  <tbody>\n",
       "    <tr>\n",
       "      <th>0</th>\n",
       "      <td>4yys</td>\n",
       "      <td>4yys_22A_65A</td>\n",
       "      <td>22</td>\n",
       "      <td>65</td>\n",
       "      <td>174.629233</td>\n",
       "      <td>82.517710</td>\n",
       "      <td>-83.322249</td>\n",
       "      <td>-62.523644</td>\n",
       "      <td>-73.827286</td>\n",
       "      <td>1.696237</td>\n",
       "      <td>4.502086</td>\n",
       "      <td>-149.776903</td>\n",
       "      <td>128.686790</td>\n",
       "      <td>-105.731172</td>\n",
       "      <td>16.431694</td>\n",
       "    </tr>\n",
       "    <tr>\n",
       "      <th>1</th>\n",
       "      <td>4yys</td>\n",
       "      <td>4yys_56A_98A</td>\n",
       "      <td>56</td>\n",
       "      <td>98</td>\n",
       "      <td>-50.239063</td>\n",
       "      <td>-85.583916</td>\n",
       "      <td>97.275447</td>\n",
       "      <td>70.535692</td>\n",
       "      <td>179.046592</td>\n",
       "      <td>2.112566</td>\n",
       "      <td>4.967417</td>\n",
       "      <td>-113.982916</td>\n",
       "      <td>-30.489936</td>\n",
       "      <td>-59.378573</td>\n",
       "      <td>125.462589</td>\n",
       "    </tr>\n",
       "    <tr>\n",
       "      <th>2</th>\n",
       "      <td>4yys</td>\n",
       "      <td>4yys_156A_207A</td>\n",
       "      <td>156</td>\n",
       "      <td>207</td>\n",
       "      <td>62.598713</td>\n",
       "      <td>172.940042</td>\n",
       "      <td>-95.352637</td>\n",
       "      <td>-23.070934</td>\n",
       "      <td>-55.158480</td>\n",
       "      <td>2.331733</td>\n",
       "      <td>5.292317</td>\n",
       "      <td>-156.930659</td>\n",
       "      <td>150.741801</td>\n",
       "      <td>60.457994</td>\n",
       "      <td>22.170381</td>\n",
       "    </tr>\n",
       "    <tr>\n",
       "      <th>3</th>\n",
       "      <td>4yys</td>\n",
       "      <td>4yys_22B_65B</td>\n",
       "      <td>22</td>\n",
       "      <td>65</td>\n",
       "      <td>173.666078</td>\n",
       "      <td>88.297996</td>\n",
       "      <td>-82.387276</td>\n",
       "      <td>-65.997032</td>\n",
       "      <td>-72.289506</td>\n",
       "      <td>1.958823</td>\n",
       "      <td>4.532387</td>\n",
       "      <td>-154.247515</td>\n",
       "      <td>130.848015</td>\n",
       "      <td>-103.903213</td>\n",
       "      <td>16.298008</td>\n",
       "    </tr>\n",
       "    <tr>\n",
       "      <th>4</th>\n",
       "      <td>4yys</td>\n",
       "      <td>4yys_56B_98B</td>\n",
       "      <td>56</td>\n",
       "      <td>98</td>\n",
       "      <td>-56.410909</td>\n",
       "      <td>-81.401941</td>\n",
       "      <td>94.310784</td>\n",
       "      <td>67.035993</td>\n",
       "      <td>178.852441</td>\n",
       "      <td>1.444608</td>\n",
       "      <td>4.768629</td>\n",
       "      <td>-113.329915</td>\n",
       "      <td>-30.319989</td>\n",
       "      <td>-53.571262</td>\n",
       "      <td>120.853837</td>\n",
       "    </tr>\n",
       "    <tr>\n",
       "      <th>...</th>\n",
       "      <td>...</td>\n",
       "      <td>...</td>\n",
       "      <td>...</td>\n",
       "      <td>...</td>\n",
       "      <td>...</td>\n",
       "      <td>...</td>\n",
       "      <td>...</td>\n",
       "      <td>...</td>\n",
       "      <td>...</td>\n",
       "      <td>...</td>\n",
       "      <td>...</td>\n",
       "      <td>...</td>\n",
       "      <td>...</td>\n",
       "      <td>...</td>\n",
       "      <td>...</td>\n",
       "    </tr>\n",
       "    <tr>\n",
       "      <th>8205</th>\n",
       "      <td>2p5r</td>\n",
       "      <td>2p5r_44B_92B</td>\n",
       "      <td>44</td>\n",
       "      <td>92</td>\n",
       "      <td>-124.400230</td>\n",
       "      <td>14.097260</td>\n",
       "      <td>87.928807</td>\n",
       "      <td>51.580778</td>\n",
       "      <td>-164.615423</td>\n",
       "      <td>6.941233</td>\n",
       "      <td>4.936201</td>\n",
       "      <td>-103.960336</td>\n",
       "      <td>93.039551</td>\n",
       "      <td>-52.651014</td>\n",
       "      <td>115.486532</td>\n",
       "    </tr>\n",
       "    <tr>\n",
       "      <th>8206</th>\n",
       "      <td>4qyz</td>\n",
       "      <td>4qyz_143A_253A</td>\n",
       "      <td>143</td>\n",
       "      <td>253</td>\n",
       "      <td>-69.050704</td>\n",
       "      <td>48.503674</td>\n",
       "      <td>150.647932</td>\n",
       "      <td>71.508814</td>\n",
       "      <td>-78.969552</td>\n",
       "      <td>7.378103</td>\n",
       "      <td>6.269383</td>\n",
       "      <td>-65.493849</td>\n",
       "      <td>-49.756331</td>\n",
       "      <td>-33.643753</td>\n",
       "      <td>-34.724290</td>\n",
       "    </tr>\n",
       "    <tr>\n",
       "      <th>8207</th>\n",
       "      <td>4qyz</td>\n",
       "      <td>4qyz_143A_250A</td>\n",
       "      <td>143</td>\n",
       "      <td>250</td>\n",
       "      <td>-69.050704</td>\n",
       "      <td>161.401761</td>\n",
       "      <td>-123.410979</td>\n",
       "      <td>-178.756423</td>\n",
       "      <td>170.219368</td>\n",
       "      <td>4.229833</td>\n",
       "      <td>7.803253</td>\n",
       "      <td>-65.493849</td>\n",
       "      <td>-49.756331</td>\n",
       "      <td>-75.614403</td>\n",
       "      <td>152.676285</td>\n",
       "    </tr>\n",
       "    <tr>\n",
       "      <th>8208</th>\n",
       "      <td>3tdj</td>\n",
       "      <td>3tdj_206A_261A</td>\n",
       "      <td>206</td>\n",
       "      <td>261</td>\n",
       "      <td>-43.122049</td>\n",
       "      <td>-78.811213</td>\n",
       "      <td>-89.985262</td>\n",
       "      <td>-53.676273</td>\n",
       "      <td>-50.840338</td>\n",
       "      <td>2.058045</td>\n",
       "      <td>5.446051</td>\n",
       "      <td>46.516562</td>\n",
       "      <td>39.500316</td>\n",
       "      <td>-114.399870</td>\n",
       "      <td>102.881614</td>\n",
       "    </tr>\n",
       "    <tr>\n",
       "      <th>8209</th>\n",
       "      <td>3tdj</td>\n",
       "      <td>3tdj_206B_261B</td>\n",
       "      <td>206</td>\n",
       "      <td>261</td>\n",
       "      <td>-46.693709</td>\n",
       "      <td>-73.694217</td>\n",
       "      <td>-93.590087</td>\n",
       "      <td>-71.365276</td>\n",
       "      <td>-56.503051</td>\n",
       "      <td>1.657231</td>\n",
       "      <td>5.919413</td>\n",
       "      <td>-180.000000</td>\n",
       "      <td>-180.000000</td>\n",
       "      <td>-180.000000</td>\n",
       "      <td>-180.000000</td>\n",
       "    </tr>\n",
       "  </tbody>\n",
       "</table>\n",
       "<p>8210 rows × 15 columns</p>\n",
       "</div>"
      ],
      "text/plain": [
       "     source           ss_id  proximal  distal        chi1        chi2  \\\n",
       "0      4yys    4yys_22A_65A        22      65  174.629233   82.517710   \n",
       "1      4yys    4yys_56A_98A        56      98  -50.239063  -85.583916   \n",
       "2      4yys  4yys_156A_207A       156     207   62.598713  172.940042   \n",
       "3      4yys    4yys_22B_65B        22      65  173.666078   88.297996   \n",
       "4      4yys    4yys_56B_98B        56      98  -56.410909  -81.401941   \n",
       "...     ...             ...       ...     ...         ...         ...   \n",
       "8205   2p5r    2p5r_44B_92B        44      92 -124.400230   14.097260   \n",
       "8206   4qyz  4qyz_143A_253A       143     253  -69.050704   48.503674   \n",
       "8207   4qyz  4qyz_143A_250A       143     250  -69.050704  161.401761   \n",
       "8208   3tdj  3tdj_206A_261A       206     261  -43.122049  -78.811213   \n",
       "8209   3tdj  3tdj_206B_261B       206     261  -46.693709  -73.694217   \n",
       "\n",
       "            chi3        chi4        chi5    energy  ca_distance    phi_prox  \\\n",
       "0     -83.322249  -62.523644  -73.827286  1.696237     4.502086 -149.776903   \n",
       "1      97.275447   70.535692  179.046592  2.112566     4.967417 -113.982916   \n",
       "2     -95.352637  -23.070934  -55.158480  2.331733     5.292317 -156.930659   \n",
       "3     -82.387276  -65.997032  -72.289506  1.958823     4.532387 -154.247515   \n",
       "4      94.310784   67.035993  178.852441  1.444608     4.768629 -113.329915   \n",
       "...          ...         ...         ...       ...          ...         ...   \n",
       "8205   87.928807   51.580778 -164.615423  6.941233     4.936201 -103.960336   \n",
       "8206  150.647932   71.508814  -78.969552  7.378103     6.269383  -65.493849   \n",
       "8207 -123.410979 -178.756423  170.219368  4.229833     7.803253  -65.493849   \n",
       "8208  -89.985262  -53.676273  -50.840338  2.058045     5.446051   46.516562   \n",
       "8209  -93.590087  -71.365276  -56.503051  1.657231     5.919413 -180.000000   \n",
       "\n",
       "        psi_prox    phi_dist    psi_dist  \n",
       "0     128.686790 -105.731172   16.431694  \n",
       "1     -30.489936  -59.378573  125.462589  \n",
       "2     150.741801   60.457994   22.170381  \n",
       "3     130.848015 -103.903213   16.298008  \n",
       "4     -30.319989  -53.571262  120.853837  \n",
       "...          ...         ...         ...  \n",
       "8205   93.039551  -52.651014  115.486532  \n",
       "8206  -49.756331  -33.643753  -34.724290  \n",
       "8207  -49.756331  -75.614403  152.676285  \n",
       "8208   39.500316 -114.399870  102.881614  \n",
       "8209 -180.000000 -180.000000 -180.000000  \n",
       "\n",
       "[8210 rows x 15 columns]"
      ]
     },
     "execution_count": 5,
     "metadata": {},
     "output_type": "execute_result"
    }
   ],
   "source": [
    "tors = pd.DataFrame()\n",
    "tors = PDB_SS.getTorsions('')\n",
    "tors"
   ]
  },
  {
   "cell_type": "code",
   "execution_count": 6,
   "metadata": {},
   "outputs": [
    {
     "data": {
      "text/plain": [
       "<Disulfide 4yys_22A_65A SourceID: 4yys Proximal: 22 A Distal: 65 A>"
      ]
     },
     "execution_count": 6,
     "metadata": {},
     "output_type": "execute_result"
    }
   ],
   "source": [
    "ss1 = ss4yys.get_by_name('4yys_22A_65A')\n",
    "ss1"
   ]
  },
  {
   "cell_type": "code",
   "execution_count": 7,
   "metadata": {},
   "outputs": [
    {
     "name": "stdout",
     "output_type": "stream",
     "text": [
      "ssbond dict: {1: ('22', '65', 'A', 'A'), 2: ('56', '98', 'A', 'A'), 3: ('156', '207', 'A', 'A'), 4: ('22', '65', 'B', 'B'), 5: ('56', '98', 'B', 'B'), 6: ('156', '207', 'B', 'B')}\n",
      "multiple chains. [<Chain id=A>, <Chain id=B>]\n",
      "Chain: A, length: 504\n",
      "Chain: B, length: 454\n",
      "chain lengths are unequal: [504, 454]\n"
     ]
    },
    {
     "data": {
      "text/plain": [
       "False"
      ]
     },
     "execution_count": 7,
     "metadata": {},
     "output_type": "execute_result"
    }
   ],
   "source": [
    "Check_chains('4yys', PDB_GOOD)"
   ]
  },
  {
   "cell_type": "code",
   "execution_count": null,
   "metadata": {},
   "outputs": [],
   "source": []
  },
  {
   "cell_type": "code",
   "execution_count": 8,
   "metadata": {},
   "outputs": [
    {
     "data": {
      "text/plain": [
       "DisulfideList([<Disulfide 4yys_22A_65A SourceID: 4yys Proximal: 22 A Distal: 65 A>,\n",
       "               <Disulfide 4yys_56A_98A SourceID: 4yys Proximal: 56 A Distal: 98 A>,\n",
       "               <Disulfide 4yys_156A_207A SourceID: 4yys Proximal: 156 A Distal: 207 A>])"
      ]
     },
     "execution_count": 8,
     "metadata": {},
     "output_type": "execute_result"
    }
   ],
   "source": [
    "ss4yys_a = ss4yys.by_chain('A')\n",
    "ss4yys_a\n"
   ]
  },
  {
   "cell_type": "code",
   "execution_count": 9,
   "metadata": {},
   "outputs": [
    {
     "data": {
      "text/plain": [
       "DisulfideList([<Disulfide 4yys_22B_65B SourceID: 4yys Proximal: 22 B Distal: 65 B>,\n",
       "               <Disulfide 4yys_56B_98B SourceID: 4yys Proximal: 56 B Distal: 98 B>,\n",
       "               <Disulfide 4yys_156B_207B SourceID: 4yys Proximal: 156 B Distal: 207 B>])"
      ]
     },
     "execution_count": 9,
     "metadata": {},
     "output_type": "execute_result"
    }
   ],
   "source": [
    "ss4yys_b = ss4yys.by_chain('B')\n",
    "ss4yys_b"
   ]
  },
  {
   "cell_type": "code",
   "execution_count": 10,
   "metadata": {},
   "outputs": [
    {
     "name": "stdout",
     "output_type": "stream",
     "text": [
      "\n",
      "Proximal Coordinates:\n",
      "   N: <Vector -2.36, -20.48, 5.21>\n",
      "   Cα: <Vector -2.10, -19.89, 3.90>\n",
      "   C: <Vector -1.12, -18.78, 4.12>\n",
      "   O: <Vector -1.30, -17.96, 5.03>\n",
      "   Cβ: <Vector -3.38, -19.31, 3.32>\n",
      "   Sγ: <Vector -3.24, -18.40, 1.76>\n",
      "   Cprev <Vector -2.67, -21.75, 5.36>\n",
      "   Nnext: <Vector -0.02, -18.76, 3.36>\n",
      " Distal Coordinates:\n",
      "   N: <Vector -0.60, -18.71, -1.62>\n",
      "   Cα: <Vector -0.48, -19.10, -0.22>\n",
      "   C: <Vector 0.92, -19.52, 0.18>\n",
      "   O: <Vector 1.10, -20.09, 1.25>\n",
      "   Cβ: <Vector -1.48, -20.23, 0.08>\n",
      "   Sγ: <Vector -3.22, -19.69, 0.18>\n",
      "   Cprev <Vector -0.73, -17.44, -2.01>\n",
      "   Nnext: <Vector 1.92, -19.18, -0.63>\n",
      "\n",
      "\n"
     ]
    }
   ],
   "source": [
    "ss4yys_a1 = ss4yys_a[0]\n",
    "print(ss4yys_a1.repr_ss_coords())\n"
   ]
  },
  {
   "cell_type": "code",
   "execution_count": 11,
   "metadata": {},
   "outputs": [
    {
     "data": {
      "text/plain": [
       "<Disulfide 4yys_22B_65B SourceID: 4yys Proximal: 22 B Distal: 65 B>"
      ]
     },
     "execution_count": 11,
     "metadata": {},
     "output_type": "execute_result"
    }
   ],
   "source": [
    "ss4yys_b1 = ss4yys_b[0]\n",
    "ss4yys_b1"
   ]
  },
  {
   "cell_type": "code",
   "execution_count": 12,
   "metadata": {},
   "outputs": [
    {
     "data": {
      "text/plain": [
       "0.1145026461405659"
      ]
     },
     "execution_count": 12,
     "metadata": {},
     "output_type": "execute_result"
    }
   ],
   "source": [
    "Distance_RMS(ss4yys_a1, ss4yys_b1)"
   ]
  },
  {
   "cell_type": "code",
   "execution_count": 13,
   "metadata": {},
   "outputs": [
    {
     "data": {
      "text/plain": [
       "7.045760800877229"
      ]
     },
     "execution_count": 13,
     "metadata": {},
     "output_type": "execute_result"
    }
   ],
   "source": [
    "Torsion_RMS(ss4yys_a1, ss4yys_b1)"
   ]
  },
  {
   "cell_type": "code",
   "execution_count": 14,
   "metadata": {},
   "outputs": [
    {
     "data": {
      "text/plain": [
       "False"
      ]
     },
     "execution_count": 14,
     "metadata": {},
     "output_type": "execute_result"
    }
   ],
   "source": [
    "ss4yys_a1 == ss4yys_b1"
   ]
  },
  {
   "cell_type": "code",
   "execution_count": 15,
   "metadata": {},
   "outputs": [
    {
     "data": {
      "text/plain": [
       "{'A', 'B'}"
      ]
     },
     "execution_count": 15,
     "metadata": {},
     "output_type": "execute_result"
    }
   ],
   "source": [
    "chns = ss4yys.get_chains()\n",
    "ss4yys.has_chain('yyy')\n",
    "chns"
   ]
  },
  {
   "cell_type": "code",
   "execution_count": 16,
   "metadata": {},
   "outputs": [
    {
     "name": "stdout",
     "output_type": "stream",
     "text": [
      "[<Disulfide 4yys_22A_65A SourceID: 4yys Proximal: 22 A Distal: 65 A>, <Disulfide 4yys_56A_98A SourceID: 4yys Proximal: 56 A Distal: 98 A>, <Disulfide 4yys_156A_207A SourceID: 4yys Proximal: 156 A Distal: 207 A>, <Disulfide 4yys_22B_65B SourceID: 4yys Proximal: 22 B Distal: 65 B>, <Disulfide 4yys_56B_98B SourceID: 4yys Proximal: 56 B Distal: 98 B>, <Disulfide 4yys_156B_207B SourceID: 4yys Proximal: 156 B Distal: 207 B>]\n",
      "(('4yys', 0, 'A', (' ', 22, ' ')), ('4yys', 0, 'A', (' ', 65, ' ')))\n"
     ]
    }
   ],
   "source": [
    "# load SS bonds by PDB ID\n",
    "ss1 = PDB_SS['4yys']\n",
    "print(ss1)\n",
    "print(ss1[0].get_full_id())\n"
   ]
  },
  {
   "cell_type": "code",
   "execution_count": 17,
   "metadata": {},
   "outputs": [
    {
     "name": "stdout",
     "output_type": "stream",
     "text": [
      "ID: 4yys has 6 Disulfides:\n",
      "<Disulfide 4yys_22A_65A SourceID: 4yys Proximal: 22 A Distal: 65 A>\n",
      "<Disulfide 4yys_56A_98A SourceID: 4yys Proximal: 56 A Distal: 98 A>\n",
      "<Disulfide 4yys_156A_207A SourceID: 4yys Proximal: 156 A Distal: 207 A>\n",
      "<Disulfide 4yys_22B_65B SourceID: 4yys Proximal: 22 B Distal: 65 B>\n",
      "<Disulfide 4yys_56B_98B SourceID: 4yys Proximal: 56 B Distal: 98 B>\n",
      "<Disulfide 4yys_156B_207B SourceID: 4yys Proximal: 156 B Distal: 207 B>\n",
      "\n",
      "\n",
      "ID: 1j5h has 2 Disulfides:\n",
      "<Disulfide 1j5h_37A_47A SourceID: 1j5h Proximal: 37 A Distal: 47 A>\n",
      "<Disulfide 1j5h_88A_93A SourceID: 1j5h Proximal: 88 A Distal: 93 A>\n",
      "\n",
      "\n",
      "ID: 1mfe has 1 Disulfides:\n",
      "<Disulfide 1mfe_137L_196L SourceID: 1mfe Proximal: 137 L Distal: 196 L>\n",
      "\n",
      "\n",
      "ID: 1chv has 4 Disulfides:\n",
      "<Disulfide 1chv_3S_21S SourceID: 1chv Proximal: 3 S Distal: 21 S>\n",
      "<Disulfide 1chv_14S_38S SourceID: 1chv Proximal: 14 S Distal: 38 S>\n",
      "<Disulfide 1chv_42S_53S SourceID: 1chv Proximal: 42 S Distal: 53 S>\n",
      "<Disulfide 1chv_54S_59S SourceID: 1chv Proximal: 54 S Distal: 59 S>\n",
      "\n",
      "\n",
      "ID: 6fuf has 2 Disulfides:\n",
      "<Disulfide 6fuf_2A_282A SourceID: 6fuf Proximal: 2 A Distal: 282 A>\n",
      "<Disulfide 6fuf_110A_187A SourceID: 6fuf Proximal: 110 A Distal: 187 A>\n",
      "\n",
      "\n"
     ]
    }
   ],
   "source": [
    "# you can loop over the IDList list and extract by ID\n",
    "#\n",
    "for id in PDB_SS.IDList[:5]:    # just show last 5\n",
    "    # get the SS bonds for the given ID\n",
    "    ssb = PDB_SS[id]\n",
    "    numb_ss = len(ssb)\n",
    "    print(f'ID: {id} has {numb_ss} Disulfides:')\n",
    "    for bond in ssb:\n",
    "        print(bond)\n",
    "    print('\\n')\n",
    "    "
   ]
  },
  {
   "cell_type": "code",
   "execution_count": 18,
   "metadata": {},
   "outputs": [
    {
     "name": "stdout",
     "output_type": "stream",
     "text": [
      "('4yys', 0, 'A', (' ', 22, ' '))\n",
      "-83.32224872066772\n"
     ]
    },
    {
     "data": {
      "text/plain": [
       "8210"
      ]
     },
     "execution_count": 18,
     "metadata": {},
     "output_type": "execute_result"
    }
   ],
   "source": [
    "ss_list = PDB_SS.getlist()\n",
    "ss0 = ss_list[0]\n",
    "\n",
    "print(ss0.proximal_residue_fullid)\n",
    "print(ss0.chi3)\n",
    "len(ss_list)\n"
   ]
  },
  {
   "cell_type": "code",
   "execution_count": 19,
   "metadata": {},
   "outputs": [
    {
     "name": "stdout",
     "output_type": "stream",
     "text": [
      "Left Handed: 4397, Right Handed: 3813\n"
     ]
    }
   ],
   "source": [
    "# routine creates 2 lists  for left-handed and right-handed disulfides \n",
    "ss_list = PDB_SS.getlist()\n",
    "left_handed = DisulfideList([], 'left_handed')\n",
    "right_handed = DisulfideList([], 'right_handed')\n",
    "\n",
    "i = 0\n",
    "\n",
    "for i in range(len(ss_list)):\n",
    "    ss = ss_list[i]\n",
    "    if ss.chi3 < 0:\n",
    "        left_handed.append(ss)\n",
    "    else:\n",
    "        right_handed.append(ss)\n",
    "\n",
    "\n",
    "print(f'Left Handed: {len(left_handed)}, Right Handed: {len(right_handed)}')\n",
    "\n"
   ]
  },
  {
   "cell_type": "code",
   "execution_count": 21,
   "metadata": {},
   "outputs": [
    {
     "name": "stdout",
     "output_type": "stream",
     "text": [
      "Reading disulfides from: /Users/egs/repos/proteusPy/proteusPy/data/PDB_all_ss.pkl\n",
      "Disulfides Read: 8210\n",
      "Reading disulfide dict from: /Users/egs/repos/proteusPy/proteusPy/data/PDB_all_ss_dict.pkl\n",
      "Reading Torsion DF /Users/egs/repos/proteusPy/proteusPy/data/PDB_all_SS_torsions.csv.\n",
      "Read torsions DF.\n",
      "PDB IDs parsed: 1000\n",
      "Total Space Used: 2035005 bytes.\n",
      "<Disulfide 4yys_22A_65A SourceID: 4yys Proximal: 22 A Distal: 65 A\n",
      " Proximal Chain fullID: <('4yys', 0, 'A', (' ', 22, ' '))> Distal Chain fullID: <('4yys', 0, 'A', (' ', 65, ' '))> \n",
      "Proximal Coordinates:\n",
      "   N: <Vector -2.36, -20.48, 5.21>\n",
      "   Cα: <Vector -2.10, -19.89, 3.90>\n",
      "   C: <Vector -1.12, -18.78, 4.12>\n",
      "   O: <Vector -1.30, -17.96, 5.03>\n",
      "   Cβ: <Vector -3.38, -19.31, 3.32>\n",
      "   Sγ: <Vector -3.24, -18.40, 1.76>\n",
      "   Cprev <Vector -2.67, -21.75, 5.36>\n",
      "   Nnext: <Vector -0.02, -18.76, 3.36>\n",
      " Distal Coordinates:\n",
      "   N: <Vector -0.60, -18.71, -1.62>\n",
      "   Cα: <Vector -0.48, -19.10, -0.22>\n",
      "   C: <Vector 0.92, -19.52, 0.18>\n",
      "   O: <Vector 1.10, -20.09, 1.25>\n",
      "   Cβ: <Vector -1.48, -20.23, 0.08>\n",
      "   Sγ: <Vector -3.22, -19.69, 0.18>\n",
      "   Cprev <Vector -0.73, -17.44, -2.01>\n",
      "   Nnext: <Vector 1.92, -19.18, -0.63>\n",
      "\n",
      " Proximal Internal Coordinates:\n",
      "   N: <Vector -0.41, 1.40, -0.00>\n",
      "   Cα: <Vector 0.00, 0.00, 0.00>\n",
      "   C: <Vector 1.50, 0.00, 0.00>\n",
      "   O: <Vector 2.12, 0.71, -0.80>\n",
      "   Cβ: <Vector -0.50, -0.70, -1.25>\n",
      "   Sγ: <Vector 0.04, -2.41, -1.50>\n",
      "   Cprev <Vector -2.67, -21.75, 5.36>\n",
      "   Nnext: <Vector -0.02, -18.76, 3.36>\n",
      " Distal Internal Coordinates:\n",
      "   N: <Vector 1.04, -5.63, 1.17>\n",
      "   Cα: <Vector 1.04, -4.18, 1.31>\n",
      "   C: <Vector 1.72, -3.68, 2.57>\n",
      "   O: <Vector 1.57, -2.51, 2.92>\n",
      "   Cβ: <Vector -0.41, -3.66, 1.24>\n",
      "   Sγ: <Vector -1.14, -3.69, -0.43>\n",
      "   Cprev <Vector -0.73, -17.44, -2.01>\n",
      "   Nnext: <Vector 1.92, -19.18, -0.63>\n",
      "\n",
      " Conformation: (Χ1-Χ5):  174.629°, 82.518°, -83.322°, -62.524° -73.827°  Energy: 1.696 kcal/mol >\n",
      "None\n"
     ]
    }
   ],
   "source": [
    "from proteusPy.Disulfide import Disulfide\n",
    "\n",
    "# make some empty disulfides\n",
    "ss1 = Disulfide('ss1')\n",
    "ss2 = Disulfide('ss2')\n",
    "\n",
    "# make a DisulfideList containing ss1, named 'tmp'\n",
    "sslist = DisulfideList([ss1], 'tmp')\n",
    "sslist.append(ss2)\n",
    "\n",
    "# load the PDB Disulfide database\n",
    "PDB_SS = None\n",
    "PDB_SS = DisulfideLoader(verbose=True)\n",
    "\n",
    "# extract a disulfide with typical index\n",
    "ss1 = PDB_SS[0]\n",
    "print(f'{ss1.pprint_all()}')\n",
    "\n",
    "# grab a subset via slicing\n",
    "subset = DisulfideList(PDB_SS[0:10],'subset')"
   ]
  },
  {
   "cell_type": "code",
   "execution_count": 69,
   "metadata": {},
   "outputs": [
    {
     "data": {
      "text/html": [
       "<div>\n",
       "<style scoped>\n",
       "    .dataframe tbody tr th:only-of-type {\n",
       "        vertical-align: middle;\n",
       "    }\n",
       "\n",
       "    .dataframe tbody tr th {\n",
       "        vertical-align: top;\n",
       "    }\n",
       "\n",
       "    .dataframe thead th {\n",
       "        text-align: right;\n",
       "    }\n",
       "</style>\n",
       "<table border=\"1\" class=\"dataframe\">\n",
       "  <thead>\n",
       "    <tr style=\"text-align: right;\">\n",
       "      <th></th>\n",
       "      <th>source</th>\n",
       "      <th>ss_id</th>\n",
       "      <th>proximal</th>\n",
       "      <th>distal</th>\n",
       "      <th>chi1</th>\n",
       "      <th>chi2</th>\n",
       "      <th>chi3</th>\n",
       "      <th>chi4</th>\n",
       "      <th>chi5</th>\n",
       "      <th>energy</th>\n",
       "      <th>ca_distance</th>\n",
       "      <th>phi_prox</th>\n",
       "      <th>psi_prox</th>\n",
       "      <th>phi_dist</th>\n",
       "      <th>psi_dist</th>\n",
       "    </tr>\n",
       "  </thead>\n",
       "  <tbody>\n",
       "    <tr>\n",
       "      <th>1858</th>\n",
       "      <td>1zjk</td>\n",
       "      <td>1zjk_629A_660A</td>\n",
       "      <td>629</td>\n",
       "      <td>660</td>\n",
       "      <td>-119.404445</td>\n",
       "      <td>115.451877</td>\n",
       "      <td>-156.958041</td>\n",
       "      <td>-27.389791</td>\n",
       "      <td>-113.040397</td>\n",
       "      <td>17.289549</td>\n",
       "      <td>5.848614</td>\n",
       "      <td>-180.000000</td>\n",
       "      <td>-180.000000</td>\n",
       "      <td>-180.000000</td>\n",
       "      <td>-180.000000</td>\n",
       "    </tr>\n",
       "    <tr>\n",
       "      <th>5983</th>\n",
       "      <td>5ix5</td>\n",
       "      <td>5ix5_28A_49A</td>\n",
       "      <td>28</td>\n",
       "      <td>49</td>\n",
       "      <td>-125.198921</td>\n",
       "      <td>85.810593</td>\n",
       "      <td>165.177044</td>\n",
       "      <td>-110.014736</td>\n",
       "      <td>-109.484554</td>\n",
       "      <td>16.993266</td>\n",
       "      <td>6.445898</td>\n",
       "      <td>-72.579873</td>\n",
       "      <td>-42.872608</td>\n",
       "      <td>-115.168970</td>\n",
       "      <td>166.069531</td>\n",
       "    </tr>\n",
       "    <tr>\n",
       "      <th>7142</th>\n",
       "      <td>5i70</td>\n",
       "      <td>5i70_249B_285B</td>\n",
       "      <td>249</td>\n",
       "      <td>285</td>\n",
       "      <td>-118.572818</td>\n",
       "      <td>17.632040</td>\n",
       "      <td>27.714934</td>\n",
       "      <td>103.400599</td>\n",
       "      <td>-105.519889</td>\n",
       "      <td>16.852911</td>\n",
       "      <td>4.762222</td>\n",
       "      <td>-72.765441</td>\n",
       "      <td>-41.351280</td>\n",
       "      <td>-131.509368</td>\n",
       "      <td>146.384733</td>\n",
       "    </tr>\n",
       "    <tr>\n",
       "      <th>7</th>\n",
       "      <td>1j5h</td>\n",
       "      <td>1j5h_88A_93A</td>\n",
       "      <td>88</td>\n",
       "      <td>93</td>\n",
       "      <td>-130.028193</td>\n",
       "      <td>-138.597573</td>\n",
       "      <td>27.091820</td>\n",
       "      <td>101.727177</td>\n",
       "      <td>-109.684946</td>\n",
       "      <td>16.823423</td>\n",
       "      <td>5.291536</td>\n",
       "      <td>-94.998658</td>\n",
       "      <td>-22.831376</td>\n",
       "      <td>-51.633735</td>\n",
       "      <td>-179.647589</td>\n",
       "    </tr>\n",
       "    <tr>\n",
       "      <th>7743</th>\n",
       "      <td>7vn9</td>\n",
       "      <td>7vn9_369E_396E</td>\n",
       "      <td>369</td>\n",
       "      <td>396</td>\n",
       "      <td>-1.307355</td>\n",
       "      <td>-110.315764</td>\n",
       "      <td>35.017574</td>\n",
       "      <td>105.456355</td>\n",
       "      <td>114.057830</td>\n",
       "      <td>16.636493</td>\n",
       "      <td>3.985665</td>\n",
       "      <td>-68.656248</td>\n",
       "      <td>138.354646</td>\n",
       "      <td>-65.497012</td>\n",
       "      <td>149.767509</td>\n",
       "    </tr>\n",
       "    <tr>\n",
       "      <th>1360</th>\n",
       "      <td>2mtm</td>\n",
       "      <td>2mtm_4A_18A</td>\n",
       "      <td>4</td>\n",
       "      <td>18</td>\n",
       "      <td>-145.621640</td>\n",
       "      <td>100.815883</td>\n",
       "      <td>-11.727692</td>\n",
       "      <td>87.895308</td>\n",
       "      <td>-109.134060</td>\n",
       "      <td>16.367176</td>\n",
       "      <td>4.795191</td>\n",
       "      <td>-105.157431</td>\n",
       "      <td>-39.053441</td>\n",
       "      <td>-88.013097</td>\n",
       "      <td>129.322380</td>\n",
       "    </tr>\n",
       "    <tr>\n",
       "      <th>5982</th>\n",
       "      <td>5ix5</td>\n",
       "      <td>5ix5_24A_47A</td>\n",
       "      <td>24</td>\n",
       "      <td>47</td>\n",
       "      <td>-120.552249</td>\n",
       "      <td>81.976395</td>\n",
       "      <td>-168.373887</td>\n",
       "      <td>-60.690634</td>\n",
       "      <td>-138.385992</td>\n",
       "      <td>14.558078</td>\n",
       "      <td>6.201594</td>\n",
       "      <td>-121.287702</td>\n",
       "      <td>-52.569386</td>\n",
       "      <td>-104.576661</td>\n",
       "      <td>119.777325</td>\n",
       "    </tr>\n",
       "    <tr>\n",
       "      <th>3694</th>\n",
       "      <td>7lfs</td>\n",
       "      <td>7lfs_305C_309C</td>\n",
       "      <td>305</td>\n",
       "      <td>309</td>\n",
       "      <td>-121.368685</td>\n",
       "      <td>-34.955346</td>\n",
       "      <td>-166.201944</td>\n",
       "      <td>99.814757</td>\n",
       "      <td>-35.352797</td>\n",
       "      <td>14.428365</td>\n",
       "      <td>6.123670</td>\n",
       "      <td>-88.213440</td>\n",
       "      <td>95.513576</td>\n",
       "      <td>-68.695803</td>\n",
       "      <td>-40.604028</td>\n",
       "    </tr>\n",
       "    <tr>\n",
       "      <th>4432</th>\n",
       "      <td>2m96</td>\n",
       "      <td>2m96_8A_21A</td>\n",
       "      <td>8</td>\n",
       "      <td>21</td>\n",
       "      <td>-144.956128</td>\n",
       "      <td>104.802750</td>\n",
       "      <td>153.936652</td>\n",
       "      <td>-117.600915</td>\n",
       "      <td>-89.623184</td>\n",
       "      <td>14.300415</td>\n",
       "      <td>6.590870</td>\n",
       "      <td>-140.413270</td>\n",
       "      <td>163.464552</td>\n",
       "      <td>-126.424594</td>\n",
       "      <td>124.185942</td>\n",
       "    </tr>\n",
       "    <tr>\n",
       "      <th>5742</th>\n",
       "      <td>1igr</td>\n",
       "      <td>1igr_425A_458A</td>\n",
       "      <td>425</td>\n",
       "      <td>458</td>\n",
       "      <td>-97.434381</td>\n",
       "      <td>-82.004776</td>\n",
       "      <td>-152.777500</td>\n",
       "      <td>32.773367</td>\n",
       "      <td>-115.644343</td>\n",
       "      <td>14.204259</td>\n",
       "      <td>5.743282</td>\n",
       "      <td>-53.767106</td>\n",
       "      <td>137.688874</td>\n",
       "      <td>-103.019429</td>\n",
       "      <td>-111.890077</td>\n",
       "    </tr>\n",
       "  </tbody>\n",
       "</table>\n",
       "</div>"
      ],
      "text/plain": [
       "     source           ss_id  proximal  distal        chi1        chi2  \\\n",
       "1858   1zjk  1zjk_629A_660A       629     660 -119.404445  115.451877   \n",
       "5983   5ix5    5ix5_28A_49A        28      49 -125.198921   85.810593   \n",
       "7142   5i70  5i70_249B_285B       249     285 -118.572818   17.632040   \n",
       "7      1j5h    1j5h_88A_93A        88      93 -130.028193 -138.597573   \n",
       "7743   7vn9  7vn9_369E_396E       369     396   -1.307355 -110.315764   \n",
       "1360   2mtm     2mtm_4A_18A         4      18 -145.621640  100.815883   \n",
       "5982   5ix5    5ix5_24A_47A        24      47 -120.552249   81.976395   \n",
       "3694   7lfs  7lfs_305C_309C       305     309 -121.368685  -34.955346   \n",
       "4432   2m96     2m96_8A_21A         8      21 -144.956128  104.802750   \n",
       "5742   1igr  1igr_425A_458A       425     458  -97.434381  -82.004776   \n",
       "\n",
       "            chi3        chi4        chi5     energy  ca_distance    phi_prox  \\\n",
       "1858 -156.958041  -27.389791 -113.040397  17.289549     5.848614 -180.000000   \n",
       "5983  165.177044 -110.014736 -109.484554  16.993266     6.445898  -72.579873   \n",
       "7142   27.714934  103.400599 -105.519889  16.852911     4.762222  -72.765441   \n",
       "7      27.091820  101.727177 -109.684946  16.823423     5.291536  -94.998658   \n",
       "7743   35.017574  105.456355  114.057830  16.636493     3.985665  -68.656248   \n",
       "1360  -11.727692   87.895308 -109.134060  16.367176     4.795191 -105.157431   \n",
       "5982 -168.373887  -60.690634 -138.385992  14.558078     6.201594 -121.287702   \n",
       "3694 -166.201944   99.814757  -35.352797  14.428365     6.123670  -88.213440   \n",
       "4432  153.936652 -117.600915  -89.623184  14.300415     6.590870 -140.413270   \n",
       "5742 -152.777500   32.773367 -115.644343  14.204259     5.743282  -53.767106   \n",
       "\n",
       "        psi_prox    phi_dist    psi_dist  \n",
       "1858 -180.000000 -180.000000 -180.000000  \n",
       "5983  -42.872608 -115.168970  166.069531  \n",
       "7142  -41.351280 -131.509368  146.384733  \n",
       "7     -22.831376  -51.633735 -179.647589  \n",
       "7743  138.354646  -65.497012  149.767509  \n",
       "1360  -39.053441  -88.013097  129.322380  \n",
       "5982  -52.569386 -104.576661  119.777325  \n",
       "3694   95.513576  -68.695803  -40.604028  \n",
       "4432  163.464552 -126.424594  124.185942  \n",
       "5742  137.688874 -103.019429 -111.890077  "
      ]
     },
     "execution_count": 69,
     "metadata": {},
     "output_type": "execute_result"
    }
   ],
   "source": [
    "torsions = PDB_SS.getTorsions()\n",
    "torsions.sort_values(by=['energy'], ascending=False, inplace=True)\n",
    "\n",
    "torsions.head(10)"
   ]
  },
  {
   "cell_type": "code",
   "execution_count": 85,
   "metadata": {},
   "outputs": [
    {
     "name": "stdout",
     "output_type": "stream",
     "text": [
      "IDMAX: 1858\n"
     ]
    },
    {
     "data": {
      "text/plain": [
       "<Disulfide 1zjk_629A_660A SourceID: 1zjk Proximal: 629 A Distal: 660 A>"
      ]
     },
     "execution_count": 85,
     "metadata": {},
     "output_type": "execute_result"
    }
   ],
   "source": [
    "idx_max = int(torsions['energy'].idxmax())\n",
    "print(f'IDMAX: {idx_max}')\n",
    "ssmax = PDB_SS[idx_max]\n",
    "ssmax"
   ]
  },
  {
   "cell_type": "code",
   "execution_count": 84,
   "metadata": {},
   "outputs": [
    {
     "data": {
      "text/plain": [
       "<Disulfide 1zjk_629A_660A SourceID: 1zjk Proximal: 629 A Distal: 660 A>"
      ]
     },
     "execution_count": 84,
     "metadata": {},
     "output_type": "execute_result"
    }
   ],
   "source": []
  },
  {
   "cell_type": "code",
   "execution_count": 92,
   "metadata": {},
   "outputs": [
    {
     "name": "stdout",
     "output_type": "stream",
     "text": [
      "ID: 1zjk_629A_660A:17.29 CA: 5.85\n",
      "ID: 5ix5_28A_49A:16.99 CA: 6.45\n",
      "ID: 5i70_249B_285B:16.85 CA: 4.76\n",
      "ID: 1j5h_88A_93A:16.82 CA: 5.29\n",
      "ID: 7vn9_369E_396E:16.64 CA: 3.99\n",
      "ID: 2mtm_4A_18A:16.37 CA: 4.80\n",
      "ID: 5ix5_24A_47A:14.56 CA: 6.20\n",
      "ID: 7lfs_305C_309C:14.43 CA: 6.12\n",
      "ID: 2m96_8A_21A:14.30 CA: 6.59\n",
      "ID: 1igr_425A_458A:14.20 CA: 5.74\n",
      "ID: 6l5g_6A_167A:14.20 CA: 6.17\n",
      "ID: 7czr_391B_525B:14.04 CA: 3.91\n",
      "ID: 1ejo_2646H_2701H:13.93 CA: 5.94\n",
      "ID: 4jun_144D_148D:13.89 CA: 5.61\n",
      "ID: 5k9o_52I_277I:13.76 CA: 5.82\n",
      "ID: 4hzc_227A_259A:13.71 CA: 4.84\n",
      "ID: 2abz_18D_58D:13.55 CA: 4.06\n",
      "ID: 5wkf_23J_104J:13.52 CA: 6.90\n",
      "ID: 4uao_214B_215C:13.44 CA: 5.99\n",
      "ID: 7e4u_52I_173J:13.42 CA: 5.49\n",
      "ID: 4zg6_149A_195A:13.30 CA: 5.98\n",
      "ID: 7djn_124A_169A:13.26 CA: 6.14\n",
      "ID: 7e50_558B_566B:13.23 CA: 6.37\n",
      "ID: 5wkf_158D_187E:13.18 CA: 6.41\n",
      "ID: 6n5e_22F_90F:13.04 CA: 6.54\n",
      "ID: 2rng_52A_70A:12.88 CA: 6.11\n",
      "ID: 6uoa_108B_135B:12.86 CA: 5.59\n",
      "ID: 7t6v_98R_176R:12.76 CA: 7.09\n",
      "ID: 2m96_15A_34A:12.74 CA: 6.47\n",
      "ID: 5l1b_718D_773D:12.66 CA: 5.23\n"
     ]
    },
    {
     "data": {
      "text/plain": [
       "DisulfideList([<Disulfide 1zjk_629A_660A SourceID: 1zjk Proximal: 629 A Distal: 660 A>,\n",
       "               <Disulfide 5ix5_28A_49A SourceID: 5ix5 Proximal: 28 A Distal: 49 A>,\n",
       "               <Disulfide 5i70_249B_285B SourceID: 5i70 Proximal: 249 B Distal: 285 B>,\n",
       "               <Disulfide 1j5h_88A_93A SourceID: 1j5h Proximal: 88 A Distal: 93 A>,\n",
       "               <Disulfide 7vn9_369E_396E SourceID: 7vn9 Proximal: 369 E Distal: 396 E>,\n",
       "               <Disulfide 2mtm_4A_18A SourceID: 2mtm Proximal: 4 A Distal: 18 A>,\n",
       "               <Disulfide 5ix5_24A_47A SourceID: 5ix5 Proximal: 24 A Distal: 47 A>,\n",
       "               <Disulfide 7lfs_305C_309C SourceID: 7lfs Proximal: 305 C Distal: 309 C>,\n",
       "               <Disulfide 2m96_8A_21A SourceID: 2m96 Proximal: 8 A Distal: 21 A>,\n",
       "               <Disulfide 1igr_425A_458A SourceID: 1igr Proximal: 425 A Distal: 458 A>,\n",
       "               <Disulfide 6l5g_6A_167A SourceID: 6l5g Proximal: 6 A Distal: 167 A>,\n",
       "               <Disulfide 7czr_391B_525B SourceID: 7czr Proximal: 391 B Distal: 525 B>,\n",
       "               <Disulfide 1ejo_2646H_2701H SourceID: 1ejo Proximal: 2646 H Distal: 2701 H>,\n",
       "               <Disulfide 4jun_144D_148D SourceID: 4jun Proximal: 144 D Distal: 148 D>,\n",
       "               <Disulfide 5k9o_52I_277I SourceID: 5k9o Proximal: 52 I Distal: 277 I>,\n",
       "               <Disulfide 4hzc_227A_259A SourceID: 4hzc Proximal: 227 A Distal: 259 A>,\n",
       "               <Disulfide 2abz_18D_58D SourceID: 2abz Proximal: 18 D Distal: 58 D>,\n",
       "               <Disulfide 5wkf_23J_104J SourceID: 5wkf Proximal: 23 J Distal: 104 J>,\n",
       "               <Disulfide 4uao_214B_215C SourceID: 4uao Proximal: 214 B Distal: 215 C>,\n",
       "               <Disulfide 7e4u_52I_173J SourceID: 7e4u Proximal: 52 I Distal: 173 J>,\n",
       "               <Disulfide 4zg6_149A_195A SourceID: 4zg6 Proximal: 149 A Distal: 195 A>,\n",
       "               <Disulfide 7djn_124A_169A SourceID: 7djn Proximal: 124 A Distal: 169 A>,\n",
       "               <Disulfide 7e50_558B_566B SourceID: 7e50 Proximal: 558 B Distal: 566 B>,\n",
       "               <Disulfide 5wkf_158D_187E SourceID: 5wkf Proximal: 158 D Distal: 187 E>,\n",
       "               <Disulfide 6n5e_22F_90F SourceID: 6n5e Proximal: 22 F Distal: 90 F>,\n",
       "               <Disulfide 2rng_52A_70A SourceID: 2rng Proximal: 52 A Distal: 70 A>,\n",
       "               <Disulfide 6uoa_108B_135B SourceID: 6uoa Proximal: 108 B Distal: 135 B>,\n",
       "               <Disulfide 7t6v_98R_176R SourceID: 7t6v Proximal: 98 R Distal: 176 R>,\n",
       "               <Disulfide 2m96_15A_34A SourceID: 2m96 Proximal: 15 A Distal: 34 A>,\n",
       "               <Disulfide 5l1b_718D_773D SourceID: 5l1b Proximal: 718 D Distal: 773 D>])"
      ]
     },
     "execution_count": 92,
     "metadata": {},
     "output_type": "execute_result"
    }
   ],
   "source": [
    "badlist = torsions['ss_id']\n",
    "\n",
    "bad_SS_list = DisulfideList([],'20 top high energy')\n",
    "ss = Disulfide()\n",
    "\n",
    "for i in range(30):\n",
    "    ssid = torsions.iloc[i]['ss_id']\n",
    "    ss = PDB_SS.get_by_name(ssid)\n",
    "    print(f'ID: {ss.name}:{ss.energy:.2f} CA: {ss.ca_distance:.2f}')\n",
    "    bad_SS_list.append(ss)\n"
   ]
  },
  {
   "cell_type": "code",
   "execution_count": null,
   "metadata": {},
   "outputs": [],
   "source": []
  }
 ],
 "metadata": {
  "kernelspec": {
   "display_name": "bio",
   "language": "python",
   "name": "python3"
  },
  "language_info": {
   "codemirror_mode": {
    "name": "ipython",
    "version": 3
   },
   "file_extension": ".py",
   "mimetype": "text/x-python",
   "name": "python",
   "nbconvert_exporter": "python",
   "pygments_lexer": "ipython3",
   "version": "3.8.13 | packaged by conda-forge | (default, Mar 25 2022, 06:04:14) \n[Clang 12.0.1 ]"
  },
  "orig_nbformat": 4,
  "vscode": {
   "interpreter": {
    "hash": "2e049c0f63e6b330ae815ad1049a36d20686725ba1cc68cc0aadee0375e172d1"
   }
  }
 },
 "nbformat": 4,
 "nbformat_minor": 2
}
