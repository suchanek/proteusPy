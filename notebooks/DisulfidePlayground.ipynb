{
 "cells": [
  {
   "cell_type": "code",
   "execution_count": 1,
   "metadata": {},
   "outputs": [],
   "source": [
    "# DisulfideBond Playground\n",
    "# Playing with the DisulfideBond class\n",
    "# Author: Eric G. Suchanek, PhD.\n",
    "# (c) 2022 Eric G. Suchanek, PhD., All Rights Reserved\n",
    "# License: BSD\n",
    "# Last Modification: 1/16/23\n",
    "# Cα Cβ Sγ\n",
    "\n",
    "# important preamble\n",
    "\n",
    "import pandas as pd\n",
    "\n",
    "import pyvista as pv\n",
    "from pyvista import set_plot_theme\n",
    "\n",
    "from Bio.PDB import *\n",
    "\n",
    "# for using from the repo we \n",
    "from proteusPy import *\n",
    "from proteusPy.data import *\n",
    "from proteusPy.Disulfide import *\n",
    "\n",
    "\n",
    "# override any default PDB globals\n",
    "# location for PDB repository\n",
    "PDB_ROOT = '/Users/egs/PDB/'\n",
    "\n",
    "# location of cleaned PDB files - these are not stored in the repo\n",
    "PDB_GOOD = '/Users/egs/PDB/good/'\n",
    "\n",
    "# from within the repo \n",
    "PDB_REPO = '../pdb/'\n",
    "\n",
    "# location of the compressed Disulfide .pkl files\n",
    "MODELS = f'{PDB_ROOT}models/'\n",
    "\n",
    "# pyvista setup for notebooks\n",
    "pv.set_jupyter_backend('ipyvtklink')\n",
    "set_plot_theme('document')\n"
   ]
  },
  {
   "cell_type": "code",
   "execution_count": 2,
   "metadata": {},
   "outputs": [
    {
     "name": "stdout",
     "output_type": "stream",
     "text": [
      "Reading disulfides from: /Users/egs/repos/proteusPy/proteusPy/data/PDB_all_ss.pkl\n",
      "Disulfides Read: 8210\n",
      "Reading disulfide dict from: /Users/egs/repos/proteusPy/proteusPy/data/PDB_all_ss_dict.pkl\n",
      "Reading Torsion DF /Users/egs/repos/proteusPy/proteusPy/data/PDB_all_SS_torsions.csv.\n",
      "Read torsions DF.\n",
      "PDB IDs parsed: 1000\n",
      "Total Space Used: 1969317 bytes.\n"
     ]
    },
    {
     "data": {
      "text/plain": [
       "8210"
      ]
     },
     "execution_count": 2,
     "metadata": {},
     "output_type": "execute_result"
    }
   ],
   "source": [
    "# Comment these out since they take so long.\n",
    "# Download_Disulfides(pdb_home=PDB_ORIG, model_home=MODELS, reset=False)\n",
    "\n",
    "#Extract_Disulfides(numb=1000, pdbdir=PDB_GOOD, datadir=MODELS, verbose=False, quiet=False)\n",
    "\n",
    "PDB_SS = None\n",
    "PDB_SS = DisulfideLoader(verbose=True)\n",
    "\n",
    "ss_list = DisulfideList([], 'tmp')\n",
    "PDB_SS.TotalDisulfides\n"
   ]
  },
  {
   "cell_type": "code",
   "execution_count": 3,
   "metadata": {},
   "outputs": [
    {
     "data": {
      "text/plain": [
       "219.70970634935495"
      ]
     },
     "execution_count": 3,
     "metadata": {},
     "output_type": "execute_result"
    }
   ],
   "source": [
    "ss0 = PDB_SS[0]\n",
    "ss1 = PDB_SS[0]\n",
    "ss2 = PDB_SS[1]\n",
    "ss3 = PDB_SS[1]\n",
    "sslist1 = DisulfideList([ss0, ss2], 'tmp')\n",
    "sslist1.Torsion_RMS()"
   ]
  },
  {
   "cell_type": "code",
   "execution_count": 4,
   "metadata": {},
   "outputs": [
    {
     "data": {
      "text/plain": [
       "<Disulfide 1xr9_203A_259A SourceID: 1xr9 Proximal: 203 A Distal: 259 A>"
      ]
     },
     "execution_count": 4,
     "metadata": {},
     "output_type": "execute_result"
    }
   ],
   "source": [
    "new = DisulfideList([], 'tmp')\n",
    "sslist = PDB_SS.getlist()\n",
    "sslist.min()\n"
   ]
  },
  {
   "cell_type": "code",
   "execution_count": 5,
   "metadata": {},
   "outputs": [
    {
     "data": {
      "text/plain": [
       "<Disulfide 1zjk_629A_660A SourceID: 1zjk Proximal: 629 A Distal: 660 A>"
      ]
     },
     "execution_count": 5,
     "metadata": {},
     "output_type": "execute_result"
    }
   ],
   "source": [
    "sslist.max()"
   ]
  },
  {
   "cell_type": "code",
   "execution_count": 8,
   "metadata": {},
   "outputs": [
    {
     "name": "stdout",
     "output_type": "stream",
     "text": [
      "tot 6\n"
     ]
    }
   ],
   "source": [
    "\n",
    "# one disulfide from the database\n",
    "ss = Disulfide()\n",
    "ss = PDB_SS[0]\n",
    "#ss.pprint_all()\n",
    "\n",
    "# get all disulfides for one structure. Make a \n",
    "# DisulfideList object to hold it\n",
    "ss4yys = DisulfideList([], '4yys')\n",
    "ss4yys = PDB_SS['4yys']\n",
    "\n",
    "#ss4crn = DisulfideList([], '1crn')\n",
    "#ss4crn = PDB_SS['1crn']\n",
    "\n",
    "tot_ss = len(ss4yys) # number off ssbonds\n",
    "print(f'tot {tot_ss}')\n"
   ]
  },
  {
   "cell_type": "code",
   "execution_count": 9,
   "metadata": {},
   "outputs": [
    {
     "name": "stdout",
     "output_type": "stream",
     "text": [
      "120.84848321514998\n"
     ]
    }
   ],
   "source": [
    "print(f'{ss4yys.Torsion_RMS()}')"
   ]
  },
  {
   "cell_type": "code",
   "execution_count": 10,
   "metadata": {},
   "outputs": [
    {
     "name": "stderr",
     "output_type": "stream",
     "text": [
      "100%|█████████████████████████████████████████████████████████| 8210/8210 [00:06<00:00, 1264.39it/s]\n"
     ]
    },
    {
     "data": {
      "text/html": [
       "<div>\n",
       "<style scoped>\n",
       "    .dataframe tbody tr th:only-of-type {\n",
       "        vertical-align: middle;\n",
       "    }\n",
       "\n",
       "    .dataframe tbody tr th {\n",
       "        vertical-align: top;\n",
       "    }\n",
       "\n",
       "    .dataframe thead th {\n",
       "        text-align: right;\n",
       "    }\n",
       "</style>\n",
       "<table border=\"1\" class=\"dataframe\">\n",
       "  <thead>\n",
       "    <tr style=\"text-align: right;\">\n",
       "      <th></th>\n",
       "      <th>source</th>\n",
       "      <th>ss_id</th>\n",
       "      <th>proximal</th>\n",
       "      <th>distal</th>\n",
       "      <th>chi1</th>\n",
       "      <th>chi2</th>\n",
       "      <th>chi3</th>\n",
       "      <th>chi4</th>\n",
       "      <th>chi5</th>\n",
       "      <th>energy</th>\n",
       "      <th>ca_distance</th>\n",
       "      <th>phi_prox</th>\n",
       "      <th>psi_prox</th>\n",
       "      <th>phi_dist</th>\n",
       "      <th>psi_dist</th>\n",
       "    </tr>\n",
       "  </thead>\n",
       "  <tbody>\n",
       "    <tr>\n",
       "      <th>0</th>\n",
       "      <td>4yys</td>\n",
       "      <td>4yys_22A_65A</td>\n",
       "      <td>22</td>\n",
       "      <td>65</td>\n",
       "      <td>174.629233</td>\n",
       "      <td>82.517710</td>\n",
       "      <td>-83.322249</td>\n",
       "      <td>-62.523644</td>\n",
       "      <td>-73.827286</td>\n",
       "      <td>1.696237</td>\n",
       "      <td>4.502086</td>\n",
       "      <td>128.686790</td>\n",
       "      <td>128.686790</td>\n",
       "      <td>-105.731172</td>\n",
       "      <td>16.431694</td>\n",
       "    </tr>\n",
       "    <tr>\n",
       "      <th>1</th>\n",
       "      <td>4yys</td>\n",
       "      <td>4yys_56A_98A</td>\n",
       "      <td>56</td>\n",
       "      <td>98</td>\n",
       "      <td>-50.239063</td>\n",
       "      <td>-85.583916</td>\n",
       "      <td>97.275447</td>\n",
       "      <td>70.535692</td>\n",
       "      <td>179.046592</td>\n",
       "      <td>2.112566</td>\n",
       "      <td>4.967417</td>\n",
       "      <td>-30.489936</td>\n",
       "      <td>-30.489936</td>\n",
       "      <td>-59.378573</td>\n",
       "      <td>125.462589</td>\n",
       "    </tr>\n",
       "    <tr>\n",
       "      <th>2</th>\n",
       "      <td>4yys</td>\n",
       "      <td>4yys_156A_207A</td>\n",
       "      <td>156</td>\n",
       "      <td>207</td>\n",
       "      <td>62.598713</td>\n",
       "      <td>172.940042</td>\n",
       "      <td>-95.352637</td>\n",
       "      <td>-23.070934</td>\n",
       "      <td>-55.158480</td>\n",
       "      <td>2.331733</td>\n",
       "      <td>5.292317</td>\n",
       "      <td>150.741801</td>\n",
       "      <td>150.741801</td>\n",
       "      <td>60.457994</td>\n",
       "      <td>22.170381</td>\n",
       "    </tr>\n",
       "    <tr>\n",
       "      <th>3</th>\n",
       "      <td>4yys</td>\n",
       "      <td>4yys_22B_65B</td>\n",
       "      <td>22</td>\n",
       "      <td>65</td>\n",
       "      <td>173.666078</td>\n",
       "      <td>88.297996</td>\n",
       "      <td>-82.387276</td>\n",
       "      <td>-65.997032</td>\n",
       "      <td>-72.289506</td>\n",
       "      <td>1.958823</td>\n",
       "      <td>4.532387</td>\n",
       "      <td>130.848015</td>\n",
       "      <td>130.848015</td>\n",
       "      <td>-103.903213</td>\n",
       "      <td>16.298008</td>\n",
       "    </tr>\n",
       "    <tr>\n",
       "      <th>4</th>\n",
       "      <td>4yys</td>\n",
       "      <td>4yys_56B_98B</td>\n",
       "      <td>56</td>\n",
       "      <td>98</td>\n",
       "      <td>-56.410909</td>\n",
       "      <td>-81.401941</td>\n",
       "      <td>94.310784</td>\n",
       "      <td>67.035993</td>\n",
       "      <td>178.852441</td>\n",
       "      <td>1.444608</td>\n",
       "      <td>4.768629</td>\n",
       "      <td>-30.319989</td>\n",
       "      <td>-30.319989</td>\n",
       "      <td>-53.571262</td>\n",
       "      <td>120.853837</td>\n",
       "    </tr>\n",
       "  </tbody>\n",
       "</table>\n",
       "</div>"
      ],
      "text/plain": [
       "  source           ss_id  proximal  distal        chi1        chi2       chi3  \\\n",
       "0   4yys    4yys_22A_65A        22      65  174.629233   82.517710 -83.322249   \n",
       "1   4yys    4yys_56A_98A        56      98  -50.239063  -85.583916  97.275447   \n",
       "2   4yys  4yys_156A_207A       156     207   62.598713  172.940042 -95.352637   \n",
       "3   4yys    4yys_22B_65B        22      65  173.666078   88.297996 -82.387276   \n",
       "4   4yys    4yys_56B_98B        56      98  -56.410909  -81.401941  94.310784   \n",
       "\n",
       "        chi4        chi5    energy  ca_distance    phi_prox    psi_prox  \\\n",
       "0 -62.523644  -73.827286  1.696237     4.502086  128.686790  128.686790   \n",
       "1  70.535692  179.046592  2.112566     4.967417  -30.489936  -30.489936   \n",
       "2 -23.070934  -55.158480  2.331733     5.292317  150.741801  150.741801   \n",
       "3 -65.997032  -72.289506  1.958823     4.532387  130.848015  130.848015   \n",
       "4  67.035993  178.852441  1.444608     4.768629  -30.319989  -30.319989   \n",
       "\n",
       "     phi_dist    psi_dist  \n",
       "0 -105.731172   16.431694  \n",
       "1  -59.378573  125.462589  \n",
       "2   60.457994   22.170381  \n",
       "3 -103.903213   16.298008  \n",
       "4  -53.571262  120.853837  "
      ]
     },
     "execution_count": 10,
     "metadata": {},
     "output_type": "execute_result"
    }
   ],
   "source": [
    "sslist = PDB_SS.SSList\n",
    "tors_df = build_torsion_df(sslist)\n",
    "tors_df.head()"
   ]
  },
  {
   "cell_type": "code",
   "execution_count": 11,
   "metadata": {},
   "outputs": [],
   "source": [
    "ss6fuf = PDB_SS['6fuf']\n"
   ]
  },
  {
   "cell_type": "code",
   "execution_count": 12,
   "metadata": {},
   "outputs": [
    {
     "data": {
      "text/html": [
       "<div>\n",
       "<style scoped>\n",
       "    .dataframe tbody tr th:only-of-type {\n",
       "        vertical-align: middle;\n",
       "    }\n",
       "\n",
       "    .dataframe tbody tr th {\n",
       "        vertical-align: top;\n",
       "    }\n",
       "\n",
       "    .dataframe thead th {\n",
       "        text-align: right;\n",
       "    }\n",
       "</style>\n",
       "<table border=\"1\" class=\"dataframe\">\n",
       "  <thead>\n",
       "    <tr style=\"text-align: right;\">\n",
       "      <th></th>\n",
       "      <th>source</th>\n",
       "      <th>ss_id</th>\n",
       "      <th>proximal</th>\n",
       "      <th>distal</th>\n",
       "      <th>chi1</th>\n",
       "      <th>chi2</th>\n",
       "      <th>chi3</th>\n",
       "      <th>chi4</th>\n",
       "      <th>chi5</th>\n",
       "      <th>energy</th>\n",
       "      <th>ca_distance</th>\n",
       "      <th>phi_prox</th>\n",
       "      <th>psi_prox</th>\n",
       "      <th>phi_dist</th>\n",
       "      <th>psi_dist</th>\n",
       "    </tr>\n",
       "  </thead>\n",
       "  <tbody>\n",
       "    <tr>\n",
       "      <th>0</th>\n",
       "      <td>4yys</td>\n",
       "      <td>4yys_22A_65A</td>\n",
       "      <td>22</td>\n",
       "      <td>65</td>\n",
       "      <td>174.629233</td>\n",
       "      <td>82.517710</td>\n",
       "      <td>-83.322249</td>\n",
       "      <td>-62.523644</td>\n",
       "      <td>-73.827286</td>\n",
       "      <td>1.696237</td>\n",
       "      <td>4.502086</td>\n",
       "      <td>-149.776903</td>\n",
       "      <td>128.686790</td>\n",
       "      <td>-105.731172</td>\n",
       "      <td>16.431694</td>\n",
       "    </tr>\n",
       "    <tr>\n",
       "      <th>1</th>\n",
       "      <td>4yys</td>\n",
       "      <td>4yys_56A_98A</td>\n",
       "      <td>56</td>\n",
       "      <td>98</td>\n",
       "      <td>-50.239063</td>\n",
       "      <td>-85.583916</td>\n",
       "      <td>97.275447</td>\n",
       "      <td>70.535692</td>\n",
       "      <td>179.046592</td>\n",
       "      <td>2.112566</td>\n",
       "      <td>4.967417</td>\n",
       "      <td>-113.982916</td>\n",
       "      <td>-30.489936</td>\n",
       "      <td>-59.378573</td>\n",
       "      <td>125.462589</td>\n",
       "    </tr>\n",
       "    <tr>\n",
       "      <th>2</th>\n",
       "      <td>4yys</td>\n",
       "      <td>4yys_156A_207A</td>\n",
       "      <td>156</td>\n",
       "      <td>207</td>\n",
       "      <td>62.598713</td>\n",
       "      <td>172.940042</td>\n",
       "      <td>-95.352637</td>\n",
       "      <td>-23.070934</td>\n",
       "      <td>-55.158480</td>\n",
       "      <td>2.331733</td>\n",
       "      <td>5.292317</td>\n",
       "      <td>-156.930659</td>\n",
       "      <td>150.741801</td>\n",
       "      <td>60.457994</td>\n",
       "      <td>22.170381</td>\n",
       "    </tr>\n",
       "    <tr>\n",
       "      <th>3</th>\n",
       "      <td>4yys</td>\n",
       "      <td>4yys_22B_65B</td>\n",
       "      <td>22</td>\n",
       "      <td>65</td>\n",
       "      <td>173.666078</td>\n",
       "      <td>88.297996</td>\n",
       "      <td>-82.387276</td>\n",
       "      <td>-65.997032</td>\n",
       "      <td>-72.289506</td>\n",
       "      <td>1.958823</td>\n",
       "      <td>4.532387</td>\n",
       "      <td>-154.247515</td>\n",
       "      <td>130.848015</td>\n",
       "      <td>-103.903213</td>\n",
       "      <td>16.298008</td>\n",
       "    </tr>\n",
       "    <tr>\n",
       "      <th>4</th>\n",
       "      <td>4yys</td>\n",
       "      <td>4yys_56B_98B</td>\n",
       "      <td>56</td>\n",
       "      <td>98</td>\n",
       "      <td>-56.410909</td>\n",
       "      <td>-81.401941</td>\n",
       "      <td>94.310784</td>\n",
       "      <td>67.035993</td>\n",
       "      <td>178.852441</td>\n",
       "      <td>1.444608</td>\n",
       "      <td>4.768629</td>\n",
       "      <td>-113.329915</td>\n",
       "      <td>-30.319989</td>\n",
       "      <td>-53.571262</td>\n",
       "      <td>120.853837</td>\n",
       "    </tr>\n",
       "    <tr>\n",
       "      <th>...</th>\n",
       "      <td>...</td>\n",
       "      <td>...</td>\n",
       "      <td>...</td>\n",
       "      <td>...</td>\n",
       "      <td>...</td>\n",
       "      <td>...</td>\n",
       "      <td>...</td>\n",
       "      <td>...</td>\n",
       "      <td>...</td>\n",
       "      <td>...</td>\n",
       "      <td>...</td>\n",
       "      <td>...</td>\n",
       "      <td>...</td>\n",
       "      <td>...</td>\n",
       "      <td>...</td>\n",
       "    </tr>\n",
       "    <tr>\n",
       "      <th>8205</th>\n",
       "      <td>2p5r</td>\n",
       "      <td>2p5r_44B_92B</td>\n",
       "      <td>44</td>\n",
       "      <td>92</td>\n",
       "      <td>-124.400230</td>\n",
       "      <td>14.097260</td>\n",
       "      <td>87.928807</td>\n",
       "      <td>51.580778</td>\n",
       "      <td>-164.615423</td>\n",
       "      <td>6.941233</td>\n",
       "      <td>4.936201</td>\n",
       "      <td>-103.960336</td>\n",
       "      <td>93.039551</td>\n",
       "      <td>-52.651014</td>\n",
       "      <td>115.486532</td>\n",
       "    </tr>\n",
       "    <tr>\n",
       "      <th>8206</th>\n",
       "      <td>4qyz</td>\n",
       "      <td>4qyz_143A_253A</td>\n",
       "      <td>143</td>\n",
       "      <td>253</td>\n",
       "      <td>-69.050704</td>\n",
       "      <td>48.503674</td>\n",
       "      <td>150.647932</td>\n",
       "      <td>71.508814</td>\n",
       "      <td>-78.969552</td>\n",
       "      <td>7.378103</td>\n",
       "      <td>6.269383</td>\n",
       "      <td>-65.493849</td>\n",
       "      <td>-49.756331</td>\n",
       "      <td>-33.643753</td>\n",
       "      <td>-34.724290</td>\n",
       "    </tr>\n",
       "    <tr>\n",
       "      <th>8207</th>\n",
       "      <td>4qyz</td>\n",
       "      <td>4qyz_143A_250A</td>\n",
       "      <td>143</td>\n",
       "      <td>250</td>\n",
       "      <td>-69.050704</td>\n",
       "      <td>161.401761</td>\n",
       "      <td>-123.410979</td>\n",
       "      <td>-178.756423</td>\n",
       "      <td>170.219368</td>\n",
       "      <td>4.229833</td>\n",
       "      <td>7.803253</td>\n",
       "      <td>-65.493849</td>\n",
       "      <td>-49.756331</td>\n",
       "      <td>-75.614403</td>\n",
       "      <td>152.676285</td>\n",
       "    </tr>\n",
       "    <tr>\n",
       "      <th>8208</th>\n",
       "      <td>3tdj</td>\n",
       "      <td>3tdj_206A_261A</td>\n",
       "      <td>206</td>\n",
       "      <td>261</td>\n",
       "      <td>-43.122049</td>\n",
       "      <td>-78.811213</td>\n",
       "      <td>-89.985262</td>\n",
       "      <td>-53.676273</td>\n",
       "      <td>-50.840338</td>\n",
       "      <td>2.058045</td>\n",
       "      <td>5.446051</td>\n",
       "      <td>46.516562</td>\n",
       "      <td>39.500316</td>\n",
       "      <td>-114.399870</td>\n",
       "      <td>102.881614</td>\n",
       "    </tr>\n",
       "    <tr>\n",
       "      <th>8209</th>\n",
       "      <td>3tdj</td>\n",
       "      <td>3tdj_206B_261B</td>\n",
       "      <td>206</td>\n",
       "      <td>261</td>\n",
       "      <td>-46.693709</td>\n",
       "      <td>-73.694217</td>\n",
       "      <td>-93.590087</td>\n",
       "      <td>-71.365276</td>\n",
       "      <td>-56.503051</td>\n",
       "      <td>1.657231</td>\n",
       "      <td>5.919413</td>\n",
       "      <td>-180.000000</td>\n",
       "      <td>-180.000000</td>\n",
       "      <td>-180.000000</td>\n",
       "      <td>-180.000000</td>\n",
       "    </tr>\n",
       "  </tbody>\n",
       "</table>\n",
       "<p>8210 rows × 15 columns</p>\n",
       "</div>"
      ],
      "text/plain": [
       "     source           ss_id  proximal  distal        chi1        chi2  \\\n",
       "0      4yys    4yys_22A_65A        22      65  174.629233   82.517710   \n",
       "1      4yys    4yys_56A_98A        56      98  -50.239063  -85.583916   \n",
       "2      4yys  4yys_156A_207A       156     207   62.598713  172.940042   \n",
       "3      4yys    4yys_22B_65B        22      65  173.666078   88.297996   \n",
       "4      4yys    4yys_56B_98B        56      98  -56.410909  -81.401941   \n",
       "...     ...             ...       ...     ...         ...         ...   \n",
       "8205   2p5r    2p5r_44B_92B        44      92 -124.400230   14.097260   \n",
       "8206   4qyz  4qyz_143A_253A       143     253  -69.050704   48.503674   \n",
       "8207   4qyz  4qyz_143A_250A       143     250  -69.050704  161.401761   \n",
       "8208   3tdj  3tdj_206A_261A       206     261  -43.122049  -78.811213   \n",
       "8209   3tdj  3tdj_206B_261B       206     261  -46.693709  -73.694217   \n",
       "\n",
       "            chi3        chi4        chi5    energy  ca_distance    phi_prox  \\\n",
       "0     -83.322249  -62.523644  -73.827286  1.696237     4.502086 -149.776903   \n",
       "1      97.275447   70.535692  179.046592  2.112566     4.967417 -113.982916   \n",
       "2     -95.352637  -23.070934  -55.158480  2.331733     5.292317 -156.930659   \n",
       "3     -82.387276  -65.997032  -72.289506  1.958823     4.532387 -154.247515   \n",
       "4      94.310784   67.035993  178.852441  1.444608     4.768629 -113.329915   \n",
       "...          ...         ...         ...       ...          ...         ...   \n",
       "8205   87.928807   51.580778 -164.615423  6.941233     4.936201 -103.960336   \n",
       "8206  150.647932   71.508814  -78.969552  7.378103     6.269383  -65.493849   \n",
       "8207 -123.410979 -178.756423  170.219368  4.229833     7.803253  -65.493849   \n",
       "8208  -89.985262  -53.676273  -50.840338  2.058045     5.446051   46.516562   \n",
       "8209  -93.590087  -71.365276  -56.503051  1.657231     5.919413 -180.000000   \n",
       "\n",
       "        psi_prox    phi_dist    psi_dist  \n",
       "0     128.686790 -105.731172   16.431694  \n",
       "1     -30.489936  -59.378573  125.462589  \n",
       "2     150.741801   60.457994   22.170381  \n",
       "3     130.848015 -103.903213   16.298008  \n",
       "4     -30.319989  -53.571262  120.853837  \n",
       "...          ...         ...         ...  \n",
       "8205   93.039551  -52.651014  115.486532  \n",
       "8206  -49.756331  -33.643753  -34.724290  \n",
       "8207  -49.756331  -75.614403  152.676285  \n",
       "8208   39.500316 -114.399870  102.881614  \n",
       "8209 -180.000000 -180.000000 -180.000000  \n",
       "\n",
       "[8210 rows x 15 columns]"
      ]
     },
     "execution_count": 12,
     "metadata": {},
     "output_type": "execute_result"
    }
   ],
   "source": [
    "tors = pd.DataFrame()\n",
    "tors = PDB_SS.getTorsions('')\n",
    "tors"
   ]
  },
  {
   "cell_type": "code",
   "execution_count": 13,
   "metadata": {},
   "outputs": [
    {
     "data": {
      "text/plain": [
       "<Disulfide 4yys_22A_65A SourceID: 4yys Proximal: 22 A Distal: 65 A>"
      ]
     },
     "execution_count": 13,
     "metadata": {},
     "output_type": "execute_result"
    }
   ],
   "source": [
    "ss1 = ss4yys.get_by_name('4yys_22A_65A')\n",
    "ss1"
   ]
  },
  {
   "cell_type": "code",
   "execution_count": 14,
   "metadata": {},
   "outputs": [
    {
     "name": "stdout",
     "output_type": "stream",
     "text": [
      "ssbond dict: {1: ('22', '65', 'A', 'A'), 2: ('56', '98', 'A', 'A'), 3: ('156', '207', 'A', 'A'), 4: ('22', '65', 'B', 'B'), 5: ('56', '98', 'B', 'B'), 6: ('156', '207', 'B', 'B')}\n",
      "multiple chains. [<Chain id=A>, <Chain id=B>]\n",
      "Chain: A, length: 504\n",
      "Chain: B, length: 454\n",
      "chain lengths are unequal: [504, 454]\n"
     ]
    },
    {
     "data": {
      "text/plain": [
       "False"
      ]
     },
     "execution_count": 14,
     "metadata": {},
     "output_type": "execute_result"
    }
   ],
   "source": [
    "Check_chains('4yys', PDB_GOOD)"
   ]
  },
  {
   "cell_type": "code",
   "execution_count": 15,
   "metadata": {},
   "outputs": [
    {
     "data": {
      "text/plain": [
       "171.30285555734537"
      ]
     },
     "execution_count": 15,
     "metadata": {},
     "output_type": "execute_result"
    }
   ],
   "source": [
    "ss4yys_a = ss4yys.by_chain('A')\n",
    "ss4yys_a.Torsion_RMS()\n"
   ]
  },
  {
   "cell_type": "code",
   "execution_count": 16,
   "metadata": {},
   "outputs": [
    {
     "data": {
      "text/plain": [
       "170.49799106566022"
      ]
     },
     "execution_count": 16,
     "metadata": {},
     "output_type": "execute_result"
    }
   ],
   "source": [
    "ss4yys_b = ss4yys.by_chain('B')\n",
    "ss4yys_b.Torsion_RMS()"
   ]
  },
  {
   "cell_type": "code",
   "execution_count": 18,
   "metadata": {},
   "outputs": [],
   "source": [
    "ss4yys_a1 = ss4yys_a[0]\n",
    "# print(ss4yys_a1.repr_ss_coords())\n"
   ]
  },
  {
   "cell_type": "code",
   "execution_count": 19,
   "metadata": {},
   "outputs": [
    {
     "data": {
      "text/plain": [
       "<Disulfide 4yys_22B_65B SourceID: 4yys Proximal: 22 B Distal: 65 B>"
      ]
     },
     "execution_count": 19,
     "metadata": {},
     "output_type": "execute_result"
    }
   ],
   "source": [
    "ss4yys_b1 = ss4yys_b[0]\n",
    "ss4yys_b1"
   ]
  },
  {
   "cell_type": "code",
   "execution_count": 20,
   "metadata": {},
   "outputs": [
    {
     "data": {
      "text/plain": [
       "0.1145026461405659"
      ]
     },
     "execution_count": 20,
     "metadata": {},
     "output_type": "execute_result"
    }
   ],
   "source": [
    "ss4yys_a1.Distance_RMS(ss4yys_b1)"
   ]
  },
  {
   "cell_type": "code",
   "execution_count": 21,
   "metadata": {},
   "outputs": [
    {
     "data": {
      "text/plain": [
       "7.045760800877229"
      ]
     },
     "execution_count": 21,
     "metadata": {},
     "output_type": "execute_result"
    }
   ],
   "source": [
    "ss4yys_a1.Torsion_RMS(ss4yys_b1)"
   ]
  },
  {
   "cell_type": "code",
   "execution_count": null,
   "metadata": {},
   "outputs": [],
   "source": [
    "ss4yys_a1 == ss4yys_b1"
   ]
  },
  {
   "cell_type": "code",
   "execution_count": null,
   "metadata": {},
   "outputs": [],
   "source": [
    "chns = ss4yys.get_chains()\n",
    "ss4yys.has_chain('yyy')\n",
    "chns"
   ]
  },
  {
   "cell_type": "code",
   "execution_count": null,
   "metadata": {},
   "outputs": [],
   "source": [
    "# load SS bonds by PDB ID\n",
    "ss1 = PDB_SS['4yys']\n",
    "print(ss1)\n",
    "print(ss1[0].get_full_id())\n"
   ]
  },
  {
   "cell_type": "code",
   "execution_count": null,
   "metadata": {},
   "outputs": [],
   "source": [
    "# you can loop over the IDList list and extract by ID\n",
    "#\n",
    "for id in PDB_SS.IDList[:5]:    # just show last 5\n",
    "    # get the SS bonds for the given ID\n",
    "    ssb = PDB_SS[id]\n",
    "    numb_ss = len(ssb)\n",
    "    print(f'ID: {id} has {numb_ss} Disulfides:')\n",
    "    for bond in ssb:\n",
    "        print(bond)\n",
    "    print('\\n')\n",
    "    "
   ]
  },
  {
   "cell_type": "code",
   "execution_count": null,
   "metadata": {},
   "outputs": [],
   "source": [
    "ss_list = PDB_SS.getlist()\n",
    "ss0 = ss_list[0]\n",
    "\n",
    "print(ss0.proximal_residue_fullid)\n",
    "print(ss0.chi3)\n",
    "len(ss_list)\n"
   ]
  },
  {
   "cell_type": "code",
   "execution_count": null,
   "metadata": {},
   "outputs": [],
   "source": [
    "# routine creates 2 lists  for left-handed and right-handed disulfides \n",
    "ss_list = PDB_SS.getlist()\n",
    "left_handed = DisulfideList([], 'left_handed')\n",
    "right_handed = DisulfideList([], 'right_handed')\n",
    "\n",
    "i = 0\n",
    "\n",
    "for i in range(len(ss_list)):\n",
    "    ss = ss_list[i]\n",
    "    if ss.chi3 < 0:\n",
    "        left_handed.append(ss)\n",
    "    else:\n",
    "        right_handed.append(ss)\n",
    "\n",
    "\n",
    "print(f'Left Handed: {len(left_handed)}, Right Handed: {len(right_handed)}')\n",
    "\n"
   ]
  },
  {
   "cell_type": "code",
   "execution_count": null,
   "metadata": {},
   "outputs": [],
   "source": [
    "from proteusPy.Disulfide import Disulfide\n",
    "\n",
    "# make some empty disulfides\n",
    "ss1 = Disulfide('ss1')\n",
    "ss2 = Disulfide('ss2')\n",
    "\n",
    "# make a DisulfideList containing ss1, named 'tmp'\n",
    "sslist = DisulfideList([ss1], 'tmp')\n",
    "sslist.append(ss2)\n",
    "\n",
    "# load the PDB Disulfide database\n",
    "PDB_SS = None\n",
    "PDB_SS = DisulfideLoader(verbose=True)\n",
    "\n",
    "# extract a disulfide with typical index\n",
    "ss1 = PDB_SS[0]\n",
    "#print(f'{ss1.pprint_all()}')\n",
    "\n",
    "# grab a subset via slicing\n",
    "subset = DisulfideList(PDB_SS[0:10],'subset')"
   ]
  },
  {
   "cell_type": "code",
   "execution_count": null,
   "metadata": {},
   "outputs": [],
   "source": [
    "rms = subset.Torsion_RMS()\n",
    "rms"
   ]
  },
  {
   "cell_type": "code",
   "execution_count": null,
   "metadata": {},
   "outputs": [],
   "source": [
    "torsions = PDB_SS.getTorsions()\n",
    "torsions.sort_values(by=['energy'], ascending=False, inplace=True)\n",
    "\n",
    "torsions.head(10)"
   ]
  },
  {
   "cell_type": "code",
   "execution_count": null,
   "metadata": {},
   "outputs": [],
   "source": [
    "idx_max = int(torsions['energy'].idxmax())\n",
    "print(f'IDMAX: {idx_max}')\n",
    "ssmax = PDB_SS[idx_max]\n",
    "ssmax"
   ]
  },
  {
   "cell_type": "code",
   "execution_count": null,
   "metadata": {},
   "outputs": [],
   "source": []
  },
  {
   "cell_type": "code",
   "execution_count": null,
   "metadata": {},
   "outputs": [],
   "source": [
    "toget = 200\n",
    "\n",
    "badlist = torsions['ss_id']\n",
    "\n",
    "bad_SS_list = DisulfideList([],'20 top high energy')\n",
    "ss = Disulfide()\n",
    "\n",
    "for i in range(toget):\n",
    "    ssid = torsions.iloc[i]['ss_id']\n",
    "    ss = PDB_SS.get_by_name(ssid)\n",
    "    #print(f'ID: {ss.name}: {ss.energy:.2f} kcal/mol CA: {ss.ca_distance:.2f}')\n",
    "    bad_SS_list.append(ss)\n",
    "\n"
   ]
  },
  {
   "cell_type": "code",
   "execution_count": null,
   "metadata": {},
   "outputs": [],
   "source": [
    "\n",
    "tors_bad_rms = bad_SS_list.Torsion_RMS()\n",
    "tors_bad_rms"
   ]
  },
  {
   "cell_type": "code",
   "execution_count": null,
   "metadata": {},
   "outputs": [],
   "source": [
    "goodlist = torsions['ss_id']\n",
    "\n",
    "good_SS_list = DisulfideList([],'20 top low energy')\n",
    "ss = Disulfide()\n",
    "\n",
    "for i in range(toget):\n",
    "    if i == 0:\n",
    "        continue\n",
    "    \n",
    "    ssid = torsions.iloc[-i]['ss_id']\n",
    "    ss = PDB_SS.get_by_name(ssid)\n",
    "    #print(f'ID: {ss.name}: {ss.energy:.2f} kcal/mol CA: {ss.ca_distance:.2f}')\n",
    "    good_SS_list.append(ss)\n"
   ]
  },
  {
   "cell_type": "code",
   "execution_count": null,
   "metadata": {},
   "outputs": [],
   "source": [
    "\n",
    "tors_good_rms = good_SS_list.Torsion_RMS()\n",
    "tors_good_rms"
   ]
  },
  {
   "cell_type": "code",
   "execution_count": null,
   "metadata": {},
   "outputs": [],
   "source": [
    "from scipy.spatial import distance_matrix\n",
    "\n",
    "good_array = good_SS_list.get_torsion_array()\n",
    "bad_array = bad_SS_list.get_torsion_array()\n",
    "good_array.shape"
   ]
  },
  {
   "cell_type": "code",
   "execution_count": null,
   "metadata": {},
   "outputs": [],
   "source": [
    "\n",
    "dm1 = distance_matrix(good_array, good_array)\n",
    "dm2 = distance_matrix(bad_array, bad_array)\n",
    "\n"
   ]
  },
  {
   "cell_type": "code",
   "execution_count": null,
   "metadata": {},
   "outputs": [],
   "source": []
  },
  {
   "cell_type": "code",
   "execution_count": null,
   "metadata": {},
   "outputs": [],
   "source": [
    "import numpy as np\n",
    "\n",
    "def EDM(A, B):\n",
    "    p1 = np.sum(A**2, axis=1)[:, np.newaxis]\n",
    "    p2 = np.sum(B**2, axis=1)\n",
    "    p3 = -2 * np.dot(A, B.T)\n",
    "    res = p1 + p2 + p3\n",
    "    #res = numpy.sqrt(res)\n",
    "    return res\n"
   ]
  },
  {
   "cell_type": "code",
   "execution_count": null,
   "metadata": {},
   "outputs": [],
   "source": [
    "dm3 = np.sqrt(dm2)"
   ]
  },
  {
   "cell_type": "code",
   "execution_count": null,
   "metadata": {},
   "outputs": [],
   "source": [
    "import plotly_express as px\n",
    "fig = px.imshow(dm1)\n",
    "fig.show()"
   ]
  },
  {
   "cell_type": "code",
   "execution_count": null,
   "metadata": {},
   "outputs": [],
   "source": [
    "import plotly_express as px\n",
    "fig = px.imshow(dm2)\n",
    "fig.show()"
   ]
  },
  {
   "cell_type": "code",
   "execution_count": null,
   "metadata": {},
   "outputs": [],
   "source": [
    "df = pd.DataFrame(dm1)\n",
    "df.head()"
   ]
  },
  {
   "cell_type": "code",
   "execution_count": null,
   "metadata": {},
   "outputs": [],
   "source": []
  }
 ],
 "metadata": {
  "kernelspec": {
   "display_name": "Python (bio)",
   "language": "python",
   "name": "bio"
  },
  "language_info": {
   "codemirror_mode": {
    "name": "ipython",
    "version": 3
   },
   "file_extension": ".py",
   "mimetype": "text/x-python",
   "name": "python",
   "nbconvert_exporter": "python",
   "pygments_lexer": "ipython3",
   "version": "3.8.13"
  },
  "orig_nbformat": 4,
  "vscode": {
   "interpreter": {
    "hash": "2e049c0f63e6b330ae815ad1049a36d20686725ba1cc68cc0aadee0375e172d1"
   }
  }
 },
 "nbformat": 4,
 "nbformat_minor": 2
}
