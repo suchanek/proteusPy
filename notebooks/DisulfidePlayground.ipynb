{
 "cells": [
  {
   "cell_type": "code",
   "execution_count": null,
   "metadata": {},
   "outputs": [],
   "source": [
    "# DisulfideBond Playground\n",
    "# Playing with the DisulfideBond class\n",
    "# Author: Eric G. Suchanek, PhD.\n",
    "# (c) 2022 Eric G. Suchanek, PhD., All Rights Reserved\n",
    "# License: BSD\n",
    "# Last Modification: 12/12/22\n",
    "# Cα Cβ Sγ\n",
    "\n",
    "# important preamble\n",
    "\n",
    "import pandas as pd\n",
    "\n",
    "import pyvista as pv\n",
    "from pyvista import set_plot_theme\n",
    "\n",
    "from Bio.PDB import *\n",
    "\n",
    "# for using from the repo we \n",
    "from proteusPy import *\n",
    "from proteusPy.proteusGlobals import *\n",
    "from proteusPy.Disulfide import *\n",
    "\n",
    "\n",
    "# override any default PDB globals\n",
    "# location for PDB repository\n",
    "PDB_ROOT = '/Users/egs/PDB/'\n",
    "\n",
    "# location of cleaned PDB files - these are not stored in the repo\n",
    "PDB_GOOD = '/Users/egs/PDB/good/'\n",
    "\n",
    "# from within the repo \n",
    "PDB_REPO = '../pdb/'\n",
    "\n",
    "# location of the compressed Disulfide .pkl files\n",
    "MODELS = f'{PDB_ROOT}models/'\n",
    "\n",
    "# pyvista setup for notebooks\n",
    "pv.set_jupyter_backend('ipyvtklink')\n",
    "set_plot_theme('document')\n"
   ]
  },
  {
   "cell_type": "markdown",
   "metadata": {},
   "source": []
  },
  {
   "cell_type": "code",
   "execution_count": 80,
   "metadata": {},
   "outputs": [
    {
     "name": "stdout",
     "output_type": "stream",
     "text": [
      "Reading disulfides from: /Users/egs/PDB/models/PDB_all_ss.pkl\n",
      "Disulfides Read: 8210\n",
      "Reading disulfide dict from: /Users/egs/PDB/models/PDB_all_ss_dict.pkl\n",
      "Reading Torsion DF /Users/egs/PDB/models/PDB_all_SS_torsions.csv.\n",
      "Read torsions DF.\n",
      "PDB IDs parsed: 1000\n",
      "Total Space Used: 2041373 bytes.\n"
     ]
    },
    {
     "data": {
      "text/plain": [
       "<Disulfide 5f1i_101A_165A SourceID: 5f1i Proximal: 101 A Distal: 165 A>"
      ]
     },
     "execution_count": 80,
     "metadata": {},
     "output_type": "execute_result"
    }
   ],
   "source": [
    "# Comment these out since they take so long.\n",
    "# Download_Disulfides(pdb_home=PDB_ORIG, model_home=MODELS, reset=False)\n",
    "\n",
    "#Extract_Disulfides(numb=1000, pdbdir=PDB_GOOD, modeldir=MODELS, verbose=False, quiet=False)\n",
    "\n",
    "PDB_SS = None\n",
    "PDB_SS = DisulfideLoader(verbose=True, modeldir=MODELS)\n",
    "\n",
    "ss_list = DisulfideList([], 'tmp')\n",
    "PDB_SS.TotalDisulfides\n"
   ]
  },
  {
   "cell_type": "code",
   "execution_count": null,
   "metadata": {},
   "outputs": [],
   "source": [
    "\n",
    "# one disulfide from the database\n",
    "ss = Disulfide()\n",
    "ss = PDB_SS[0]\n",
    "print(f'SS: {ss}')\n",
    "\n",
    "# get all disulfides for one structure. Make a \n",
    "# DisulfideList object to hold it\n",
    "ss4yys = DisulfideList([], '4yys')\n",
    "ss4yys = PDB_SS['4yys']\n",
    "\n",
    "#ss4crn = DisulfideList([], '1crn')\n",
    "#ss4crn = PDB_SS['1crn']\n",
    "\n",
    "tot_ss = len(ss4yys) # number off ssbonds\n",
    "print(f'tot {tot_ss}')\n"
   ]
  },
  {
   "cell_type": "code",
   "execution_count": null,
   "metadata": {},
   "outputs": [],
   "source": [
    "ss6fuf = PDB_SS['6fuf']\n"
   ]
  },
  {
   "cell_type": "code",
   "execution_count": null,
   "metadata": {},
   "outputs": [],
   "source": [
    "tors = pd.DataFrame()\n",
    "tors = PDB_SS.getTorsions('')\n",
    "tors"
   ]
  },
  {
   "cell_type": "code",
   "execution_count": null,
   "metadata": {},
   "outputs": [],
   "source": [
    "ss1 = ss4yys.get_by_name('4yys_22A_65A')\n",
    "ss1"
   ]
  },
  {
   "cell_type": "code",
   "execution_count": null,
   "metadata": {},
   "outputs": [],
   "source": [
    "Check_chains('4yys', PDB_GOOD)"
   ]
  },
  {
   "cell_type": "code",
   "execution_count": null,
   "metadata": {},
   "outputs": [],
   "source": []
  },
  {
   "cell_type": "code",
   "execution_count": null,
   "metadata": {},
   "outputs": [],
   "source": [
    "ss4yys_a = ss4yys.by_chain('A')\n",
    "ss4yys_a\n"
   ]
  },
  {
   "cell_type": "code",
   "execution_count": null,
   "metadata": {},
   "outputs": [],
   "source": [
    "ss4yys_b = ss4yys.by_chain('B')\n",
    "ss4yys_b"
   ]
  },
  {
   "cell_type": "code",
   "execution_count": null,
   "metadata": {},
   "outputs": [],
   "source": [
    "ss4yys_a1 = ss4yys_a[0]\n",
    "print(ss4yys_a1.repr_ss_coords())\n"
   ]
  },
  {
   "cell_type": "code",
   "execution_count": null,
   "metadata": {},
   "outputs": [],
   "source": [
    "ss4yys_b1 = ss4yys_b[0]\n",
    "ss4yys_b1"
   ]
  },
  {
   "cell_type": "code",
   "execution_count": null,
   "metadata": {},
   "outputs": [],
   "source": [
    "Distance_RMS(ss4yys_a1, ss4yys_b1)"
   ]
  },
  {
   "cell_type": "code",
   "execution_count": null,
   "metadata": {},
   "outputs": [],
   "source": [
    "Torsion_RMS(ss4yys_a1, ss4yys_b1)"
   ]
  },
  {
   "cell_type": "code",
   "execution_count": null,
   "metadata": {},
   "outputs": [],
   "source": [
    "ss4yys_a1 == ss4yys_b1"
   ]
  },
  {
   "cell_type": "code",
   "execution_count": null,
   "metadata": {},
   "outputs": [],
   "source": [
    "chns = ss4yys.get_chains()\n",
    "ss4yys.has_chain('yyy')\n",
    "chns"
   ]
  },
  {
   "cell_type": "code",
   "execution_count": null,
   "metadata": {},
   "outputs": [],
   "source": [
    "# load SS bonds by PDB ID\n",
    "ss1 = PDB_SS['4yys']\n",
    "print(ss1)\n",
    "print(ss1[0].get_full_id())\n"
   ]
  },
  {
   "cell_type": "code",
   "execution_count": null,
   "metadata": {},
   "outputs": [],
   "source": [
    "# you can loop over the IDList list and extract by ID\n",
    "#\n",
    "for id in PDB_SS.IDList[:5]:    # just show last 5\n",
    "    # get the SS bonds for the given ID\n",
    "    ssb = PDB_SS[id]\n",
    "    numb_ss = len(ssb)\n",
    "    print(f'ID: {id} has {numb_ss} Disulfides:')\n",
    "    for bond in ssb:\n",
    "        print(bond)\n",
    "    print('\\n')\n",
    "    "
   ]
  },
  {
   "cell_type": "code",
   "execution_count": null,
   "metadata": {},
   "outputs": [],
   "source": [
    "ss_list = PDB_SS.getlist()\n",
    "ss0 = ss_list[0]\n",
    "\n",
    "print(ss0.proximal_residue_fullid)\n",
    "print(ss0.chi3)\n",
    "len(ss_list)\n"
   ]
  },
  {
   "cell_type": "code",
   "execution_count": null,
   "metadata": {},
   "outputs": [],
   "source": [
    "# routine creates 2 lists  for left-handed and right-handed disulfides \n",
    "ss_list = PDB_SS.getlist()\n",
    "left_handed = DisulfideList([], 'left_handed')\n",
    "right_handed = DisulfideList([], 'right_handed')\n",
    "\n",
    "i = 0\n",
    "\n",
    "for i in range(len(ss_list)):\n",
    "    ss = ss_list[i]\n",
    "    if ss.chi3 < 0:\n",
    "        left_handed.append(ss)\n",
    "    else:\n",
    "        right_handed.append(ss)\n",
    "\n",
    "\n",
    "print(f'Left Handed: {len(left_handed)}, Right Handed: {len(right_handed)}')\n",
    "\n"
   ]
  },
  {
   "cell_type": "code",
   "execution_count": null,
   "metadata": {},
   "outputs": [],
   "source": [
    "from proteusPy.Disulfide import Disulfide\n",
    "\n",
    "# make some empty disulfides\n",
    "ss1 = Disulfide('ss1')\n",
    "ss2 = Disulfide('ss2')\n",
    "\n",
    "# make a DisulfideList containing ss1, named 'tmp'\n",
    "sslist = DisulfideList([ss1], 'tmp')\n",
    "sslist.append(ss2)\n",
    "\n",
    "# load the PDB Disulfide database\n",
    "PDB_SS = None\n",
    "PDB_SS = DisulfideLoader(verbose=True, modeldir=MODELS)\n",
    "\n",
    "# extract a disulfide with typical index\n",
    "ss1 = PDB_SS[0]\n",
    "print(f'{ss1.pprint_all()}')\n",
    "\n",
    "# grab a subset via slicing\n",
    "subset = DisulfideList(PDB_SS[0:10],'subset')"
   ]
  },
  {
   "cell_type": "code",
   "execution_count": 69,
   "metadata": {},
   "outputs": [
    {
     "data": {
      "text/html": [
       "<div>\n",
       "<style scoped>\n",
       "    .dataframe tbody tr th:only-of-type {\n",
       "        vertical-align: middle;\n",
       "    }\n",
       "\n",
       "    .dataframe tbody tr th {\n",
       "        vertical-align: top;\n",
       "    }\n",
       "\n",
       "    .dataframe thead th {\n",
       "        text-align: right;\n",
       "    }\n",
       "</style>\n",
       "<table border=\"1\" class=\"dataframe\">\n",
       "  <thead>\n",
       "    <tr style=\"text-align: right;\">\n",
       "      <th></th>\n",
       "      <th>source</th>\n",
       "      <th>ss_id</th>\n",
       "      <th>proximal</th>\n",
       "      <th>distal</th>\n",
       "      <th>chi1</th>\n",
       "      <th>chi2</th>\n",
       "      <th>chi3</th>\n",
       "      <th>chi4</th>\n",
       "      <th>chi5</th>\n",
       "      <th>energy</th>\n",
       "      <th>ca_distance</th>\n",
       "      <th>phi_prox</th>\n",
       "      <th>psi_prox</th>\n",
       "      <th>phi_dist</th>\n",
       "      <th>psi_dist</th>\n",
       "    </tr>\n",
       "  </thead>\n",
       "  <tbody>\n",
       "    <tr>\n",
       "      <th>1858</th>\n",
       "      <td>1zjk</td>\n",
       "      <td>1zjk_629A_660A</td>\n",
       "      <td>629</td>\n",
       "      <td>660</td>\n",
       "      <td>-119.404445</td>\n",
       "      <td>115.451877</td>\n",
       "      <td>-156.958041</td>\n",
       "      <td>-27.389791</td>\n",
       "      <td>-113.040397</td>\n",
       "      <td>17.289549</td>\n",
       "      <td>5.848614</td>\n",
       "      <td>-180.000000</td>\n",
       "      <td>-180.000000</td>\n",
       "      <td>-180.000000</td>\n",
       "      <td>-180.000000</td>\n",
       "    </tr>\n",
       "    <tr>\n",
       "      <th>5983</th>\n",
       "      <td>5ix5</td>\n",
       "      <td>5ix5_28A_49A</td>\n",
       "      <td>28</td>\n",
       "      <td>49</td>\n",
       "      <td>-125.198921</td>\n",
       "      <td>85.810593</td>\n",
       "      <td>165.177044</td>\n",
       "      <td>-110.014736</td>\n",
       "      <td>-109.484554</td>\n",
       "      <td>16.993266</td>\n",
       "      <td>6.445898</td>\n",
       "      <td>-72.579873</td>\n",
       "      <td>-42.872608</td>\n",
       "      <td>-115.168970</td>\n",
       "      <td>166.069531</td>\n",
       "    </tr>\n",
       "    <tr>\n",
       "      <th>7142</th>\n",
       "      <td>5i70</td>\n",
       "      <td>5i70_249B_285B</td>\n",
       "      <td>249</td>\n",
       "      <td>285</td>\n",
       "      <td>-118.572818</td>\n",
       "      <td>17.632040</td>\n",
       "      <td>27.714934</td>\n",
       "      <td>103.400599</td>\n",
       "      <td>-105.519889</td>\n",
       "      <td>16.852911</td>\n",
       "      <td>4.762222</td>\n",
       "      <td>-72.765441</td>\n",
       "      <td>-41.351280</td>\n",
       "      <td>-131.509368</td>\n",
       "      <td>146.384733</td>\n",
       "    </tr>\n",
       "    <tr>\n",
       "      <th>7</th>\n",
       "      <td>1j5h</td>\n",
       "      <td>1j5h_88A_93A</td>\n",
       "      <td>88</td>\n",
       "      <td>93</td>\n",
       "      <td>-130.028193</td>\n",
       "      <td>-138.597573</td>\n",
       "      <td>27.091820</td>\n",
       "      <td>101.727177</td>\n",
       "      <td>-109.684946</td>\n",
       "      <td>16.823423</td>\n",
       "      <td>5.291536</td>\n",
       "      <td>-94.998658</td>\n",
       "      <td>-22.831376</td>\n",
       "      <td>-51.633735</td>\n",
       "      <td>-179.647589</td>\n",
       "    </tr>\n",
       "    <tr>\n",
       "      <th>7743</th>\n",
       "      <td>7vn9</td>\n",
       "      <td>7vn9_369E_396E</td>\n",
       "      <td>369</td>\n",
       "      <td>396</td>\n",
       "      <td>-1.307355</td>\n",
       "      <td>-110.315764</td>\n",
       "      <td>35.017574</td>\n",
       "      <td>105.456355</td>\n",
       "      <td>114.057830</td>\n",
       "      <td>16.636493</td>\n",
       "      <td>3.985665</td>\n",
       "      <td>-68.656248</td>\n",
       "      <td>138.354646</td>\n",
       "      <td>-65.497012</td>\n",
       "      <td>149.767509</td>\n",
       "    </tr>\n",
       "    <tr>\n",
       "      <th>1360</th>\n",
       "      <td>2mtm</td>\n",
       "      <td>2mtm_4A_18A</td>\n",
       "      <td>4</td>\n",
       "      <td>18</td>\n",
       "      <td>-145.621640</td>\n",
       "      <td>100.815883</td>\n",
       "      <td>-11.727692</td>\n",
       "      <td>87.895308</td>\n",
       "      <td>-109.134060</td>\n",
       "      <td>16.367176</td>\n",
       "      <td>4.795191</td>\n",
       "      <td>-105.157431</td>\n",
       "      <td>-39.053441</td>\n",
       "      <td>-88.013097</td>\n",
       "      <td>129.322380</td>\n",
       "    </tr>\n",
       "    <tr>\n",
       "      <th>5982</th>\n",
       "      <td>5ix5</td>\n",
       "      <td>5ix5_24A_47A</td>\n",
       "      <td>24</td>\n",
       "      <td>47</td>\n",
       "      <td>-120.552249</td>\n",
       "      <td>81.976395</td>\n",
       "      <td>-168.373887</td>\n",
       "      <td>-60.690634</td>\n",
       "      <td>-138.385992</td>\n",
       "      <td>14.558078</td>\n",
       "      <td>6.201594</td>\n",
       "      <td>-121.287702</td>\n",
       "      <td>-52.569386</td>\n",
       "      <td>-104.576661</td>\n",
       "      <td>119.777325</td>\n",
       "    </tr>\n",
       "    <tr>\n",
       "      <th>3694</th>\n",
       "      <td>7lfs</td>\n",
       "      <td>7lfs_305C_309C</td>\n",
       "      <td>305</td>\n",
       "      <td>309</td>\n",
       "      <td>-121.368685</td>\n",
       "      <td>-34.955346</td>\n",
       "      <td>-166.201944</td>\n",
       "      <td>99.814757</td>\n",
       "      <td>-35.352797</td>\n",
       "      <td>14.428365</td>\n",
       "      <td>6.123670</td>\n",
       "      <td>-88.213440</td>\n",
       "      <td>95.513576</td>\n",
       "      <td>-68.695803</td>\n",
       "      <td>-40.604028</td>\n",
       "    </tr>\n",
       "    <tr>\n",
       "      <th>4432</th>\n",
       "      <td>2m96</td>\n",
       "      <td>2m96_8A_21A</td>\n",
       "      <td>8</td>\n",
       "      <td>21</td>\n",
       "      <td>-144.956128</td>\n",
       "      <td>104.802750</td>\n",
       "      <td>153.936652</td>\n",
       "      <td>-117.600915</td>\n",
       "      <td>-89.623184</td>\n",
       "      <td>14.300415</td>\n",
       "      <td>6.590870</td>\n",
       "      <td>-140.413270</td>\n",
       "      <td>163.464552</td>\n",
       "      <td>-126.424594</td>\n",
       "      <td>124.185942</td>\n",
       "    </tr>\n",
       "    <tr>\n",
       "      <th>5742</th>\n",
       "      <td>1igr</td>\n",
       "      <td>1igr_425A_458A</td>\n",
       "      <td>425</td>\n",
       "      <td>458</td>\n",
       "      <td>-97.434381</td>\n",
       "      <td>-82.004776</td>\n",
       "      <td>-152.777500</td>\n",
       "      <td>32.773367</td>\n",
       "      <td>-115.644343</td>\n",
       "      <td>14.204259</td>\n",
       "      <td>5.743282</td>\n",
       "      <td>-53.767106</td>\n",
       "      <td>137.688874</td>\n",
       "      <td>-103.019429</td>\n",
       "      <td>-111.890077</td>\n",
       "    </tr>\n",
       "  </tbody>\n",
       "</table>\n",
       "</div>"
      ],
      "text/plain": [
       "     source           ss_id  proximal  distal        chi1        chi2  \\\n",
       "1858   1zjk  1zjk_629A_660A       629     660 -119.404445  115.451877   \n",
       "5983   5ix5    5ix5_28A_49A        28      49 -125.198921   85.810593   \n",
       "7142   5i70  5i70_249B_285B       249     285 -118.572818   17.632040   \n",
       "7      1j5h    1j5h_88A_93A        88      93 -130.028193 -138.597573   \n",
       "7743   7vn9  7vn9_369E_396E       369     396   -1.307355 -110.315764   \n",
       "1360   2mtm     2mtm_4A_18A         4      18 -145.621640  100.815883   \n",
       "5982   5ix5    5ix5_24A_47A        24      47 -120.552249   81.976395   \n",
       "3694   7lfs  7lfs_305C_309C       305     309 -121.368685  -34.955346   \n",
       "4432   2m96     2m96_8A_21A         8      21 -144.956128  104.802750   \n",
       "5742   1igr  1igr_425A_458A       425     458  -97.434381  -82.004776   \n",
       "\n",
       "            chi3        chi4        chi5     energy  ca_distance    phi_prox  \\\n",
       "1858 -156.958041  -27.389791 -113.040397  17.289549     5.848614 -180.000000   \n",
       "5983  165.177044 -110.014736 -109.484554  16.993266     6.445898  -72.579873   \n",
       "7142   27.714934  103.400599 -105.519889  16.852911     4.762222  -72.765441   \n",
       "7      27.091820  101.727177 -109.684946  16.823423     5.291536  -94.998658   \n",
       "7743   35.017574  105.456355  114.057830  16.636493     3.985665  -68.656248   \n",
       "1360  -11.727692   87.895308 -109.134060  16.367176     4.795191 -105.157431   \n",
       "5982 -168.373887  -60.690634 -138.385992  14.558078     6.201594 -121.287702   \n",
       "3694 -166.201944   99.814757  -35.352797  14.428365     6.123670  -88.213440   \n",
       "4432  153.936652 -117.600915  -89.623184  14.300415     6.590870 -140.413270   \n",
       "5742 -152.777500   32.773367 -115.644343  14.204259     5.743282  -53.767106   \n",
       "\n",
       "        psi_prox    phi_dist    psi_dist  \n",
       "1858 -180.000000 -180.000000 -180.000000  \n",
       "5983  -42.872608 -115.168970  166.069531  \n",
       "7142  -41.351280 -131.509368  146.384733  \n",
       "7     -22.831376  -51.633735 -179.647589  \n",
       "7743  138.354646  -65.497012  149.767509  \n",
       "1360  -39.053441  -88.013097  129.322380  \n",
       "5982  -52.569386 -104.576661  119.777325  \n",
       "3694   95.513576  -68.695803  -40.604028  \n",
       "4432  163.464552 -126.424594  124.185942  \n",
       "5742  137.688874 -103.019429 -111.890077  "
      ]
     },
     "execution_count": 69,
     "metadata": {},
     "output_type": "execute_result"
    }
   ],
   "source": [
    "torsions = PDB_SS.getTorsions()\n",
    "torsions.sort_values(by=['energy'], ascending=False, inplace=True)\n",
    "\n",
    "torsions.head(10)"
   ]
  },
  {
   "cell_type": "code",
   "execution_count": 85,
   "metadata": {},
   "outputs": [
    {
     "name": "stdout",
     "output_type": "stream",
     "text": [
      "IDMAX: 1858\n"
     ]
    },
    {
     "data": {
      "text/plain": [
       "<Disulfide 1zjk_629A_660A SourceID: 1zjk Proximal: 629 A Distal: 660 A>"
      ]
     },
     "execution_count": 85,
     "metadata": {},
     "output_type": "execute_result"
    }
   ],
   "source": [
    "idx_max = int(torsions['energy'].idxmax())\n",
    "print(f'IDMAX: {idx_max}')\n",
    "ssmax = PDB_SS[idx_max]\n",
    "ssmax"
   ]
  },
  {
   "cell_type": "code",
   "execution_count": 84,
   "metadata": {},
   "outputs": [
    {
     "data": {
      "text/plain": [
       "<Disulfide 1zjk_629A_660A SourceID: 1zjk Proximal: 629 A Distal: 660 A>"
      ]
     },
     "execution_count": 84,
     "metadata": {},
     "output_type": "execute_result"
    }
   ],
   "source": []
  },
  {
   "cell_type": "code",
   "execution_count": 92,
   "metadata": {},
   "outputs": [
    {
     "name": "stdout",
     "output_type": "stream",
     "text": [
      "ID: 1zjk_629A_660A:17.29 CA: 5.85\n",
      "ID: 5ix5_28A_49A:16.99 CA: 6.45\n",
      "ID: 5i70_249B_285B:16.85 CA: 4.76\n",
      "ID: 1j5h_88A_93A:16.82 CA: 5.29\n",
      "ID: 7vn9_369E_396E:16.64 CA: 3.99\n",
      "ID: 2mtm_4A_18A:16.37 CA: 4.80\n",
      "ID: 5ix5_24A_47A:14.56 CA: 6.20\n",
      "ID: 7lfs_305C_309C:14.43 CA: 6.12\n",
      "ID: 2m96_8A_21A:14.30 CA: 6.59\n",
      "ID: 1igr_425A_458A:14.20 CA: 5.74\n",
      "ID: 6l5g_6A_167A:14.20 CA: 6.17\n",
      "ID: 7czr_391B_525B:14.04 CA: 3.91\n",
      "ID: 1ejo_2646H_2701H:13.93 CA: 5.94\n",
      "ID: 4jun_144D_148D:13.89 CA: 5.61\n",
      "ID: 5k9o_52I_277I:13.76 CA: 5.82\n",
      "ID: 4hzc_227A_259A:13.71 CA: 4.84\n",
      "ID: 2abz_18D_58D:13.55 CA: 4.06\n",
      "ID: 5wkf_23J_104J:13.52 CA: 6.90\n",
      "ID: 4uao_214B_215C:13.44 CA: 5.99\n",
      "ID: 7e4u_52I_173J:13.42 CA: 5.49\n",
      "ID: 4zg6_149A_195A:13.30 CA: 5.98\n",
      "ID: 7djn_124A_169A:13.26 CA: 6.14\n",
      "ID: 7e50_558B_566B:13.23 CA: 6.37\n",
      "ID: 5wkf_158D_187E:13.18 CA: 6.41\n",
      "ID: 6n5e_22F_90F:13.04 CA: 6.54\n",
      "ID: 2rng_52A_70A:12.88 CA: 6.11\n",
      "ID: 6uoa_108B_135B:12.86 CA: 5.59\n",
      "ID: 7t6v_98R_176R:12.76 CA: 7.09\n",
      "ID: 2m96_15A_34A:12.74 CA: 6.47\n",
      "ID: 5l1b_718D_773D:12.66 CA: 5.23\n"
     ]
    },
    {
     "data": {
      "text/plain": [
       "DisulfideList([<Disulfide 1zjk_629A_660A SourceID: 1zjk Proximal: 629 A Distal: 660 A>,\n",
       "               <Disulfide 5ix5_28A_49A SourceID: 5ix5 Proximal: 28 A Distal: 49 A>,\n",
       "               <Disulfide 5i70_249B_285B SourceID: 5i70 Proximal: 249 B Distal: 285 B>,\n",
       "               <Disulfide 1j5h_88A_93A SourceID: 1j5h Proximal: 88 A Distal: 93 A>,\n",
       "               <Disulfide 7vn9_369E_396E SourceID: 7vn9 Proximal: 369 E Distal: 396 E>,\n",
       "               <Disulfide 2mtm_4A_18A SourceID: 2mtm Proximal: 4 A Distal: 18 A>,\n",
       "               <Disulfide 5ix5_24A_47A SourceID: 5ix5 Proximal: 24 A Distal: 47 A>,\n",
       "               <Disulfide 7lfs_305C_309C SourceID: 7lfs Proximal: 305 C Distal: 309 C>,\n",
       "               <Disulfide 2m96_8A_21A SourceID: 2m96 Proximal: 8 A Distal: 21 A>,\n",
       "               <Disulfide 1igr_425A_458A SourceID: 1igr Proximal: 425 A Distal: 458 A>,\n",
       "               <Disulfide 6l5g_6A_167A SourceID: 6l5g Proximal: 6 A Distal: 167 A>,\n",
       "               <Disulfide 7czr_391B_525B SourceID: 7czr Proximal: 391 B Distal: 525 B>,\n",
       "               <Disulfide 1ejo_2646H_2701H SourceID: 1ejo Proximal: 2646 H Distal: 2701 H>,\n",
       "               <Disulfide 4jun_144D_148D SourceID: 4jun Proximal: 144 D Distal: 148 D>,\n",
       "               <Disulfide 5k9o_52I_277I SourceID: 5k9o Proximal: 52 I Distal: 277 I>,\n",
       "               <Disulfide 4hzc_227A_259A SourceID: 4hzc Proximal: 227 A Distal: 259 A>,\n",
       "               <Disulfide 2abz_18D_58D SourceID: 2abz Proximal: 18 D Distal: 58 D>,\n",
       "               <Disulfide 5wkf_23J_104J SourceID: 5wkf Proximal: 23 J Distal: 104 J>,\n",
       "               <Disulfide 4uao_214B_215C SourceID: 4uao Proximal: 214 B Distal: 215 C>,\n",
       "               <Disulfide 7e4u_52I_173J SourceID: 7e4u Proximal: 52 I Distal: 173 J>,\n",
       "               <Disulfide 4zg6_149A_195A SourceID: 4zg6 Proximal: 149 A Distal: 195 A>,\n",
       "               <Disulfide 7djn_124A_169A SourceID: 7djn Proximal: 124 A Distal: 169 A>,\n",
       "               <Disulfide 7e50_558B_566B SourceID: 7e50 Proximal: 558 B Distal: 566 B>,\n",
       "               <Disulfide 5wkf_158D_187E SourceID: 5wkf Proximal: 158 D Distal: 187 E>,\n",
       "               <Disulfide 6n5e_22F_90F SourceID: 6n5e Proximal: 22 F Distal: 90 F>,\n",
       "               <Disulfide 2rng_52A_70A SourceID: 2rng Proximal: 52 A Distal: 70 A>,\n",
       "               <Disulfide 6uoa_108B_135B SourceID: 6uoa Proximal: 108 B Distal: 135 B>,\n",
       "               <Disulfide 7t6v_98R_176R SourceID: 7t6v Proximal: 98 R Distal: 176 R>,\n",
       "               <Disulfide 2m96_15A_34A SourceID: 2m96 Proximal: 15 A Distal: 34 A>,\n",
       "               <Disulfide 5l1b_718D_773D SourceID: 5l1b Proximal: 718 D Distal: 773 D>])"
      ]
     },
     "execution_count": 92,
     "metadata": {},
     "output_type": "execute_result"
    }
   ],
   "source": [
    "badlist = torsions['ss_id']\n",
    "\n",
    "bad_SS_list = DisulfideList([],'20 top high energy')\n",
    "ss = Disulfide()\n",
    "\n",
    "for i in range(30):\n",
    "    ssid = torsions.iloc[i]['ss_id']\n",
    "    ss = PDB_SS.get_by_name(ssid)\n",
    "    print(f'ID: {ss.name}:{ss.energy:.2f} CA: {ss.ca_distance:.2f}')\n",
    "    bad_SS_list.append(ss)\n"
   ]
  },
  {
   "cell_type": "code",
   "execution_count": null,
   "metadata": {},
   "outputs": [],
   "source": []
  }
 ],
 "metadata": {
  "kernelspec": {
   "display_name": "Python (bio)",
   "language": "python",
   "name": "bio"
  },
  "language_info": {
   "codemirror_mode": {
    "name": "ipython",
    "version": 3
   },
   "file_extension": ".py",
   "mimetype": "text/x-python",
   "name": "python",
   "nbconvert_exporter": "python",
   "pygments_lexer": "ipython3",
   "version": "3.8.13 | packaged by conda-forge | (default, Mar 25 2022, 06:04:14) \n[Clang 12.0.1 ]"
  },
  "orig_nbformat": 4,
  "vscode": {
   "interpreter": {
    "hash": "2e049c0f63e6b330ae815ad1049a36d20686725ba1cc68cc0aadee0375e172d1"
   }
  }
 },
 "nbformat": 4,
 "nbformat_minor": 2
}
