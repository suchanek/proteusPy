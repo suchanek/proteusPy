{
 "cells": [
  {
   "cell_type": "code",
   "execution_count": 1,
   "metadata": {},
   "outputs": [],
   "source": [
    "# DisulfideBond Playground\n",
    "# Playing with the DisulfideBond class\n",
    "# Author: Eric G. Suchanek, PhD.\n",
    "# (c) 2022 Eric G. Suchanek, PhD., All Rights Reserved\n",
    "# License: BSD\n",
    "# Last Modification: 12/12/22\n",
    "# Cα Cβ Sγ\n",
    "\n",
    "# important preamble\n",
    "\n",
    "import pandas as pd\n",
    "\n",
    "import pyvista as pv\n",
    "from pyvista import set_plot_theme\n",
    "\n",
    "from Bio.PDB import *\n",
    "\n",
    "# for using from the repo we \n",
    "from proteusPy import *\n",
    "from proteusPy.proteusGlobals import *\n",
    "from proteusPy.Disulfide import *\n",
    "\n",
    "\n",
    "# override any default PDB globals\n",
    "# location for PDB repository\n",
    "PDB_ROOT = '/Users/egs/PDB/'\n",
    "\n",
    "# location of cleaned PDB files - these are not stored in the repo\n",
    "PDB_GOOD = '/Users/egs/PDB/good/'\n",
    "\n",
    "# from within the repo \n",
    "PDB_REPO = '../pdb/'\n",
    "\n",
    "# location of the compressed Disulfide .pkl files\n",
    "MODELS = f'{PDB_ROOT}models/'\n",
    "\n",
    "# pyvista setup for notebooks\n",
    "pv.set_jupyter_backend('ipyvtklink')\n",
    "set_plot_theme('dark')\n"
   ]
  },
  {
   "cell_type": "markdown",
   "metadata": {},
   "source": []
  },
  {
   "cell_type": "code",
   "execution_count": 2,
   "metadata": {},
   "outputs": [
    {
     "name": "stdout",
     "output_type": "stream",
     "text": [
      "Reading disulfides from: /Users/egs/PDB/models/PDB_all_ss.pkl\n",
      "Disulfides Read: 16222\n",
      "Reading disulfide dict from: /Users/egs/PDB/models/PDB_all_ss_dict.pkl\n",
      "Reading Torsion DF /Users/egs/PDB/models/PDB_all_SS_torsions.csv.\n",
      "Read torsions DF.\n",
      "PDB IDs parsed: 2000\n",
      "Total Space Used: 4035518 bytes.\n"
     ]
    }
   ],
   "source": [
    "# Comment these out since they take so long.\n",
    "# DownloadDisulfides(pdb_home=PDB_ORIG, model_home=MODELS, reset=False)\n",
    "\n",
    "#ExtractDisulfides(numb=1000, pdbdir=PDB_GOOD, modeldir=MODELS, verbose=False, quiet=False)\n",
    "\n",
    "PDB_SS = None\n",
    "PDB_SS = DisulfideLoader(verbose=True, modeldir=MODELS)\n",
    "\n",
    "ss_list = DisulfideList([], 'tmp')\n"
   ]
  },
  {
   "cell_type": "code",
   "execution_count": 3,
   "metadata": {},
   "outputs": [
    {
     "name": "stdout",
     "output_type": "stream",
     "text": [
      "SS: <Disulfide 4yys_22A_65A SourceID: 4yys Proximal: 22 A Distal: 65 A>\n",
      "tot 6\n"
     ]
    }
   ],
   "source": [
    "\n",
    "# one disulfide from the database\n",
    "ss = Disulfide()\n",
    "ss = PDB_SS[0]\n",
    "print(f'SS: {ss}')\n",
    "\n",
    "# get all disulfides for one structure. Make a \n",
    "# DisulfideList object to hold it\n",
    "ss4yys = DisulfideList([], '4yys')\n",
    "ss4yys = PDB_SS['4yys']\n",
    "\n",
    "#ss4crn = DisulfideList([], '1crn')\n",
    "#ss4crn = PDB_SS['1crn']\n",
    "\n",
    "tot_ss = len(ss4yys) # number off ssbonds\n",
    "print(f'tot {tot_ss}')\n"
   ]
  },
  {
   "cell_type": "code",
   "execution_count": null,
   "metadata": {},
   "outputs": [],
   "source": [
    "ss6fuf = PDB_SS['6fuf']\n"
   ]
  },
  {
   "cell_type": "code",
   "execution_count": 5,
   "metadata": {},
   "outputs": [
    {
     "data": {
      "text/html": [
       "<div>\n",
       "<style scoped>\n",
       "    .dataframe tbody tr th:only-of-type {\n",
       "        vertical-align: middle;\n",
       "    }\n",
       "\n",
       "    .dataframe tbody tr th {\n",
       "        vertical-align: top;\n",
       "    }\n",
       "\n",
       "    .dataframe thead th {\n",
       "        text-align: right;\n",
       "    }\n",
       "</style>\n",
       "<table border=\"1\" class=\"dataframe\">\n",
       "  <thead>\n",
       "    <tr style=\"text-align: right;\">\n",
       "      <th></th>\n",
       "      <th>source</th>\n",
       "      <th>ss_id</th>\n",
       "      <th>proximal</th>\n",
       "      <th>distal</th>\n",
       "      <th>chi1</th>\n",
       "      <th>chi2</th>\n",
       "      <th>chi3</th>\n",
       "      <th>chi4</th>\n",
       "      <th>chi5</th>\n",
       "      <th>energy</th>\n",
       "      <th>ca_distance</th>\n",
       "      <th>phi_prox</th>\n",
       "      <th>psi_prox</th>\n",
       "      <th>phi_dist</th>\n",
       "      <th>psi_dist</th>\n",
       "    </tr>\n",
       "  </thead>\n",
       "  <tbody>\n",
       "    <tr>\n",
       "      <th>0</th>\n",
       "      <td>4yys</td>\n",
       "      <td>4yys_22A_65A</td>\n",
       "      <td>22</td>\n",
       "      <td>65</td>\n",
       "      <td>174.629233</td>\n",
       "      <td>82.517710</td>\n",
       "      <td>-83.322249</td>\n",
       "      <td>-62.523644</td>\n",
       "      <td>-73.827286</td>\n",
       "      <td>1.696237</td>\n",
       "      <td>4.502086</td>\n",
       "      <td>-149.776903</td>\n",
       "      <td>128.686790</td>\n",
       "      <td>-105.731172</td>\n",
       "      <td>16.431694</td>\n",
       "    </tr>\n",
       "    <tr>\n",
       "      <th>1</th>\n",
       "      <td>4yys</td>\n",
       "      <td>4yys_56A_98A</td>\n",
       "      <td>56</td>\n",
       "      <td>98</td>\n",
       "      <td>-50.239063</td>\n",
       "      <td>-85.583916</td>\n",
       "      <td>97.275447</td>\n",
       "      <td>70.535692</td>\n",
       "      <td>179.046592</td>\n",
       "      <td>2.112566</td>\n",
       "      <td>4.967417</td>\n",
       "      <td>-113.982916</td>\n",
       "      <td>-30.489936</td>\n",
       "      <td>-59.378573</td>\n",
       "      <td>125.462589</td>\n",
       "    </tr>\n",
       "    <tr>\n",
       "      <th>2</th>\n",
       "      <td>4yys</td>\n",
       "      <td>4yys_156A_207A</td>\n",
       "      <td>156</td>\n",
       "      <td>207</td>\n",
       "      <td>62.598713</td>\n",
       "      <td>172.940042</td>\n",
       "      <td>-95.352637</td>\n",
       "      <td>-23.070934</td>\n",
       "      <td>-55.158480</td>\n",
       "      <td>2.331733</td>\n",
       "      <td>5.292317</td>\n",
       "      <td>-156.930659</td>\n",
       "      <td>150.741801</td>\n",
       "      <td>60.457994</td>\n",
       "      <td>22.170381</td>\n",
       "    </tr>\n",
       "    <tr>\n",
       "      <th>3</th>\n",
       "      <td>4yys</td>\n",
       "      <td>4yys_22B_65B</td>\n",
       "      <td>22</td>\n",
       "      <td>65</td>\n",
       "      <td>173.666078</td>\n",
       "      <td>88.297996</td>\n",
       "      <td>-82.387276</td>\n",
       "      <td>-65.997032</td>\n",
       "      <td>-72.289506</td>\n",
       "      <td>1.958823</td>\n",
       "      <td>4.532387</td>\n",
       "      <td>-154.247515</td>\n",
       "      <td>130.848015</td>\n",
       "      <td>-103.903213</td>\n",
       "      <td>16.298008</td>\n",
       "    </tr>\n",
       "    <tr>\n",
       "      <th>4</th>\n",
       "      <td>4yys</td>\n",
       "      <td>4yys_56B_98B</td>\n",
       "      <td>56</td>\n",
       "      <td>98</td>\n",
       "      <td>-56.410909</td>\n",
       "      <td>-81.401941</td>\n",
       "      <td>94.310784</td>\n",
       "      <td>67.035993</td>\n",
       "      <td>178.852441</td>\n",
       "      <td>1.444608</td>\n",
       "      <td>4.768629</td>\n",
       "      <td>-113.329915</td>\n",
       "      <td>-30.319989</td>\n",
       "      <td>-53.571262</td>\n",
       "      <td>120.853837</td>\n",
       "    </tr>\n",
       "    <tr>\n",
       "      <th>5</th>\n",
       "      <td>4yys</td>\n",
       "      <td>4yys_156B_207B</td>\n",
       "      <td>156</td>\n",
       "      <td>207</td>\n",
       "      <td>66.747274</td>\n",
       "      <td>168.512311</td>\n",
       "      <td>-98.492801</td>\n",
       "      <td>-20.451335</td>\n",
       "      <td>-57.455022</td>\n",
       "      <td>2.806933</td>\n",
       "      <td>5.393519</td>\n",
       "      <td>-160.664736</td>\n",
       "      <td>149.278415</td>\n",
       "      <td>58.933546</td>\n",
       "      <td>21.029930</td>\n",
       "    </tr>\n",
       "  </tbody>\n",
       "</table>\n",
       "</div>"
      ],
      "text/plain": [
       "  source           ss_id  proximal  ...    psi_prox    phi_dist    psi_dist\n",
       "0   4yys    4yys_22A_65A        22  ...  128.686790 -105.731172   16.431694\n",
       "1   4yys    4yys_56A_98A        56  ...  -30.489936  -59.378573  125.462589\n",
       "2   4yys  4yys_156A_207A       156  ...  150.741801   60.457994   22.170381\n",
       "3   4yys    4yys_22B_65B        22  ...  130.848015 -103.903213   16.298008\n",
       "4   4yys    4yys_56B_98B        56  ...  -30.319989  -53.571262  120.853837\n",
       "5   4yys  4yys_156B_207B       156  ...  149.278415   58.933546   21.029930\n",
       "\n",
       "[6 rows x 15 columns]"
      ]
     },
     "execution_count": 5,
     "metadata": {},
     "output_type": "execute_result"
    }
   ],
   "source": [
    "tors = pd.DataFrame()\n",
    "tors = PDB_SS.getTorsions('4yys')\n",
    "tors"
   ]
  },
  {
   "cell_type": "code",
   "execution_count": 6,
   "metadata": {},
   "outputs": [
    {
     "name": "stdout",
     "output_type": "stream",
     "text": [
      "ssbond dict: {1: ('22', '65', 'A', 'A'), 2: ('56', '98', 'A', 'A'), 3: ('156', '207', 'A', 'A'), 4: ('22', '65', 'B', 'B'), 5: ('56', '98', 'B', 'B'), 6: ('156', '207', 'B', 'B')}\n",
      "multiple chains. [<Chain id=A>, <Chain id=B>]\n",
      "Chain: A, length: 504\n",
      "Chain: B, length: 454\n",
      "chain lengths are unequal: [504, 454]\n"
     ]
    },
    {
     "data": {
      "text/plain": [
       "False"
      ]
     },
     "execution_count": 6,
     "metadata": {},
     "output_type": "execute_result"
    }
   ],
   "source": [
    "check_chains('4yys', PDB_GOOD)"
   ]
  },
  {
   "cell_type": "code",
   "execution_count": null,
   "metadata": {},
   "outputs": [],
   "source": []
  },
  {
   "cell_type": "code",
   "execution_count": 7,
   "metadata": {},
   "outputs": [
    {
     "data": {
      "text/plain": [
       "DisulfideList([<Disulfide 4yys_22A_65A SourceID: 4yys Proximal: 22 A Distal: 65 A>,\n",
       "               <Disulfide 4yys_56A_98A SourceID: 4yys Proximal: 56 A Distal: 98 A>,\n",
       "               <Disulfide 4yys_156A_207A SourceID: 4yys Proximal: 156 A Distal: 207 A>])"
      ]
     },
     "execution_count": 7,
     "metadata": {},
     "output_type": "execute_result"
    }
   ],
   "source": [
    "ss4yys_a = ss4yys.by_chain('A')\n",
    "ss4yys_a\n"
   ]
  },
  {
   "cell_type": "code",
   "execution_count": 8,
   "metadata": {},
   "outputs": [
    {
     "data": {
      "text/plain": [
       "DisulfideList([<Disulfide 4yys_22B_65B SourceID: 4yys Proximal: 22 B Distal: 65 B>,\n",
       "               <Disulfide 4yys_56B_98B SourceID: 4yys Proximal: 56 B Distal: 98 B>,\n",
       "               <Disulfide 4yys_156B_207B SourceID: 4yys Proximal: 156 B Distal: 207 B>])"
      ]
     },
     "execution_count": 8,
     "metadata": {},
     "output_type": "execute_result"
    }
   ],
   "source": [
    "ss4yys_b = ss4yys.by_chain('B')\n",
    "ss4yys_b"
   ]
  },
  {
   "cell_type": "code",
   "execution_count": 9,
   "metadata": {},
   "outputs": [
    {
     "name": "stdout",
     "output_type": "stream",
     "text": [
      "\n",
      "Proximal Coordinates:\n",
      "   N: <Vector -2.36, -20.48, 5.21>\n",
      "   Cα: <Vector -2.10, -19.89, 3.90>\n",
      "   C: <Vector -1.12, -18.78, 4.12>\n",
      "   O: <Vector -1.30, -17.96, 5.03>\n",
      "   Cβ: <Vector -3.38, -19.31, 3.32>\n",
      "   Sγ: <Vector -3.24, -18.40, 1.76>\n",
      "   Cprev <Vector -2.67, -21.75, 5.36>\n",
      "   Nnext: <Vector -0.02, -18.76, 3.36>\n",
      " Distal Coordinates:\n",
      "   N: <Vector -0.60, -18.71, -1.62>\n",
      "   Cα: <Vector -0.48, -19.10, -0.22>\n",
      "   C: <Vector 0.92, -19.52, 0.18>\n",
      "   O: <Vector 1.10, -20.09, 1.25>\n",
      "   Cβ: <Vector -1.48, -20.23, 0.08>\n",
      "   Sγ: <Vector -3.22, -19.69, 0.18>\n",
      "   Cprev <Vector -0.73, -17.44, -2.01>\n",
      "   Nnext: <Vector 1.92, -19.18, -0.63>\n",
      "\n",
      "\n"
     ]
    }
   ],
   "source": [
    "ss4yys_a1 = ss4yys_a[0]\n",
    "print(ss4yys_a1.repr_ss_coords())\n"
   ]
  },
  {
   "cell_type": "code",
   "execution_count": 10,
   "metadata": {},
   "outputs": [
    {
     "data": {
      "text/plain": [
       "<Disulfide 4yys_22B_65B SourceID: 4yys Proximal: 22 B Distal: 65 B>"
      ]
     },
     "execution_count": 10,
     "metadata": {},
     "output_type": "execute_result"
    }
   ],
   "source": [
    "ss4yys_b1 = ss4yys_b[0]\n",
    "ss4yys_b1"
   ]
  },
  {
   "cell_type": "code",
   "execution_count": 11,
   "metadata": {},
   "outputs": [
    {
     "data": {
      "text/plain": [
       "0.1145026461405659"
      ]
     },
     "execution_count": 11,
     "metadata": {},
     "output_type": "execute_result"
    }
   ],
   "source": [
    "Distance_RMS(ss4yys_a1, ss4yys_b1)"
   ]
  },
  {
   "cell_type": "code",
   "execution_count": 12,
   "metadata": {},
   "outputs": [
    {
     "data": {
      "text/plain": [
       "7.045760800877229"
      ]
     },
     "execution_count": 12,
     "metadata": {},
     "output_type": "execute_result"
    }
   ],
   "source": [
    "Torsion_RMS(ss4yys_a1, ss4yys_b1)"
   ]
  },
  {
   "cell_type": "code",
   "execution_count": 13,
   "metadata": {},
   "outputs": [
    {
     "data": {
      "text/plain": [
       "False"
      ]
     },
     "execution_count": 13,
     "metadata": {},
     "output_type": "execute_result"
    }
   ],
   "source": [
    "ss4yys_a1 == ss4yys_b1"
   ]
  },
  {
   "cell_type": "code",
   "execution_count": 14,
   "metadata": {},
   "outputs": [
    {
     "data": {
      "text/plain": [
       "{'A', 'B'}"
      ]
     },
     "execution_count": 14,
     "metadata": {},
     "output_type": "execute_result"
    }
   ],
   "source": [
    "chns = ss4yys.get_chains()\n",
    "ss4yys.has_chain('yyy')\n",
    "chns"
   ]
  },
  {
   "cell_type": "code",
   "execution_count": null,
   "metadata": {},
   "outputs": [],
   "source": [
    "# load SS bonds by PDB ID\n",
    "ss1 = PDB_SS['4yys']\n",
    "print(ss1)\n",
    "print(ss1[0].get_full_id())\n"
   ]
  },
  {
   "cell_type": "code",
   "execution_count": null,
   "metadata": {},
   "outputs": [],
   "source": [
    "# you can loop over the IDList list and extract by ID\n",
    "#\n",
    "for id in PDB_SS.IDList[:2]:    # just show last 5\n",
    "    # get the SS bonds for the given ID\n",
    "    ssb = PDB_SS[id]\n",
    "    numb_ss = len(ssb)\n",
    "    print(f'ID: {id} has {numb_ss} Disulfides:')\n",
    "    for bond in ssb:\n",
    "        print(bond)\n",
    "    print('\\n')\n",
    "    "
   ]
  },
  {
   "cell_type": "code",
   "execution_count": null,
   "metadata": {},
   "outputs": [],
   "source": [
    "ss_list = PDB_SS.getlist()\n",
    "ss0 = ss_list[0]\n",
    "\n",
    "print(ss0.proximal_residue_fullid)\n",
    "print(ss0.chi3)\n",
    "len(ss_list)\n"
   ]
  },
  {
   "cell_type": "code",
   "execution_count": null,
   "metadata": {},
   "outputs": [],
   "source": [
    "# routine creates 2 lists  for left-handed and right-handed disulfides \n",
    "ss_list = PDB_SS.getlist()\n",
    "left_handed = DisulfideList([], 'left_handed')\n",
    "right_handed = DisulfideList([], 'right_handed')\n",
    "\n",
    "i = 0\n",
    "\n",
    "for i in range(0, len(ss_list)):\n",
    "    ss = ss_list[i]\n",
    "    if ss.chi3 < 0:\n",
    "        left_handed.append(ss)\n",
    "    else:\n",
    "        right_handed.append(ss)\n",
    "\n",
    "\n",
    "print(f'Left Handed: {len(left_handed)}, Right Handed: {len(right_handed)}')\n",
    "\n"
   ]
  },
  {
   "cell_type": "code",
   "execution_count": null,
   "metadata": {},
   "outputs": [],
   "source": [
    "# Make a plot\n",
    "\n",
    "import pyvista as pv\n",
    "from pyvista import set_plot_theme\n",
    "\n",
    "pv.set_jupyter_backend('ipyvtklink')\n",
    "set_plot_theme('document')\n",
    "\n",
    "from proteusPy.proteusGlobals import ATOM_RADII_COVALENT, ATOM_RADII_CPK, ATOM_COLORS\n",
    "ss1 = PDB_SS[0]\n",
    "\n",
    "coords = ss1.internal_coords()\n",
    "atoms = ('N', 'C', 'C', 'O', 'C', 'SG', 'N', 'C', 'C', 'O', 'C', 'SG')\n",
    "\n",
    "i = 0\n",
    "p = pv.Plotter()\n",
    "\n",
    "for atom in atoms:\n",
    "    rad = ATOM_RADII_CPK[atom]\n",
    "    p.add_mesh(pv.Sphere(center=coords[i], radius=rad),)\n",
    "    print(f'Atom: {atom} Coords: {coords[i]} rad: {rad}')\n",
    "    i += 1\n",
    "\n",
    "p.show()\n"
   ]
  },
  {
   "cell_type": "code",
   "execution_count": null,
   "metadata": {},
   "outputs": [],
   "source": [
    "p = pv.Plotter()\n",
    "p.add_mesh(pv.Sphere(center=[0,0,0], radius=1.0))\n",
    "p.show()"
   ]
  },
  {
   "cell_type": "code",
   "execution_count": null,
   "metadata": {},
   "outputs": [],
   "source": [
    "from proteusPy.Disulfide import DisulfideList, Disulfide, DisulfideLoader\n",
    "\n",
    "# make some empty disulfides\n",
    "ss1 = Disulfide('ss1')\n",
    "ss2 = Disulfide('ss2')\n",
    "\n",
    "# make a DisulfideList containing ss1, named 'tmp'\n",
    "sslist = DisulfideList([ss1], 'tmp')\n",
    "sslist.append(ss2)\n",
    "\n",
    "# load the PDB Disulfide database\n",
    "PDB_SS = None\n",
    "PDB_SS = DisulfideLoader(verbose=True, modeldir=MODELS)\n",
    "\n",
    "# extract a disulfide with typical index\n",
    "ss1 = PDB_SS[0]\n",
    "print(f'{ss1.pprint_all()}')\n",
    "\n",
    "# grab a subset via slicing\n",
    "subset = DisulfideList(PDB_SS[0:10],'subset')"
   ]
  }
 ],
 "metadata": {
  "kernelspec": {
   "display_name": "Python (bio)",
   "language": "python",
   "name": "bio"
  },
  "language_info": {
   "codemirror_mode": {
    "name": "ipython",
    "version": 3
   },
   "file_extension": ".py",
   "mimetype": "text/x-python",
   "name": "python",
   "nbconvert_exporter": "python",
   "pygments_lexer": "ipython3",
   "version": "3.8.13 | packaged by conda-forge | (default, Mar 25 2022, 06:04:14) \n[Clang 12.0.1 ]"
  },
  "orig_nbformat": 4,
  "vscode": {
   "interpreter": {
    "hash": "2e049c0f63e6b330ae815ad1049a36d20686725ba1cc68cc0aadee0375e172d1"
   }
  }
 },
 "nbformat": 4,
 "nbformat_minor": 2
}
