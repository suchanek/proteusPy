{
 "cells": [
  {
   "cell_type": "code",
   "execution_count": 1,
   "metadata": {},
   "outputs": [],
   "source": [
    "# DisulfideBond Playground\n",
    "# Playing with the DisulfideBond class\n",
    "# Author: Eric G. Suchanek, PhD.\n",
    "# (c) 2022 Eric G. Suchanek, PhD., All Rights Reserved\n",
    "# License: BSD\n",
    "# Last Modification: 12/12/22\n",
    "# Cα Cβ Sγ\n",
    "\n",
    "%matplotlib inline\n",
    "\n",
    "import matplotlib.pyplot as plt\n",
    "import pandas as pd\n",
    "import pyvista as pv\n",
    "\n",
    "from Bio.PDB import *\n",
    "\n",
    "# location for PDB repository\n",
    "PDB_ROOT = '/Users/egs/PDB/'\n",
    "\n",
    "# location of cleaned PDB files - these are not stored in the repo\n",
    "PDB_GOOD = '/Users/egs/PDB/good/'\n",
    "\n",
    "# from within the repo \n",
    "PDB_REPO = '../pdb/'\n",
    "\n",
    "# location of the compressed Disulfide .pkl files\n",
    "MODELS = f'{PDB_ROOT}models/'\n",
    "\n",
    "# for using from the repo we \n",
    "from proteusPy import *\n",
    "from proteusPy.disulfide import *\n",
    "from proteusPy.proteusGlobals import *\n"
   ]
  },
  {
   "cell_type": "markdown",
   "metadata": {},
   "source": []
  },
  {
   "cell_type": "code",
   "execution_count": 2,
   "metadata": {},
   "outputs": [
    {
     "name": "stdout",
     "output_type": "stream",
     "text": [
      "Reading disulfides from: /Users/egs/PDB/models/PDB_all_ss.pkl\n",
      "Disulfides Read: 40653\n",
      "Reading disulfide dict from: /Users/egs/PDB/models/PDB_all_ss_dict.pkl\n",
      "Reading Torsion DF /Users/egs/PDB/models/PDB_SS_torsions.csv.\n",
      "Read torsions DF.\n",
      "PDB IDs parsed: 4946\n",
      "Total Space Used: 9081930 bytes.\n"
     ]
    }
   ],
   "source": [
    "# Comment these out since they take so long.\n",
    "# DownloadDisulfides(pdb_home=PDB_ORIG, model_home=MODELS, reset=False)\n",
    "# ExtractDisulfides(numb=-1, pdbdir=PDB, modeldir=MODELS, verbose=False, quiet=True)\n",
    "\n",
    "PDB_SS = None\n",
    "PDB_SS = DisulfideLoader(verbose=True, modeldir=MODELS)\n",
    "\n",
    "ss_list = DisulfideList([], 'tmp')\n"
   ]
  },
  {
   "cell_type": "code",
   "execution_count": null,
   "metadata": {},
   "outputs": [],
   "source": [
    "ss1 = PDB_SS[0]\n",
    "print(f'{ss1.pprint_all()}')\n",
    "\n"
   ]
  },
  {
   "cell_type": "code",
   "execution_count": null,
   "metadata": {},
   "outputs": [],
   "source": [
    "ss1.internal_coords_res(22)"
   ]
  },
  {
   "cell_type": "code",
   "execution_count": null,
   "metadata": {},
   "outputs": [],
   "source": [
    "ss1.internal_coords()"
   ]
  },
  {
   "cell_type": "code",
   "execution_count": null,
   "metadata": {},
   "outputs": [],
   "source": [
    "# load SS bonds by PDB ID\n",
    "ss1 = PDB_SS['4yys']\n",
    "print(ss1)\n",
    "print(ss1[0].get_full_id())\n"
   ]
  },
  {
   "cell_type": "code",
   "execution_count": null,
   "metadata": {},
   "outputs": [],
   "source": [
    "# you can loop over the IDList list and extract by ID\n",
    "#\n",
    "for id in PDB_SS.IDList[:2]:    # just show last 5\n",
    "    # get the SS bonds for the given ID\n",
    "    ssb = PDB_SS[id]\n",
    "    numb_ss = len(ssb)\n",
    "    print(f'ID: {id} has {numb_ss} Disulfides:')\n",
    "    for bond in ssb:\n",
    "        print(bond)\n",
    "    print('\\n')\n",
    "    "
   ]
  },
  {
   "cell_type": "code",
   "execution_count": null,
   "metadata": {},
   "outputs": [],
   "source": [
    "ss_list = PDB_SS.getlist()\n",
    "ss0 = ss_list[0]\n",
    "\n",
    "print(ss0.proximal_residue_fullid)\n",
    "print(ss0.chi3)\n",
    "len(ss_list)\n"
   ]
  },
  {
   "cell_type": "code",
   "execution_count": null,
   "metadata": {},
   "outputs": [],
   "source": [
    "# routine creates 2 lists  for left-handed and right-handed disulfides \n",
    "ss_list = PDB_SS.getlist()\n",
    "left_handed = DisulfideList([], 'left_handed')\n",
    "right_handed = DisulfideList([], 'right_handed')\n",
    "\n",
    "i = 0\n",
    "\n",
    "for i in range(0, len(ss_list)):\n",
    "    ss = ss_list[i]\n",
    "    if ss.chi3 < 0:\n",
    "        left_handed.append(ss)\n",
    "    else:\n",
    "        right_handed.append(ss)\n",
    "\n",
    "\n",
    "print(f'Left Handed: {len(left_handed)}, Right Handed: {len(right_handed)}')\n",
    "\n"
   ]
  },
  {
   "cell_type": "code",
   "execution_count": 6,
   "metadata": {},
   "outputs": [
    {
     "name": "stdout",
     "output_type": "stream",
     "text": [
      "Atom: N Coords: [-4.11462649e-01  1.40422676e+00 -2.57879181e-17] rad: 1.54\n",
      "Atom: C Coords: [0. 0. 0.] rad: 1.7\n",
      "Atom: C Coords: [1.49881687e+00 1.05145641e-17 2.93251277e-17] rad: 1.7\n",
      "Atom: O Coords: [ 2.11693982  0.71251005 -0.80088519] rad: 1.4\n",
      "Atom: C Coords: [-0.50427479 -0.70039359 -1.25015367] rad: 1.7\n",
      "Atom: SG Coords: [ 0.03518197 -2.41445012 -1.50153147] rad: 1.8\n",
      "Atom: N Coords: [ 1.03824621 -5.63116798  1.16728143] rad: 1.54\n",
      "Atom: C Coords: [ 1.04349959 -4.17918716  1.30930568] rad: 1.7\n",
      "Atom: C Coords: [ 1.71552653 -3.67873321  2.57487185] rad: 1.7\n",
      "Atom: O Coords: [ 1.56750768 -2.51148892  2.92320438] rad: 1.4\n",
      "Atom: C Coords: [-0.40559796 -3.66083114  1.24361015] rad: 1.7\n",
      "Atom: SG Coords: [-1.13779667 -3.68823364 -0.43220498] rad: 1.8\n"
     ]
    },
    {
     "data": {
      "application/vnd.jupyter.widget-view+json": {
       "model_id": "7f87c9dae62d49d6a7d7738913aa70cb",
       "version_major": 2,
       "version_minor": 0
      },
      "text/plain": [
       "ViewInteractiveWidget(height=768, layout=Layout(height='auto', width='100%'), width=1024)"
      ]
     },
     "metadata": {},
     "output_type": "display_data"
    }
   ],
   "source": [
    "# Make a plot\n",
    "\n",
    "'''res_array = numpy.array((\n",
    "            self._n_prox.get_array(),\n",
    "            self._ca_prox.get_array(),\n",
    "            self._c_prox.get_array(), \n",
    "            self._o_prox.get_array(), \n",
    "            self._cb_prox.get_array(),\n",
    "            self._sg_prox.get_array(),\n",
    "            self._n_dist.get_array(),\n",
    "            self._ca_dist.get_array(),\n",
    "            self._c_dist.get_array(), \n",
    "            self._o_dist.get_array(), \n",
    "            self._cb_dist.get_array(),\n",
    "            self._sg_dist.get_array(),\n",
    "        ))'''\n",
    "\n",
    "\n",
    "from proteusPy.proteusGlobals import ATOM_RADII_COVALENT, ATOM_RADII_CPK\n",
    "ss1 = PDB_SS[0]\n",
    "\n",
    "coords = ss1.internal_coords()\n",
    "atoms = ('N', 'C', 'C', 'O', 'C', 'SG', 'N', 'C', 'C', 'O', 'C', 'SG')\n",
    "\n",
    "i = 0\n",
    "p = pv.Plotter()\n",
    "\n",
    "for atom in atoms:\n",
    "    rad = ATOM_RADII_CPK[atom]\n",
    "    p.add_mesh(pv.Sphere(center=coords[i], radius = rad))\n",
    "    print(f'Atom: {atom} Coords: {coords[i]} rad: {rad}')\n",
    "    i += 1\n",
    "\n",
    "p.show()\n"
   ]
  },
  {
   "cell_type": "code",
   "execution_count": null,
   "metadata": {},
   "outputs": [],
   "source": [
    "ATOM_RADII_CPK"
   ]
  },
  {
   "cell_type": "code",
   "execution_count": null,
   "metadata": {},
   "outputs": [],
   "source": [
    "ATOM_RADII_COVALENT"
   ]
  },
  {
   "cell_type": "code",
   "execution_count": null,
   "metadata": {},
   "outputs": [],
   "source": []
  }
 ],
 "metadata": {
  "kernelspec": {
   "display_name": "Python 3.8.13 ('bio')",
   "language": "python",
   "name": "python3"
  },
  "language_info": {
   "codemirror_mode": {
    "name": "ipython",
    "version": 3
   },
   "file_extension": ".py",
   "mimetype": "text/x-python",
   "name": "python",
   "nbconvert_exporter": "python",
   "pygments_lexer": "ipython3",
   "version": "3.8.13 | packaged by conda-forge | (default, Mar 25 2022, 06:05:16) \n[Clang 12.0.1 ]"
  },
  "orig_nbformat": 4,
  "vscode": {
   "interpreter": {
    "hash": "2e049c0f63e6b330ae815ad1049a36d20686725ba1cc68cc0aadee0375e172d1"
   }
  }
 },
 "nbformat": 4,
 "nbformat_minor": 2
}
