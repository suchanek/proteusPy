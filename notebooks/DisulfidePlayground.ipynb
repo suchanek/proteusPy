{
 "cells": [
  {
   "cell_type": "code",
   "execution_count": 1,
   "metadata": {},
   "outputs": [],
   "source": [
    "# DisulfideBond Playground\n",
    "# Playing with the DisulfideBond class\n",
    "# Author: Eric G. Suchanek, PhD.\n",
    "# (c) 2023 Eric G. Suchanek, PhD., All Rights Reserved\n",
    "# License: MIT\n",
    "# Last Modification: 2/18/23\n",
    "# Cα N, Cα, Cβ, C', Sγ Å °\n",
    "\n",
    "import pandas as pd\n",
    "import numpy\n",
    "\n",
    "import pyvista as pv\n",
    "from pyvista import set_plot_theme\n",
    "import plotly.express as px\n",
    "\n",
    "from Bio.PDB import *\n",
    "\n",
    "# for using from the repo we \n",
    "import proteusPy\n",
    "from proteusPy import *\n",
    "from proteusPy.data import *\n",
    "\n",
    "from proteusPy.Disulfide import *\n",
    "from proteusPy.DisulfideList import DisulfideList, load_disulfides_from_id\n",
    "from proteusPy.DisulfideLoader import Load_PDB_SS, DisulfideLoader, DisulfideClass_Constructor\n",
    "from proteusPy.data import DATA_DIR\n",
    "\n",
    "# pyvista setup for notebooks\n",
    "pv.set_jupyter_backend('trame')\n",
    "set_plot_theme('dark')\n",
    "\n",
    "from plotly.subplots import make_subplots\n"
   ]
  },
  {
   "cell_type": "code",
   "execution_count": 2,
   "metadata": {},
   "outputs": [
    {
     "name": "stdout",
     "output_type": "stream",
     "text": [
      "-> load_PDB_SS(): Reading /Users/egs/repos/proteusPy/proteusPy/data/PDB_SS_ALL_LOADER.pkl... done.\n",
      "    =========== RCSB Disulfide Database Summary ==============\n",
      "       =========== Built: 2023-03-01 20:19:47 ==============\n",
      "PDB IDs present:                    35818\n",
      "Disulfides loaded:                  120494\n",
      "Average structure resolution:       2.34 Å\n",
      "Lowest Energy Disulfide:            2q7q_75D_140D\n",
      "Highest Energy Disulfide:           1toz_456A_467A\n",
      "Ca distance cutoff:                 8.00 Å\n",
      "Total RAM Used:                     31.05 GB.\n",
      "    ================= proteusPy: 0.62dev =======================\n"
     ]
    }
   ],
   "source": [
    "PDB_SS = Load_PDB_SS(verbose=True, subset=False)\n",
    "PDB_SS.describe()\n"
   ]
  },
  {
   "cell_type": "code",
   "execution_count": null,
   "metadata": {},
   "outputs": [],
   "source": []
  },
  {
   "cell_type": "code",
   "execution_count": 3,
   "metadata": {},
   "outputs": [],
   "source": [
    "# best = PDB_SS['2q7q_75D_140D']\n",
    "# best.export(style='sb', fname='best.stl', verbose=True)"
   ]
  },
  {
   "cell_type": "code",
   "execution_count": 6,
   "metadata": {},
   "outputs": [
    {
     "name": "stdout",
     "output_type": "stream",
     "text": [
      "trin: 899\n",
      "   class_id                                              ss_id  count  \\\n",
      "0     *****  [3m1b_198A_252A, 1pjv_3A_22A, 2l37_14A_27A, 7d...     16   \n",
      "1     ****+  [4nzd_46A_62A, 3rjr_194A_196B, 7n28_378A_445A,...      9   \n",
      "2     ****-  [2m7h_13A_36A, 7jge_975A_1099A, 7t6b_22E_96E, ...     25   \n",
      "3     ****@  [2ndb_20A_37A, 6qv2_22E_96E, 3lwo_8B_23B, 5i5i...     25   \n",
      "4     ***+*  [7eb3_738A_760A, 6nym_738A_749A, 4ybl_65G_115G...     20   \n",
      "5     ***++                                   [1e88_116A_142A]      1   \n",
      "6     ***+@  [1mkc_72A_104A, 5n2j_1419A_1437A, 1c2u_17A_32A...     13   \n",
      "7     ***-+  [4c3o_76A_79A, 5m64_62A_65A, 6v4a_371A_373A, 4...     15   \n",
      "8     ***--  [7sgd_86A_231A, 2o86_6A_167A, 7vtq_955A_982A, ...     10   \n",
      "9     ***-@  [7b54_645X_747X, 3ewe_184B_394B, 3jcb_126A_196...      4   \n",
      "10    ***@*  [6nyl_738A_749A, 7fet_379A_432A, 4e0s_856A_883...     45   \n",
      "11    ***@+  [5i8h_378A_445A, 7ru1_883A_705C, 5e6i_161G_169...     11   \n",
      "12    ***@-  [4zg6_74A_87A, 7wih_361A_373A, 2z5z_6A_167A, 7...     32   \n",
      "13    ***@@  [7yq4_304E_308E, 7zmn_22K_95K, 1yz2_8A_20A, 2j...     24   \n",
      "14    **+**  [5fgn_276A_286A, 1y7j_111A_132A, 2k51_2A_74A, ...     49   \n",
      "15    **+*+  [3ncy_147Q_202Q, 3jxa_247A_295A, 7lsf_22H_92H,...     85   \n",
      "16    **+*-  [3l4x_15A_31A, 3psg_45A_50A, 5v48_57A_62A, 5tx...    200   \n",
      "17    **+*@  [6efe_10A_22A, 6u8c_134C_194C, 6xja_369A_432A,...     42   \n",
      "18    **++*  [4nz3_106A_118A, 3bak_70A_115A, 3cpu_70A_115A,...     98   \n",
      "19    **+++  [6l8q_380A_389A, 3c45_385A_394A, 2ajd_385A_394...      5   \n",
      "20    **++-  [5vcm_283A_286A, 1ep7_36A_39A, 4flv_507A_510A,...    433   \n",
      "21    **++@  [1tih_8A_37A, 5m5j_137A_140A, 3f8p_144A_147A, ...     91   \n",
      "22    **+-+                                   [5u8s_2115_2365]      1   \n",
      "23    **+--  [2e4x_509A_528A, 6j8g_55C_895A, 1wm7_10A_26A, ...     10   \n",
      "24    **+-@  [5dqc_217A_382A, 1k48_13A_34A, 4j0m_225A_250A,...      5   \n",
      "25    **+@*  [7nhz_62A_67A, 4kh4_365A_433A, 5iyv_376A_402A,...     24   \n",
      "26    **+@+  [7tby_626A_1465A, 1orv_385A_394A, 3hac_385A_39...     28   \n",
      "27    **+@-  [7yq4_8E_26E, 2ex2_217A_234A, 6idf_50A_62A, 1b...     63   \n",
      "28    **+@@  [2mop_421_481, 7tld_383A_985B, 2atc_109B_114B,...     38   \n",
      "29    **-**  [6snc_134A_194A, 6vsz_261A_321A, 6vsz_367A_425...   3596   \n",
      "30    **-*+  [6zge_538A_590A, 5xaj_225A_214B, 4lw6_300A_308...     61   \n",
      "31    **-*-  [2any_168A_182A, 1zjk_598A_618A, 1dva_168H_182...    505   \n",
      "\n",
      "    incidence  percentage  \n",
      "0    0.000133    0.013279  \n",
      "1    0.000075    0.007469  \n",
      "2    0.000207    0.020748  \n",
      "3    0.000207    0.020748  \n",
      "4    0.000166    0.016598  \n",
      "5    0.000008    0.000830  \n",
      "6    0.000108    0.010789  \n",
      "7    0.000124    0.012449  \n",
      "8    0.000083    0.008299  \n",
      "9    0.000033    0.003320  \n",
      "10   0.000373    0.037346  \n",
      "11   0.000091    0.009129  \n",
      "12   0.000266    0.026557  \n",
      "13   0.000199    0.019918  \n",
      "14   0.000407    0.040666  \n",
      "15   0.000705    0.070543  \n",
      "16   0.001660    0.165983  \n",
      "17   0.000349    0.034857  \n",
      "18   0.000813    0.081332  \n",
      "19   0.000041    0.004150  \n",
      "20   0.003594    0.359354  \n",
      "21   0.000755    0.075522  \n",
      "22   0.000008    0.000830  \n",
      "23   0.000083    0.008299  \n",
      "24   0.000041    0.004150  \n",
      "25   0.000199    0.019918  \n",
      "26   0.000232    0.023238  \n",
      "27   0.000523    0.052285  \n",
      "28   0.000315    0.031537  \n",
      "29   0.029844    2.984381  \n",
      "30   0.000506    0.050625  \n",
      "31   0.004191    0.419108  \n"
     ]
    },
    {
     "data": {
      "text/plain": [
       "<AxesSubplot: xlabel='class_id'>"
      ]
     },
     "execution_count": 6,
     "metadata": {},
     "output_type": "execute_result"
    },
    {
     "data": {
      "image/png": "[encoded data removed]",
      "text/plain": [
       "<Figure size 640x480 with 1 Axes>"
      ]
     },
     "metadata": {},
     "output_type": "display_data"
    }
   ],
   "source": [
    "from proteusPy.DisulfideLoader import create_trinary_classes\n",
    "from proteusPy.utility import sort_by_column\n",
    "\n",
    "tors = PDB_SS.getTorsions()\n",
    "trin = create_trinary_classes(tors)\n",
    "print(f'trin: {trin.shape[0]}')\n",
    "print(trin.head(32))\n",
    "trin.plot(x='class_id', y='percentage')\n"
   ]
  },
  {
   "cell_type": "code",
   "execution_count": null,
   "metadata": {},
   "outputs": [],
   "source": [
    "#\n",
    "\n",
    "def build_models_for_ss(loader: DisulfideLoader, do_graph=False, do_consensus=False):\n",
    "    df = loader.getTorsions()\n",
    "    for index, row in df.iterrows():\n",
    "        ss_list = row['ss_id'].split(',') # Assuming ss_id is a comma-separated list\n",
    "        class_id = row['class_id']\n",
    "        for ss in ss_list:\n",
    "            ssb = loader[ss]\n"
   ]
  },
  {
   "cell_type": "code",
   "execution_count": 7,
   "metadata": {},
   "outputs": [
    {
     "name": "stdout",
     "output_type": "stream",
     "text": [
      "    class_id                                              ss_id  count  \\\n",
      "581    -----  [3ejj_48A_139A, 3l4o_46C_77C, 1z3t_135A_394A, ...   7344   \n",
      "657    -@@--  [3l4o_78C_109C, 2hew_98F_183F, 1z3t_225A_245A,...   4400   \n",
      "601    --@@-  [2qhe_27A_126A, 6vpa_176A_190A, 7nd8_379A_432A...   3773   \n",
      "29     **-**  [6snc_134A_194A, 6vsz_261A_321A, 6vsz_367A_425...   3596   \n",
      "183    *@+*+  [6snc_23A_88A, 4nzr_22H_92H, 6zg3_22E_96E, 2a9...   2901   \n",
      "597    --@--  [4eix_27A_126A, 4eix_50A_133A, 5ao5_382A_393A,...   2580   \n",
      "579    ----*  [2qhe_44A_105A, 4eix_44A_105A, 7nd8_743A_749A,...   2282   \n",
      "326    ++@--  [1z3t_233A_238A, 3wu7_64A_80A, 2zyp_64A_80A, 5...   2092   \n",
      "585    ---@-  [1jc9_49A_80A, 2zyp_6A_127A, 6fuq_135A_185A, 5...   2046   \n",
      "641    -@---  [4lb7_9D_29D, 1sl4_284A_377A, 1aq7_42A_58A, 2f...   1727   \n",
      "112    *+@--  [4unw_281A_305A, 3kfq_22A_65A, 4ln4_54A_66A, 4...   1689   \n",
      "661    -@@@-  [3ulv_95A_122A, 3ulv_651A_696A, 7nd8_131A_166A...   1680   \n",
      "79     *+++*  [2mz0_22A_47A, 5cw1_178A_249A, 3l4x_26A_44A, 6...   1403   \n",
      "583    ---@*  [2qhe_84A_96A, 4eix_84A_96A, 7yeg_743A_749A, 2...   1301   \n",
      "222    *@@--  [1dot_488A_502A, 2a6u_30A_115A, 6qz2_224A_529A...   1276   \n",
      "893    @@@--  [4lb7_2D_30D, 1z3t_19A_25A, 6zge_131A_166A, 3n...   1249   \n",
      "43     **@**  [1mfe_137L_196L, 6qv1_22E_95E, 2vlk_203A_259A,...   1195   \n",
      "591    --@+*  [4yys_56A_98A, 7nd8_617A_649A, 3k0v_405A_684A,...   1175   \n",
      "600    --@@+  [2v96_67A_94A, 4ln4_42A_268A, 1tgt_128A_232A, ...   1158   \n",
      "458    -*++*  [3wu7_76A_94A, 2zyp_76A_94A, 2al0_2X_121X, 3wu...   1148   \n",
      "\n",
      "     incidence  percentage  \n",
      "581   0.060949    6.094909  \n",
      "657   0.036516    3.651634  \n",
      "601   0.031313    3.131276  \n",
      "29    0.029844    2.984381  \n",
      "183   0.024076    2.407589  \n",
      "597   0.021412    2.141185  \n",
      "579   0.018939    1.893870  \n",
      "326   0.017362    1.736186  \n",
      "585   0.016980    1.698010  \n",
      "641   0.014333    1.433266  \n",
      "112   0.014017    1.401730  \n",
      "661   0.013943    1.394260  \n",
      "79    0.011644    1.164373  \n",
      "583   0.010797    1.079722  \n",
      "222   0.010590    1.058974  \n",
      "893   0.010366    1.036566  \n",
      "43    0.009918    0.991751  \n",
      "591   0.009752    0.975152  \n",
      "600   0.009610    0.961044  \n",
      "458   0.009527    0.952745  \n"
     ]
    },
    {
     "data": {
      "text/plain": [
       "<AxesSubplot: xlabel='class_id'>"
      ]
     },
     "execution_count": 7,
     "metadata": {},
     "output_type": "execute_result"
    },
    {
     "data": {
      "image/png": "[encoded data removed]",
      "text/plain": [
       "<Figure size 640x480 with 1 Axes>"
      ]
     },
     "metadata": {},
     "output_type": "display_data"
    }
   ],
   "source": [
    "sor = sort_by_column(trin, 'percentage')\n",
    "print(f'{sor.head(20)}')\n",
    "sor.plot(x='class_id', y='percentage')"
   ]
  },
  {
   "cell_type": "code",
   "execution_count": null,
   "metadata": {},
   "outputs": [],
   "source": [
    "\n",
    "max_list = sor.iloc[0]['ss_id']\n",
    "PDB_SS[max_list[1]].pprint()"
   ]
  },
  {
   "cell_type": "code",
   "execution_count": null,
   "metadata": {},
   "outputs": [],
   "source": []
  },
  {
   "cell_type": "code",
   "execution_count": null,
   "metadata": {},
   "outputs": [],
   "source": []
  },
  {
   "cell_type": "code",
   "execution_count": null,
   "metadata": {},
   "outputs": [],
   "source": []
  },
  {
   "cell_type": "code",
   "execution_count": null,
   "metadata": {},
   "outputs": [],
   "source": [
    "vdf = generate_vector_dataframe(4)\n",
    "vdf.head(32)"
   ]
  },
  {
   "cell_type": "code",
   "execution_count": null,
   "metadata": {},
   "outputs": [],
   "source": [
    "# \n",
    "# trin.plot(x='class_id', y='percentage')"
   ]
  },
  {
   "cell_type": "code",
   "execution_count": null,
   "metadata": {},
   "outputs": [],
   "source": [
    "from proteusPy.DisulfideLoader import create_classes\n",
    "binary = create_classes(tors)\n",
    "binary.plot(x='class_id', y='percentage')\n"
   ]
  },
  {
   "cell_type": "code",
   "execution_count": null,
   "metadata": {},
   "outputs": [],
   "source": [
    "from proteusPy.utility import generate_vector_dataframe\n",
    "\n",
    "trinary = generate_vector_dataframe(base=3)\n",
    "trinary.head(64)"
   ]
  },
  {
   "cell_type": "code",
   "execution_count": null,
   "metadata": {},
   "outputs": [],
   "source": [
    "quart = generate_vector_dataframe(base=4)\n",
    "quart.head(128)\n"
   ]
  },
  {
   "cell_type": "code",
   "execution_count": null,
   "metadata": {},
   "outputs": [],
   "source": [
    "# define the function\n",
    "def filter_df(df, amt):\n",
    "    # filter the rows where percentage is greater than or equal to 1.0\n",
    "    filtered_df = df[df[\"percentage\"] <= amt]\n",
    "    # return the filtered dataframe\n",
    "    return filtered_df\n",
    "\n",
    "\n",
    "  "
   ]
  },
  {
   "cell_type": "code",
   "execution_count": null,
   "metadata": {},
   "outputs": [],
   "source": [
    "onepercent = filter_df(trin, 1)\n",
    "tot = onepercent.percentage.sum()\n",
    "tot"
   ]
  },
  {
   "cell_type": "code",
   "execution_count": null,
   "metadata": {},
   "outputs": [],
   "source": [
    "onepercent.shape[0]\n"
   ]
  },
  {
   "cell_type": "code",
   "execution_count": null,
   "metadata": {},
   "outputs": [],
   "source": [
    "onepercent.head(45)"
   ]
  },
  {
   "cell_type": "code",
   "execution_count": null,
   "metadata": {},
   "outputs": [],
   "source": []
  },
  {
   "cell_type": "code",
   "execution_count": null,
   "metadata": {},
   "outputs": [],
   "source": [
    "all_tors_df = PDB_SS.TorsionDF\n",
    "all_tors_df.describe()"
   ]
  },
  {
   "cell_type": "code",
   "execution_count": null,
   "metadata": {},
   "outputs": [],
   "source": [
    "from proteusPy.data import DATA_DIR\n",
    "class_filename = f'{DATA_DIR}SS_consensus_class32.pkl'\n",
    "avg_ss = DisulfideList([], 'A')\n",
    "with open(class_filename, 'rb') as f:\n",
    "    avg_ss = pickle.load(f)"
   ]
  },
  {
   "cell_type": "code",
   "execution_count": null,
   "metadata": {},
   "outputs": [],
   "source": []
  },
  {
   "cell_type": "code",
   "execution_count": null,
   "metadata": {},
   "outputs": [],
   "source": [
    "# avg_ss.torsion_df.to_markdown(f'{DATA_DIR}average_ss_byclass.md')\n",
    "avg_ss.torsion_df.head(32)"
   ]
  },
  {
   "cell_type": "code",
   "execution_count": null,
   "metadata": {},
   "outputs": [],
   "source": [
    "avg_ss.display(style='sb', light=True)"
   ]
  },
  {
   "cell_type": "code",
   "execution_count": null,
   "metadata": {},
   "outputs": [],
   "source": [
    "avg_ss.build_torsion_df\n",
    "tors = avg_ss.torsion_df\n",
    "tors.describe()\n"
   ]
  },
  {
   "cell_type": "code",
   "execution_count": null,
   "metadata": {},
   "outputs": [],
   "source": [
    "rhs = PDB_SS.from_class('+RHStaple')\n",
    "rhs.TorsionGraph(save=True, light=False, fname=f'/tmp/tst.png')\n"
   ]
  },
  {
   "cell_type": "code",
   "execution_count": null,
   "metadata": {},
   "outputs": [],
   "source": [
    "import matplotlib.pyplot as plt\n",
    "\n",
    "#tors.plot('rho')\n",
    "tors['rho'].hist(density=True, bins=100)\n",
    "\n",
    "# Add labels and title to the plot\n",
    "plt.xlabel('rho')\n",
    "plt.ylabel('Probability Density')\n",
    "plt.title('Probability Density Histogram')\n",
    "\n",
    "# Show the plot\n",
    "plt.show()"
   ]
  },
  {
   "cell_type": "code",
   "execution_count": null,
   "metadata": {},
   "outputs": [],
   "source": [
    "rho = tors['rho']"
   ]
  },
  {
   "cell_type": "code",
   "execution_count": null,
   "metadata": {},
   "outputs": [],
   "source": []
  },
  {
   "cell_type": "code",
   "execution_count": null,
   "metadata": {},
   "outputs": [],
   "source": [
    "rhs = PDB_SS.from_class('+RHStaple')\n",
    "rhs.TorsionGraph(save=True, light=False, fname=f'/tmp/tst.png')\n"
   ]
  },
  {
   "cell_type": "code",
   "execution_count": null,
   "metadata": {},
   "outputs": [],
   "source": [
    "PDB_SS.classdf.to_csv(f'{DATA_DIR}PDB_SS_CLASSES.csv')"
   ]
  },
  {
   "cell_type": "code",
   "execution_count": null,
   "metadata": {},
   "outputs": [],
   "source": [
    "start = time.time()\n",
    "\n",
    "# pyvista setup for notebooks\n",
    "pv.set_jupyter_backend('trame')\n",
    "set_plot_theme('dark')\n",
    "\n",
    "PDB_SS = Load_PDB_SS(verbose=True, subset=False)\n",
    "\n",
    "_PBAR_COLS = 80\n",
    "\n",
    "def analyze_classes(loader: DisulfideLoader) -> DisulfideList:\n",
    "    classes = loader.classdict\n",
    "    tot_classes = len(classes)\n",
    "    res_list = DisulfideList([], 'SS_Class_Avg_SS')\n",
    "\n",
    "    pbar = enumerate(classes)\n",
    "    for idx, cls in pbar:\n",
    "        print(f'--> analyze_classes(): {cls} {idx+1}/{tot_classes}')\n",
    "        class_ss_list = loader.from_class(cls)\n",
    "        fname = f'./classes/ss_class_{idx}.png'\n",
    "        class_ss_list.TorsionGraph(display=False, save=True, fname=fname)\n",
    "        fname2 = f'./classes/ss_consensus_{idx}.png'\n",
    "        avg_conformation = class_ss_list.Average_Conformation\n",
    "        ssname = f'{cls}_avg'\n",
    "        exemplar = Disulfide(ssname)\n",
    "        exemplar.build_model(avg_conformation[0], avg_conformation[1],\n",
    "                             avg_conformation[2],avg_conformation[3],\n",
    "                             avg_conformation[4])\n",
    "        res_list.append(exemplar)\n",
    "    return res_list\n",
    "\n",
    "def build_consensus_list(loader: DisulfideLoader) -> DisulfideList:\n",
    "    classes = loader.classdict\n",
    "    tot_classes = len(classes)\n",
    "    res_list = DisulfideList([], 'SS_Classes')\n",
    "\n",
    "    pbar = enumerate(classes)\n",
    "    for idx, cls in pbar:\n",
    "        print(f'--> build_consensus_list(): {cls} {idx+1}/{tot_classes}')\n",
    "        class_ss_list = loader.from_class(cls)\n",
    "        fname2 = f'./classes/ss_consensus_{idx}.png'\n",
    "\n",
    "        # compute and build a consensus 'average' conformation\n",
    "        avg_conformation = class_ss_list.Average_Conformation\n",
    "        ssname = f'{cls}_avg'\n",
    "        exemplar = Disulfide(ssname)\n",
    "        exemplar.build_model(avg_conformation[0], avg_conformation[1],\n",
    "                             avg_conformation[2],avg_conformation[3],\n",
    "                             avg_conformation[4])\n",
    "        res_list.append(exemplar)\n",
    "\n",
    "    return\n",
    "\n",
    "avg_ss_list = DisulfideList([], 'SS_Class_Consensus')\n",
    "avg_ss_list = analyze_classes(PDB_SS)\n",
    "\n",
    "\n",
    "end = time.time()\n",
    "elapsed = end - start\n"
   ]
  },
  {
   "cell_type": "code",
   "execution_count": null,
   "metadata": {},
   "outputs": [],
   "source": [
    "avg_ss_list.display(style='sb', light=True)"
   ]
  },
  {
   "cell_type": "code",
   "execution_count": null,
   "metadata": {},
   "outputs": [],
   "source": [
    "rhs = PDB_SS.from_class('+RHStaple')\n",
    "df = rhs.torsion_df\n",
    "df_subset = df.iloc[:, 4:]\n",
    "df_stats = df_subset.describe()\n",
    "\n",
    "#PDB_SS.list_classes()\n"
   ]
  },
  {
   "cell_type": "code",
   "execution_count": null,
   "metadata": {},
   "outputs": [],
   "source": [
    "df_stats.head()"
   ]
  },
  {
   "cell_type": "code",
   "execution_count": null,
   "metadata": {},
   "outputs": [],
   "source": [
    "_fname = f'{DATA_DIR}classes/ss_class_rhs.png'\n",
    "rhs = PDB_SS.from_class('+RHStaple')\n",
    "rhs.TorsionGraph(light=False, save=True, fname=_fname)"
   ]
  },
  {
   "cell_type": "code",
   "execution_count": null,
   "metadata": {},
   "outputs": [],
   "source": []
  },
  {
   "cell_type": "code",
   "execution_count": null,
   "metadata": {},
   "outputs": [],
   "source": []
  },
  {
   "cell_type": "code",
   "execution_count": null,
   "metadata": {},
   "outputs": [],
   "source": [
    "df = rhs.torsion_df\n",
    "df_subset = df.iloc[:, 4:]\n",
    "df_stats = df_subset.describe()\n",
    "print(df_stats)\n",
    "df_stats.loc['mean']['ca_distance']\n",
    "mean_vals = df_stats.loc['mean'].values\n",
    "std_vals = df_stats.loc['std'].values\n",
    "\n",
    "std_vals[6]\n",
    "\n"
   ]
  },
  {
   "cell_type": "code",
   "execution_count": null,
   "metadata": {},
   "outputs": [],
   "source": [
    "chis = df[4]"
   ]
  },
  {
   "cell_type": "code",
   "execution_count": null,
   "metadata": {},
   "outputs": [],
   "source": [
    "rhs.TorsionGraph(light=True,fname='rhstaple.png', save=True)"
   ]
  },
  {
   "cell_type": "code",
   "execution_count": null,
   "metadata": {},
   "outputs": [],
   "source": [
    "tors_df = PDB_SS.getTorsions()\n",
    "tors_df.describe()"
   ]
  },
  {
   "cell_type": "code",
   "execution_count": null,
   "metadata": {},
   "outputs": [],
   "source": [
    "ss1 = Disulfide('bogus')\n",
    "ss1.build_model(-60,-60,-84,-60,-60)\n",
    "ss1.pprint()"
   ]
  },
  {
   "cell_type": "code",
   "execution_count": null,
   "metadata": {},
   "outputs": [],
   "source": [
    "PDB_SS['2q7q_75D_140D']"
   ]
  },
  {
   "cell_type": "code",
   "execution_count": null,
   "metadata": {},
   "outputs": [],
   "source": [
    "PDB_SS2 = Load_PDB_SS(subset=True, verbose=True)\n",
    "#PDB_SS.describe()\n"
   ]
  },
  {
   "cell_type": "code",
   "execution_count": null,
   "metadata": {},
   "outputs": [],
   "source": [
    "PDB_SS['5fha']"
   ]
  },
  {
   "cell_type": "code",
   "execution_count": null,
   "metadata": {},
   "outputs": [],
   "source": [
    "PDB_SS2['5fha']"
   ]
  },
  {
   "cell_type": "code",
   "execution_count": null,
   "metadata": {},
   "outputs": [],
   "source": [
    "len(PDB_SS.SSList)\n",
    "PDB_SS.SSList[306]"
   ]
  },
  {
   "cell_type": "code",
   "execution_count": null,
   "metadata": {},
   "outputs": [],
   "source": [
    "best = PDB_SS.get_by_name('2q7q_75D_140D')\n",
    "worst = PDB_SS.get_by_name('1zjk_629A_660A')\n",
    "worst\n",
    "duo = DisulfideList([best, worst], 'bw')\n",
    "duo.display(style='sb')"
   ]
  },
  {
   "cell_type": "code",
   "execution_count": null,
   "metadata": {},
   "outputs": [],
   "source": [
    "totSS_list = PDB_SS.SSList\n",
    "neighbors = best.Torsion_neighbors(totSS_list, 10)\n",
    "PDB_SS = Load_PDB_SS(verbose=False, subset=True)\n",
    "tot = neighbors.length\n",
    "tot\n"
   ]
  },
  {
   "cell_type": "code",
   "execution_count": null,
   "metadata": {},
   "outputs": [],
   "source": [
    "neighbors"
   ]
  },
  {
   "cell_type": "code",
   "execution_count": null,
   "metadata": {},
   "outputs": [],
   "source": []
  },
  {
   "cell_type": "code",
   "execution_count": null,
   "metadata": {},
   "outputs": [],
   "source": [
    "ssbest = PDB_SS['2q7q']\n",
    "ssbest.pprint()"
   ]
  },
  {
   "cell_type": "code",
   "execution_count": null,
   "metadata": {},
   "outputs": [],
   "source": [
    "sslist2 = PDB_SS['3k0v']\n",
    "sslist2"
   ]
  },
  {
   "cell_type": "code",
   "execution_count": null,
   "metadata": {},
   "outputs": [],
   "source": []
  },
  {
   "cell_type": "code",
   "execution_count": null,
   "metadata": {},
   "outputs": [],
   "source": []
  },
  {
   "cell_type": "code",
   "execution_count": null,
   "metadata": {},
   "outputs": [],
   "source": []
  },
  {
   "cell_type": "code",
   "execution_count": null,
   "metadata": {},
   "outputs": [],
   "source": []
  },
  {
   "cell_type": "code",
   "execution_count": null,
   "metadata": {},
   "outputs": [],
   "source": [
    "import py3Dmol\n",
    "import urllib.request\n",
    "\n",
    "import py3Dmol\n",
    "import urllib.request\n",
    "\n",
    "def Odisplay_pdb_structure():\n",
    "    # download PDB structure 3q7q\n",
    "    pdb_url = 'https://files.rcsb.org/download/2q7q.pdb'\n",
    "    pdb_data = urllib.request.urlopen(pdb_url).read().decode('utf-8')\n",
    "\n",
    "    # create viewer object\n",
    "    viewer = py3Dmol.view(width=1024, height=1024)\n",
    "\n",
    "    # add PDB data to viewer\n",
    "    viewer.addModel(pdb_data, 'pdb')\n",
    "\n",
    "    \n",
    "    # select residues 75 and 150 from chain 'D'\n",
    "    sel_str = ':D and (resi 75 or resi 140)'\n",
    "    #viewer.setStyle({'resi': [75, 140], 'chain': 'D'}, {'stick': {'color': 'green', 'radius': 0.6}, 'sphere': {'color': 'green', 'radius': 1}}, sel_str)\n",
    "    viewer.setStyle(sel_str, {'sphere': {'scale': 0.5}, 'color': 'element'})\n",
    "\n",
    "\n",
    "    # display all other residues as a ribbon colored by chain\n",
    "    viewer.setStyle({}, {'cartoon': {'color': 'spectrum'}})\n",
    "\n",
    "    # center and zoom to selection\n",
    "    viewer.zoomTo({'sel': sel_str})\n",
    "    \n",
    "    # show viewer\n",
    "    return viewer.show()\n",
    "\n",
    "import urllib.request\n",
    "import py3Dmol\n",
    "\n",
    "def oodisplay_pdb_structure():\n",
    "    # Download PDB structure 2q7q\n",
    "    pdb_url = \"https://files.rcsb.org/download/2q7q.pdb\"\n",
    "    pdb_file = urllib.request.urlopen(pdb_url).read().decode(\"utf-8\")\n",
    "\n",
    "    # Initialize viewer\n",
    "    view = py3Dmol.view(width=800, height=600)\n",
    "\n",
    "    # Select residues 75 and 140 from chain D\n",
    "    selection = \"(resid 81 or resid 113)\"\n",
    "\n",
    "    # Add selected atoms as spheres scaled by atom radius and colored by atom type\n",
    "    view.addModel(pdb_file, \"pdb\")\n",
    "    view.setStyle(selection, {\"sphere\": {\"scale\": 0.5}, \"color\": \"element\"})\n",
    "\n",
    "    # Display all other residues as a ribbon colored by secondary structure\n",
    "    view.setStyle(\"not \" + selection, {\"cartoon\": {\"color\": \"spectrum\"}})\n",
    "\n",
    "    # Set camera and render the viewer\n",
    "    view.zoomTo(selection)\n",
    "    view.render()\n",
    "\n",
    "import py3Dmol\n",
    "import requests\n",
    "\n",
    "def display_pdb_structure():\n",
    "    # Download PDB structure 2q7q\n",
    "    pdb_id = '2q7q'\n",
    "    pdb_url = f'https://files.rcsb.org/download/{pdb_id}.pdb'\n",
    "    pdb_file = requests.get(pdb_url).text\n",
    "    \n",
    "    # Initialize viewer\n",
    "    view = py3Dmol.view(width=800, height=600)\n",
    "    \n",
    "    # Select residues 75 and 140 from chain D\n",
    "    selection = {'chain': 'D', 'resi': '75, 140'}\n",
    "    \n",
    "    # Add selected atoms as spheres scaled by atom radius and colored by atom type\n",
    "    view.addModel(pdb_file, 'pdb')\n",
    "    view.setStyle(selection, {'sphere': {'scale': 0.5}, 'color': 'element'})\n",
    "    \n",
    "    # Display all other residues as a ribbon colored by secondary structure\n",
    "    view.setStyle({}, {'cartoon': {'color': 'spectrum'}})\n",
    "    \n",
    "    # Set camera and render the viewer\n",
    "    view.zoomTo(selection)\n",
    "    view.render()\n",
    "\n",
    "import requests\n",
    "import py3Dmol\n",
    "\n",
    "def odisplay_cys_residues():\n",
    "    # Download PDB structure 2q7q\n",
    "    pdb_id = '2q7q'\n",
    "    pdb_url = f'https://files.rcsb.org/download/{pdb_id}.pdb'\n",
    "    pdb_file = requests.get(pdb_url).text\n",
    "    \n",
    "    # Initialize viewer\n",
    "    view = py3Dmol.view(width=800, height=800)\n",
    "    \n",
    "    # Select all Cys residues\n",
    "    selection = {'resn': 'CYS'}\n",
    "    \n",
    "    # Add selected atoms as spheres scaled by atom radius and colored green\n",
    "    view.addModel(pdb_file, 'pdb')\n",
    "    view.setStyle(selection, {'sphere': {'scale': 0.5}, 'color': 'green'})\n",
    "    \n",
    "    # Set camera and render the viewer\n",
    "    view.zoomTo(selection)\n",
    "    view.render()\n",
    "\n",
    "\n",
    "import requests\n",
    "import py3Dmol\n",
    "\n",
    "def display_cys_residues():\n",
    "    # Download PDB structure 2q7q\n",
    "    pdb_id = '2q7q'\n",
    "    pdb_url = f'https://files.rcsb.org/download/{pdb_id}.pdb'\n",
    "    pdb_file = requests.get(pdb_url).text\n",
    "\n",
    "    # Initialize viewer\n",
    "    view = py3Dmol.view(width=800, height=600)\n",
    "\n",
    "    # Add protein backbone as ribbon\n",
    "    view.addModel(pdb_file, 'pdb')\n",
    "    view.setStyle({'cartoon': {'color': 'spectrum'}})\n",
    "\n",
    "    # Select all Cys residues and display as green spheres\n",
    "    selection = {'resn': 'CYS'}\n",
    "    view.addStyle(selection, {'sphere': {'color': 'green', 'radius': 0.3}})\n",
    "\n",
    "    # Set camera and render the viewer\n",
    "    view.zoomTo(selection)\n",
    "    view.render()\n",
    "\n",
    "import requests\n",
    "import py3Dmol\n",
    "\n",
    "def display_cys_and_ss_bonds():\n",
    "    # Download PDB structure 2q7q\n",
    "    pdb_id = '2q7q'\n",
    "    pdb_url = f'https://files.rcsb.org/download/{pdb_id}.pdb'\n",
    "    pdb_file = requests.get(pdb_url).text\n",
    "\n",
    "    # Initialize viewer\n",
    "    view = py3Dmol.view(width=800, height=800)\n",
    "\n",
    "    # Add protein as sticks\n",
    "    view.addModel(pdb_file, 'pdb')\n",
    "    #view.setStyle({'stick': {}})\n",
    "\n",
    "    # Select all Cys residues and SSBOND bonds and display as green sticks\n",
    "    cys_selection = {'resn': 'CYS'}\n",
    "    ssbond_selection = {'ss': 'disulf'}\n",
    "    view.addStyle(cys_selection, {'stick': {'colorscheme': 'greenCarbon', 'radius': 0.2}})\n",
    "    view.addStyle(ssbond_selection, {'stick': {'colorscheme': 'greenCarbon', 'radius': 1.0}})\n",
    "\n",
    "    # Set camera and render the viewer\n",
    "    #view.zoomTo(cys_selection)\n",
    "    view.render()\n",
    "\n",
    "import requests\n",
    "import py3Dmol\n",
    "\n",
    "def display_disulfide_bonds():\n",
    "    # Download PDB structure 2q7q\n",
    "    pdb_id = '2q7q'\n",
    "    pdb_url = f'https://files.rcsb.org/download/{pdb_id}.pdb'\n",
    "    pdb_file = requests.get(pdb_url).text\n",
    "\n",
    "    # Initialize viewer\n",
    "    view = py3Dmol.view(width=800, height=600)\n",
    "\n",
    "    # Add protein as sticks\n",
    "    view.addModel(pdb_file, 'pdb')\n",
    "    view.setStyle({'stick': {}})\n",
    "\n",
    "    # Select all disulfide bonds and display as green sticks\n",
    "    ssbond_selection = {'ss': 'disulf'}\n",
    "    view.addStyle(ssbond_selection, {'stick': {'colorscheme': 'greenCarbon', 'radius': 0.2}})\n",
    "\n",
    "    # Set camera and render the viewer\n",
    "    view.zoomTo(ssbond_selection)\n",
    "    view.render()\n",
    "\n",
    "display_disulfide_bonds()\n"
   ]
  },
  {
   "cell_type": "code",
   "execution_count": null,
   "metadata": {},
   "outputs": [],
   "source": [
    "import py3Dmol\n",
    "\n",
    "viewer = py3Dmol.view(query='pdb:2q7q')\n",
    "viewer.setStyle({'cartoon': {}})\n",
    "\n",
    "viewer.setStyle({'chain': 'D', 'resn': 'CYS'},{'stick': {'colorscheme': 'lightgreenCarbon'}})\n",
    "#viewer.addLabel('Chain D', {'fontColor':'orange', 'backgroundColor':'lightgray'}, {'chain': ['D']})\n",
    "ssbond_selection = {'ss': 'disulf'}\n",
    "viewer.addStyle(ssbond_selection, {'stick': {'colorscheme': 'greenCarbon', 'radius': 0.2}})\n",
    "\n",
    "#viewer.setStyle({'resn': 'CYS'},{'stick': {'colorscheme': 'orangeCarbon'}})\n",
    "\n",
    "viewer.show()"
   ]
  },
  {
   "cell_type": "code",
   "execution_count": null,
   "metadata": {},
   "outputs": [],
   "source": [
    "import py3Dmol\n",
    "viewer.show()"
   ]
  },
  {
   "cell_type": "code",
   "execution_count": null,
   "metadata": {},
   "outputs": [],
   "source": [
    "viewer.setStyle({'resn': 'SSBOND'},{'stick': {'colorscheme': 'greenCarbon'}})\n",
    "viewer.show()"
   ]
  },
  {
   "cell_type": "code",
   "execution_count": null,
   "metadata": {},
   "outputs": [],
   "source": []
  },
  {
   "cell_type": "code",
   "execution_count": null,
   "metadata": {},
   "outputs": [],
   "source": [
    "from proteusPy.utility import download_file\n",
    "# Example usage:\n",
    "url = \"https://github.com/suchanek/proteusPy/raw/master/proteusPy/data/PDB_SS_ALL_LOADER.pkl\"\n",
    "directory = \"/tmp\"\n",
    "\n",
    "download_file(url, directory)\n"
   ]
  },
  {
   "cell_type": "code",
   "execution_count": null,
   "metadata": {},
   "outputs": [],
   "source": []
  },
  {
   "cell_type": "code",
   "execution_count": null,
   "metadata": {},
   "outputs": [],
   "source": []
  },
  {
   "cell_type": "code",
   "execution_count": null,
   "metadata": {},
   "outputs": [],
   "source": [
    "from proteusPy.DisulfideList import DisulfideList\n",
    "SSlist = DisulfideList([],'ss','22')\n",
    "newss = load_disulfides_from_id('6z9g', verbose=False)\n",
    "newss.display(light=False)\n",
    "\n"
   ]
  },
  {
   "cell_type": "code",
   "execution_count": null,
   "metadata": {},
   "outputs": [],
   "source": []
  },
  {
   "cell_type": "code",
   "execution_count": null,
   "metadata": {},
   "outputs": [],
   "source": [
    "import pandas as pd\n",
    "import numpy\n",
    "\n",
    "import pyvista as pv\n",
    "from pyvista import set_plot_theme\n",
    "\n",
    "from Bio.PDB import *\n",
    "\n",
    "# for using from the repo we \n",
    "import proteusPy\n",
    "from proteusPy import *\n",
    "from proteusPy.data import *\n",
    "from proteusPy.Disulfide import *\n",
    "from proteusPy.DisulfideList import DisulfideList, load_disulfides_from_id\n",
    "from proteusPy.DisulfideLoader import Load_PDB_SS\n",
    "\n",
    "\n",
    "PDB_SS = None\n",
    "\n",
    "#PDB_SS = DisulfideLoader(verbose=True, subset=False, datadir=DATA_DIR)\n",
    "PDB_SS = Load_PDB_SS(verbose=True, subset=False)\n"
   ]
  },
  {
   "cell_type": "code",
   "execution_count": null,
   "metadata": {},
   "outputs": [],
   "source": [
    "def Average_Resolution(ssloader: DisulfideLoader) -> float:\n",
    "    '''\n",
    "    Compute and return the average structure resolution for the given list.\n",
    "\n",
    "    :return: Average resolution (A)\n",
    "    '''\n",
    "    res_tot = 0.0\n",
    "    cnt = 1\n",
    "    \n",
    "    IDList = ssloader.IDList\n",
    "\n",
    "    for ssid in IDList:\n",
    "        _res = ssloader[ssid].resolution\n",
    "        if _res is not None and _res != -1.0:\n",
    "            res_tot += _res\n",
    "            cnt += 1\n",
    "    return res_tot / cnt\n",
    "\n",
    "      "
   ]
  },
  {
   "cell_type": "code",
   "execution_count": null,
   "metadata": {},
   "outputs": [],
   "source": [
    "PDB_SS['4yys']"
   ]
  },
  {
   "cell_type": "code",
   "execution_count": null,
   "metadata": {},
   "outputs": [],
   "source": [
    "ss1 = PDB_SS['4yys_22A_65A']"
   ]
  },
  {
   "cell_type": "code",
   "execution_count": null,
   "metadata": {},
   "outputs": [],
   "source": [
    "ss1.resolution"
   ]
  },
  {
   "cell_type": "code",
   "execution_count": null,
   "metadata": {},
   "outputs": [],
   "source": [
    "Average_Resolution(PDB_SS)"
   ]
  },
  {
   "cell_type": "code",
   "execution_count": null,
   "metadata": {},
   "outputs": [],
   "source": [
    "PDB_SS2 = Load_PDB_SS(verbose=True, subset=True)"
   ]
  },
  {
   "cell_type": "code",
   "execution_count": null,
   "metadata": {},
   "outputs": [],
   "source": [
    "pdb = DisulfideLoader(verbose=True, subset=False)"
   ]
  },
  {
   "cell_type": "code",
   "execution_count": null,
   "metadata": {},
   "outputs": [],
   "source": [
    "ss = pdb['2q7q_75D_140D']\n",
    "ss"
   ]
  },
  {
   "cell_type": "code",
   "execution_count": null,
   "metadata": {},
   "outputs": [],
   "source": [
    "PDB_SS['4yys']"
   ]
  },
  {
   "cell_type": "code",
   "execution_count": null,
   "metadata": {},
   "outputs": [],
   "source": []
  },
  {
   "cell_type": "code",
   "execution_count": null,
   "metadata": {},
   "outputs": [],
   "source": [
    "sslist = PDB_SS['4yys']\n",
    "sslist"
   ]
  },
  {
   "cell_type": "code",
   "execution_count": null,
   "metadata": {},
   "outputs": [],
   "source": [
    "\n",
    "\n",
    "sslist = PDB_SS.SSList\n",
    "LHS_neighbors = sslist.nearest_neighbors(-60, -60, -90, -60, -60, 20.0)\n",
    "LHS_neighbors.length\n",
    "# modelss = Disulfide('model', proximal=1, distal=2, pdb_id='EGS')\n",
    "# modelss.build_model(-60,-60, -90, -60, -60)\n"
   ]
  },
  {
   "cell_type": "code",
   "execution_count": null,
   "metadata": {},
   "outputs": [],
   "source": [
    "\n",
    "# We use the entire database contained in PDB_SS.SSList for our search here.\n",
    "# The entire database can be scanned in 13 seconds on the M1 Pro Macbook Pro.\n",
    "\n",
    "ssmin_enrg, ssmax_enrg = PDB_SS.SSList.minmax_energy()\n",
    "ssmin_enrg.pprint()\n",
    "ssmax_enrg.pprint()\n",
    "minmax = DisulfideList([ssmin_enrg, ssmax_enrg], 'minmax')\n",
    "#minmax.display()\n"
   ]
  },
  {
   "cell_type": "code",
   "execution_count": null,
   "metadata": {},
   "outputs": [],
   "source": [
    "ssmin_enrg.Torsion_Distance(ssmax_enrg)"
   ]
  },
  {
   "cell_type": "code",
   "execution_count": null,
   "metadata": {},
   "outputs": [],
   "source": [
    "ssmin_enrg.Torsion_Distance(ssmin_enrg)"
   ]
  },
  {
   "cell_type": "code",
   "execution_count": null,
   "metadata": {},
   "outputs": [],
   "source": [
    "import proteusPy\n",
    "from proteusPy.DisulfideLoader import DisulfideLoader\n",
    "from proteusPy.DisulfideList import DisulfideList\n",
    "from proteusPy.Disulfide import Disulfide\n",
    "\n",
    "PDB_SS = None\n",
    "PDB_SS = DisulfideLoader(verbose=False, subset=True)\n",
    "\n",
    "ss_list = DisulfideList([], 'tmp')\n",
    "sslist = PDB_SS.SSList\n",
    "ssmin_enrg, ssmax_enrg = PDB_SS.SSList.minmax_energy()\n",
    "\n",
    "low_energy_neighbors = DisulfideList([],'Neighbors')\n",
    "low_energy_neighbors = ssmin_enrg.Torsion_neighbors(sslist, 10)\n",
    "\n",
    "tot = low_energy_neighbors.length()\n",
    "print(f'Neighbors: {tot}')\n",
    "\n",
    "low_energy_neighbors.display_overlay()"
   ]
  },
  {
   "cell_type": "code",
   "execution_count": null,
   "metadata": {},
   "outputs": [],
   "source": [
    "\n"
   ]
  },
  {
   "cell_type": "code",
   "execution_count": null,
   "metadata": {},
   "outputs": [],
   "source": [
    "drms = low_energy_neighbors.Average_Distance()\n",
    "trms = low_energy_neighbors.Avg_Torsion_Distance()\n",
    "erms = low_energy_neighbors.Average_Energy()\n",
    "\n",
    "print(f'Low Energy Neighbors: {tot}, Distance: {drms:.2f} Torsions: {trms:.2f}, Energy: {erms:.2f}')\n",
    "\n"
   ]
  },
  {
   "cell_type": "code",
   "execution_count": null,
   "metadata": {},
   "outputs": [],
   "source": [
    "low_energy_neighbors.display_overlay()"
   ]
  },
  {
   "cell_type": "code",
   "execution_count": null,
   "metadata": {},
   "outputs": [],
   "source": [
    "high_energy_neighbors = DisulfideList([],'neighbors2')\n",
    "high_energy_neighbors = ssmax_enrg.Torsion_neighbors(sslist, 20)\n",
    "\n",
    "tot2 = high_energy_neighbors.length()\n",
    "print(f'Neighbors: {tot2}')"
   ]
  },
  {
   "cell_type": "code",
   "execution_count": null,
   "metadata": {},
   "outputs": [],
   "source": [
    "drms = high_energy_neighbors.Average_Distance()\n",
    "trms = high_energy_neighbors.Avg_Torsion_Distance()\n",
    "erms = high_energy_neighbors.Average_Energy()\n",
    "\n",
    "print(f'High Energy Neighbors: {tot}, Distance: {drms:.2f} Torsions: {trms:.2f}, Energy: {erms:.2f}')\n",
    "\n"
   ]
  },
  {
   "cell_type": "code",
   "execution_count": null,
   "metadata": {},
   "outputs": [],
   "source": [
    "high_energy_neighbors.display_overlay()\n"
   ]
  },
  {
   "cell_type": "code",
   "execution_count": null,
   "metadata": {},
   "outputs": [],
   "source": [
    "ssmin = Disulfide()\n",
    "ssmax = Disulfide()\n",
    "\n",
    "ssmin, ssmax = sslist.minmax_distance()\n",
    "ssmin.pprint()\n",
    "ssmax.pprint()\n",
    "\n",
    "minmax = DisulfideList([ssmin, ssmax], 'minmax')\n",
    "minmax.display()"
   ]
  },
  {
   "cell_type": "code",
   "execution_count": null,
   "metadata": {},
   "outputs": [],
   "source": [
    "\n",
    "# one disulfide from the database\n",
    "ss = Disulfide()\n",
    "ss = PDB_SS[0]\n",
    "#ss.pprint_all()\n",
    "\n",
    "# get all disulfides for one structure. Make a \n",
    "# DisulfideList object to hold it\n",
    "ss4yys = DisulfideList([], '4yys')\n",
    "ss4yys = PDB_SS['4yys']\n",
    "\n",
    "#ss4crn = DisulfideList([], '1crn')\n",
    "#ss4crn = PDB_SS['1crn']\n",
    "\n",
    "tot_ss = len(ss4yys) # number off ssbonds\n",
    "print(f'tot {tot_ss}')\n"
   ]
  },
  {
   "cell_type": "code",
   "execution_count": null,
   "metadata": {},
   "outputs": [],
   "source": [
    "print(f'{ss4yys.Torsion_Distance()}')"
   ]
  },
  {
   "cell_type": "code",
   "execution_count": null,
   "metadata": {},
   "outputs": [],
   "source": [
    "sslist = PDB_SS.SSList\n",
    "tors= sslist.torsion_df\n",
    "tors.head()"
   ]
  },
  {
   "cell_type": "code",
   "execution_count": null,
   "metadata": {},
   "outputs": [],
   "source": [
    "ca_df = sslist.distance_df\n",
    "ca_df.head(10)"
   ]
  },
  {
   "cell_type": "code",
   "execution_count": null,
   "metadata": {},
   "outputs": [],
   "source": [
    "ss6fuf = PDB_SS['6fuf']\n"
   ]
  },
  {
   "cell_type": "code",
   "execution_count": null,
   "metadata": {},
   "outputs": [],
   "source": [
    "ss1 = ss4yys.get_by_name('4yys_22A_65A')\n",
    "ss1"
   ]
  },
  {
   "cell_type": "code",
   "execution_count": null,
   "metadata": {},
   "outputs": [],
   "source": [
    "ss4yys_a = ss4yys.by_chain('A')\n",
    "ss4yys_a.Torsion_Distance()\n"
   ]
  },
  {
   "cell_type": "code",
   "execution_count": null,
   "metadata": {},
   "outputs": [],
   "source": [
    "ss4yys_b = ss4yys.by_chain('B')\n",
    "ss4yys_b.Torsion_Distance()"
   ]
  },
  {
   "cell_type": "code",
   "execution_count": null,
   "metadata": {},
   "outputs": [],
   "source": [
    "ss4yys_a1 = ss4yys_a[0]\n",
    "# print(ss4yys_a1.repr_ss_coords())\n"
   ]
  },
  {
   "cell_type": "code",
   "execution_count": null,
   "metadata": {},
   "outputs": [],
   "source": [
    "ss4yys_b1 = ss4yys_b[0]\n",
    "ss4yys_b1"
   ]
  },
  {
   "cell_type": "code",
   "execution_count": null,
   "metadata": {},
   "outputs": [],
   "source": [
    "ss4yys_a1.Distance_RMS(ss4yys_b1)"
   ]
  },
  {
   "cell_type": "code",
   "execution_count": null,
   "metadata": {},
   "outputs": [],
   "source": [
    "ss4yys_a1.Torsion_Distance(ss4yys_b1)"
   ]
  },
  {
   "cell_type": "code",
   "execution_count": null,
   "metadata": {},
   "outputs": [],
   "source": [
    "ss4yys_a1 == ss4yys_b1"
   ]
  },
  {
   "cell_type": "code",
   "execution_count": null,
   "metadata": {},
   "outputs": [],
   "source": [
    "chns = ss4yys.get_chains()\n",
    "ss4yys.has_chain('yyy')\n",
    "chns"
   ]
  },
  {
   "cell_type": "code",
   "execution_count": null,
   "metadata": {},
   "outputs": [],
   "source": [
    "# load SS bonds by PDB ID\n",
    "ss1 = PDB_SS['4yys']\n",
    "print(ss1)\n",
    "print(ss1[0].get_full_id())\n"
   ]
  },
  {
   "cell_type": "code",
   "execution_count": null,
   "metadata": {},
   "outputs": [],
   "source": [
    "# you can loop over the IDList list and extract by ID\n",
    "#\n",
    "for id in PDB_SS.IDList[:5]:    # just show last 5\n",
    "    # get the SS bonds for the given ID\n",
    "    ssb = PDB_SS[id]\n",
    "    numb_ss = len(ssb)\n",
    "    print(f'ID: {id} has {numb_ss} Disulfides:')\n",
    "    for bond in ssb:\n",
    "        print(bond)\n",
    "    print('\\n')\n",
    "    "
   ]
  },
  {
   "cell_type": "code",
   "execution_count": null,
   "metadata": {},
   "outputs": [],
   "source": [
    "ss_list = PDB_SS.getlist()\n",
    "ss0 = ss_list[0]\n",
    "\n",
    "print(ss0.proximal_residue_fullid)\n",
    "print(ss0.chi3)\n",
    "len(ss_list)\n"
   ]
  },
  {
   "cell_type": "code",
   "execution_count": null,
   "metadata": {},
   "outputs": [],
   "source": [
    "# routine creates 2 lists  for left-handed and right-handed disulfides \n",
    "ss_list = PDB_SS.getlist()\n",
    "left_handed = DisulfideList([], 'left_handed')\n",
    "right_handed = DisulfideList([], 'right_handed')\n",
    "\n",
    "i = 0\n",
    "\n",
    "for i in range(len(ss_list)):\n",
    "    ss = ss_list[i]\n",
    "    if ss.chi3 < 0:\n",
    "        left_handed.append(ss)\n",
    "    else:\n",
    "        right_handed.append(ss)\n",
    "\n",
    "\n",
    "print(f'Left Handed: {len(left_handed)}, Right Handed: {len(right_handed)}')\n",
    "\n"
   ]
  },
  {
   "cell_type": "code",
   "execution_count": null,
   "metadata": {},
   "outputs": [],
   "source": [
    "from proteusPy.Disulfide import Disulfide\n",
    "\n",
    "# make some empty disulfides\n",
    "ss1 = Disulfide('ss1')\n",
    "ss2 = Disulfide('ss2')\n",
    "\n",
    "# make a DisulfideList containing ss1, named 'tmp'\n",
    "sslist = DisulfideList([ss1], 'tmp')\n",
    "sslist.append(ss2)\n",
    "\n",
    "# load the PDB Disulfide database\n",
    "PDB_SS = None\n",
    "PDB_SS = DisulfideLoader(verbose=True, subset=True)\n",
    "\n",
    "# extract a disulfide with typical index\n",
    "ss1 = PDB_SS[0]\n",
    "#print(f'{ss1.pprint_all()}')\n",
    "\n",
    "# grab a subset via slicing\n",
    "subset = DisulfideList(PDB_SS[0:10],'subset')"
   ]
  },
  {
   "cell_type": "code",
   "execution_count": null,
   "metadata": {},
   "outputs": [],
   "source": [
    "rms = subset.Torsion_Distance()\n",
    "rms"
   ]
  },
  {
   "cell_type": "code",
   "execution_count": null,
   "metadata": {},
   "outputs": [],
   "source": [
    "torsions = PDB_SS.getTorsions()\n",
    "torsions.sort_values(by=['energy'], ascending=False, inplace=True)\n",
    "\n",
    "torsions.head(10)"
   ]
  },
  {
   "cell_type": "code",
   "execution_count": null,
   "metadata": {},
   "outputs": [],
   "source": [
    "idx_max = int(torsions['energy'].idxmax())\n",
    "print(f'IDMAX: {idx_max}')\n",
    "ssmax = PDB_SS[idx_max]\n",
    "ssmax"
   ]
  },
  {
   "cell_type": "code",
   "execution_count": null,
   "metadata": {},
   "outputs": [],
   "source": [
    "toget = 200\n",
    "\n",
    "badlist = torsions['ss_id']\n",
    "\n",
    "bad_SS_list = DisulfideList([],'20 top high energy')\n",
    "ss = Disulfide()\n",
    "\n",
    "for i in range(toget):\n",
    "    ssid = torsions.iloc[i]['ss_id']\n",
    "    ss = PDB_SS.get_by_name(ssid)\n",
    "    #print(f'ID: {ss.name}: {ss.energy:.2f} kcal/mol CA: {ss.ca_distance:.2f}')\n",
    "    bad_SS_list.append(ss)\n",
    "\n"
   ]
  },
  {
   "cell_type": "code",
   "execution_count": null,
   "metadata": {},
   "outputs": [],
   "source": [
    "\n",
    "tors_bad_rms = bad_SS_list.Torsion_Distance()\n",
    "tors_bad_rms"
   ]
  },
  {
   "cell_type": "code",
   "execution_count": null,
   "metadata": {},
   "outputs": [],
   "source": [
    "goodlist = torsions['ss_id']\n",
    "\n",
    "good_SS_list = DisulfideList([],'20 top low energy')\n",
    "ss = Disulfide()\n",
    "\n",
    "for i in range(toget):\n",
    "    if i == 0:\n",
    "        continue\n",
    "    \n",
    "    ssid = torsions.iloc[-i]['ss_id']\n",
    "    ss = PDB_SS.get_by_name(ssid)\n",
    "    #print(f'ID: {ss.name}: {ss.energy:.2f} kcal/mol CA: {ss.ca_distance:.2f}')\n",
    "    good_SS_list.append(ss)\n"
   ]
  },
  {
   "cell_type": "code",
   "execution_count": null,
   "metadata": {},
   "outputs": [],
   "source": [
    "\n",
    "tors_good_rms = good_SS_list.Torsion_Distance()\n",
    "tors_good_rms"
   ]
  },
  {
   "cell_type": "code",
   "execution_count": null,
   "metadata": {},
   "outputs": [],
   "source": [
    "from scipy.spatial import distance_matrix\n",
    "\n",
    "good_array = good_SS_list.get_torsion_array()\n",
    "bad_array = bad_SS_list.get_torsion_array()\n",
    "good_array.shape"
   ]
  },
  {
   "cell_type": "code",
   "execution_count": null,
   "metadata": {},
   "outputs": [],
   "source": [
    "\n",
    "dm1 = distance_matrix(good_array, good_array)\n",
    "dm2 = distance_matrix(bad_array, bad_array)\n",
    "\n"
   ]
  },
  {
   "cell_type": "code",
   "execution_count": null,
   "metadata": {},
   "outputs": [],
   "source": [
    "import numpy as np\n",
    "\n",
    "def EDM(A, B):\n",
    "    p1 = np.sum(A**2, axis=1)[:, np.newaxis]\n",
    "    p2 = np.sum(B**2, axis=1)\n",
    "    p3 = -2 * np.dot(A, B.T)\n",
    "    res = p1 + p2 + p3\n",
    "    #res = numpy.sqrt(res)\n",
    "    return res\n"
   ]
  },
  {
   "cell_type": "code",
   "execution_count": null,
   "metadata": {},
   "outputs": [],
   "source": [
    "dm3 = np.sqrt(dm2)"
   ]
  },
  {
   "cell_type": "code",
   "execution_count": null,
   "metadata": {},
   "outputs": [],
   "source": [
    "import plotly_express as px\n",
    "fig = px.imshow(dm1)\n",
    "fig.show()"
   ]
  },
  {
   "cell_type": "code",
   "execution_count": null,
   "metadata": {},
   "outputs": [],
   "source": [
    "import plotly_express as px\n",
    "fig = px.imshow(dm2)\n",
    "fig.show()"
   ]
  },
  {
   "cell_type": "code",
   "execution_count": null,
   "metadata": {},
   "outputs": [],
   "source": [
    "dm1.shape\n",
    "dm1"
   ]
  },
  {
   "cell_type": "code",
   "execution_count": null,
   "metadata": {},
   "outputs": [],
   "source": [
    "df = pd.DataFrame(dm1.copy())\n",
    "df.describe()"
   ]
  },
  {
   "cell_type": "code",
   "execution_count": null,
   "metadata": {},
   "outputs": [],
   "source": [
    "x = np.arange(0,20, 20)\n",
    "y = np.arange(0,20, 20)\n",
    "z = dm1\n",
    "x, y = np.meshgrid(x, y)\n"
   ]
  },
  {
   "cell_type": "code",
   "execution_count": null,
   "metadata": {},
   "outputs": [],
   "source": [
    "# Create and plot structured grid\n",
    "grid = pv.StructuredGrid(x, y, z)\n",
    "grid.plot()"
   ]
  },
  {
   "cell_type": "code",
   "execution_count": null,
   "metadata": {},
   "outputs": [],
   "source": [
    "def doit(tot_ss):\n",
    "    brad = BOND_RADIUS * (1 - ((tot_ss / 10)) / 50)\n",
    "    return brad\n",
    "\n"
   ]
  },
  {
   "cell_type": "code",
   "execution_count": null,
   "metadata": {},
   "outputs": [],
   "source": [
    "doit(51)"
   ]
  },
  {
   "attachments": {},
   "cell_type": "markdown",
   "metadata": {},
   "source": [
    "### Disulfide Families"
   ]
  },
  {
   "cell_type": "code",
   "execution_count": null,
   "metadata": {},
   "outputs": [],
   "source": [
    "import proteusPy\n",
    "from proteusPy import DisulfideLoader\n",
    "from proteusPy.Disulfide import Disulfide\n",
    "from proteusPy.DisulfideList import DisulfideList\n",
    "\n",
    "PDB_SS = DisulfideLoader(verbose=True, subset=True, datadir='/Users/egs/pdb/data/')\n",
    "\n"
   ]
  },
  {
   "cell_type": "code",
   "execution_count": null,
   "metadata": {},
   "outputs": [],
   "source": [
    "PDB_SS.SSDict"
   ]
  },
  {
   "cell_type": "code",
   "execution_count": null,
   "metadata": {},
   "outputs": [],
   "source": [
    "PDB_SS['4yys']"
   ]
  },
  {
   "cell_type": "code",
   "execution_count": null,
   "metadata": {},
   "outputs": [],
   "source": [
    "\n",
    "# retrieve the torsions dataframe\n",
    "from proteusPy.Disulfide import Torsion_DF_Cols\n",
    "\n",
    "_SSdf = PDB_SS.getTorsions()\n",
    "_near = _SSdf['ca_distance'] < 9.0\n",
    "# there are a few structures with bad SSBonds. Their\n",
    "# CA distances are > 7.0. We remove them from consideration\n",
    "# below\n",
    "\n",
    "SS_df = _SSdf[_near]\n",
    "SS_df = SS_df[Torsion_DF_Cols].copy()\n",
    "\n",
    "\n",
    "_cols = ['chi1', 'chi2', 'chi3', 'chi4', 'chi5']\n",
    "X = SS_df[_cols].copy()\n",
    "tot = X.shape[0]\n",
    "\n",
    "tors = X.to_numpy()\n"
   ]
  },
  {
   "cell_type": "code",
   "execution_count": null,
   "metadata": {},
   "outputs": [],
   "source": [
    "# chat gpt generated\n",
    "import numpy as np\n",
    "from sklearn.neighbors import KDTree\n",
    "\n",
    "def nearest_neighbors(samples):\n",
    "    # Sample the 5-dimensional vector space\n",
    "    \n",
    "    # Build a KDTree from the samples\n",
    "    tree = KDTree(samples, leafsize=40)\n",
    "    \n",
    "    # Find the nearest neighbors for each sample\n",
    "    distances, indices = tree.query(samples, k=5)\n",
    "    \n",
    "    # The first nearest neighbor of each sample is the sample itself, so we can ignore that\n",
    "    nearest_neighbors = indices[:, 1]\n",
    "    distances = distances[:, 1]\n",
    "    \n",
    "    return nearest_neighbors, distances\n",
    "\n",
    "def nearest_neighbors_radial(samples, radius):\n",
    "    '''\n",
    "    Find the neighbors for the given array of torsions using KDTree.\n",
    "\n",
    "    :param samples: Neighbor array\n",
    "    :param radius: Search radius (degrees)\n",
    "    :return: List of indices for neighbors within the cutoff\n",
    "    '''\n",
    "        \n",
    "    # Build a KDTree from the samples\n",
    "    tree = KDTree(samples, leaf_size=40)\n",
    "    \n",
    "    # Find the nearest neighbors for each sample\n",
    "    indices = tree.query_radius(samples, r=radius)  \n",
    "    \n",
    "    # The first nearest neighbor of each sample is the sample itself, so we can ignore that\n",
    "    # nearest_neighbors = indices[:, 1]\n",
    "    nearest_neighbors = indices\n",
    "    return nearest_neighbors\n",
    "\n",
    "def build_SSlist(loader: DisulfideLoader, indices) -> DisulfideList:\n",
    "    '''\n",
    "    For a given ```DisulfideLoader``` and list of Disulfide indices return the Disulfides in a DisulfideList\n",
    "\n",
    "    :param indices: List of SS by index\n",
    "    :return: DisulfideList of SS\n",
    "    '''\n",
    "    res = DisulfideList([],'tmp')\n",
    "    sslist = loader.SSList\n",
    "\n",
    "    tot = len(indices)\n",
    "    res = DisulfideList([sslist[indices[i]] for i in range(tot)], 'tmp')\n",
    "    return res\n",
    "\n"
   ]
  },
  {
   "cell_type": "code",
   "execution_count": null,
   "metadata": {},
   "outputs": [],
   "source": [
    "#\n",
    "\n",
    "_cols = ['chi1', 'chi2', 'chi3', 'chi4', 'chi5']\n",
    "tor_df = SS_df[_cols].copy()\n",
    "\n",
    "X = tor_df.copy()\n",
    "tot = X.shape[0]\n",
    "\n",
    "tors = X.to_numpy()\n",
    "\n",
    "nneighbors  = nearest_neighbors_radial(X, radius=20)\n",
    "print(f'{len(nneighbors)}')\n"
   ]
  },
  {
   "cell_type": "code",
   "execution_count": null,
   "metadata": {},
   "outputs": [],
   "source": [
    "from tqdm import tqdm\n",
    "\n",
    "# for each SS, build a list of neighbors\n",
    "neighbor_list = []\n",
    "\n",
    "pbar = tqdm(range(nneighbors.shape[0]))\n",
    "\n",
    "for i in pbar:\n",
    "    neigh = nneighbors[i]\n",
    "    res = build_SSlist(PDB_SS, neigh)\n",
    "    neighbor_list.append(res)\n"
   ]
  },
  {
   "cell_type": "code",
   "execution_count": null,
   "metadata": {},
   "outputs": [],
   "source": [
    "# for the neighbor list,"
   ]
  },
  {
   "cell_type": "code",
   "execution_count": null,
   "metadata": {},
   "outputs": [],
   "source": [
    "import numpy as np\n",
    "from sklearn.neighbors import KDTree\n",
    "\n",
    "tree = KDTree(X, leaf_size=2)              \n",
    "dist, ind = tree.query(X, k=5)                \n",
    "print(ind)  # indices of 3 closest neighbors\n",
    "\n",
    "print(dist)  # distances to 3 closest neighbors\n"
   ]
  },
  {
   "cell_type": "code",
   "execution_count": null,
   "metadata": {},
   "outputs": [],
   "source": [
    "from sklearn.neighbors import KDTree\n",
    "tree = KDTree(X, leaf_size=3)     \n",
    "print(tree.query_radius(X[:1], r=10, count_only=True))\n",
    "\n",
    "ind = tree.query_radius(X[:1], r=10)  \n",
    "print(ind)  # indices of neighbors within distance 0.3\n"
   ]
  },
  {
   "cell_type": "code",
   "execution_count": null,
   "metadata": {},
   "outputs": [],
   "source": [
    "import numpy as np\n",
    "rng = np.random.RandomState(42)\n",
    "tree = KDTree(X)                \n",
    "tree.kernel_density(X[:5], h=0.5, kernel='gaussian')\n"
   ]
  },
  {
   "cell_type": "code",
   "execution_count": null,
   "metadata": {},
   "outputs": [],
   "source": [
    "import pandas as pd\n",
    "\n",
    "df = pd.read_csv(\"classes.csv\")\n",
    "with open(\"classes.md\", 'w') as md:\n",
    "  df.to_markdown(buf=md, tablefmt=\"grid\")"
   ]
  },
  {
   "cell_type": "code",
   "execution_count": null,
   "metadata": {},
   "outputs": [],
   "source": [
    "help(fig.update_traces)"
   ]
  },
  {
   "cell_type": "code",
   "execution_count": null,
   "metadata": {},
   "outputs": [],
   "source": [
    "import proteusPy\n",
    "from proteusPy import *\n",
    "from proteusPy.utility import image_to_ascii_art\n",
    "\n",
    "image_to_ascii_art(\"logo_flat.png\", 120)"
   ]
  },
  {
   "cell_type": "code",
   "execution_count": null,
   "metadata": {},
   "outputs": [],
   "source": [
    "proteusPy.__version__"
   ]
  }
 ],
 "metadata": {
  "kernelspec": {
   "display_name": "Proteus",
   "language": "python",
   "name": "proteus"
  },
  "language_info": {
   "codemirror_mode": {
    "name": "ipython",
    "version": 3
   },
   "file_extension": ".py",
   "mimetype": "text/x-python",
   "name": "python",
   "nbconvert_exporter": "python",
   "pygments_lexer": "ipython3",
   "version": "3.9.15"
  },
  "orig_nbformat": 4,
  "vscode": {
   "interpreter": {
    "hash": "2e049c0f63e6b330ae815ad1049a36d20686725ba1cc68cc0aadee0375e172d1"
   }
  }
 },
 "nbformat": 4,
 "nbformat_minor": 2
}
