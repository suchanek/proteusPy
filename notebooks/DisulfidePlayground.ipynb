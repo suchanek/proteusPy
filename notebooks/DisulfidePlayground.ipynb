{
 "cells": [
  {
   "cell_type": "code",
   "execution_count": null,
   "metadata": {},
   "outputs": [],
   "source": []
  },
  {
   "cell_type": "code",
   "execution_count": 1,
   "metadata": {},
   "outputs": [],
   "source": [
    "# DisulfideBond Playground\n",
    "# Playing with the DisulfideBond class\n",
    "# Author: Eric G. Suchanek, PhD.\n",
    "# (c) 2022 Eric G. Suchanek, PhD., All Rights Reserved\n",
    "# License: BSD\n",
    "# Last Modification: 12/12/22\n",
    "# Cα Cβ Sγ\n",
    "\n",
    "from Bio.PDB import *\n",
    "\n",
    "%matplotlib inline\n",
    "import matplotlib.pyplot as plt\n",
    "import pandas as pd\n",
    "\n",
    "# location for PDB repository\n",
    "PDB_ORIG = '/Users/egs/PDB/'\n",
    "\n",
    "# location of cleaned PDB files\n",
    "PDB = '/Users/egs/PDB/good/'\n",
    "\n",
    "# location of the compressed Disulfide .pkl files\n",
    "MODELS = f'{PDB_ORIG}models/'\n",
    "\n",
    "\n",
    "from proteusPy import *\n",
    "from proteusPy.disulfide import *\n"
   ]
  },
  {
   "cell_type": "markdown",
   "metadata": {},
   "source": []
  },
  {
   "cell_type": "code",
   "execution_count": 4,
   "metadata": {},
   "outputs": [
    {
     "name": "stdout",
     "output_type": "stream",
     "text": [
      "Reading disulfides from: /Users/egs/PDB/models/PDB_all_ss.pkl\n",
      "Disulfides Read: 294478\n",
      "Reading disulfide dict from: /Users/egs/PDB/models/PDB_all_ss_dict.pkl\n",
      "Reading Torsion DF /Users/egs/PDB/models/PDB_SS_torsions.csv.\n",
      "Read torsions DF.\n",
      "PDB IDs parsed: 36362\n",
      "Total Space Used: 63715674 bytes.\n"
     ]
    }
   ],
   "source": [
    "# Comment these out since they take so long.\n",
    "# DownloadDisulfides(pdb_home=PDB_ORIG, model_home=MODELS, reset=False)\n",
    "# DisulfideExtractor(numb=-1, pdbdir=PDB, modeldir=MODELS, verbose=False, quiet=True)\n",
    "\n",
    "PDB_SS = None\n",
    "PDB_SS = DisulfideLoader(verbose=True, modeldir=MODELS)\n",
    "\n",
    "ss_list = DisulfideList([], 'tmp')\n"
   ]
  },
  {
   "cell_type": "code",
   "execution_count": 5,
   "metadata": {},
   "outputs": [
    {
     "name": "stdout",
     "output_type": "stream",
     "text": [
      "<Disulfide 4yys_22A_65A SourceID: 4yys Proximal: 22 A Distal: 65 A>\n"
     ]
    }
   ],
   "source": [
    "ss1 = PDB_SS[0]\n",
    "print(ss1)\n",
    "ss2 = PDB_SS['4yys']\n",
    "#print(ss2)"
   ]
  },
  {
   "cell_type": "code",
   "execution_count": 6,
   "metadata": {},
   "outputs": [
    {
     "name": "stdout",
     "output_type": "stream",
     "text": [
      "[<Disulfide 4yys_22A_65A SourceID: 4yys Proximal: 22 A Distal: 65 A>, <Disulfide 4yys_56A_98A SourceID: 4yys Proximal: 56 A Distal: 98 A>, <Disulfide 4yys_156A_207A SourceID: 4yys Proximal: 156 A Distal: 207 A>, <Disulfide 4yys_22B_65B SourceID: 4yys Proximal: 22 B Distal: 65 B>, <Disulfide 4yys_56B_98B SourceID: 4yys Proximal: 56 B Distal: 98 B>, <Disulfide 4yys_156B_207B SourceID: 4yys Proximal: 156 B Distal: 207 B>]\n"
     ]
    }
   ],
   "source": [
    "# load SS bonds by PDB ID\n",
    "ss1 = PDB_SS['4yys']\n",
    "print(ss1)\n"
   ]
  },
  {
   "cell_type": "code",
   "execution_count": 7,
   "metadata": {},
   "outputs": [
    {
     "name": "stdout",
     "output_type": "stream",
     "text": [
      "ID: 4yys has 6 Disulfides:\n",
      "<Disulfide 4yys_22A_65A SourceID: 4yys Proximal: 22 A Distal: 65 A>\n",
      "<Disulfide 4yys_56A_98A SourceID: 4yys Proximal: 56 A Distal: 98 A>\n",
      "<Disulfide 4yys_156A_207A SourceID: 4yys Proximal: 156 A Distal: 207 A>\n",
      "<Disulfide 4yys_22B_65B SourceID: 4yys Proximal: 22 B Distal: 65 B>\n",
      "<Disulfide 4yys_56B_98B SourceID: 4yys Proximal: 56 B Distal: 98 B>\n",
      "<Disulfide 4yys_156B_207B SourceID: 4yys Proximal: 156 B Distal: 207 B>\n",
      "\n",
      "\n",
      "ID: 1j5h has 2 Disulfides:\n",
      "<Disulfide 1j5h_37A_47A SourceID: 1j5h Proximal: 37 A Distal: 47 A>\n",
      "<Disulfide 1j5h_88A_93A SourceID: 1j5h Proximal: 88 A Distal: 93 A>\n",
      "\n",
      "\n",
      "ID: 1mfe has 1 Disulfides:\n",
      "<Disulfide 1mfe_137L_196L SourceID: 1mfe Proximal: 137 L Distal: 196 L>\n",
      "\n",
      "\n",
      "ID: 1chv has 4 Disulfides:\n",
      "<Disulfide 1chv_3S_21S SourceID: 1chv Proximal: 3 S Distal: 21 S>\n",
      "<Disulfide 1chv_14S_38S SourceID: 1chv Proximal: 14 S Distal: 38 S>\n",
      "<Disulfide 1chv_42S_53S SourceID: 1chv Proximal: 42 S Distal: 53 S>\n",
      "<Disulfide 1chv_54S_59S SourceID: 1chv Proximal: 54 S Distal: 59 S>\n",
      "\n",
      "\n",
      "ID: 6fuf has 2 Disulfides:\n",
      "<Disulfide 6fuf_2A_282A SourceID: 6fuf Proximal: 2 A Distal: 282 A>\n",
      "<Disulfide 6fuf_110A_187A SourceID: 6fuf Proximal: 110 A Distal: 187 A>\n",
      "\n",
      "\n"
     ]
    }
   ],
   "source": [
    "# you can loop over the IDList list and extract by ID\n",
    "#\n",
    "for id in PDB_SS.IDList[:5]:    # just show last 5\n",
    "    # get the SS bonds for the given ID\n",
    "    ssb = PDB_SS[id]\n",
    "    numb_ss = len(ssb)\n",
    "    print(f'ID: {id} has {numb_ss} Disulfides:')\n",
    "    for bond in ssb:\n",
    "        print(bond)\n",
    "    print('\\n')\n",
    "    "
   ]
  },
  {
   "cell_type": "code",
   "execution_count": 8,
   "metadata": {},
   "outputs": [
    {
     "name": "stdout",
     "output_type": "stream",
     "text": [
      "('4yys', 0, 'A', (' ', 22, ' '))\n"
     ]
    }
   ],
   "source": [
    "ss_list = PDB_SS.getlist()\n",
    "ss0 = ss_list[0]\n",
    "\n",
    "print(ss0.proximal_residue_fullid)\n"
   ]
  },
  {
   "cell_type": "code",
   "execution_count": null,
   "metadata": {},
   "outputs": [],
   "source": []
  },
  {
   "cell_type": "code",
   "execution_count": null,
   "metadata": {},
   "outputs": [],
   "source": []
  }
 ],
 "metadata": {
  "kernelspec": {
   "display_name": "Python 3.8.13 ('bio')",
   "language": "python",
   "name": "python3"
  },
  "language_info": {
   "codemirror_mode": {
    "name": "ipython",
    "version": 3
   },
   "file_extension": ".py",
   "mimetype": "text/x-python",
   "name": "python",
   "nbconvert_exporter": "python",
   "pygments_lexer": "ipython3",
   "version": "3.8.13 | packaged by conda-forge | (default, Mar 25 2022, 06:05:16) \n[Clang 12.0.1 ]"
  },
  "orig_nbformat": 4,
  "vscode": {
   "interpreter": {
    "hash": "2e049c0f63e6b330ae815ad1049a36d20686725ba1cc68cc0aadee0375e172d1"
   }
  }
 },
 "nbformat": 4,
 "nbformat_minor": 2
}
