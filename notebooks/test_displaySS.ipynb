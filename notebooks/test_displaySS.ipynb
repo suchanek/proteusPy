{
 "cells": [
  {
   "cell_type": "code",
   "execution_count": 1,
   "metadata": {},
   "outputs": [],
   "source": [
    "# Disulfide Bond Display Test\n",
    "# Author: Eric G. Suchanek, PhD.\n",
    "# Last revision: 2/18/24 -egs-\n",
    "\n",
    "import pandas as pd\n",
    "from proteusPy.Disulfide import Disulfide\n",
    "from proteusPy.DisulfideLoader import Load_PDB_SS\n",
    "from proteusPy.DisulfideList import DisulfideList\n",
    "\n",
    "import pyvista as pv\n",
    "from pyvista import set_plot_theme\n",
    "\n",
    "TMP = \"/tmp/\"\n",
    "\n",
    "\n",
    "def SS_DisplayTest(ss: Disulfide):\n",
    "    ss.display(style=\"bs\", single=True)\n",
    "    ss.display(style=\"cpk\", single=True)\n",
    "    ss.display(style=\"sb\", single=True)\n",
    "    ss.display(style=\"pd\", single=False)\n",
    "    ss.screenshot(\n",
    "        style=\"cpk\", single=True, fname=f\"{TMP}cpk3.png\", verbose=True\n",
    "    )\n",
    "    ss.screenshot(style=\"sb\", single=False, fname=f\"{TMP}sb3.png\", verbose=True)\n",
    "    print(\"--> SS_DisplayTest done.\")\n",
    "    return\n",
    "\n",
    "\n",
    "def SSlist_DisplayTest(sslist):\n",
    "    sslist.display(style=\"cpk\")\n",
    "    sslist.display(style=\"bs\")\n",
    "    sslist.display(style=\"sb\")\n",
    "    sslist.display(style=\"pd\")\n",
    "    sslist.display(style=\"plain\")\n",
    "    sslist.display_overlay(movie=True, fname=f\"{TMP}overlay.mp4\")\n",
    "    sslist.display_overlay(movie=False)\n",
    "    sslist.screenshot(style=\"sb\", fname=f\"{TMP}sslist.png\")\n",
    "    print(\"--> SS_DisplayTest done.\")\n",
    "\n",
    "\n",
    "def main():\n",
    "    PDB_SS = None\n",
    "    PDB_SS = Load_PDB_SS(verbose=True, subset=False)\n",
    "\n",
    "    # one disulfide from the database\n",
    "    ss = Disulfide()\n",
    "    ss = PDB_SS[0]\n",
    "\n",
    "    SS_DisplayTest(ss)\n",
    "\n",
    "    # get all disulfides for one structure. Make a\n",
    "    # DisulfideList object to hold it\n",
    "\n",
    "    ss4yss = DisulfideList([], \"4yss\")\n",
    "    ss4yss = PDB_SS[\"4yys\"]\n",
    "\n",
    "    SSlist_DisplayTest(ss4yss)\n",
    "\n",
    "    sslist = DisulfideList([], \"last12\")\n",
    "    print(\"Getting last 12\")\n",
    "\n",
    "    sslist = PDB_SS[:12]\n",
    "    SSlist_DisplayTest(sslist)\n",
    "\n",
    "    return"
   ]
  },
  {
   "cell_type": "code",
   "execution_count": 2,
   "metadata": {},
   "outputs": [
    {
     "name": "stdout",
     "output_type": "stream",
     "text": [
      "-> load_PDB_SS(): Reading /Users/egs/repos/proteusPy/proteusPy/data/PDB_SS_ALL_LOADER.pkl... \n",
      "-> load_PDB_SS(): Done reading /Users/egs/repos/proteusPy/proteusPy/data/PDB_SS_ALL_LOADER.pkl... \n",
      "Getting last 12\n"
     ]
    },
    {
     "name": "stderr",
     "output_type": "stream",
     "text": [
      "/Users/egs/repos/proteusPy/.venv/lib/python3.12/site-packages/trame_vuetify/widgets/vuetify.py:495: SyntaxWarning: invalid escape sequence '\\|'\n",
      "  \"\"\"\n"
     ]
    },
    {
     "data": {
      "application/vnd.jupyter.widget-view+json": {
       "model_id": "0087cb73c38744458c776867e543df37",
       "version_major": 2,
       "version_minor": 0
      },
      "text/plain": [
       "Widget(value='<iframe src=\"http://localhost:57765/index.html?ui=P_0x2ac89aae0_1&reconnect=auto\" class=\"pyvista…"
      ]
     },
     "metadata": {},
     "output_type": "display_data"
    }
   ],
   "source": [
    "PDB_SS = Load_PDB_SS(verbose=True)\n",
    "sslist = DisulfideList([], \"last12\")\n",
    "print(\"Getting last 12\")\n",
    "\n",
    "sslist = PDB_SS[:12]\n",
    "sslist.display(style=\"sb\")"
   ]
  },
  {
   "cell_type": "code",
   "execution_count": null,
   "metadata": {},
   "outputs": [],
   "source": []
  }
 ],
 "metadata": {
  "kernelspec": {
   "display_name": "ppydev (0.96.0)",
   "language": "python",
   "name": "ppydev"
  },
  "language_info": {
   "codemirror_mode": {
    "name": "ipython",
    "version": 3
   },
   "file_extension": ".py",
   "mimetype": "text/x-python",
   "name": "python",
   "nbconvert_exporter": "python",
   "pygments_lexer": "ipython3",
   "version": "3.11.7"
  }
 },
 "nbformat": 4,
 "nbformat_minor": 2
}
