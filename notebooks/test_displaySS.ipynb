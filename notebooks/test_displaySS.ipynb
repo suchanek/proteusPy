{
 "cells": [
  {
   "cell_type": "code",
   "execution_count": 1,
   "metadata": {},
   "outputs": [],
   "source": [
    "# Disulfide Bond Display Test\n",
    "# Author: Eric G. Suchanek, PhD.\n",
    "# Last revision: 2/18/24 -egs-\n",
    "\n",
    "import pandas as pd\n",
    "from proteusPy.Disulfide import Disulfide\n",
    "from proteusPy.DisulfideLoader import Load_PDB_SS\n",
    "from proteusPy.DisulfideList import DisulfideList\n",
    "\n",
    "import pyvista as pv\n",
    "from pyvista import set_plot_theme\n",
    "\n",
    "TMP = '/tmp/'\n",
    "def SS_DisplayTest(ss: Disulfide):\n",
    "    ss.display(style='bs', single=True)\n",
    "    ss.display(style='cpk', single=True)\n",
    "    ss.display(style='sb', single=True)\n",
    "    ss.display(style='pd', single=False)\n",
    "    ss.screenshot(style='cpk', single=True, fname=f'{TMP}cpk3.png', verbose=True)\n",
    "    ss.screenshot(style='sb', single=False, fname=f'{TMP}sb3.png', verbose=True)\n",
    "    print('--> SS_DisplayTest done.')\n",
    "    return\n",
    "\n",
    "def SSlist_DisplayTest(sslist):\n",
    "    sslist.display(style='cpk')\n",
    "    sslist.display(style='bs')\n",
    "    sslist.display(style='sb')\n",
    "    sslist.display(style='pd')\n",
    "    sslist.display(style='plain')\n",
    "    sslist.display_overlay(movie=True, fname=f'{TMP}overlay.mp4')\n",
    "    sslist.display_overlay(movie=False)\n",
    "    sslist.screenshot(style='sb', fname=f'{TMP}sslist.png')\n",
    "    print('--> SS_DisplayTest done.')\n",
    "\n",
    "def main():\n",
    "    PDB_SS = None\n",
    "    PDB_SS = Load_PDB_SS(verbose=True, subset=False)\n",
    "    \n",
    "    # one disulfide from the database\n",
    "    ss = Disulfide()\n",
    "    ss = PDB_SS[0]\n",
    "    \n",
    "    SS_DisplayTest(ss)\n",
    "    \n",
    "    # get all disulfides for one structure. Make a \n",
    "    # DisulfideList object to hold it\n",
    "    \n",
    "    ss4yss = DisulfideList([], '4yss')\n",
    "    ss4yss = PDB_SS['4yys']\n",
    "\n",
    "    SSlist_DisplayTest(ss4yss)\n",
    "\n",
    "    sslist = DisulfideList([], 'last12')\n",
    "    print('Getting last 12')\n",
    "    \n",
    "    sslist = PDB_SS[:12]\n",
    "    SSlist_DisplayTest(sslist)\n",
    "    \n",
    "    return\n"
   ]
  },
  {
   "cell_type": "code",
   "execution_count": 2,
   "metadata": {},
   "outputs": [],
   "source": [
    "PDB_SS = Load_PDB_SS()"
   ]
  },
  {
   "cell_type": "code",
   "execution_count": 3,
   "metadata": {},
   "outputs": [],
   "source": [
    "sslist = PDB_SS[:12]"
   ]
  },
  {
   "cell_type": "code",
   "execution_count": 4,
   "metadata": {},
   "outputs": [
    {
     "data": {
      "text/plain": [
       "DisulfideList([<Disulfide 4yys_22A_65A, Source: 4yys, Resolution: 1.35 Å>,\n",
       "               <Disulfide 4yys_56A_98A, Source: 4yys, Resolution: 1.35 Å>,\n",
       "               <Disulfide 4yys_156A_207A, Source: 4yys, Resolution: 1.35 Å>,\n",
       "               <Disulfide 1j5h_37A_47A, Source: 1j5h, Resolution: -1.0 Å>,\n",
       "               <Disulfide 1j5h_88A_93A, Source: 1j5h, Resolution: -1.0 Å>,\n",
       "               <Disulfide 1mfe_137L_196L, Source: 1mfe, Resolution: 2.0 Å>,\n",
       "               <Disulfide 1chv_3S_21S, Source: 1chv, Resolution: -1.0 Å>,\n",
       "               <Disulfide 1chv_14S_38S, Source: 1chv, Resolution: -1.0 Å>,\n",
       "               <Disulfide 1chv_42S_53S, Source: 1chv, Resolution: -1.0 Å>,\n",
       "               <Disulfide 1chv_54S_59S, Source: 1chv, Resolution: -1.0 Å>,\n",
       "               <Disulfide 6fuf_2A_282A, Source: 6fuf, Resolution: 3.12 Å>,\n",
       "               <Disulfide 6fuf_110A_187A, Source: 6fuf, Resolution: 3.12 Å>])"
      ]
     },
     "execution_count": 4,
     "metadata": {},
     "output_type": "execute_result"
    }
   ],
   "source": [
    "sslist"
   ]
  },
  {
   "cell_type": "code",
   "execution_count": 5,
   "metadata": {},
   "outputs": [
    {
     "data": {
      "application/vnd.jupyter.widget-view+json": {
       "model_id": "e60bf3373e5b486188c7c2b347d82480",
       "version_major": 2,
       "version_minor": 0
      },
      "text/plain": [
       "Widget(value='<iframe src=\"http://localhost:55854/index.html?ui=P_0x11123ca10_1&reconnect=auto\" class=\"pyvista…"
      ]
     },
     "metadata": {},
     "output_type": "display_data"
    }
   ],
   "source": [
    "sslist.display(style='sb')"
   ]
  },
  {
   "cell_type": "code",
   "execution_count": null,
   "metadata": {},
   "outputs": [],
   "source": []
  }
 ],
 "metadata": {
  "kernelspec": {
   "display_name": "Python (proteusPy 0.92.1 )",
   "language": "python",
   "name": "proteuspy"
  },
  "language_info": {
   "codemirror_mode": {
    "name": "ipython",
    "version": 3
   },
   "file_extension": ".py",
   "mimetype": "text/x-python",
   "name": "python",
   "nbconvert_exporter": "python",
   "pygments_lexer": "ipython3",
   "version": "3.11.7"
  }
 },
 "nbformat": 4,
 "nbformat_minor": 2
}
