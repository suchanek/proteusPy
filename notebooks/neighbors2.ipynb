{
 "cells": [
  {
   "cell_type": "code",
   "execution_count": 3,
   "metadata": {},
   "outputs": [
    {
     "name": "stdout",
     "output_type": "stream",
     "text": [
      "Neighbors: 34\n"
     ]
    },
    {
     "name": "stderr",
     "output_type": "stream",
     "text": [
      "100%|████████████████████████████████████████████████████████████████████| 34/34 [00:07<00:00,  4.76it/s]\n"
     ]
    },
    {
     "data": {
      "application/vnd.jupyter.widget-view+json": {
       "model_id": "632ac1d3ccc9482aa205942e8aae901e",
       "version_major": 2,
       "version_minor": 0
      },
      "text/plain": [
       "Widget(value=\"<iframe src='http://localhost:49505/index.html?ui=P_0x14a85bc70_1&reconnect=auto' style='width: …"
      ]
     },
     "metadata": {},
     "output_type": "display_data"
    }
   ],
   "source": [
    "# In this example we load the disulfide database, find the disulfides with\n",
    "# the lowest and highest energies, and then find the nearest conformational neighbors.\n",
    "# Finally, we display the neighbors overlaid against a common reference frame.\n",
    "\n",
    "import proteusPy\n",
    "from proteusPy.DisulfideLoader import Load_PDB_SS\n",
    "from proteusPy.DisulfideList import DisulfideList\n",
    "from proteusPy.Disulfide import Disulfide\n",
    "\n",
    "PDB_SS = None\n",
    "PDB_SS = Load_PDB_SS(verbose=False, subset=True)\n",
    "ss_list = DisulfideList([], \"tmp\")\n",
    "\n",
    "# We point to the complete list to search for lowest and highest energies.\n",
    "sslist = PDB_SS.SSList\n",
    "ssmin_enrg, ssmax_enrg = PDB_SS.SSList.minmax_energy\n",
    "\n",
    "# Make an empty list and find the nearest neighbors within 10 degrees avg RMS in\n",
    "# sidechain dihedral angle space.\n",
    "\n",
    "low_energy_neighbors = DisulfideList([], \"Neighbors\")\n",
    "low_energy_neighbors = ssmin_enrg.torsion_neighbors(sslist, 15)\n",
    "\n",
    "# Display the number found, and then display them overlaid onto their common reference frame.\n",
    "\n",
    "tot = low_energy_neighbors.length\n",
    "print(f\"Neighbors: {tot}\")\n",
    "low_energy_neighbors.display_overlay()"
   ]
  },
  {
   "cell_type": "code",
   "execution_count": 4,
   "metadata": {},
   "outputs": [
    {
     "data": {
      "text/plain": [
       "DisulfideList([<Disulfide 6vsz_261A_321A, Source: 6vsz, Resolution: 2.6 Å>,\n",
       "               <Disulfide 6vqe_203A_259A, Source: 6vqe, Resolution: 1.77 Å>,\n",
       "               <Disulfide 5hga_203A_259A, Source: 5hga, Resolution: 2.2 Å>,\n",
       "               <Disulfide 6dlf_57A_115A, Source: 6dlf, Resolution: 3.45 Å>,\n",
       "               <Disulfide 5xcu_22A_92A, Source: 5xcu, Resolution: 2.45 Å>,\n",
       "               <Disulfide 5drz_134L_194L, Source: 5drz, Resolution: 2.54 Å>,\n",
       "               <Disulfide 4bm7_367A_425A, Source: 4bm7, Resolution: 1.95 Å>,\n",
       "               <Disulfide 1xr9_203A_259A, Source: 1xr9, Resolution: 1.79 Å>,\n",
       "               <Disulfide 6d64_206A_261A, Source: 6d64, Resolution: 1.7 Å>,\n",
       "               <Disulfide 5xov_203A_259A, Source: 5xov, Resolution: 2.68 Å>,\n",
       "               <Disulfide 5f1i_204A_260A, Source: 5f1i, Resolution: 2.9 Å>,\n",
       "               <Disulfide 6tdq_203A_259A, Source: 6tdq, Resolution: 1.6 Å>,\n",
       "               <Disulfide 1jnh_136A_195A, Source: 1jnh, Resolution: 2.85 Å>,\n",
       "               <Disulfide 5j06_163A_212A, Source: 5j06, Resolution: 2.66 Å>,\n",
       "               <Disulfide 5vwh_203A_259A, Source: 5vwh, Resolution: 1.65 Å>,\n",
       "               <Disulfide 1q9k_133A_193A, Source: 1q9k, Resolution: 1.96 Å>,\n",
       "               <Disulfide 1cr9_134L_194L, Source: 1cr9, Resolution: 2.0 Å>,\n",
       "               <Disulfide 1ogt_203A_259A, Source: 1ogt, Resolution: 1.47 Å>,\n",
       "               <Disulfide 3buy_203A_259A, Source: 3buy, Resolution: 2.6 Å>,\n",
       "               <Disulfide 6jto_203A_259A, Source: 6jto, Resolution: 1.7 Å>,\n",
       "               <Disulfide 4no2_203A_259A, Source: 4no2, Resolution: 2.0 Å>,\n",
       "               <Disulfide 5jih_367A_425A, Source: 5jih, Resolution: 1.66 Å>,\n",
       "               <Disulfide 5eo1_203A_259A, Source: 5eo1, Resolution: 1.85 Å>,\n",
       "               <Disulfide 4ofk_352A_410A, Source: 4ofk, Resolution: 1.8 Å>,\n",
       "               <Disulfide 7aw6_163A_212A, Source: 7aw6, Resolution: 1.95 Å>,\n",
       "               <Disulfide 4dz8_261A_321A, Source: 4dz8, Resolution: 1.91 Å>,\n",
       "               <Disulfide 4dz8_367A_425A, Source: 4dz8, Resolution: 1.91 Å>,\n",
       "               <Disulfide 1nld_134L_194L, Source: 1nld, Resolution: 2.9 Å>,\n",
       "               <Disulfide 6p23_203A_259A, Source: 6p23, Resolution: 1.6 Å>,\n",
       "               <Disulfide 1wbz_203A_259A, Source: 1wbz, Resolution: 2.0 Å>,\n",
       "               <Disulfide 6pdu_134L_194L, Source: 6pdu, Resolution: 1.95 Å>,\n",
       "               <Disulfide 1rk0_203A_259A, Source: 1rk0, Resolution: 2.61 Å>,\n",
       "               <Disulfide 3jab_134L_194L, Source: 3jab, Resolution: 11.0 Å>,\n",
       "               <Disulfide 1ri8_22A_95A, Source: 1ri8, Resolution: 1.85 Å>])"
      ]
     },
     "execution_count": 4,
     "metadata": {},
     "output_type": "execute_result"
    }
   ],
   "source": [
    "low_energy_neighbors"
   ]
  },
  {
   "cell_type": "code",
   "execution_count": null,
   "metadata": {},
   "outputs": [],
   "source": []
  }
 ],
 "metadata": {
  "kernelspec": {
   "display_name": "proteusPy1",
   "language": "python",
   "name": "python3"
  },
  "language_info": {
   "codemirror_mode": {
    "name": "ipython",
    "version": 3
   },
   "file_extension": ".py",
   "mimetype": "text/x-python",
   "name": "python",
   "nbconvert_exporter": "python",
   "pygments_lexer": "ipython3",
   "version": "3.9.16"
  },
  "orig_nbformat": 4
 },
 "nbformat": 4,
 "nbformat_minor": 2
}
