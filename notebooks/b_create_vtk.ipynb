{
  "cells": [
    {
      "cell_type": "code",
      "execution_count": 1,
      "metadata": {
        "collapsed": false
      },
      "outputs": [],
      "source": [
        "import subprocess\n",
        "import sys\n",
        "\n",
        "if \"google.colab\" in sys.modules:\n",
        "    subprocess.run(\"apt-get update\", shell=True, check=True)\n",
        "    subprocess.run(\"apt-get install -qq xvfb libgl1-mesa-glx\", shell=True, check=True)\n",
        "    subprocess.run(\"pip install pyvista[all] -qq\", shell=True, check=True)\n",
        "\n",
        "    import pyvista as pv\n",
        "\n",
        "    # Seems that only static plotting is supported by colab at the moment\n",
        "    pv.global_theme.jupyter_backend = \"static\"\n",
        "    pv.global_theme.notebook = True\n",
        "    pv.start_xvfb()\n",
        "else:\n",
        "    %matplotlib inline\n",
        "    from pyvista import set_plot_theme\n",
        "\n",
        "    set_plot_theme(\"document\")"
      ]
    },
    {
      "cell_type": "markdown",
      "metadata": {},
      "source": [
        "Create VTK Objects\n",
        "==================\n",
        "\n",
        "This exercise walks through the creation of a few different types of VTK\n",
        "datasets.\n"
      ]
    },
    {
      "cell_type": "code",
      "execution_count": 2,
      "metadata": {
        "collapsed": false
      },
      "outputs": [],
      "source": [
        "import numpy as np\n",
        "import pyvista as pv\n",
        "import vtk\n",
        "\n",
        "try:\n",
        "    from vtkmodules.util.numpy_support import numpy_to_vtk\n",
        "except:\n",
        "    from vtk.util.numpy_support import numpy_to_vtk"
      ]
    },
    {
      "cell_type": "markdown",
      "metadata": {},
      "source": [
        "Create `vtkImageData`\n",
        "=====================\n"
      ]
    },
    {
      "cell_type": "code",
      "execution_count": 3,
      "metadata": {
        "collapsed": false
      },
      "outputs": [],
      "source": [
        "image = vtk.vtkImageData()\n",
        "image.SetDimensions(10, 10, 2)\n",
        "image.SetSpacing(1, 2, 5)\n",
        "image.SetOrigin(-0.5, -3, 0)"
      ]
    },
    {
      "cell_type": "markdown",
      "metadata": {},
      "source": [
        "Add point data\n"
      ]
    },
    {
      "cell_type": "code",
      "execution_count": 4,
      "metadata": {
        "collapsed": false
      },
      "outputs": [
        {
          "data": {
            "text/plain": [
              "<vtkmodules.vtkCommonDataModel.vtkImageData(0x17ea07b20) at 0x16519f7c0>"
            ]
          },
          "execution_count": 4,
          "metadata": {},
          "output_type": "execute_result"
        }
      ],
      "source": [
        "values = np.arange(np.product(image.GetDimensions()))\n",
        "# Convert numpy array to VTK array\n",
        "arr = numpy_to_vtk(values)\n",
        "arr.SetName(\"values\")  # CRITICAL\n",
        "image.GetPointData().SetScalars(arr)\n",
        "image"
      ]
    },
    {
      "cell_type": "markdown",
      "metadata": {},
      "source": [
        "Plot with PyVista for simplicity\n"
      ]
    },
    {
      "cell_type": "code",
      "execution_count": 5,
      "metadata": {
        "collapsed": false
      },
      "outputs": [
        {
          "data": {
            "application/vnd.jupyter.widget-view+json": {
              "model_id": "c3bad6ecdf554ad3acdbf254bc4e87d3",
              "version_major": 2,
              "version_minor": 0
            },
            "text/plain": [
              "Widget(value=\"<iframe src='http://localhost:54494/index.html?ui=P_0x17e82d970_0&reconnect=auto' style='width: …"
            ]
          },
          "metadata": {},
          "output_type": "display_data"
        },
        {
          "name": "stdout",
          "output_type": "stream",
          "text": [
            " JS Error => error: Uncaught TypeError: Cannot mix BigInt and other types, use explicit conversions\n"
          ]
        }
      ],
      "source": [
        "pv.plot(image, show_edges=True)"
      ]
    },
    {
      "cell_type": "markdown",
      "metadata": {},
      "source": [
        "Create `vtkStructuredGrid`\n",
        "==========================\n"
      ]
    },
    {
      "cell_type": "code",
      "execution_count": 6,
      "metadata": {
        "collapsed": false
      },
      "outputs": [
        {
          "data": {
            "text/plain": [
              "<vtkmodules.vtkCommonDataModel.vtkStructuredGrid(0x293053bc0) at 0x17f8de340>"
            ]
          },
          "execution_count": 6,
          "metadata": {},
          "output_type": "execute_result"
        }
      ],
      "source": [
        "# Define structured points with NumPy\n",
        "x = np.arange(-10, 10, 0.25)\n",
        "y = np.arange(-10, 10, 0.25)\n",
        "x, y = np.meshgrid(x, y)\n",
        "r = np.sqrt(x**2 + y**2)\n",
        "z = np.sin(r)\n",
        "\n",
        "# Join the points\n",
        "values = np.c_[x.ravel(), y.ravel(), z.ravel()]\n",
        "\n",
        "coords = numpy_to_vtk(values)\n",
        "\n",
        "points = vtk.vtkPoints()\n",
        "points.SetData(coords)\n",
        "\n",
        "grid = vtk.vtkStructuredGrid()\n",
        "grid.SetDimensions(*z.shape, 1)\n",
        "grid.SetPoints(points)\n",
        "grid"
      ]
    },
    {
      "cell_type": "markdown",
      "metadata": {},
      "source": [
        "Add point data\n"
      ]
    },
    {
      "cell_type": "code",
      "execution_count": 7,
      "metadata": {
        "collapsed": false
      },
      "outputs": [
        {
          "data": {
            "text/plain": [
              "0"
            ]
          },
          "execution_count": 7,
          "metadata": {},
          "output_type": "execute_result"
        }
      ],
      "source": [
        "arr = numpy_to_vtk(z.ravel())\n",
        "arr.SetName(\"z\")  # CRITICAL\n",
        "grid.GetPointData().SetScalars(arr)"
      ]
    },
    {
      "cell_type": "markdown",
      "metadata": {},
      "source": [
        "Plot with PyVista for simplicity\n"
      ]
    },
    {
      "cell_type": "code",
      "execution_count": 8,
      "metadata": {
        "collapsed": false
      },
      "outputs": [
        {
          "data": {
            "application/vnd.jupyter.widget-view+json": {
              "model_id": "fb60cb705b354bb58ac3822c43f6f75f",
              "version_major": 2,
              "version_minor": 0
            },
            "text/plain": [
              "Widget(value=\"<iframe src='http://localhost:54494/index.html?ui=P_0x293780a90_1&reconnect=auto' style='width: …"
            ]
          },
          "metadata": {},
          "output_type": "display_data"
        }
      ],
      "source": [
        "pv.plot(grid, show_edges=True)"
      ]
    },
    {
      "cell_type": "markdown",
      "metadata": {},
      "source": [
        "```{=html}\n",
        "<center>\n",
        "  <a target=\"_blank\" href=\"https://colab.research.google.com/github/pyvista/pyvista-tutorial/blob/gh-pages/notebooks/tutorial/06_vtk/b_create_vtk.ipynb\">\n",
        "    <img src=\"https://colab.research.google.com/assets/colab-badge.svg\" alt=\"Open In Colab\"/ width=\"150px\">\n",
        "  </a>\n",
        "</center>\n",
        "```\n"
      ]
    }
  ],
  "metadata": {
    "kernelspec": {
      "display_name": "Python 3",
      "language": "python",
      "name": "python3"
    },
    "language_info": {
      "codemirror_mode": {
        "name": "ipython",
        "version": 3
      },
      "file_extension": ".py",
      "mimetype": "text/x-python",
      "name": "python",
      "nbconvert_exporter": "python",
      "pygments_lexer": "ipython3",
      "version": "3.9.18"
    }
  },
  "nbformat": 4,
  "nbformat_minor": 0
}
