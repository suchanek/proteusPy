{
 "cells": [
  {
   "cell_type": "code",
   "execution_count": 1,
   "metadata": {},
   "outputs": [],
   "source": [
    "# proteusPy Disulfide Database Analysis\n",
    "# Author: Eric G. Suchanek, PhD.\n",
    "# Last revision: 2025-01-18 16:41:53\n",
    "# Cα N, Cα, Sγ, Cβ, C',  Å ° ρ\n",
    "#\n",
    "# This notebook takes about 2 minutes 48 seconds to run on an\n",
    "# M3 Max MacbookPro 2024 with 38GB of RAM"
   ]
  },
  {
   "cell_type": "markdown",
   "metadata": {},
   "source": [
    "# RCSB Disulfide Bond Structural Geometry Analysis\n",
    "Eric G. Suchanek, PhD, Flux-Frontiers, Cincinnati OH\n",
    "\n",
    "## Summary\n",
    "In this notebook I present an analysis of the geometry Disulfide Bonds extracted from the RCSB, using the ``proteusPy`` package. This analysis was performed against the entire unfiltered database in order to clean it for more rigorous statistical analysis. The fundamental issues being addressed revolve around the quality of the Disulfide Bond structures themselves. Since the structures studied are the result of X-Ray crystallography the atomic coordinates are subject to positional uncertainties. These uncertainties can lead to unusual and/or non-physical structures that shouldn't be included in subsequent structural analyses. \n"
   ]
  },
  {
   "cell_type": "code",
   "execution_count": null,
   "metadata": {},
   "outputs": [],
   "source": [
    "from pathlib import Path\n",
    "import os\n",
    "import logging\n",
    "\n",
    "import numpy as np\n",
    "import pandas as pd\n",
    "import plotly.express as px\n",
    "import plotly.io as pio\n",
    "\n",
    "# pio.renderers.default = \"png\"  # or 'svg'\n",
    "\n",
    "import proteusPy as pp\n",
    "from proteusPy import CA_CUTOFF, SG_CUTOFF\n",
    "\n",
    "HOME = Path.home()\n",
    "PDB = Path(os.getenv(\"PDB\", HOME / \"pdb\"))\n",
    "\n",
    "pp.configure_master_logger(\"database_analysis.log\")\n",
    "pp.set_logger_level_for_module(\"proteusPy\", logging.WARNING)\n",
    "\n",
    "# Get the theme for plotting\n",
    "theme = pp.get_theme()\n",
    "if theme == \"light\":\n",
    "    pio.templates.default = \"plotly_white\"\n",
    "    print(\"Light Theme\")\n",
    "else:\n",
    "    pio.templates.default = \"plotly_dark\"\n",
    "    print(\"Dark Theme\")"
   ]
  },
  {
   "cell_type": "code",
   "execution_count": 2,
   "metadata": {},
   "outputs": [],
   "source": [
    "def highlight_worst_structures(df, top_n=10):\n",
    "    \"\"\"\n",
    "    Highlight the worst structures for distance and angle deviations and annotate their names.\n",
    "    Also, add a subplot showing the worst structures aggregated by PDB_ID.\n",
    "\n",
    "    :param df: DataFrame containing the disulfide information.\n",
    "    :type df: pd.DataFrame\n",
    "    :param top_n: Number of worst structures to highlight.\n",
    "    :type top_n: int\n",
    "    \"\"\"\n",
    "    # Identify the worst structures for Bond Length Deviation\n",
    "    worst_distance = df.nlargest(top_n, \"Bondlength_Deviation\")\n",
    "\n",
    "    # Identify the worst structures for angle deviation\n",
    "    worst_angle = df.nlargest(top_n, \"Angle_Deviation\")\n",
    "\n",
    "    # Identify the worst structures for Cα distance\n",
    "    worst_ca = df.nlargest(top_n, \"Ca_Distance\")\n",
    "\n",
    "    # Combine the worst structures\n",
    "    worst_structures = pd.concat(\n",
    "        [worst_distance, worst_angle, worst_ca]\n",
    "    ).drop_duplicates()\n",
    "\n",
    "    # Aggregate worst structures by PDB_ID\n",
    "    worst_structures_agg = (\n",
    "        worst_structures.groupby(\"PDB_ID\").size().reset_index(name=\"Count\")\n",
    "    )\n",
    "\n",
    "    # Scatter plot for all structures\n",
    "    fig = px.scatter(\n",
    "        df,\n",
    "        x=\"Bondlength_Deviation\",\n",
    "        y=\"Angle_Deviation\",\n",
    "        title=\"Bond Length Deviation vs. Angle Deviation\",\n",
    "    )\n",
    "    fig.add_scatter(\n",
    "        x=worst_structures[\"Bondlength_Deviation\"],\n",
    "        y=worst_structures[\"Angle_Deviation\"],\n",
    "        mode=\"markers\",\n",
    "        marker=dict(color=\"red\", size=10, symbol=\"x\"),\n",
    "        name=\"Worst Structures\",\n",
    "    )\n",
    "    for i, row in worst_structures.iterrows():\n",
    "        fig.add_annotation(\n",
    "            x=row[\"Bondlength_Deviation\"],\n",
    "            y=row[\"Angle_Deviation\"],\n",
    "            text=row[\"SS_Name\"],\n",
    "            showarrow=True,\n",
    "            arrowhead=1,\n",
    "        )\n",
    "    fig.show()\n",
    "\n",
    "    # Bar plot for worst structures aggregated by PDB_ID\n",
    "    fig = px.bar(\n",
    "        worst_structures_agg,\n",
    "        x=\"PDB_ID\",\n",
    "        y=\"Count\",\n",
    "        title=\"Worst Structures Aggregated by PDB_ID\",\n",
    "    )\n",
    "    fig.update_layout(xaxis_title=\"PDB_ID\", yaxis_title=\"Count\")\n",
    "    fig.show()\n",
    "\n",
    "\n",
    "def get_unique_pdb_ids(data_frame):\n",
    "    \"\"\"\n",
    "    Return a list of unique pdb_id values from the DataFrame.\n",
    "\n",
    "    :param data_frame: DataFrame containing the disulfide information.\n",
    "    :type data_frame: pd.DataFrame\n",
    "    :return: List of unique pdb_id values.\n",
    "    :rtype: list\n",
    "    \"\"\"\n",
    "    unique_pdb_ids = data_frame[\"PDB_ID\"].unique().tolist()\n",
    "    return unique_pdb_ids"
   ]
  },
  {
   "cell_type": "markdown",
   "metadata": {},
   "source": [
    "Global cutoff values for Cα-Cα and Sγ-Sγ distances, Å. We will initially set to -1, indicating no filtering. This will extract the entire database."
   ]
  },
  {
   "cell_type": "code",
   "execution_count": null,
   "metadata": {},
   "outputs": [],
   "source": [
    "# instantiate the complete database from its source with no cutoffs\n",
    "pdb_full = pp.DisulfideLoader(\n",
    "    subset=False,\n",
    "    verbose=True,\n",
    "    quiet=False,\n",
    "    cutoff=-1.0,\n",
    "    sg_cutoff=-1.0,\n",
    ")"
   ]
  },
  {
   "cell_type": "markdown",
   "metadata": {},
   "source": [
    "As shown above, the default database has no Cα or Sγ cutoffs. This enables one to do the filtering by Cα-Cα and Sγ-Sγ distances to prune the database for unreasonable Disulfide bonds. Let's start by creating the bond length and bond angle deviation dataframe. This function compares the bond length and bond angle geometry for the input Disulfide against idealized bond lengths and bond angles, and creates a dataframe with this information.\n"
   ]
  },
  {
   "cell_type": "code",
   "execution_count": null,
   "metadata": {},
   "outputs": [],
   "source": [
    "pdb_full.SSList.plot_deviation_histograms(verbose=True, log=True)"
   ]
  },
  {
   "cell_type": "code",
   "execution_count": null,
   "metadata": {},
   "outputs": [],
   "source": [
    "pdb_full.SSList.plot_deviation_scatterplots(verbose=True)"
   ]
  },
  {
   "cell_type": "markdown",
   "metadata": {},
   "source": [
    "Let's start by looking at the Ca-Ca distance distributions for the full dataset:"
   ]
  },
  {
   "cell_type": "code",
   "execution_count": null,
   "metadata": {},
   "outputs": [],
   "source": [
    "pdb_full.plot_distances(\"ca\", cutoff=-1)"
   ]
  },
  {
   "cell_type": "code",
   "execution_count": null,
   "metadata": {},
   "outputs": [],
   "source": [
    "ca_distances = pdb_full.SSList.extract_distances(\n",
    "    distance_type=\"ca\", comparison=\"less\", cutoff=-1\n",
    ")\n",
    "plot_distances(ca_distances, cutoff=-1, distance_type=\"ca\", flip=False)"
   ]
  },
  {
   "cell_type": "markdown",
   "metadata": {},
   "source": [
    "The Ca distances also show anomolous near (close contact) and far (> 8A) distances, which would be structurally impossible."
   ]
  },
  {
   "cell_type": "code",
   "execution_count": null,
   "metadata": {},
   "outputs": [],
   "source": [
    "sg_distances = pdb_full.SSList.extract_distances(\n",
    "    distance_type=\"sg\", comparison=\"less\", cutoff=SG_CUTOFF\n",
    ")\n",
    "plot_distances(sg_distances, cutoff=SG_CUTOFF, distance_type=\"sg\", flip=False)"
   ]
  },
  {
   "cell_type": "markdown",
   "metadata": {},
   "source": [
    "## Structural Statistical Cutoff Considerations\n",
    "\n",
    "We can calculate overall distribution statistics for the Cα, Sγ distances as well as the bond lengths and bond angles in an effort to rationally filter the Disulfide database. The goal is to produce a high-quality database with geometrically reasonable/realistic structures. Since model quality varies greatly across the entire database as is shown by the distance distributions above this seems like a prudent step."
   ]
  },
  {
   "cell_type": "code",
   "execution_count": null,
   "metadata": {},
   "outputs": [],
   "source": [
    "from scipy.stats import norm\n",
    "\n",
    "# Calculate the Z-score for the 95th percentile\n",
    "percentile = 95\n",
    "z_score = norm.ppf(percentile / 100.0)\n",
    "\n",
    "print(f\"The Z-score for the {percentile}th percentile is approximately {z_score:.3f}\")\n",
    "\n",
    "# Assuming you have a DataFrame named dev_df with columns 'Distance_Deviation' and 'Angle_Deviation'\n",
    "\n",
    "# Set some parameters for the standard deviation and percentile methods\n",
    "std = z_score\n",
    "\n",
    "distance_cutoff_std = pp.calculate_std_cutoff(\n",
    "    dev_df, \"Bondlength_Deviation\", num_std=std\n",
    ")\n",
    "angle_cutoff_std = pp.calculate_std_cutoff(dev_df, \"Angle_Deviation\", num_std=std)\n",
    "ca_cutoff_std = pp.calculate_std_cutoff(dev_df, \"Ca_Distance\", num_std=std)\n",
    "sg_cutoff_std = pp.calculate_std_cutoff(dev_df, \"Sg_Distance\", num_std=std)\n",
    "\n",
    "# Percentile Method\n",
    "distance_cutoff_percentile = pp.calculate_percentile_cutoff(\n",
    "    dev_df, \"Bondlength_Deviation\", percentile=percentile\n",
    ")\n",
    "angle_cutoff_percentile = pp.calculate_percentile_cutoff(\n",
    "    dev_df, \"Angle_Deviation\", percentile=percentile\n",
    ")\n",
    "ca_cutoff_percentile = pp.calculate_percentile_cutoff(\n",
    "    dev_df, \"Ca_Distance\", percentile=percentile\n",
    ")\n",
    "sg_cutoff_percentile = pp.calculate_percentile_cutoff(\n",
    "    dev_df, \"Sg_Distance\", percentile=percentile\n",
    ")\n",
    "\n",
    "print(f\"Bond Length Deviation Cutoff ({std:.2f} Std Dev): {distance_cutoff_std:.2f}\")\n",
    "print(f\"Angle Deviation Cutoff ({std:.2f} Std Dev): {angle_cutoff_std:.2f}\")\n",
    "print(f\"Ca Distance Cutoff ({std:.2f} Std Dev): {ca_cutoff_std:.2f}\")\n",
    "print(f\"Sg Distance Cutoff ({std:.2f} Std Dev): {sg_cutoff_std:.2f}\")\n",
    "\n",
    "print(\n",
    "    f\"\\nBond Length Deviation Cutoff ({percentile:.2f}th Percentile): {distance_cutoff_percentile:.2f}\"\n",
    ")\n",
    "print(\n",
    "    f\"Angle Deviation Cutoff ({percentile:.2f}th Percentile): {angle_cutoff_percentile:.2f}\"\n",
    ")\n",
    "print(f\"Ca Distance Cutoff ({percentile:.2f}th Percentile): {ca_cutoff_percentile:.2f}\")\n",
    "print(f\"Sg Distance Cutoff ({percentile:.2f}th Percentile): {sg_cutoff_percentile:.2f}\")"
   ]
  },
  {
   "cell_type": "code",
   "execution_count": 30,
   "metadata": {},
   "outputs": [],
   "source": [
    "CA_CUTOFF = 6.71\n",
    "SG_CUTOFF = 2.12"
   ]
  },
  {
   "cell_type": "markdown",
   "metadata": {},
   "source": [
    "\n",
    "We can create our own custom ``DisulfideLoader`` object on the fly by instantiating it with our desired Cα and Sg cutoffs. We first make one with Cα-Cα cutoff and no Sγ-Sγ cutoff, (setting to -1.0 means no filtering):"
   ]
  },
  {
   "cell_type": "code",
   "execution_count": null,
   "metadata": {},
   "outputs": [],
   "source": [
    "pdb_ca_filtered = pp.DisulfideLoader(\n",
    "    subset=False, verbose=True, cutoff=CA_CUTOFF, sg_cutoff=-1.0\n",
    ")\n",
    "ca_delta = pdb_full.TotalDisulfides - pdb_ca_filtered.TotalDisulfides\n",
    "print(f\"\\nTotal Disulfides Removed by Cα filtering: {ca_delta}\")"
   ]
  },
  {
   "cell_type": "markdown",
   "metadata": {},
   "source": [
    "Now let's trying filtering against the Sg cutoff:"
   ]
  },
  {
   "cell_type": "code",
   "execution_count": null,
   "metadata": {},
   "outputs": [],
   "source": [
    "sg_distances = pdb_full.SSList.extract_distances(\n",
    "    distance_type=\"sg\", comparison=\"less\", cutoff=SG_CUTOFF\n",
    ")\n",
    "plot_distances(sg_distances, distance_type=\"sg\", cutoff=SG_CUTOFF, flip=False)"
   ]
  },
  {
   "cell_type": "code",
   "execution_count": null,
   "metadata": {},
   "outputs": [],
   "source": [
    "sg_distances = pdb_full.SSList.extract_distances(\n",
    "    distance_type=\"sg\", comparison=\"greater\", cutoff=SG_CUTOFF\n",
    ")\n",
    "plot_distances(sg_distances, distance_type=\"sg\", cutoff=SG_CUTOFF, flip=True)"
   ]
  },
  {
   "cell_type": "markdown",
   "metadata": {},
   "source": [
    "Now filter by Sγ cutoff alone:"
   ]
  },
  {
   "cell_type": "code",
   "execution_count": null,
   "metadata": {},
   "outputs": [],
   "source": [
    "pdb_sg_filtered = pp.DisulfideLoader(\n",
    "    subset=False, verbose=True, cutoff=-1.0, sg_cutoff=SG_CUTOFF\n",
    ")"
   ]
  },
  {
   "cell_type": "code",
   "execution_count": null,
   "metadata": {},
   "outputs": [],
   "source": [
    "sg_delta = pdb_full.TotalDisulfides - pdb_sg_filtered.TotalDisulfides\n",
    "print(f\"Total Disulfides Removed by Sγ filtering: {sg_delta}\")"
   ]
  },
  {
   "cell_type": "markdown",
   "metadata": {},
   "source": [
    "Finally, fully filtered:"
   ]
  },
  {
   "cell_type": "code",
   "execution_count": null,
   "metadata": {},
   "outputs": [],
   "source": [
    "pdb_fully_filtered = pp.DisulfideLoader(\n",
    "    subset=False, verbose=True, quiet=False, cutoff=CA_CUTOFF, sg_cutoff=SG_CUTOFF\n",
    ")\n",
    "\n",
    "total_delta = pdb_full.TotalDisulfides - pdb_fully_filtered.TotalDisulfides\n",
    "print(f\"\\nTotal Disulfides Removed by Cα and Sγ filtering: {total_delta}\")"
   ]
  },
  {
   "cell_type": "markdown",
   "metadata": {},
   "source": [
    "This database therefore represents Disulfides at 95% confidence to have geometrically reasonable Ca-Ca and Sg-Sg distances. Let's have a look at the distance distributions for the filtered database. The utility functions enable us to extract Disulfides with the desired distance constraints:"
   ]
  },
  {
   "cell_type": "code",
   "execution_count": null,
   "metadata": {},
   "outputs": [],
   "source": [
    "pdb_fully_filtered.SSList.plot_distances(\n",
    "    distance_type=\"ca\", comparison=\"less\", cutoff=CA_CUTOFF\n",
    ")\n"
   ]
  },
  {
   "cell_type": "code",
   "execution_count": null,
   "metadata": {},
   "outputs": [],
   "source": [
    "sg_distances = pdb_fully_filtered.SSList.extract_distances(\n",
    "    distance_type=\"sg\", comparison=\"less\", cutoff=SG_CUTOFF\n",
    ")\n",
    "plot_distances(sg_distances, cutoff=SG_CUTOFF, distance_type=\"sg\", flip=False)"
   ]
  },
  {
   "cell_type": "code",
   "execution_count": null,
   "metadata": {},
   "outputs": [],
   "source": [
    "pdb_fully_filtered.SSList.plot_deviation_scatterplots(verbose=True, theme=\"auto\")\n"
   ]
  },
  {
   "cell_type": "code",
   "execution_count": null,
   "metadata": {},
   "outputs": [],
   "source": []
  }
 ],
 "metadata": {
  "kernelspec": {
   "display_name": "ppydev (0.98.4)",
   "language": "python",
   "name": "ppydev"
  },
  "language_info": {
   "codemirror_mode": {
    "name": "ipython",
    "version": 3
   },
   "file_extension": ".py",
   "mimetype": "text/x-python",
   "name": "python",
   "nbconvert_exporter": "python",
   "pygments_lexer": "ipython3",
   "version": "3.12.8"
  }
 },
 "nbformat": 4,
 "nbformat_minor": 4
}
