{
 "cells": [
  {
   "cell_type": "code",
   "execution_count": null,
   "metadata": {},
   "outputs": [],
   "source": [
    "# proteusPy Disulfide Database Analysis\n",
    "# Author: Eric G. Suchanek, PhD.\n",
    "# Last revision: 2025-03-06 18:28:53\n",
    "#\n",
    "# Cα N, Cα, Sγ, Cβ, C',  Å ° ρ\n",
    "#\n",
    "# This notebook takes about 5 minutes 20 seconds to run on an\n",
    "# M3 Max MacbookPro 2024 with 38GB of RAM"
   ]
  },
  {
   "cell_type": "markdown",
   "metadata": {},
   "source": [
    "# RCSB Disulfide Bond Structural Geometry Analysis\n",
    "Eric G. Suchanek, PhD, Flux-Frontiers, Cincinnati OH\n",
    "\n",
    "## Summary\n",
    "In this notebook I present an analysis of the geometry Disulfide Bonds extracted from the RCSB, using the ``proteusPy`` package. This analysis was performed against the entire unfiltered database in order to clean it for more rigorous statistical analysis. The fundamental issues being addressed revolve around the quality of the Disulfide Bond structures themselves. Since the structures studied are the result of X-Ray crystallography the atomic coordinates are subject to positional uncertainties. These uncertainties can lead to unusual and/or non-physical structures that shouldn't be included in subsequent structural analyses. \n"
   ]
  },
  {
   "cell_type": "code",
   "execution_count": null,
   "metadata": {},
   "outputs": [],
   "source": [
    "from pathlib import Path\n",
    "import os\n",
    "import logging\n",
    "\n",
    "import numpy as np\n",
    "import pandas as pd\n",
    "import plotly.express as px\n",
    "import plotly.io as pio\n",
    "\n",
    "pio.renderers.default = \"png\"  # or 'svg'\n",
    "\n",
    "import proteusPy as pp\n",
    "from proteusPy import CA_CUTOFF, SG_CUTOFF\n",
    "from proteusPy import DisulfideStats, DisulfideVisualization\n",
    "\n",
    "\n",
    "HOME = Path.home()\n",
    "PDB = Path(os.getenv(\"PDB\", HOME / \"pdb\"))\n",
    "\n",
    "pp.configure_master_logger(\"database_analysis.log\")\n",
    "pp.set_logger_level_for_module(\"proteusPy\", logging.ERROR)\n",
    "\n",
    "# Get the theme for plotting\n",
    "pp.set_plotly_theme(theme=\"auto\")\n",
    "CA_CUTOFF = SG_CUTOFF = -1.0\n",
    "CA_MIN_CUTOFF = 1.0\n",
    "SG_MIN_CUTOFF = 1.0"
   ]
  },
  {
   "cell_type": "code",
   "execution_count": null,
   "metadata": {},
   "outputs": [],
   "source": [
    "def get_unique_pdb_ids(data_frame: pd.DataFrame) -> list:\n",
    "    \"\"\"\n",
    "    Return a list of unique pdb_id values from the DataFrame.\n",
    "\n",
    "    :param data_frame: DataFrame containing the disulfide information.\n",
    "    :type data_frame: pd.DataFrame\n",
    "    :return: List of unique pdb_id values.\n",
    "    :rtype: list\n",
    "    \"\"\"\n",
    "    unique_pdb_ids = data_frame[\"PDB_ID\"].unique().tolist()\n",
    "    return unique_pdb_ids"
   ]
  },
  {
   "cell_type": "markdown",
   "metadata": {},
   "source": [
    "Global cutoff values for Cα-Cα and Sγ-Sγ distances, Å. We will initially set to -1, indicating no filtering. This will extract the entire database."
   ]
  },
  {
   "cell_type": "code",
   "execution_count": null,
   "metadata": {},
   "outputs": [],
   "source": [
    "# instantiate the complete database from its source with no cutoffs\n",
    "pdb_full = pp.DisulfideLoader(\n",
    "    subset=False,\n",
    "    verbose=True,\n",
    "    cutoff=-1.0,\n",
    "    sg_cutoff=-1.0,\n",
    ")\n",
    "# pdb_full.save()"
   ]
  },
  {
   "cell_type": "code",
   "execution_count": null,
   "metadata": {},
   "outputs": [],
   "source": [
    "# pdb_full = pp.Load_PDB_SS(verbose=True)"
   ]
  },
  {
   "cell_type": "markdown",
   "metadata": {},
   "source": [
    "As shown above, the default database has no Cα or Sγ cutoffs. This enables one to do the filtering by Cα-Cα and Sγ-Sγ distances to prune the database for unreasonable Disulfide bonds. Let's look at the bond length and bond angle deviations. This function compares the bond length and bond angle geometry for the input Disulfide against idealized bond lengths and bond angles, and plots the result. The function available to any ``DisulfideList``. By using ``pdb_full.SSList`` we use the entire database.\n"
   ]
  },
  {
   "cell_type": "code",
   "execution_count": null,
   "metadata": {},
   "outputs": [],
   "source": [
    "pdb_full.SSList.plot_deviation_histograms()"
   ]
  },
  {
   "cell_type": "code",
   "execution_count": null,
   "metadata": {},
   "outputs": [],
   "source": [
    "pdb_full.SSList.plot_deviation_scatterplots()"
   ]
  },
  {
   "cell_type": "code",
   "execution_count": null,
   "metadata": {},
   "outputs": [],
   "source": [
    "pdb_full.SSList.display_worst_structures(top_n=10, sample_percent=20)"
   ]
  },
  {
   "cell_type": "markdown",
   "metadata": {},
   "source": [
    "Let's start by looking at the Ca-Ca  and Sg-Sg distance distributions for the full dataset:"
   ]
  },
  {
   "cell_type": "code",
   "execution_count": null,
   "metadata": {},
   "outputs": [],
   "source": [
    "pdb_full.SSList.plot_distances(\n",
    "    distance_type=\"ca\", comparison=\"greater\", cutoff=CA_CUTOFF\n",
    ")"
   ]
  },
  {
   "cell_type": "code",
   "execution_count": null,
   "metadata": {},
   "outputs": [],
   "source": [
    "pdb_full.SSList.plot_distances(\n",
    "    distance_type=\"sg\", comparison=\"greater\", cutoff=SG_CUTOFF\n",
    ")"
   ]
  },
  {
   "cell_type": "markdown",
   "metadata": {},
   "source": [
    "The Ca distances also show anomolous near (close contact) and far (> 8A) distances, which would be structurally impossible."
   ]
  },
  {
   "cell_type": "markdown",
   "metadata": {},
   "source": [
    "## Structural Statistical Cutoff Considerations\n",
    "\n",
    "We can calculate overall distribution statistics for the Cα, Sγ distances as well as the bond lengths and bond angles in an effort to rationally filter the Disulfide database. The goal is to produce a high-quality database with geometrically reasonable/realistic structures. Since model quality varies greatly across the entire database as is shown by the distance distributions above this seems like a prudent step.\n",
    "\n",
    "First we create the bond length and bond angle deviation dataframe:"
   ]
  },
  {
   "cell_type": "code",
   "execution_count": null,
   "metadata": {},
   "outputs": [],
   "source": [
    "cutoffs = DisulfideStats.calculate_cutoff_from_percentile(\n",
    "    pdb_full.SSList, percentile=95, verbose=True\n",
    ")"
   ]
  },
  {
   "cell_type": "code",
   "execution_count": null,
   "metadata": {},
   "outputs": [],
   "source": [
    "# Example usage\n",
    "fig, ax = DisulfideVisualization.plot_percentile_cutoffs(\n",
    "    pdb_full,\n",
    "    percentile_range=(80, 99),\n",
    "    num_steps=20,\n",
    "    save_path=\"/Users/egs/repos/proteusPy_priv/Disulfide_Chapter/SpringerBookChapter/Figures/percentile_cutoffs.png\",\n",
    ")\n",
    "\n",
    "# Show the plot"
   ]
  },
  {
   "cell_type": "code",
   "execution_count": null,
   "metadata": {},
   "outputs": [],
   "source": [
    "CA_CUTOFF = 6.71\n",
    "SG_CUTOFF = 2.12"
   ]
  },
  {
   "cell_type": "markdown",
   "metadata": {},
   "source": [
    "\n",
    "We can create our own custom ``DisulfideLoader`` object on the fly by instantiating it with our desired Cα and Sg cutoffs. We first make one with Cα-Cα cutoff and no Sγ-Sγ cutoff, (setting to -1.0 means no filtering):"
   ]
  },
  {
   "cell_type": "code",
   "execution_count": null,
   "metadata": {},
   "outputs": [],
   "source": [
    "pdb_ca_filtered = pp.DisulfideLoader(\n",
    "    subset=False, verbose=True, cutoff=CA_CUTOFF, sg_cutoff=-1.0\n",
    ")\n",
    "ca_delta = pdb_full.TotalDisulfides - pdb_ca_filtered.TotalDisulfides\n",
    "print(f\"\\nTotal Disulfides Removed by Cα filtering: {ca_delta}\")"
   ]
  },
  {
   "cell_type": "code",
   "execution_count": null,
   "metadata": {},
   "outputs": [],
   "source": [
    "pdb_ca_filtered.SSList.plot_distances(\n",
    "    distance_type=\"ca\", comparison=\"less\", cutoff=CA_CUTOFF, log=False\n",
    ")"
   ]
  },
  {
   "cell_type": "markdown",
   "metadata": {},
   "source": [
    "Now let's trying filtering against the Sg cutoff:"
   ]
  },
  {
   "cell_type": "code",
   "execution_count": null,
   "metadata": {},
   "outputs": [],
   "source": [
    "pdb_sg_filtered = pp.DisulfideLoader(\n",
    "    subset=False, verbose=True, cutoff=-1.0, sg_cutoff=SG_CUTOFF\n",
    ")\n",
    "sg_delta = pdb_full.TotalDisulfides - pdb_sg_filtered.TotalDisulfides\n",
    "print(f\"\\nTotal Disulfides Removed by Sγ filtering: {sg_delta}\")"
   ]
  },
  {
   "cell_type": "code",
   "execution_count": null,
   "metadata": {},
   "outputs": [],
   "source": [
    "pdb_sg_filtered.SSList.plot_distances(\n",
    "    distance_type=\"sg\", comparison=\"less\", cutoff=SG_CUTOFF, log=False\n",
    ")"
   ]
  },
  {
   "cell_type": "markdown",
   "metadata": {},
   "source": [
    "Now filter by Sγ cutoff alone:"
   ]
  },
  {
   "cell_type": "code",
   "execution_count": null,
   "metadata": {},
   "outputs": [],
   "source": [
    "pdb_sg_filtered = pp.DisulfideLoader(\n",
    "    subset=False, verbose=True, cutoff=-1.0, sg_cutoff=SG_CUTOFF\n",
    ")"
   ]
  },
  {
   "cell_type": "code",
   "execution_count": null,
   "metadata": {},
   "outputs": [],
   "source": [
    "sg_delta = pdb_full.TotalDisulfides - pdb_sg_filtered.TotalDisulfides\n",
    "print(f\"Total Disulfides Removed by Sγ filtering: {sg_delta}\")"
   ]
  },
  {
   "cell_type": "markdown",
   "metadata": {},
   "source": [
    "Finally, fully filtered:"
   ]
  },
  {
   "cell_type": "code",
   "execution_count": null,
   "metadata": {},
   "outputs": [],
   "source": [
    "pdb_fully_filtered = pp.DisulfideLoader(\n",
    "    subset=False, verbose=True, quiet=False, cutoff=CA_CUTOFF, sg_cutoff=SG_CUTOFF\n",
    ")\n",
    "\n",
    "total_delta = pdb_full.TotalDisulfides - pdb_fully_filtered.TotalDisulfides\n",
    "print(f\"\\nTotal Disulfides Removed by Cα and Sγ filtering: {total_delta}\")"
   ]
  },
  {
   "cell_type": "markdown",
   "metadata": {},
   "source": [
    "This database therefore represents Disulfides at 95% confidence to have geometrically reasonable Ca-Ca and Sg-Sg distances. Let's have a look at the distance distributions for the filtered database. The utility functions enable us to extract Disulfides with the desired distance constraints:"
   ]
  },
  {
   "cell_type": "code",
   "execution_count": null,
   "metadata": {},
   "outputs": [],
   "source": [
    "pdb_fully_filtered.SSList.plot_distances(\n",
    "    distance_type=\"ca\", comparison=\"less\", cutoff=CA_CUTOFF\n",
    ")"
   ]
  },
  {
   "cell_type": "code",
   "execution_count": null,
   "metadata": {},
   "outputs": [],
   "source": [
    "pdb_fully_filtered.SSList.plot_distances(\n",
    "    distance_type=\"sg\", comparison=\"less\", cutoff=SG_CUTOFF, log=False\n",
    ")"
   ]
  },
  {
   "cell_type": "code",
   "execution_count": null,
   "metadata": {},
   "outputs": [],
   "source": [
    "pdb_fully_filtered.SSList.plot_deviation_scatterplots(verbose=True, theme=\"auto\")"
   ]
  },
  {
   "cell_type": "code",
   "execution_count": null,
   "metadata": {},
   "outputs": [],
   "source": [
    "# end of notebook"
   ]
  }
 ],
 "metadata": {
  "kernelspec": {
   "display_name": "ppydev (0.99.34.dev0)",
   "language": "python",
   "name": "ppydev"
  },
  "language_info": {
   "codemirror_mode": {
    "name": "ipython",
    "version": 3
   },
   "file_extension": ".py",
   "mimetype": "text/x-python",
   "name": "python",
   "nbconvert_exporter": "python",
   "pygments_lexer": "ipython3",
   "version": "3.12.9"
  }
 },
 "nbformat": 4,
 "nbformat_minor": 4
}
