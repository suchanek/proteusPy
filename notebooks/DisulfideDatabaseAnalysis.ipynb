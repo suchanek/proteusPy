version https://git-lfs.github.com/spec/v1
oid sha256:63345bae4107c6fa02ab66aee2359361525ef6f5e7985941210ba1de5056cc37
size 12681
