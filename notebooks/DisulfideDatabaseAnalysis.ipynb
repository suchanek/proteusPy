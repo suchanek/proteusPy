version https://git-lfs.github.com/spec/v1
oid sha256:6d3c9f033c66e24eb6936cf03632dd9396d441d3c00b04617a79edde9e55a69a
size 13370
