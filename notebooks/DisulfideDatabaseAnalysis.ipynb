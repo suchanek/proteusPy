{
 "cells": [
  {
   "cell_type": "code",
   "execution_count": null,
   "metadata": {},
   "outputs": [],
   "source": [
    "# proteusPy Disulfide Database Analysis\n",
    "# Author: Eric G. Suchanek, PhD.\n",
    "# Cα N, Cα, Cβ, C', Sγ Å ° ρ"
   ]
  },
  {
   "cell_type": "code",
   "execution_count": null,
   "metadata": {},
   "outputs": [],
   "source": [
    "from pathlib import Path\n",
    "import matplotlib.pyplot as plt\n",
    "import pyvista as pv\n",
    "import logging\n",
    "\n",
    "import os\n",
    "import pandas as pd\n",
    "import numpy as np\n",
    "import plotly.io as pio\n",
    "import plotly.express as px\n",
    "\n",
    "from proteusPy import (\n",
    "    Load_PDB_SS,\n",
    "    Disulfide,\n",
    "    DisulfideList,\n",
    "    DisulfideLoader,\n",
    "    create_logger,\n",
    "    configure_master_logger,\n",
    "    get_theme,\n",
    ")\n",
    "\n",
    "HOME = Path.home()\n",
    "PDB = Path(os.getenv(\"PDB\", HOME / \"pdb\"))\n",
    "PBAR_COLS = 78\n",
    "\n",
    "configure_master_logger(\"database_analysis.log\")\n",
    "\n",
    "theme = get_theme()\n",
    "if theme == \"light\":\n",
    "    pio.templates.default = \"plotly_white\"\n",
    "    print(\"Light Theme\")\n",
    "else:\n",
    "    pio.templates.default = \"plotly_dark\"\n",
    "    print(\"Dark Theme\")\n"
   ]
  },
  {
   "cell_type": "code",
   "execution_count": null,
   "metadata": {},
   "outputs": [],
   "source": [
    "pdb_full = Load_PDB_SS(subset=False, verbose=True)\n",
    "tot_ss = pdb_full.TotalDisulfides\n",
    "tot_ss"
   ]
  },
  {
   "cell_type": "code",
   "execution_count": null,
   "metadata": {},
   "outputs": [],
   "source": [
    "pdb_full.describe(quick=True)"
   ]
  },
  {
   "cell_type": "code",
   "execution_count": null,
   "metadata": {},
   "outputs": [],
   "source": []
  },
  {
   "cell_type": "code",
   "execution_count": null,
   "metadata": {},
   "outputs": [],
   "source": [
    "import matplotlib.pyplot as plt\n",
    "\n",
    "\n",
    "def extract_sg_distances(disulfide_list, cutoff=4):\n",
    "    \"\"\"\n",
    "    Extract and filter the sg_distance values from the disulfide list.\n",
    "\n",
    "    :param disulfide_list: List of disulfide objects.\n",
    "    :return: List of sg_distance values less than 10.\n",
    "    \"\"\"\n",
    "    distances = [ds.sg_distance for ds in disulfide_list if ds.sg_distance < cutoff]\n",
    "    return distances\n",
    "\n",
    "\n",
    "def extract_sg_bad_distances(disulfide_list, cutoff=4):\n",
    "    \"\"\"\n",
    "    Extract and filter the sg_distance values from the disulfide list.\n",
    "\n",
    "    :param disulfide_list: List of disulfide objects.\n",
    "    :return: List of sg_distance values less than 10.\n",
    "    \"\"\"\n",
    "    distances = [ds.sg_distance for ds in disulfide_list if ds.sg_distance >= cutoff]\n",
    "    return distances\n",
    "\n",
    "\n",
    "def extract_ca_distances(disulfide_list, cutoff=4):\n",
    "    \"\"\"\n",
    "    Extract and filter the sg_distance values from the disulfide list.\n",
    "\n",
    "    :param disulfide_list: List of disulfide objects.\n",
    "    :return: List of sg_distance values less than 10.\n",
    "    \"\"\"\n",
    "    distances = [ds.ca_distance for ds in disulfide_list if ds.ca_distance < cutoff]\n",
    "    return distances\n",
    "\n",
    "\n",
    "def extract_ca_bad_distances(disulfide_list, cutoff=4):\n",
    "    \"\"\"\n",
    "    Extract and filter the sg_distance values from the disulfide list.\n",
    "\n",
    "    :param disulfide_list: List of disulfide objects.\n",
    "    :return: List of sg_distance values less than 10.\n",
    "    \"\"\"\n",
    "    distances = [ds.ca_distance for ds in disulfide_list if ds.ca_distance >= cutoff]\n",
    "    return distances\n",
    "\n",
    "\n",
    "def plot_sg_distances(sg_distances, cutoff=4, flip=False):\n",
    "    \"\"\"\n",
    "    Plot the sg_distance values as a histogram using plotly express.\n",
    "\n",
    "    :param sg_distances: List of sg_distance values.\n",
    "    \"\"\"\n",
    "    # Convert to a Pandas DataFrame with a column named 'SG Distance'\n",
    "    df = pd.DataFrame(sg_distances, columns=[\"SG Distance\"])\n",
    "    xtitle = f\"Sγ Distance < {cutoff}\" if not flip else f\"Sγ Distance >= {cutoff}\"\n",
    "\n",
    "    fig = px.histogram(\n",
    "        df,\n",
    "        x=\"SG Distance\",  # Use the column name for the x-axis\n",
    "        nbins=50,\n",
    "        title=\"Sγ Distance Distribution\",\n",
    "    )\n",
    "    fig.update_layout(\n",
    "        xaxis_title=xtitle,\n",
    "        yaxis_title=\"Frequency\",\n",
    "        bargap=0.2,\n",
    "    )\n",
    "    fig.show()\n",
    "\n",
    "\n",
    "def plot_ca_distances(ca_distances, cutoff=4, flip=False):\n",
    "    \"\"\"\n",
    "    Plot the ca_distance values as a histogram using plotly express.\n",
    "\n",
    "    :param ca_distances: List of ca_distance values.\n",
    "    \"\"\"\n",
    "    # Convert to a Pandas DataFrame with a column named 'SG Distance'\n",
    "    df = pd.DataFrame(ca_distances, columns=[\"Ca Distance\"])\n",
    "    xtitle = f\"Cα Distance < {cutoff}\" if not flip else f\"Cα Distance >= {cutoff}\"\n",
    "\n",
    "    fig = px.histogram(\n",
    "        df,\n",
    "        x=\"Ca Distance\",  # Use the column name for the x-axis\n",
    "        nbins=50,\n",
    "        title=\"Cα Distance Distribution\",\n",
    "    )\n",
    "    fig.update_layout(\n",
    "        xaxis_title=xtitle,\n",
    "        yaxis_title=\"Frequency\",\n",
    "        bargap=0.2,\n",
    "    )\n",
    "    fig.show()"
   ]
  },
  {
   "cell_type": "code",
   "execution_count": null,
   "metadata": {},
   "outputs": [],
   "source": [
    "sg_distances = extract_sg_distances(pdb_full.SSList, cutoff=3)\n",
    "plot_sg_distances(sg_distances, cutoff=5)"
   ]
  },
  {
   "cell_type": "code",
   "execution_count": null,
   "metadata": {},
   "outputs": [],
   "source": [
    "sg_distances = extract_sg_bad_distances(pdb_full.SSList, cutoff=4)\n",
    "plot_sg_distances(sg_distances, cutoff=4, flip=True)"
   ]
  },
  {
   "cell_type": "code",
   "execution_count": null,
   "metadata": {},
   "outputs": [],
   "source": [
    "ca_distances = extract_ca_distances(pdb_full.SSList, cutoff=8)\n",
    "plot_ca_distances(ca_distances, cutoff=8, flip=False)"
   ]
  },
  {
   "cell_type": "code",
   "execution_count": null,
   "metadata": {},
   "outputs": [],
   "source": [
    "ca_distances = extract_ca_bad_distances(pdb_full.SSList, cutoff=8)\n",
    "plot_ca_distances(ca_distances, cutoff=8, flip=True)"
   ]
  },
  {
   "cell_type": "markdown",
   "metadata": {},
   "source": [
    "We can filter the database by instantiating the ``DisulfideLoader`` object directly with appropriate cutoff for Ca and Sγ-Sγ distances. This intantiates the ``DisulfideLoader`` object and rebuilds its internal state by reading the master disulfide list file."
   ]
  },
  {
   "cell_type": "code",
   "execution_count": null,
   "metadata": {},
   "outputs": [],
   "source": [
    "pdb_ca_filtered = DisulfideLoader(\n",
    "    subset=False, verbose=True, cutoff=8.0, sg_cutoff=-1.0\n",
    ")\n",
    "tot_ss_ca = pdb_ca_filtered.TotalDisulfides\n",
    "tot_ss_ca"
   ]
  },
  {
   "cell_type": "code",
   "execution_count": null,
   "metadata": {},
   "outputs": [],
   "source": [
    "pdb_ca_filtered.describe()"
   ]
  },
  {
   "cell_type": "code",
   "execution_count": null,
   "metadata": {},
   "outputs": [],
   "source": [
    "calculate_total_size(pdb_ca_filtered)"
   ]
  },
  {
   "cell_type": "code",
   "execution_count": null,
   "metadata": {},
   "outputs": [],
   "source": [
    "pdb_sg_filtered = DisulfideLoader(\n",
    "    subset=False, verbose=True, cutoff=-1.0, sg_cutoff=2.1\n",
    ")\n",
    "tot_ss_sg = pdb_sg_filtered.TotalDisulfides\n",
    "tot_ss_sg"
   ]
  },
  {
   "cell_type": "code",
   "execution_count": null,
   "metadata": {},
   "outputs": [],
   "source": [
    "pdb_sg_filtered.describe()"
   ]
  },
  {
   "cell_type": "code",
   "execution_count": null,
   "metadata": {},
   "outputs": [],
   "source": [
    "pdb_filtered = DisulfideLoader(subset=False, verbose=True, cutoff=8.0, sg_cutoff=2.1)\n",
    "tot_ss_filt = pdb_filtered.TotalDisulfides\n",
    "tot_ss_filt"
   ]
  },
  {
   "cell_type": "code",
   "execution_count": null,
   "metadata": {},
   "outputs": [],
   "source": [
    "pdb_filtered.describe()"
   ]
  },
  {
   "cell_type": "code",
   "execution_count": null,
   "metadata": {},
   "outputs": [],
   "source": [
    "filtered_ss = pdb_filtered.SSList\n",
    "filtered2 = filtered_ss.filter_by_bond_ideality(5)\n",
    "len(filtered2)"
   ]
  },
  {
   "cell_type": "code",
   "execution_count": null,
   "metadata": {
    "vscode": {
     "languageId": "markdown"
    }
   },
   "outputs": [],
   "source": []
  }
 ],
 "metadata": {
  "kernelspec": {
   "display_name": "ppydev (0.97.17)",
   "language": "python",
   "name": "ppydev"
  },
  "language_info": {
   "codemirror_mode": {
    "name": "ipython",
    "version": 3
   },
   "file_extension": ".py",
   "mimetype": "text/x-python",
   "name": "python",
   "nbconvert_exporter": "python",
   "pygments_lexer": "ipython3",
   "version": "3.11.7"
  }
 },
 "nbformat": 4,
 "nbformat_minor": 2
}
