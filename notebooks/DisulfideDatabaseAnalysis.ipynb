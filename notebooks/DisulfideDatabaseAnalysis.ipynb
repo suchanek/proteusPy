{
 "cells": [
  {
   "cell_type": "code",
   "execution_count": null,
   "metadata": {},
   "outputs": [],
   "source": [
    "# proteusPy Disulfide Database Analysis\n",
    "# Author: Eric G. Suchanek, PhD.\n",
    "# Cα N, Cα, Cβ, C', Sγ Å ° ρ"
   ]
  },
  {
   "cell_type": "code",
   "execution_count": 2,
   "metadata": {},
   "outputs": [
    {
     "name": "stdout",
     "output_type": "stream",
     "text": [
      "Dark Theme\n"
     ]
    }
   ],
   "source": [
    "from pathlib import Path\n",
    "import matplotlib.pyplot as plt\n",
    "import pyvista as pv\n",
    "import logging\n",
    "\n",
    "import os\n",
    "import pandas as pd\n",
    "import numpy as np\n",
    "import plotly.io as pio\n",
    "import plotly.express as px\n",
    "\n",
    "from proteusPy import (\n",
    "    Load_PDB_SS,\n",
    "    Disulfide,\n",
    "    DisulfideList,\n",
    "    DisulfideLoader,\n",
    "    create_logger,\n",
    "    configure_master_logger,\n",
    "    get_theme,\n",
    ")\n",
    "\n",
    "HOME = Path.home()\n",
    "PDB = Path(os.getenv(\"PDB\", HOME / \"pdb\"))\n",
    "PBAR_COLS = 78\n",
    "\n",
    "configure_master_logger(\"database_analysis.log\")\n",
    "\n",
    "theme = get_theme()\n",
    "if theme == \"light\":\n",
    "    pio.templates.default = \"plotly_white\"\n",
    "    print(\"Light Theme\")\n",
    "else:\n",
    "    pio.templates.default = \"plotly_dark\"\n",
    "    print(\"Dark Theme\")\n"
   ]
  },
  {
   "cell_type": "code",
   "execution_count": 3,
   "metadata": {},
   "outputs": [
    {
     "name": "stdout",
     "output_type": "stream",
     "text": [
      "-> load_PDB_SS(): Reading /Users/egs/miniforge3/envs/proteusPy/lib/python3.11/site-packages/proteusPy/data/PDB_SS_ALL_LOADER.pkl... \n",
      "-> load_PDB_SS(): Done Reading /Users/egs/miniforge3/envs/proteusPy/lib/python3.11/site-packages/proteusPy/data/PDB_SS_ALL_LOADER.pkl... \n",
      "    =========== RCSB Disulfide Database Summary ==============\n",
      "       =========== Built: 2024-11-20 21:52:47 ==============\n",
      "PDB IDs present:                    36968\n",
      "Disulfides loaded:                  175277\n",
      "Average structure resolution:       2.19 Å\n",
      "Lowest Energy Disulfide:            2q7q_75D_140D\n",
      "Highest Energy Disulfide:           6vxk_801B_806B\n",
      "Cα distance cutoff:                 -1.00 Å\n",
      "Sγ distance cutoff:                 -1.00 Å\n",
      "    ================= proteusPy: 0.97.17.dev2 =======================\n"
     ]
    }
   ],
   "source": [
    "pdb_full = Load_PDB_SS(subset=False, verbose=True)\n",
    "pdb_full.describe(quick=True)"
   ]
  },
  {
   "cell_type": "code",
   "execution_count": 8,
   "metadata": {},
   "outputs": [
    {
     "name": "stderr",
     "output_type": "stream",
     "text": [
      "proteusPy: INFO 2024-11-20 22:05:31,585 - proteusPy.DisulfideLoader.__init__ - Filtering Ca: old: 175277, new: 174718\n",
      "proteusPy: INFO 2024-11-20 22:05:31,764 - proteusPy.DisulfideLoader.__init__ - Filtering SG: old: 174718, new: 173598\n",
      "proteusPy: INFO 2024-11-20 22:05:44,660 - proteusPy.DisulfideClass_Constructor.__init__ - Building SS classes...\n",
      "proteusPy: INFO 2024-11-20 22:05:44,665 - proteusPy.DisulfideClass_Constructor.build_yourself - Creating binary SS classes...\n",
      "proteusPy: INFO 2024-11-20 22:05:47,449 - proteusPy.DisulfideClass_Constructor.build_yourself - Creating sixfold SS classes...\n",
      "proteusPy: INFO 2024-11-20 22:05:48,046 - proteusPy.DisulfideClass_Constructor.build_yourself - Creating eightfold SS classes...\n",
      "proteusPy: INFO 2024-11-20 22:05:48,711 - proteusPy.DisulfideClass_Constructor.build_yourself - Initialization complete.\n"
     ]
    }
   ],
   "source": [
    "pdb_ca_filtered = DisulfideLoader(\n",
    "    subset=False, verbose=True, cutoff=8.0, sg_cutoff=3.0\n",
    ")\n"
   ]
  },
  {
   "cell_type": "code",
   "execution_count": 7,
   "metadata": {},
   "outputs": [
    {
     "ename": "IndexError",
     "evalue": "list index out of range",
     "output_type": "error",
     "traceback": [
      "\u001b[0;31m---------------------------------------------------------------------------\u001b[0m",
      "\u001b[0;31mIndexError\u001b[0m                                Traceback (most recent call last)",
      "Cell \u001b[0;32mIn[7], line 1\u001b[0m\n\u001b[0;32m----> 1\u001b[0m \u001b[43mpdb_ca_filtered\u001b[49m\u001b[38;5;241;43m.\u001b[39;49m\u001b[43mdescribe\u001b[49m\u001b[43m(\u001b[49m\u001b[43m)\u001b[49m\n",
      "File \u001b[0;32m~/miniforge3/envs/proteusPy/lib/python3.11/site-packages/proteusPy/DisulfideLoader.py:381\u001b[0m, in \u001b[0;36mDisulfideLoader.describe\u001b[0;34m(self, quick)\u001b[0m\n\u001b[1;32m    379\u001b[0m sg_cutoff \u001b[38;5;241m=\u001b[39m \u001b[38;5;28mself\u001b[39m\u001b[38;5;241m.\u001b[39msg_cutoff\n\u001b[1;32m    380\u001b[0m timestr \u001b[38;5;241m=\u001b[39m time\u001b[38;5;241m.\u001b[39mstrftime(\u001b[38;5;124m\"\u001b[39m\u001b[38;5;124m%\u001b[39m\u001b[38;5;124mY-\u001b[39m\u001b[38;5;124m%\u001b[39m\u001b[38;5;124mm-\u001b[39m\u001b[38;5;132;01m%d\u001b[39;00m\u001b[38;5;124m \u001b[39m\u001b[38;5;124m%\u001b[39m\u001b[38;5;124mH:\u001b[39m\u001b[38;5;124m%\u001b[39m\u001b[38;5;124mM:\u001b[39m\u001b[38;5;124m%\u001b[39m\u001b[38;5;124mS\u001b[39m\u001b[38;5;124m\"\u001b[39m, time\u001b[38;5;241m.\u001b[39mlocaltime(\u001b[38;5;28mself\u001b[39m\u001b[38;5;241m.\u001b[39mtimestamp))\n\u001b[0;32m--> 381\u001b[0m ssMin, ssMax \u001b[38;5;241m=\u001b[39m \u001b[38;5;28;43mself\u001b[39;49m\u001b[38;5;241;43m.\u001b[39;49m\u001b[43mSSList\u001b[49m\u001b[38;5;241;43m.\u001b[39;49m\u001b[43mminmax_energy\u001b[49m\n\u001b[1;32m    383\u001b[0m \u001b[38;5;28mprint\u001b[39m(\u001b[38;5;124m\"\u001b[39m\u001b[38;5;124m    =========== RCSB Disulfide Database Summary ==============\u001b[39m\u001b[38;5;124m\"\u001b[39m)\n\u001b[1;32m    384\u001b[0m \u001b[38;5;28mprint\u001b[39m(\u001b[38;5;124mf\u001b[39m\u001b[38;5;124m\"\u001b[39m\u001b[38;5;124m       =========== Built: \u001b[39m\u001b[38;5;132;01m{\u001b[39;00mtimestr\u001b[38;5;132;01m}\u001b[39;00m\u001b[38;5;124m ==============\u001b[39m\u001b[38;5;124m\"\u001b[39m)\n",
      "File \u001b[0;32m~/miniforge3/envs/proteusPy/lib/python3.11/site-packages/proteusPy/DisulfideList.py:1180\u001b[0m, in \u001b[0;36mDisulfideList.minmax_energy\u001b[0;34m(self)\u001b[0m\n\u001b[1;32m   1173\u001b[0m \u001b[38;5;250m\u001b[39m\u001b[38;5;124;03m\"\"\"\u001b[39;00m\n\u001b[1;32m   1174\u001b[0m \u001b[38;5;124;03mReturn the Disulfides with the minimum and maximum energies\u001b[39;00m\n\u001b[1;32m   1175\u001b[0m \u001b[38;5;124;03mfrom the DisulfideList.\u001b[39;00m\n\u001b[1;32m   1176\u001b[0m \n\u001b[1;32m   1177\u001b[0m \u001b[38;5;124;03m:return: Disulfide with the given ID\u001b[39;00m\n\u001b[1;32m   1178\u001b[0m \u001b[38;5;124;03m\"\"\"\u001b[39;00m\n\u001b[1;32m   1179\u001b[0m sslist \u001b[38;5;241m=\u001b[39m \u001b[38;5;28msorted\u001b[39m(\u001b[38;5;28mself\u001b[39m\u001b[38;5;241m.\u001b[39mdata)\n\u001b[0;32m-> 1180\u001b[0m \u001b[38;5;28;01mreturn\u001b[39;00m \u001b[43msslist\u001b[49m\u001b[43m[\u001b[49m\u001b[38;5;241;43m0\u001b[39;49m\u001b[43m]\u001b[49m, sslist[\u001b[38;5;241m-\u001b[39m\u001b[38;5;241m1\u001b[39m]\n",
      "\u001b[0;31mIndexError\u001b[0m: list index out of range"
     ]
    }
   ],
   "source": [
    "pdb_ca_filtered.describe()"
   ]
  },
  {
   "cell_type": "code",
   "execution_count": 4,
   "metadata": {},
   "outputs": [],
   "source": [
    "import matplotlib.pyplot as plt\n",
    "\n",
    "\n",
    "def extract_sg_distances(disulfide_list, cutoff=4):\n",
    "    \"\"\"\n",
    "    Extract and filter the sg_distance values from the disulfide list.\n",
    "\n",
    "    :param disulfide_list: List of disulfide objects.\n",
    "    :return: List of sg_distance values less than 10.\n",
    "    \"\"\"\n",
    "    distances = [ds.sg_distance for ds in disulfide_list if ds.sg_distance < cutoff]\n",
    "    return distances\n",
    "\n",
    "\n",
    "def extract_sg_bad_distances(disulfide_list, cutoff=4):\n",
    "    \"\"\"\n",
    "    Extract and filter the sg_distance values from the disulfide list.\n",
    "\n",
    "    :param disulfide_list: List of disulfide objects.\n",
    "    :return: List of sg_distance values less than 10.\n",
    "    \"\"\"\n",
    "    distances = [ds.sg_distance for ds in disulfide_list if ds.sg_distance >= cutoff]\n",
    "    return distances\n",
    "\n",
    "\n",
    "def extract_ca_distances(disulfide_list, cutoff=4):\n",
    "    \"\"\"\n",
    "    Extract and filter the sg_distance values from the disulfide list.\n",
    "\n",
    "    :param disulfide_list: List of disulfide objects.\n",
    "    :return: List of sg_distance values less than 10.\n",
    "    \"\"\"\n",
    "    distances = [ds.ca_distance for ds in disulfide_list if ds.ca_distance < cutoff]\n",
    "    return distances\n",
    "\n",
    "\n",
    "def extract_ca_bad_distances(disulfide_list, cutoff=4):\n",
    "    \"\"\"\n",
    "    Extract and filter the sg_distance values from the disulfide list.\n",
    "\n",
    "    :param disulfide_list: List of disulfide objects.\n",
    "    :return: List of sg_distance values less than 10.\n",
    "    \"\"\"\n",
    "    distances = [ds.ca_distance for ds in disulfide_list if ds.ca_distance >= cutoff]\n",
    "    return distances\n",
    "\n",
    "\n",
    "def plot_sg_distances(sg_distances, cutoff=4, flip=False):\n",
    "    \"\"\"\n",
    "    Plot the sg_distance values as a histogram using plotly express.\n",
    "\n",
    "    :param sg_distances: List of sg_distance values.\n",
    "    \"\"\"\n",
    "    # Convert to a Pandas DataFrame with a column named 'SG Distance'\n",
    "    df = pd.DataFrame(sg_distances, columns=[\"SG Distance\"])\n",
    "    xtitle = f\"Sγ Distance < {cutoff}\" if not flip else f\"Sγ Distance >= {cutoff}\"\n",
    "\n",
    "    fig = px.histogram(\n",
    "        df,\n",
    "        x=\"SG Distance\",  # Use the column name for the x-axis\n",
    "        nbins=50,\n",
    "        title=\"Sγ Distance Distribution\",\n",
    "    )\n",
    "    fig.update_layout(\n",
    "        xaxis_title=xtitle,\n",
    "        yaxis_title=\"Frequency\",\n",
    "        bargap=0.2,\n",
    "    )\n",
    "    fig.show()\n",
    "\n",
    "\n",
    "def plot_ca_distances(ca_distances, cutoff=4, flip=False):\n",
    "    \"\"\"\n",
    "    Plot the ca_distance values as a histogram using plotly express.\n",
    "\n",
    "    :param ca_distances: List of ca_distance values.\n",
    "    \"\"\"\n",
    "    # Convert to a Pandas DataFrame with a column named 'SG Distance'\n",
    "    df = pd.DataFrame(ca_distances, columns=[\"Ca Distance\"])\n",
    "    xtitle = f\"Cα Distance < {cutoff}\" if not flip else f\"Cα Distance >= {cutoff}\"\n",
    "\n",
    "    fig = px.histogram(\n",
    "        df,\n",
    "        x=\"Ca Distance\",  # Use the column name for the x-axis\n",
    "        nbins=50,\n",
    "        title=\"Cα Distance Distribution\",\n",
    "    )\n",
    "    fig.update_layout(\n",
    "        xaxis_title=xtitle,\n",
    "        yaxis_title=\"Frequency\",\n",
    "        bargap=0.2,\n",
    "    )\n",
    "    fig.show()"
   ]
  },
  {
   "cell_type": "code",
   "execution_count": null,
   "metadata": {},
   "outputs": [],
   "source": [
    "sg_distances = extract_sg_distances(pdb_full.SSList, cutoff=3)\n",
    "plot_sg_distances(sg_distances, cutoff=5)"
   ]
  },
  {
   "cell_type": "code",
   "execution_count": null,
   "metadata": {},
   "outputs": [],
   "source": [
    "sg_distances = extract_sg_bad_distances(pdb_full.SSList, cutoff=4)\n",
    "plot_sg_distances(sg_distances, cutoff=4, flip=True)"
   ]
  },
  {
   "cell_type": "code",
   "execution_count": null,
   "metadata": {},
   "outputs": [],
   "source": [
    "ca_distances = extract_ca_distances(pdb_full.SSList, cutoff=8)\n",
    "plot_ca_distances(ca_distances, cutoff=8, flip=False)"
   ]
  },
  {
   "cell_type": "code",
   "execution_count": null,
   "metadata": {},
   "outputs": [],
   "source": [
    "ca_distances = extract_ca_bad_distances(pdb_full.SSList, cutoff=8)\n",
    "plot_ca_distances(ca_distances, cutoff=8, flip=True)"
   ]
  },
  {
   "cell_type": "markdown",
   "metadata": {},
   "source": [
    "We can filter the database by instantiating the ``DisulfideLoader`` object directly with appropriate cutoff for Ca and Sγ-Sγ distances. This intantiates the ``DisulfideLoader`` object and rebuilds its internal state by reading the master disulfide list file."
   ]
  },
  {
   "cell_type": "code",
   "execution_count": null,
   "metadata": {},
   "outputs": [
    {
     "name": "stderr",
     "output_type": "stream",
     "text": [
      "proteusPy: INFO 2024-11-20 21:33:33,441 - proteusPy.DisulfideClass_Constructor.__init__ - Building SS classes...\n",
      "proteusPy: INFO 2024-11-20 21:33:33,449 - proteusPy.DisulfideClass_Constructor.build_yourself - Creating binary SS classes...\n",
      "proteusPy: INFO 2024-11-20 21:33:36,189 - proteusPy.DisulfideClass_Constructor.build_yourself - Creating sixfold SS classes...\n",
      "proteusPy: INFO 2024-11-20 21:33:36,754 - proteusPy.DisulfideClass_Constructor.build_yourself - Creating eightfold SS classes...\n",
      "proteusPy: INFO 2024-11-20 21:33:37,402 - proteusPy.DisulfideClass_Constructor.build_yourself - Initialization complete.\n"
     ]
    },
    {
     "data": {
      "text/plain": [
       "173676"
      ]
     },
     "execution_count": 5,
     "metadata": {},
     "output_type": "execute_result"
    }
   ],
   "source": []
  },
  {
   "cell_type": "code",
   "execution_count": 6,
   "metadata": {},
   "outputs": [
    {
     "name": "stdout",
     "output_type": "stream",
     "text": [
      "    =========== RCSB Disulfide Database Summary ==============\n",
      "       =========== Built: 2024-11-20 21:33:02 ==============\n",
      "PDB IDs present:                    36796\n",
      "Disulfides loaded:                  173676\n",
      "Average structure resolution:       2.19 Å\n",
      "Lowest Energy Disulfide:            2q7q_75D_140D\n",
      "Highest Energy Disulfide:           6vxk_801B_806B\n",
      "Cα distance cutoff:                 8.00 Å\n",
      "Sγ distance cutoff:                 -1.00 Å\n",
      "    ================= proteusPy: 0.97.17.dev2 =======================\n"
     ]
    }
   ],
   "source": [
    "pdb_ca_filtered.describe()"
   ]
  },
  {
   "cell_type": "code",
   "execution_count": null,
   "metadata": {},
   "outputs": [],
   "source": [
    "calculate_total_size(pdb_ca_filtered)"
   ]
  },
  {
   "cell_type": "code",
   "execution_count": null,
   "metadata": {},
   "outputs": [],
   "source": [
    "pdb_sg_filtered = DisulfideLoader(\n",
    "    subset=False, verbose=True, cutoff=-1.0, sg_cutoff=2.1\n",
    ")\n",
    "tot_ss_sg = pdb_sg_filtered.TotalDisulfides\n",
    "tot_ss_sg"
   ]
  },
  {
   "cell_type": "code",
   "execution_count": null,
   "metadata": {},
   "outputs": [],
   "source": [
    "pdb_sg_filtered.describe()"
   ]
  },
  {
   "cell_type": "code",
   "execution_count": null,
   "metadata": {},
   "outputs": [],
   "source": [
    "pdb_filtered = DisulfideLoader(subset=False, verbose=True, cutoff=8.0, sg_cutoff=2.1)\n",
    "tot_ss_filt = pdb_filtered.TotalDisulfides\n",
    "tot_ss_filt"
   ]
  },
  {
   "cell_type": "code",
   "execution_count": null,
   "metadata": {},
   "outputs": [],
   "source": [
    "pdb_filtered.describe()"
   ]
  },
  {
   "cell_type": "code",
   "execution_count": null,
   "metadata": {},
   "outputs": [],
   "source": [
    "filtered_ss = pdb_filtered.SSList\n",
    "filtered2 = filtered_ss.filter_by_bond_ideality(5)\n",
    "len(filtered2)"
   ]
  },
  {
   "cell_type": "code",
   "execution_count": null,
   "metadata": {
    "vscode": {
     "languageId": "markdown"
    }
   },
   "outputs": [],
   "source": []
  }
 ],
 "metadata": {
  "kernelspec": {
   "display_name": "proteusPy (0.97.17)",
   "language": "python",
   "name": "proteuspy"
  },
  "language_info": {
   "codemirror_mode": {
    "name": "ipython",
    "version": 3
   },
   "file_extension": ".py",
   "mimetype": "text/x-python",
   "name": "python",
   "nbconvert_exporter": "python",
   "pygments_lexer": "ipython3",
   "version": "3.11.7"
  }
 },
 "nbformat": 4,
 "nbformat_minor": 2
}
