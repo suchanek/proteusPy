version https://git-lfs.github.com/spec/v1
oid sha256:323ec0553e0e5a21e445b458ff25693bb72be113e893c628705f3ec1c9bd3980
size 43969201
