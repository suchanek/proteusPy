{
 "cells": [
  {
   "cell_type": "code",
   "execution_count": null,
   "metadata": {},
   "outputs": [],
   "source": [
    "# proteusPy Disulfide Database Analysis\n",
    "# Author: Eric G. Suchanek, PhD."
   ]
  },
  {
   "cell_type": "code",
   "execution_count": 1,
   "metadata": {},
   "outputs": [],
   "source": [
    "from pathlib import Path\n",
    "import matplotlib.pyplot as plt\n",
    "import pyvista as pv\n",
    "import logging\n",
    "\n",
    "import os\n",
    "import pandas as pd\n",
    "import numpy as np\n",
    "from proteusPy.logger_config import (\n",
    "    list_all_loggers,\n",
    "    set_logger_level,\n",
    "    toggle_stream_handler,\n",
    "    configure_master_logger,\n",
    "    list_handlers,\n",
    "    disable_stream_handlers_for_namespace,\n",
    "    set_logging_level_for_all_handlers,\n",
    ")\n",
    "\n",
    "\n",
    "from proteusPy import (\n",
    "    Load_PDB_SS,\n",
    "    Disulfide,\n",
    "    DisulfideList,\n",
    "    DisulfideLoader,\n",
    "    torsion_to_class_string,\n",
    "    Bootstrap_PDB_SS,\n",
    "    load_disulfides_from_id,\n",
    "    create_logger,\n",
    "    configure_master_logger,\n",
    "    Vector3D,\n",
    ")\n",
    "\n",
    "from proteusPy.atoms import (\n",
    "    ATOM_COLORS,\n",
    "    ATOM_RADII_COVALENT,\n",
    "    ATOM_RADII_CPK,\n",
    "    BOND_COLOR,\n",
    "    BOND_RADIUS,\n",
    "    BS_SCALE,\n",
    "    FONTSIZE,\n",
    "    SPEC_POWER,\n",
    "    SPECULARITY,\n",
    ")\n",
    "\n",
    "from proteusPy.ProteusGlobals import *\n",
    "\n",
    "HOME = Path.home()\n",
    "PDB = Path(os.getenv(\"PDB\", HOME / \"pdb\"))\n",
    "\n",
    "MODEL_DIR = PDB / \"good\"\n",
    "\n",
    "PDB_DATA_DIR = PDB / \"data\"\n",
    "SAVE_DIR = HOME / \"Documents\" / \"proteusPyDocs\" / \"classes\"\n",
    "REPO_DIR = HOME / \"repos\" / \"proteusPy\" / \"data\"\n",
    "\n",
    "OCTANT = SAVE_DIR / \"octant\"\n",
    "OCTANT.mkdir(parents=True, exist_ok=True)\n",
    "\n",
    "BINARY = SAVE_DIR / \"binary\"\n",
    "BINARY.mkdir(parents=True, exist_ok=True)\n",
    "\n",
    "SEXTANT = SAVE_DIR / \"sextant\"\n",
    "SEXTANT.mkdir(parents=True, exist_ok=True)\n",
    "\n",
    "PBAR_COLS = 78\n",
    "configure_master_logger(\"database_analysis,log\")"
   ]
  },
  {
   "cell_type": "code",
   "execution_count": 2,
   "metadata": {},
   "outputs": [
    {
     "name": "stdout",
     "output_type": "stream",
     "text": [
      "-> load_PDB_SS(): Reading /Users/egs/miniforge3/envs/ppydev/lib/python3.11/site-packages/proteusPy/data/PDB_SS_ALL_LOADER.pkl... \n",
      "-> load_PDB_SS(): Done Reading /Users/egs/miniforge3/envs/ppydev/lib/python3.11/site-packages/proteusPy/data/PDB_SS_ALL_LOADER.pkl... \n"
     ]
    },
    {
     "data": {
      "text/plain": [
       "175277"
      ]
     },
     "execution_count": 2,
     "metadata": {},
     "output_type": "execute_result"
    }
   ],
   "source": [
    "pdb_full = Load_PDB_SS(subset=False, verbose=True)\n",
    "tot_ss = pdb_full.TotalDisulfides\n",
    "tot_ss"
   ]
  },
  {
   "cell_type": "code",
   "execution_count": 3,
   "metadata": {},
   "outputs": [
    {
     "name": "stdout",
     "output_type": "stream",
     "text": [
      "    =========== RCSB Disulfide Database Summary ==============\n",
      "       =========== Built: 2024-11-19 14:53:31 ==============\n",
      "PDB IDs present:                    36968\n",
      "Disulfides loaded:                  175277\n",
      "Average structure resolution:       2.19 Å\n",
      "Lowest Energy Disulfide:            2q7q_75D_140D\n",
      "Highest Energy Disulfide:           6vxk_801B_806B\n",
      "Cα distance cutoff:                 -1.00 Å\n",
      "Sg distance cutoff:                 -1.00 Å\n",
      "Total RAM Used:                     45.60 MB.\n",
      "    ================= proteusPy: 0.97.17.dev2 =======================\n"
     ]
    }
   ],
   "source": [
    "pdb_full.describe()"
   ]
  },
  {
   "cell_type": "code",
   "execution_count": null,
   "metadata": {},
   "outputs": [],
   "source": []
  },
  {
   "cell_type": "code",
   "execution_count": null,
   "metadata": {},
   "outputs": [],
   "source": []
  },
  {
   "cell_type": "markdown",
   "metadata": {},
   "source": [
    "We can filter the database by instantiating the ``DisulfideLoader`` object directly with appropriate filtering flags:"
   ]
  },
  {
   "cell_type": "code",
   "execution_count": null,
   "metadata": {},
   "outputs": [],
   "source": [
    "pdb_ca_filtered = DisulfideLoader(\n",
    "    subset=False, verbose=True, cutoff=8.0, sg_cutoff=-1.0\n",
    ")\n",
    "tot_ss_ca = pdb_ca_filtered.TotalDisulfides\n",
    "tot_ss_ca"
   ]
  },
  {
   "cell_type": "code",
   "execution_count": null,
   "metadata": {},
   "outputs": [],
   "source": [
    "pdb_ca_filtered.describe()"
   ]
  },
  {
   "cell_type": "code",
   "execution_count": null,
   "metadata": {},
   "outputs": [],
   "source": [
    "pdb_sg_filtered = DisulfideLoader(\n",
    "    subset=False, verbose=True, cutoff=-1.0, sg_cutoff=2.1\n",
    ")\n",
    "tot_ss_sg = pdb_sg_filtered.TotalDisulfides\n",
    "tot_ss_sg"
   ]
  },
  {
   "cell_type": "code",
   "execution_count": null,
   "metadata": {},
   "outputs": [],
   "source": [
    "pdb_sg_filtered.describe()"
   ]
  },
  {
   "cell_type": "code",
   "execution_count": 4,
   "metadata": {},
   "outputs": [
    {
     "name": "stderr",
     "output_type": "stream",
     "text": [
      "proteusPy: INFO 2024-11-19 15:03:34,504 - proteusPy.DisulfideClass_Constructor.__init__ - Building SS classes...\n",
      "proteusPy: INFO 2024-11-19 15:03:34,510 - proteusPy.DisulfideClass_Constructor.build_yourself - Creating binary SS classes...\n",
      "proteusPy: INFO 2024-11-19 15:03:37,028 - proteusPy.DisulfideClass_Constructor.build_yourself - Creating sixfold SS classes...\n",
      "proteusPy: INFO 2024-11-19 15:03:37,613 - proteusPy.DisulfideClass_Constructor.build_yourself - Creating eightfold SS classes...\n",
      "proteusPy: INFO 2024-11-19 15:03:38,286 - proteusPy.DisulfideClass_Constructor.build_yourself - Initialization complete.\n"
     ]
    },
    {
     "data": {
      "text/plain": [
       "163489"
      ]
     },
     "execution_count": 4,
     "metadata": {},
     "output_type": "execute_result"
    }
   ],
   "source": [
    "pdb_filtered = DisulfideLoader(subset=False, verbose=True, cutoff=8.0, sg_cutoff=2.1)\n",
    "tot_ss_filt = pdb_filtered.TotalDisulfides\n",
    "tot_ss_filt"
   ]
  },
  {
   "cell_type": "code",
   "execution_count": 5,
   "metadata": {},
   "outputs": [
    {
     "name": "stdout",
     "output_type": "stream",
     "text": [
      "    =========== RCSB Disulfide Database Summary ==============\n",
      "       =========== Built: 2024-11-19 15:03:02 ==============\n",
      "PDB IDs present:                    35347\n",
      "Disulfides loaded:                  163489\n",
      "Average structure resolution:       2.21 Å\n",
      "Lowest Energy Disulfide:            2q7q_75D_140D\n",
      "Highest Energy Disulfide:           6vxk_801B_806B\n",
      "Cα distance cutoff:                 8.00 Å\n",
      "Sg distance cutoff:                 2.10 Å\n",
      "Total RAM Used:                     45.60 MB.\n",
      "    ================= proteusPy: 0.97.17.dev2 =======================\n"
     ]
    }
   ],
   "source": [
    "pdb_filtered.describe()"
   ]
  },
  {
   "cell_type": "code",
   "execution_count": 9,
   "metadata": {},
   "outputs": [
    {
     "data": {
      "text/plain": [
       "151163"
      ]
     },
     "execution_count": 9,
     "metadata": {},
     "output_type": "execute_result"
    }
   ],
   "source": [
    "filtered_ss = pdb_filtered.SSList\n",
    "filtered2 = filtered_ss.filter_by_bond_ideality(5)\n",
    "len(filtered2)"
   ]
  },
  {
   "cell_type": "code",
   "execution_count": null,
   "metadata": {
    "vscode": {
     "languageId": "markdown"
    }
   },
   "outputs": [],
   "source": []
  }
 ],
 "metadata": {
  "kernelspec": {
   "display_name": "ppydev (0.97.17.dev2)",
   "language": "python",
   "name": "ppydev"
  },
  "language_info": {
   "codemirror_mode": {
    "name": "ipython",
    "version": 3
   },
   "file_extension": ".py",
   "mimetype": "text/x-python",
   "name": "python",
   "nbconvert_exporter": "python",
   "pygments_lexer": "ipython3",
   "version": "3.11.7"
  }
 },
 "nbformat": 4,
 "nbformat_minor": 2
}
