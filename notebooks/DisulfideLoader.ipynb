{
 "cells": [
  {
   "cell_type": "markdown",
   "metadata": {},
   "source": [
    "\n",
    "# DisulfideLoader.ipynb\n",
    "Demonstrating the ways to access Disulfide Bonds using the proteusPy\n",
    "package.\n",
    "\n",
    "Author: Eric G. Suchanek, PhD.\n",
    "\n",
    "Last Modification: 2025-02-14 14:51:45"
   ]
  },
  {
   "cell_type": "code",
   "execution_count": 1,
   "metadata": {},
   "outputs": [],
   "source": [
    "import proteusPy as pp\n",
    "from proteusPy import DisulfideList\n",
    "\n",
    "pp.configure_master_logger(\"loadertest.log\")\n",
    "_logger = pp.create_logger(\"__name__\", \"WARNING\")\n",
    "# pp.set_logger_level(\"loadertest\", \"WARNING\")"
   ]
  },
  {
   "cell_type": "markdown",
   "metadata": {},
   "source": [
    "Create an unfiltered ``DisulfideLoader`` with no distance constraints:"
   ]
  },
  {
   "cell_type": "code",
   "execution_count": 3,
   "metadata": {},
   "outputs": [
    {
     "name": "stderr",
     "output_type": "stream",
     "text": [
      "proteusPy: INFO 2025-02-15 14:59:16,718 - proteusPy.DisulfideLoader.__post_init__ - Reading disulfides from: /Users/egs/miniforge3/envs/ppydev/lib/python3.12/site-packages/proteusPy/data/PDB_all_ss.pkl... \n",
      "proteusPy: INFO 2025-02-15 14:59:22,587 - proteusPy.DisulfideLoader.__post_init__ - Filtering with Cα cutoff -1.00: old: 175277, new: 175277\n",
      "proteusPy: INFO 2025-02-15 14:59:22,589 - proteusPy.DisulfideLoader.__post_init__ - Filtering Sγ: cutoff -1.00: old: 175277, new: 175277\n",
      "proteusPy: INFO 2025-02-15 14:59:44,299 - proteusPy.DisulfideClassManager.__init__ - Loading binary consensus structure list from SS_consensus_class_32.pkl\n",
      "proteusPy: INFO 2025-02-15 14:59:44,302 - proteusPy.DisulfideClassManager.__init__ - Loading octant consensus structure list from SS_consensus_class_oct.pkl\n",
      "proteusPy: INFO 2025-02-15 14:59:44,318 - proteusPy.DisulfideClassManager.build_classes - Creating binary SS classes...\n",
      "proteusPy: INFO 2025-02-15 14:59:46,886 - proteusPy.DisulfideClassManager.build_classes - Creating eightfold SS classes...\n",
      "proteusPy: INFO 2025-02-15 14:59:49,605 - proteusPy.DisulfideClassManager.build_classes - Initialization complete.\n",
      "proteusPy: INFO 2025-02-15 14:59:49,612 - proteusPy.DisulfideLoader.__post_init__ - Loader initialization complete.\n"
     ]
    },
    {
     "name": "stdout",
     "output_type": "stream",
     "text": [
      "    =========== RCSB Disulfide Database Summary ============\n",
      "       =========== Built: 2025-02-15 14:59:16 ===========\n",
      "PDB IDs present:                 36968\n",
      "Disulfides loaded:               175277\n",
      "Average structure resolution:    2.19 Å\n",
      "Lowest Energy Disulfide:         2q7q_75D_140D\n",
      "Highest Energy Disulfide:        6vxk_801B_806B\n",
      "Cα distance cutoff:              -1.00 Å\n",
      "Sγ distance cutoff:              -1.00 Å\n",
      "               ===== proteusPy: 0.99.2.dev1 =====\n"
     ]
    }
   ],
   "source": [
    "pdb = pp.DisulfideLoader(verbose=True, subset=False, cutoff=-1, sg_cutoff=-1)"
   ]
  },
  {
   "cell_type": "markdown",
   "metadata": {},
   "source": [
    "Access to the database is through the ``DisulfideLoader`` object. We can retrieve disulfides by PDB ID, integer indexing or slicing, disulfide name and by disulfide class. These will be illustrated below."
   ]
  },
  {
   "cell_type": "markdown",
   "metadata": {},
   "source": [
    "- Access by PDB ID:"
   ]
  },
  {
   "cell_type": "code",
   "execution_count": 4,
   "metadata": {},
   "outputs": [
    {
     "data": {
      "text/plain": [
       "DisulfideList([<Disulfide 6dmb_203A_226A, Source: 6dmb, Resolution: 3.0 Å>,\n",
       "               <Disulfide 6dmb_234A_327A, Source: 6dmb, Resolution: 3.0 Å>,\n",
       "               <Disulfide 6dmb_296A_304A, Source: 6dmb, Resolution: 3.0 Å>])"
      ]
     },
     "execution_count": 4,
     "metadata": {},
     "output_type": "execute_result"
    }
   ],
   "source": [
    "pdb[\"6dmb\"]"
   ]
  },
  {
   "cell_type": "markdown",
   "metadata": {},
   "source": [
    "- Access by numerical index:"
   ]
  },
  {
   "cell_type": "code",
   "execution_count": 5,
   "metadata": {},
   "outputs": [
    {
     "data": {
      "text/plain": [
       "<Disulfide 6dmb_203A_226A, Source: 6dmb, Resolution: 3.0 Å>"
      ]
     },
     "execution_count": 5,
     "metadata": {},
     "output_type": "execute_result"
    }
   ],
   "source": [
    "pdb[0]"
   ]
  },
  {
   "cell_type": "markdown",
   "metadata": {},
   "source": [
    "- Access by slice:"
   ]
  },
  {
   "cell_type": "code",
   "execution_count": 6,
   "metadata": {},
   "outputs": [
    {
     "data": {
      "text/plain": [
       "DisulfideList([<Disulfide 6dmb_203A_226A, Source: 6dmb, Resolution: 3.0 Å>,\n",
       "               <Disulfide 6dmb_234A_327A, Source: 6dmb, Resolution: 3.0 Å>,\n",
       "               <Disulfide 6dmb_296A_304A, Source: 6dmb, Resolution: 3.0 Å>,\n",
       "               <Disulfide 3rik_4A_16A, Source: 3rik, Resolution: 2.0 Å>,\n",
       "               <Disulfide 3rik_18A_23A, Source: 3rik, Resolution: 2.0 Å>])"
      ]
     },
     "execution_count": 6,
     "metadata": {},
     "output_type": "execute_result"
    }
   ],
   "source": [
    "pdb[:5]"
   ]
  },
  {
   "cell_type": "markdown",
   "metadata": {},
   "source": [
    "- Access by Disulfide Name:"
   ]
  },
  {
   "cell_type": "code",
   "execution_count": 7,
   "metadata": {},
   "outputs": [
    {
     "data": {
      "text/plain": [
       "<Disulfide 6dmb_203A_226A, Source: 6dmb, Resolution: 3.0 Å>"
      ]
     },
     "execution_count": 7,
     "metadata": {},
     "output_type": "execute_result"
    }
   ],
   "source": [
    "pdb[\"6dmb_203A_226A\"]"
   ]
  },
  {
   "cell_type": "markdown",
   "metadata": {},
   "source": [
    "- Access by Class Identifier, (specifiy the base explicity with a 'o' or 'b' suffix). If no suffix is included than base=8 is assumed, (to list the classes and their number of elements use the ``DisulfideLoader.print_classes()`` method with appropriate base:"
   ]
  },
  {
   "cell_type": "code",
   "execution_count": null,
   "metadata": {},
   "outputs": [],
   "source": [
    "pdb[\"11212o\"]"
   ]
  },
  {
   "cell_type": "markdown",
   "metadata": {},
   "source": [
    "- Access by Class Identify without a suffix. Octant class is assumed"
   ]
  },
  {
   "cell_type": "code",
   "execution_count": null,
   "metadata": {},
   "outputs": [],
   "source": [
    "pdb[\"11212\"]"
   ]
  },
  {
   "cell_type": "markdown",
   "metadata": {},
   "source": [
    "It's easy to display statistical information about the returned lists as follows:"
   ]
  },
  {
   "cell_type": "markdown",
   "metadata": {},
   "source": [
    "- Show bond length and bond angle deviations for the first 1000 Disulfides:"
   ]
  },
  {
   "cell_type": "code",
   "execution_count": null,
   "metadata": {},
   "outputs": [],
   "source": [
    "subset = pdb[:1000]\n",
    "_ = subset.plot_deviation_histograms()"
   ]
  },
  {
   "cell_type": "markdown",
   "metadata": {},
   "source": [
    "- Show the Cα-Cα and Sγ-Sγ distances for the first 1000 Disulfides:"
   ]
  },
  {
   "cell_type": "code",
   "execution_count": null,
   "metadata": {},
   "outputs": [],
   "source": [
    "subset.plot_distances(distance_type=\"ca\", cutoff=-1, theme=\"auto\", log=True)"
   ]
  },
  {
   "cell_type": "markdown",
   "metadata": {},
   "source": [
    "- Show the Ca-Ca distances for the entire database:"
   ]
  },
  {
   "cell_type": "code",
   "execution_count": null,
   "metadata": {},
   "outputs": [],
   "source": [
    "pdb.plot_distances(theme=\"auto\", log=True, distance_type=\"ca\")"
   ]
  },
  {
   "cell_type": "markdown",
   "metadata": {},
   "source": [
    "As you can see, the unfiltered database has a number of disulfides that exceed the maximum possible distance, (~8 A).\n",
    "\n",
    "We can also display the torsion statistics in several ways:"
   ]
  },
  {
   "cell_type": "markdown",
   "metadata": {},
   "source": [
    "- Statistics for a slice of disulfides:"
   ]
  },
  {
   "cell_type": "code",
   "execution_count": null,
   "metadata": {},
   "outputs": [],
   "source": [
    "pdb[:10].display_torsion_statistics()"
   ]
  },
  {
   "cell_type": "markdown",
   "metadata": {},
   "source": [
    "- Statistics for a class:\n",
    "  - To list the binary classIDs use:"
   ]
  },
  {
   "cell_type": "code",
   "execution_count": null,
   "metadata": {},
   "outputs": [],
   "source": [
    "pdb.get_class_df(base=2)"
   ]
  },
  {
   "cell_type": "markdown",
   "metadata": {},
   "source": [
    "Since there are only 32 binary classes the above shows the overall distribution of Disulfides across ALL binary classes. The 8-fold (*octant*) class dataframe is *much* larger, (9697 members) and can be shown with:\n",
    "\n",
    "```python\n",
    "    pdb.get_class_df(base=8)\n",
    "```\n"
   ]
  },
  {
   "cell_type": "markdown",
   "metadata": {},
   "source": [
    "  Let's look at one of the binary classes (note: creating long lists of Disulfides takes time. The next cell takes over 12 seconds on my M3 Max MacBook Pro):"
   ]
  },
  {
   "cell_type": "code",
   "execution_count": null,
   "metadata": {},
   "outputs": [],
   "source": [
    "pdb[\"02202b\"].display_torsion_statistics(save=False, theme=\"auto\")"
   ]
  },
  {
   "cell_type": "markdown",
   "metadata": {},
   "source": [
    "The above shows quite large deviations for the dihedral angles. This suggests that the class is very broad in structural diversity. This is to be expected with a coarse structural filter, and was the driving reason to develop the *octant* dihedral angle quantization method."
   ]
  },
  {
   "cell_type": "code",
   "execution_count": null,
   "metadata": {},
   "outputs": [],
   "source": [
    "pdb[\"11212\"].display_torsion_statistics(save=False, theme=\"auto\")"
   ]
  },
  {
   "cell_type": "markdown",
   "metadata": {},
   "source": [
    "- Statistics for a specific pdbID:"
   ]
  },
  {
   "cell_type": "code",
   "execution_count": null,
   "metadata": {},
   "outputs": [],
   "source": [
    "pdb[\"6dmb\"].display_torsion_statistics(theme=\"auto\")"
   ]
  },
  {
   "cell_type": "markdown",
   "metadata": {},
   "source": [
    "Finally, we can readily display either individual Disulfides or lists of them as follows:"
   ]
  },
  {
   "cell_type": "code",
   "execution_count": null,
   "metadata": {},
   "outputs": [],
   "source": [
    "best_ss = pdb[\"2q7q_75D_140D\"]\n",
    "worst_ss = pdb[\"6vxk_801B_806B\"]\n",
    "duo = DisulfideList([best_ss, worst_ss], \"bestworst\")"
   ]
  },
  {
   "cell_type": "code",
   "execution_count": null,
   "metadata": {},
   "outputs": [],
   "source": [
    "best_ss.display(style=\"sb\")"
   ]
  },
  {
   "cell_type": "markdown",
   "metadata": {},
   "source": [
    "We can display the list as multiple panels:"
   ]
  },
  {
   "cell_type": "code",
   "execution_count": null,
   "metadata": {},
   "outputs": [],
   "source": [
    "duo.display(style=\"sb\", light=\"dark\")"
   ]
  },
  {
   "cell_type": "markdown",
   "metadata": {},
   "source": [
    "Or we can display them overlaid onto a common coordinate frame:"
   ]
  },
  {
   "cell_type": "code",
   "execution_count": null,
   "metadata": {},
   "outputs": [],
   "source": [
    "duo.display_overlay()"
   ]
  },
  {
   "cell_type": "code",
   "execution_count": null,
   "metadata": {},
   "outputs": [],
   "source": []
  },
  {
   "cell_type": "code",
   "execution_count": null,
   "metadata": {},
   "outputs": [],
   "source": []
  }
 ],
 "metadata": {
  "kernelspec": {
   "display_name": "ppydev",
   "language": "python",
   "name": "python3"
  },
  "language_info": {
   "codemirror_mode": {
    "name": "ipython",
    "version": 3
   },
   "file_extension": ".py",
   "mimetype": "text/x-python",
   "name": "python",
   "nbconvert_exporter": "python",
   "pygments_lexer": "ipython3",
   "version": "3.12.9"
  }
 },
 "nbformat": 4,
 "nbformat_minor": 2
}
