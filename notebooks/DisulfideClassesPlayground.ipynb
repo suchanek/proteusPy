{
 "cells": [
  {
   "cell_type": "code",
   "execution_count": 1,
   "metadata": {},
   "outputs": [
    {
     "name": "stdout",
     "output_type": "stream",
     "text": [
      "--> proteusPy 0.63dev: Memory Used: 0.22 GB\n",
      "-> load_PDB_SS(): Reading /Users/egs/repos/proteusPy/proteusPy/data/PDB_SS_ALL_LOADER.pkl... done.\n",
      "    =========== RCSB Disulfide Database Summary ==============\n",
      "       =========== Built: 2023-03-11 10:56:26 ==============\n",
      "PDB IDs present:                    35818\n",
      "Disulfides loaded:                  120494\n",
      "Average structure resolution:       2.34 Å\n",
      "Lowest Energy Disulfide:            2q7q_75D_140D\n",
      "Highest Energy Disulfide:           1toz_456A_467A\n",
      "Ca distance cutoff:                 8.00 Å\n",
      "Total RAM Used:                     31.05 GB.\n",
      "    ================= proteusPy: 0.63dev =======================\n",
      "--> proteusPy 0.63dev: Memory Used: 4.06 GB\n"
     ]
    }
   ],
   "source": [
    "# DisulfideBond Class Analysis Dictionary creation\n",
    "# Author: Eric G. Suchanek, PhD.\n",
    "# (c) 2023 Eric G. Suchanek, PhD., All Rights Reserved\n",
    "# License: MIT\n",
    "# Last Modification: 2/18/23\n",
    "# Cα Cβ Sγ\n",
    "\n",
    "import pandas as pd\n",
    "import numpy as np\n",
    "\n",
    "import pyvista as pv\n",
    "from pyvista import set_plot_theme\n",
    "\n",
    "import proteusPy\n",
    "from proteusPy import *\n",
    "from proteusPy.Disulfide import *\n",
    "from proteusPy.DisulfideList import DisulfideList\n",
    "from proteusPy.utility import print_memory_used\n",
    "\n",
    "# pyvista setup for notebooks\n",
    "pv.set_jupyter_backend('trame')\n",
    "#set_plot_theme('dark')\n",
    "\n",
    "print_memory_used()\n",
    "\n",
    "PDB_SS = Load_PDB_SS(verbose=True, subset=False)\n",
    "PDB_SS.describe()\n",
    "print_memory_used()\n"
   ]
  },
  {
   "cell_type": "code",
   "execution_count": 2,
   "metadata": {},
   "outputs": [],
   "source": [
    "# the average structures for each class, returned as a \n",
    "# list of disulfides\n",
    "cons_list = PDB_SS.tclass.load_consensus_file()"
   ]
  },
  {
   "cell_type": "code",
   "execution_count": 3,
   "metadata": {},
   "outputs": [
    {
     "name": "stdout",
     "output_type": "stream",
     "text": [
      "Cutoff: 0.001 accounts for  99.149% and is 2979 members long.\n",
      "Cutoff:  0.01 accounts for  91.283% and is  940 members long.\n",
      "Cutoff:  0.02 accounts for  86.209% and is  592 members long.\n",
      "Cutoff:  0.06 accounts for  75.871% and is  286 members long.\n",
      "Cutoff:  0.08 accounts for  71.537% and is  224 members long.\n",
      "Cutoff:   0.1 accounts for  68.195% and is  187 members long.\n",
      "Cutoff:   0.2 accounts for  54.870% and is   93 members long.\n",
      "Cutoff:   0.4 accounts for  41.939% and is   46 members long.\n",
      "Cutoff:   0.6 accounts for  32.563% and is   27 members long.\n",
      "Cutoff:   0.8 accounts for  27.714% and is   20 members long.\n",
      "Cutoff:   1.0 accounts for  23.936% and is   16 members long.\n"
     ]
    }
   ],
   "source": [
    "cutoff = [.001, .01, .02, .06, .08, .1, .2, .4, .6, .8, 1.0]\n",
    "\n",
    "for c in cutoff:\n",
    "    class_df = PDB_SS.tclass.filter_sixclass_by_percentage(c)\n",
    "    tot = class_df['percentage'].sum()\n",
    "    print(f'Cutoff: {c:5.3} accounts for {tot:7.3f}% and is {class_df.shape[0]:4} members long.')\n",
    "\n"
   ]
  },
  {
   "cell_type": "code",
   "execution_count": 4,
   "metadata": {},
   "outputs": [
    {
     "name": "stderr",
     "output_type": "stream",
     "text": [
      "100%|███████████████████████████████████████| 1189/1189 [00:22<00:00, 53.51it/s]969.66it/s, Cnt=510]\n",
      " 13%|██████▌                                            | 511/4004 [00:22<02:33, 22.72it/s, Cnt=510]\n"
     ]
    }
   ],
   "source": [
    "clslist = PDB_SS.extract_class('15554')"
   ]
  },
  {
   "cell_type": "code",
   "execution_count": null,
   "metadata": {},
   "outputs": [],
   "source": []
  },
  {
   "cell_type": "code",
   "execution_count": null,
   "metadata": {},
   "outputs": [],
   "source": [
    "from pytube import YouTube\n",
    "\n",
    "link = input(\"Enter a youtube video's URL\") # i.e. https://youtu.be/dQw4w9WgXcQ\n",
    "\n",
    "yt = YouTube(link)\n",
    "yt.streams.first().download()\n",
    "\n",
    "print(\"downloaded\", link)"
   ]
  },
  {
   "cell_type": "code",
   "execution_count": null,
   "metadata": {},
   "outputs": [],
   "source": []
  }
 ],
 "metadata": {
  "kernelspec": {
   "display_name": "proteus",
   "language": "python",
   "name": "python3"
  },
  "language_info": {
   "codemirror_mode": {
    "name": "ipython",
    "version": 3
   },
   "file_extension": ".py",
   "mimetype": "text/x-python",
   "name": "python",
   "nbconvert_exporter": "python",
   "pygments_lexer": "ipython3",
   "version": "3.9.15"
  },
  "orig_nbformat": 4,
  "vscode": {
   "interpreter": {
    "hash": "67eff1aa11768869f1d52cc83ff6f6101b62fd1ade35be784bd3767ddc8bd460"
   }
  }
 },
 "nbformat": 4,
 "nbformat_minor": 2
}
