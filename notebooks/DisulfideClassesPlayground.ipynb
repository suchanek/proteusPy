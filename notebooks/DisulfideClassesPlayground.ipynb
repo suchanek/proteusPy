{
 "cells": [
  {
   "cell_type": "markdown",
   "metadata": {},
   "source": [
    "# Disulfide Binary Class Breakdown\n",
    "\n",
    "|   class_id | SS_Classname   | FXN        |   count |   incidence |   percentage |\n",
    "|-----------:|:---------------|:-----------|--------:|------------:|-------------:|\n",
    "|      00000 | -LHSpiral      | UNK        |   40943 |  0.23359    |    23.359    |\n",
    "|      00002 | 00002          | UNK        |    9391 |  0.0535781  |     5.35781  |\n",
    "|      00020 | -LHHook        | UNK        |    4844 |  0.0276363  |     2.76363  |\n",
    "|      00022 | 00022          | UNK        |    2426 |  0.0138409  |     1.38409  |\n",
    "|      00200 | -RHStaple      | Allosteric |   16146 |  0.092117   |     9.2117   |\n",
    "|      00202 | 00202          | UNK        |    1396 |  0.00796454 |     0.796454 |\n",
    "|      00220 | 00220          | UNK        |    7238 |  0.0412946  |     4.12946  |\n",
    "|      00222 | 00222          | UNK        |    6658 |  0.0379856  |     3.79856  |\n",
    "|      02000 | 02000          | UNK        |    7104 |  0.0405301  |     4.05301  |\n",
    "|      02002 | 02002          | UNK        |    8044 |  0.0458931  |     4.58931  |\n",
    "|      02020 | -LHStaple      | UNK        |    3154 |  0.0179944  |     1.79944  |\n",
    "|      02022 | 02022          | UNK        |    1146 |  0.00653822 |     0.653822 |\n",
    "|      02200 | -RHHook        | UNK        |    7115 |  0.0405929  |     4.05929  |\n",
    "|      02202 | 02202          | UNK        |    1021 |  0.00582507 |     0.582507 |\n",
    "|      02220 | -RHSpiral      | UNK        |    8989 |  0.0512845  |     5.12845  |\n",
    "|      02222 | 02222          | UNK        |    7641 |  0.0435939  |     4.35939  |\n",
    "|      20000 | ±LHSpiral      | UNK        |    5007 |  0.0285662  |     2.85662  |\n",
    "|      20002 | +LHSpiral      | UNK        |    1611 |  0.00919117 |     0.919117 |\n",
    "|      20020 | ±LHHook        | UNK        |    1258 |  0.00717721 |     0.717721 |\n",
    "|      20022 | +LHHook        | UNK        |     823 |  0.00469542 |     0.469542 |\n",
    "|      20200 | ±RHStaple      | UNK        |     745 |  0.00425042 |     0.425042 |\n",
    "|      20202 | +RHStaple      | UNK        |     538 |  0.00306943 |     0.306943 |\n",
    "|      20220 | ±RHHook        | Catalytic  |    1907 |  0.0108799  |     1.08799  |\n",
    "|      20222 | 20222          | UNK        |    1159 |  0.00661239 |     0.661239 |\n",
    "|      22000 | -/+LHHook      | UNK        |    3652 |  0.0208356  |     2.08356  |\n",
    "|      22002 | 22002          | UNK        |    2052 |  0.0117072  |     1.17072  |\n",
    "|      22020 | ±LHStaple      | UNK        |    1791 |  0.0102181  |     1.02181  |\n",
    "|      22022 | +LHStaple      | UNK        |     579 |  0.00330334 |     0.330334 |\n",
    "|      22200 | -/+RHHook      | UNK        |    8169 |  0.0466062  |     4.66062  |\n",
    "|      22202 | +RHHook        | UNK        |     895 |  0.0051062  |     0.51062  |\n",
    "|      22220 | ±RHSpiral      | UNK        |    3581 |  0.0204305  |     2.04305  |\n",
    "|      22222 | +RHSpiral      | UNK        |    8254 |  0.0470912  |     4.70912  |\n"
   ]
  },
  {
   "cell_type": "code",
   "execution_count": 1,
   "metadata": {},
   "outputs": [
    {
     "ename": "ImportError",
     "evalue": "cannot import name 'plot_count_vs_class_df' from 'proteusPy.DisulfideClasses' (/Users/egs/miniforge3/envs/ppydev/lib/python3.12/site-packages/proteusPy/DisulfideClasses.py)",
     "output_type": "error",
     "traceback": [
      "\u001b[0;31m---------------------------------------------------------------------------\u001b[0m",
      "\u001b[0;31mImportError\u001b[0m                               Traceback (most recent call last)",
      "Cell \u001b[0;32mIn[1], line 10\u001b[0m\n\u001b[1;32m      7\u001b[0m \u001b[38;5;28;01mimport\u001b[39;00m\u001b[38;5;250m \u001b[39m\u001b[38;5;21;01mpyvista\u001b[39;00m\u001b[38;5;250m \u001b[39m\u001b[38;5;28;01mas\u001b[39;00m\u001b[38;5;250m \u001b[39m\u001b[38;5;21;01mpv\u001b[39;00m\n\u001b[1;32m      8\u001b[0m \u001b[38;5;28;01mfrom\u001b[39;00m\u001b[38;5;250m \u001b[39m\u001b[38;5;21;01mpyvista\u001b[39;00m\u001b[38;5;250m \u001b[39m\u001b[38;5;28;01mimport\u001b[39;00m set_plot_theme\n\u001b[0;32m---> 10\u001b[0m \u001b[38;5;28;01mimport\u001b[39;00m\u001b[38;5;250m \u001b[39m\u001b[38;5;21;01mproteusPy\u001b[39;00m\u001b[38;5;250m \u001b[39m\u001b[38;5;28;01mas\u001b[39;00m\u001b[38;5;250m \u001b[39m\u001b[38;5;21;01mpp\u001b[39;00m\n\u001b[1;32m     11\u001b[0m \u001b[38;5;66;03m#from proteusPy import Disulfide, Load_PDB_SS, DisulfideList\u001b[39;00m\n\u001b[1;32m     12\u001b[0m \u001b[38;5;66;03m#from proteusPy.utility import print_memory_used\u001b[39;00m\n\u001b[1;32m     13\u001b[0m \u001b[38;5;66;03m#from proteusPy.DisulfideClasses import (\u001b[39;00m\n\u001b[0;32m   (...)\u001b[0m\n\u001b[1;32m     17\u001b[0m \n\u001b[1;32m     18\u001b[0m \u001b[38;5;66;03m# pyvista setup for notebooks\u001b[39;00m\n\u001b[1;32m     19\u001b[0m pv\u001b[38;5;241m.\u001b[39mset_jupyter_backend(\u001b[38;5;124m\"\u001b[39m\u001b[38;5;124mtrame\u001b[39m\u001b[38;5;124m\"\u001b[39m)\n",
      "File \u001b[0;32m~/miniforge3/envs/ppydev/lib/python3.12/site-packages/proteusPy/__init__.py:50\u001b[0m\n\u001b[1;32m     43\u001b[0m \u001b[38;5;28;01mfrom\u001b[39;00m\u001b[38;5;250m \u001b[39m\u001b[38;5;21;01m.\u001b[39;00m\u001b[38;5;21;01mDisulfide\u001b[39;00m\u001b[38;5;250m \u001b[39m\u001b[38;5;28;01mimport\u001b[39;00m (\n\u001b[1;32m     44\u001b[0m     Disulfide,\n\u001b[1;32m     45\u001b[0m     Initialize_Disulfide_From_Coords,\n\u001b[1;32m     46\u001b[0m     disulfide_energy_function,\n\u001b[1;32m     47\u001b[0m     minimize_ss_energy,\n\u001b[1;32m     48\u001b[0m )\n\u001b[1;32m     49\u001b[0m \u001b[38;5;28;01mfrom\u001b[39;00m\u001b[38;5;250m \u001b[39m\u001b[38;5;21;01m.\u001b[39;00m\u001b[38;5;21;01mDisulfideClass_Constructor\u001b[39;00m\u001b[38;5;250m \u001b[39m\u001b[38;5;28;01mimport\u001b[39;00m DisulfideClass_Constructor\n\u001b[0;32m---> 50\u001b[0m \u001b[38;5;28;01mfrom\u001b[39;00m\u001b[38;5;250m \u001b[39m\u001b[38;5;21;01m.\u001b[39;00m\u001b[38;5;21;01mDisulfideClasses\u001b[39;00m\u001b[38;5;250m \u001b[39m\u001b[38;5;28;01mimport\u001b[39;00m (\n\u001b[1;32m     51\u001b[0m     angle_within_range,\n\u001b[1;32m     52\u001b[0m     filter_by_percentage,\n\u001b[1;32m     53\u001b[0m     get_angle_class,\n\u001b[1;32m     54\u001b[0m     get_quadrant,\n\u001b[1;32m     55\u001b[0m     get_section,\n\u001b[1;32m     56\u001b[0m     get_ss_id,\n\u001b[1;32m     57\u001b[0m     is_between,\n\u001b[1;32m     58\u001b[0m     plot_classes_vs_cutoff,\n\u001b[1;32m     59\u001b[0m     plot_count_vs_class_df,\n\u001b[1;32m     60\u001b[0m     plot_count_vs_classid,\n\u001b[1;32m     61\u001b[0m     torsion_to_class_string,\n\u001b[1;32m     62\u001b[0m     torsion_to_eightclass,\n\u001b[1;32m     63\u001b[0m     torsion_to_sixclass,\n\u001b[1;32m     64\u001b[0m )\n\u001b[1;32m     65\u001b[0m \u001b[38;5;28;01mfrom\u001b[39;00m\u001b[38;5;250m \u001b[39m\u001b[38;5;21;01m.\u001b[39;00m\u001b[38;5;21;01mDisulfideExceptions\u001b[39;00m\u001b[38;5;250m \u001b[39m\u001b[38;5;28;01mimport\u001b[39;00m (\n\u001b[1;32m     66\u001b[0m     DisulfideConstructionException,\n\u001b[1;32m     67\u001b[0m     DisulfideConstructionWarning,\n\u001b[0;32m   (...)\u001b[0m\n\u001b[1;32m     70\u001b[0m     DisulfideParseWarning,\n\u001b[1;32m     71\u001b[0m )\n\u001b[1;32m     72\u001b[0m \u001b[38;5;28;01mfrom\u001b[39;00m\u001b[38;5;250m \u001b[39m\u001b[38;5;21;01m.\u001b[39;00m\u001b[38;5;21;01mDisulfideList\u001b[39;00m\u001b[38;5;250m \u001b[39m\u001b[38;5;28;01mimport\u001b[39;00m DisulfideList, extract_disulfide, load_disulfides_from_id\n",
      "\u001b[0;31mImportError\u001b[0m: cannot import name 'plot_count_vs_class_df' from 'proteusPy.DisulfideClasses' (/Users/egs/miniforge3/envs/ppydev/lib/python3.12/site-packages/proteusPy/DisulfideClasses.py)"
     ]
    }
   ],
   "source": [
    "# DisulfideBond Class Analysis Dictionary creation\n",
    "# Author: Eric G. Suchanek, PhD.\n",
    "# (c) 2024 Eric G. Suchanek, PhD., All Rights Reserved\n",
    "# License: BSD\n",
    "# Last Modification: 2/20/24 -egs-\n",
    "\n",
    "import pyvista as pv\n",
    "from pyvista import set_plot_theme\n",
    "\n",
    "import proteusPy as pp\n",
    "#from proteusPy import Disulfide, Load_PDB_SS, DisulfideList\n",
    "#from proteusPy.utility import print_memory_used\n",
    "#from proteusPy.DisulfideClasses import (\n",
    "#    plot_count_vs_classid,\n",
    "#    plot_count_vs_class_df,\n",
    "#)\n",
    "\n",
    "# pyvista setup for notebooks\n",
    "pv.set_jupyter_backend(\"trame\")\n",
    "\n",
    "\n",
    "THEME = \"light\""
   ]
  },
  {
   "cell_type": "code",
   "execution_count": null,
   "metadata": {},
   "outputs": [],
   "source": [
    "PDB_SS = pp.Load_PDB_SS(verbose=True, subset=False)\n",
    "pp.print_memory_used()"
   ]
  },
  {
   "cell_type": "code",
   "execution_count": null,
   "metadata": {},
   "outputs": [],
   "source": [
    "# plot the sextant class incidence as a function of binary class input. Generates 32 graphs\n",
    "\n",
    "PDB_SS.plot_binary_to_eightclass_incidence(\n",
    "    theme=\"light\", save=False, savedir=\"/Users/egs/Documents/proteusPy\"\n",
    ")"
   ]
  },
  {
   "cell_type": "code",
   "execution_count": null,
   "metadata": {},
   "outputs": [],
   "source": [
    "# the average structures for each class, returned as a\n",
    "# list of disulfides\n",
    "cons_list = PDB_SS.tclass.load_consensus_file()\n",
    "PDB_SS.plot_classes_vs_cutoff(0.5, 50)"
   ]
  },
  {
   "cell_type": "code",
   "execution_count": null,
   "metadata": {},
   "outputs": [],
   "source": [
    "PDB_SS.tclass.eightclass_df"
   ]
  },
  {
   "cell_type": "code",
   "execution_count": null,
   "metadata": {},
   "outputs": [],
   "source": [
    "pp.plot_count_vs_classid(PDB_SS.tclass.eightclass_df, title=\"Disulfides by Octant Class\")"
   ]
  },
  {
   "cell_type": "markdown",
   "metadata": {},
   "source": []
  },
  {
   "cell_type": "code",
   "execution_count": null,
   "metadata": {},
   "outputs": [],
   "source": [
    "PDB_SS.plot_classes_vs_cutoff(0.2, 50)"
   ]
  },
  {
   "cell_type": "code",
   "execution_count": null,
   "metadata": {},
   "outputs": [],
   "source": [
    "PDB_SS.tclass.sslist_from_classid(\"+RHHook\")"
   ]
  },
  {
   "cell_type": "code",
   "execution_count": null,
   "metadata": {},
   "outputs": [],
   "source": [
    "# Remapping binary classes into six-space\n",
    "# the tclass.binary_to_six_classes() function returns\n",
    "# all possible combinations as a list of sextant-based\n",
    "# strings. These variable names correspond to the names given by\n",
    "# Hogg et al.\n",
    "\n",
    "# most prevelent\n",
    "LHSpiral_neg = PDB_SS.tclass.binary_to_six_class(\"00000\")\n",
    "RHSpiral_neg = PDB_SS.tclass.binary_to_six_class(\"02220\")\n",
    "\n",
    "LHSpiral_pminus = PDB_SS.tclass.binary_to_six_class(\"20000\")\n",
    "LHSpiral_plus = PDB_SS.tclass.binary_to_six_class(\"20002\")\n",
    "\n",
    "LHHook_neg = PDB_SS.tclass.binary_to_six_class(\"00020\")\n",
    "LHHook_pminus = PDB_SS.tclass.binary_to_six_class(\"20020\")\n",
    "LHHook_plus = PDB_SS.tclass.binary_to_six_class(\"20022\")\n",
    "LHHook_minus_plus = PDB_SS.tclass.binary_to_six_class(\"22000\")\n",
    "\n",
    "# Catalytic\n",
    "RHHook_pminus = PDB_SS.tclass.binary_to_six_class(\"20220\")\n",
    "\n",
    "RHHook_minus = PDB_SS.tclass.binary_to_six_class(\"02200\")\n",
    "\n",
    "# Allosteric\n",
    "RHStaple_neg = PDB_SS.tclass.binary_to_six_class(\"00200\")\n",
    "\n",
    "RHStaple_pminus = PDB_SS.tclass.binary_to_six_class(\"20200\")\n",
    "RHStaple_plus = PDB_SS.tclass.binary_to_six_class(\"20202\")\n",
    "\n",
    "LHStaple_neg = PDB_SS.tclass.binary_to_six_class(\"02020\")\n",
    "LHStaple_pminus = PDB_SS.tclass.binary_to_six_class(\"22020\")\n",
    "LHStaple_plus = PDB_SS.tclass.binary_to_six_class(\"22022\")\n",
    "\n",
    "RHSpiral_pminus = PDB_SS.tclass.binary_to_six_class(\"22220\")\n",
    "RHSpiral_plus = PDB_SS.tclass.binary_to_six_class(\"22222\")"
   ]
  },
  {
   "cell_type": "markdown",
   "metadata": {},
   "source": [
    "# Examining a Catalytic Disulfide Class\n",
    "RHHook_pminus is considered to be 'catalytic', so we can\n",
    "look more closely in six-space by examining the number of disulfides within\n",
    "each of the possible six-space strings computed above:\n",
    "\n",
    "For each six-class ID in the combo list, return the sslist represented by\n",
    "that class and calculate the number of SS in it. \n",
    "Plot the results."
   ]
  },
  {
   "cell_type": "code",
   "execution_count": null,
   "metadata": {},
   "outputs": [],
   "source": [
    "df2 = enumerate_class_fromlist(RHStaple_neg, 8)\n",
    "plot_count_vs_class_df(df2, \"RHStaple_neg (Allosteric)\", theme=\"light\")"
   ]
  },
  {
   "cell_type": "code",
   "execution_count": null,
   "metadata": {},
   "outputs": [],
   "source": [
    "df = enumerate_class_fromlist(LHSpiral_neg, 8)\n",
    "plot_count_vs_class_df(df, title=\"LHSpiral_neg\", theme=\"light\")"
   ]
  },
  {
   "cell_type": "code",
   "execution_count": null,
   "metadata": {},
   "outputs": [],
   "source": [
    "df4 = enumerate_class_fromlist(RHSpiral_plus, 8)\n",
    "plot_count_vs_classid(df4, title=\"RHSpiral_plus\", theme=THEME)"
   ]
  },
  {
   "cell_type": "code",
   "execution_count": null,
   "metadata": {},
   "outputs": [],
   "source": []
  },
  {
   "cell_type": "markdown",
   "metadata": {},
   "source": []
  },
  {
   "cell_type": "code",
   "execution_count": null,
   "metadata": {},
   "outputs": [],
   "source": []
  },
  {
   "cell_type": "code",
   "execution_count": null,
   "metadata": {},
   "outputs": [],
   "source": [
    "from scipy.optimize import minimize\n",
    "import numpy as np\n",
    "\n",
    "\n",
    "def energy_function(x):\n",
    "    chi1, chi2, chi3, chi4, chi5 = x\n",
    "    energy = 2.0 * (np.cos(np.deg2rad(3.0 * chi1)) + np.cos(np.deg2rad(3.0 * chi5)))\n",
    "    energy += np.cos(np.deg2rad(3.0 * chi2)) + np.cos(np.deg2rad(3.0 * chi4))\n",
    "    energy += (\n",
    "        3.5 * np.cos(np.deg2rad(2.0 * chi3))\n",
    "        + 0.6 * np.cos(np.deg2rad(3.0 * chi3))\n",
    "        + 10.1\n",
    "    )\n",
    "    return energy\n",
    "\n",
    "\n",
    "initial_guess = [\n",
    "    -60.0,\n",
    "    -60.0,\n",
    "    90.0,\n",
    "    -60.0,\n",
    "    -60.0,\n",
    "]  # initial guess for chi1, chi2, chi3, chi4, chi5\n",
    "result = minimize(energy_function, initial_guess, method=\"Nelder-Mead\")\n",
    "minimum_energy = result.fun\n",
    "inputs = result.x\n",
    "inputs[0]"
   ]
  },
  {
   "cell_type": "code",
   "execution_count": null,
   "metadata": {},
   "outputs": [],
   "source": [
    "best_ss = Disulfide(\"BestDisulfide\")\n",
    "best_ss.build_model(inputs[0], inputs[1], inputs[2], inputs[3], inputs[4])\n",
    "best_ss.pprint()"
   ]
  },
  {
   "cell_type": "code",
   "execution_count": null,
   "metadata": {},
   "outputs": [],
   "source": [
    "def download_and_save_binary(url, filename):\n",
    "    import requests\n",
    "\n",
    "    response = requests.get(url)\n",
    "    content = response.content\n",
    "    open(filename, \"wb+\").write(content)\n",
    "\n",
    "\n",
    "# download_and_save_binary(\"https://github.com/suchanek/proteusPy/blob/0adcd3185604f87b5f366232473a961fb67e6ac9/proteusPy/data/PDB_SS_ALL_LOADER.pkl\", \"SS.pkl\")"
   ]
  },
  {
   "cell_type": "code",
   "execution_count": null,
   "metadata": {},
   "outputs": [],
   "source": []
  }
 ],
 "metadata": {
  "kernelspec": {
   "display_name": "ppydev (0.98.4.dev2)",
   "language": "python",
   "name": "ppydev"
  },
  "language_info": {
   "codemirror_mode": {
    "name": "ipython",
    "version": 3
   },
   "file_extension": ".py",
   "mimetype": "text/x-python",
   "name": "python",
   "nbconvert_exporter": "python",
   "pygments_lexer": "ipython3",
   "version": "3.12.8"
  }
 },
 "nbformat": 4,
 "nbformat_minor": 2
}
