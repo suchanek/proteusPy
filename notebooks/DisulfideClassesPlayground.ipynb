{
 "cells": [
  {
   "cell_type": "code",
   "execution_count": null,
   "metadata": {},
   "outputs": [],
   "source": [
    "# DisulfideBond Class Analysis Dictionary creation\n",
    "# Author: Eric G. Suchanek, PhD.\n",
    "# (c) 2023 Eric G. Suchanek, PhD., All Rights Reserved\n",
    "# License: MIT\n",
    "# Last Modification: 2/18/23\n",
    "# Cα Cβ Sγ\n",
    "\n",
    "import pandas as pd\n",
    "import numpy as np\n",
    "\n",
    "import pyvista as pv\n",
    "from pyvista import set_plot_theme\n",
    "\n",
    "import proteusPy\n",
    "from proteusPy import *\n",
    "from proteusPy.Disulfide import *\n",
    "from proteusPy.DisulfideList import DisulfideList\n",
    "from proteusPy.utility import print_memory_used\n",
    "\n",
    "# pyvista setup for notebooks\n",
    "pv.set_jupyter_backend('trame')\n",
    "#set_plot_theme('dark')\n",
    "\n",
    "print_memory_used()\n",
    "\n",
    "PDB_SS = Load_PDB_SS(verbose=True, subset=False)\n",
    "PDB_SS.describe()\n",
    "print_memory_used()\n"
   ]
  },
  {
   "cell_type": "code",
   "execution_count": null,
   "metadata": {},
   "outputs": [],
   "source": [
    "# the average structures for each class, returned as a \n",
    "# list of disulfides\n",
    "cons_list = PDB_SS.tclass.load_consensus_file()"
   ]
  },
  {
   "cell_type": "code",
   "execution_count": null,
   "metadata": {},
   "outputs": [],
   "source": [
    "PDB_SS.plot_classes_vs_cutoff(.5, 50)"
   ]
  },
  {
   "cell_type": "code",
   "execution_count": null,
   "metadata": {},
   "outputs": [],
   "source": [
    "sixclass_df = PDB_SS.tclass.sixclass_df.copy()\n",
    "sixclass_df.sort_values(by='percentage', ascending=False, inplace=True)\n",
    "sixclass_df.head(40)\n"
   ]
  },
  {
   "cell_type": "code",
   "execution_count": null,
   "metadata": {},
   "outputs": [],
   "source": [
    "clslist = PDB_SS.extract_class('15554')\n",
    "#clslist"
   ]
  },
  {
   "cell_type": "code",
   "execution_count": null,
   "metadata": {},
   "outputs": [],
   "source": [
    "combo = PDB_SS.tclass.binary_to_six_class('00002')"
   ]
  },
  {
   "cell_type": "code",
   "execution_count": null,
   "metadata": {},
   "outputs": [],
   "source": [
    "len(combo)"
   ]
  },
  {
   "cell_type": "code",
   "execution_count": null,
   "metadata": {},
   "outputs": [],
   "source": [
    "combo"
   ]
  },
  {
   "attachments": {},
   "cell_type": "markdown",
   "metadata": {},
   "source": [
    "# Disulfide Binary Class Breakdown\n",
    "\n",
    "|   class_id | SS_Classname   | FXN        |   count |   incidence |\n",
    "|-----------:|:---------------|:-----------|--------:|------------:|\n",
    "|      00000 | -LHSpiral      | UNK        |   31513 |  0.261092   |\n",
    "|      00002 | 00002          | UNK        |    5805 |  0.0480956  |\n",
    "|      00020 | -LHHook        | UNK        |    3413 |  0.0282774  |\n",
    "|      00022 | 00022          | UNK        |    1940 |  0.0160733  |\n",
    "|      00200 | -RHStaple      | Allosteric |   12735 |  0.105512   |\n",
    "|      00202 | 00202          | UNK        |     993 |  0.00822721 |\n",
    "|      00220 | 00220          | UNK        |    5674 |  0.0470103  |\n",
    "|      00222 | 00222          | UNK        |    5092 |  0.0421883  |\n",
    "|      02000 | 02000          | UNK        |    4749 |  0.0393465  |\n",
    "|      02002 | 02002          | UNK        |    3774 |  0.0312684  |\n",
    "|      02020 | -LHStaple      | UNK        |    1494 |  0.0123781  |\n",
    "|      02022 | 02022          | UNK        |     591 |  0.00489656 |\n",
    "|      02200 | -RHHook        | UNK        |    5090 |  0.0421717  |\n",
    "|      02202 | 02202          | UNK        |     533 |  0.00441602 |\n",
    "|      02220 | -RHSpiral      | UNK        |    6751 |  0.0559335  |\n",
    "|      02222 | 02222          | UNK        |    3474 |  0.0287828  |\n",
    "|      20000 | ±LHSpiral      | UNK        |    3847 |  0.0318732  |\n",
    "|      20002 | +LHSpiral      | UNK        |     875 |  0.00724956 |\n",
    "|      20020 | ±LHHook        | UNK        |     803 |  0.00665302 |\n",
    "|      20022 | +LHHook        | UNK        |     602 |  0.0049877  |\n",
    "|      20200 | ±RHStaple      | UNK        |     419 |  0.0034715  |\n",
    "|      20202 | +RHStaple      | UNK        |     293 |  0.00242757 |\n",
    "|      20220 | ±RHHook        | Catalytic  |    1435 |  0.0118893  |\n",
    "|      20222 | 20222          | UNK        |     488 |  0.00404318 |\n",
    "|      22000 | -/+LHHook      | UNK        |    2455 |  0.0203402  |\n",
    "|      22002 | 22002          | UNK        |    1027 |  0.00850891 |\n",
    "|      22020 | ±LHStaple      | UNK        |    1046 |  0.00866633 |\n",
    "|      22022 | +LHStaple      | UNK        |     300 |  0.00248556 |\n",
    "|      22200 | -/+RHHook      | UNK        |    6684 |  0.0553783  |\n",
    "|      22202 | +RHHook        | UNK        |     593 |  0.00491313 |\n",
    "|      22220 | ±RHSpiral      | UNK        |    2544 |  0.0210776  |\n",
    "|      22222 | +RHSpiral      | UNK        |    3665 |  0.0303653  |\n"
   ]
  },
  {
   "cell_type": "code",
   "execution_count": 13,
   "metadata": {},
   "outputs": [],
   "source": [
    "# Remapping binary classes into six-space\n",
    "# the tclass.binary_to_six_classes() function returns\n",
    "# all possible combinations as a list of sextant-based\n",
    "# strings. These variable names correspond to the names given by\n",
    "# Hogg et al.\n",
    "\n",
    "# most prevelent\n",
    "LHSpiral_neg = PDB_SS.tclass.binary_to_six_class(\"00000\")\n",
    "RHSpiral_neg = PDB_SS.tclass.binary_to_six_class(\"02220\")\n",
    "\n",
    "LHSpiral_pminus = PDB_SS.tclass.binary_to_six_class(\"20000\")\n",
    "LHSpiral_plus = PDB_SS.tclass.binary_to_six_class(\"20002\")\n",
    "\n",
    "LHHook_neg = PDB_SS.tclass.binary_to_six_class(\"00020\")\n",
    "LHHook_pminus = PDB_SS.tclass.binary_to_six_class(\"20020\")\n",
    "LHHook_plus = PDB_SS.tclass.binary_to_six_class(\"20022\")\n",
    "LHHook_minus_plus = PDB_SS.tclass.binary_to_six_class(\"22000\")\n",
    "\n",
    "# Catalytic\n",
    "RHHook_pminus = PDB_SS.tclass.binary_to_six_class(\"20220\")\n",
    "\n",
    "RHHook_minus = PDB_SS.tclass.binary_to_six_class(\"02200\")\n",
    "\n",
    "# Allosteric\n",
    "RHStaple_neg = PDB_SS.tclass.binary_to_six_class(\"00200\")\n",
    "\n",
    "RHStaple_pminus = PDB_SS.tclass.binary_to_six_class(\"20200\")\n",
    "RHStaple_plus = PDB_SS.tclass.binary_to_six_class(\"20202\")\n",
    "\n",
    "LHStaple_neg = PDB_SS.tclass.binary_to_six_class(\"02020\")\n",
    "LHStaple_pminus = PDB_SS.tclass.binary_to_six_class(\"22020\")\n",
    "LHStaple_plus = PDB_SS.tclass.binary_to_six_class(\"22022\")\n",
    "\n",
    "RHSpiral_pminus = PDB_SS.tclass.binary_to_six_class(\"22220\")\n",
    "RHSpiral_pminus = PDB_SS.tclass.binary_to_six_class(\"22220\")\n",
    "\n"
   ]
  },
  {
   "cell_type": "code",
   "execution_count": null,
   "metadata": {},
   "outputs": [],
   "source": [
    "RHHook_pminus"
   ]
  },
  {
   "cell_type": "code",
   "execution_count": 24,
   "metadata": {},
   "outputs": [],
   "source": [
    "# RHHook_pminus is considered to be 'catalytic', so we can\n",
    "# look more closely in six-space by examining the number of disulfides within\n",
    "# each of the possible six-space strings computed above:\n",
    "# For each six-class ID in the combo list, return the sslist represented by\n",
    "# that class and calculate the number of SS in it. \n",
    "# Plot the results.\n",
    "\n",
    "# catalytic RHHook_pminus\n",
    "def enumerate_sixclass_fromlist(sslist):\n",
    "    x = []\n",
    "    y = []\n",
    "\n",
    "    for sixcls in sslist:\n",
    "        if sixcls is not None:\n",
    "            _y = PDB_SS.tclass.sslist_from_classid(sixcls)\n",
    "            # it's possible to have 0 SS in a class\n",
    "            if _y is not None:\n",
    "                # only append if we have both.\n",
    "                x.append(sixcls)\n",
    "                y.append(len(_y))\n",
    "\n",
    "    sslist_df = pd.DataFrame(columns=['cls', 'count'])\n",
    "    sslist_df['cls'] = x\n",
    "    sslist_df['count'] = y\n",
    "    return(sslist_df)\n",
    "    \n",
    "\n"
   ]
  },
  {
   "cell_type": "code",
   "execution_count": 25,
   "metadata": {},
   "outputs": [],
   "source": [
    "df = enumerate_sixclass_fromlist(RHHook_pminus)"
   ]
  },
  {
   "cell_type": "code",
   "execution_count": 26,
   "metadata": {},
   "outputs": [
    {
     "data": {
      "text/plain": [
       "<AxesSubplot: >"
      ]
     },
     "execution_count": 26,
     "metadata": {},
     "output_type": "execute_result"
    },
    {
     "data": {
      "image/png": "[encoded data removed]",
      "text/plain": [
       "<Figure size 640x480 with 1 Axes>"
      ]
     },
     "metadata": {},
     "output_type": "display_data"
    }
   ],
   "source": [
    "df.plot()"
   ]
  },
  {
   "cell_type": "code",
   "execution_count": null,
   "metadata": {},
   "outputs": [],
   "source": []
  },
  {
   "cell_type": "code",
   "execution_count": null,
   "metadata": {},
   "outputs": [],
   "source": []
  },
  {
   "cell_type": "code",
   "execution_count": null,
   "metadata": {},
   "outputs": [],
   "source": []
  },
  {
   "cell_type": "code",
   "execution_count": null,
   "metadata": {},
   "outputs": [],
   "source": []
  }
 ],
 "metadata": {
  "kernelspec": {
   "display_name": "proteus",
   "language": "python",
   "name": "python3"
  },
  "language_info": {
   "codemirror_mode": {
    "name": "ipython",
    "version": 3
   },
   "file_extension": ".py",
   "mimetype": "text/x-python",
   "name": "python",
   "nbconvert_exporter": "python",
   "pygments_lexer": "ipython3",
   "version": "3.9.15"
  },
  "orig_nbformat": 4,
  "vscode": {
   "interpreter": {
    "hash": "67eff1aa11768869f1d52cc83ff6f6101b62fd1ade35be784bd3767ddc8bd460"
   }
  }
 },
 "nbformat": 4,
 "nbformat_minor": 2
}
