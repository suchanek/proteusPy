{
 "cells": [
  {
   "cell_type": "markdown",
   "metadata": {},
   "source": [
    "# Disulfide Binary Class Breakdown\n",
    "|   class_id | SS_Classname   | FXN        |   count |   incidence |   percentage |\n",
    "|-----------:|:---------------|:-----------|--------:|------------:|-------------:|\n",
    "|      00000 | -LHSpiral      | UNK        |   40943 |  0.23359    |    23.359    |\n",
    "|      00002 | 00002          | UNK        |    9391 |  0.0535781  |     5.35781  |\n",
    "|      00020 | -LHHook        | UNK        |    4844 |  0.0276363  |     2.76363  |\n",
    "|      00022 | 00022          | UNK        |    2426 |  0.0138409  |     1.38409  |\n",
    "|      00200 | -RHStaple      | Allosteric |   16146 |  0.092117   |     9.2117   |\n",
    "|      00202 | 00202          | UNK        |    1396 |  0.00796454 |     0.796454 |\n",
    "|      00220 | 00220          | UNK        |    7238 |  0.0412946  |     4.12946  |\n",
    "|      00222 | 00222          | UNK        |    6658 |  0.0379856  |     3.79856  |\n",
    "|      02000 | 02000          | UNK        |    7104 |  0.0405301  |     4.05301  |\n",
    "|      02002 | 02002          | UNK        |    8044 |  0.0458931  |     4.58931  |\n",
    "|      02020 | -LHStaple      | UNK        |    3154 |  0.0179944  |     1.79944  |\n",
    "|      02022 | 02022          | UNK        |    1146 |  0.00653822 |     0.653822 |\n",
    "|      02200 | -RHHook        | UNK        |    7115 |  0.0405929  |     4.05929  |\n",
    "|      02202 | 02202          | UNK        |    1021 |  0.00582507 |     0.582507 |\n",
    "|      02220 | -RHSpiral      | UNK        |    8989 |  0.0512845  |     5.12845  |\n",
    "|      02222 | 02222          | UNK        |    7641 |  0.0435939  |     4.35939  |\n",
    "|      20000 | ±LHSpiral      | UNK        |    5007 |  0.0285662  |     2.85662  |\n",
    "|      20002 | +LHSpiral      | UNK        |    1611 |  0.00919117 |     0.919117 |\n",
    "|      20020 | ±LHHook        | UNK        |    1258 |  0.00717721 |     0.717721 |\n",
    "|      20022 | +LHHook        | UNK        |     823 |  0.00469542 |     0.469542 |\n",
    "|      20200 | ±RHStaple      | UNK        |     745 |  0.00425042 |     0.425042 |\n",
    "|      20202 | +RHStaple      | UNK        |     538 |  0.00306943 |     0.306943 |\n",
    "|      20220 | ±RHHook        | Catalytic  |    1907 |  0.0108799  |     1.08799  |\n",
    "|      20222 | 20222          | UNK        |    1159 |  0.00661239 |     0.661239 |\n",
    "|      22000 | -/+LHHook      | UNK        |    3652 |  0.0208356  |     2.08356  |\n",
    "|      22002 | 22002          | UNK        |    2052 |  0.0117072  |     1.17072  |\n",
    "|      22020 | ±LHStaple      | UNK        |    1791 |  0.0102181  |     1.02181  |\n",
    "|      22022 | +LHStaple      | UNK        |     579 |  0.00330334 |     0.330334 |\n",
    "|      22200 | -/+RHHook      | UNK        |    8169 |  0.0466062  |     4.66062  |\n",
    "|      22202 | +RHHook        | UNK        |     895 |  0.0051062  |     0.51062  |\n",
    "|      22220 | ±RHSpiral      | UNK        |    3581 |  0.0204305  |     2.04305  |\n",
    "|      22222 | +RHSpiral      | UNK        |    8254 |  0.0470912  |     4.70912  |\n"
   ]
  },
  {
   "cell_type": "code",
   "execution_count": null,
   "metadata": {},
   "outputs": [],
   "source": [
    "# DisulfideBond Class Analysis Dictionary creation\n",
    "# Author: Eric G. Suchanek, PhD.\n",
    "# (c) 2025 Eric G. Suchanek, PhD., All Rights Reserved\n",
    "# Last Modification: 2025-02-09 19:01:35 -egs-\n",
    "\n",
    "import pyvista as pv\n",
    "from pathlib import Path\n",
    "\n",
    "# pyvista setup for notebooks\n",
    "pv.set_jupyter_backend(\"trame\")\n",
    "\n",
    "\n",
    "THEME = \"auto\"\n",
    "from proteusPy.ProteusGlobals import DATA_DIR\n",
    "\n",
    "HOME = Path.home()\n",
    "\n",
    "SAVE_DIR = HOME / \"Documents\" / \"proteusPyDocs\" / \"classes\"\n",
    "REPO_DIR = HOME / \"repos\" / \"proteusPy\" / \"data\"\n",
    "\n",
    "OCTANT = SAVE_DIR / \"octant\"\n",
    "OCTANT.mkdir(parents=True, exist_ok=True)\n",
    "\n",
    "BINARY = SAVE_DIR / \"binary\"\n",
    "BINARY.mkdir(parents=True, exist_ok=True)\n",
    "\n",
    "SEXTANT = SAVE_DIR / \"sextant\"\n",
    "SEXTANT.mkdir(parents=True, exist_ok=True)\n",
    "\n",
    "PBAR_COLS = 78"
   ]
  },
  {
   "cell_type": "code",
   "execution_count": null,
   "metadata": {},
   "outputs": [],
   "source": [
    "import proteusPy as pp\n",
    "from proteusPy.DisulfideBase import Disulfide, DisulfideList"
   ]
  },
  {
   "cell_type": "code",
   "execution_count": null,
   "metadata": {},
   "outputs": [],
   "source": [
    "PDB_SS = pp.Load_PDB_SS(verbose=True, subset=False)\n",
    "pp.print_memory_used()"
   ]
  },
  {
   "cell_type": "code",
   "execution_count": null,
   "metadata": {},
   "outputs": [],
   "source": [
    "# plot the sextant class incidence as a function of binary class input. Generates 32 graphs\n",
    "\n",
    "PDB_SS.plot_binary_to_eightclass_incidence(\n",
    "    theme=\"auto\", save=False, savedir=str(BINARY)\n",
    ")"
   ]
  },
  {
   "cell_type": "code",
   "execution_count": null,
   "metadata": {},
   "outputs": [],
   "source": [
    "# the average structures for each class, returned as a\n",
    "# list of disulfides\n",
    "PDB_SS.plot_classes_vs_cutoff(0.5, 50)"
   ]
  },
  {
   "cell_type": "code",
   "execution_count": null,
   "metadata": {},
   "outputs": [],
   "source": [
    "PDB_SS.tclass.eightclass_df"
   ]
  },
  {
   "cell_type": "code",
   "execution_count": null,
   "metadata": {},
   "outputs": [],
   "source": [
    "PDB_SS.plot_count_vs_classid(base=8)"
   ]
  },
  {
   "cell_type": "code",
   "execution_count": null,
   "metadata": {},
   "outputs": [],
   "source": [
    "PDB_SS.plot_classes_vs_cutoff(0.2, 50)"
   ]
  },
  {
   "cell_type": "code",
   "execution_count": null,
   "metadata": {},
   "outputs": [],
   "source": [
    "# Remapping binary classes into eight-space\n",
    "# These variable names correspond to the names given by\n",
    "# Hogg et al.\n",
    "\n",
    "# most prevelent\n",
    "LHSpiral_neg = \"00000\"\n",
    "RHSpiral_neg = \"02220\"\n",
    "\n",
    "LHSpiral_pminus = \"20000\"\n",
    "LHSpiral_plus = \"20002\"\n",
    "\n",
    "LHHook_neg = \"00020\"\n",
    "LHHook_pminus = \"20020\"\n",
    "LHHook_plus = \"20022\"\n",
    "LHHook_minus_plus = \"22000\"\n",
    "\n",
    "# Catalytic\n",
    "RHHook_pminus = \"20220\"\n",
    "\n",
    "RHHook_minus = \"02200\"\n",
    "\n",
    "# Allosteric\n",
    "RHStaple_neg = \"00200\"\n",
    "\n",
    "RHStaple_pminus = \"20200\"\n",
    "RHStaple_plus = \"20202\"\n",
    "\n",
    "LHStaple_neg = \"02020\"\n",
    "LHStaple_pminus = \"22020\"\n",
    "LHStaple_plus = \"22022\"\n",
    "\n",
    "RHSpiral_pminus = \"22220\"\n",
    "RHSpiral_plus = \"22222\""
   ]
  },
  {
   "cell_type": "markdown",
   "metadata": {},
   "source": [
    "# Examining a Catalytic Disulfide Class\n",
    "RHHook_pminus is considered to be 'catalytic', so we can\n",
    "look more closely in six-space by examining the number of disulfides within\n",
    "each of the possible six-space strings computed above:\n",
    "\n",
    "For each six-class ID in the combo list, return the sslist represented by\n",
    "that class and calculate the number of SS in it. \n",
    "Plot the results."
   ]
  },
  {
   "cell_type": "code",
   "execution_count": null,
   "metadata": {},
   "outputs": [],
   "source": [
    "PDB_SS.plot_count_vs_class_df(\n",
    "    RHStaple_neg, \"RHStaple_neg (Allosteric)\", theme=\"auto\", log=False\n",
    ")"
   ]
  },
  {
   "cell_type": "code",
   "execution_count": null,
   "metadata": {},
   "outputs": [],
   "source": [
    "PDB_SS.plot_count_vs_class_df(LHSpiral_neg, title=\"LHSpiral_neg\", theme=\"auto\")"
   ]
  },
  {
   "cell_type": "code",
   "execution_count": null,
   "metadata": {},
   "outputs": [],
   "source": [
    "PDB_SS.plot_count_vs_class_df_paginated(\n",
    "    RHSpiral_plus, title=\"RHSpiral_plus\", theme=THEME\n",
    ")"
   ]
  },
  {
   "cell_type": "code",
   "execution_count": null,
   "metadata": {},
   "outputs": [],
   "source": []
  },
  {
   "cell_type": "markdown",
   "metadata": {},
   "source": []
  },
  {
   "cell_type": "code",
   "execution_count": null,
   "metadata": {},
   "outputs": [],
   "source": []
  },
  {
   "cell_type": "code",
   "execution_count": null,
   "metadata": {},
   "outputs": [],
   "source": [
    "from scipy.optimize import minimize\n",
    "import numpy as np\n",
    "\n",
    "\n",
    "def energy_function(x):\n",
    "    chi1, chi2, chi3, chi4, chi5 = x\n",
    "    energy = 2.0 * (np.cos(np.deg2rad(3.0 * chi1)) + np.cos(np.deg2rad(3.0 * chi5)))\n",
    "    energy += np.cos(np.deg2rad(3.0 * chi2)) + np.cos(np.deg2rad(3.0 * chi4))\n",
    "    energy += (\n",
    "        3.5 * np.cos(np.deg2rad(2.0 * chi3))\n",
    "        + 0.6 * np.cos(np.deg2rad(3.0 * chi3))\n",
    "        + 10.1\n",
    "    )\n",
    "    return energy\n",
    "\n",
    "\n",
    "initial_guess = [\n",
    "    -60.0,\n",
    "    -60.0,\n",
    "    90.0,\n",
    "    -60.0,\n",
    "    -60.0,\n",
    "]  # initial guess for chi1, chi2, chi3, chi4, chi5\n",
    "result = minimize(energy_function, initial_guess, method=\"Nelder-Mead\")\n",
    "minimum_energy = result.fun\n",
    "inputs = result.x\n",
    "inputs[0]"
   ]
  },
  {
   "cell_type": "code",
   "execution_count": null,
   "metadata": {},
   "outputs": [],
   "source": [
    "best_ss = Disulfide(\"BestDisulfide\")\n",
    "best_ss.build_model(inputs[0], inputs[1], inputs[2], inputs[3], inputs[4])\n",
    "best_ss.pprint()"
   ]
  },
  {
   "cell_type": "code",
   "execution_count": null,
   "metadata": {},
   "outputs": [],
   "source": []
  }
 ],
 "metadata": {
  "kernelspec": {
   "display_name": "ppydev (0.99.2.dev0)",
   "language": "python",
   "name": "ppydev"
  },
  "language_info": {
   "codemirror_mode": {
    "name": "ipython",
    "version": 3
   },
   "file_extension": ".py",
   "mimetype": "text/x-python",
   "name": "python",
   "nbconvert_exporter": "python",
   "pygments_lexer": "ipython3",
   "version": "3.12.9"
  }
 },
 "nbformat": 4,
 "nbformat_minor": 2
}
