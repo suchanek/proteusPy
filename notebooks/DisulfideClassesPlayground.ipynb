{
 "cells": [
  {
   "cell_type": "code",
   "execution_count": null,
   "metadata": {},
   "outputs": [],
   "source": [
    "# DisulfideBond Class Analysis Dictionary creation\n",
    "# Author: Eric G. Suchanek, PhD.\n",
    "# (c) 2023 Eric G. Suchanek, PhD., All Rights Reserved\n",
    "# License: MIT\n",
    "# Last Modification: 2/18/23\n",
    "# Cα Cβ Sγ\n",
    "\n",
    "import pandas as pd\n",
    "import numpy\n",
    "\n",
    "import pyvista as pv\n",
    "from pyvista import set_plot_theme\n",
    "\n",
    "from Bio.PDB import *\n",
    "\n",
    "# for using from the repo we \n",
    "import proteusPy\n",
    "from proteusPy import *\n",
    "\n",
    "from proteusPy.data import *\n",
    "from proteusPy.Disulfide import *\n",
    "from proteusPy.DisulfideList import DisulfideList, load_disulfides_from_id\n",
    "from proteusPy.utility import print_memory_used\n",
    "\n",
    "# pyvista setup for notebooks\n",
    "pv.set_jupyter_backend('trame')\n",
    "#set_plot_theme('dark')\n",
    "\n",
    "print_memory_used()\n",
    "class_filename = f'{DATA_DIR}SS_consensus_class32.pkl'\n",
    "\n",
    "PDB_SS = Load_PDB_SS(verbose=True, subset=False)\n",
    "PDB_SS.describe()"
   ]
  },
  {
   "cell_type": "code",
   "execution_count": 10,
   "metadata": {},
   "outputs": [],
   "source": [
    "from proteusPy.data import DATA_DIR\n",
    "\n",
    "class_filename = f'{DATA_DIR}SS_consensus_class32.pkl'\n",
    "ss_examplars = DisulfideList([],'tmp')\n",
    "with open(class_filename, 'rb') as f:\n",
    "    ss_examplars = pickle.load(f)\n",
    "\n",
    "ss_examplars.pdb_id = '.'"
   ]
  },
  {
   "cell_type": "code",
   "execution_count": null,
   "metadata": {},
   "outputs": [],
   "source": [
    "ss_examplars.display(style='sb', light=False)"
   ]
  },
  {
   "cell_type": "code",
   "execution_count": null,
   "metadata": {},
   "outputs": [],
   "source": [
    "def sslist_from_classid(classid: str, loader: DisulfideLoader, classdict: dict) -> DisulfideList:\n",
    "    res = DisulfideList([], 'tmp')\n",
    "    \n",
    "    try:\n",
    "        sslist = classdict[classid]\n",
    "        res = DisulfideList([loader[ssid] for ssid in sslist], 'classid')\n",
    "        return res\n",
    "    except KeyError:\n",
    "        print(f'No class: {classid}')\n",
    "\n",
    "def list_classes(ssdict):\n",
    "    for k,v in enumerate(ssdict):\n",
    "        print(f'Class: |{k}|, |{v}|')\n"
   ]
  },
  {
   "cell_type": "code",
   "execution_count": null,
   "metadata": {},
   "outputs": [],
   "source": [
    "list_classes(class_dict)"
   ]
  },
  {
   "cell_type": "code",
   "execution_count": null,
   "metadata": {},
   "outputs": [],
   "source": [
    "v1 = class_dict['+/-RHHook catalytic']\n",
    "len(v1)"
   ]
  },
  {
   "cell_type": "code",
   "execution_count": null,
   "metadata": {},
   "outputs": [],
   "source": [
    "print_memory_used()"
   ]
  },
  {
   "cell_type": "code",
   "execution_count": null,
   "metadata": {},
   "outputs": [],
   "source": [
    "RHStaple"
   ]
  },
  {
   "cell_type": "code",
   "execution_count": null,
   "metadata": {},
   "outputs": [],
   "source": [
    "sslist = class_dict['-LHSpiral']"
   ]
  },
  {
   "cell_type": "code",
   "execution_count": null,
   "metadata": {},
   "outputs": [],
   "source": [
    "sslist"
   ]
  },
  {
   "cell_type": "code",
   "execution_count": null,
   "metadata": {},
   "outputs": [],
   "source": []
  }
 ],
 "metadata": {
  "kernelspec": {
   "display_name": "proteus",
   "language": "python",
   "name": "python3"
  },
  "language_info": {
   "codemirror_mode": {
    "name": "ipython",
    "version": 3
   },
   "file_extension": ".py",
   "mimetype": "text/x-python",
   "name": "python",
   "nbconvert_exporter": "python",
   "pygments_lexer": "ipython3",
   "version": "3.9.15"
  },
  "orig_nbformat": 4,
  "vscode": {
   "interpreter": {
    "hash": "67eff1aa11768869f1d52cc83ff6f6101b62fd1ade35be784bd3767ddc8bd460"
   }
  }
 },
 "nbformat": 4,
 "nbformat_minor": 2
}
