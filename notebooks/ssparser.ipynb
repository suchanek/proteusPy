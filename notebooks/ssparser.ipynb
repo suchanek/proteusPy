{
 "cells": [
  {
   "cell_type": "code",
   "execution_count": null,
   "metadata": {},
   "outputs": [],
   "source": [
    "import os\n",
    "from proteusPy import (\n",
    "    DisulfideList,\n",
    "    Disulfide,\n",
    "    Load_PDB_SS,\n",
    "    load_disulfides_from_id,\n",
    "    prune_extra_ss,\n",
    "    check_header_from_file,\n",
    ")\n",
    "\n",
    "from proteusPy.logger_config import get_logger\n",
    "from proteusPy import (\n",
    "    extract_ssbonds_and_atoms,\n",
    "    print_disulfide_bond_info_dict,\n",
    "    get_residue_atoms_coordinates,\n",
    "    Initialize_Disulfide_From_Coords,\n",
    "    get_phipsi_atoms_coordinates,\n",
    ")\n",
    "\n",
    "from proteusPy import calc_angle, calc_dihedral\n",
    "import numpy as np\n",
    "\n",
    "\n",
    "_logger = get_logger(\"testing\")\n",
    "# Set the default logger level to CRITICAL\n",
    "import logging\n",
    "\n",
    "logging.basicConfig(level=logging.CRITICAL)"
   ]
  },
  {
   "cell_type": "code",
   "execution_count": null,
   "metadata": {},
   "outputs": [],
   "source": [
    "PDB_SS = Load_PDB_SS(verbose=True, subset=False)\n",
    "PDB_SS.describe()"
   ]
  },
  {
   "cell_type": "code",
   "execution_count": null,
   "metadata": {},
   "outputs": [],
   "source": [
    "pdb_id = \"5rsa\"\n",
    "pdb_dir = \"/Users/egs/PDB/good\"\n",
    "structure_fname = os.path.join(pdb_dir, f\"pdb{pdb_id}.ent\")\n",
    "resolution = -1.0\n",
    "verbose = False\n",
    "# model = structure[model_numb]\n",
    "\n",
    "print(f\"-> load_disulfide_from_id() - Parsing structure: {pdb_id}:\")\n",
    "\n",
    "SSList = DisulfideList([], pdb_id, resolution)\n",
    "\n",
    "ssbond_atom_list, num_ssbonds, errors = extract_ssbonds_and_atoms(\n",
    "    structure_fname, verbose=verbose, dbg=False\n",
    ")\n",
    "print_disulfide_bond_info_dict(ssbond_atom_list)\n",
    "coords = get_residue_atoms_coordinates(ssbond_atom_list, \"A\", 26)"
   ]
  },
  {
   "cell_type": "code",
   "execution_count": null,
   "metadata": {},
   "outputs": [],
   "source": [
    "phipsi1 = get_phipsi_atoms_coordinates(ssbond_atom_list, \"A\", \"proximal-1\")\n",
    "phipsi2 = get_phipsi_atoms_coordinates(ssbond_atom_list, \"A\", \"proximal+1\")"
   ]
  },
  {
   "cell_type": "code",
   "execution_count": null,
   "metadata": {},
   "outputs": [],
   "source": [
    "print(f\"phipsi1: {phipsi1}\")\n",
    "print(f\"phipsi2: {phipsi2}\")\n"
   ]
  },
  {
   "cell_type": "code",
   "execution_count": 7,
   "metadata": {},
   "outputs": [
    {
     "data": {
      "text/plain": [
       "<Disulfide 5rsa_26A_84A, Source: 5rsa, Resolution: -1.0 Å>"
      ]
     },
     "execution_count": 7,
     "metadata": {},
     "output_type": "execute_result"
    }
   ],
   "source": [
    "pdb_id = \"5rsa\"\n",
    "pdb_dir = \"/Users/egs/PDB/good\"\n",
    "structure_fname = os.path.join(pdb_dir, f\"pdb{pdb_id}.ent\")\n",
    "resolution = -1.0\n",
    "verbose = False\n",
    "\n",
    "sslist = Initialize_Disulfide_From_Coords(\n",
    "    ssbond_atom_list, pdb_id, \"A\", \"A\", \"26\", \"84\", -1.0, verbose=True\n",
    ")\n",
    "sslist"
   ]
  },
  {
   "cell_type": "code",
   "execution_count": 9,
   "metadata": {},
   "outputs": [
    {
     "name": "stdout",
     "output_type": "stream",
     "text": [
      "-> load_disulfide_from_id() - Parsing structure: 5rsa:\n",
      "-> load_disulfides_from_id(): 5rsa has 4 SSBonds, found: 0 errors\n"
     ]
    },
    {
     "data": {
      "text/plain": [
       "DisulfideList([<Disulfide 5rsa_26A_84A, Source: 5rsa, Resolution: -1.0 Å>,\n",
       "               <Disulfide 5rsa_40A_95A, Source: 5rsa, Resolution: -1.0 Å>,\n",
       "               <Disulfide 5rsa_58A_110A, Source: 5rsa, Resolution: -1.0 Å>,\n",
       "               <Disulfide 5rsa_65A_72A, Source: 5rsa, Resolution: -1.0 Å>])"
      ]
     },
     "execution_count": 9,
     "metadata": {},
     "output_type": "execute_result"
    }
   ],
   "source": [
    "pdb_id = \"5rsa\"\n",
    "pdb_dir = \"/Users/egs/PDB/good\"\n",
    "structure_fname = os.path.join(pdb_dir, f\"pdb{pdb_id}.ent\")\n",
    "resolution = -1.0\n",
    "verbose = False\n",
    "\n",
    "sslist = load_disulfides_from_id(pdb_id, pdb_dir, verbose=True)\n",
    "sslist"
   ]
  },
  {
   "cell_type": "code",
   "execution_count": null,
   "metadata": {},
   "outputs": [],
   "source": [
    "rsass = DisulfideList([], \"5rsa\")\n",
    "rsass = load_disulfides_from_id(\"5rsa\", verbose=True, quiet=True, dbg=True, cutoff=-1.0)\n",
    "print_disulfide_bond_info_dict()"
   ]
  },
  {
   "cell_type": "code",
   "execution_count": null,
   "metadata": {},
   "outputs": [],
   "source": [
    "rsass"
   ]
  },
  {
   "cell_type": "code",
   "execution_count": null,
   "metadata": {},
   "outputs": [],
   "source": []
  }
 ],
 "metadata": {
  "kernelspec": {
   "display_name": "ppydev (0.97.0dev3)",
   "language": "python",
   "name": "ppydev"
  },
  "language_info": {
   "codemirror_mode": {
    "name": "ipython",
    "version": 3
   },
   "file_extension": ".py",
   "mimetype": "text/x-python",
   "name": "python",
   "nbconvert_exporter": "python",
   "pygments_lexer": "ipython3",
   "version": "3.11.7"
  }
 },
 "nbformat": 4,
 "nbformat_minor": 4
}
