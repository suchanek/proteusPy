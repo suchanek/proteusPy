{
 "cells": [
  {
   "cell_type": "code",
   "execution_count": 4,
   "metadata": {},
   "outputs": [],
   "source": [
    "import os\n",
    "from proteusPy import (\n",
    "    DisulfideList,\n",
    "    Disulfide,\n",
    "    Load_PDB_SS,\n",
    "    load_disulfides_from_id,\n",
    "    remove_duplicate_ss,\n",
    ")\n",
    "\n",
    "\n",
    "from proteusPy.logger_config import get_logger, set_logger_level\n",
    "from proteusPy import (\n",
    "    extract_ssbonds_and_atoms,\n",
    "    print_disulfide_bond_info_dict,\n",
    "    get_residue_atoms_coordinates,\n",
    "    Initialize_Disulfide_From_Coords,\n",
    "    get_phipsi_atoms_coordinates,\n",
    "    check_file,\n",
    ")\n",
    "\n",
    "from proteusPy import calc_angle, calc_dihedral\n",
    "import numpy as np\n",
    "\n",
    "import logging\n",
    "\n",
    "_logger = get_logger(\"testing\")\n",
    "_logger.setLevel(logging.WARNING)"
   ]
  },
  {
   "cell_type": "code",
   "execution_count": 5,
   "metadata": {},
   "outputs": [
    {
     "name": "stderr",
     "output_type": "stream",
     "text": [
      "ERROR:testing:This is an error message\n",
      "WARNING:testing:This is an error message\n"
     ]
    }
   ],
   "source": [
    "_logger.error(\"This is an error message\")\n",
    "_logger.warning(\"This is an error message\")"
   ]
  },
  {
   "cell_type": "code",
   "execution_count": null,
   "metadata": {},
   "outputs": [],
   "source": []
  },
  {
   "cell_type": "code",
   "execution_count": null,
   "metadata": {},
   "outputs": [],
   "source": [
    "logging.basicConfig(level=logging.CRITICAL + 100)\n",
    "logging.getLogger().disabled = True\n",
    "_logger.disabled = False\n",
    "_logger.error(\"This is an error message\")"
   ]
  },
  {
   "cell_type": "code",
   "execution_count": null,
   "metadata": {},
   "outputs": [],
   "source": [
    "import logging\n",
    "\n",
    "# Disable the root logger\n",
    "logging.getLogger().disabled = True\n",
    "\n",
    "# Configure the specific logger\n",
    "_logger = logging.getLogger(\"specific_logger\")\n",
    "_logger.setLevel(logging.ERROR)\n",
    "\n",
    "# Check if the logger already has handlers to avoid adding multiple handlers\n",
    "if not _logger.hasHandlers():\n",
    "    handler = logging.StreamHandler()\n",
    "    formatter = logging.Formatter(\n",
    "        \"%(asctime)s - %(name)s - %(levelname)s - %(message)s\"\n",
    "    )\n",
    "    handler.setFormatter(formatter)\n",
    "    _logger.addHandler(handler)\n",
    "\n",
    "# Enable the specific logger\n",
    "_logger.disabled = False\n",
    "\n",
    "# Log an error message\n",
    "_logger.error(\"This is an error message\")"
   ]
  },
  {
   "cell_type": "code",
   "execution_count": null,
   "metadata": {},
   "outputs": [],
   "source": [
    "PDB_SS = Load_PDB_SS(verbose=True, subset=False)\n",
    "PDB_SS.describe()"
   ]
  },
  {
   "cell_type": "code",
   "execution_count": null,
   "metadata": {},
   "outputs": [],
   "source": [
    "pdb_id = \"4pdg\"\n",
    "pdb_dir = \"/Users/egs/PDB/good\"\n",
    "structure_fname = os.path.join(pdb_dir, f\"pdb{pdb_id}.ent\")\n",
    "resolution = -1.0\n",
    "verbose = False\n",
    "ssbond_dict, found, errors = extract_ssbonds_and_atoms(\n",
    "    structure_fname, verbose=verbose, dbg=False\n",
    ")\n",
    "print(f\"found: {found}, errors: {errors}\")\n",
    "sslist = load_disulfides_from_id(pdb_id, pdb_dir, verbose=False)\n",
    "sslist"
   ]
  },
  {
   "cell_type": "code",
   "execution_count": null,
   "metadata": {},
   "outputs": [],
   "source": [
    "found, errors = check_file(structure_fname, verbose=False, dbg=False)\n",
    "print(f\"found: {found}, errors: {errors}\")"
   ]
  },
  {
   "cell_type": "code",
   "execution_count": null,
   "metadata": {},
   "outputs": [],
   "source": [
    "rsass = DisulfideList([], \"5rsa\")\n",
    "rsass = load_disulfides_from_id(\n",
    "    \"5rsa\",\n",
    "    verbose=True,\n",
    "    quiet=True,\n",
    "    dbg=False,\n",
    "    pdb_dir=\"/users/egs/PDB/good\",\n",
    "    cutoff=-1.0,\n",
    ")\n",
    "rsass"
   ]
  },
  {
   "cell_type": "code",
   "execution_count": null,
   "metadata": {},
   "outputs": [],
   "source": [
    "pdb_id = \"6mp5\"\n",
    "pdb_dir = \"/Users/egs/PDB\"\n",
    "structure_fname = os.path.join(pdb_dir, f\"pdb{pdb_id}.ent\")\n",
    "errors = 0\n",
    "num_ssbonds = 0\n",
    "ssbond_dict = {}\n",
    "\n",
    "mp5ss = DisulfideList([], \"2qri\")\n",
    "mp5ss = load_disulfides_from_id(\n",
    "    \"2qri\", verbose=True, quiet=True, dbg=False, cutoff=-1.0, pdb_dir=pdb_dir\n",
    ")\n",
    "\n",
    "# newss = remove_duplicate_ss(mp5ss)\n",
    "# newss"
   ]
  },
  {
   "cell_type": "code",
   "execution_count": null,
   "metadata": {},
   "outputs": [],
   "source": [
    "pdb_id = \"2qri\"\n",
    "pdb_dir = \"/Users/egs/PDB\"\n",
    "structure_fname = os.path.join(pdb_dir, f\"pdb{pdb_id}.ent\")\n",
    "resolution = -1.0\n",
    "verbose = False\n",
    "\n",
    "print(f\"-> load_disulfide_from_id() - Parsing structure: {pdb_id}:\")\n",
    "\n",
    "SSList = DisulfideList([], pdb_id, resolution)\n",
    "\n",
    "ssbond_atom_list, num_ssbonds, errors = extract_ssbonds_and_atoms(\n",
    "    structure_fname, verbose=verbose, dbg=False\n",
    ")\n",
    "print_disulfide_bond_info_dict(ssbond_atom_list)"
   ]
  },
  {
   "cell_type": "code",
   "execution_count": null,
   "metadata": {},
   "outputs": [],
   "source": []
  }
 ],
 "metadata": {
  "kernelspec": {
   "display_name": "ppydev (0.97.0dev4)",
   "language": "python",
   "name": "ppydev"
  },
  "language_info": {
   "codemirror_mode": {
    "name": "ipython",
    "version": 3
   },
   "file_extension": ".py",
   "mimetype": "text/x-python",
   "name": "python",
   "nbconvert_exporter": "python",
   "pygments_lexer": "ipython3",
   "version": "3.11.7"
  }
 },
 "nbformat": 4,
 "nbformat_minor": 4
}
